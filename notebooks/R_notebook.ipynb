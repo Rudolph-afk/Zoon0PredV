{
 "cells": [
  {
   "cell_type": "code",
   "execution_count": 1,
   "id": "b3b9a625-8780-45bf-a071-18a2062eee0d",
   "metadata": {},
   "outputs": [],
   "source": [
    "library(protr)"
   ]
  },
  {
   "cell_type": "code",
   "execution_count": 2,
   "id": "60d77310-73c4-4c0d-b77d-a57211f621cf",
   "metadata": {},
   "outputs": [
    {
     "name": "stderr",
     "output_type": "stream",
     "text": [
      "Loading required package: iterators\n",
      "\n",
      "Loading required package: parallel\n",
      "\n"
     ]
    }
   ],
   "source": [
    "library(foreach)\n",
    "library(doParallel)"
   ]
  },
  {
   "cell_type": "code",
   "execution_count": 3,
   "id": "50b97d6b-b61b-4941-8c7a-93dbf5b6a9da",
   "metadata": {},
   "outputs": [],
   "source": [
    "library(stringr)"
   ]
  },
  {
   "cell_type": "code",
   "execution_count": 4,
   "id": "26fd37ce-2469-4f8c-9d07-91b69352e641",
   "metadata": {},
   "outputs": [],
   "source": [
    "registerDoParallel(cores=8)"
   ]
  },
  {
   "cell_type": "code",
   "execution_count": 5,
   "id": "11249afb-5c49-4bfa-881d-99e86c5f23e1",
   "metadata": {},
   "outputs": [],
   "source": [
    "v.seq <- readFASTA('..//data//DNA-MetazoaZoonosisData/DNA-MetazoaZoonosisSequences.fasta')"
   ]
  },
  {
   "cell_type": "code",
   "execution_count": 6,
   "id": "fdbbd589-e55e-4bab-adaf-5a6b060dc50a",
   "metadata": {},
   "outputs": [
    {
     "data": {
      "text/html": [
       "31528"
      ],
      "text/latex": [
       "31528"
      ],
      "text/markdown": [
       "31528"
      ],
      "text/plain": [
       "[1] 31528"
      ]
     },
     "metadata": {},
     "output_type": "display_data"
    }
   ],
   "source": [
    "length(v.seq)"
   ]
  },
  {
   "cell_type": "code",
   "execution_count": 7,
   "id": "f650ff0b-562f-40b1-93ae-e621df09e459",
   "metadata": {},
   "outputs": [
    {
     "data": {
      "text/html": [
       "<strong>$`human-true|A0A023HHF7|Major`</strong> = 'MQVTFIYILVITCYENDVNVYHIFFQMSLWLPSEATVYLPPVPVSKVVSTDEYVARTNIYYHAGTSRLLAVGHPYFPIKKPNNNKILVPKVSGLQYRVFRIHLPDPNKFGFPDTSFYNPDTQRLVWACVGVEVGRGQPLGVGISGHPLLNKLDDTENASAYAANAGVDNRECISMDYKQTQLCLIGCKPPIGEHWGKGSTCTNVAVNPGDCPPLELINTVIQDGDMVDTGFGAMDFTTLQANKSEVPLDICTSICKYPDYIKMVSEPYGDSLFFYLRREQMFVRHLFNRAGAVGENVPDDLYIKGSGSTANLASSNYFPTPSGSMVTSDAQIFNKPYWLQRAQGHNNGICWGNQLFVTVVDTTRSTNMSLCAAISTSETTYKNTNFKEYLRHGEEYDLQFIFQLCKITLTADVMTYIHSMNSTILEDWNFGLQPPPGGTLEDTYRFVTSQAIACQKHTPPAPKEDPLKKYTFWEVNLKEKFSADLDQFPLGRKFLLQAGLKAKPKFTLGKRKATPTTSSTSTTAKRKKRKL'"
      ],
      "text/latex": [
       "\\textbf{\\$`human-true\\textbar{}A0A023HHF7\\textbar{}Major`} = 'MQVTFIYILVITCYENDVNVYHIFFQMSLWLPSEATVYLPPVPVSKVVSTDEYVARTNIYYHAGTSRLLAVGHPYFPIKKPNNNKILVPKVSGLQYRVFRIHLPDPNKFGFPDTSFYNPDTQRLVWACVGVEVGRGQPLGVGISGHPLLNKLDDTENASAYAANAGVDNRECISMDYKQTQLCLIGCKPPIGEHWGKGSTCTNVAVNPGDCPPLELINTVIQDGDMVDTGFGAMDFTTLQANKSEVPLDICTSICKYPDYIKMVSEPYGDSLFFYLRREQMFVRHLFNRAGAVGENVPDDLYIKGSGSTANLASSNYFPTPSGSMVTSDAQIFNKPYWLQRAQGHNNGICWGNQLFVTVVDTTRSTNMSLCAAISTSETTYKNTNFKEYLRHGEEYDLQFIFQLCKITLTADVMTYIHSMNSTILEDWNFGLQPPPGGTLEDTYRFVTSQAIACQKHTPPAPKEDPLKKYTFWEVNLKEKFSADLDQFPLGRKFLLQAGLKAKPKFTLGKRKATPTTSSTSTTAKRKKRKL'"
      ],
      "text/markdown": [
       "**$`human-true|A0A023HHF7|Major`** = 'MQVTFIYILVITCYENDVNVYHIFFQMSLWLPSEATVYLPPVPVSKVVSTDEYVARTNIYYHAGTSRLLAVGHPYFPIKKPNNNKILVPKVSGLQYRVFRIHLPDPNKFGFPDTSFYNPDTQRLVWACVGVEVGRGQPLGVGISGHPLLNKLDDTENASAYAANAGVDNRECISMDYKQTQLCLIGCKPPIGEHWGKGSTCTNVAVNPGDCPPLELINTVIQDGDMVDTGFGAMDFTTLQANKSEVPLDICTSICKYPDYIKMVSEPYGDSLFFYLRREQMFVRHLFNRAGAVGENVPDDLYIKGSGSTANLASSNYFPTPSGSMVTSDAQIFNKPYWLQRAQGHNNGICWGNQLFVTVVDTTRSTNMSLCAAISTSETTYKNTNFKEYLRHGEEYDLQFIFQLCKITLTADVMTYIHSMNSTILEDWNFGLQPPPGGTLEDTYRFVTSQAIACQKHTPPAPKEDPLKKYTFWEVNLKEKFSADLDQFPLGRKFLLQAGLKAKPKFTLGKRKATPTTSSTSTTAKRKKRKL'"
      ],
      "text/plain": [
       "$`human-true|A0A023HHF7|Major`\n",
       "[1] \"MQVTFIYILVITCYENDVNVYHIFFQMSLWLPSEATVYLPPVPVSKVVSTDEYVARTNIYYHAGTSRLLAVGHPYFPIKKPNNNKILVPKVSGLQYRVFRIHLPDPNKFGFPDTSFYNPDTQRLVWACVGVEVGRGQPLGVGISGHPLLNKLDDTENASAYAANAGVDNRECISMDYKQTQLCLIGCKPPIGEHWGKGSTCTNVAVNPGDCPPLELINTVIQDGDMVDTGFGAMDFTTLQANKSEVPLDICTSICKYPDYIKMVSEPYGDSLFFYLRREQMFVRHLFNRAGAVGENVPDDLYIKGSGSTANLASSNYFPTPSGSMVTSDAQIFNKPYWLQRAQGHNNGICWGNQLFVTVVDTTRSTNMSLCAAISTSETTYKNTNFKEYLRHGEEYDLQFIFQLCKITLTADVMTYIHSMNSTILEDWNFGLQPPPGGTLEDTYRFVTSQAIACQKHTPPAPKEDPLKKYTFWEVNLKEKFSADLDQFPLGRKFLLQAGLKAKPKFTLGKRKATPTTSSTSTTAKRKKRKL\"\n"
      ]
     },
     "metadata": {},
     "output_type": "display_data"
    }
   ],
   "source": [
    "v.seq[1]"
   ]
  },
  {
   "cell_type": "code",
   "execution_count": 8,
   "id": "dee35548-4303-4cdb-9721-5bb4bcdce3eb",
   "metadata": {},
   "outputs": [],
   "source": [
    "v.seq = unlist(v.seq)"
   ]
  },
  {
   "cell_type": "code",
   "execution_count": 9,
   "id": "f24d0487-d54f-420f-b9b8-dafa16ec3c86",
   "metadata": {},
   "outputs": [
    {
     "data": {
      "text/html": [
       "<strong>human-true|A0A023HHF7|Major:</strong> 'MQVTFIYILVITCYENDVNVYHIFFQMSLWLPSEATVYLPPVPVSKVVSTDEYVARTNIYYHAGTSRLLAVGHPYFPIKKPNNNKILVPKVSGLQYRVFRIHLPDPNKFGFPDTSFYNPDTQRLVWACVGVEVGRGQPLGVGISGHPLLNKLDDTENASAYAANAGVDNRECISMDYKQTQLCLIGCKPPIGEHWGKGSTCTNVAVNPGDCPPLELINTVIQDGDMVDTGFGAMDFTTLQANKSEVPLDICTSICKYPDYIKMVSEPYGDSLFFYLRREQMFVRHLFNRAGAVGENVPDDLYIKGSGSTANLASSNYFPTPSGSMVTSDAQIFNKPYWLQRAQGHNNGICWGNQLFVTVVDTTRSTNMSLCAAISTSETTYKNTNFKEYLRHGEEYDLQFIFQLCKITLTADVMTYIHSMNSTILEDWNFGLQPPPGGTLEDTYRFVTSQAIACQKHTPPAPKEDPLKKYTFWEVNLKEKFSADLDQFPLGRKFLLQAGLKAKPKFTLGKRKATPTTSSTSTTAKRKKRKL'"
      ],
      "text/latex": [
       "\\textbf{human-true\\textbackslash{}textbar\\{\\}A0A023HHF7\\textbackslash{}textbar\\{\\}Major:} 'MQVTFIYILVITCYENDVNVYHIFFQMSLWLPSEATVYLPPVPVSKVVSTDEYVARTNIYYHAGTSRLLAVGHPYFPIKKPNNNKILVPKVSGLQYRVFRIHLPDPNKFGFPDTSFYNPDTQRLVWACVGVEVGRGQPLGVGISGHPLLNKLDDTENASAYAANAGVDNRECISMDYKQTQLCLIGCKPPIGEHWGKGSTCTNVAVNPGDCPPLELINTVIQDGDMVDTGFGAMDFTTLQANKSEVPLDICTSICKYPDYIKMVSEPYGDSLFFYLRREQMFVRHLFNRAGAVGENVPDDLYIKGSGSTANLASSNYFPTPSGSMVTSDAQIFNKPYWLQRAQGHNNGICWGNQLFVTVVDTTRSTNMSLCAAISTSETTYKNTNFKEYLRHGEEYDLQFIFQLCKITLTADVMTYIHSMNSTILEDWNFGLQPPPGGTLEDTYRFVTSQAIACQKHTPPAPKEDPLKKYTFWEVNLKEKFSADLDQFPLGRKFLLQAGLKAKPKFTLGKRKATPTTSSTSTTAKRKKRKL'"
      ],
      "text/markdown": [
       "**human-true|A0A023HHF7|Major:** 'MQVTFIYILVITCYENDVNVYHIFFQMSLWLPSEATVYLPPVPVSKVVSTDEYVARTNIYYHAGTSRLLAVGHPYFPIKKPNNNKILVPKVSGLQYRVFRIHLPDPNKFGFPDTSFYNPDTQRLVWACVGVEVGRGQPLGVGISGHPLLNKLDDTENASAYAANAGVDNRECISMDYKQTQLCLIGCKPPIGEHWGKGSTCTNVAVNPGDCPPLELINTVIQDGDMVDTGFGAMDFTTLQANKSEVPLDICTSICKYPDYIKMVSEPYGDSLFFYLRREQMFVRHLFNRAGAVGENVPDDLYIKGSGSTANLASSNYFPTPSGSMVTSDAQIFNKPYWLQRAQGHNNGICWGNQLFVTVVDTTRSTNMSLCAAISTSETTYKNTNFKEYLRHGEEYDLQFIFQLCKITLTADVMTYIHSMNSTILEDWNFGLQPPPGGTLEDTYRFVTSQAIACQKHTPPAPKEDPLKKYTFWEVNLKEKFSADLDQFPLGRKFLLQAGLKAKPKFTLGKRKATPTTSSTSTTAKRKKRKL'"
      ],
      "text/plain": [
       "                                                                                                                                                                                                                                                                                                                                                                                                                                                                                                                          human-true|A0A023HHF7|Major \n",
       "\"MQVTFIYILVITCYENDVNVYHIFFQMSLWLPSEATVYLPPVPVSKVVSTDEYVARTNIYYHAGTSRLLAVGHPYFPIKKPNNNKILVPKVSGLQYRVFRIHLPDPNKFGFPDTSFYNPDTQRLVWACVGVEVGRGQPLGVGISGHPLLNKLDDTENASAYAANAGVDNRECISMDYKQTQLCLIGCKPPIGEHWGKGSTCTNVAVNPGDCPPLELINTVIQDGDMVDTGFGAMDFTTLQANKSEVPLDICTSICKYPDYIKMVSEPYGDSLFFYLRREQMFVRHLFNRAGAVGENVPDDLYIKGSGSTANLASSNYFPTPSGSMVTSDAQIFNKPYWLQRAQGHNNGICWGNQLFVTVVDTTRSTNMSLCAAISTSETTYKNTNFKEYLRHGEEYDLQFIFQLCKITLTADVMTYIHSMNSTILEDWNFGLQPPPGGTLEDTYRFVTSQAIACQKHTPPAPKEDPLKKYTFWEVNLKEKFSADLDQFPLGRKFLLQAGLKAKPKFTLGKRKATPTTSSTSTTAKRKKRKL\" "
      ]
     },
     "metadata": {},
     "output_type": "display_data"
    }
   ],
   "source": [
    "v.seq[1]"
   ]
  },
  {
   "cell_type": "code",
   "execution_count": 10,
   "id": "17caf2a0-7d24-4163-a0be-4e8c2e8bca55",
   "metadata": {},
   "outputs": [],
   "source": [
    "library(kaos)"
   ]
  },
  {
   "cell_type": "code",
   "execution_count": 41,
   "id": "99c149e6-ce94-446c-9235-d51c523fc97e",
   "metadata": {},
   "outputs": [],
   "source": [
    "chaos_game_representation = function (x) {\n",
    "  chaos.obj = cgr(str_split(x, '', simplify = T))\n",
    "  chaos.plot = cgr.plot(chaos.obj, mode = \"matrix\", corners=T, labels=T)\n",
    "  return(chaos.plot)\n",
    "}"
   ]
  },
  {
   "cell_type": "code",
   "execution_count": 43,
   "id": "f7be2e6a-af93-4ea6-946d-2e19fa8d3b61",
   "metadata": {},
   "outputs": [
    {
     "data": {
      "text/html": [
       "<strong>png:</strong> 2"
      ],
      "text/latex": [
       "\\textbf{png:} 2"
      ],
      "text/markdown": [
       "**png:** 2"
      ],
      "text/plain": [
       "png \n",
       "  2 "
      ]
     },
     "metadata": {},
     "output_type": "display_data"
    }
   ],
   "source": [
    "jpeg('major_capsid.jpg', height = 96, width = 96)\n",
    "print(chaos_game_representation(v.seq[1]))\n",
    "dev.off()"
   ]
  },
  {
   "cell_type": "code",
   "execution_count": 64,
   "id": "8f5684aa-1f27-4d14-ba9f-ba8d28219cf0",
   "metadata": {},
   "outputs": [],
   "source": [
    "# tail(cgr(str_split(v.seq[4], '', simplify = T), res = 96)$matrix)"
   ]
  },
  {
   "cell_type": "code",
   "execution_count": 55,
   "id": "e65bf111-ed6c-4998-981b-5bcad42a77b8",
   "metadata": {},
   "outputs": [
    {
     "ename": "ERROR",
     "evalue": "Error in library(BioMedR): there is no package called ‘BioMedR’\n",
     "output_type": "error",
     "traceback": [
      "Error in library(BioMedR): there is no package called ‘BioMedR’\nTraceback:\n",
      "1. library(BioMedR)"
     ]
    }
   ],
   "source": [
    "library(BioMedR)"
   ]
  },
  {
   "cell_type": "code",
   "execution_count": 69,
   "id": "24e34b05-8b42-4eed-8d97-37eb3509815c",
   "metadata": {},
   "outputs": [
    {
     "ename": "ERROR",
     "evalue": "Error in extractAPAAC(v.seq[18]): x has unrecognized amino acid type\n",
     "output_type": "error",
     "traceback": [
      "Error in extractAPAAC(v.seq[18]): x has unrecognized amino acid type\nTraceback:\n",
      "1. tryCatch({\n .     extractAPAAC(v.seq[18])\n . }, error = function(e) {\n .     str_replace_all(v.seq[18], \"X\", \"G\")\n . }, finally = {\n .     extractAPAAC(v.seq[18])\n . })",
      "2. extractAPAAC(v.seq[18])   # at line 1 of file <text>",
      "3. stop(\"x has unrecognized amino acid type\")"
     ]
    }
   ],
   "source": [
    "tryCatch({extractAPAAC(v.seq[18])}, error = function (e) {str_replace_all(v.seq[18], 'X', 'G')}, finally = {extractAPAAC(v.seq[18])})"
   ]
  },
  {
   "cell_type": "code",
   "execution_count": null,
   "id": "c3efcf03-f9ce-48ec-8cbb-a7aa59d95b8e",
   "metadata": {},
   "outputs": [],
   "source": [
    "str_replace_all(v.seq, 'X', 'G')"
   ]
  },
  {
   "cell_type": "code",
   "execution_count": 76,
   "id": "e7e5b169-4f4c-4240-9226-f099814a48cc",
   "metadata": {},
   "outputs": [
    {
     "ename": "ERROR",
     "evalue": "Error in extractAPAAC(v.seq[18]): x has unrecognized amino acid type\n",
     "output_type": "error",
     "traceback": [
      "Error in extractAPAAC(v.seq[18]): x has unrecognized amino acid type\nTraceback:\n",
      "1. extractAPAAC(v.seq[18])",
      "2. stop(\"x has unrecognized amino acid type\")"
     ]
    }
   ],
   "source": [
    "extractAPAAC(v.seq[18])"
   ]
  },
  {
   "cell_type": "code",
   "execution_count": null,
   "id": "09e90fbd-b568-47f7-94e7-e3b6e83ee5ee",
   "metadata": {},
   "outputs": [],
   "source": []
  }
 ],
 "metadata": {
  "kernelspec": {
   "display_name": "R",
   "language": "R",
   "name": "ir"
  },
  "language_info": {
   "codemirror_mode": "r",
   "file_extension": ".r",
   "mimetype": "text/x-r-source",
   "name": "R",
   "pygments_lexer": "r",
   "version": "4.0.5"
  }
 },
 "nbformat": 4,
 "nbformat_minor": 5
}
