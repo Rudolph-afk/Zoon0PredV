{
 "cells": [
  {
   "cell_type": "code",
   "execution_count": null,
   "id": "3277c181",
   "metadata": {
    "scrolled": true
   },
   "outputs": [],
   "source": [
    "import os\n",
    "# from itertools import cycle\n",
    "import tensorflow as tf\n",
    "from tensorflow.keras.preprocessing.image import ImageDataGenerator, load_img, img_to_array\n",
    "from tensorflow import keras\n",
    "# from tensorflow.keras import backend\n",
    "# from tensorflow.keras import models\n",
    "from tensorflow.keras.metrics import Recall, Precision, BinaryAccuracy, FalsePositives, \\\n",
    "                                    TruePositives, TrueNegatives, FalseNegatives, AUC, Metric\n",
    "import sys\n",
    "sys.path.insert(1, \"../bin/\")\n",
    "from metrics_helper import MatthewsCorrelationCoefficient\n",
    "from model_definition import load_compile_model\n",
    "from test_zoonosis_model import load_test_data\n",
    "# from tensorflow.python.keras.utils import metrics_utils\n",
    "# from tensorflow.python.keras.utils.generic_utils import to_list\n",
    "from tensorflow.keras.utils import plot_model\n",
    "from sklearn.metrics import plot_roc_curve, precision_recall_curve, f1_score, roc_auc_score, \\\n",
    "                            roc_curve, matthews_corrcoef, confusion_matrix, auc\n",
    "import matplotlib.pyplot as plt\n",
    "import seaborn as sns\n",
    "import numpy as np\n",
    "import pandas as pd\n",
    "# import hiplot as hip\n",
    "\n",
    "# import plotly.graph_objects as go\n",
    "# from mlxtend.plotting import plot_confusion_matrix\n",
    "%matplotlib inline\n",
    "\n",
    "# from tf_keras_vis.saliency import Saliency\n",
    "# from tf_keras_vis.scorecam import Scorecam\n",
    "# from tf_keras_vis.gradcam_plus_plus import GradcamPlusPlus"
   ]
  },
  {
   "cell_type": "code",
   "execution_count": null,
   "id": "1dd9e44e",
   "metadata": {},
   "outputs": [],
   "source": [
    "physical_devices = tf.config.experimental.list_physical_devices('GPU')\n",
    "for device in physical_devices:\n",
    "    tf.config.experimental.set_memory_growth(device, enable=True) "
   ]
  },
  {
   "cell_type": "code",
   "execution_count": null,
   "id": "bf187e2e-1547-4620-8c13-1c91c5b74252",
   "metadata": {},
   "outputs": [],
   "source": [
    "physical_devices"
   ]
  },
  {
   "cell_type": "code",
   "execution_count": null,
   "id": "39a9bdea-d4aa-41c0-8c28-a6920c842784",
   "metadata": {},
   "outputs": [],
   "source": [
    "# main_dir = \"/scratch2/users/rserage/\"\n",
    "main_dir = \"/home/rserage/Documents/Masters Project/Docs\"\n",
    "test_dirs = os.listdir(main_dir)\n",
    "\n",
    "test_dirs = [os.path.join(main_dir, fol) for fol in test_dirs]"
   ]
  },
  {
   "cell_type": "code",
   "execution_count": null,
   "id": "6c669bc3-8349-4c12-896d-dcd35de59183",
   "metadata": {},
   "outputs": [],
   "source": [
    "test_dirs = list(filter(lambda x: x.__contains__(\"Zoo\"), test_dirs)) # \"Data\" for dataset\n",
    "\n",
    "test_dirs"
   ]
  },
  {
   "cell_type": "code",
   "execution_count": null,
   "id": "0db94385-f25c-4d6e-9ebe-a34304f8f813",
   "metadata": {},
   "outputs": [],
   "source": [
    "# test_dirs = [\"/scratch3/users/rserage/ZoonosisFull/\"]\n",
    "# model_dirs = [\"/users/rserage/Zoon0PredV/notebooks/\"]"
   ]
  },
  {
   "cell_type": "code",
   "execution_count": null,
   "id": "cc2a7860-1dc6-498e-80bd-cf4553850349",
   "metadata": {},
   "outputs": [],
   "source": [
    "models = [os.path.join(path, 'model') for path in test_dirs]\n",
    "test_data = [os.path.join(path, 'test') for path in test_dirs]\n",
    "\n",
    "models"
   ]
  },
  {
   "cell_type": "code",
   "execution_count": null,
   "id": "1f002b10-90e3-4629-b9d9-02c0cc845444",
   "metadata": {},
   "outputs": [],
   "source": [
    "main = pd.DataFrame()\n",
    "PRS = dict()\n",
    "ROCS = dict()\n",
    "\n",
    "for model_, test_data in zip(models, test_data):\n",
    "    model = load_compile_model(model_)\n",
    "    metrics, PR, ROC = test_model(model, test_data)\n",
    "    main = pd.concat([main, metrics], sort=False)\n",
    "    PRS.update(PR)\n",
    "    ROCS.update(ROC)"
   ]
  },
  {
   "cell_type": "code",
   "execution_count": null,
   "id": "0fab409b-7b73-4451-a6d5-04e3f3b6e064",
   "metadata": {},
   "outputs": [],
   "source": [
    "ROCS"
   ]
  },
  {
   "cell_type": "code",
   "execution_count": null,
   "id": "eee93465-3f17-459d-b848-1ff86913a2b6",
   "metadata": {},
   "outputs": [],
   "source": [
    "main"
   ]
  },
  {
   "cell_type": "code",
   "execution_count": null,
   "id": "2f1ad731-d3c0-4269-a7e8-bd70f59a7369",
   "metadata": {},
   "outputs": [],
   "source": [
    "PRS"
   ]
  },
  {
   "cell_type": "code",
   "execution_count": null,
   "id": "0731947e-5900-4b28-b856-ce7fa4a1553d",
   "metadata": {},
   "outputs": [],
   "source": [
    "ROC_curve(main, ROCS)"
   ]
  },
  {
   "cell_type": "code",
   "execution_count": null,
   "id": "4735c5a7-29dd-4da4-970d-1afb883b8f09",
   "metadata": {},
   "outputs": [],
   "source": [
    "PR_curve(main, PRS)"
   ]
  },
  {
   "cell_type": "code",
   "execution_count": null,
   "id": "64e3d0e6-d175-4854-823c-6d78d10cbdb5",
   "metadata": {},
   "outputs": [],
   "source": [
    "model = load_compile_model(\"/users/rserage/Zoon0PredV/notebooks/model/\")"
   ]
  },
  {
   "cell_type": "code",
   "execution_count": null,
   "id": "f8e1c177-f55b-4d67-b4bf-ddb232b3f16f",
   "metadata": {
    "scrolled": true,
    "tags": []
   },
   "outputs": [],
   "source": [
    "dot_img_file = \"model_1.png\"\n",
    "plot_model(model, to_file=dot_img_file, show_layer_names=False, show_shapes=False)"
   ]
  },
  {
   "cell_type": "code",
   "execution_count": null,
   "id": "045c142b-073e-4c80-a6d5-731596857579",
   "metadata": {},
   "outputs": [],
   "source": [
    "# data = [{\n",
    "#     'epoch': idx,\n",
    "#     'loss': history.history['loss'][idx],\n",
    "#     'val_loss': history.history['val_loss'][idx],\n",
    "#     'accuracy': history.history['accuracy'][idx],\n",
    "#     'val_accuracy': history.history['val_accuracy'][idx],\n",
    "#     'precision': history.history['precision'][idx],\n",
    "#     'val_precision': history.history['val_precision'][idx],\n",
    "#     'recall': history.history['recall'][idx],\n",
    "#     'val_recall': history.history['val_recall'][idx]\n",
    "# } \n",
    "#     for idx in range(0, 10)] \n",
    "df = pd.read_csv('logs.csv')\n",
    "data = df.to_dict('records')\n",
    "\n",
    "hip.Experiment.from_iterable(data).display()"
   ]
  },
  {
   "cell_type": "code",
   "execution_count": null,
   "id": "6e5b0e8f-b487-49c4-91b1-8707a240523b",
   "metadata": {
    "tags": []
   },
   "outputs": [],
   "source": [
    "# test_data_iterator.reset()\n",
    "for _ in range(5):\n",
    "    img, label = test_data_iterator.next()\n",
    "    print(img.shape)   #  (1,256,256,3)\n",
    "    plt.figure(figsize=(12,6))\n",
    "    plt.imshow(img[0], cmap=plt.cm.binary)\n",
    "    # plt.show()\n",
    "    # print(img[0])\n",
    "    break"
   ]
  },
  {
   "cell_type": "code",
   "execution_count": null,
   "id": "b87c72b3-42c3-402d-823e-0f886f2566bf",
   "metadata": {},
   "outputs": [],
   "source": [
    "# model = tf.keras.models.load_model('model', custom_objects={\"MCC\": MatthewsCorrelationCoefficient})\n",
    "# model.summary()"
   ]
  },
  {
   "cell_type": "code",
   "execution_count": null,
   "id": "2eb7bbcb-79a1-4f48-85b6-c4f7ca96b142",
   "metadata": {},
   "outputs": [],
   "source": [
    "img_path = '/scratch3/users/rserage/ZoonosisData/test/human_false_A0A023NBJ1_Autoprotease.png'\n",
    "\n",
    "# img_path = 'testing.png'\n",
    "\n",
    "img = load_img(img_path, target_size=(128, 128), color_mode='grayscale')\n",
    "img_tensor = img_to_array(img)\n",
    "img_tensor = np.expand_dims(img_tensor, axis=0)\n",
    "img_tensor /= 255."
   ]
  },
  {
   "cell_type": "code",
   "execution_count": null,
   "id": "4762e191-b12c-4504-804e-f81febc1bd8f",
   "metadata": {},
   "outputs": [],
   "source": [
    "img_tensor, _ = test_data_iterator.next()"
   ]
  },
  {
   "cell_type": "code",
   "execution_count": null,
   "id": "744f4c6c-aec7-42d2-a86e-3573d8cf6d1c",
   "metadata": {},
   "outputs": [],
   "source": [
    "img_tensor = img_tensor[0]"
   ]
  },
  {
   "cell_type": "code",
   "execution_count": null,
   "id": "7b7dd57c-c2e7-4a7a-84ff-cd6bcfdcd21e",
   "metadata": {},
   "outputs": [],
   "source": [
    "img_tensor = img_tensor.reshape((1,128,128,1))"
   ]
  },
  {
   "cell_type": "code",
   "execution_count": null,
   "id": "8087f448-d38c-4eb0-84a2-bc98d6060bc5",
   "metadata": {},
   "outputs": [],
   "source": [
    "img_tensor.shape"
   ]
  },
  {
   "cell_type": "code",
   "execution_count": null,
   "id": "ed2e7287-257f-4225-a921-06b52486b338",
   "metadata": {},
   "outputs": [],
   "source": [
    "plt.figure(figsize=(12,6))\n",
    "\n",
    "plt.imshow(img_tensor[0], cmap=plt.cm.binary)\n",
    "plt.axis(\"off\")\n",
    "# plt.show()"
   ]
  },
  {
   "cell_type": "code",
   "execution_count": null,
   "id": "421f8bd0-7ff4-44b8-9594-1cd1a7637ebc",
   "metadata": {},
   "outputs": [],
   "source": [
    "model.input"
   ]
  },
  {
   "cell_type": "code",
   "execution_count": null,
   "id": "30216c80-a513-4d32-b67d-43ff9e1d5e38",
   "metadata": {},
   "outputs": [],
   "source": [
    "# Extracts the outputs of the top 8 layers:\n",
    "layer_outputs = [layer.output for layer in model.layers[:]]\n",
    "# Creates a model that will return these outputs, given the model input:\n",
    "activation_model = models.Model(inputs=model.input, outputs=layer_outputs)"
   ]
  },
  {
   "cell_type": "code",
   "execution_count": null,
   "id": "04c41613-163b-4dbe-a396-d3fd0cfac2e8",
   "metadata": {},
   "outputs": [],
   "source": [
    "activations = activation_model.predict(img_tensor)"
   ]
  },
  {
   "cell_type": "code",
   "execution_count": null,
   "id": "8b33e490-9187-4fe2-a5a7-f7750934f41a",
   "metadata": {},
   "outputs": [],
   "source": [
    "first_layer_activation = activations[0]\n",
    "\n",
    "first_layer_activation.shape"
   ]
  },
  {
   "cell_type": "code",
   "execution_count": null,
   "id": "1f9ff086-3653-449e-bc20-fcfe297ece32",
   "metadata": {},
   "outputs": [],
   "source": [
    "plt.figure(figsize=(12,6))\n",
    "\n",
    "plt.matshow(first_layer_activation[0, :, :, 3], cmap='jet')\n",
    "plt.axis(\"off\")\n",
    "# plt.show()"
   ]
  },
  {
   "cell_type": "code",
   "execution_count": null,
   "id": "e396b359-1311-41f6-a87d-ddab6f158353",
   "metadata": {
    "scrolled": true,
    "tags": []
   },
   "outputs": [],
   "source": [
    "activations"
   ]
  },
  {
   "cell_type": "code",
   "execution_count": null,
   "id": "904f90df-b370-40d3-9ea8-b30c4322acc5",
   "metadata": {
    "scrolled": true,
    "tags": []
   },
   "outputs": [],
   "source": [
    "# Names of the layers, so can have them as part of our plot\n",
    "layer_names = [ layer.name for layer in model.layers[:] ]\n",
    "    \n",
    "images_per_row = 16\n",
    "\n",
    "# Display feature maps\n",
    "for layer_name, layer_activation in zip(layer_names[1:-2], activations[1:-2]):\n",
    "    # Number of features in the feature map\n",
    "    n_features = layer_activation.shape[-1]\n",
    "\n",
    "    # The feature map has shape (1, size, size, n_features)\n",
    "    size = layer_activation.shape[1]\n",
    "\n",
    "    # Tile the activation channels matrix\n",
    "    n_cols = n_features // images_per_row\n",
    "    display_grid = np.zeros((size * n_cols, images_per_row * size))\n",
    "\n",
    "    # Tile each filter into horizontal grid\n",
    "    for col in range(n_cols):\n",
    "        for row in range(images_per_row):\n",
    "            channel_image = layer_activation[0, :, :, col * images_per_row + row]\n",
    "            # Post-process the feature to make it visually palatable\n",
    "            channel_image -= channel_image.mean()\n",
    "            channel_image /= channel_image.std()\n",
    "            channel_image *= 64\n",
    "            channel_image += 128\n",
    "            channel_image = np.clip(channel_image, 0, 255).astype('uint8')\n",
    "            display_grid[col * size : (col + 1) * size, row * size : (row + 1) * size] = channel_image\n",
    "\n",
    "    # Display the grid\n",
    "    scale = 1. / size\n",
    "    plt.figure(figsize=(scale * display_grid.shape[1],\n",
    "                        scale * display_grid.shape[0]))\n",
    "    plt.title(layer_name)\n",
    "    plt.grid(False)\n",
    "    plt.imshow(display_grid, aspect='auto', cmap='viridis')\n",
    "    \n",
    "# plt.show()"
   ]
  },
  {
   "cell_type": "code",
   "execution_count": null,
   "id": "19249ab0-3d9e-4e66-aa2f-6ffe9ac87a02",
   "metadata": {},
   "outputs": [],
   "source": [
    "import innvestigate\n",
    "import innvestigate.utils"
   ]
  },
  {
   "cell_type": "code",
   "execution_count": null,
   "id": "1d5c678f-646d-4f15-84f3-d60bf1ad7e55",
   "metadata": {},
   "outputs": [],
   "source": [
    "from attention_mapping import load_samples"
   ]
  },
  {
   "cell_type": "code",
   "execution_count": null,
   "id": "7eeb9be6-52c2-468c-bdcd-e824df969039",
   "metadata": {},
   "outputs": [],
   "source": [
    "base_path = \"../bin/\"\n",
    "list_path_to_images = [\n",
    "    os.path.join(base_path, img_path) \n",
    "    for img_path in \n",
    "    list(\n",
    "        filter(lambda File: File.endswith(\".png\"), os.listdir(base_path))\n",
    "    )\n",
    "]\n",
    "list_path_to_images"
   ]
  },
  {
   "cell_type": "code",
   "execution_count": null,
   "id": "dd3ddf4b-b1ad-427b-be1f-a8f653ebceb1",
   "metadata": {},
   "outputs": [],
   "source": [
    "images, X = load_samples(list_path_to_images)"
   ]
  },
  {
   "cell_type": "code",
   "execution_count": null,
   "id": "336a65d3-ade6-4272-bf40-eb71bcb6b6b7",
   "metadata": {},
   "outputs": [],
   "source": [
    "model = load_compile_model('../model.pkl')"
   ]
  },
  {
   "cell_type": "code",
   "execution_count": null,
   "id": "f21aea3c-57f2-404b-a1ce-82e6d9057bdf",
   "metadata": {},
   "outputs": [],
   "source": [
    "X.shape"
   ]
  },
  {
   "cell_type": "code",
   "execution_count": null,
   "id": "2ba678d4-c3e5-48f3-81ff-53ccd32912b9",
   "metadata": {},
   "outputs": [],
   "source": [
    "model.predict(X).tolist()"
   ]
  },
  {
   "cell_type": "code",
   "execution_count": null,
   "id": "3af44aa2-6bd9-4d4f-a9cf-b5189e1de5f1",
   "metadata": {},
   "outputs": [],
   "source": []
  },
  {
   "cell_type": "code",
   "execution_count": null,
   "id": "85743a2b-571e-421f-be00-c7351f601e7e",
   "metadata": {},
   "outputs": [],
   "source": [
    "df = pd.read_csv(\"/home/rserage/Documents/Masters Project/Docs/Drafts/Thesis/assets/figures/adoring_knuth/proof_of_concept_data.csv\")"
   ]
  },
  {
   "cell_type": "code",
   "execution_count": null,
   "id": "739f6d2b-07df-42bc-9ef9-0abe11181560",
   "metadata": {},
   "outputs": [],
   "source": [
    "df['Entry'].tolist()"
   ]
  },
  {
   "cell_type": "code",
   "execution_count": null,
   "id": "f502985b-0df3-40e8-95fa-999f4a6593c5",
   "metadata": {},
   "outputs": [],
   "source": [
    "df['Virus hosts'].str.split(\";\").apply(len)"
   ]
  },
  {
   "cell_type": "code",
   "execution_count": null,
   "id": "5dd01877-e4f2-4442-8b22-f9ed60647665",
   "metadata": {},
   "outputs": [],
   "source": [
    "dot_img_file = \"Zoon0Pred_model_architecture.png\"\n",
    "plot_model(model, to_file=dot_img_file, show_layer_names=False, show_shapes=False)"
   ]
  },
  {
   "cell_type": "code",
   "execution_count": null,
   "id": "6ad4c0f6-a3af-49b6-ad32-f4cc652ee74d",
   "metadata": {},
   "outputs": [],
   "source": [
    "# Strip softmax layer\n",
    "# model = innvestigate.utils.model_wo #.model_wo_softmax(model)\n",
    "\n",
    "# Create analyzer\n",
    "analyzer = innvestigate.create_analyzer(\"deep_taylor\", model)\n",
    "\n",
    "# Add batch axis and preprocess\n",
    "# x = preprocess(image[None])\n",
    "# Apply analyzer w.r.t. maximum activated output-neuron\n",
    "a = analyzer.analyze(X)\n",
    "\n",
    "# Aggregate along color channels and normalize to [-1, 1]\n",
    "a = a.sum(axis=np.argmax(np.asarray(a.shape) == 3))\n",
    "a /= np.max(np.abs(a))\n",
    "# Plot\n",
    "plt.imshow(a[0], cmap=\"seismic\", clim=(-1, 1))"
   ]
  },
  {
   "cell_type": "code",
   "execution_count": null,
   "id": "d99ec42f-23e5-4491-8d3e-17d03a20c19c",
   "metadata": {},
   "outputs": [],
   "source": [
    "df = pd.read_csv(\"~/Documents/Masters Project/Docs/Drafts/Thesis/assets/figures/adoring_knuth/Zoon0PredV/Zoon0PredV_trainingLogs.csv\")"
   ]
  },
  {
   "cell_type": "code",
   "execution_count": null,
   "id": "79b1a8c8-da29-418c-aebd-c5ac01353b16",
   "metadata": {},
   "outputs": [],
   "source": [
    "df.columns"
   ]
  },
  {
   "cell_type": "code",
   "execution_count": null,
   "id": "a95f1d1d-efd4-4483-b865-8b013b5a3426",
   "metadata": {},
   "outputs": [],
   "source": [
    "df.head(12)"
   ]
  },
  {
   "cell_type": "code",
   "execution_count": null,
   "id": "dea954ba-95c2-4155-bacb-04f49ff913e0",
   "metadata": {
    "scrolled": true,
    "tags": []
   },
   "outputs": [],
   "source": [
    "df.sort_values(\"MCC\", ascending=False)"
   ]
  },
  {
   "cell_type": "code",
   "execution_count": null,
   "id": "f4f7a480-5a6a-400e-b18c-a6c82a303e63",
   "metadata": {},
   "outputs": [],
   "source": [
    "df.set_index('epoch', inplace=True)"
   ]
  },
  {
   "cell_type": "code",
   "execution_count": null,
   "id": "ca39ebf2-04c4-4094-bbab-39c283fad5b3",
   "metadata": {},
   "outputs": [],
   "source": [
    "df['binary_accuracy'] = df['binary_accuracy'] * 100\n",
    "df['val_binary_accuracy'] = df['val_binary_accuracy'] * 100"
   ]
  },
  {
   "cell_type": "code",
   "execution_count": null,
   "id": "da47286c-4f2c-4a3e-b703-5a68de358ab0",
   "metadata": {},
   "outputs": [],
   "source": [
    "plt.style.use('fivethirtyeight')"
   ]
  },
  {
   "cell_type": "code",
   "execution_count": null,
   "id": "3014e0f4-3372-4437-ad74-f4836dde11f3",
   "metadata": {},
   "outputs": [],
   "source": [
    "sns.set_context('paper')"
   ]
  },
  {
   "cell_type": "code",
   "execution_count": null,
   "id": "5a396adc-19e5-47e4-b2ba-7de4face416a",
   "metadata": {},
   "outputs": [],
   "source": [
    "import matplotlib"
   ]
  },
  {
   "cell_type": "code",
   "execution_count": null,
   "id": "d41fc2ed-36e3-42d1-93c2-ffb68c39699e",
   "metadata": {},
   "outputs": [],
   "source": [
    "fig, (ax1, ax2) = plt.subplots(nrows=2, ncols=1, figsize=(8,5), dpi=300, sharex=True)\n",
    "\n",
    "df[['binary_accuracy', 'val_binary_accuracy']].plot(kind='line', ax=ax1)\n",
    "ax1.get_legend().remove()\n",
    "# ax1.legend(None)#['Training accuracy', 'Validation accuracy'], loc='lower right', fontsize=8)\n",
    "# ax1.get_yaxis().set_major_formatter(matplotlib.ticker.ScalarFormatter())\n",
    "# ax1.set_yticklabels(ax1.get_yticklabels(), fontsize=5)\n",
    "ax1.set_ylim(50, 100)\n",
    "\n",
    "ax1.set_ylabel('Accuracy')#, fontsize=10, fontweight='bold', rotation=0)\n",
    "# ax1.yaxis.set_label_coords(-0.073, 0.9)\n",
    "ax1.set_title('A', fontdict={'fontsize':10, 'fontweight':'bold'}, loc='left')\n",
    "\n",
    "df[['loss', 'val_loss']].plot(kind='line', ax=ax2)\n",
    "ax2.legend(['Training', 'Validation'], fontsize=8, bbox_to_anchor=(0.98, 1.25))\n",
    "ax2.set_ylim(0.0, 2.0)\n",
    "# ax2.set_yticklabels(ax2.get_yticklabels(), fontsize=5)\n",
    "ax2.set_title('B', fontdict={'fontsize':10, 'fontweight':'bold'}, loc='left')\n",
    "\n",
    "ax2.set_ylabel('Loss') #, fontsize=10, fontweight='bold', rotation=0)\n",
    "# ax2.yaxis.set_label_coords(-0.075, 0.9)\n",
    "\n",
    "# plt.subplots_adjust(wspace=0.05)\n",
    "\n",
    "plt.savefig(\"/home/rserage/Documents/Masters Project/Docs/Drafts/Thesis/assets/figures/accuracy_loss.png\")"
   ]
  },
  {
   "cell_type": "code",
   "execution_count": null,
   "id": "87ae34f6-1148-4a38-a0af-b91070fbbb35",
   "metadata": {},
   "outputs": [],
   "source": [
    "vals = {'': 7299,\n",
    " 'KW-1160': 7299,\n",
    " 'NCBI virus': 6271,\n",
    " 'Virus-Host DB': 3172,\n",
    " 'EID2': 3166}"
   ]
  },
  {
   "cell_type": "code",
   "execution_count": null,
   "id": "18c9551f-799d-4efa-bef1-bee043a2867e",
   "metadata": {},
   "outputs": [],
   "source": [
    "list(vals.values())"
   ]
  },
  {
   "cell_type": "code",
   "execution_count": null,
   "id": "bb75d2c3-4db7-4972-87e3-e3188c260343",
   "metadata": {},
   "outputs": [],
   "source": [
    "# Bring some raw data.\n",
    "frequencies = list(vals.values()) #[6, 16, 75, 160, 244, 260, 145, 73, 16, 4, 1]\n",
    "# In my original code I create a series and run on that,\n",
    "# so for consistency I create a series from the list.\n",
    "freq_series = pd.Series(frequencies)\n",
    "\n",
    "x_labels = list(vals.keys())\n",
    "\n",
    "# Plot the figure.\n",
    "plt.figure(figsize=(5, 3.5), dpi=300)\n",
    "ax = freq_series.plot(kind=\"bar\")\n",
    "ax.get_children()[0].set_color('g')\n",
    "# ax.set_title(\"Amount Frequency\")\n",
    "# ax.set_xlabel(\"Dataset\")\n",
    "ax.set_ylabel(\"No. of records\", fontsize=7)\n",
    "ax.set_xticklabels(x_labels, rotation=0, fontsize=5)\n",
    "ax.set_yticklabels('', rotation=0, fontsize=7)\n",
    "# ax.set_ylim(0, 8000)\n",
    "ax.xaxis.grid(False)\n",
    "rects = ax.patches\n",
    "\n",
    "# Make some labels.\n",
    "labels = frequencies #[f\"label{i}\" for i in range(len(rects))]\n",
    "\n",
    "for rect, label in zip(rects, labels):\n",
    "    height = rect.get_height()\n",
    "    ax.text(\n",
    "        rect.get_x() + rect.get_width() / 2, height + 5, label, ha=\"center\", va=\"bottom\", fontsize=7\n",
    "    )\n",
    "\n",
    "plt.savefig(\"/home/rserage/Documents/Masters Project/Docs/Drafts/Thesis/assets/figures/tracking.png\")"
   ]
  },
  {
   "cell_type": "code",
   "execution_count": null,
   "id": "f1000d1f-239a-4d90-922b-34493003ec5e",
   "metadata": {},
   "outputs": [],
   "source": [
    "# import numpy as np\n",
    "# import pandas as pd\n",
    "# from tensorflow import keras\n",
    "# import sys\n",
    "# sys.path.insert(1, \"../bin/\")\n",
    "# from model_definition import load_compile_model\n",
    "from test_zoonosis_model import load_test_data"
   ]
  },
  {
   "cell_type": "code",
   "execution_count": null,
   "id": "ecf3d3e4-acbc-4aaf-b1d4-e6afd7157acc",
   "metadata": {},
   "outputs": [],
   "source": [
    "physical_devices"
   ]
  },
  {
   "cell_type": "code",
   "execution_count": null,
   "id": "aafc93eb-b6c3-4c75-9cde-1694b02f2f72",
   "metadata": {},
   "outputs": [],
   "source": [
    "tf.__version__"
   ]
  },
  {
   "cell_type": "code",
   "execution_count": null,
   "id": "1321b54b-0233-4e5a-92ee-4a74e86f5add",
   "metadata": {},
   "outputs": [],
   "source": [
    "model = load_compile_model('../model.pkl')"
   ]
  },
  {
   "cell_type": "code",
   "execution_count": null,
   "id": "33bf963e-f698-4482-a681-488574cecfd0",
   "metadata": {},
   "outputs": [],
   "source": [
    "test = load_test_data(\"../Zoon0PredV/test/\") # os.path.join(folder, 'test'))\n",
    "\n",
    "steps = int(round(test.n / 2048))"
   ]
  },
  {
   "cell_type": "code",
   "execution_count": null,
   "id": "29c1c2d3-242d-4183-89a2-20291a72bc16",
   "metadata": {
    "scrolled": true,
    "tags": []
   },
   "outputs": [],
   "source": [
    "predictions = (model.predict(test, verbose=1)).astype(np.float32).reshape((-1,)).tolist()"
   ]
  },
  {
   "cell_type": "code",
   "execution_count": null,
   "id": "d16a2332-54d7-4a6b-a610-9c6dabd79c51",
   "metadata": {},
   "outputs": [],
   "source": [
    "test.reset()\n",
    "evals = model.evaluate(test, verbose=1, return_dict=True, steps=steps)"
   ]
  },
  {
   "cell_type": "code",
   "execution_count": null,
   "id": "9de8b82e-abf7-4528-9a19-d171e50d5ccc",
   "metadata": {},
   "outputs": [],
   "source": [
    "test.reset()\n",
    "true_values = test.labels.astype(np.float32).reshape((-1,)).tolist()"
   ]
  },
  {
   "cell_type": "code",
   "execution_count": null,
   "id": "8977b293-1d7a-4791-bf28-272085244302",
   "metadata": {},
   "outputs": [],
   "source": [
    "test.reset()\n",
    "labels = test.filenames.reshape((-1,)).tolist()"
   ]
  },
  {
   "cell_type": "code",
   "execution_count": null,
   "id": "1e058e86-2b24-4f40-99a2-1ba8d8319929",
   "metadata": {},
   "outputs": [],
   "source": [
    "# Creating dataframe automatically sorts out issue of dimentions of numpy arrays\n",
    "results = pd.DataFrame.from_dict({\n",
    "    'Filenames':labels,\n",
    "    'True values':true_values,\n",
    "    'Predictions':predictions}\n",
    ")\n",
    "results['Entry'] = results[\"Filenames\"].str.split(\"_\")[1]"
   ]
  },
  {
   "cell_type": "code",
   "execution_count": null,
   "id": "34ed3417-11c9-4609-96e2-f3d8dc7276fb",
   "metadata": {},
   "outputs": [],
   "source": [
    "zoonopred_data = \"/home/rserage/Documents/Masters Project/Docs/Drafts/Thesis/assets/figures/adoring_knuth/Zoon0PredV/Zoon0PredVData.csv.gz\""
   ]
  },
  {
   "cell_type": "code",
   "execution_count": null,
   "id": "2769cd68-9fc7-4642-ba56-49ea448cf605",
   "metadata": {},
   "outputs": [],
   "source": [
    "df = pd.read_csv(zoonopred_data)"
   ]
  },
  {
   "cell_type": "markdown",
   "id": "d2b9f49f-d8a6-4593-8287-4ee40c0d2818",
   "metadata": {},
   "source": [
    "## False positives"
   ]
  },
  {
   "cell_type": "code",
   "execution_count": null,
   "id": "aad831ff-f7f3-466d-aaea-e9c706e525c7",
   "metadata": {},
   "outputs": [],
   "source": [
    "false_positives = results[(results['True values'] != results['Predictions']) & (results['Predictions'] == 1.0)].copy()\n",
    "print(false_positives.shape[0])\n",
    "false_positives"
   ]
  },
  {
   "cell_type": "code",
   "execution_count": null,
   "id": "710b3a9d-73b9-4bd9-897b-22ddd371d4de",
   "metadata": {},
   "outputs": [],
   "source": [
    "entries_false_positives = df[df['Entry'].isin(false_positives['Entry'].tolist())].copy()"
   ]
  },
  {
   "cell_type": "code",
   "execution_count": null,
   "id": "57ab84f7-5fba-41bd-a4d2-0fc2002ec39c",
   "metadata": {},
   "outputs": [],
   "source": [
    "entries_false_positives['Protein'].nunique()"
   ]
  },
  {
   "cell_type": "code",
   "execution_count": null,
   "id": "96bd3ffa-36f7-4d04-9a90-6f9fa9b5e27b",
   "metadata": {},
   "outputs": [],
   "source": [
    "entries_false_positives['Virus hosts'].nunique()"
   ]
  },
  {
   "cell_type": "code",
   "execution_count": null,
   "id": "35e4aec2-2b79-4928-a4e2-767e1978d4a7",
   "metadata": {},
   "outputs": [],
   "source": [
    "entries_false_positives['Species name'].nunique()"
   ]
  },
  {
   "cell_type": "markdown",
   "id": "40bcaa11-556e-4b56-96ee-f1da909e9bc7",
   "metadata": {},
   "source": [
    "## False negatives"
   ]
  },
  {
   "cell_type": "code",
   "execution_count": null,
   "id": "8dc03966-60b0-4520-87fc-3809f75215e8",
   "metadata": {},
   "outputs": [],
   "source": [
    "false_negatives = results[(results['True values'] != results['Predictions']) & (results['Predictions'] == 0.0)].copy()\n",
    "print(false_negatives.shape[0])\n",
    "false_negatives"
   ]
  },
  {
   "cell_type": "code",
   "execution_count": null,
   "id": "37a9161a-6f8e-48db-a72e-cb6672f90af8",
   "metadata": {},
   "outputs": [],
   "source": [
    "entries_false_negatives = df[df['Entry'].isin(false_negatives['Entry'].tolist())].copy()"
   ]
  },
  {
   "cell_type": "code",
   "execution_count": null,
   "id": "07fe85fc-636a-4400-b7dc-15113b90c260",
   "metadata": {},
   "outputs": [],
   "source": [
    "entries_false_negatives['Protein'].nunique()"
   ]
  },
  {
   "cell_type": "code",
   "execution_count": null,
   "id": "1d650375-3672-4c9c-9450-b92ef7830ab1",
   "metadata": {},
   "outputs": [],
   "source": [
    "entries_false_negatives['Virus hosts'].nunique()"
   ]
  },
  {
   "cell_type": "code",
   "execution_count": null,
   "id": "1ddb19fe-3681-458e-bcc0-b09469030352",
   "metadata": {},
   "outputs": [],
   "source": [
    "entries_false_negatives['Species name'].nunique()"
   ]
  }
 ],
 "metadata": {
  "kernelspec": {
   "display_name": "Project",
   "language": "python",
   "name": "project"
  },
  "language_info": {
   "codemirror_mode": {
    "name": "ipython",
    "version": 3
   },
   "file_extension": ".py",
   "mimetype": "text/x-python",
   "name": "python",
   "nbconvert_exporter": "python",
   "pygments_lexer": "ipython3",
   "version": "3.9.13"
  }
 },
 "nbformat": 4,
 "nbformat_minor": 5
}
