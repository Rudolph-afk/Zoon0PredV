{
 "cells": [
  {
   "cell_type": "code",
   "execution_count": 1,
   "id": "3277c181",
   "metadata": {
    "scrolled": true
   },
   "outputs": [
    {
     "name": "stderr",
     "output_type": "stream",
     "text": [
      "Matplotlib created a temporary config/cache directory at /tmp/matplotlib-x2t1s4jn because the default path (/home/jovyan/.cache/matplotlib) is not a writable directory; it is highly recommended to set the MPLCONFIGDIR environment variable to a writable directory, in particular to speed up the import of Matplotlib and to better support multiprocessing.\n"
     ]
    }
   ],
   "source": [
    "import os\n",
    "import tensorflow as tf\n",
    "from tensorflow import keras\n",
    "from tensorflow.keras.preprocessing.image import ImageDataGenerator\n",
    "from sklearn.metrics import roc_curve, precision_recall_curve, f1_score, roc_auc_score, matthews_corrcoef, confusion_matrix\n",
    "import matplotlib.pyplot as plt\n",
    "import seaborn as sns\n",
    "# import plotly.graph_objects as go\n",
    "from mlxtend.plotting import plot_confusion_matrix\n",
    "\n",
    "%matplotlib inline"
   ]
  },
  {
   "cell_type": "code",
   "execution_count": 2,
   "id": "1dd9e44e",
   "metadata": {},
   "outputs": [],
   "source": [
    "physical_devices = tf.config.experimental.list_physical_devices('GPU')\n",
    "for device in physical_devices:\n",
    "    tf.config.experimental.set_memory_growth(device, enable=True) "
   ]
  },
  {
   "cell_type": "code",
   "execution_count": 3,
   "id": "f0ad7b90",
   "metadata": {},
   "outputs": [],
   "source": [
    "def loadCompileModel(model_dir: str):\n",
    "    model = keras.models.load_model(model_dir)\n",
    "    return model"
   ]
  },
  {
   "cell_type": "code",
   "execution_count": 4,
   "id": "f8dd8c56",
   "metadata": {},
   "outputs": [],
   "source": [
    "def loadTestData(directory: str):\n",
    "    data_generator = ImageDataGenerator(rescale=1./255)    \n",
    "    test_data = data_generator.flow_from_directory(\n",
    "        directory,\n",
    "        target_size=(96,96),\n",
    "        color_mode='grayscale',\n",
    "        classes=['human-false', 'human-true'],\n",
    "        class_mode='binary',\n",
    "        batch_size=128,\n",
    "        seed=19980603\n",
    "    )\n",
    "    return test_data"
   ]
  },
  {
   "cell_type": "code",
   "execution_count": 5,
   "id": "0129c5af",
   "metadata": {},
   "outputs": [],
   "source": [
    "def testModel(folder: str):\n",
    "    metrics_map = {}\n",
    "    \n",
    "    model_name = folder.split('/')[-1]\n",
    "    if model_name != 'ZoonosisData':\n",
    "        model_name = model_name.strip('ZoonosisData')\n",
    "    model = loadCompileModel(folder)\n",
    "    test = loadTestData(os.path.join(folder, 'test'))\n",
    "    \n",
    "    predictions = model.predict(test)\n",
    "    _, accuracy, _, _ = model.evaluate(test)\n",
    "    \n",
    "    precision, recall, _ = precision_recall_curve(test.classes, predictions)\n",
    "    FP, TP, _ = roc_curve(test.classes, predictions)\n",
    "    auc = roc_auc_score\n",
    "    f1 = f1_score\n",
    "    mcc = matthews_corrcoef\n",
    "    cm = confusion_matrix\n",
    "    \n",
    "    metrics_map = {\n",
    "        'name':model_name,\n",
    "        'Accuracy':accuracy,\n",
    "        'f1_score':f1,\n",
    "        'AUC':auc,\n",
    "        'MCC':mcc,\n",
    "        'PR_curve':(precision, recall),\n",
    "        'ROC_curve':(FP, TP),\n",
    "        'Conf_Matrix':cm,\n",
    "    }\n",
    "    \n",
    "    return metrics_map"
   ]
  },
  {
   "cell_type": "code",
   "execution_count": 6,
   "id": "69dfb377",
   "metadata": {},
   "outputs": [],
   "source": [
    "def plot_PR_curve(name, precision, recall, f1):\n",
    "    plt.plot(recall, precision, label='%s Precision Recall (f1 score = %0.2f)' % ('Zoonosis Model', f1))\n",
    "    plt.xlim([0.0, 1.0])\n",
    "    plt.ylim([0.0, 1.05])\n",
    "    plt.xlabel('Precision')\n",
    "    plt.ylabel('Recall')\n",
    "    plt.title(f'{name} Model Precision Recall Curve')\n",
    "    plt.legend()"
   ]
  },
  {
   "cell_type": "code",
   "execution_count": 34,
   "id": "d53d2e9e-f6a8-4d7b-9eb0-eb7b7a431ef0",
   "metadata": {},
   "outputs": [],
   "source": [
    "def plot_ROC_curve(name, FP, TP, auc, mcc):\n",
    "    plt.plot(FP, TP, label='%s ROC curve (AUC = %0.2f, MCC = %.3f)' % ('Zoonosis Model', f1, mcc))\n",
    "    plt.xlim([0.0, 1.0])\n",
    "    plt.ylim([0.0, 1.05])\n",
    "    plt.xlabel('False positive')\n",
    "    plt.ylabel('True positive')\n",
    "    plt.title(f'{name} Model Receiver operating characteristic Curve')\n",
    "    plt.legend(loc=(0, -.38))"
   ]
  },
  {
   "cell_type": "code",
   "execution_count": 8,
   "id": "917d3105",
   "metadata": {},
   "outputs": [],
   "source": [
    "test_dirs = ['../data/MetazoaZoonosisData/', '../data/ZoonosisData/',\n",
    "             '../data/RNA-MetazoaZoonosisData/', '../data/DNA-MetazoaZoonosisData/',\n",
    "             '../data/Plant-HumanZoonosisData/', '../data/NonEukaryote-HumanData/']"
   ]
  },
  {
   "cell_type": "code",
   "execution_count": 9,
   "id": "e9b63f20-761a-4be8-aeaf-c2bf1bfe928c",
   "metadata": {},
   "outputs": [],
   "source": [
    "model = loadCompileModel('Model')"
   ]
  },
  {
   "cell_type": "code",
   "execution_count": null,
   "id": "5e6d3ee5-af9f-4476-8d33-fde721a2d629",
   "metadata": {},
   "outputs": [],
   "source": []
  },
  {
   "cell_type": "code",
   "execution_count": 14,
   "id": "480dd21e-2962-42bb-972c-20ea9ef7d2b1",
   "metadata": {},
   "outputs": [
    {
     "name": "stdout",
     "output_type": "stream",
     "text": [
      "496/496 [==============================] - 19s 38ms/step\n"
     ]
    }
   ],
   "source": [
    "predictions = (model.predict(test_data_iterator, verbose=1) > 0.5).astype(\"int32\").reshape(-1)"
   ]
  },
  {
   "cell_type": "code",
   "execution_count": 23,
   "id": "679f0f71-0a78-4c92-bd05-d28550ece9e0",
   "metadata": {},
   "outputs": [
    {
     "name": "stdout",
     "output_type": "stream",
     "text": [
      "496/496 [==============================] - 19s 38ms/step\n"
     ]
    }
   ],
   "source": [
    "# test = loadTestData(os.path.join('../data/ZoonosisData/', 'test'))\n",
    "\n",
    "predictions = (model.predict(test, verbose=1) > 0.5).astype(\"int32\")#.reshape(-1)\n",
    "# _, accuracy, _, _ = model.evaluate(test)\n",
    "\n",
    "precision, recall, _ = precision_recall_curve(test.classes, predictions)\n",
    "FP, TP, _ = roc_curve(test.classes, predictions)\n",
    "f1 = f1_score(test.classes, predictions)\n",
    "mcc = matthews_corrcoef(test.classes, predictions)\n",
    "cm = confusion_matrix(test.classes, predictions)"
   ]
  },
  {
   "cell_type": "code",
   "execution_count": 24,
   "id": "0b637185-8149-4101-b12f-fa140531767b",
   "metadata": {},
   "outputs": [
    {
     "data": {
      "text/plain": [
       "0.8796235715886175"
      ]
     },
     "execution_count": 24,
     "metadata": {},
     "output_type": "execute_result"
    }
   ],
   "source": [
    "f1"
   ]
  },
  {
   "cell_type": "code",
   "execution_count": 25,
   "id": "c2f6447a-22cf-41c9-a90a-520a4c1a974c",
   "metadata": {},
   "outputs": [
    {
     "data": {
      "text/plain": [
       "0.004698924438417591"
      ]
     },
     "execution_count": 25,
     "metadata": {},
     "output_type": "execute_result"
    }
   ],
   "source": [
    "mcc"
   ]
  },
  {
   "cell_type": "code",
   "execution_count": 26,
   "id": "73c61121-cd89-4ac8-be0d-faf9000e2e9d",
   "metadata": {},
   "outputs": [
    {
     "data": {
      "text/plain": [
       "array([[  960,  6745],\n",
       "       [ 6686, 49072]])"
      ]
     },
     "execution_count": 26,
     "metadata": {},
     "output_type": "execute_result"
    }
   ],
   "source": [
    "cm"
   ]
  },
  {
   "cell_type": "code",
   "execution_count": 27,
   "id": "145533f5-0579-49f1-ba17-8cc6d5a85569",
   "metadata": {},
   "outputs": [],
   "source": [
    "auc = roc_auc_score(test.classes, predictions)"
   ]
  },
  {
   "cell_type": "code",
   "execution_count": 28,
   "id": "a6ba490d-74f6-4653-937a-7992b30ed450",
   "metadata": {},
   "outputs": [
    {
     "data": {
      "text/plain": [
       "0.5023416875266037"
      ]
     },
     "execution_count": 28,
     "metadata": {},
     "output_type": "execute_result"
    }
   ],
   "source": [
    "auc"
   ]
  },
  {
   "cell_type": "code",
   "execution_count": 29,
   "id": "15a2c5b3-e798-4b64-a697-6fb8162edeb2",
   "metadata": {},
   "outputs": [
    {
     "data": {
      "text/plain": [
       "0.9950364828109741"
      ]
     },
     "execution_count": 29,
     "metadata": {},
     "output_type": "execute_result"
    }
   ],
   "source": [
    "accuracy"
   ]
  },
  {
   "cell_type": "code",
   "execution_count": 21,
   "id": "c883373a-008f-48e4-8068-d88793630954",
   "metadata": {},
   "outputs": [
    {
     "data": {
      "text/plain": [
       "<Figure size 432x288 with 0 Axes>"
      ]
     },
     "execution_count": 21,
     "metadata": {},
     "output_type": "execute_result"
    },
    {
     "data": {
      "text/plain": [
       "<Figure size 432x288 with 0 Axes>"
      ]
     },
     "metadata": {},
     "output_type": "display_data"
    }
   ],
   "source": [
    "sns.set_theme(style=\"darkgrid\")\n",
    "plt.figure()"
   ]
  },
  {
   "cell_type": "code",
   "execution_count": 22,
   "id": "00f93518-9a7f-4e21-969e-261b3c07c832",
   "metadata": {},
   "outputs": [
    {
     "data": {
      "image/png": "[encoded data removed]",
      "text/plain": [
       "<Figure size 432x288 with 1 Axes>"
      ]
     },
     "metadata": {},
     "output_type": "display_data"
    }
   ],
   "source": [
    "plot_PR_curve('Zoonosis', precision, recall, f1)"
   ]
  },
  {
   "cell_type": "code",
   "execution_count": 35,
   "id": "8dfd2334-94ad-4168-9725-5fae8f399e62",
   "metadata": {},
   "outputs": [
    {
     "data": {
      "image/png": "[encoded data removed]",
      "text/plain": [
       "<Figure size 432x288 with 1 Axes>"
      ]
     },
     "metadata": {},
     "output_type": "display_data"
    }
   ],
   "source": [
    "plot_ROC_curve('Zoonosis', FP, TP, auc, mcc)"
   ]
  },
  {
   "cell_type": "code",
   "execution_count": null,
   "id": "b6346fa6-e15f-487e-9462-f59edc05ff58",
   "metadata": {},
   "outputs": [],
   "source": []
  }
 ],
 "metadata": {
  "kernelspec": {
   "display_name": "Python 3",
   "language": "python",
   "name": "python3"
  },
  "language_info": {
   "codemirror_mode": {
    "name": "ipython",
    "version": 3
   },
   "file_extension": ".py",
   "mimetype": "text/x-python",
   "name": "python",
   "nbconvert_exporter": "python",
   "pygments_lexer": "ipython3",
   "version": "3.6.9"
  }
 },
 "nbformat": 4,
 "nbformat_minor": 5
}
