{
 "cells": [
  {
   "cell_type": "code",
   "execution_count": 1,
   "id": "3277c181",
   "metadata": {
    "scrolled": true
   },
   "outputs": [],
   "source": [
    "import os\n",
    "# from itertools import cycle\n",
    "import tensorflow as tf\n",
    "from tensorflow.keras.preprocessing.image import ImageDataGenerator, load_img, img_to_array\n",
    "from tensorflow import keras\n",
    "# from tensorflow.keras import backend\n",
    "# from tensorflow.keras import models\n",
    "from tensorflow.keras.metrics import Recall, Precision, BinaryAccuracy, FalsePositives, \\\n",
    "                                    TruePositives, TrueNegatives, FalseNegatives, AUC, Metric\n",
    "import sys\n",
    "sys.path.insert(1, \"../bin/\")\n",
    "from metrics_helper import MatthewsCorrelationCoefficient\n",
    "from model_definition import load_compile_model\n",
    "from test_zoonosis_model import load_test_data\n",
    "# from tensorflow.python.keras.utils import metrics_utils\n",
    "# from tensorflow.python.keras.utils.generic_utils import to_list\n",
    "from tensorflow.keras.utils import plot_model\n",
    "from sklearn.metrics import plot_roc_curve, precision_recall_curve, f1_score, roc_auc_score, \\\n",
    "                            roc_curve, matthews_corrcoef, confusion_matrix, auc\n",
    "import matplotlib.pyplot as plt\n",
    "import seaborn as sns\n",
    "import numpy as np\n",
    "import pandas as pd\n",
    "# import hiplot as hip\n",
    "\n",
    "# import plotly.graph_objects as go\n",
    "# from mlxtend.plotting import plot_confusion_matrix\n",
    "%matplotlib inline\n",
    "\n",
    "# from tf_keras_vis.saliency import Saliency\n",
    "# from tf_keras_vis.scorecam import Scorecam\n",
    "# from tf_keras_vis.gradcam_plus_plus import GradcamPlusPlus"
   ]
  },
  {
   "cell_type": "code",
   "execution_count": 2,
   "id": "1dd9e44e",
   "metadata": {},
   "outputs": [],
   "source": [
    "physical_devices = tf.config.experimental.list_physical_devices('GPU')\n",
    "for device in physical_devices:\n",
    "    tf.config.experimental.set_memory_growth(device, enable=True) "
   ]
  },
  {
   "cell_type": "code",
   "execution_count": null,
   "id": "39a9bdea-d4aa-41c0-8c28-a6920c842784",
   "metadata": {},
   "outputs": [],
   "source": [
    "# main_dir = \"/scratch2/users/rserage/\"\n",
    "main_dir = \"/home/rserage/Documents/Masters Project/Docs\"\n",
    "test_dirs = os.listdir(main_dir)\n",
    "\n",
    "test_dirs = [os.path.join(main_dir, fol) for fol in test_dirs]"
   ]
  },
  {
   "cell_type": "code",
   "execution_count": null,
   "id": "6c669bc3-8349-4c12-896d-dcd35de59183",
   "metadata": {},
   "outputs": [],
   "source": [
    "test_dirs = list(filter(lambda x: x.__contains__(\"Zoo\"), test_dirs)) # \"Data\" for dataset\n",
    "\n",
    "test_dirs"
   ]
  },
  {
   "cell_type": "code",
   "execution_count": null,
   "id": "0db94385-f25c-4d6e-9ebe-a34304f8f813",
   "metadata": {},
   "outputs": [],
   "source": [
    "# test_dirs = [\"/scratch3/users/rserage/ZoonosisFull/\"]\n",
    "# model_dirs = [\"/users/rserage/Zoon0PredV/notebooks/\"]"
   ]
  },
  {
   "cell_type": "code",
   "execution_count": null,
   "id": "cc2a7860-1dc6-498e-80bd-cf4553850349",
   "metadata": {},
   "outputs": [],
   "source": [
    "models = [os.path.join(path, 'model') for path in test_dirs]\n",
    "test_data = [os.path.join(path, 'test') for path in test_dirs]\n",
    "\n",
    "models"
   ]
  },
  {
   "cell_type": "code",
   "execution_count": null,
   "id": "1f002b10-90e3-4629-b9d9-02c0cc845444",
   "metadata": {},
   "outputs": [],
   "source": [
    "main = pd.DataFrame()\n",
    "PRS = dict()\n",
    "ROCS = dict()\n",
    "\n",
    "for model_, test_data in zip(models, test_data):\n",
    "    model = load_compile_model(model_)\n",
    "    metrics, PR, ROC = test_model(model, test_data)\n",
    "    main = pd.concat([main, metrics], sort=False)\n",
    "    PRS.update(PR)\n",
    "    ROCS.update(ROC)"
   ]
  },
  {
   "cell_type": "code",
   "execution_count": null,
   "id": "0fab409b-7b73-4451-a6d5-04e3f3b6e064",
   "metadata": {},
   "outputs": [],
   "source": [
    "ROCS"
   ]
  },
  {
   "cell_type": "code",
   "execution_count": null,
   "id": "eee93465-3f17-459d-b848-1ff86913a2b6",
   "metadata": {},
   "outputs": [],
   "source": [
    "main"
   ]
  },
  {
   "cell_type": "code",
   "execution_count": null,
   "id": "2f1ad731-d3c0-4269-a7e8-bd70f59a7369",
   "metadata": {},
   "outputs": [],
   "source": [
    "PRS"
   ]
  },
  {
   "cell_type": "code",
   "execution_count": null,
   "id": "0731947e-5900-4b28-b856-ce7fa4a1553d",
   "metadata": {},
   "outputs": [],
   "source": [
    "ROC_curve(main, ROCS)"
   ]
  },
  {
   "cell_type": "code",
   "execution_count": null,
   "id": "4735c5a7-29dd-4da4-970d-1afb883b8f09",
   "metadata": {},
   "outputs": [],
   "source": [
    "PR_curve(main, PRS)"
   ]
  },
  {
   "cell_type": "code",
   "execution_count": null,
   "id": "64e3d0e6-d175-4854-823c-6d78d10cbdb5",
   "metadata": {},
   "outputs": [],
   "source": [
    "model = load_compile_model(\"/users/rserage/Zoon0PredV/notebooks/model/\")"
   ]
  },
  {
   "cell_type": "code",
   "execution_count": null,
   "id": "f8e1c177-f55b-4d67-b4bf-ddb232b3f16f",
   "metadata": {
    "scrolled": true,
    "tags": []
   },
   "outputs": [],
   "source": [
    "dot_img_file = \"model_1.png\"\n",
    "plot_model(model, to_file=dot_img_file, show_layer_names=False, show_shapes=False)"
   ]
  },
  {
   "cell_type": "code",
   "execution_count": null,
   "id": "045c142b-073e-4c80-a6d5-731596857579",
   "metadata": {},
   "outputs": [],
   "source": [
    "# data = [{\n",
    "#     'epoch': idx,\n",
    "#     'loss': history.history['loss'][idx],\n",
    "#     'val_loss': history.history['val_loss'][idx],\n",
    "#     'accuracy': history.history['accuracy'][idx],\n",
    "#     'val_accuracy': history.history['val_accuracy'][idx],\n",
    "#     'precision': history.history['precision'][idx],\n",
    "#     'val_precision': history.history['val_precision'][idx],\n",
    "#     'recall': history.history['recall'][idx],\n",
    "#     'val_recall': history.history['val_recall'][idx]\n",
    "# } \n",
    "#     for idx in range(0, 10)] \n",
    "df = pd.read_csv('logs.csv')\n",
    "data = df.to_dict('records')\n",
    "\n",
    "hip.Experiment.from_iterable(data).display()"
   ]
  },
  {
   "cell_type": "code",
   "execution_count": null,
   "id": "6e5b0e8f-b487-49c4-91b1-8707a240523b",
   "metadata": {
    "tags": []
   },
   "outputs": [],
   "source": [
    "# test_data_iterator.reset()\n",
    "for _ in range(5):\n",
    "    img, label = test_data_iterator.next()\n",
    "    print(img.shape)   #  (1,256,256,3)\n",
    "    plt.figure(figsize=(12,6))\n",
    "    plt.imshow(img[0], cmap=plt.cm.binary)\n",
    "    # plt.show()\n",
    "    # print(img[0])\n",
    "    break"
   ]
  },
  {
   "cell_type": "code",
   "execution_count": null,
   "id": "b87c72b3-42c3-402d-823e-0f886f2566bf",
   "metadata": {},
   "outputs": [],
   "source": [
    "# model = tf.keras.models.load_model('model', custom_objects={\"MCC\": MatthewsCorrelationCoefficient})\n",
    "# model.summary()"
   ]
  },
  {
   "cell_type": "code",
   "execution_count": null,
   "id": "2eb7bbcb-79a1-4f48-85b6-c4f7ca96b142",
   "metadata": {},
   "outputs": [],
   "source": [
    "img_path = '/scratch3/users/rserage/ZoonosisData/test/human_false_A0A023NBJ1_Autoprotease.png'\n",
    "\n",
    "# img_path = 'testing.png'\n",
    "\n",
    "img = load_img(img_path, target_size=(128, 128), color_mode='grayscale')\n",
    "img_tensor = img_to_array(img)\n",
    "img_tensor = np.expand_dims(img_tensor, axis=0)\n",
    "img_tensor /= 255."
   ]
  },
  {
   "cell_type": "code",
   "execution_count": null,
   "id": "4762e191-b12c-4504-804e-f81febc1bd8f",
   "metadata": {},
   "outputs": [],
   "source": [
    "img_tensor, _ = test_data_iterator.next()"
   ]
  },
  {
   "cell_type": "code",
   "execution_count": null,
   "id": "744f4c6c-aec7-42d2-a86e-3573d8cf6d1c",
   "metadata": {},
   "outputs": [],
   "source": [
    "img_tensor = img_tensor[0]"
   ]
  },
  {
   "cell_type": "code",
   "execution_count": null,
   "id": "7b7dd57c-c2e7-4a7a-84ff-cd6bcfdcd21e",
   "metadata": {},
   "outputs": [],
   "source": [
    "img_tensor = img_tensor.reshape((1,128,128,1))"
   ]
  },
  {
   "cell_type": "code",
   "execution_count": null,
   "id": "8087f448-d38c-4eb0-84a2-bc98d6060bc5",
   "metadata": {},
   "outputs": [],
   "source": [
    "img_tensor.shape"
   ]
  },
  {
   "cell_type": "code",
   "execution_count": null,
   "id": "ed2e7287-257f-4225-a921-06b52486b338",
   "metadata": {},
   "outputs": [],
   "source": [
    "plt.figure(figsize=(12,6))\n",
    "\n",
    "plt.imshow(img_tensor[0], cmap=plt.cm.binary)\n",
    "plt.axis(\"off\")\n",
    "# plt.show()"
   ]
  },
  {
   "cell_type": "code",
   "execution_count": null,
   "id": "421f8bd0-7ff4-44b8-9594-1cd1a7637ebc",
   "metadata": {},
   "outputs": [],
   "source": [
    "model.input"
   ]
  },
  {
   "cell_type": "code",
   "execution_count": null,
   "id": "30216c80-a513-4d32-b67d-43ff9e1d5e38",
   "metadata": {},
   "outputs": [],
   "source": [
    "# Extracts the outputs of the top 8 layers:\n",
    "layer_outputs = [layer.output for layer in model.layers[:]]\n",
    "# Creates a model that will return these outputs, given the model input:\n",
    "activation_model = models.Model(inputs=model.input, outputs=layer_outputs)"
   ]
  },
  {
   "cell_type": "code",
   "execution_count": null,
   "id": "04c41613-163b-4dbe-a396-d3fd0cfac2e8",
   "metadata": {},
   "outputs": [],
   "source": [
    "activations = activation_model.predict(img_tensor)"
   ]
  },
  {
   "cell_type": "code",
   "execution_count": null,
   "id": "8b33e490-9187-4fe2-a5a7-f7750934f41a",
   "metadata": {},
   "outputs": [],
   "source": [
    "first_layer_activation = activations[0]\n",
    "\n",
    "first_layer_activation.shape"
   ]
  },
  {
   "cell_type": "code",
   "execution_count": null,
   "id": "1f9ff086-3653-449e-bc20-fcfe297ece32",
   "metadata": {},
   "outputs": [],
   "source": [
    "plt.figure(figsize=(12,6))\n",
    "\n",
    "plt.matshow(first_layer_activation[0, :, :, 3], cmap='jet')\n",
    "plt.axis(\"off\")\n",
    "# plt.show()"
   ]
  },
  {
   "cell_type": "code",
   "execution_count": null,
   "id": "e396b359-1311-41f6-a87d-ddab6f158353",
   "metadata": {
    "scrolled": true,
    "tags": []
   },
   "outputs": [],
   "source": [
    "activations"
   ]
  },
  {
   "cell_type": "code",
   "execution_count": null,
   "id": "904f90df-b370-40d3-9ea8-b30c4322acc5",
   "metadata": {
    "scrolled": true,
    "tags": []
   },
   "outputs": [],
   "source": [
    "# Names of the layers, so can have them as part of our plot\n",
    "layer_names = [ layer.name for layer in model.layers[:] ]\n",
    "    \n",
    "images_per_row = 16\n",
    "\n",
    "# Display feature maps\n",
    "for layer_name, layer_activation in zip(layer_names[1:-2], activations[1:-2]):\n",
    "    # Number of features in the feature map\n",
    "    n_features = layer_activation.shape[-1]\n",
    "\n",
    "    # The feature map has shape (1, size, size, n_features)\n",
    "    size = layer_activation.shape[1]\n",
    "\n",
    "    # Tile the activation channels matrix\n",
    "    n_cols = n_features // images_per_row\n",
    "    display_grid = np.zeros((size * n_cols, images_per_row * size))\n",
    "\n",
    "    # Tile each filter into horizontal grid\n",
    "    for col in range(n_cols):\n",
    "        for row in range(images_per_row):\n",
    "            channel_image = layer_activation[0, :, :, col * images_per_row + row]\n",
    "            # Post-process the feature to make it visually palatable\n",
    "            channel_image -= channel_image.mean()\n",
    "            channel_image /= channel_image.std()\n",
    "            channel_image *= 64\n",
    "            channel_image += 128\n",
    "            channel_image = np.clip(channel_image, 0, 255).astype('uint8')\n",
    "            display_grid[col * size : (col + 1) * size, row * size : (row + 1) * size] = channel_image\n",
    "\n",
    "    # Display the grid\n",
    "    scale = 1. / size\n",
    "    plt.figure(figsize=(scale * display_grid.shape[1],\n",
    "                        scale * display_grid.shape[0]))\n",
    "    plt.title(layer_name)\n",
    "    plt.grid(False)\n",
    "    plt.imshow(display_grid, aspect='auto', cmap='viridis')\n",
    "    \n",
    "# plt.show()"
   ]
  },
  {
   "cell_type": "code",
   "execution_count": null,
   "id": "19249ab0-3d9e-4e66-aa2f-6ffe9ac87a02",
   "metadata": {},
   "outputs": [],
   "source": [
    "import innvestigate\n",
    "import innvestigate.utils"
   ]
  },
  {
   "cell_type": "code",
   "execution_count": null,
   "id": "1d5c678f-646d-4f15-84f3-d60bf1ad7e55",
   "metadata": {},
   "outputs": [],
   "source": [
    "from attention_mapping import load_samples"
   ]
  },
  {
   "cell_type": "code",
   "execution_count": null,
   "id": "7eeb9be6-52c2-468c-bdcd-e824df969039",
   "metadata": {},
   "outputs": [],
   "source": [
    "base_path = \"../bin/\"\n",
    "list_path_to_images = [\n",
    "    os.path.join(base_path, img_path) \n",
    "    for img_path in \n",
    "    list(\n",
    "        filter(lambda File: File.endswith(\".png\"), os.listdir(base_path))\n",
    "    )\n",
    "]\n",
    "list_path_to_images"
   ]
  },
  {
   "cell_type": "code",
   "execution_count": null,
   "id": "dd3ddf4b-b1ad-427b-be1f-a8f653ebceb1",
   "metadata": {},
   "outputs": [],
   "source": [
    "images, X = load_samples(list_path_to_images)"
   ]
  },
  {
   "cell_type": "code",
   "execution_count": null,
   "id": "336a65d3-ade6-4272-bf40-eb71bcb6b6b7",
   "metadata": {},
   "outputs": [],
   "source": [
    "model = load_compile_model('../model')"
   ]
  },
  {
   "cell_type": "code",
   "execution_count": null,
   "id": "f21aea3c-57f2-404b-a1ce-82e6d9057bdf",
   "metadata": {},
   "outputs": [],
   "source": [
    "X.shape"
   ]
  },
  {
   "cell_type": "code",
   "execution_count": null,
   "id": "2ba678d4-c3e5-48f3-81ff-53ccd32912b9",
   "metadata": {},
   "outputs": [],
   "source": [
    "model.predict(X).tolist()"
   ]
  },
  {
   "cell_type": "code",
   "execution_count": null,
   "id": "3af44aa2-6bd9-4d4f-a9cf-b5189e1de5f1",
   "metadata": {},
   "outputs": [],
   "source": []
  },
  {
   "cell_type": "code",
   "execution_count": null,
   "id": "85743a2b-571e-421f-be00-c7351f601e7e",
   "metadata": {},
   "outputs": [],
   "source": [
    "df = pd.read_csv(\"/home/rserage/Documents/Masters Project/Docs/Drafts/Thesis/assets/figures/adoring_knuth/proof_of_concept_data.csv\")"
   ]
  },
  {
   "cell_type": "code",
   "execution_count": null,
   "id": "739f6d2b-07df-42bc-9ef9-0abe11181560",
   "metadata": {},
   "outputs": [],
   "source": [
    "df['Entry'].tolist()"
   ]
  },
  {
   "cell_type": "code",
   "execution_count": null,
   "id": "f502985b-0df3-40e8-95fa-999f4a6593c5",
   "metadata": {},
   "outputs": [],
   "source": [
    "df['Virus hosts'].str.split(\";\").apply(len)"
   ]
  },
  {
   "cell_type": "code",
   "execution_count": null,
   "id": "5dd01877-e4f2-4442-8b22-f9ed60647665",
   "metadata": {},
   "outputs": [],
   "source": [
    "dot_img_file = \"Zoon0Pred_model_architecture.png\"\n",
    "plot_model(model, to_file=dot_img_file, show_layer_names=False, show_shapes=False)"
   ]
  },
  {
   "cell_type": "code",
   "execution_count": null,
   "id": "6ad4c0f6-a3af-49b6-ad32-f4cc652ee74d",
   "metadata": {},
   "outputs": [],
   "source": [
    "# Strip softmax layer\n",
    "# model = innvestigate.utils.model_wo #.model_wo_softmax(model)\n",
    "\n",
    "# Create analyzer\n",
    "analyzer = innvestigate.create_analyzer(\"deep_taylor\", model)\n",
    "\n",
    "# Add batch axis and preprocess\n",
    "# x = preprocess(image[None])\n",
    "# Apply analyzer w.r.t. maximum activated output-neuron\n",
    "a = analyzer.analyze(X)\n",
    "\n",
    "# Aggregate along color channels and normalize to [-1, 1]\n",
    "a = a.sum(axis=np.argmax(np.asarray(a.shape) == 3))\n",
    "a /= np.max(np.abs(a))\n",
    "# Plot\n",
    "plt.imshow(a[0], cmap=\"seismic\", clim=(-1, 1))"
   ]
  },
  {
   "cell_type": "code",
   "execution_count": null,
   "id": "d99ec42f-23e5-4491-8d3e-17d03a20c19c",
   "metadata": {},
   "outputs": [],
   "source": [
    "df = pd.read_csv(\"~/Documents/Masters Project/Docs/Drafts/Thesis/assets/figures/adoring_knuth/Zoon0PredV/Zoon0PredV_trainingLogs.csv\")"
   ]
  },
  {
   "cell_type": "code",
   "execution_count": null,
   "id": "79b1a8c8-da29-418c-aebd-c5ac01353b16",
   "metadata": {},
   "outputs": [],
   "source": [
    "df.columns"
   ]
  },
  {
   "cell_type": "code",
   "execution_count": null,
   "id": "a95f1d1d-efd4-4483-b865-8b013b5a3426",
   "metadata": {},
   "outputs": [],
   "source": [
    "df.head(12)"
   ]
  },
  {
   "cell_type": "code",
   "execution_count": null,
   "id": "dea954ba-95c2-4155-bacb-04f49ff913e0",
   "metadata": {
    "scrolled": true,
    "tags": []
   },
   "outputs": [],
   "source": [
    "df.sort_values(\"MCC\", ascending=False)"
   ]
  },
  {
   "cell_type": "code",
   "execution_count": null,
   "id": "f4f7a480-5a6a-400e-b18c-a6c82a303e63",
   "metadata": {},
   "outputs": [],
   "source": [
    "df.set_index('epoch', inplace=True)"
   ]
  },
  {
   "cell_type": "code",
   "execution_count": null,
   "id": "ca39ebf2-04c4-4094-bbab-39c283fad5b3",
   "metadata": {},
   "outputs": [],
   "source": [
    "df['binary_accuracy'] = df['binary_accuracy'] * 100\n",
    "df['val_binary_accuracy'] = df['val_binary_accuracy'] * 100"
   ]
  },
  {
   "cell_type": "code",
   "execution_count": null,
   "id": "da47286c-4f2c-4a3e-b703-5a68de358ab0",
   "metadata": {},
   "outputs": [],
   "source": [
    "plt.style.use('fivethirtyeight')"
   ]
  },
  {
   "cell_type": "code",
   "execution_count": null,
   "id": "3014e0f4-3372-4437-ad74-f4836dde11f3",
   "metadata": {},
   "outputs": [],
   "source": [
    "sns.set_context('paper')"
   ]
  },
  {
   "cell_type": "code",
   "execution_count": null,
   "id": "5a396adc-19e5-47e4-b2ba-7de4face416a",
   "metadata": {},
   "outputs": [],
   "source": [
    "import matplotlib"
   ]
  },
  {
   "cell_type": "code",
   "execution_count": null,
   "id": "d41fc2ed-36e3-42d1-93c2-ffb68c39699e",
   "metadata": {},
   "outputs": [],
   "source": [
    "fig, (ax1, ax2) = plt.subplots(nrows=2, ncols=1, figsize=(8,5), dpi=300, sharex=True)\n",
    "\n",
    "df[['binary_accuracy', 'val_binary_accuracy']].plot(kind='line', ax=ax1)\n",
    "ax1.get_legend().remove()\n",
    "# ax1.legend(None)#['Training accuracy', 'Validation accuracy'], loc='lower right', fontsize=8)\n",
    "# ax1.get_yaxis().set_major_formatter(matplotlib.ticker.ScalarFormatter())\n",
    "# ax1.set_yticklabels(ax1.get_yticklabels(), fontsize=5)\n",
    "ax1.set_ylim(50, 100)\n",
    "\n",
    "ax1.set_ylabel('Accuracy')#, fontsize=10, fontweight='bold', rotation=0)\n",
    "# ax1.yaxis.set_label_coords(-0.073, 0.9)\n",
    "ax1.set_title('A', fontdict={'fontsize':10, 'fontweight':'bold'}, loc='left')\n",
    "\n",
    "df[['loss', 'val_loss']].plot(kind='line', ax=ax2)\n",
    "ax2.legend(['Training', 'Validation'], fontsize=8, bbox_to_anchor=(0.98, 1.25))\n",
    "ax2.set_ylim(0.0, 2.0)\n",
    "# ax2.set_yticklabels(ax2.get_yticklabels(), fontsize=5)\n",
    "ax2.set_title('B', fontdict={'fontsize':10, 'fontweight':'bold'}, loc='left')\n",
    "\n",
    "ax2.set_ylabel('Loss') #, fontsize=10, fontweight='bold', rotation=0)\n",
    "# ax2.yaxis.set_label_coords(-0.075, 0.9)\n",
    "\n",
    "# plt.subplots_adjust(wspace=0.05)\n",
    "\n",
    "plt.savefig(\"/home/rserage/Documents/Masters Project/Docs/Drafts/Thesis/assets/figures/accuracy_loss.png\")"
   ]
  },
  {
   "cell_type": "code",
   "execution_count": null,
   "id": "87ae34f6-1148-4a38-a0af-b91070fbbb35",
   "metadata": {},
   "outputs": [],
   "source": [
    "vals = {'': 7299,\n",
    " 'KW-1160': 7299,\n",
    " 'NCBI virus': 6271,\n",
    " 'Virus-Host DB': 3172,\n",
    " 'EID2': 3166}"
   ]
  },
  {
   "cell_type": "code",
   "execution_count": null,
   "id": "18c9551f-799d-4efa-bef1-bee043a2867e",
   "metadata": {},
   "outputs": [],
   "source": [
    "list(vals.values())"
   ]
  },
  {
   "cell_type": "code",
   "execution_count": null,
   "id": "bb75d2c3-4db7-4972-87e3-e3188c260343",
   "metadata": {},
   "outputs": [],
   "source": [
    "# Bring some raw data.\n",
    "frequencies = list(vals.values()) #[6, 16, 75, 160, 244, 260, 145, 73, 16, 4, 1]\n",
    "# In my original code I create a series and run on that,\n",
    "# so for consistency I create a series from the list.\n",
    "freq_series = pd.Series(frequencies)\n",
    "\n",
    "x_labels = list(vals.keys())\n",
    "\n",
    "# Plot the figure.\n",
    "plt.figure(figsize=(5, 3.5), dpi=300)\n",
    "ax = freq_series.plot(kind=\"bar\")\n",
    "ax.get_children()[0].set_color('g')\n",
    "# ax.set_title(\"Amount Frequency\")\n",
    "# ax.set_xlabel(\"Dataset\")\n",
    "ax.set_ylabel(\"No. of records\", fontsize=7)\n",
    "ax.set_xticklabels(x_labels, rotation=0, fontsize=5)\n",
    "ax.set_yticklabels('', rotation=0, fontsize=7)\n",
    "# ax.set_ylim(0, 8000)\n",
    "ax.xaxis.grid(False)\n",
    "rects = ax.patches\n",
    "\n",
    "# Make some labels.\n",
    "labels = frequencies #[f\"label{i}\" for i in range(len(rects))]\n",
    "\n",
    "for rect, label in zip(rects, labels):\n",
    "    height = rect.get_height()\n",
    "    ax.text(\n",
    "        rect.get_x() + rect.get_width() / 2, height + 5, label, ha=\"center\", va=\"bottom\", fontsize=7\n",
    "    )\n",
    "\n",
    "plt.savefig(\"/home/rserage/Documents/Masters Project/Docs/Drafts/Thesis/assets/figures/tracking.png\")"
   ]
  },
  {
   "cell_type": "code",
   "execution_count": 4,
   "id": "f1000d1f-239a-4d90-922b-34493003ec5e",
   "metadata": {},
   "outputs": [],
   "source": [
    "# import numpy as np\n",
    "# import pandas as pd\n",
    "# from tensorflow import keras\n",
    "# import sys\n",
    "# sys.path.insert(1, \"../bin/\")\n",
    "# from model_definition import load_compile_model\n",
    "from test_zoonosis_model import load_test_data"
   ]
  },
  {
   "cell_type": "code",
   "execution_count": 3,
   "id": "ecf3d3e4-acbc-4aaf-b1d4-e6afd7157acc",
   "metadata": {},
   "outputs": [
    {
     "data": {
      "text/plain": [
       "[]"
      ]
     },
     "execution_count": 3,
     "metadata": {},
     "output_type": "execute_result"
    }
   ],
   "source": [
    "physical_devices"
   ]
  },
  {
   "cell_type": "code",
   "execution_count": 4,
   "id": "aafc93eb-b6c3-4c75-9cde-1694b02f2f72",
   "metadata": {},
   "outputs": [
    {
     "data": {
      "text/plain": [
       "'2.6.0'"
      ]
     },
     "execution_count": 4,
     "metadata": {},
     "output_type": "execute_result"
    }
   ],
   "source": [
    "tf.__version__"
   ]
  },
  {
   "cell_type": "code",
   "execution_count": 5,
   "id": "1321b54b-0233-4e5a-92ee-4a74e86f5add",
   "metadata": {},
   "outputs": [
    {
     "name": "stdout",
     "output_type": "stream",
     "text": [
      "WARNING:tensorflow:Unable to restore custom metric. Please ensure that the layer implements `get_config` and `from_config` when saving. In addition, please use the `custom_objects` arg when calling `load_model()`.\n"
     ]
    }
   ],
   "source": [
    "model = load_compile_model('../model')"
   ]
  },
  {
   "cell_type": "code",
   "execution_count": 6,
   "id": "33bf963e-f698-4482-a681-488574cecfd0",
   "metadata": {},
   "outputs": [
    {
     "name": "stdout",
     "output_type": "stream",
     "text": [
      "Found 19326 images belonging to 2 classes.\n"
     ]
    }
   ],
   "source": [
    "directory = \"../Zoon0PredV/test/\" # os.path.join(folder, 'test'))\n",
    "\n",
    "data_generator = ImageDataGenerator(rescale=1./255)\n",
    "test_data = data_generator.flow_from_directory(\n",
    "    directory,\n",
    "    target_size=(224, 224),\n",
    "    color_mode='grayscale',\n",
    "    classes=['human-false', 'human-true'],\n",
    "    class_mode='binary',\n",
    "    batch_size=64,\n",
    "    shuffle=False,\n",
    "    seed=19980603\n",
    ")\n",
    "\n",
    "steps = int(round(test_data.n / 64))"
   ]
  },
  {
   "cell_type": "code",
   "execution_count": 7,
   "id": "29c1c2d3-242d-4183-89a2-20291a72bc16",
   "metadata": {
    "scrolled": true,
    "tags": []
   },
   "outputs": [
    {
     "name": "stdout",
     "output_type": "stream",
     "text": [
      "302/302 [==============================] - 631s 2s/step\n"
     ]
    }
   ],
   "source": [
    "predictions = (model.predict(test_data, verbose=1)).astype(np.float32).reshape((-1,)).tolist()"
   ]
  },
  {
   "cell_type": "code",
   "execution_count": 12,
   "id": "d16a2332-54d7-4a6b-a610-9c6dabd79c51",
   "metadata": {},
   "outputs": [
    {
     "name": "stdout",
     "output_type": "stream",
     "text": [
      "302/302 [==============================] - 22s 69ms/step - loss: 0.0979 - binary_accuracy: 0.9683 - FP: 259.0000 - TP: 11245.0000 - TN: 7469.0000 - FN: 353.0000 - MCC: 0.9342 - AUC: 0.9931 - Recall: 0.9696 - Precision: 0.9775s - loss: 0.0947 - binary_accuracy: 0.9694 - FP: 259.0000 - TP: 9345.0000 - TN: 7469.0000 - FN: 271.0000 - MCC: 0.9382 - AUC: \n"
     ]
    }
   ],
   "source": [
    "test_data.reset()\n",
    "evals = model.evaluate(test_data, verbose=1, return_dict=True, steps=steps)"
   ]
  },
  {
   "cell_type": "code",
   "execution_count": 8,
   "id": "9de8b82e-abf7-4528-9a19-d171e50d5ccc",
   "metadata": {},
   "outputs": [],
   "source": [
    "test_data.reset()\n",
    "true_values = test_data.labels.astype(np.float32).reshape((-1,)).tolist()"
   ]
  },
  {
   "cell_type": "code",
   "execution_count": 9,
   "id": "291bf0c3-c97c-41dc-8bea-85a6c9fedb1f",
   "metadata": {},
   "outputs": [
    {
     "data": {
      "text/plain": [
       "19326"
      ]
     },
     "execution_count": 9,
     "metadata": {},
     "output_type": "execute_result"
    }
   ],
   "source": [
    "len(test_data.filenames)"
   ]
  },
  {
   "cell_type": "code",
   "execution_count": 10,
   "id": "8977b293-1d7a-4791-bf28-272085244302",
   "metadata": {},
   "outputs": [],
   "source": [
    "test_data.reset()\n",
    "labels = test_data.filenames #.reshape((-1,)).tolist()"
   ]
  },
  {
   "cell_type": "code",
   "execution_count": 11,
   "id": "1e058e86-2b24-4f40-99a2-1ba8d8319929",
   "metadata": {},
   "outputs": [],
   "source": [
    "# Creating dataframe automatically sorts out issue of dimentions of numpy arrays\n",
    "results = pd.DataFrame.from_dict({\n",
    "    'Filenames':labels,\n",
    "    'True values':true_values,\n",
    "    'Predictions':predictions}\n",
    ")"
   ]
  },
  {
   "cell_type": "code",
   "execution_count": 12,
   "id": "a5387038-b775-4772-ac42-4139da69f08c",
   "metadata": {},
   "outputs": [],
   "source": [
    "results['Entry'] = results[\"Filenames\"].str.split(\"_\").apply(lambda val: val[2])"
   ]
  },
  {
   "cell_type": "code",
   "execution_count": 13,
   "id": "34ed3417-11c9-4609-96e2-f3d8dc7276fb",
   "metadata": {},
   "outputs": [],
   "source": [
    "# zoonopred_data = \"/home/rserage/Documents/Masters Project/Docs/Drafts/Thesis/assets/figures/adoring_knuth/Zoon0PredV/Zoon0PredVData.csv.gz\"\n",
    "zoonopred_data = \"../Zoon0PredV/Zoon0PredVData.csv.gz\""
   ]
  },
  {
   "cell_type": "code",
   "execution_count": 14,
   "id": "2769cd68-9fc7-4642-ba56-49ea448cf605",
   "metadata": {},
   "outputs": [],
   "source": [
    "df = pd.read_csv(zoonopred_data)"
   ]
  },
  {
   "cell_type": "markdown",
   "id": "d2b9f49f-d8a6-4593-8287-4ee40c0d2818",
   "metadata": {},
   "source": [
    "## False positives"
   ]
  },
  {
   "cell_type": "code",
   "execution_count": 15,
   "id": "fb85a329-83cb-4888-b468-18cf903c2e3d",
   "metadata": {},
   "outputs": [],
   "source": [
    "results.rename({'Predictions': \"Probas\"}, axis=1, inplace=True)\n",
    "results['Predictions'] = results['Probas'].apply(lambda val: 1.0 if (val >= 0.5) else 0.0)"
   ]
  },
  {
   "cell_type": "code",
   "execution_count": 16,
   "id": "98361ef5-98c3-4e99-a8dd-f604ee40f18b",
   "metadata": {},
   "outputs": [
    {
     "data": {
      "text/html": [
       "<div>\n",
       "<style scoped>\n",
       "    .dataframe tbody tr th:only-of-type {\n",
       "        vertical-align: middle;\n",
       "    }\n",
       "\n",
       "    .dataframe tbody tr th {\n",
       "        vertical-align: top;\n",
       "    }\n",
       "\n",
       "    .dataframe thead th {\n",
       "        text-align: right;\n",
       "    }\n",
       "</style>\n",
       "<table border=\"1\" class=\"dataframe\">\n",
       "  <thead>\n",
       "    <tr style=\"text-align: right;\">\n",
       "      <th></th>\n",
       "      <th>Filenames</th>\n",
       "      <th>True values</th>\n",
       "      <th>Probas</th>\n",
       "      <th>Entry</th>\n",
       "      <th>Predictions</th>\n",
       "    </tr>\n",
       "  </thead>\n",
       "  <tbody>\n",
       "    <tr>\n",
       "      <th>0</th>\n",
       "      <td>human-false/human_false_A0A023HYP5_Capsid.png</td>\n",
       "      <td>0.0</td>\n",
       "      <td>0.034407</td>\n",
       "      <td>A0A023HYP5</td>\n",
       "      <td>0.0</td>\n",
       "    </tr>\n",
       "    <tr>\n",
       "      <th>1</th>\n",
       "      <td>human-false/human_false_A0A023HYQ5_Capsid.png</td>\n",
       "      <td>0.0</td>\n",
       "      <td>0.033788</td>\n",
       "      <td>A0A023HYQ5</td>\n",
       "      <td>0.0</td>\n",
       "    </tr>\n",
       "    <tr>\n",
       "      <th>2</th>\n",
       "      <td>human-false/human_false_A0A023HZM1_Capsid.png</td>\n",
       "      <td>0.0</td>\n",
       "      <td>0.016890</td>\n",
       "      <td>A0A023HZM1</td>\n",
       "      <td>0.0</td>\n",
       "    </tr>\n",
       "    <tr>\n",
       "      <th>3</th>\n",
       "      <td>human-false/human_false_A0A023IRJ9_Genome.png</td>\n",
       "      <td>0.0</td>\n",
       "      <td>0.007470</td>\n",
       "      <td>A0A023IRJ9</td>\n",
       "      <td>0.0</td>\n",
       "    </tr>\n",
       "    <tr>\n",
       "      <th>4</th>\n",
       "      <td>human-false/human_false_A0A023J5A4_Pre_glycopr...</td>\n",
       "      <td>0.0</td>\n",
       "      <td>0.372747</td>\n",
       "      <td>A0A023J5A4</td>\n",
       "      <td>0.0</td>\n",
       "    </tr>\n",
       "    <tr>\n",
       "      <th>...</th>\n",
       "      <td>...</td>\n",
       "      <td>...</td>\n",
       "      <td>...</td>\n",
       "      <td>...</td>\n",
       "      <td>...</td>\n",
       "    </tr>\n",
       "    <tr>\n",
       "      <th>19321</th>\n",
       "      <td>human-true/human_true_X5F5S8_Major.png</td>\n",
       "      <td>1.0</td>\n",
       "      <td>0.582696</td>\n",
       "      <td>X5F5S8</td>\n",
       "      <td>1.0</td>\n",
       "    </tr>\n",
       "    <tr>\n",
       "      <th>19322</th>\n",
       "      <td>human-true/human_true_X5FNQ6_Major.png</td>\n",
       "      <td>1.0</td>\n",
       "      <td>0.803354</td>\n",
       "      <td>X5FNQ6</td>\n",
       "      <td>1.0</td>\n",
       "    </tr>\n",
       "    <tr>\n",
       "      <th>19323</th>\n",
       "      <td>human-true/human_true_X5FPI3_Major.png</td>\n",
       "      <td>1.0</td>\n",
       "      <td>0.852707</td>\n",
       "      <td>X5FPI3</td>\n",
       "      <td>1.0</td>\n",
       "    </tr>\n",
       "    <tr>\n",
       "      <th>19324</th>\n",
       "      <td>human-true/human_true_X5FQL4_Major.png</td>\n",
       "      <td>1.0</td>\n",
       "      <td>0.814458</td>\n",
       "      <td>X5FQL4</td>\n",
       "      <td>1.0</td>\n",
       "    </tr>\n",
       "    <tr>\n",
       "      <th>19325</th>\n",
       "      <td>human-true/human_true_X5GF98_Env.png</td>\n",
       "      <td>1.0</td>\n",
       "      <td>0.753313</td>\n",
       "      <td>X5GF98</td>\n",
       "      <td>1.0</td>\n",
       "    </tr>\n",
       "  </tbody>\n",
       "</table>\n",
       "<p>19326 rows × 5 columns</p>\n",
       "</div>"
      ],
      "text/plain": [
       "                                               Filenames  True values  \\\n",
       "0          human-false/human_false_A0A023HYP5_Capsid.png          0.0   \n",
       "1          human-false/human_false_A0A023HYQ5_Capsid.png          0.0   \n",
       "2          human-false/human_false_A0A023HZM1_Capsid.png          0.0   \n",
       "3          human-false/human_false_A0A023IRJ9_Genome.png          0.0   \n",
       "4      human-false/human_false_A0A023J5A4_Pre_glycopr...          0.0   \n",
       "...                                                  ...          ...   \n",
       "19321             human-true/human_true_X5F5S8_Major.png          1.0   \n",
       "19322             human-true/human_true_X5FNQ6_Major.png          1.0   \n",
       "19323             human-true/human_true_X5FPI3_Major.png          1.0   \n",
       "19324             human-true/human_true_X5FQL4_Major.png          1.0   \n",
       "19325               human-true/human_true_X5GF98_Env.png          1.0   \n",
       "\n",
       "         Probas       Entry  Predictions  \n",
       "0      0.034407  A0A023HYP5          0.0  \n",
       "1      0.033788  A0A023HYQ5          0.0  \n",
       "2      0.016890  A0A023HZM1          0.0  \n",
       "3      0.007470  A0A023IRJ9          0.0  \n",
       "4      0.372747  A0A023J5A4          0.0  \n",
       "...         ...         ...          ...  \n",
       "19321  0.582696      X5F5S8          1.0  \n",
       "19322  0.803354      X5FNQ6          1.0  \n",
       "19323  0.852707      X5FPI3          1.0  \n",
       "19324  0.814458      X5FQL4          1.0  \n",
       "19325  0.753313      X5GF98          1.0  \n",
       "\n",
       "[19326 rows x 5 columns]"
      ]
     },
     "execution_count": 16,
     "metadata": {},
     "output_type": "execute_result"
    }
   ],
   "source": [
    "results"
   ]
  },
  {
   "cell_type": "code",
   "execution_count": 17,
   "id": "aad831ff-f7f3-466d-aaea-e9c706e525c7",
   "metadata": {},
   "outputs": [
    {
     "name": "stdout",
     "output_type": "stream",
     "text": [
      "259\n"
     ]
    },
    {
     "data": {
      "text/html": [
       "<div>\n",
       "<style scoped>\n",
       "    .dataframe tbody tr th:only-of-type {\n",
       "        vertical-align: middle;\n",
       "    }\n",
       "\n",
       "    .dataframe tbody tr th {\n",
       "        vertical-align: top;\n",
       "    }\n",
       "\n",
       "    .dataframe thead th {\n",
       "        text-align: right;\n",
       "    }\n",
       "</style>\n",
       "<table border=\"1\" class=\"dataframe\">\n",
       "  <thead>\n",
       "    <tr style=\"text-align: right;\">\n",
       "      <th></th>\n",
       "      <th>Filenames</th>\n",
       "      <th>True values</th>\n",
       "      <th>Probas</th>\n",
       "      <th>Entry</th>\n",
       "      <th>Predictions</th>\n",
       "    </tr>\n",
       "  </thead>\n",
       "  <tbody>\n",
       "    <tr>\n",
       "      <th>7</th>\n",
       "      <td>human-false/human_false_A0A023NBJ1_Autoproteas...</td>\n",
       "      <td>0.0</td>\n",
       "      <td>0.611747</td>\n",
       "      <td>A0A023NBJ1</td>\n",
       "      <td>1.0</td>\n",
       "    </tr>\n",
       "    <tr>\n",
       "      <th>69</th>\n",
       "      <td>human-false/human_false_A0A060BCT2_Capsid.png</td>\n",
       "      <td>0.0</td>\n",
       "      <td>0.750553</td>\n",
       "      <td>A0A060BCT2</td>\n",
       "      <td>1.0</td>\n",
       "    </tr>\n",
       "    <tr>\n",
       "      <th>70</th>\n",
       "      <td>human-false/human_false_A0A060BLI4_Capsid.png</td>\n",
       "      <td>0.0</td>\n",
       "      <td>0.660651</td>\n",
       "      <td>A0A060BLI4</td>\n",
       "      <td>1.0</td>\n",
       "    </tr>\n",
       "    <tr>\n",
       "      <th>71</th>\n",
       "      <td>human-false/human_false_A0A060BM97_Capsid.png</td>\n",
       "      <td>0.0</td>\n",
       "      <td>0.687383</td>\n",
       "      <td>A0A060BM97</td>\n",
       "      <td>1.0</td>\n",
       "    </tr>\n",
       "    <tr>\n",
       "      <th>82</th>\n",
       "      <td>human-false/human_false_A0A067YSB8_Envelope.png</td>\n",
       "      <td>0.0</td>\n",
       "      <td>0.803354</td>\n",
       "      <td>A0A067YSB8</td>\n",
       "      <td>1.0</td>\n",
       "    </tr>\n",
       "  </tbody>\n",
       "</table>\n",
       "</div>"
      ],
      "text/plain": [
       "                                            Filenames  True values    Probas  \\\n",
       "7   human-false/human_false_A0A023NBJ1_Autoproteas...          0.0  0.611747   \n",
       "69      human-false/human_false_A0A060BCT2_Capsid.png          0.0  0.750553   \n",
       "70      human-false/human_false_A0A060BLI4_Capsid.png          0.0  0.660651   \n",
       "71      human-false/human_false_A0A060BM97_Capsid.png          0.0  0.687383   \n",
       "82    human-false/human_false_A0A067YSB8_Envelope.png          0.0  0.803354   \n",
       "\n",
       "         Entry  Predictions  \n",
       "7   A0A023NBJ1          1.0  \n",
       "69  A0A060BCT2          1.0  \n",
       "70  A0A060BLI4          1.0  \n",
       "71  A0A060BM97          1.0  \n",
       "82  A0A067YSB8          1.0  "
      ]
     },
     "execution_count": 17,
     "metadata": {},
     "output_type": "execute_result"
    }
   ],
   "source": [
    "false_positives = results[(results['True values'] != results['Predictions']) & (results['Predictions'] == 1.0)].copy()\n",
    "print(false_positives.shape[0])\n",
    "false_positives.head()"
   ]
  },
  {
   "cell_type": "code",
   "execution_count": 32,
   "id": "710b3a9d-73b9-4bd9-897b-22ddd371d4de",
   "metadata": {},
   "outputs": [],
   "source": [
    "entries_false_positives = df[df['Entry'].isin(false_positives['Entry'].tolist())].copy()"
   ]
  },
  {
   "cell_type": "code",
   "execution_count": 33,
   "id": "57ab84f7-5fba-41bd-a4d2-0fc2002ec39c",
   "metadata": {},
   "outputs": [
    {
     "data": {
      "text/plain": [
       "78"
      ]
     },
     "execution_count": 33,
     "metadata": {},
     "output_type": "execute_result"
    }
   ],
   "source": [
    "entries_false_positives['Protein'].nunique()"
   ]
  },
  {
   "cell_type": "code",
   "execution_count": 39,
   "id": "96bd3ffa-36f7-4d04-9a90-6f9fa9b5e27b",
   "metadata": {},
   "outputs": [
    {
     "data": {
      "text/plain": [
       "136"
      ]
     },
     "execution_count": 39,
     "metadata": {},
     "output_type": "execute_result"
    }
   ],
   "source": [
    "entries_false_positives['Virus hosts'].nunique()"
   ]
  },
  {
   "cell_type": "code",
   "execution_count": 74,
   "id": "a881b7e1-e021-4959-8091-76453b330af6",
   "metadata": {},
   "outputs": [
    {
     "data": {
      "text/html": [
       "<div>\n",
       "<style scoped>\n",
       "    .dataframe tbody tr th:only-of-type {\n",
       "        vertical-align: middle;\n",
       "    }\n",
       "\n",
       "    .dataframe tbody tr th {\n",
       "        vertical-align: top;\n",
       "    }\n",
       "\n",
       "    .dataframe thead th {\n",
       "        text-align: right;\n",
       "    }\n",
       "</style>\n",
       "<table border=\"1\" class=\"dataframe\">\n",
       "  <thead>\n",
       "    <tr style=\"text-align: right;\">\n",
       "      <th></th>\n",
       "      <th>Entry</th>\n",
       "      <th>Protein</th>\n",
       "      <th>Length</th>\n",
       "      <th>Species name</th>\n",
       "      <th>Species taxonomic ID</th>\n",
       "      <th>Species family</th>\n",
       "      <th>Virus hosts</th>\n",
       "      <th>Virus hosts ID</th>\n",
       "      <th>Host kingdom</th>\n",
       "      <th>Host superkingdom</th>\n",
       "      <th>Molecule type</th>\n",
       "      <th>Infects human</th>\n",
       "    </tr>\n",
       "  </thead>\n",
       "  <tbody>\n",
       "    <tr>\n",
       "      <th>30</th>\n",
       "      <td>A0A023MH03</td>\n",
       "      <td>Portal protein</td>\n",
       "      <td>405.0</td>\n",
       "      <td>Escherichia virus FFH1</td>\n",
       "      <td>2049893</td>\n",
       "      <td>Demerecviridae</td>\n",
       "      <td>Escherichia coli [TaxID: 562]</td>\n",
       "      <td>562</td>\n",
       "      <td>Escherichia coli</td>\n",
       "      <td>Bacteria</td>\n",
       "      <td>unknown</td>\n",
       "      <td>human-false</td>\n",
       "    </tr>\n",
       "    <tr>\n",
       "      <th>162</th>\n",
       "      <td>A0A023W6G5</td>\n",
       "      <td>Portal protein</td>\n",
       "      <td>517.0</td>\n",
       "      <td>Serratia virus PS2</td>\n",
       "      <td>2846184</td>\n",
       "      <td>Myoviridae</td>\n",
       "      <td>Serratia marcescens [TaxID: 615]</td>\n",
       "      <td>615</td>\n",
       "      <td>Serratia marcescens</td>\n",
       "      <td>Bacteria</td>\n",
       "      <td>unknown</td>\n",
       "      <td>human-false</td>\n",
       "    </tr>\n",
       "    <tr>\n",
       "      <th>171</th>\n",
       "      <td>A0A023ZV09</td>\n",
       "      <td>Portal protein</td>\n",
       "      <td>524.0</td>\n",
       "      <td>Escherichia virus E112</td>\n",
       "      <td>1914201</td>\n",
       "      <td>Myoviridae</td>\n",
       "      <td>Escherichia coli [TaxID: 562]</td>\n",
       "      <td>562</td>\n",
       "      <td>Escherichia coli</td>\n",
       "      <td>Bacteria</td>\n",
       "      <td>unknown</td>\n",
       "      <td>human-false</td>\n",
       "    </tr>\n",
       "    <tr>\n",
       "      <th>174</th>\n",
       "      <td>A0A023ZX00</td>\n",
       "      <td>Portal protein</td>\n",
       "      <td>524.0</td>\n",
       "      <td>Escherichia virus T4</td>\n",
       "      <td>10665</td>\n",
       "      <td>Myoviridae</td>\n",
       "      <td>Escherichia coli [TaxID: 562]</td>\n",
       "      <td>562</td>\n",
       "      <td>Escherichia coli</td>\n",
       "      <td>Bacteria</td>\n",
       "      <td>unknown</td>\n",
       "      <td>human-false</td>\n",
       "    </tr>\n",
       "    <tr>\n",
       "      <th>178</th>\n",
       "      <td>A0A024AZY6</td>\n",
       "      <td>Portal protein</td>\n",
       "      <td>557.0</td>\n",
       "      <td>Bacillus virus CAM003</td>\n",
       "      <td>1918012</td>\n",
       "      <td>Herelleviridae</td>\n",
       "      <td>Bacillus thuringiensis [TaxID: 1428]</td>\n",
       "      <td>1428</td>\n",
       "      <td>Bacillus thuringiensis</td>\n",
       "      <td>Bacteria</td>\n",
       "      <td>unknown</td>\n",
       "      <td>human-false</td>\n",
       "    </tr>\n",
       "    <tr>\n",
       "      <th>...</th>\n",
       "      <td>...</td>\n",
       "      <td>...</td>\n",
       "      <td>...</td>\n",
       "      <td>...</td>\n",
       "      <td>...</td>\n",
       "      <td>...</td>\n",
       "      <td>...</td>\n",
       "      <td>...</td>\n",
       "      <td>...</td>\n",
       "      <td>...</td>\n",
       "      <td>...</td>\n",
       "      <td>...</td>\n",
       "    </tr>\n",
       "    <tr>\n",
       "      <th>38719</th>\n",
       "      <td>X2KR22</td>\n",
       "      <td>Phage portal protein, HK97 family</td>\n",
       "      <td>390.0</td>\n",
       "      <td>Campylobacter phage CJIE4-1</td>\n",
       "      <td>1470458</td>\n",
       "      <td>Siphoviridae</td>\n",
       "      <td>Campylobacter jejuni [TaxID: 197]</td>\n",
       "      <td>197</td>\n",
       "      <td>Campylobacter jejuni</td>\n",
       "      <td>Bacteria</td>\n",
       "      <td>unknown</td>\n",
       "      <td>human-false</td>\n",
       "    </tr>\n",
       "    <tr>\n",
       "      <th>38720</th>\n",
       "      <td>X2KR48</td>\n",
       "      <td>Phage portal protein, HK97 family</td>\n",
       "      <td>390.0</td>\n",
       "      <td>Campylobacter phage CJIE4-3</td>\n",
       "      <td>1470460</td>\n",
       "      <td>Siphoviridae</td>\n",
       "      <td>Campylobacter jejuni [TaxID: 197]</td>\n",
       "      <td>197</td>\n",
       "      <td>Campylobacter jejuni</td>\n",
       "      <td>Bacteria</td>\n",
       "      <td>unknown</td>\n",
       "      <td>human-false</td>\n",
       "    </tr>\n",
       "    <tr>\n",
       "      <th>38721</th>\n",
       "      <td>X2KS29</td>\n",
       "      <td>HK97 family portal protein</td>\n",
       "      <td>383.0</td>\n",
       "      <td>Enterococcus virus AUEF3</td>\n",
       "      <td>2560417</td>\n",
       "      <td>Siphoviridae</td>\n",
       "      <td>Enterococcus faecalis [TaxID: 1351]</td>\n",
       "      <td>1351</td>\n",
       "      <td>Enterococcus faecalis</td>\n",
       "      <td>Bacteria</td>\n",
       "      <td>unknown</td>\n",
       "      <td>human-false</td>\n",
       "    </tr>\n",
       "    <tr>\n",
       "      <th>38724</th>\n",
       "      <td>X2KXI2</td>\n",
       "      <td>Phage portal protein, HK97 family</td>\n",
       "      <td>390.0</td>\n",
       "      <td>Campylobacter phage CJIE4-4</td>\n",
       "      <td>1470461</td>\n",
       "      <td>Siphoviridae</td>\n",
       "      <td>Campylobacter jejuni [TaxID: 197]</td>\n",
       "      <td>197</td>\n",
       "      <td>Campylobacter jejuni</td>\n",
       "      <td>Bacteria</td>\n",
       "      <td>unknown</td>\n",
       "      <td>human-false</td>\n",
       "    </tr>\n",
       "    <tr>\n",
       "      <th>38739</th>\n",
       "      <td>X4YW21</td>\n",
       "      <td>Portal protein</td>\n",
       "      <td>560.0</td>\n",
       "      <td>Salmonella virus SJ3</td>\n",
       "      <td>1987155</td>\n",
       "      <td>Ackermannviridae</td>\n",
       "      <td>Salmonella [TaxID: 590]</td>\n",
       "      <td>590</td>\n",
       "      <td>Salmonella</td>\n",
       "      <td>Bacteria</td>\n",
       "      <td>unknown</td>\n",
       "      <td>human-false</td>\n",
       "    </tr>\n",
       "  </tbody>\n",
       "</table>\n",
       "<p>1480 rows × 12 columns</p>\n",
       "</div>"
      ],
      "text/plain": [
       "            Entry                            Protein  Length  \\\n",
       "30     A0A023MH03                     Portal protein   405.0   \n",
       "162    A0A023W6G5                     Portal protein   517.0   \n",
       "171    A0A023ZV09                     Portal protein   524.0   \n",
       "174    A0A023ZX00                     Portal protein   524.0   \n",
       "178    A0A024AZY6                     Portal protein   557.0   \n",
       "...           ...                                ...     ...   \n",
       "38719      X2KR22  Phage portal protein, HK97 family   390.0   \n",
       "38720      X2KR48  Phage portal protein, HK97 family   390.0   \n",
       "38721      X2KS29         HK97 family portal protein   383.0   \n",
       "38724      X2KXI2  Phage portal protein, HK97 family   390.0   \n",
       "38739      X4YW21                     Portal protein   560.0   \n",
       "\n",
       "                      Species name  Species taxonomic ID    Species family  \\\n",
       "30          Escherichia virus FFH1               2049893    Demerecviridae   \n",
       "162             Serratia virus PS2               2846184        Myoviridae   \n",
       "171         Escherichia virus E112               1914201        Myoviridae   \n",
       "174           Escherichia virus T4                 10665        Myoviridae   \n",
       "178          Bacillus virus CAM003               1918012    Herelleviridae   \n",
       "...                            ...                   ...               ...   \n",
       "38719  Campylobacter phage CJIE4-1               1470458      Siphoviridae   \n",
       "38720  Campylobacter phage CJIE4-3               1470460      Siphoviridae   \n",
       "38721     Enterococcus virus AUEF3               2560417      Siphoviridae   \n",
       "38724  Campylobacter phage CJIE4-4               1470461      Siphoviridae   \n",
       "38739         Salmonella virus SJ3               1987155  Ackermannviridae   \n",
       "\n",
       "                                Virus hosts Virus hosts ID  \\\n",
       "30            Escherichia coli [TaxID: 562]            562   \n",
       "162        Serratia marcescens [TaxID: 615]            615   \n",
       "171           Escherichia coli [TaxID: 562]            562   \n",
       "174           Escherichia coli [TaxID: 562]            562   \n",
       "178    Bacillus thuringiensis [TaxID: 1428]           1428   \n",
       "...                                     ...            ...   \n",
       "38719     Campylobacter jejuni [TaxID: 197]            197   \n",
       "38720     Campylobacter jejuni [TaxID: 197]            197   \n",
       "38721   Enterococcus faecalis [TaxID: 1351]           1351   \n",
       "38724     Campylobacter jejuni [TaxID: 197]            197   \n",
       "38739               Salmonella [TaxID: 590]            590   \n",
       "\n",
       "                 Host kingdom Host superkingdom Molecule type Infects human  \n",
       "30           Escherichia coli          Bacteria       unknown   human-false  \n",
       "162       Serratia marcescens          Bacteria       unknown   human-false  \n",
       "171          Escherichia coli          Bacteria       unknown   human-false  \n",
       "174          Escherichia coli          Bacteria       unknown   human-false  \n",
       "178    Bacillus thuringiensis          Bacteria       unknown   human-false  \n",
       "...                       ...               ...           ...           ...  \n",
       "38719    Campylobacter jejuni          Bacteria       unknown   human-false  \n",
       "38720    Campylobacter jejuni          Bacteria       unknown   human-false  \n",
       "38721   Enterococcus faecalis          Bacteria       unknown   human-false  \n",
       "38724    Campylobacter jejuni          Bacteria       unknown   human-false  \n",
       "38739              Salmonella          Bacteria       unknown   human-false  \n",
       "\n",
       "[1480 rows x 12 columns]"
      ]
     },
     "execution_count": 74,
     "metadata": {},
     "output_type": "execute_result"
    }
   ],
   "source": [
    "df[(df['Protein'].str.contains(\"[Pp]ortal\")) & (df['Infects human'].str.contains(\"false\"))]"
   ]
  },
  {
   "cell_type": "markdown",
   "id": "c52e015d-a666-4b48-b856-6fd0172cec90",
   "metadata": {},
   "source": [
    "Helicobacter pylori - interesting\n",
    "Yersinia enterocolitica - interesting"
   ]
  },
  {
   "cell_type": "markdown",
   "id": "7b658d55-fc57-415b-a4f4-d03e0f7c637f",
   "metadata": {},
   "source": [
    "5 viruses were falsely classified as positive and al for the portal protein and 4 belonged had bacterial hosts and only one had a plant host. It is unclear why this is but it may warrant investigation of the portal protein. Portal proteins have low sequence similarity, but conserved function, however, they are said to be plastic and researched as a potential antiviral drug target in HSV-1 and HSV-2."
   ]
  },
  {
   "cell_type": "code",
   "execution_count": 58,
   "id": "091ba370-3375-4b9a-a16e-625c64bc3c22",
   "metadata": {},
   "outputs": [
    {
     "data": {
      "text/html": [
       "<div>\n",
       "<style scoped>\n",
       "    .dataframe tbody tr th:only-of-type {\n",
       "        vertical-align: middle;\n",
       "    }\n",
       "\n",
       "    .dataframe tbody tr th {\n",
       "        vertical-align: top;\n",
       "    }\n",
       "\n",
       "    .dataframe thead th {\n",
       "        text-align: right;\n",
       "    }\n",
       "</style>\n",
       "<table border=\"1\" class=\"dataframe\">\n",
       "  <thead>\n",
       "    <tr style=\"text-align: right;\">\n",
       "      <th></th>\n",
       "      <th>Filenames</th>\n",
       "      <th>True values</th>\n",
       "      <th>Probas</th>\n",
       "      <th>Entry</th>\n",
       "      <th>Predictions</th>\n",
       "    </tr>\n",
       "  </thead>\n",
       "  <tbody>\n",
       "  </tbody>\n",
       "</table>\n",
       "</div>"
      ],
      "text/plain": [
       "Empty DataFrame\n",
       "Columns: [Filenames, True values, Probas, Entry, Predictions]\n",
       "Index: []"
      ]
     },
     "execution_count": 58,
     "metadata": {},
     "output_type": "execute_result"
    }
   ],
   "source": [
    "results[(results['Filenames'].str.contains(\"Portal\")) & (results['Filenames'].str.contains(\"true\")) ]"
   ]
  },
  {
   "cell_type": "code",
   "execution_count": 56,
   "id": "1ffbb6d7-d362-4d77-9680-b48684ad0e17",
   "metadata": {},
   "outputs": [
    {
     "data": {
      "text/html": [
       "<div>\n",
       "<style scoped>\n",
       "    .dataframe tbody tr th:only-of-type {\n",
       "        vertical-align: middle;\n",
       "    }\n",
       "\n",
       "    .dataframe tbody tr th {\n",
       "        vertical-align: top;\n",
       "    }\n",
       "\n",
       "    .dataframe thead th {\n",
       "        text-align: right;\n",
       "    }\n",
       "</style>\n",
       "<table border=\"1\" class=\"dataframe\">\n",
       "  <thead>\n",
       "    <tr style=\"text-align: right;\">\n",
       "      <th></th>\n",
       "      <th>Entry</th>\n",
       "      <th>Protein</th>\n",
       "      <th>Length</th>\n",
       "      <th>Species name</th>\n",
       "      <th>Species taxonomic ID</th>\n",
       "      <th>Species family</th>\n",
       "      <th>Virus hosts</th>\n",
       "      <th>Virus hosts ID</th>\n",
       "      <th>Host kingdom</th>\n",
       "      <th>Host superkingdom</th>\n",
       "      <th>Molecule type</th>\n",
       "      <th>Infects human</th>\n",
       "    </tr>\n",
       "  </thead>\n",
       "  <tbody>\n",
       "    <tr>\n",
       "      <th>5038</th>\n",
       "      <td>A0A0K2FHA1</td>\n",
       "      <td>Portal protein</td>\n",
       "      <td>536.0</td>\n",
       "      <td>Achromobacter phage phiAxp-2</td>\n",
       "      <td>1664246</td>\n",
       "      <td>Siphoviridae</td>\n",
       "      <td>Achromobacter xylosoxidans [TaxID: 85698]</td>\n",
       "      <td>85698</td>\n",
       "      <td>Achromobacter xylosoxidans</td>\n",
       "      <td>Bacteria</td>\n",
       "      <td>unknown</td>\n",
       "      <td>human-false</td>\n",
       "    </tr>\n",
       "    <tr>\n",
       "      <th>22756</th>\n",
       "      <td>A7TWJ1</td>\n",
       "      <td>Portal protein</td>\n",
       "      <td>278.0</td>\n",
       "      <td>Staphylococcus virus tp310-2</td>\n",
       "      <td>2846382</td>\n",
       "      <td>Siphoviridae</td>\n",
       "      <td>Staphylococcus aureus [TaxID: 1280]</td>\n",
       "      <td>1280</td>\n",
       "      <td>Staphylococcus aureus</td>\n",
       "      <td>Bacteria</td>\n",
       "      <td>unknown</td>\n",
       "      <td>human-false</td>\n",
       "    </tr>\n",
       "    <tr>\n",
       "      <th>29330</th>\n",
       "      <td>I7HHN4</td>\n",
       "      <td>Portal protein</td>\n",
       "      <td>602.0</td>\n",
       "      <td>Helicobacter virus KHP30</td>\n",
       "      <td>1987149</td>\n",
       "      <td>Podoviridae</td>\n",
       "      <td>Helicobacter pylori [TaxID: 210]</td>\n",
       "      <td>210</td>\n",
       "      <td>Helicobacter pylori</td>\n",
       "      <td>Bacteria</td>\n",
       "      <td>unknown</td>\n",
       "      <td>human-false</td>\n",
       "    </tr>\n",
       "    <tr>\n",
       "      <th>29343</th>\n",
       "      <td>I7KR94</td>\n",
       "      <td>Portal protein</td>\n",
       "      <td>525.0</td>\n",
       "      <td>Yersinia virus R1RT</td>\n",
       "      <td>1921705</td>\n",
       "      <td>Myoviridae</td>\n",
       "      <td>Yersinia enterocolitica [TaxID: 630]</td>\n",
       "      <td>630</td>\n",
       "      <td>Yersinia enterocolitica</td>\n",
       "      <td>Bacteria</td>\n",
       "      <td>unknown</td>\n",
       "      <td>human-false</td>\n",
       "    </tr>\n",
       "    <tr>\n",
       "      <th>31851</th>\n",
       "      <td>M4QNQ7</td>\n",
       "      <td>Portal protein</td>\n",
       "      <td>432.0</td>\n",
       "      <td>Tetraselmis viridis virus S20</td>\n",
       "      <td>754070</td>\n",
       "      <td>Siphoviridae</td>\n",
       "      <td>Tetraselmis viridis [TaxID: 748148]</td>\n",
       "      <td>748148</td>\n",
       "      <td>Viridiplantae</td>\n",
       "      <td>Eukaryota</td>\n",
       "      <td>unknown</td>\n",
       "      <td>human-false</td>\n",
       "    </tr>\n",
       "  </tbody>\n",
       "</table>\n",
       "</div>"
      ],
      "text/plain": [
       "            Entry         Protein  Length                   Species name  \\\n",
       "5038   A0A0K2FHA1  Portal protein   536.0   Achromobacter phage phiAxp-2   \n",
       "22756      A7TWJ1  Portal protein   278.0   Staphylococcus virus tp310-2   \n",
       "29330      I7HHN4  Portal protein   602.0       Helicobacter virus KHP30   \n",
       "29343      I7KR94  Portal protein   525.0            Yersinia virus R1RT   \n",
       "31851      M4QNQ7  Portal protein   432.0  Tetraselmis viridis virus S20   \n",
       "\n",
       "       Species taxonomic ID Species family  \\\n",
       "5038                1664246   Siphoviridae   \n",
       "22756               2846382   Siphoviridae   \n",
       "29330               1987149    Podoviridae   \n",
       "29343               1921705     Myoviridae   \n",
       "31851                754070   Siphoviridae   \n",
       "\n",
       "                                     Virus hosts Virus hosts ID  \\\n",
       "5038   Achromobacter xylosoxidans [TaxID: 85698]          85698   \n",
       "22756        Staphylococcus aureus [TaxID: 1280]           1280   \n",
       "29330           Helicobacter pylori [TaxID: 210]            210   \n",
       "29343       Yersinia enterocolitica [TaxID: 630]            630   \n",
       "31851        Tetraselmis viridis [TaxID: 748148]         748148   \n",
       "\n",
       "                     Host kingdom Host superkingdom Molecule type  \\\n",
       "5038   Achromobacter xylosoxidans          Bacteria       unknown   \n",
       "22756       Staphylococcus aureus          Bacteria       unknown   \n",
       "29330         Helicobacter pylori          Bacteria       unknown   \n",
       "29343     Yersinia enterocolitica          Bacteria       unknown   \n",
       "31851               Viridiplantae         Eukaryota       unknown   \n",
       "\n",
       "      Infects human  \n",
       "5038    human-false  \n",
       "22756   human-false  \n",
       "29330   human-false  \n",
       "29343   human-false  \n",
       "31851   human-false  "
      ]
     },
     "execution_count": 56,
     "metadata": {},
     "output_type": "execute_result"
    }
   ],
   "source": [
    "entries_false_positives[entries_false_positives['Protein'].str.contains(\"Portal protein\")]"
   ]
  },
  {
   "cell_type": "markdown",
   "id": "bb250240-1888-4b59-878a-a613f29efc56",
   "metadata": {},
   "source": [
    "- A total of 36 entries with 19 diff protein names which were falsely classified from bacterial hosts. Some had uncharacterised proteins which shared no structural identity with any protein on uniprot.\n",
    "\n",
    "- The rest may be due to similarity of proteins and shared by multiple hosts. such viruses may have human interacting partners but may lack machinery for replication which may be identified by other PPI studies."
   ]
  },
  {
   "cell_type": "code",
   "execution_count": 65,
   "id": "c27b660a-5f7c-4c48-8bc3-dadf0da59d0c",
   "metadata": {},
   "outputs": [
    {
     "data": {
      "text/plain": [
       "19"
      ]
     },
     "execution_count": 65,
     "metadata": {},
     "output_type": "execute_result"
    }
   ],
   "source": [
    "entries_false_positives[entries_false_positives['Host superkingdom'].str.contains(\"[Bb]acteri\")]['Protein'].nunique()"
   ]
  },
  {
   "cell_type": "code",
   "execution_count": 70,
   "id": "ef497cb8-eed7-474a-a062-e1f86045372a",
   "metadata": {},
   "outputs": [
    {
     "data": {
      "text/plain": [
       "Entry                                                              M9ZRW9\n",
       "Protein                                                Genome polyprotein\n",
       "Length                                                               3010\n",
       "Species name                                                  Pegivirus B\n",
       "Species taxonomic ID                                              1307801\n",
       "Species family                                               Flaviviridae\n",
       "Virus hosts             Chaerephon [TaxID: 242383]; Epomophorus labiat...\n",
       "Virus hosts ID          584996; 258867; 907075; 110943; 242383; 903567...\n",
       "Host kingdom                                                      Metazoa\n",
       "Host superkingdom                                               Eukaryota\n",
       "Molecule type                                                    ssRNA(+)\n",
       "Infects human                                                 human-false\n",
       "Name: 31986, dtype: object"
      ]
     },
     "execution_count": 70,
     "metadata": {},
     "output_type": "execute_result"
    }
   ],
   "source": [
    "entries_false_positives.loc[31986, :]"
   ]
  },
  {
   "cell_type": "code",
   "execution_count": 68,
   "id": "d3122e9f-6bfc-479d-ba97-096c8495f927",
   "metadata": {
    "scrolled": true,
    "tags": []
   },
   "outputs": [
    {
     "data": {
      "text/plain": [
       "31        1\n",
       "23079     1\n",
       "23294     1\n",
       "23969     1\n",
       "23971     1\n",
       "         ..\n",
       "35184    14\n",
       "14394    16\n",
       "31990    19\n",
       "31986    19\n",
       "3536     66\n",
       "Name: Virus hosts, Length: 259, dtype: int64"
      ]
     },
     "execution_count": 68,
     "metadata": {},
     "output_type": "execute_result"
    }
   ],
   "source": [
    "entries_false_positives['Virus hosts'].apply(lambda items: len(items.split(\"; \"))).sort_values()"
   ]
  },
  {
   "cell_type": "code",
   "execution_count": 40,
   "id": "35e4aec2-2b79-4928-a4e2-767e1978d4a7",
   "metadata": {},
   "outputs": [
    {
     "data": {
      "text/plain": [
       "167"
      ]
     },
     "execution_count": 40,
     "metadata": {},
     "output_type": "execute_result"
    }
   ],
   "source": [
    "entries_false_positives['Species name'].nunique()"
   ]
  },
  {
   "cell_type": "code",
   "execution_count": 43,
   "id": "24d3e37e-3127-4062-a4cb-add2613ee680",
   "metadata": {
    "scrolled": true,
    "tags": []
   },
   "outputs": [
    {
     "data": {
      "text/plain": [
       "array(['Pestivirus Giraffe-1', 'Bovine astrovirus', 'Pegivirus A',\n",
       "       'Lizard atadenovirus A', 'Citrobacter virus Miller',\n",
       "       'Pipapillomavirus 1', 'Tursiops aduncus papillomavirus',\n",
       "       'Bovine polyomavirus 2', 'Cotia virus', 'Equid alphaherpesvirus 1',\n",
       "       'Israel turkey meningoencephalomyelitis virus',\n",
       "       'Papio cynocephalus polyomavirus 2',\n",
       "       'Avon-Heathcote Estuary associated circular virus 15',\n",
       "       'Bat paramyxovirus', 'Simian immunodeficiency virus',\n",
       "       'Murine respirovirus', 'Bovine respirovirus 3',\n",
       "       'Brucella virus Tb', 'Necocli orthohantavirus',\n",
       "       'Dromedary astrovirus', 'Achromobacter phage phiAxp-2',\n",
       "       'Simian adenovirus 19', 'Simian mastadenovirus E',\n",
       "       'Simian adenovirus 8', 'Salmonella virus P22', 'Entebbe bat virus',\n",
       "       'Hepatovirus G', 'Hepatovirus F', 'Deltapapillomavirus 5',\n",
       "       'Porcine astrovirus 3', 'Pseudomonas phage O4',\n",
       "       'Gordonia phage McGonagall', 'Bat mastadenovirus C',\n",
       "       'Teschovirus A', 'Macacine betaherpesvirus 9',\n",
       "       'Simian adenovirus B', 'Salmonella phage 118970_sal3',\n",
       "       'Taupapillomavirus 1', 'Skunkpox virus', 'Volepox virus',\n",
       "       'Dyokappapapillomavirus 5', 'Simian mastadenovirus I',\n",
       "       'Porcine orthorubulavirus', 'Escherichia virus B',\n",
       "       'Enterovirus AN12', 'Equid alphaherpesvirus 3',\n",
       "       'Canis familiaris polyomavirus 1', 'Bat mastadenovirus F',\n",
       "       'Grey sealpox virus', 'Porcine astrovirus 4',\n",
       "       'Groundnut ringspot orthotospovirus', 'Mamastrovirus 3',\n",
       "       'Cadicivirus B', 'Rodent papillomavirus',\n",
       "       'Streptomyces virus Immanuel3',\n",
       "       'Leptonychotes weddellii papillomavirus 3',\n",
       "       'Leptonychotes weddellii papillomavirus 4', 'Reptilian ferlavirus',\n",
       "       'Hepacivirus N', 'Bagaza virus', 'Rhinolophus picornavirus',\n",
       "       'Apodemus agrarius picornavirus', 'Clostridium virus CPS2',\n",
       "       'Avian orthoavulavirus 1', 'Enterovirus G',\n",
       "       'Polar bear mastadenovirus 1', 'Bat rotavirus',\n",
       "       'Sifaka hepacivirus', 'Dolphin pegivirus',\n",
       "       'Phascolarctid gammaherpesvirus 1',\n",
       "       'Leopardus wiedii papillomavirus type 1',\n",
       "       'Tomato chlorotic spot orthotospovirus', 'Bovine orthopneumovirus',\n",
       "       'Phocid alphaherpesvirus 1', 'Klebsiella virus ST437OXA245phi4-1',\n",
       "       'Klebsiella virus ST512KPC3phi13-2',\n",
       "       'Cat associated lyon-IARC polyomavirus', 'Serratia virus Moabite',\n",
       "       'Hypsugopox virus', 'Mucambo virus', 'Avian coronavirus',\n",
       "       'Streptomyces virus JXY1', 'Pangolin coronavirus',\n",
       "       'Capra hircus papillomavirus type 2',\n",
       "       'Respirovirus ChamoisRV/IT2014', 'Coronavirus BtRt-BetaCoV/GX2018',\n",
       "       'Influenza D virus', 'Adenoviridae sp.', 'Deltapapillomavirus 6',\n",
       "       'Porcine mastadenovirus B', 'Rousettus bat coronavirus HKU9',\n",
       "       'Staphylococcus virus tp310-2', 'Parechovirus B',\n",
       "       'Macaca mulatta polyomavirus 1', 'Chipapillomavirus 2',\n",
       "       'Hantavirus CGRn9415',\n",
       "       'Bandicoot papillomatosis carcinomatosis virus type 2',\n",
       "       'Beak and feather disease virus', 'Escherichia virus MS2',\n",
       "       'Cotton leaf curl Gezira virus',\n",
       "       'Whitewater Arroyo mammarenavirus', 'Alphapapillomavirus 12',\n",
       "       'Chaoyang virus', 'Suid alphaherpesvirus 1', 'Chipapillomavirus 1',\n",
       "       'Pirital mammarenavirus', 'Dyokappapapillomavirus 1',\n",
       "       'Avian metaavulavirus 6', 'Bacillus virus phi105',\n",
       "       'Aeromonas phage phiAS5', 'Woodchuck hepatitis virus',\n",
       "       'Pan troglodytes polyomavirus 1', 'Upsilonpapillomavirus 1',\n",
       "       'Barbel circovirus', 'Hepacivirus B', 'Kappapapillomavirus 2',\n",
       "       'Pipapillomavirus 2', 'Mosavirus A', 'Dyomupapillomavirus 1',\n",
       "       'Cercopithecine betaherpesvirus 5', 'Tailam jeilongvirus',\n",
       "       'Schmallenberg orthobunyavirus', 'Simian mastadenovirus F',\n",
       "       'Ectromelia virus', 'Clostridium virus phiCPV4',\n",
       "       'Myotis ricketti herpesvirus 2', 'Avian metaavulavirus 11',\n",
       "       'Staphylococcus virus SA11', 'Helicobacter virus KHP30',\n",
       "       'Yersinia virus R1RT', 'Procyon lotor polyomavirus 1',\n",
       "       'Golden reptarenavirus', 'Artibeus planirostris polyomavirus 2',\n",
       "       'Mopeia Lassa virus reassortant 29',\n",
       "       'Tetraselmis viridis virus S20', 'Simian mastadenovirus C',\n",
       "       'Pegivirus B', 'Lactococcus virus sk1',\n",
       "       'Saimiriine gammaherpesvirus 2', 'Escherichia virus T4',\n",
       "       'Pseudomonas virus phi6', 'Felid alphaherpesvirus 1',\n",
       "       'Caviid betaherpesvirus 2', 'Taterapox virus',\n",
       "       'Dyoxipapillomavirus 1', 'Kedougou virus', 'Avian sapelovirus',\n",
       "       'Maize mosaic nucleorhabdovirus', 'Camelpox virus',\n",
       "       'Omikronpapillomavirus 1', 'Jembrana disease virus',\n",
       "       'Fowl aviadenovirus A', 'Paraguayan mammarenavirus',\n",
       "       'Mammalian 1 orthobornavirus', 'Etapapillomavirus 1',\n",
       "       'Mirabilis mosaic virus', 'Dipteran brevihamaparvovirus 1',\n",
       "       'Gibbon ape leukemia virus', 'Hepacivirus J', 'Hepacivirus D',\n",
       "       'Mycobacterium phage Redno2', 'Xipapillomavirus 1',\n",
       "       'Turkey aviadenovirus C', 'Ralstonia virus RSK1',\n",
       "       'Dyoomikronpapillomavirus 1', 'Enterobacter virus PG7',\n",
       "       'Anomala cuprea entomopoxvirus'], dtype=object)"
      ]
     },
     "execution_count": 43,
     "metadata": {},
     "output_type": "execute_result"
    }
   ],
   "source": [
    "entries_false_positives['Species name'].unique()"
   ]
  },
  {
   "cell_type": "markdown",
   "id": "40bcaa11-556e-4b56-96ee-f1da909e9bc7",
   "metadata": {},
   "source": [
    "## False negatives"
   ]
  },
  {
   "cell_type": "code",
   "execution_count": 20,
   "id": "e2cebada-102a-4ccf-a9f1-3a4273fc0e7b",
   "metadata": {},
   "outputs": [
    {
     "data": {
      "text/plain": [
       "(11245, 5)"
      ]
     },
     "execution_count": 20,
     "metadata": {},
     "output_type": "execute_result"
    }
   ],
   "source": [
    "results[(results['True values'] == results['Predictions']) & (results['Predictions'] == 1.0)].shape"
   ]
  },
  {
   "cell_type": "code",
   "execution_count": 21,
   "id": "8dc03966-60b0-4520-87fc-3809f75215e8",
   "metadata": {},
   "outputs": [
    {
     "name": "stdout",
     "output_type": "stream",
     "text": [
      "353\n"
     ]
    },
    {
     "data": {
      "text/html": [
       "<div>\n",
       "<style scoped>\n",
       "    .dataframe tbody tr th:only-of-type {\n",
       "        vertical-align: middle;\n",
       "    }\n",
       "\n",
       "    .dataframe tbody tr th {\n",
       "        vertical-align: top;\n",
       "    }\n",
       "\n",
       "    .dataframe thead th {\n",
       "        text-align: right;\n",
       "    }\n",
       "</style>\n",
       "<table border=\"1\" class=\"dataframe\">\n",
       "  <thead>\n",
       "    <tr style=\"text-align: right;\">\n",
       "      <th></th>\n",
       "      <th>Filenames</th>\n",
       "      <th>True values</th>\n",
       "      <th>Probas</th>\n",
       "      <th>Entry</th>\n",
       "      <th>Predictions</th>\n",
       "    </tr>\n",
       "  </thead>\n",
       "  <tbody>\n",
       "    <tr>\n",
       "      <th>7828</th>\n",
       "      <td>human-true/human_true_A0A024A4F8_Envelope.png</td>\n",
       "      <td>1.0</td>\n",
       "      <td>0.020236</td>\n",
       "      <td>A0A024A4F8</td>\n",
       "      <td>0.0</td>\n",
       "    </tr>\n",
       "    <tr>\n",
       "      <th>7888</th>\n",
       "      <td>human-true/human_true_A0A024HR11_Autoprotease.png</td>\n",
       "      <td>1.0</td>\n",
       "      <td>0.107901</td>\n",
       "      <td>A0A024HR11</td>\n",
       "      <td>0.0</td>\n",
       "    </tr>\n",
       "    <tr>\n",
       "      <th>7971</th>\n",
       "      <td>human-true/human_true_A0A068BEH8_Togavirin.png</td>\n",
       "      <td>1.0</td>\n",
       "      <td>0.005496</td>\n",
       "      <td>A0A068BEH8</td>\n",
       "      <td>0.0</td>\n",
       "    </tr>\n",
       "    <tr>\n",
       "      <th>7979</th>\n",
       "      <td>human-true/human_true_A0A068F575_Core.png</td>\n",
       "      <td>1.0</td>\n",
       "      <td>0.086030</td>\n",
       "      <td>A0A068F575</td>\n",
       "      <td>0.0</td>\n",
       "    </tr>\n",
       "    <tr>\n",
       "      <th>8049</th>\n",
       "      <td>human-true/human_true_A0A075IIQ6_Hexon.png</td>\n",
       "      <td>1.0</td>\n",
       "      <td>0.180360</td>\n",
       "      <td>A0A075IIQ6</td>\n",
       "      <td>0.0</td>\n",
       "    </tr>\n",
       "  </tbody>\n",
       "</table>\n",
       "</div>"
      ],
      "text/plain": [
       "                                              Filenames  True values  \\\n",
       "7828      human-true/human_true_A0A024A4F8_Envelope.png          1.0   \n",
       "7888  human-true/human_true_A0A024HR11_Autoprotease.png          1.0   \n",
       "7971     human-true/human_true_A0A068BEH8_Togavirin.png          1.0   \n",
       "7979          human-true/human_true_A0A068F575_Core.png          1.0   \n",
       "8049         human-true/human_true_A0A075IIQ6_Hexon.png          1.0   \n",
       "\n",
       "        Probas       Entry  Predictions  \n",
       "7828  0.020236  A0A024A4F8          0.0  \n",
       "7888  0.107901  A0A024HR11          0.0  \n",
       "7971  0.005496  A0A068BEH8          0.0  \n",
       "7979  0.086030  A0A068F575          0.0  \n",
       "8049  0.180360  A0A075IIQ6          0.0  "
      ]
     },
     "execution_count": 21,
     "metadata": {},
     "output_type": "execute_result"
    }
   ],
   "source": [
    "false_negatives = results[(results['True values'] != results['Predictions']) & (results['Predictions'] == 0.0)].copy()\n",
    "print(false_negatives.shape[0])\n",
    "false_negatives.head()"
   ]
  },
  {
   "cell_type": "code",
   "execution_count": 22,
   "id": "37a9161a-6f8e-48db-a72e-cb6672f90af8",
   "metadata": {},
   "outputs": [],
   "source": [
    "entries_false_negatives = df[df['Entry'].isin(false_negatives['Entry'].tolist())].copy()"
   ]
  },
  {
   "cell_type": "code",
   "execution_count": 23,
   "id": "07fe85fc-636a-4400-b7dc-15113b90c260",
   "metadata": {},
   "outputs": [
    {
     "data": {
      "text/plain": [
       "67"
      ]
     },
     "execution_count": 23,
     "metadata": {},
     "output_type": "execute_result"
    }
   ],
   "source": [
    "entries_false_negatives['Protein'].nunique()"
   ]
  },
  {
   "cell_type": "code",
   "execution_count": 54,
   "id": "0d339758-cb09-4c1d-8a77-919a228ca063",
   "metadata": {},
   "outputs": [
    {
     "data": {
      "text/plain": [
       "array(['Envelope polyprotein', 'Minor capsid protein L2', 'Protein BMRF2',\n",
       "       'Minor capsid protein', 'Hexon-interlacing protein', 'Togavirin',\n",
       "       'Pre-glycoprotein polyprotein GP complex', 'Spike glycoprotein',\n",
       "       'Major capsid protein L1', 'Fiber', 'Outer capsid protein VP4',\n",
       "       'Envelope glycoprotein gp160', 'Core protein',\n",
       "       'Structural polyprotein', 'Envelope glycoprotein',\n",
       "       'Assembly signal 2A', 'Glycoprotein', 'Capsid vertex component 2',\n",
       "       'Core protein precursor', 'Gag polyprotein',\n",
       "       'Envelope glycoprotein E1', 'Pre-histone-like nucleoprotein',\n",
       "       'Capsid protein', 'Envelope glycoprotein C',\n",
       "       'Gag-Pro-Pol polyprotein', 'Hemagglutinin-neuraminidase',\n",
       "       'Genome polyprotein', 'Carbonic anhydrase homolog',\n",
       "       'Envelope glycoprotein H', 'Coat protein',\n",
       "       'Envelope glycoprotein B', '3D polymerase', 'Hexon protein',\n",
       "       'Pre-protein VI', 'Exoribonuclease H', 'Fiber-1', 'Envelope',\n",
       "       'Attachment glycoprotein', 'Protein Vpr', 'Autoprotease p20',\n",
       "       'Env protein', 'Penton protein', 'Hemagglutinin',\n",
       "       'Envelope glycoprotein L', 'Alpha', 'IMV MP/Virus entry',\n",
       "       'Minor capsid protein VP2', 'Nucleoprotein',\n",
       "       'Envelope glycoprotein D', 'Putative capsid protein',\n",
       "       'Virion membrane protein A21', 'Gag-Pol polyprotein',\n",
       "       'Capsid polyprotein VP90', 'Capsid protein p30',\n",
       "       'Uncharacterized protein', 'Integrase',\n",
       "       'Hemagglutinin-esterase-fusion glycoprotein', 'CA1', 'Protein H2',\n",
       "       'Viral coat protein', 'Envelope protein', 'CPXV111 protein',\n",
       "       'Hemagglutinin glycoprotein', 'Virion membrane protein A16',\n",
       "       'Membrane glycoprotein C', 'CPXV149 protein', 'Protein L5'],\n",
       "      dtype=object)"
      ]
     },
     "execution_count": 54,
     "metadata": {},
     "output_type": "execute_result"
    }
   ],
   "source": [
    "entries_false_negatives['Protein'].unique()"
   ]
  },
  {
   "cell_type": "code",
   "execution_count": 27,
   "id": "1c8279f0-592e-4e71-af7b-ccfb66597d2e",
   "metadata": {},
   "outputs": [
    {
     "data": {
      "text/html": [
       "<div>\n",
       "<style scoped>\n",
       "    .dataframe tbody tr th:only-of-type {\n",
       "        vertical-align: middle;\n",
       "    }\n",
       "\n",
       "    .dataframe tbody tr th {\n",
       "        vertical-align: top;\n",
       "    }\n",
       "\n",
       "    .dataframe thead th {\n",
       "        text-align: right;\n",
       "    }\n",
       "</style>\n",
       "<table border=\"1\" class=\"dataframe\">\n",
       "  <thead>\n",
       "    <tr style=\"text-align: right;\">\n",
       "      <th></th>\n",
       "      <th>Entry</th>\n",
       "      <th>Protein</th>\n",
       "      <th>Length</th>\n",
       "      <th>Species name</th>\n",
       "      <th>Species taxonomic ID</th>\n",
       "      <th>Species family</th>\n",
       "      <th>Virus hosts</th>\n",
       "      <th>Virus hosts ID</th>\n",
       "      <th>Host kingdom</th>\n",
       "      <th>Host superkingdom</th>\n",
       "      <th>Molecule type</th>\n",
       "      <th>Infects human</th>\n",
       "    </tr>\n",
       "  </thead>\n",
       "  <tbody>\n",
       "    <tr>\n",
       "      <th>44153</th>\n",
       "      <td>Q5GR62</td>\n",
       "      <td>Capsid protein</td>\n",
       "      <td>257.0</td>\n",
       "      <td>Honeysuckle yellow vein virus</td>\n",
       "      <td>240865</td>\n",
       "      <td>Geminiviridae</td>\n",
       "      <td>Lonicera [TaxID: 49606]; Lonicera japonica [Ta...</td>\n",
       "      <td>49606; 105884</td>\n",
       "      <td>Viridiplantae</td>\n",
       "      <td>Eukaryota</td>\n",
       "      <td>unknown</td>\n",
       "      <td>human-true</td>\n",
       "    </tr>\n",
       "    <tr>\n",
       "      <th>60321</th>\n",
       "      <td>Q80GK6</td>\n",
       "      <td>Capsid protein</td>\n",
       "      <td>257.0</td>\n",
       "      <td>Honeysuckle yellow vein mosaic virus</td>\n",
       "      <td>180587</td>\n",
       "      <td>Geminiviridae</td>\n",
       "      <td>Lonicera [TaxID: 49606]</td>\n",
       "      <td>49606</td>\n",
       "      <td>Viridiplantae</td>\n",
       "      <td>Eukaryota</td>\n",
       "      <td>unknown</td>\n",
       "      <td>human-true</td>\n",
       "    </tr>\n",
       "  </tbody>\n",
       "</table>\n",
       "</div>"
      ],
      "text/plain": [
       "        Entry         Protein  Length                          Species name  \\\n",
       "44153  Q5GR62  Capsid protein   257.0         Honeysuckle yellow vein virus   \n",
       "60321  Q80GK6  Capsid protein   257.0  Honeysuckle yellow vein mosaic virus   \n",
       "\n",
       "       Species taxonomic ID Species family  \\\n",
       "44153                240865  Geminiviridae   \n",
       "60321                180587  Geminiviridae   \n",
       "\n",
       "                                             Virus hosts Virus hosts ID  \\\n",
       "44153  Lonicera [TaxID: 49606]; Lonicera japonica [Ta...  49606; 105884   \n",
       "60321                            Lonicera [TaxID: 49606]          49606   \n",
       "\n",
       "        Host kingdom Host superkingdom Molecule type Infects human  \n",
       "44153  Viridiplantae         Eukaryota       unknown    human-true  \n",
       "60321  Viridiplantae         Eukaryota       unknown    human-true  "
      ]
     },
     "execution_count": 27,
     "metadata": {},
     "output_type": "execute_result"
    }
   ],
   "source": [
    "entries_false_negatives[(entries_false_negatives['Host kingdom'].str.contains(\"Viridiplantae\"))]"
   ]
  },
  {
   "cell_type": "code",
   "execution_count": 34,
   "id": "0600aef8-3825-41c5-bb03-347e53b99fe5",
   "metadata": {
    "scrolled": true,
    "tags": []
   },
   "outputs": [
    {
     "data": {
      "text/plain": [
       "31        1\n",
       "23079     1\n",
       "23294     1\n",
       "23969     1\n",
       "23971     1\n",
       "         ..\n",
       "35184    14\n",
       "14394    16\n",
       "31990    19\n",
       "31986    19\n",
       "3536     66\n",
       "Name: Virus hosts, Length: 259, dtype: int64"
      ]
     },
     "execution_count": 34,
     "metadata": {},
     "output_type": "execute_result"
    }
   ],
   "source": [
    "entries_false_positives['Virus hosts'].apply(lambda items: len(items.split(\"; \"))).sort_values()"
   ]
  },
  {
   "cell_type": "code",
   "execution_count": 30,
   "id": "4b44d90f-9a88-4737-85e3-626b1dea71ad",
   "metadata": {
    "scrolled": true,
    "tags": []
   },
   "outputs": [
    {
     "data": {
      "text/plain": [
       "58624     1\n",
       "61867     1\n",
       "62415     1\n",
       "62471     1\n",
       "62846     1\n",
       "         ..\n",
       "62930    14\n",
       "85143    14\n",
       "74831    14\n",
       "69730    23\n",
       "67881    23\n",
       "Name: Virus hosts, Length: 353, dtype: int64"
      ]
     },
     "execution_count": 30,
     "metadata": {},
     "output_type": "execute_result"
    }
   ],
   "source": [
    "entries_false_negatives['Virus hosts'].apply(lambda items: len(items.split(\"; \"))).sort_values()"
   ]
  },
  {
   "cell_type": "code",
   "execution_count": 26,
   "id": "1d650375-3672-4c9c-9450-b92ef7830ab1",
   "metadata": {},
   "outputs": [
    {
     "data": {
      "text/plain": [
       "array(['Metazoa', 'Viridiplantae'], dtype=object)"
      ]
     },
     "execution_count": 26,
     "metadata": {},
     "output_type": "execute_result"
    }
   ],
   "source": [
    "entries_false_negatives['Host kingdom'].unique()"
   ]
  },
  {
   "cell_type": "code",
   "execution_count": 35,
   "id": "6f6106c4-f5b1-4a7e-a947-8f10eceb3202",
   "metadata": {},
   "outputs": [
    {
     "data": {
      "text/plain": [
       "(12268, 12)"
      ]
     },
     "execution_count": 35,
     "metadata": {},
     "output_type": "execute_result"
    }
   ],
   "source": [
    "df[(df['Protein'].str.contains(\"gp160\")) & (df['Infects human'].str.contains(\"true\"))].shape"
   ]
  },
  {
   "cell_type": "markdown",
   "id": "0f46047a-3df3-41a6-94c9-e5baa85f26fb",
   "metadata": {},
   "source": [
    "multiple hosts seem to cause confusion\n",
    "due to labeling error during imputation as it was blind"
   ]
  },
  {
   "cell_type": "code",
   "execution_count": 53,
   "id": "081c49c4-2459-47a4-a3cf-24a94a53a5d7",
   "metadata": {
    "scrolled": true,
    "tags": []
   },
   "outputs": [
    {
     "data": {
      "text/plain": [
       "array(['Homo sapiens [TaxID: 9606]; Apodemus agrarius [TaxID: 39030]',\n",
       "       'Homo sapiens [TaxID: 9606]',\n",
       "       'Homo sapiens [TaxID: 9606]; Aedes [TaxID: 7158]; Passeriformes [TaxID: 9126]',\n",
       "       'Homo sapiens [TaxID: 9606]; Aedes [TaxID: 7158]; Macropus sp. [TaxID: 9322]; Culex annulirostris [TaxID: 162997]',\n",
       "       'Homo sapiens [TaxID: 9606]; Mastomys natalensis [TaxID: 10112]',\n",
       "       'Homo sapiens [TaxID: 9606]; Paguma larvata [TaxID: 9675]; Rhinolophus macrotis [TaxID: 196889]; Rhinolophus sinicus [TaxID: 89399]; Rhinolophus ferrumequinum [TaxID: 59479]; Rhinolophus pearsonii [TaxID: 188571]',\n",
       "       'Homo sapiens [TaxID: 9606]; Camelus dromedarius [TaxID: 9838]',\n",
       "       'Macaca mulatta [TaxID: 9544]; Homo sapiens [TaxID: 9606]; Oryctolagus cuniculus [TaxID: 9986]; Canis lupus [TaxID: 9612]; Sus scrofa [TaxID: 9823]; Mus musculus [TaxID: 10090]; Bos taurus [TaxID: 9913]; Chlorocebus pygerythrus [TaxID: 60710]; Equus caballus [TaxID: 9796]',\n",
       "       'Macaca mulatta [TaxID: 9544]; Homo sapiens [TaxID: 9606]; Macaca fascicularis [TaxID: 9541]; Macaca [TaxID: 9539]; Macaca nemestrina [TaxID: 9545]',\n",
       "       'Homo sapiens [TaxID: 9606]; Aedes aegypti [TaxID: 7159]; Simiiformes [TaxID: 314293]; Aedes simpsoni [TaxID: 7161]; Aedes luteocephalus [TaxID: 299629]',\n",
       "       'Chlorocebus aethiops [TaxID: 9534]; Homo sapiens [TaxID: 9606]; Rousettus aegyptiacus [TaxID: 9407]',\n",
       "       'Homo sapiens [TaxID: 9606]; Callithrix [TaxID: 9481]; Cercopithecus hamlyni [TaxID: 9536]; Chlorocebus aethiops [TaxID: 9534]; Pan troglodytes [TaxID: 9598]; Macaca [TaxID: 9539]',\n",
       "       'Homo sapiens [TaxID: 9606]; Lutzomyia [TaxID: 252607]; Musca domestica [TaxID: 7370]; Culicoides [TaxID: 58271]; Equus asinus [TaxID: 9793]; Bos taurus [TaxID: 9913]; Aedes [TaxID: 7158]; Sus scrofa [TaxID: 9823]; Simuliidae [TaxID: 7190]; Equus caballus [TaxID: 9796]',\n",
       "       'Homo sapiens [TaxID: 9606]; Proechimys [TaxID: 10162]; Sigmodon hispidus [TaxID: 42415]; Equus asinus [TaxID: 9793]; Didelphis marsupialis [TaxID: 9268]; Philander opossum [TaxID: 9272]; Bos taurus [TaxID: 9913]; Melanoconion [TaxID: 53535]; Equus caballus [TaxID: 9796]',\n",
       "       'Homo sapiens [TaxID: 9606]; Pan troglodytes [TaxID: 9598]; Camelus [TaxID: 9836]; Chlorocebus [TaxID: 392815]',\n",
       "       'Lonicera [TaxID: 49606]; Lonicera japonica [TaxID: 105884]',\n",
       "       'Homo sapiens [TaxID: 9606]; Oryctolagus cuniculus [TaxID: 9986]; Coturnix japonica [TaxID: 93934]; Canis lupus [TaxID: 9612]; Chlorocebus aethiops [TaxID: 9534]; Gallus gallus [TaxID: 9031]; Bos taurus [TaxID: 9913]; Mesocricetus auratus [TaxID: 10036]; Sus scrofa [TaxID: 9823]',\n",
       "       'Chlorocebus aethiops [TaxID: 9534]; Homo sapiens [TaxID: 9606]; Calomys callosus [TaxID: 56210]',\n",
       "       'Homo sapiens [TaxID: 9606]; Apodemus sylvaticus [TaxID: 10129]; Loxodonta africana [TaxID: 9785]; Mus musculus [TaxID: 10090]; Bos taurus [TaxID: 9913]; Microtus agrestis [TaxID: 29092]; Felis catus [TaxID: 9685]; Myodes glareolus [TaxID: 447135]',\n",
       "       'Homo sapiens [TaxID: 9606]; Cercopithecus [TaxID: 9533]; Macaca [TaxID: 9539]; Papio [TaxID: 9554]; Aedes aegypti [TaxID: 7159]; Aedes polynesiensis [TaxID: 188700]; Pan troglodytes [TaxID: 9598]; Aedes furcifer [TaxID: 299627]; Presbytis [TaxID: 9573]; Aedes albopictus [TaxID: 7160]',\n",
       "       'Alces alces [TaxID: 9852]; Homo sapiens [TaxID: 9606]; Paguma larvata [TaxID: 9675]; Canis lupus [TaxID: 9612]; Sus scrofa [TaxID: 9823]',\n",
       "       'Homo sapiens [TaxID: 9606]; Bos taurus [TaxID: 9913]; Sus scrofa [TaxID: 9823]',\n",
       "       'Homo sapiens [TaxID: 9606]; Papio anubis [TaxID: 9555]; Pan troglodytes [TaxID: 9598]',\n",
       "       'Homo sapiens [TaxID: 9606]; Acrocephalus scirpaceus [TaxID: 48156]; Culex [TaxID: 53527]; Aedes [TaxID: 7158]; Motacilla alba [TaxID: 45807]; Streptopelia turtur [TaxID: 177155]',\n",
       "       'Homo sapiens [TaxID: 9606]; Microtus arvalis [TaxID: 47230]; Microtus obscurus [TaxID: 523745]; Microtus subterraneus [TaxID: 137712]; Lagurus lagurus [TaxID: 175522]; Microtus guentheri [TaxID: 269655]; Lasiopodomys gregalis [TaxID: 1449541]; Microtus dogramacii [TaxID: 269652]; Microtus agrestis [TaxID: 29092]; Dryomys nitedula [TaxID: 55145]; Arvicola amphibius [TaxID: 1047088]; Rodentia [TaxID: 9989]',\n",
       "       'Homo sapiens [TaxID: 9606]; Ixodes ricinus [TaxID: 34613]; Ixodes persulcatus [TaxID: 34615]',\n",
       "       'Macaca fascicularis [TaxID: 9541]; Homo sapiens [TaxID: 9606]; Macaca mulatta [TaxID: 9544]',\n",
       "       'Homo sapiens [TaxID: 9606]; Phacochoerus africanus [TaxID: 41426]; Sus verrucosus [TaxID: 159856]; Sus barbatus [TaxID: 41807]; Sus celebensis [TaxID: 273789]; Sus scrofa [TaxID: 9823]; Potamochoerus larvatus [TaxID: 273792]',\n",
       "       'Homo sapiens [TaxID: 9606]; Pteropus scapulatus [TaxID: 94117]; Pteropus poliocephalus [TaxID: 9403]; Pteropus alecto [TaxID: 9402]; Equus caballus [TaxID: 9796]',\n",
       "       'Sus scrofa [TaxID: 9823]; Homo sapiens [TaxID: 9606]; Bos taurus [TaxID: 9913]; Moschus berezovskii [TaxID: 68408]',\n",
       "       'Homo sapiens [TaxID: 9606]; Macaca [TaxID: 9539]',\n",
       "       'Homo sapiens [TaxID: 9606]; Pan paniscus [TaxID: 9597]',\n",
       "       'Homo sapiens [TaxID: 9606]; Capra hircus [TaxID: 9925]; Ovis aries [TaxID: 9940]; Bos taurus [TaxID: 9913]; Bos grunniens [TaxID: 30521]; Bubalus bubalis [TaxID: 89462]; Bovidae [TaxID: 9895]; Sus scrofa [TaxID: 9823]',\n",
       "       'Homo sapiens [TaxID: 9606]; Culex tritaeniorhynchus [TaxID: 7178]; Vulpes vulpes [TaxID: 9627]; Aedes vexans [TaxID: 7163]; Sus scrofa [TaxID: 9823]; Equus caballus [TaxID: 9796]',\n",
       "       'Homo sapiens [TaxID: 9606]; Rousettus aegyptiacus [TaxID: 9407]',\n",
       "       'Homo sapiens [TaxID: 9606]; Mus musculus [TaxID: 10090]',\n",
       "       'Sus scrofa [TaxID: 9823]; Homo sapiens [TaxID: 9606]; Bos taurus [TaxID: 9913]; Equus caballus [TaxID: 9796]',\n",
       "       'Homo sapiens [TaxID: 9606]; Bos taurus [TaxID: 9913]; Oryctolagus cuniculus [TaxID: 9986]; Equus caballus [TaxID: 9796]',\n",
       "       'Macaca mulatta [TaxID: 9544]; Homo sapiens [TaxID: 9606]; Pan troglodytes [TaxID: 9598]; Sigmodon hispidus [TaxID: 42415]; Mus musculus [TaxID: 10090]; Mandrillus [TaxID: 9567]; marmosets [TaxID: 38020]; Sus scrofa [TaxID: 9823]; Aotus trivirgatus [TaxID: 9505]; Rattus [TaxID: 10114]',\n",
       "       'Homo sapiens [TaxID: 9606]; Apodemus uralensis [TaxID: 134910]; Apodemus flavicollis [TaxID: 54292]',\n",
       "       'Sus scrofa [TaxID: 9823]; Homo sapiens [TaxID: 9606]',\n",
       "       'Lonicera [TaxID: 49606]',\n",
       "       'Homo sapiens [TaxID: 9606]; Haemorhous mexicanus [TaxID: 30427]; Lepus americanus [TaxID: 48086]; Anopheles [TaxID: 7164]; Thamnophis [TaxID: 34999]; Lithobates pipiens [TaxID: 8404]; Aedes [TaxID: 7158]; Culex tarsalis [TaxID: 7177]; Urocitellus richardsonii [TaxID: 37591]; Passer domesticus [TaxID: 48849]',\n",
       "       'Homo sapiens [TaxID: 9606]; Mysticeti [TaxID: 9761]; Mustela lutreola [TaxID: 9666]; Panthera tigris [TaxID: 9694]; Sturnira lilium [TaxID: 27660]; Panthera pardus [TaxID: 9691]; Phocidae [TaxID: 9709]; Gallus gallus [TaxID: 9031]; Felis catus [TaxID: 9685]; Cetacea [TaxID: 9721]; Sus scrofa [TaxID: 9823]; Aves [TaxID: 8782]; Anatidae [TaxID: 8830]; Equus caballus [TaxID: 9796]',\n",
       "       'Macaca mulatta [TaxID: 9544]; Homo sapiens [TaxID: 9606]; Macaca leonina [TaxID: 90387]; Macaca fascicularis [TaxID: 9541]; Macaca nemestrina [TaxID: 9545]',\n",
       "       'Myotis davidii [TaxID: 225400]; Microtus obscurus [TaxID: 523745]; Nyctalus noctula [TaxID: 51300]; Lasiopodomys gregalis [TaxID: 1449541]; Myotis laniger [TaxID: 452654]; Pteropus lylei [TaxID: 166054]; Cricetulus migratorius [TaxID: 10032]; Homo sapiens [TaxID: 9606]; Apodemus agrarius [TaxID: 39030]; Rhinolophus pusillus [TaxID: 159858]; Rattus norvegicus [TaxID: 10116]; Apodemus uralensis [TaxID: 134910]; Eptesicus serotinus [TaxID: 59452]; Piliocolobus rufomitratus [TaxID: 591934]; Bubalus bubalis [TaxID: 89462]; Rhinolophus pearsonii [TaxID: 188571]; Pipistrellus abramus [TaxID: 105295]; Myotis siligorensis [TaxID: 258940]; Rhinolophus sinicus [TaxID: 89399]; Bos taurus [TaxID: 9913]; Rhinolophus ferrumequinum [TaxID: 59479]; Miniopterus fuliginosus [TaxID: 187007]; Rattus tanezumi [TaxID: 35732]',\n",
       "       'Homo sapiens [TaxID: 9606]; Rattus norvegicus [TaxID: 10116]',\n",
       "       'Sus scrofa [TaxID: 9823]; Homo sapiens [TaxID: 9606]; Suidae [TaxID: 9821]',\n",
       "       'Homo sapiens [TaxID: 9606]; Pan troglodytes [TaxID: 9598]',\n",
       "       'Homo sapiens [TaxID: 9606]; Mus musculus [TaxID: 10090]; Mesocricetus auratus [TaxID: 10036]',\n",
       "       'Homo sapiens [TaxID: 9606]; Hyalomma marginatum [TaxID: 34627]; Culex [TaxID: 53527]; Ciconiiformes [TaxID: 8920]; Aves [TaxID: 8782]; Aedes [TaxID: 7158]; Rhipicephalus [TaxID: 34630]; Mimomyia [TaxID: 308737]; Culex annulirostris [TaxID: 162997]; Mansonia uniformis [TaxID: 308735]; Amblyomma variegatum [TaxID: 34610]; Equus caballus [TaxID: 9796]',\n",
       "       'Homo sapiens [TaxID: 9606]; Felis catus [TaxID: 9685]; Mustela putorius [TaxID: 9668]',\n",
       "       'Homo sapiens [TaxID: 9606]; Culex annulirostris [TaxID: 162997]',\n",
       "       'Homo sapiens [TaxID: 9606]; Bandicota indica [TaxID: 456472]; Pan troglodytes [TaxID: 9598]; Eonycteris spelaea [TaxID: 58065]; Neoromicia [TaxID: 568926]; Rattus tanezumi [TaxID: 35732]; Cercopithecus neglectus [TaxID: 36227]',\n",
       "       'Homo sapiens [TaxID: 9606]; Apodemus agrarius [TaxID: 39030]; Apodemus sylvaticus [TaxID: 10129]; Microtus arvalis [TaxID: 47230]; Apodemus ponticus [TaxID: 134909]; Mus musculus [TaxID: 10090]; Glis glis [TaxID: 41261]; Sorex araneus [TaxID: 42254]; Apodemus flavicollis [TaxID: 54292]; Rodentia [TaxID: 9989]; Myodes glareolus [TaxID: 447135]; Meriones tamariscinus [TaxID: 504099]',\n",
       "       'Homo sapiens [TaxID: 9606]; Ixodes scapularis [TaxID: 6945]; Ixodes cookei [TaxID: 35565]; Lepus americanus [TaxID: 48086]; Marmota monax [TaxID: 9995]; Dermacentor andersoni [TaxID: 34620]; Ixodes spinipalpis [TaxID: 34614]'],\n",
       "      dtype=object)"
      ]
     },
     "execution_count": 53,
     "metadata": {},
     "output_type": "execute_result"
    }
   ],
   "source": [
    "entries_false_negatives['Virus hosts'].unique()"
   ]
  },
  {
   "cell_type": "code",
   "execution_count": 47,
   "id": "1ddb19fe-3681-458e-bcc0-b09469030352",
   "metadata": {},
   "outputs": [
    {
     "data": {
      "text/plain": [
       "(2926, 12)"
      ]
     },
     "execution_count": 47,
     "metadata": {},
     "output_type": "execute_result"
    }
   ],
   "source": [
    "df[(df[\"Entry\"].isin(results['Entry'].tolist())) & (df['Species name'].str.contains(\"Human immunodeficiency virus\"))].shape"
   ]
  },
  {
   "cell_type": "code",
   "execution_count": 49,
   "id": "125aca5f-77db-410f-b1f1-f66386b43a59",
   "metadata": {
    "scrolled": true,
    "tags": []
   },
   "outputs": [
    {
     "data": {
      "text/html": [
       "<div>\n",
       "<style scoped>\n",
       "    .dataframe tbody tr th:only-of-type {\n",
       "        vertical-align: middle;\n",
       "    }\n",
       "\n",
       "    .dataframe tbody tr th {\n",
       "        vertical-align: top;\n",
       "    }\n",
       "\n",
       "    .dataframe thead th {\n",
       "        text-align: right;\n",
       "    }\n",
       "</style>\n",
       "<table border=\"1\" class=\"dataframe\">\n",
       "  <thead>\n",
       "    <tr style=\"text-align: right;\">\n",
       "      <th></th>\n",
       "      <th>Entry</th>\n",
       "      <th>Protein</th>\n",
       "      <th>Length</th>\n",
       "      <th>Species name</th>\n",
       "      <th>Species taxonomic ID</th>\n",
       "      <th>Species family</th>\n",
       "      <th>Virus hosts</th>\n",
       "      <th>Virus hosts ID</th>\n",
       "      <th>Host kingdom</th>\n",
       "      <th>Host superkingdom</th>\n",
       "      <th>Molecule type</th>\n",
       "      <th>Infects human</th>\n",
       "    </tr>\n",
       "  </thead>\n",
       "  <tbody>\n",
       "    <tr>\n",
       "      <th>41733</th>\n",
       "      <td>A0A2P1DQ38</td>\n",
       "      <td>Envelope glycoprotein gp160</td>\n",
       "      <td>876.0</td>\n",
       "      <td>Simian-Human immunodeficiency virus</td>\n",
       "      <td>57667</td>\n",
       "      <td>Retroviridae</td>\n",
       "      <td>Macaca mulatta [TaxID: 9544]; Homo sapiens [Ta...</td>\n",
       "      <td>9545; 9606; 9544; 9539; 9541</td>\n",
       "      <td>Metazoa</td>\n",
       "      <td>Eukaryota</td>\n",
       "      <td>ssRNA-RT</td>\n",
       "      <td>human-true</td>\n",
       "    </tr>\n",
       "    <tr>\n",
       "      <th>43249</th>\n",
       "      <td>Q7SPP5</td>\n",
       "      <td>Gag polyprotein</td>\n",
       "      <td>1437.0</td>\n",
       "      <td>Human immunodeficiency virus 1</td>\n",
       "      <td>11676</td>\n",
       "      <td>Retroviridae</td>\n",
       "      <td>Homo sapiens [TaxID: 9606]</td>\n",
       "      <td>9606</td>\n",
       "      <td>Metazoa</td>\n",
       "      <td>Eukaryota</td>\n",
       "      <td>ssRNA-RT</td>\n",
       "      <td>human-true</td>\n",
       "    </tr>\n",
       "    <tr>\n",
       "      <th>46935</th>\n",
       "      <td>A0A2P1DR91</td>\n",
       "      <td>Envelope glycoprotein gp160</td>\n",
       "      <td>858.0</td>\n",
       "      <td>Simian-Human immunodeficiency virus</td>\n",
       "      <td>57667</td>\n",
       "      <td>Retroviridae</td>\n",
       "      <td>Macaca mulatta [TaxID: 9544]; Homo sapiens [Ta...</td>\n",
       "      <td>9545; 9606; 9544; 9539; 9541</td>\n",
       "      <td>Metazoa</td>\n",
       "      <td>Eukaryota</td>\n",
       "      <td>ssRNA-RT</td>\n",
       "      <td>human-true</td>\n",
       "    </tr>\n",
       "    <tr>\n",
       "      <th>49810</th>\n",
       "      <td>A0A2D3HX09</td>\n",
       "      <td>Exoribonuclease H</td>\n",
       "      <td>876.0</td>\n",
       "      <td>Human immunodeficiency virus 2</td>\n",
       "      <td>11709</td>\n",
       "      <td>Retroviridae</td>\n",
       "      <td>Homo sapiens [TaxID: 9606]</td>\n",
       "      <td>9606</td>\n",
       "      <td>Metazoa</td>\n",
       "      <td>Eukaryota</td>\n",
       "      <td>ssRNA-RT</td>\n",
       "      <td>human-true</td>\n",
       "    </tr>\n",
       "    <tr>\n",
       "      <th>51687</th>\n",
       "      <td>A0A2P1DR60</td>\n",
       "      <td>Envelope glycoprotein gp160</td>\n",
       "      <td>858.0</td>\n",
       "      <td>Simian-Human immunodeficiency virus</td>\n",
       "      <td>57667</td>\n",
       "      <td>Retroviridae</td>\n",
       "      <td>Macaca mulatta [TaxID: 9544]; Homo sapiens [Ta...</td>\n",
       "      <td>9545; 9606; 9544; 9539; 9541</td>\n",
       "      <td>Metazoa</td>\n",
       "      <td>Eukaryota</td>\n",
       "      <td>ssRNA-RT</td>\n",
       "      <td>human-true</td>\n",
       "    </tr>\n",
       "    <tr>\n",
       "      <th>51886</th>\n",
       "      <td>D2SS45</td>\n",
       "      <td>Protein Vpr</td>\n",
       "      <td>96.0</td>\n",
       "      <td>Human immunodeficiency virus 1</td>\n",
       "      <td>11676</td>\n",
       "      <td>Retroviridae</td>\n",
       "      <td>Homo sapiens [TaxID: 9606]</td>\n",
       "      <td>9606</td>\n",
       "      <td>Metazoa</td>\n",
       "      <td>Eukaryota</td>\n",
       "      <td>ssRNA-RT</td>\n",
       "      <td>human-true</td>\n",
       "    </tr>\n",
       "    <tr>\n",
       "      <th>52829</th>\n",
       "      <td>A0A1D8BEG1</td>\n",
       "      <td>Envelope glycoprotein gp160</td>\n",
       "      <td>622.0</td>\n",
       "      <td>Human immunodeficiency virus 2</td>\n",
       "      <td>11709</td>\n",
       "      <td>Retroviridae</td>\n",
       "      <td>Homo sapiens [TaxID: 9606]</td>\n",
       "      <td>9606</td>\n",
       "      <td>Metazoa</td>\n",
       "      <td>Eukaryota</td>\n",
       "      <td>ssRNA-RT</td>\n",
       "      <td>human-true</td>\n",
       "    </tr>\n",
       "    <tr>\n",
       "      <th>54685</th>\n",
       "      <td>G8J994</td>\n",
       "      <td>Envelope glycoprotein gp160</td>\n",
       "      <td>853.0</td>\n",
       "      <td>Human immunodeficiency virus 2</td>\n",
       "      <td>11709</td>\n",
       "      <td>Retroviridae</td>\n",
       "      <td>Homo sapiens [TaxID: 9606]</td>\n",
       "      <td>9606</td>\n",
       "      <td>Metazoa</td>\n",
       "      <td>Eukaryota</td>\n",
       "      <td>ssRNA-RT</td>\n",
       "      <td>human-true</td>\n",
       "    </tr>\n",
       "    <tr>\n",
       "      <th>60614</th>\n",
       "      <td>Q5VG73</td>\n",
       "      <td>Envelope glycoprotein gp160</td>\n",
       "      <td>877.0</td>\n",
       "      <td>Human immunodeficiency virus 1</td>\n",
       "      <td>11676</td>\n",
       "      <td>Retroviridae</td>\n",
       "      <td>Homo sapiens [TaxID: 9606]</td>\n",
       "      <td>9606</td>\n",
       "      <td>Metazoa</td>\n",
       "      <td>Eukaryota</td>\n",
       "      <td>ssRNA-RT</td>\n",
       "      <td>human-true</td>\n",
       "    </tr>\n",
       "    <tr>\n",
       "      <th>60689</th>\n",
       "      <td>L8B2L0</td>\n",
       "      <td>Envelope glycoprotein gp160</td>\n",
       "      <td>848.0</td>\n",
       "      <td>Human immunodeficiency virus 2</td>\n",
       "      <td>11709</td>\n",
       "      <td>Retroviridae</td>\n",
       "      <td>Homo sapiens [TaxID: 9606]</td>\n",
       "      <td>9606</td>\n",
       "      <td>Metazoa</td>\n",
       "      <td>Eukaryota</td>\n",
       "      <td>ssRNA-RT</td>\n",
       "      <td>human-true</td>\n",
       "    </tr>\n",
       "    <tr>\n",
       "      <th>65503</th>\n",
       "      <td>A0A2D3HWR3</td>\n",
       "      <td>Exoribonuclease H</td>\n",
       "      <td>876.0</td>\n",
       "      <td>Human immunodeficiency virus 2</td>\n",
       "      <td>11709</td>\n",
       "      <td>Retroviridae</td>\n",
       "      <td>Homo sapiens [TaxID: 9606]</td>\n",
       "      <td>9606</td>\n",
       "      <td>Metazoa</td>\n",
       "      <td>Eukaryota</td>\n",
       "      <td>ssRNA-RT</td>\n",
       "      <td>human-true</td>\n",
       "    </tr>\n",
       "    <tr>\n",
       "      <th>66878</th>\n",
       "      <td>Q9IBL6</td>\n",
       "      <td>Protein Vpr</td>\n",
       "      <td>102.0</td>\n",
       "      <td>Human immunodeficiency virus 2</td>\n",
       "      <td>11709</td>\n",
       "      <td>Retroviridae</td>\n",
       "      <td>Homo sapiens [TaxID: 9606]</td>\n",
       "      <td>9606</td>\n",
       "      <td>Metazoa</td>\n",
       "      <td>Eukaryota</td>\n",
       "      <td>ssRNA-RT</td>\n",
       "      <td>human-true</td>\n",
       "    </tr>\n",
       "    <tr>\n",
       "      <th>67062</th>\n",
       "      <td>A0A6C1ABZ9</td>\n",
       "      <td>Envelope glycoprotein gp160</td>\n",
       "      <td>870.0</td>\n",
       "      <td>Human immunodeficiency virus 1</td>\n",
       "      <td>11676</td>\n",
       "      <td>Retroviridae</td>\n",
       "      <td>Homo sapiens [TaxID: 9606]</td>\n",
       "      <td>9606</td>\n",
       "      <td>Metazoa</td>\n",
       "      <td>Eukaryota</td>\n",
       "      <td>ssRNA-RT</td>\n",
       "      <td>human-true</td>\n",
       "    </tr>\n",
       "    <tr>\n",
       "      <th>69776</th>\n",
       "      <td>P18042</td>\n",
       "      <td>Gag-Pol polyprotein</td>\n",
       "      <td>1464.0</td>\n",
       "      <td>Human immunodeficiency virus 2</td>\n",
       "      <td>11709</td>\n",
       "      <td>Retroviridae</td>\n",
       "      <td>Homo sapiens [TaxID: 9606]</td>\n",
       "      <td>9606</td>\n",
       "      <td>Metazoa</td>\n",
       "      <td>Eukaryota</td>\n",
       "      <td>ssRNA-RT</td>\n",
       "      <td>human-true</td>\n",
       "    </tr>\n",
       "    <tr>\n",
       "      <th>70712</th>\n",
       "      <td>A0A514YM29</td>\n",
       "      <td>Protein Vpr</td>\n",
       "      <td>97.0</td>\n",
       "      <td>Human immunodeficiency virus 1</td>\n",
       "      <td>11676</td>\n",
       "      <td>Retroviridae</td>\n",
       "      <td>Homo sapiens [TaxID: 9606]</td>\n",
       "      <td>9606</td>\n",
       "      <td>Metazoa</td>\n",
       "      <td>Eukaryota</td>\n",
       "      <td>ssRNA-RT</td>\n",
       "      <td>human-true</td>\n",
       "    </tr>\n",
       "    <tr>\n",
       "      <th>74542</th>\n",
       "      <td>A0A7D7PL43</td>\n",
       "      <td>Integrase</td>\n",
       "      <td>288.0</td>\n",
       "      <td>Human immunodeficiency virus 1</td>\n",
       "      <td>11676</td>\n",
       "      <td>Retroviridae</td>\n",
       "      <td>Homo sapiens [TaxID: 9606]</td>\n",
       "      <td>9606</td>\n",
       "      <td>Metazoa</td>\n",
       "      <td>Eukaryota</td>\n",
       "      <td>ssRNA-RT</td>\n",
       "      <td>human-true</td>\n",
       "    </tr>\n",
       "    <tr>\n",
       "      <th>77313</th>\n",
       "      <td>A0A7D6IRE1</td>\n",
       "      <td>Envelope glycoprotein gp160</td>\n",
       "      <td>840.0</td>\n",
       "      <td>Human immunodeficiency virus 1</td>\n",
       "      <td>11676</td>\n",
       "      <td>Retroviridae</td>\n",
       "      <td>Homo sapiens [TaxID: 9606]</td>\n",
       "      <td>9606</td>\n",
       "      <td>Metazoa</td>\n",
       "      <td>Eukaryota</td>\n",
       "      <td>ssRNA-RT</td>\n",
       "      <td>human-true</td>\n",
       "    </tr>\n",
       "    <tr>\n",
       "      <th>78137</th>\n",
       "      <td>A0A2P1DRS5</td>\n",
       "      <td>Envelope glycoprotein gp160</td>\n",
       "      <td>869.0</td>\n",
       "      <td>Simian-Human immunodeficiency virus</td>\n",
       "      <td>57667</td>\n",
       "      <td>Retroviridae</td>\n",
       "      <td>Macaca mulatta [TaxID: 9544]; Homo sapiens [Ta...</td>\n",
       "      <td>9545; 9606; 9544; 9539; 9541</td>\n",
       "      <td>Metazoa</td>\n",
       "      <td>Eukaryota</td>\n",
       "      <td>ssRNA-RT</td>\n",
       "      <td>human-true</td>\n",
       "    </tr>\n",
       "    <tr>\n",
       "      <th>78320</th>\n",
       "      <td>F5CFC5</td>\n",
       "      <td>Protein Vpr</td>\n",
       "      <td>96.0</td>\n",
       "      <td>Human immunodeficiency virus 1</td>\n",
       "      <td>11676</td>\n",
       "      <td>Retroviridae</td>\n",
       "      <td>Homo sapiens [TaxID: 9606]</td>\n",
       "      <td>9606</td>\n",
       "      <td>Metazoa</td>\n",
       "      <td>Eukaryota</td>\n",
       "      <td>ssRNA-RT</td>\n",
       "      <td>human-true</td>\n",
       "    </tr>\n",
       "    <tr>\n",
       "      <th>78553</th>\n",
       "      <td>A0A2I6UEX7</td>\n",
       "      <td>Gag polyprotein</td>\n",
       "      <td>1435.0</td>\n",
       "      <td>Human immunodeficiency virus 1</td>\n",
       "      <td>11676</td>\n",
       "      <td>Retroviridae</td>\n",
       "      <td>Homo sapiens [TaxID: 9606]</td>\n",
       "      <td>9606</td>\n",
       "      <td>Metazoa</td>\n",
       "      <td>Eukaryota</td>\n",
       "      <td>ssRNA-RT</td>\n",
       "      <td>human-true</td>\n",
       "    </tr>\n",
       "    <tr>\n",
       "      <th>81501</th>\n",
       "      <td>A0A2P1DQ23</td>\n",
       "      <td>Envelope glycoprotein gp160</td>\n",
       "      <td>876.0</td>\n",
       "      <td>Simian-Human immunodeficiency virus</td>\n",
       "      <td>57667</td>\n",
       "      <td>Retroviridae</td>\n",
       "      <td>Macaca mulatta [TaxID: 9544]; Homo sapiens [Ta...</td>\n",
       "      <td>9545; 9606; 9544; 9539; 9541</td>\n",
       "      <td>Metazoa</td>\n",
       "      <td>Eukaryota</td>\n",
       "      <td>ssRNA-RT</td>\n",
       "      <td>human-true</td>\n",
       "    </tr>\n",
       "    <tr>\n",
       "      <th>81660</th>\n",
       "      <td>I6VPT8</td>\n",
       "      <td>Envelope glycoprotein gp160</td>\n",
       "      <td>865.0</td>\n",
       "      <td>Human immunodeficiency virus 2</td>\n",
       "      <td>11709</td>\n",
       "      <td>Retroviridae</td>\n",
       "      <td>Homo sapiens [TaxID: 9606]</td>\n",
       "      <td>9606</td>\n",
       "      <td>Metazoa</td>\n",
       "      <td>Eukaryota</td>\n",
       "      <td>ssRNA-RT</td>\n",
       "      <td>human-true</td>\n",
       "    </tr>\n",
       "    <tr>\n",
       "      <th>81894</th>\n",
       "      <td>A0A7G5WPR3</td>\n",
       "      <td>Exoribonuclease H</td>\n",
       "      <td>1003.0</td>\n",
       "      <td>Human immunodeficiency virus 1</td>\n",
       "      <td>11676</td>\n",
       "      <td>Retroviridae</td>\n",
       "      <td>Homo sapiens [TaxID: 9606]</td>\n",
       "      <td>9606</td>\n",
       "      <td>Metazoa</td>\n",
       "      <td>Eukaryota</td>\n",
       "      <td>ssRNA-RT</td>\n",
       "      <td>human-true</td>\n",
       "    </tr>\n",
       "    <tr>\n",
       "      <th>83809</th>\n",
       "      <td>Q76637</td>\n",
       "      <td>Protein Vpr</td>\n",
       "      <td>101.0</td>\n",
       "      <td>Human immunodeficiency virus 2</td>\n",
       "      <td>11709</td>\n",
       "      <td>Retroviridae</td>\n",
       "      <td>Homo sapiens [TaxID: 9606]</td>\n",
       "      <td>9606</td>\n",
       "      <td>Metazoa</td>\n",
       "      <td>Eukaryota</td>\n",
       "      <td>ssRNA-RT</td>\n",
       "      <td>human-true</td>\n",
       "    </tr>\n",
       "    <tr>\n",
       "      <th>86640</th>\n",
       "      <td>G8GD97</td>\n",
       "      <td>Protein Vpr</td>\n",
       "      <td>94.0</td>\n",
       "      <td>Human immunodeficiency virus 1</td>\n",
       "      <td>11676</td>\n",
       "      <td>Retroviridae</td>\n",
       "      <td>Homo sapiens [TaxID: 9606]</td>\n",
       "      <td>9606</td>\n",
       "      <td>Metazoa</td>\n",
       "      <td>Eukaryota</td>\n",
       "      <td>ssRNA-RT</td>\n",
       "      <td>human-true</td>\n",
       "    </tr>\n",
       "    <tr>\n",
       "      <th>88936</th>\n",
       "      <td>Q9YNC8</td>\n",
       "      <td>Protein Vpr</td>\n",
       "      <td>100.0</td>\n",
       "      <td>Human immunodeficiency virus 1</td>\n",
       "      <td>11676</td>\n",
       "      <td>Retroviridae</td>\n",
       "      <td>Homo sapiens [TaxID: 9606]</td>\n",
       "      <td>9606</td>\n",
       "      <td>Metazoa</td>\n",
       "      <td>Eukaryota</td>\n",
       "      <td>ssRNA-RT</td>\n",
       "      <td>human-true</td>\n",
       "    </tr>\n",
       "    <tr>\n",
       "      <th>89637</th>\n",
       "      <td>A0A650DH45</td>\n",
       "      <td>Protein Vpr</td>\n",
       "      <td>96.0</td>\n",
       "      <td>Human immunodeficiency virus 1</td>\n",
       "      <td>11676</td>\n",
       "      <td>Retroviridae</td>\n",
       "      <td>Homo sapiens [TaxID: 9606]</td>\n",
       "      <td>9606</td>\n",
       "      <td>Metazoa</td>\n",
       "      <td>Eukaryota</td>\n",
       "      <td>ssRNA-RT</td>\n",
       "      <td>human-true</td>\n",
       "    </tr>\n",
       "    <tr>\n",
       "      <th>92892</th>\n",
       "      <td>A0A1D8BEC6</td>\n",
       "      <td>Envelope glycoprotein gp160</td>\n",
       "      <td>871.0</td>\n",
       "      <td>Human immunodeficiency virus 2</td>\n",
       "      <td>11709</td>\n",
       "      <td>Retroviridae</td>\n",
       "      <td>Homo sapiens [TaxID: 9606]</td>\n",
       "      <td>9606</td>\n",
       "      <td>Metazoa</td>\n",
       "      <td>Eukaryota</td>\n",
       "      <td>ssRNA-RT</td>\n",
       "      <td>human-true</td>\n",
       "    </tr>\n",
       "    <tr>\n",
       "      <th>93736</th>\n",
       "      <td>L7RVF3</td>\n",
       "      <td>Envelope glycoprotein gp160</td>\n",
       "      <td>845.0</td>\n",
       "      <td>Human immunodeficiency virus 2</td>\n",
       "      <td>11709</td>\n",
       "      <td>Retroviridae</td>\n",
       "      <td>Homo sapiens [TaxID: 9606]</td>\n",
       "      <td>9606</td>\n",
       "      <td>Metazoa</td>\n",
       "      <td>Eukaryota</td>\n",
       "      <td>ssRNA-RT</td>\n",
       "      <td>human-true</td>\n",
       "    </tr>\n",
       "    <tr>\n",
       "      <th>94808</th>\n",
       "      <td>A0A2P1DQ30</td>\n",
       "      <td>Envelope glycoprotein gp160</td>\n",
       "      <td>876.0</td>\n",
       "      <td>Simian-Human immunodeficiency virus</td>\n",
       "      <td>57667</td>\n",
       "      <td>Retroviridae</td>\n",
       "      <td>Macaca mulatta [TaxID: 9544]; Homo sapiens [Ta...</td>\n",
       "      <td>9545; 9606; 9544; 9539; 9541</td>\n",
       "      <td>Metazoa</td>\n",
       "      <td>Eukaryota</td>\n",
       "      <td>ssRNA-RT</td>\n",
       "      <td>human-true</td>\n",
       "    </tr>\n",
       "    <tr>\n",
       "      <th>96476</th>\n",
       "      <td>K0GUJ3</td>\n",
       "      <td>Envelope glycoprotein gp160</td>\n",
       "      <td>795.0</td>\n",
       "      <td>Human immunodeficiency virus 1</td>\n",
       "      <td>11676</td>\n",
       "      <td>Retroviridae</td>\n",
       "      <td>Homo sapiens [TaxID: 9606]</td>\n",
       "      <td>9606</td>\n",
       "      <td>Metazoa</td>\n",
       "      <td>Eukaryota</td>\n",
       "      <td>ssRNA-RT</td>\n",
       "      <td>human-true</td>\n",
       "    </tr>\n",
       "  </tbody>\n",
       "</table>\n",
       "</div>"
      ],
      "text/plain": [
       "            Entry                      Protein  Length  \\\n",
       "41733  A0A2P1DQ38  Envelope glycoprotein gp160   876.0   \n",
       "43249      Q7SPP5              Gag polyprotein  1437.0   \n",
       "46935  A0A2P1DR91  Envelope glycoprotein gp160   858.0   \n",
       "49810  A0A2D3HX09            Exoribonuclease H   876.0   \n",
       "51687  A0A2P1DR60  Envelope glycoprotein gp160   858.0   \n",
       "51886      D2SS45                  Protein Vpr    96.0   \n",
       "52829  A0A1D8BEG1  Envelope glycoprotein gp160   622.0   \n",
       "54685      G8J994  Envelope glycoprotein gp160   853.0   \n",
       "60614      Q5VG73  Envelope glycoprotein gp160   877.0   \n",
       "60689      L8B2L0  Envelope glycoprotein gp160   848.0   \n",
       "65503  A0A2D3HWR3            Exoribonuclease H   876.0   \n",
       "66878      Q9IBL6                  Protein Vpr   102.0   \n",
       "67062  A0A6C1ABZ9  Envelope glycoprotein gp160   870.0   \n",
       "69776      P18042          Gag-Pol polyprotein  1464.0   \n",
       "70712  A0A514YM29                  Protein Vpr    97.0   \n",
       "74542  A0A7D7PL43                    Integrase   288.0   \n",
       "77313  A0A7D6IRE1  Envelope glycoprotein gp160   840.0   \n",
       "78137  A0A2P1DRS5  Envelope glycoprotein gp160   869.0   \n",
       "78320      F5CFC5                  Protein Vpr    96.0   \n",
       "78553  A0A2I6UEX7              Gag polyprotein  1435.0   \n",
       "81501  A0A2P1DQ23  Envelope glycoprotein gp160   876.0   \n",
       "81660      I6VPT8  Envelope glycoprotein gp160   865.0   \n",
       "81894  A0A7G5WPR3            Exoribonuclease H  1003.0   \n",
       "83809      Q76637                  Protein Vpr   101.0   \n",
       "86640      G8GD97                  Protein Vpr    94.0   \n",
       "88936      Q9YNC8                  Protein Vpr   100.0   \n",
       "89637  A0A650DH45                  Protein Vpr    96.0   \n",
       "92892  A0A1D8BEC6  Envelope glycoprotein gp160   871.0   \n",
       "93736      L7RVF3  Envelope glycoprotein gp160   845.0   \n",
       "94808  A0A2P1DQ30  Envelope glycoprotein gp160   876.0   \n",
       "96476      K0GUJ3  Envelope glycoprotein gp160   795.0   \n",
       "\n",
       "                              Species name  Species taxonomic ID  \\\n",
       "41733  Simian-Human immunodeficiency virus                 57667   \n",
       "43249       Human immunodeficiency virus 1                 11676   \n",
       "46935  Simian-Human immunodeficiency virus                 57667   \n",
       "49810       Human immunodeficiency virus 2                 11709   \n",
       "51687  Simian-Human immunodeficiency virus                 57667   \n",
       "51886       Human immunodeficiency virus 1                 11676   \n",
       "52829       Human immunodeficiency virus 2                 11709   \n",
       "54685       Human immunodeficiency virus 2                 11709   \n",
       "60614       Human immunodeficiency virus 1                 11676   \n",
       "60689       Human immunodeficiency virus 2                 11709   \n",
       "65503       Human immunodeficiency virus 2                 11709   \n",
       "66878       Human immunodeficiency virus 2                 11709   \n",
       "67062       Human immunodeficiency virus 1                 11676   \n",
       "69776       Human immunodeficiency virus 2                 11709   \n",
       "70712       Human immunodeficiency virus 1                 11676   \n",
       "74542       Human immunodeficiency virus 1                 11676   \n",
       "77313       Human immunodeficiency virus 1                 11676   \n",
       "78137  Simian-Human immunodeficiency virus                 57667   \n",
       "78320       Human immunodeficiency virus 1                 11676   \n",
       "78553       Human immunodeficiency virus 1                 11676   \n",
       "81501  Simian-Human immunodeficiency virus                 57667   \n",
       "81660       Human immunodeficiency virus 2                 11709   \n",
       "81894       Human immunodeficiency virus 1                 11676   \n",
       "83809       Human immunodeficiency virus 2                 11709   \n",
       "86640       Human immunodeficiency virus 1                 11676   \n",
       "88936       Human immunodeficiency virus 1                 11676   \n",
       "89637       Human immunodeficiency virus 1                 11676   \n",
       "92892       Human immunodeficiency virus 2                 11709   \n",
       "93736       Human immunodeficiency virus 2                 11709   \n",
       "94808  Simian-Human immunodeficiency virus                 57667   \n",
       "96476       Human immunodeficiency virus 1                 11676   \n",
       "\n",
       "      Species family                                        Virus hosts  \\\n",
       "41733   Retroviridae  Macaca mulatta [TaxID: 9544]; Homo sapiens [Ta...   \n",
       "43249   Retroviridae                         Homo sapiens [TaxID: 9606]   \n",
       "46935   Retroviridae  Macaca mulatta [TaxID: 9544]; Homo sapiens [Ta...   \n",
       "49810   Retroviridae                         Homo sapiens [TaxID: 9606]   \n",
       "51687   Retroviridae  Macaca mulatta [TaxID: 9544]; Homo sapiens [Ta...   \n",
       "51886   Retroviridae                         Homo sapiens [TaxID: 9606]   \n",
       "52829   Retroviridae                         Homo sapiens [TaxID: 9606]   \n",
       "54685   Retroviridae                         Homo sapiens [TaxID: 9606]   \n",
       "60614   Retroviridae                         Homo sapiens [TaxID: 9606]   \n",
       "60689   Retroviridae                         Homo sapiens [TaxID: 9606]   \n",
       "65503   Retroviridae                         Homo sapiens [TaxID: 9606]   \n",
       "66878   Retroviridae                         Homo sapiens [TaxID: 9606]   \n",
       "67062   Retroviridae                         Homo sapiens [TaxID: 9606]   \n",
       "69776   Retroviridae                         Homo sapiens [TaxID: 9606]   \n",
       "70712   Retroviridae                         Homo sapiens [TaxID: 9606]   \n",
       "74542   Retroviridae                         Homo sapiens [TaxID: 9606]   \n",
       "77313   Retroviridae                         Homo sapiens [TaxID: 9606]   \n",
       "78137   Retroviridae  Macaca mulatta [TaxID: 9544]; Homo sapiens [Ta...   \n",
       "78320   Retroviridae                         Homo sapiens [TaxID: 9606]   \n",
       "78553   Retroviridae                         Homo sapiens [TaxID: 9606]   \n",
       "81501   Retroviridae  Macaca mulatta [TaxID: 9544]; Homo sapiens [Ta...   \n",
       "81660   Retroviridae                         Homo sapiens [TaxID: 9606]   \n",
       "81894   Retroviridae                         Homo sapiens [TaxID: 9606]   \n",
       "83809   Retroviridae                         Homo sapiens [TaxID: 9606]   \n",
       "86640   Retroviridae                         Homo sapiens [TaxID: 9606]   \n",
       "88936   Retroviridae                         Homo sapiens [TaxID: 9606]   \n",
       "89637   Retroviridae                         Homo sapiens [TaxID: 9606]   \n",
       "92892   Retroviridae                         Homo sapiens [TaxID: 9606]   \n",
       "93736   Retroviridae                         Homo sapiens [TaxID: 9606]   \n",
       "94808   Retroviridae  Macaca mulatta [TaxID: 9544]; Homo sapiens [Ta...   \n",
       "96476   Retroviridae                         Homo sapiens [TaxID: 9606]   \n",
       "\n",
       "                     Virus hosts ID Host kingdom Host superkingdom  \\\n",
       "41733  9545; 9606; 9544; 9539; 9541      Metazoa         Eukaryota   \n",
       "43249                          9606      Metazoa         Eukaryota   \n",
       "46935  9545; 9606; 9544; 9539; 9541      Metazoa         Eukaryota   \n",
       "49810                          9606      Metazoa         Eukaryota   \n",
       "51687  9545; 9606; 9544; 9539; 9541      Metazoa         Eukaryota   \n",
       "51886                          9606      Metazoa         Eukaryota   \n",
       "52829                          9606      Metazoa         Eukaryota   \n",
       "54685                          9606      Metazoa         Eukaryota   \n",
       "60614                          9606      Metazoa         Eukaryota   \n",
       "60689                          9606      Metazoa         Eukaryota   \n",
       "65503                          9606      Metazoa         Eukaryota   \n",
       "66878                          9606      Metazoa         Eukaryota   \n",
       "67062                          9606      Metazoa         Eukaryota   \n",
       "69776                          9606      Metazoa         Eukaryota   \n",
       "70712                          9606      Metazoa         Eukaryota   \n",
       "74542                          9606      Metazoa         Eukaryota   \n",
       "77313                          9606      Metazoa         Eukaryota   \n",
       "78137  9545; 9606; 9544; 9539; 9541      Metazoa         Eukaryota   \n",
       "78320                          9606      Metazoa         Eukaryota   \n",
       "78553                          9606      Metazoa         Eukaryota   \n",
       "81501  9545; 9606; 9544; 9539; 9541      Metazoa         Eukaryota   \n",
       "81660                          9606      Metazoa         Eukaryota   \n",
       "81894                          9606      Metazoa         Eukaryota   \n",
       "83809                          9606      Metazoa         Eukaryota   \n",
       "86640                          9606      Metazoa         Eukaryota   \n",
       "88936                          9606      Metazoa         Eukaryota   \n",
       "89637                          9606      Metazoa         Eukaryota   \n",
       "92892                          9606      Metazoa         Eukaryota   \n",
       "93736                          9606      Metazoa         Eukaryota   \n",
       "94808  9545; 9606; 9544; 9539; 9541      Metazoa         Eukaryota   \n",
       "96476                          9606      Metazoa         Eukaryota   \n",
       "\n",
       "      Molecule type Infects human  \n",
       "41733      ssRNA-RT    human-true  \n",
       "43249      ssRNA-RT    human-true  \n",
       "46935      ssRNA-RT    human-true  \n",
       "49810      ssRNA-RT    human-true  \n",
       "51687      ssRNA-RT    human-true  \n",
       "51886      ssRNA-RT    human-true  \n",
       "52829      ssRNA-RT    human-true  \n",
       "54685      ssRNA-RT    human-true  \n",
       "60614      ssRNA-RT    human-true  \n",
       "60689      ssRNA-RT    human-true  \n",
       "65503      ssRNA-RT    human-true  \n",
       "66878      ssRNA-RT    human-true  \n",
       "67062      ssRNA-RT    human-true  \n",
       "69776      ssRNA-RT    human-true  \n",
       "70712      ssRNA-RT    human-true  \n",
       "74542      ssRNA-RT    human-true  \n",
       "77313      ssRNA-RT    human-true  \n",
       "78137      ssRNA-RT    human-true  \n",
       "78320      ssRNA-RT    human-true  \n",
       "78553      ssRNA-RT    human-true  \n",
       "81501      ssRNA-RT    human-true  \n",
       "81660      ssRNA-RT    human-true  \n",
       "81894      ssRNA-RT    human-true  \n",
       "83809      ssRNA-RT    human-true  \n",
       "86640      ssRNA-RT    human-true  \n",
       "88936      ssRNA-RT    human-true  \n",
       "89637      ssRNA-RT    human-true  \n",
       "92892      ssRNA-RT    human-true  \n",
       "93736      ssRNA-RT    human-true  \n",
       "94808      ssRNA-RT    human-true  \n",
       "96476      ssRNA-RT    human-true  "
      ]
     },
     "execution_count": 49,
     "metadata": {},
     "output_type": "execute_result"
    }
   ],
   "source": [
    "entries_false_negatives[entries_false_negatives['Species name'].str.contains(\"Human immunodeficiency virus\")]"
   ]
  },
  {
   "cell_type": "markdown",
   "id": "3093c049-1ac1-4e46-b221-7ab0e0ba00f9",
   "metadata": {},
   "source": [
    "Labeling errors especially for the related viruses e.g. MERS related and SARS related viruses\n",
    "Partial sequences being submitted esp for HIV, Human betaherpesvirus 6,\n",
    "Viruses with sp. e.g. CRESS virus sp. could be strain issues so also attributatble to labeling errors"
   ]
  },
  {
   "cell_type": "code",
   "execution_count": 52,
   "id": "41a054ff-df82-4140-b22e-72cf9cf68421",
   "metadata": {
    "scrolled": true,
    "tags": []
   },
   "outputs": [
    {
     "data": {
      "text/plain": [
       "array(['Hantaan orthohantavirus', 'Human papillomavirus',\n",
       "       'Human gammaherpesvirus 4', 'Human polyomavirus 8',\n",
       "       'Human mastadenovirus A', 'Eastern equine encephalitis virus',\n",
       "       'Ross River virus', 'Lassa mammarenavirus',\n",
       "       'Severe acute respiratory syndrome-related coronavirus',\n",
       "       'Alphapapillomavirus 3',\n",
       "       'Middle East respiratory syndrome-related coronavirus',\n",
       "       'Human mastadenovirus D', 'Rotavirus A',\n",
       "       'Simian-Human immunodeficiency virus', 'Yellow fever virus',\n",
       "       'Marburg marburgvirus', 'Hepatovirus A',\n",
       "       'New Jersey vesiculovirus', 'Human alphaherpesvirus 1',\n",
       "       'Hepacivirus C', 'Human immunodeficiency virus 1',\n",
       "       'Venezuelan equine encephalitis virus', 'Pegivirus C',\n",
       "       'Human mastadenovirus B', 'Honeysuckle yellow vein virus',\n",
       "       'Alphapapillomavirus 7', 'Primate T-lymphotropic virus 3',\n",
       "       'Avian metaavulavirus 2', 'Aichivirus A', 'Machupo mammarenavirus',\n",
       "       'Cowpox virus', 'Human alphaherpesvirus 3',\n",
       "       'Alphapapillomavirus 5', 'Chikungunya virus', 'CRESS virus sp.',\n",
       "       'Human betaherpesvirus 5', 'Rotavirus C', 'Rhinovirus C',\n",
       "       'Sindbis virus', 'Gammapapillomavirus 23',\n",
       "       'Human mastadenovirus C', 'Indiana vesiculovirus',\n",
       "       'Human immunodeficiency virus 2', 'Tula orthohantavirus',\n",
       "       'Tick-borne encephalitis virus', 'Human mastadenovirus G',\n",
       "       'Porcine type-C oncovirus', 'Hendra henipavirus',\n",
       "       'Circoviridae sp.', 'Gammapapillomavirus 6', 'Parechovirus A',\n",
       "       'Alphapapillomavirus 10', 'Pestivirus B', 'Influenza B virus',\n",
       "       'Getah virus', 'Sosuga pararubulavirus', 'Cardiovirus B',\n",
       "       'Rhinovirus A', 'Betacoronavirus 1', 'Vaccinia virus',\n",
       "       'Cardiovirus A', 'Alphapapillomavirus 6',\n",
       "       'Human alphaherpesvirus 2', 'Rhinovirus B', 'Human cosavirus',\n",
       "       'Human mastadenovirus F', 'Gammapapillomavirus 12',\n",
       "       'Akhmeta virus', 'Human polyomavirus 5',\n",
       "       'Human gammaherpesvirus 8', 'Alphapapillomavirus 11',\n",
       "       'Influenza C virus', 'Human papillomavirus type 214',\n",
       "       'Honeysuckle yellow vein mosaic virus', 'Human coronavirus 229E',\n",
       "       'Gammapapillomavirus 24', 'Western equine encephalitis virus',\n",
       "       'Human coronavirus NL63', 'Gammapapillomavirus 22',\n",
       "       'Alphapapillomavirus 9', 'Influenza A virus',\n",
       "       'Betapapillomavirus 2', 'Human orthorubulavirus 4',\n",
       "       'Papiine alphaherpesvirus 2', 'Alphapapillomavirus 13',\n",
       "       'Gammapapillomavirus sp.', 'Macacine alphaherpesvirus 1',\n",
       "       'Nupapillomavirus 1', 'Gammapapillomavirus 8',\n",
       "       'Mogiana tick virus', 'Rotavirus B', 'Coronavirus HKU15',\n",
       "       'Human betaherpesvirus 6',\n",
       "       'Lymphocytic choriomeningitis mammarenavirus', 'Mamastrovirus 1',\n",
       "       'Alphapapillomavirus 8', 'West Nile virus',\n",
       "       'Murine leukemia-related retroviruses', 'Human betaherpesvirus 6A',\n",
       "       'Bacteriophage sp.', 'Enterovirus B', 'Gyrovirus galga1',\n",
       "       'Murray Valley encephalitis virus', 'Picornaviridae sp.',\n",
       "       'Betapapillomavirus 1', 'Dobrava-Belgrade orthohantavirus',\n",
       "       'Human polyomavirus 11', 'Powassan virus', 'Gammapapillomavirus 7',\n",
       "       'Gammapapillomavirus 10', 'Human mastadenovirus E',\n",
       "       'Measles morbillivirus', 'Human adenovirus sp.'], dtype=object)"
      ]
     },
     "execution_count": 52,
     "metadata": {},
     "output_type": "execute_result"
    }
   ],
   "source": [
    "entries_false_negatives['Species name'].unique()"
   ]
  },
  {
   "cell_type": "code",
   "execution_count": 80,
   "id": "76b3311b-11b0-4fe9-acca-208697b947f6",
   "metadata": {},
   "outputs": [
    {
     "data": {
      "text/plain": [
       "86640     94.0\n",
       "51886     96.0\n",
       "78320     96.0\n",
       "89637     96.0\n",
       "70712     97.0\n",
       "88936    100.0\n",
       "83809    101.0\n",
       "66878    102.0\n",
       "69321    117.0\n",
       "86593    117.0\n",
       "Name: Length, dtype: float64"
      ]
     },
     "execution_count": 80,
     "metadata": {},
     "output_type": "execute_result"
    }
   ],
   "source": [
    "entries_false_negatives['Length'].nsmallest(10)"
   ]
  },
  {
   "cell_type": "code",
   "execution_count": 83,
   "id": "dcbc2b95-aa7c-4513-810f-412cb18a3a21",
   "metadata": {},
   "outputs": [
    {
     "data": {
      "text/plain": [
       "35121     72.0\n",
       "23014     95.0\n",
       "35718     95.0\n",
       "23714     96.0\n",
       "33130     96.0\n",
       "35954    100.0\n",
       "32049    104.0\n",
       "32572    104.0\n",
       "17025    114.0\n",
       "8205     117.0\n",
       "Name: Length, dtype: float64"
      ]
     },
     "execution_count": 83,
     "metadata": {},
     "output_type": "execute_result"
    }
   ],
   "source": [
    "entries_false_positives['Length'].nsmallest(10)"
   ]
  },
  {
   "cell_type": "code",
   "execution_count": 87,
   "id": "b73e832c-fe77-4737-8add-466e4161f10a",
   "metadata": {},
   "outputs": [],
   "source": [
    "fns = entries_false_negatives['Entry'].tolist()\n",
    "fps = entries_false_positives['Entry'].tolist()"
   ]
  },
  {
   "cell_type": "code",
   "execution_count": 88,
   "id": "228ca2a3-ec97-4cf6-9f5e-2d44ab7022a9",
   "metadata": {},
   "outputs": [],
   "source": [
    "fns.extend(fps)"
   ]
  },
  {
   "cell_type": "code",
   "execution_count": 89,
   "id": "23eaac1c-4981-49b3-923b-49138a52ab37",
   "metadata": {},
   "outputs": [
    {
     "data": {
      "text/plain": [
       "612"
      ]
     },
     "execution_count": 89,
     "metadata": {},
     "output_type": "execute_result"
    }
   ],
   "source": [
    "len(fns)"
   ]
  },
  {
   "cell_type": "code",
   "execution_count": 52,
   "id": "b85132f8-70a0-48c3-82c2-698b5f5f0c5a",
   "metadata": {},
   "outputs": [
    {
     "data": {
      "text/html": [
       "<div>\n",
       "<style scoped>\n",
       "    .dataframe tbody tr th:only-of-type {\n",
       "        vertical-align: middle;\n",
       "    }\n",
       "\n",
       "    .dataframe tbody tr th {\n",
       "        vertical-align: top;\n",
       "    }\n",
       "\n",
       "    .dataframe thead th {\n",
       "        text-align: right;\n",
       "    }\n",
       "</style>\n",
       "<table border=\"1\" class=\"dataframe\">\n",
       "  <thead>\n",
       "    <tr style=\"text-align: right;\">\n",
       "      <th></th>\n",
       "      <th>Entry</th>\n",
       "      <th>Protein</th>\n",
       "      <th>Length</th>\n",
       "      <th>Species name</th>\n",
       "      <th>Species taxonomic ID</th>\n",
       "      <th>Species family</th>\n",
       "      <th>Virus hosts</th>\n",
       "      <th>Virus hosts ID</th>\n",
       "      <th>Host kingdom</th>\n",
       "      <th>Host superkingdom</th>\n",
       "      <th>Molecule type</th>\n",
       "      <th>Infects human</th>\n",
       "    </tr>\n",
       "  </thead>\n",
       "  <tbody>\n",
       "    <tr>\n",
       "      <th>3796</th>\n",
       "      <td>A0A0E3HNZ7</td>\n",
       "      <td>Long tail fiber protein p37</td>\n",
       "      <td>51.0</td>\n",
       "      <td>Synechococcus virus AC2014fSyn7803C8</td>\n",
       "      <td>2734085</td>\n",
       "      <td>Myoviridae</td>\n",
       "      <td>Synechococcus [TaxID: 1129]; Synechococcus sp....</td>\n",
       "      <td>32051; 1129</td>\n",
       "      <td>Synechococcus sp. WH 7803; Synechococcus</td>\n",
       "      <td>Bacteria</td>\n",
       "      <td>unknown</td>\n",
       "      <td>human-false</td>\n",
       "    </tr>\n",
       "    <tr>\n",
       "      <th>32157</th>\n",
       "      <td>O72899</td>\n",
       "      <td>Protein I2 homolog</td>\n",
       "      <td>65.0</td>\n",
       "      <td>Fowlpox virus</td>\n",
       "      <td>10261</td>\n",
       "      <td>Poxviridae</td>\n",
       "      <td>Vertebrata [TaxID: 7742]</td>\n",
       "      <td>7742</td>\n",
       "      <td>Metazoa</td>\n",
       "      <td>Eukaryota</td>\n",
       "      <td>unknown</td>\n",
       "      <td>human-false</td>\n",
       "    </tr>\n",
       "    <tr>\n",
       "      <th>27901</th>\n",
       "      <td>G8FRI5</td>\n",
       "      <td>Parvo_coat domain-containing protein</td>\n",
       "      <td>67.0</td>\n",
       "      <td>Carnivore protoparvovirus 1</td>\n",
       "      <td>1511906</td>\n",
       "      <td>Parvoviridae</td>\n",
       "      <td>Felidae [TaxID: 9681]; Canis lupus [TaxID: 961...</td>\n",
       "      <td>452646; 9654; 9612; 9685; 9651; 9681</td>\n",
       "      <td>Metazoa</td>\n",
       "      <td>Eukaryota</td>\n",
       "      <td>ssDNA(+/-)</td>\n",
       "      <td>human-false</td>\n",
       "    </tr>\n",
       "    <tr>\n",
       "      <th>90077</th>\n",
       "      <td>A0A7G7XMH8</td>\n",
       "      <td>HDAg-S</td>\n",
       "      <td>70.0</td>\n",
       "      <td>Hepatitis delta virus</td>\n",
       "      <td>12475</td>\n",
       "      <td>Kolmioviridae</td>\n",
       "      <td>Homo sapiens [TaxID: 9606]</td>\n",
       "      <td>9606</td>\n",
       "      <td>Metazoa</td>\n",
       "      <td>Eukaryota</td>\n",
       "      <td>ssRNA(-)</td>\n",
       "      <td>human-true</td>\n",
       "    </tr>\n",
       "    <tr>\n",
       "      <th>35121</th>\n",
       "      <td>Q89707</td>\n",
       "      <td>Pre-histone-like nucleoprotein</td>\n",
       "      <td>72.0</td>\n",
       "      <td>Fowl aviadenovirus A</td>\n",
       "      <td>190061</td>\n",
       "      <td>Adenoviridae</td>\n",
       "      <td>Galliformes [TaxID: 8976]</td>\n",
       "      <td>8976</td>\n",
       "      <td>Metazoa</td>\n",
       "      <td>Eukaryota</td>\n",
       "      <td>unknown</td>\n",
       "      <td>human-false</td>\n",
       "    </tr>\n",
       "    <tr>\n",
       "      <th>...</th>\n",
       "      <td>...</td>\n",
       "      <td>...</td>\n",
       "      <td>...</td>\n",
       "      <td>...</td>\n",
       "      <td>...</td>\n",
       "      <td>...</td>\n",
       "      <td>...</td>\n",
       "      <td>...</td>\n",
       "      <td>...</td>\n",
       "      <td>...</td>\n",
       "      <td>...</td>\n",
       "      <td>...</td>\n",
       "    </tr>\n",
       "    <tr>\n",
       "      <th>29110</th>\n",
       "      <td>I6QIZ9</td>\n",
       "      <td>Autoprotease p20</td>\n",
       "      <td>4001.0</td>\n",
       "      <td>Pestivirus H</td>\n",
       "      <td>2170087</td>\n",
       "      <td>Flaviviridae</td>\n",
       "      <td>Capra hircus [TaxID: 9925]; Ovis aries [TaxID:...</td>\n",
       "      <td>89462; 9913; 9915; 9925; 9940</td>\n",
       "      <td>Metazoa</td>\n",
       "      <td>Eukaryota</td>\n",
       "      <td>ssRNA(+)</td>\n",
       "      <td>human-false</td>\n",
       "    </tr>\n",
       "    <tr>\n",
       "      <th>81496</th>\n",
       "      <td>A0A3S9KG07</td>\n",
       "      <td>Autoprotease p20</td>\n",
       "      <td>4028.0</td>\n",
       "      <td>Pestivirus B</td>\n",
       "      <td>2170081</td>\n",
       "      <td>Flaviviridae</td>\n",
       "      <td>Homo sapiens [TaxID: 9606]; Capra hircus [TaxI...</td>\n",
       "      <td>89462; 9823; 30521; 9895; 9913; 9606; 9925; 9940</td>\n",
       "      <td>Metazoa</td>\n",
       "      <td>Eukaryota</td>\n",
       "      <td>ssRNA(+)</td>\n",
       "      <td>human-true</td>\n",
       "    </tr>\n",
       "    <tr>\n",
       "      <th>35723</th>\n",
       "      <td>Q9IFH8</td>\n",
       "      <td>Autoprotease p20</td>\n",
       "      <td>4040.0</td>\n",
       "      <td>Pestivirus A</td>\n",
       "      <td>2170080</td>\n",
       "      <td>Flaviviridae</td>\n",
       "      <td>Bos taurus [TaxID: 9913]</td>\n",
       "      <td>9913</td>\n",
       "      <td>Metazoa</td>\n",
       "      <td>Eukaryota</td>\n",
       "      <td>ssRNA(+)</td>\n",
       "      <td>human-false</td>\n",
       "    </tr>\n",
       "    <tr>\n",
       "      <th>34831</th>\n",
       "      <td>Q807Z8</td>\n",
       "      <td>Autoprotease p20</td>\n",
       "      <td>4197.0</td>\n",
       "      <td>Pestivirus A</td>\n",
       "      <td>2170080</td>\n",
       "      <td>Flaviviridae</td>\n",
       "      <td>Bos taurus [TaxID: 9913]</td>\n",
       "      <td>9913</td>\n",
       "      <td>Metazoa</td>\n",
       "      <td>Eukaryota</td>\n",
       "      <td>ssRNA(+)</td>\n",
       "      <td>human-false</td>\n",
       "    </tr>\n",
       "    <tr>\n",
       "      <th>18299</th>\n",
       "      <td>A0A5P9VJ80</td>\n",
       "      <td>Autoprotease p20</td>\n",
       "      <td>5068.0</td>\n",
       "      <td>Pestivirus A</td>\n",
       "      <td>2170080</td>\n",
       "      <td>Flaviviridae</td>\n",
       "      <td>Bos taurus [TaxID: 9913]</td>\n",
       "      <td>9913</td>\n",
       "      <td>Metazoa</td>\n",
       "      <td>Eukaryota</td>\n",
       "      <td>ssRNA(+)</td>\n",
       "      <td>human-false</td>\n",
       "    </tr>\n",
       "  </tbody>\n",
       "</table>\n",
       "<p>19326 rows × 12 columns</p>\n",
       "</div>"
      ],
      "text/plain": [
       "            Entry                               Protein  Length  \\\n",
       "3796   A0A0E3HNZ7           Long tail fiber protein p37    51.0   \n",
       "32157      O72899                    Protein I2 homolog    65.0   \n",
       "27901      G8FRI5  Parvo_coat domain-containing protein    67.0   \n",
       "90077  A0A7G7XMH8                                HDAg-S    70.0   \n",
       "35121      Q89707        Pre-histone-like nucleoprotein    72.0   \n",
       "...           ...                                   ...     ...   \n",
       "29110      I6QIZ9                      Autoprotease p20  4001.0   \n",
       "81496  A0A3S9KG07                      Autoprotease p20  4028.0   \n",
       "35723      Q9IFH8                      Autoprotease p20  4040.0   \n",
       "34831      Q807Z8                      Autoprotease p20  4197.0   \n",
       "18299  A0A5P9VJ80                      Autoprotease p20  5068.0   \n",
       "\n",
       "                               Species name  Species taxonomic ID  \\\n",
       "3796   Synechococcus virus AC2014fSyn7803C8               2734085   \n",
       "32157                         Fowlpox virus                 10261   \n",
       "27901           Carnivore protoparvovirus 1               1511906   \n",
       "90077                 Hepatitis delta virus                 12475   \n",
       "35121                  Fowl aviadenovirus A                190061   \n",
       "...                                     ...                   ...   \n",
       "29110                          Pestivirus H               2170087   \n",
       "81496                          Pestivirus B               2170081   \n",
       "35723                          Pestivirus A               2170080   \n",
       "34831                          Pestivirus A               2170080   \n",
       "18299                          Pestivirus A               2170080   \n",
       "\n",
       "      Species family                                        Virus hosts  \\\n",
       "3796      Myoviridae  Synechococcus [TaxID: 1129]; Synechococcus sp....   \n",
       "32157     Poxviridae                           Vertebrata [TaxID: 7742]   \n",
       "27901   Parvoviridae  Felidae [TaxID: 9681]; Canis lupus [TaxID: 961...   \n",
       "90077  Kolmioviridae                         Homo sapiens [TaxID: 9606]   \n",
       "35121   Adenoviridae                          Galliformes [TaxID: 8976]   \n",
       "...              ...                                                ...   \n",
       "29110   Flaviviridae  Capra hircus [TaxID: 9925]; Ovis aries [TaxID:...   \n",
       "81496   Flaviviridae  Homo sapiens [TaxID: 9606]; Capra hircus [TaxI...   \n",
       "35723   Flaviviridae                           Bos taurus [TaxID: 9913]   \n",
       "34831   Flaviviridae                           Bos taurus [TaxID: 9913]   \n",
       "18299   Flaviviridae                           Bos taurus [TaxID: 9913]   \n",
       "\n",
       "                                         Virus hosts ID  \\\n",
       "3796                                        32051; 1129   \n",
       "32157                                              7742   \n",
       "27901              452646; 9654; 9612; 9685; 9651; 9681   \n",
       "90077                                              9606   \n",
       "35121                                              8976   \n",
       "...                                                 ...   \n",
       "29110                     89462; 9913; 9915; 9925; 9940   \n",
       "81496  89462; 9823; 30521; 9895; 9913; 9606; 9925; 9940   \n",
       "35723                                              9913   \n",
       "34831                                              9913   \n",
       "18299                                              9913   \n",
       "\n",
       "                                   Host kingdom Host superkingdom  \\\n",
       "3796   Synechococcus sp. WH 7803; Synechococcus          Bacteria   \n",
       "32157                                   Metazoa         Eukaryota   \n",
       "27901                                   Metazoa         Eukaryota   \n",
       "90077                                   Metazoa         Eukaryota   \n",
       "35121                                   Metazoa         Eukaryota   \n",
       "...                                         ...               ...   \n",
       "29110                                   Metazoa         Eukaryota   \n",
       "81496                                   Metazoa         Eukaryota   \n",
       "35723                                   Metazoa         Eukaryota   \n",
       "34831                                   Metazoa         Eukaryota   \n",
       "18299                                   Metazoa         Eukaryota   \n",
       "\n",
       "      Molecule type Infects human  \n",
       "3796        unknown   human-false  \n",
       "32157       unknown   human-false  \n",
       "27901    ssDNA(+/-)   human-false  \n",
       "90077      ssRNA(-)    human-true  \n",
       "35121       unknown   human-false  \n",
       "...             ...           ...  \n",
       "29110      ssRNA(+)   human-false  \n",
       "81496      ssRNA(+)    human-true  \n",
       "35723      ssRNA(+)   human-false  \n",
       "34831      ssRNA(+)   human-false  \n",
       "18299      ssRNA(+)   human-false  \n",
       "\n",
       "[19326 rows x 12 columns]"
      ]
     },
     "execution_count": 52,
     "metadata": {},
     "output_type": "execute_result"
    }
   ],
   "source": [
    "df[df['Entry'].isin(results[\"Entry\"].tolist())].sort_values(\"Length\")"
   ]
  },
  {
   "cell_type": "markdown",
   "id": "6a8a2d70-5706-46d0-a3f8-1afae66bae47",
   "metadata": {},
   "source": [
    "length does not seem to have been a factor as some of the correctly classified values were relatively small sequences between 34 and 71 amino acids."
   ]
  }
 ],
 "metadata": {
  "kernelspec": {
   "display_name": "Zoon0PredV",
   "language": "python",
   "name": "tensorflow"
  },
  "language_info": {
   "codemirror_mode": {
    "name": "ipython",
    "version": 3
   },
   "file_extension": ".py",
   "mimetype": "text/x-python",
   "name": "python",
   "nbconvert_exporter": "python",
   "pygments_lexer": "ipython3",
   "version": "3.6.9"
  }
 },
 "nbformat": 4,
 "nbformat_minor": 5
}
