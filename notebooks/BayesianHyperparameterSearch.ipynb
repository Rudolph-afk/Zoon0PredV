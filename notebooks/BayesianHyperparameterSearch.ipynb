{
 "cells": [
  {
   "cell_type": "markdown",
   "id": "90d94cfe",
   "metadata": {},
   "source": [
    "## Packages"
   ]
  },
  {
   "cell_type": "code",
   "execution_count": 1,
   "id": "b5e5ed9a-d345-42ac-a63d-1be8529cd7dc",
   "metadata": {
    "tags": []
   },
   "outputs": [
    {
     "name": "stderr",
     "output_type": "stream",
     "text": [
      "/usr/local/lib/python3.6/dist-packages/IPython/kernel/__main__.py:14: DeprecationWarning: `import kerastuner` is deprecated, please use `import keras_tuner`.\n"
     ]
    }
   ],
   "source": [
    "import os\n",
    "# import gc\n",
    "import numpy as np\n",
    "# from numba import cuda\n",
    "import cv2\n",
    "import tensorflow as tf\n",
    "from tensorflow import keras\n",
    "from tensorflow.keras.callbacks import CSVLogger, ModelCheckpoint, ReduceLROnPlateau, EarlyStopping\n",
    "from tensorflow.keras.metrics import Recall, Precision, BinaryAccuracy, FalsePositives, \\\n",
    "                                    TruePositives, TrueNegatives, FalseNegatives, AUC\n",
    "from tensorflow.random import set_seed\n",
    "from numpy.random import seed\n",
    "import tensorflow_addons as tfa\n",
    "import keras_tuner as kt\n",
    "from sklearn.model_selection import train_test_split\n",
    "import random\n",
    "from tqdm.notebook import tqdm\n",
    "from tqdm.keras import TqdmCallback\n",
    "\n",
    "# # quietly deep-reload tqdm\n",
    "# import sys\n",
    "# from IPython.lib import deepreload\n",
    "# stdout = sys.stdout\n",
    "# sys.stdout = open('junk','w')\n",
    "# deepreload.reload(tqdm)\n",
    "# sys.stdout = stdout\n",
    "\n",
    "\n",
    "random.seed(20192020)\n",
    "set_seed(20192020)\n",
    "seed(20192020)"
   ]
  },
  {
   "cell_type": "markdown",
   "id": "0d6e2c64",
   "metadata": {},
   "source": [
    "## Activate GPU devices"
   ]
  },
  {
   "cell_type": "code",
   "execution_count": 2,
   "id": "c3d1fea3",
   "metadata": {},
   "outputs": [
    {
     "name": "stdout",
     "output_type": "stream",
     "text": [
      "Number of GPUs available:  1\n"
     ]
    }
   ],
   "source": [
    "physical_devices = tf.config.experimental.list_physical_devices('GPU')\n",
    "print('Number of GPUs available: ', len(physical_devices))\n",
    "for device in physical_devices:\n",
    "    tf.config.experimental.set_memory_growth(device, enable=True)"
   ]
  },
  {
   "cell_type": "markdown",
   "id": "7d18437d",
   "metadata": {},
   "source": [
    "### Activate distribute strategy to distribute GPU computations across available GPUs"
   ]
  },
  {
   "cell_type": "code",
   "execution_count": 3,
   "id": "b8535429",
   "metadata": {},
   "outputs": [
    {
     "name": "stdout",
     "output_type": "stream",
     "text": [
      "INFO:tensorflow:Using MirroredStrategy with devices ('/job:localhost/replica:0/task:0/device:GPU:0',)\n"
     ]
    }
   ],
   "source": [
    "mirrored_strategy = tf.distribute.MirroredStrategy()"
   ]
  },
  {
   "cell_type": "code",
   "execution_count": 4,
   "id": "30a0471d-c68b-4804-8507-86c7e738991f",
   "metadata": {
    "scrolled": true
   },
   "outputs": [
    {
     "data": {
      "text/plain": [
       "'2.6.0'"
      ]
     },
     "execution_count": 4,
     "metadata": {},
     "output_type": "execute_result"
    }
   ],
   "source": [
    "tf.__version__"
   ]
  },
  {
   "cell_type": "markdown",
   "id": "412231de",
   "metadata": {},
   "source": [
    "## Function definitions"
   ]
  },
  {
   "cell_type": "code",
   "execution_count": 10,
   "id": "a1e1c531-5155-43d4-9080-fb835a3aee5c",
   "metadata": {},
   "outputs": [],
   "source": [
    "def createImageData(data_dir, subdir, img_size=96):\n",
    "    data = []\n",
    "    Features = []\n",
    "    Labels = []\n",
    "    with tqdm(total=len(subdir), desc=\"Directory progress\", position=0) as pbar:\n",
    "        for directory in subdir:\n",
    "            path = os.path.join(data_dir, directory)\n",
    "            class_num = subdir.index(directory)\n",
    "            images = list(filter(lambda x: x.endswith('jpeg'), os.listdir(path)))\n",
    "            random.shuffle(images)\n",
    "            l=int(len(images)/7)\n",
    "            images = images[:l]\n",
    "            with tqdm(total=len(images), desc=\"Reading images\", position=1) as pbar2:\n",
    "                for image in images:\n",
    "                    image = os.path.join(path, image)\n",
    "                    image_as_array = cv2.imread(image, cv2.IMREAD_GRAYSCALE)\n",
    "                    image_as_array = image_as_array/255.0\n",
    "                    data.append([image_as_array, class_num])\n",
    "                    pbar2.update()\n",
    "            pbar.update()\n",
    "#     random.shuffle(data)\n",
    "    with tqdm(total=len(data), desc='Appending features and labels') as pbar3:\n",
    "        for feature, label in data:\n",
    "            Features.append(feature)\n",
    "            Labels.append(label)\n",
    "            pbar3.update()\n",
    "    Features = np.array(Features).reshape((-1, img_size, img_size, 1))\n",
    "#     Labels = np.asarray(Labels).astype('float32').reshape((-1,1))\n",
    "    Labels = np.array(Labels).reshape((-1,1))\n",
    "    return (Features, Labels)\n",
    "\n",
    "keras.optimizers.Adam(learning_rate=0.01)\n",
    "keras.optimizers.RMSprop(learning_rate=0.01)\n",
    "\n",
    "def build_model(hp):\n",
    "    HP_NUM_UNITS = hp.Int('units', min_value=32, max_value=64, step=16)\n",
    "    HP_DROPOUT = hp.Choice('dropout', [0.2, 0.3, 0.4, 0.5])\n",
    "    HP_OPTIMIZER = hp.Choice('optimizer', ['Adam', 'RMSprop'])\n",
    "    HP_STRIDES = hp.Choice('strides', [1, 2, 3])\n",
    "    HP_THRESHOLD = hp.Choice('threshold', [0.7, 0.75, 0.8, 0.85, 0.9])\n",
    "#     HP_LEARNING_RATE = hp.Choice('learning_rate', [])\n",
    "    \n",
    "    \n",
    "    with mirrored_strategy.scope():\n",
    "        model = keras.models.Sequential([\n",
    "            keras.layers.Conv2D(HP_NUM_UNITS, input_shape=(96,96,1),\n",
    "                                kernel_size=(3,3),\n",
    "                                activation='relu',\n",
    "                                bias_regularizer=tf.keras.regularizers.l2()),\n",
    "            keras.layers.BatchNormalization(),\n",
    "            keras.layers.Conv2D(HP_NUM_UNITS, kernel_size=(3,3), activation='relu',\n",
    "                                bias_regularizer=tf.keras.regularizers.l2()),\n",
    "            keras.layers.MaxPool2D(pool_size=(HP_STRIDES, HP_STRIDES), strides=HP_STRIDES),\n",
    "            keras.layers.Dropout(HP_DROPOUT),\n",
    "    #         keras.layers.BatchNormalization(),\n",
    "            keras.layers.Flatten(),\n",
    "            keras.layers.Dense(units=128, activation='relu',\n",
    "                               bias_regularizer=tf.keras.regularizers.l2()),\n",
    "            keras.layers.Dense(1, activation='sigmoid',\n",
    "                               bias_regularizer=tf.keras.regularizers.l2())\n",
    "        ])\n",
    "        recall = Recall(name = \"recall\", thresholds=HP_THRESHOLD)\n",
    "        precision = Precision(name = \"precision\", thresholds=HP_THRESHOLD)\n",
    "        accuracy = BinaryAccuracy(threshold=HP_THRESHOLD)\n",
    "        false_positives = FalsePositives(name=\"FP\",thresholds=HP_THRESHOLD)\n",
    "        true_positives = TruePositives(name=\"TP\", thresholds=HP_THRESHOLD)\n",
    "        true_negatives = TrueNegatives(name=\"TN\", thresholds=HP_THRESHOLD)\n",
    "        false_negatives = FalseNegatives(name=\"FN\", thresholds=HP_THRESHOLD)\n",
    "\n",
    "    model.compile(\n",
    "        loss='binary_crossentropy',\n",
    "        optimizer=HP_OPTIMIZER,\n",
    "        metrics=[\n",
    "            accuracy,\n",
    "            recall,\n",
    "            precision,\n",
    "            false_positives,\n",
    "            true_positives,\n",
    "            true_negatives,\n",
    "            false_negatives,\n",
    "        ])\n",
    "    return model\n",
    "\n",
    "\n",
    "class MyTuner(kt.tuners.BayesianOptimization):\n",
    "    def run_trial(self, trial, *args, **kwargs):\n",
    "        kwargs['epochs'] = trial.hyperparameters.Int('epochs', min_value=5, max_value=15, step=5)\n",
    "        kwargs['batch_size'] = trial.hyperparameters.Choice('batch_size', [64, 128])\n",
    "        super(MyTuner, self).run_trial(trial, *args, **kwargs)\n",
    "\n",
    "\n",
    "# class FreeMemoryCallback(keras.callbacks.Callback):\n",
    "#     def on_train_end(self, logs=None):\n",
    "#         tf.keras.backend.clear_session()\n",
    "#         gc.collect()\n",
    "#     def on_epoch_begin(self):\n",
    "#         tf.keras.backend.clear_session()"
   ]
  },
  {
   "cell_type": "markdown",
   "id": "633d12e7",
   "metadata": {},
   "source": [
    "## Data directories"
   ]
  },
  {
   "cell_type": "code",
   "execution_count": 6,
   "id": "ed8b642d-5836-4e18-9010-83caf876fc66",
   "metadata": {},
   "outputs": [],
   "source": [
    "# os.chdir('')\n",
    "# dataset_directory = '/home/campbell/Documents/Rudolph/pipeline-output/ZoonosisData/train'\n",
    "dataset_directory = '/scratch3/users/rserage/ZoonosisData/train'\n",
    "data_subdirectories = ['human-false', 'human-true'] # maintain order (0,1)"
   ]
  },
  {
   "cell_type": "markdown",
   "id": "a8588f38",
   "metadata": {},
   "source": [
    "## Load data\n",
    "\n",
    "### Classic method"
   ]
  },
  {
   "cell_type": "code",
   "execution_count": 7,
   "id": "38c71142-956b-4ba8-a0a8-f1f9b969448f",
   "metadata": {
    "tags": []
   },
   "outputs": [
    {
     "data": {
      "application/vnd.jupyter.widget-view+json": {
       "model_id": "6b85258c03f1448e8cf4015876dd0ad7",
       "version_major": 2,
       "version_minor": 0
      },
      "text/plain": [
       "Directory progress:   0%|          | 0/2 [00:00<?, ?it/s]"
      ]
     },
     "metadata": {},
     "output_type": "display_data"
    },
    {
     "data": {
      "application/vnd.jupyter.widget-view+json": {
       "model_id": "138e8dd9e5854456bea433c5466ad1dc",
       "version_major": 2,
       "version_minor": 0
      },
      "text/plain": [
       "Reading images:   0%|          | 0/4400 [00:00<?, ?it/s]"
      ]
     },
     "metadata": {},
     "output_type": "display_data"
    },
    {
     "data": {
      "application/vnd.jupyter.widget-view+json": {
       "model_id": "46afe024c1f04ed1a6f14c32d7f594a5",
       "version_major": 2,
       "version_minor": 0
      },
      "text/plain": [
       "Reading images:   0%|          | 0/7341 [00:00<?, ?it/s]"
      ]
     },
     "metadata": {},
     "output_type": "display_data"
    },
    {
     "data": {
      "application/vnd.jupyter.widget-view+json": {
       "model_id": "20218dbf64eb48e782c55f971569bdf6",
       "version_major": 2,
       "version_minor": 0
      },
      "text/plain": [
       "Appending features and labels:   0%|          | 0/11741 [00:00<?, ?it/s]"
      ]
     },
     "metadata": {},
     "output_type": "display_data"
    },
    {
     "name": "stdout",
     "output_type": "stream",
     "text": [
      "\n",
      "    Data dimentions\n",
      "    ==============================\n",
      "\n",
      "    X train: , (8805, 96, 96, 1)\n",
      "    y train: , (8805, 1)\n",
      "\n",
      "    X test: , (2936, 96, 96, 1)\n",
      "    y test: , (2936, 1)\n",
      "    \n"
     ]
    }
   ],
   "source": [
    "X, y = createImageData(data_dir=dataset_directory, subdir=data_subdirectories)\n",
    "\n",
    "X_train, X_test, y_train, y_test = train_test_split(X, y, random_state=19970912, test_size=0.25)\n",
    "\n",
    "del X, y\n",
    "\n",
    "print(\n",
    "    f\"\"\"\n",
    "    Data dimentions\n",
    "    ==============================\n",
    "\n",
    "    X train: {X_train.shape}\n",
    "    y train: {y_train.shape}\n",
    "\n",
    "    X test: {X_test.shape}\n",
    "    y test: {y_test.shape}\n",
    "    \"\"\"\n",
    ")"
   ]
  },
  {
   "cell_type": "code",
   "execution_count": 11,
   "id": "5cbb8b71-7cff-4a88-8f0d-4f3825d7d30e",
   "metadata": {},
   "outputs": [],
   "source": [
    "y_train = np.asarray(y_train).astype('float32').reshape((-1,1))\n",
    "y_test = np.asarray(y_test).astype('float32').reshape((-1,1))"
   ]
  },
  {
   "cell_type": "markdown",
   "id": "72b04c60",
   "metadata": {},
   "source": [
    "## Callback functions used in model training"
   ]
  },
  {
   "cell_type": "code",
   "execution_count": 12,
   "id": "7ef80eb7-717e-4878-8802-a5fb1187f388",
   "metadata": {},
   "outputs": [],
   "source": [
    "# free_memory_callback = FreeMemoryCallback()\n",
    "# progress_bar = TqdmCallback()\n",
    "stop_early_callback = EarlyStopping(monitor='val_binary_accuracy', patience=3)\n",
    "logs = CSVLogger(\"logs.csv\")\n",
    "reduce_lr = ReduceLROnPlateau(monitor='val_binary_accuracy', factor=0.2, patience=3, min_lr=0.001)\n",
    "\n",
    "callbacks = [stop_early_callback, reduce_lr, logs]"
   ]
  },
  {
   "cell_type": "markdown",
   "id": "daf27ad2",
   "metadata": {},
   "source": [
    "## Instantiate KerasTuner object"
   ]
  },
  {
   "cell_type": "code",
   "execution_count": 13,
   "id": "ea6cd21b-c93a-45c2-8b37-a5d371f196db",
   "metadata": {
    "scrolled": true,
    "tags": []
   },
   "outputs": [
    {
     "name": "stdout",
     "output_type": "stream",
     "text": [
      "INFO:tensorflow:Reloading Oracle from existing project ./BayOptHparams/oracle.json\n",
      "INFO:tensorflow:Reduce to /job:localhost/replica:0/task:0/device:CPU:0 then broadcast to ('/job:localhost/replica:0/task:0/device:CPU:0',).\n",
      "INFO:tensorflow:Reduce to /job:localhost/replica:0/task:0/device:CPU:0 then broadcast to ('/job:localhost/replica:0/task:0/device:CPU:0',).\n",
      "INFO:tensorflow:Reduce to /job:localhost/replica:0/task:0/device:CPU:0 then broadcast to ('/job:localhost/replica:0/task:0/device:CPU:0',).\n",
      "INFO:tensorflow:Reduce to /job:localhost/replica:0/task:0/device:CPU:0 then broadcast to ('/job:localhost/replica:0/task:0/device:CPU:0',).\n",
      "INFO:tensorflow:Reduce to /job:localhost/replica:0/task:0/device:CPU:0 then broadcast to ('/job:localhost/replica:0/task:0/device:CPU:0',).\n",
      "INFO:tensorflow:Reduce to /job:localhost/replica:0/task:0/device:CPU:0 then broadcast to ('/job:localhost/replica:0/task:0/device:CPU:0',).\n",
      "INFO:tensorflow:Reduce to /job:localhost/replica:0/task:0/device:CPU:0 then broadcast to ('/job:localhost/replica:0/task:0/device:CPU:0',).\n",
      "INFO:tensorflow:Reduce to /job:localhost/replica:0/task:0/device:CPU:0 then broadcast to ('/job:localhost/replica:0/task:0/device:CPU:0',).\n",
      "INFO:tensorflow:Reduce to /job:localhost/replica:0/task:0/device:CPU:0 then broadcast to ('/job:localhost/replica:0/task:0/device:CPU:0',).\n",
      "INFO:tensorflow:Reduce to /job:localhost/replica:0/task:0/device:CPU:0 then broadcast to ('/job:localhost/replica:0/task:0/device:CPU:0',).\n",
      "INFO:tensorflow:Reloading Tuner from ./BayOptHparams/tuner0.json\n"
     ]
    }
   ],
   "source": [
    "# Uses same arguments as the BayesianOptimization Tuner.\n",
    "tuner = MyTuner(build_model,\n",
    "#                 overwrite=True,\n",
    "                seed=710219,\n",
    "                objective='val_binary_accuracy',\n",
    "#                 directory='./HPSearchLogs',\n",
    "                project_name='BayOptHparams',\n",
    "                max_trials=100\n",
    "                )"
   ]
  },
  {
   "cell_type": "code",
   "execution_count": 14,
   "id": "cbb08219-e666-45fb-991f-45287db46fbf",
   "metadata": {
    "scrolled": true,
    "tags": []
   },
   "outputs": [
    {
     "name": "stdout",
     "output_type": "stream",
     "text": [
      "Search space summary\n",
      "Default search space size: 7\n",
      "units (Int)\n",
      "{'default': None, 'conditions': [], 'min_value': 32, 'max_value': 64, 'step': 16, 'sampling': None}\n",
      "dropout (Choice)\n",
      "{'default': 0.2, 'conditions': [], 'values': [0.2, 0.3, 0.4, 0.5], 'ordered': True}\n",
      "optimizer (Choice)\n",
      "{'default': 'adam', 'conditions': [], 'values': ['adam', 'rmsprop'], 'ordered': False}\n",
      "strides (Choice)\n",
      "{'default': 1, 'conditions': [], 'values': [1, 2, 3], 'ordered': True}\n",
      "threshold (Choice)\n",
      "{'default': 0.7, 'conditions': [], 'values': [0.7, 0.75, 0.8, 0.85, 0.9], 'ordered': True}\n",
      "epochs (Int)\n",
      "{'default': None, 'conditions': [], 'min_value': 5, 'max_value': 15, 'step': 5, 'sampling': None}\n",
      "batch_size (Choice)\n",
      "{'default': 64, 'conditions': [], 'values': [64, 128], 'ordered': True}\n"
     ]
    }
   ],
   "source": [
    "tuner.search_space_summary()"
   ]
  },
  {
   "cell_type": "markdown",
   "id": "a67d4ef2",
   "metadata": {},
   "source": [
    "## Hyperparameter search"
   ]
  },
  {
   "cell_type": "code",
   "execution_count": 15,
   "id": "cbbaf2d2-cf76-4cd5-82f3-4f64e4929f42",
   "metadata": {
    "tags": []
   },
   "outputs": [
    {
     "name": "stdout",
     "output_type": "stream",
     "text": [
      "Trial 95 Complete [00h 00m 46s]\n",
      "val_binary_accuracy: 0.9199318289756775\n",
      "\n",
      "Best val_binary_accuracy So Far: 0.9562748670578003\n",
      "Total elapsed time: 01h 28m 00s\n",
      "INFO:tensorflow:Oracle triggered exit\n"
     ]
    }
   ],
   "source": [
    "tuner.search(X_train, y_train, validation_split=0.2, verbose=2, callbacks=callbacks)"
   ]
  },
  {
   "cell_type": "markdown",
   "id": "120eb319",
   "metadata": {},
   "source": [
    "## Results summary"
   ]
  },
  {
   "cell_type": "code",
   "execution_count": 16,
   "id": "108e0821-a2fb-42b1-a3a1-7b9a8c25e3dc",
   "metadata": {
    "scrolled": true,
    "tags": []
   },
   "outputs": [
    {
     "name": "stdout",
     "output_type": "stream",
     "text": [
      "Results summary\n",
      "Results in ./BayOptHparams\n",
      "Showing 10 best trials\n",
      "Objective(name='val_binary_accuracy', direction='max')\n",
      "Trial summary\n",
      "Hyperparameters:\n",
      "units: 48\n",
      "dropout: 0.4\n",
      "optimizer: adam\n",
      "strides: 1\n",
      "threshold: 0.7\n",
      "epochs: 10\n",
      "batch_size: 64\n",
      "Score: 0.9562748670578003\n",
      "Trial summary\n",
      "Hyperparameters:\n",
      "units: 64\n",
      "dropout: 0.3\n",
      "optimizer: adam\n",
      "strides: 1\n",
      "threshold: 0.7\n",
      "epochs: 15\n",
      "batch_size: 64\n",
      "Score: 0.9557070136070251\n",
      "Trial summary\n",
      "Hyperparameters:\n",
      "units: 48\n",
      "dropout: 0.3\n",
      "optimizer: adam\n",
      "strides: 1\n",
      "threshold: 0.7\n",
      "epochs: 10\n",
      "batch_size: 64\n",
      "Score: 0.9557070136070251\n",
      "Trial summary\n",
      "Hyperparameters:\n",
      "units: 48\n",
      "dropout: 0.2\n",
      "optimizer: adam\n",
      "strides: 3\n",
      "threshold: 0.8\n",
      "epochs: 10\n",
      "batch_size: 64\n",
      "Score: 0.9551391005516052\n",
      "Trial summary\n",
      "Hyperparameters:\n",
      "units: 64\n",
      "dropout: 0.3\n",
      "optimizer: adam\n",
      "strides: 1\n",
      "threshold: 0.7\n",
      "epochs: 15\n",
      "batch_size: 64\n",
      "Score: 0.950596272945404\n",
      "Trial summary\n",
      "Hyperparameters:\n",
      "units: 64\n",
      "dropout: 0.3\n",
      "optimizer: adam\n",
      "strides: 1\n",
      "threshold: 0.7\n",
      "epochs: 15\n",
      "batch_size: 64\n",
      "Score: 0.950596272945404\n",
      "Trial summary\n",
      "Hyperparameters:\n",
      "units: 48\n",
      "dropout: 0.2\n",
      "optimizer: adam\n",
      "strides: 3\n",
      "threshold: 0.75\n",
      "epochs: 15\n",
      "batch_size: 64\n",
      "Score: 0.950596272945404\n",
      "Trial summary\n",
      "Hyperparameters:\n",
      "units: 64\n",
      "dropout: 0.3\n",
      "optimizer: adam\n",
      "strides: 1\n",
      "threshold: 0.7\n",
      "epochs: 15\n",
      "batch_size: 64\n",
      "Score: 0.9500284194946289\n",
      "Trial summary\n",
      "Hyperparameters:\n",
      "units: 64\n",
      "dropout: 0.3\n",
      "optimizer: adam\n",
      "strides: 1\n",
      "threshold: 0.7\n",
      "epochs: 10\n",
      "batch_size: 64\n",
      "Score: 0.949460506439209\n",
      "Trial summary\n",
      "Hyperparameters:\n",
      "units: 32\n",
      "dropout: 0.5\n",
      "optimizer: adam\n",
      "strides: 1\n",
      "threshold: 0.7\n",
      "epochs: 10\n",
      "batch_size: 64\n",
      "Score: 0.9488926529884338\n"
     ]
    }
   ],
   "source": [
    "tuner.results_summary()"
   ]
  },
  {
   "cell_type": "markdown",
   "id": "f4aa7260-fee6-46dc-8c7a-7df0b1374dae",
   "metadata": {},
   "source": [
    "## Best hyperparameters"
   ]
  },
  {
   "cell_type": "code",
   "execution_count": 17,
   "id": "45c80a4d-11b0-425a-814d-bbb98274680d",
   "metadata": {},
   "outputs": [
    {
     "data": {
      "text/plain": [
       "{'units': 48,\n",
       " 'dropout': 0.4,\n",
       " 'optimizer': 'adam',\n",
       " 'strides': 1,\n",
       " 'threshold': 0.7,\n",
       " 'epochs': 10,\n",
       " 'batch_size': 64}"
      ]
     },
     "execution_count": 17,
     "metadata": {},
     "output_type": "execute_result"
    }
   ],
   "source": [
    "tuner.get_best_hyperparameters(1)[0].values"
   ]
  },
  {
   "cell_type": "code",
   "execution_count": 14,
   "id": "9deb9276-2326-4a72-a353-bdced8009edc",
   "metadata": {},
   "outputs": [],
   "source": [
    "best_model = tuner.get_best_models()[0]"
   ]
  },
  {
   "cell_type": "code",
   "execution_count": 15,
   "id": "c7735527-88a9-4b98-a2c8-e241ba7424d1",
   "metadata": {
    "scrolled": true,
    "tags": []
   },
   "outputs": [
    {
     "data": {
      "text/plain": [
       "{'name': 'sequential',\n",
       " 'layers': [{'class_name': 'Conv2D',\n",
       "   'config': {'name': 'conv2d',\n",
       "    'trainable': True,\n",
       "    'batch_input_shape': (None, 96, 96, 1),\n",
       "    'dtype': 'float32',\n",
       "    'filters': 48,\n",
       "    'kernel_size': (3, 3),\n",
       "    'strides': (1, 1),\n",
       "    'padding': 'valid',\n",
       "    'data_format': 'channels_last',\n",
       "    'dilation_rate': (1, 1),\n",
       "    'activation': 'relu',\n",
       "    'use_bias': True,\n",
       "    'kernel_initializer': {'class_name': 'GlorotUniform',\n",
       "     'config': {'seed': None}},\n",
       "    'bias_initializer': {'class_name': 'Zeros', 'config': {}},\n",
       "    'kernel_regularizer': None,\n",
       "    'bias_regularizer': None,\n",
       "    'activity_regularizer': None,\n",
       "    'kernel_constraint': None,\n",
       "    'bias_constraint': None}},\n",
       "  {'class_name': 'Conv2D',\n",
       "   'config': {'name': 'conv2d_1',\n",
       "    'trainable': True,\n",
       "    'dtype': 'float32',\n",
       "    'filters': 48,\n",
       "    'kernel_size': (3, 3),\n",
       "    'strides': (1, 1),\n",
       "    'padding': 'valid',\n",
       "    'data_format': 'channels_last',\n",
       "    'dilation_rate': (1, 1),\n",
       "    'activation': 'relu',\n",
       "    'use_bias': True,\n",
       "    'kernel_initializer': {'class_name': 'GlorotUniform',\n",
       "     'config': {'seed': None}},\n",
       "    'bias_initializer': {'class_name': 'Zeros', 'config': {}},\n",
       "    'kernel_regularizer': None,\n",
       "    'bias_regularizer': None,\n",
       "    'activity_regularizer': None,\n",
       "    'kernel_constraint': None,\n",
       "    'bias_constraint': None}},\n",
       "  {'class_name': 'MaxPooling2D',\n",
       "   'config': {'name': 'max_pooling2d',\n",
       "    'trainable': True,\n",
       "    'dtype': 'float32',\n",
       "    'pool_size': (2, 2),\n",
       "    'padding': 'valid',\n",
       "    'strides': (2, 2),\n",
       "    'data_format': 'channels_last'}},\n",
       "  {'class_name': 'Dropout',\n",
       "   'config': {'name': 'dropout',\n",
       "    'trainable': True,\n",
       "    'dtype': 'float32',\n",
       "    'rate': 0.2,\n",
       "    'noise_shape': None,\n",
       "    'seed': None}},\n",
       "  {'class_name': 'Flatten',\n",
       "   'config': {'name': 'flatten',\n",
       "    'trainable': True,\n",
       "    'dtype': 'float32',\n",
       "    'data_format': 'channels_last'}},\n",
       "  {'class_name': 'Dense',\n",
       "   'config': {'name': 'dense',\n",
       "    'trainable': True,\n",
       "    'dtype': 'float32',\n",
       "    'units': 128,\n",
       "    'activation': 'relu',\n",
       "    'use_bias': True,\n",
       "    'kernel_initializer': {'class_name': 'GlorotUniform',\n",
       "     'config': {'seed': None}},\n",
       "    'bias_initializer': {'class_name': 'Zeros', 'config': {}},\n",
       "    'kernel_regularizer': None,\n",
       "    'bias_regularizer': None,\n",
       "    'activity_regularizer': None,\n",
       "    'kernel_constraint': None,\n",
       "    'bias_constraint': None}},\n",
       "  {'class_name': 'Dense',\n",
       "   'config': {'name': 'dense_1',\n",
       "    'trainable': True,\n",
       "    'dtype': 'float32',\n",
       "    'units': 1,\n",
       "    'activation': 'sigmoid',\n",
       "    'use_bias': True,\n",
       "    'kernel_initializer': {'class_name': 'GlorotUniform',\n",
       "     'config': {'seed': None}},\n",
       "    'bias_initializer': {'class_name': 'Zeros', 'config': {}},\n",
       "    'kernel_regularizer': None,\n",
       "    'bias_regularizer': None,\n",
       "    'activity_regularizer': None,\n",
       "    'kernel_constraint': None,\n",
       "    'bias_constraint': None}}],\n",
       " 'build_input_shape': TensorShape([None, 96, 96, 1])}"
      ]
     },
     "execution_count": 15,
     "metadata": {},
     "output_type": "execute_result"
    }
   ],
   "source": [
    "best_model.get_config()"
   ]
  },
  {
   "cell_type": "code",
   "execution_count": 16,
   "id": "3bcb5eec-2b14-496c-9c81-593cd16d47f6",
   "metadata": {
    "scrolled": true
   },
   "outputs": [
    {
     "name": "stdout",
     "output_type": "stream",
     "text": [
      "Model: \"sequential\"\n",
      "_________________________________________________________________\n",
      "Layer (type)                 Output Shape              Param #   \n",
      "=================================================================\n",
      "conv2d (Conv2D)              (None, 94, 94, 48)        480       \n",
      "_________________________________________________________________\n",
      "conv2d_1 (Conv2D)            (None, 92, 92, 48)        20784     \n",
      "_________________________________________________________________\n",
      "max_pooling2d (MaxPooling2D) (None, 46, 46, 48)        0         \n",
      "_________________________________________________________________\n",
      "dropout (Dropout)            (None, 46, 46, 48)        0         \n",
      "_________________________________________________________________\n",
      "flatten (Flatten)            (None, 101568)            0         \n",
      "_________________________________________________________________\n",
      "dense (Dense)                (None, 128)               13000832  \n",
      "_________________________________________________________________\n",
      "dense_1 (Dense)              (None, 1)                 129       \n",
      "=================================================================\n",
      "Total params: 13,022,225\n",
      "Trainable params: 13,022,225\n",
      "Non-trainable params: 0\n",
      "_________________________________________________________________\n"
     ]
    }
   ],
   "source": [
    "best_model.summary()"
   ]
  },
  {
   "cell_type": "code",
   "execution_count": null,
   "id": "b64ff095-2b1f-4b01-bebe-69e6017b43e7",
   "metadata": {},
   "outputs": [],
   "source": []
  }
 ],
 "metadata": {
  "kernelspec": {
   "display_name": "Zoon0PredV",
   "language": "python",
   "name": "tensorflow"
  },
  "language_info": {
   "codemirror_mode": {
    "name": "ipython",
    "version": 3
   },
   "file_extension": ".py",
   "mimetype": "text/x-python",
   "name": "python",
   "nbconvert_exporter": "python",
   "pygments_lexer": "ipython3",
   "version": "3.6.9"
  }
 },
 "nbformat": 4,
 "nbformat_minor": 5
}
