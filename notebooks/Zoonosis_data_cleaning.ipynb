{
 "cells": [
  {
   "cell_type": "code",
   "execution_count": 1,
   "metadata": {},
   "outputs": [
    {
     "name": "stderr",
     "output_type": "stream",
     "text": [
      "Matplotlib created a temporary config/cache directory at /tmp/matplotlib-zq2d34ut because the default path (/home/jovyan/.cache/matplotlib) is not a writable directory; it is highly recommended to set the MPLCONFIGDIR environment variable to a writable directory, in particular to speed up the import of Matplotlib and to better support multiprocessing.\n"
     ]
    }
   ],
   "source": [
    "# Import all necesssary modules\n",
    "import pandas as pd\n",
    "import swifter\n",
    "import numpy as np\n",
    "import matplotlib.pyplot as plt\n",
    "%matplotlib inline\n",
    "import seaborn as sns\n",
    "from sklearn.model_selection import train_test_split\n",
    "from imblearn.under_sampling import RandomUnderSampler\n",
    "import re\n",
    "import os\n",
    "from ete3 import NCBITaxa\n",
    "from pprint import pprint\n",
    "from tqdm.notebook import tqdm_notebook, tqdm\n",
    "# import warnings\n",
    "# warnings.filterwarnings(\"ignore\", category=UserWarning)\n",
    "from zoonosisHelperFunctions import *"
   ]
  },
  {
   "cell_type": "code",
   "execution_count": 2,
   "metadata": {},
   "outputs": [],
   "source": [
    "tqdm.pandas(desc='Processing')\n",
    "os.environ[\"MODIN_ENGINE\"] = \"ray\""
   ]
  },
  {
   "cell_type": "code",
   "execution_count": 3,
   "metadata": {},
   "outputs": [],
   "source": [
    "# Load dataset downloaded from Uniprot\n",
    "df = pd.read_table('../data/uniprot-keyword Virus+entry+into+host+cell+[KW-1160] +fragment no.tab.gz')"
   ]
  },
  {
   "cell_type": "code",
   "execution_count": 4,
   "metadata": {},
   "outputs": [
    {
     "data": {
      "text/plain": [
       "(358333, 9)"
      ]
     },
     "execution_count": 4,
     "metadata": {},
     "output_type": "execute_result"
    }
   ],
   "source": [
    "df.shape"
   ]
  },
  {
   "cell_type": "code",
   "execution_count": 5,
   "metadata": {},
   "outputs": [
    {
     "data": {
      "text/html": [
       "<div>\n",
       "<style scoped>\n",
       "    .dataframe tbody tr th:only-of-type {\n",
       "        vertical-align: middle;\n",
       "    }\n",
       "\n",
       "    .dataframe tbody tr th {\n",
       "        vertical-align: top;\n",
       "    }\n",
       "\n",
       "    .dataframe thead th {\n",
       "        text-align: right;\n",
       "    }\n",
       "</style>\n",
       "<table border=\"1\" class=\"dataframe\">\n",
       "  <thead>\n",
       "    <tr style=\"text-align: right;\">\n",
       "      <th></th>\n",
       "      <th>Entry</th>\n",
       "      <th>Entry name</th>\n",
       "      <th>Status</th>\n",
       "      <th>Protein names</th>\n",
       "      <th>Organism</th>\n",
       "      <th>Length</th>\n",
       "      <th>Taxonomic lineage IDs</th>\n",
       "      <th>Taxonomic lineage (SPECIES)</th>\n",
       "      <th>Virus hosts</th>\n",
       "    </tr>\n",
       "  </thead>\n",
       "  <tbody>\n",
       "    <tr>\n",
       "      <th>6917</th>\n",
       "      <td>A0A5B7PKI1</td>\n",
       "      <td>A0A5B7PKI1_ECOLX</td>\n",
       "      <td>unreviewed</td>\n",
       "      <td>DUF4102 domain-containing protein</td>\n",
       "      <td>Escherichia coli O26:H11</td>\n",
       "      <td>421</td>\n",
       "      <td>244319</td>\n",
       "      <td>Escherichia coli</td>\n",
       "      <td>NaN</td>\n",
       "    </tr>\n",
       "    <tr>\n",
       "      <th>140128</th>\n",
       "      <td>A0A1Z4EAP9</td>\n",
       "      <td>A0A1Z4EAP9_9INFA</td>\n",
       "      <td>unreviewed</td>\n",
       "      <td>Nucleoprotein (Nucleocapsid protein) (Protein N)</td>\n",
       "      <td>Influenza A virus (A/snowy owl/Akita/0051D007/...</td>\n",
       "      <td>498</td>\n",
       "      <td>2008558</td>\n",
       "      <td>Influenza A virus</td>\n",
       "      <td>NaN</td>\n",
       "    </tr>\n",
       "    <tr>\n",
       "      <th>270626</th>\n",
       "      <td>A0A2H4Z607</td>\n",
       "      <td>A0A2H4Z607_9ENTO</td>\n",
       "      <td>unreviewed</td>\n",
       "      <td>Genome polyprotein [Cleaved into: P3; Protein ...</td>\n",
       "      <td>Echovirus E25</td>\n",
       "      <td>2194</td>\n",
       "      <td>45101</td>\n",
       "      <td>Enterovirus B</td>\n",
       "      <td>NaN</td>\n",
       "    </tr>\n",
       "  </tbody>\n",
       "</table>\n",
       "</div>"
      ],
      "text/plain": [
       "             Entry        Entry name      Status  \\\n",
       "6917    A0A5B7PKI1  A0A5B7PKI1_ECOLX  unreviewed   \n",
       "140128  A0A1Z4EAP9  A0A1Z4EAP9_9INFA  unreviewed   \n",
       "270626  A0A2H4Z607  A0A2H4Z607_9ENTO  unreviewed   \n",
       "\n",
       "                                            Protein names  \\\n",
       "6917                    DUF4102 domain-containing protein   \n",
       "140128   Nucleoprotein (Nucleocapsid protein) (Protein N)   \n",
       "270626  Genome polyprotein [Cleaved into: P3; Protein ...   \n",
       "\n",
       "                                                 Organism  Length  \\\n",
       "6917                             Escherichia coli O26:H11     421   \n",
       "140128  Influenza A virus (A/snowy owl/Akita/0051D007/...     498   \n",
       "270626                                      Echovirus E25    2194   \n",
       "\n",
       "        Taxonomic lineage IDs Taxonomic lineage (SPECIES) Virus hosts  \n",
       "6917                   244319            Escherichia coli         NaN  \n",
       "140128                2008558           Influenza A virus         NaN  \n",
       "270626                  45101               Enterovirus B         NaN  "
      ]
     },
     "execution_count": 5,
     "metadata": {},
     "output_type": "execute_result"
    }
   ],
   "source": [
    "df.sample(3)"
   ]
  },
  {
   "cell_type": "code",
   "execution_count": 6,
   "metadata": {},
   "outputs": [
    {
     "name": "stdout",
     "output_type": "stream",
     "text": [
      "(237573, 9)\n"
     ]
    },
    {
     "data": {
      "text/html": [
       "<div>\n",
       "<style scoped>\n",
       "    .dataframe tbody tr th:only-of-type {\n",
       "        vertical-align: middle;\n",
       "    }\n",
       "\n",
       "    .dataframe tbody tr th {\n",
       "        vertical-align: top;\n",
       "    }\n",
       "\n",
       "    .dataframe thead th {\n",
       "        text-align: right;\n",
       "    }\n",
       "</style>\n",
       "<table border=\"1\" class=\"dataframe\">\n",
       "  <thead>\n",
       "    <tr style=\"text-align: right;\">\n",
       "      <th></th>\n",
       "      <th>Entry</th>\n",
       "      <th>Entry name</th>\n",
       "      <th>Status</th>\n",
       "      <th>Protein names</th>\n",
       "      <th>Organism</th>\n",
       "      <th>Length</th>\n",
       "      <th>Taxonomic lineage IDs</th>\n",
       "      <th>Taxonomic lineage (SPECIES)</th>\n",
       "      <th>Virus hosts</th>\n",
       "    </tr>\n",
       "  </thead>\n",
       "  <tbody>\n",
       "    <tr>\n",
       "      <th>312955</th>\n",
       "      <td>T1R6K5</td>\n",
       "      <td>T1R6K5_9PLVG</td>\n",
       "      <td>unreviewed</td>\n",
       "      <td>Envelope glycoprotein gp160 (Env polyprotein) ...</td>\n",
       "      <td>Simian-Human immunodeficiency virus</td>\n",
       "      <td>847</td>\n",
       "      <td>57667</td>\n",
       "      <td>Simian-Human immunodeficiency virus</td>\n",
       "      <td>NaN</td>\n",
       "    </tr>\n",
       "    <tr>\n",
       "      <th>173036</th>\n",
       "      <td>D5XH65</td>\n",
       "      <td>D5XH65_9INFA</td>\n",
       "      <td>unreviewed</td>\n",
       "      <td>Nucleoprotein (Nucleocapsid protein) (Protein N)</td>\n",
       "      <td>Influenza A virus (A/New York/7020/2009(H1N1))</td>\n",
       "      <td>498</td>\n",
       "      <td>747793</td>\n",
       "      <td>Influenza A virus</td>\n",
       "      <td>NaN</td>\n",
       "    </tr>\n",
       "    <tr>\n",
       "      <th>197640</th>\n",
       "      <td>A0A6G9KP06</td>\n",
       "      <td>A0A6G9KP06_9BETC</td>\n",
       "      <td>unreviewed</td>\n",
       "      <td>Spike glycoprotein (S glycoprotein) (E2) (Pepl...</td>\n",
       "      <td>Pangolin coronavirus</td>\n",
       "      <td>1269</td>\n",
       "      <td>2708335</td>\n",
       "      <td>Pangolin coronavirus</td>\n",
       "      <td>NaN</td>\n",
       "    </tr>\n",
       "  </tbody>\n",
       "</table>\n",
       "</div>"
      ],
      "text/plain": [
       "             Entry        Entry name      Status  \\\n",
       "312955      T1R6K5      T1R6K5_9PLVG  unreviewed   \n",
       "173036      D5XH65      D5XH65_9INFA  unreviewed   \n",
       "197640  A0A6G9KP06  A0A6G9KP06_9BETC  unreviewed   \n",
       "\n",
       "                                            Protein names  \\\n",
       "312955  Envelope glycoprotein gp160 (Env polyprotein) ...   \n",
       "173036   Nucleoprotein (Nucleocapsid protein) (Protein N)   \n",
       "197640  Spike glycoprotein (S glycoprotein) (E2) (Pepl...   \n",
       "\n",
       "                                              Organism  Length  \\\n",
       "312955             Simian-Human immunodeficiency virus     847   \n",
       "173036  Influenza A virus (A/New York/7020/2009(H1N1))     498   \n",
       "197640                            Pangolin coronavirus    1269   \n",
       "\n",
       "        Taxonomic lineage IDs          Taxonomic lineage (SPECIES) Virus hosts  \n",
       "312955                  57667  Simian-Human immunodeficiency virus         NaN  \n",
       "173036                 747793                    Influenza A virus         NaN  \n",
       "197640                2708335                 Pangolin coronavirus         NaN  "
      ]
     },
     "execution_count": 6,
     "metadata": {},
     "output_type": "execute_result"
    }
   ],
   "source": [
    "# Check for missing host names\n",
    "print(df[df['Virus hosts'].isnull()].shape)\n",
    "df[df['Virus hosts'].isnull()].sample(3)"
   ]
  },
  {
   "cell_type": "code",
   "execution_count": 7,
   "metadata": {},
   "outputs": [
    {
     "data": {
      "text/plain": [
       "1518"
      ]
     },
     "execution_count": 7,
     "metadata": {},
     "output_type": "execute_result"
    }
   ],
   "source": [
    "df[df['Status'] == 'reviewed']['Organism'].nunique()"
   ]
  },
  {
   "cell_type": "code",
   "execution_count": 8,
   "metadata": {},
   "outputs": [
    {
     "data": {
      "text/plain": [
       "321"
      ]
     },
     "execution_count": 8,
     "metadata": {},
     "output_type": "execute_result"
    }
   ],
   "source": [
    "df[df['Status'] == 'reviewed']['Virus hosts'].nunique()"
   ]
  },
  {
   "cell_type": "code",
   "execution_count": 9,
   "metadata": {},
   "outputs": [
    {
     "data": {
      "text/plain": [
       "100216"
      ]
     },
     "execution_count": 9,
     "metadata": {},
     "output_type": "execute_result"
    }
   ],
   "source": [
    "df['Organism'].nunique()"
   ]
  },
  {
   "cell_type": "code",
   "execution_count": 10,
   "metadata": {},
   "outputs": [
    {
     "data": {
      "text/plain": [
       "373"
      ]
     },
     "execution_count": 10,
     "metadata": {},
     "output_type": "execute_result"
    }
   ],
   "source": [
    "df['Virus hosts'].nunique()"
   ]
  },
  {
   "cell_type": "code",
   "execution_count": 11,
   "metadata": {},
   "outputs": [
    {
     "data": {
      "text/plain": [
       "100216"
      ]
     },
     "execution_count": 11,
     "metadata": {},
     "output_type": "execute_result"
    }
   ],
   "source": [
    "df['Taxonomic lineage IDs'].nunique()"
   ]
  },
  {
   "cell_type": "code",
   "execution_count": 12,
   "metadata": {},
   "outputs": [
    {
     "data": {
      "text/plain": [
       "99095"
      ]
     },
     "execution_count": 12,
     "metadata": {},
     "output_type": "execute_result"
    }
   ],
   "source": [
    "df[df['Status'] == 'unreviewed']['Taxonomic lineage IDs'].nunique()"
   ]
  },
  {
   "cell_type": "code",
   "execution_count": 13,
   "metadata": {},
   "outputs": [
    {
     "data": {
      "text/plain": [
       "99095"
      ]
     },
     "execution_count": 13,
     "metadata": {},
     "output_type": "execute_result"
    }
   ],
   "source": [
    "df[df['Status'] == 'unreviewed']['Organism'].nunique()"
   ]
  },
  {
   "cell_type": "code",
   "execution_count": 14,
   "metadata": {},
   "outputs": [
    {
     "data": {
      "text/plain": [
       "200"
      ]
     },
     "execution_count": 14,
     "metadata": {},
     "output_type": "execute_result"
    }
   ],
   "source": [
    "df[df['Status'] == 'unreviewed']['Virus hosts'].nunique()"
   ]
  },
  {
   "cell_type": "code",
   "execution_count": 15,
   "metadata": {},
   "outputs": [],
   "source": [
    "df['Virus hosts'] = np.where(df['Virus hosts'].isnull(), '',df['Virus hosts'])"
   ]
  },
  {
   "cell_type": "code",
   "execution_count": 16,
   "metadata": {},
   "outputs": [
    {
     "data": {
      "text/html": [
       "<div>\n",
       "<style scoped>\n",
       "    .dataframe tbody tr th:only-of-type {\n",
       "        vertical-align: middle;\n",
       "    }\n",
       "\n",
       "    .dataframe tbody tr th {\n",
       "        vertical-align: top;\n",
       "    }\n",
       "\n",
       "    .dataframe thead th {\n",
       "        text-align: right;\n",
       "    }\n",
       "</style>\n",
       "<table border=\"1\" class=\"dataframe\">\n",
       "  <thead>\n",
       "    <tr style=\"text-align: right;\">\n",
       "      <th></th>\n",
       "      <th>Entry</th>\n",
       "      <th>Entry name</th>\n",
       "      <th>Status</th>\n",
       "      <th>Protein names</th>\n",
       "      <th>Organism</th>\n",
       "      <th>Length</th>\n",
       "      <th>Taxonomic lineage IDs</th>\n",
       "      <th>Taxonomic lineage (SPECIES)</th>\n",
       "      <th>Virus hosts</th>\n",
       "    </tr>\n",
       "  </thead>\n",
       "  <tbody>\n",
       "    <tr>\n",
       "      <th>334580</th>\n",
       "      <td>A0A411I7D7</td>\n",
       "      <td>A0A411I7D7_9HIV1</td>\n",
       "      <td>unreviewed</td>\n",
       "      <td>Protein Vpr (R ORF protein) (Viral protein R)</td>\n",
       "      <td>Human immunodeficiency virus 1</td>\n",
       "      <td>96</td>\n",
       "      <td>11676</td>\n",
       "      <td>Human immunodeficiency virus 1</td>\n",
       "      <td>Homo sapiens (Human) [TaxID: 9606]</td>\n",
       "    </tr>\n",
       "    <tr>\n",
       "      <th>155719</th>\n",
       "      <td>A0A7D6Z8I6</td>\n",
       "      <td>A0A7D6Z8I6_CITFR</td>\n",
       "      <td>unreviewed</td>\n",
       "      <td>Tyrosine-type recombinase/integrase</td>\n",
       "      <td>Citrobacter freundii</td>\n",
       "      <td>397</td>\n",
       "      <td>546</td>\n",
       "      <td>Citrobacter freundii</td>\n",
       "      <td></td>\n",
       "    </tr>\n",
       "    <tr>\n",
       "      <th>5453</th>\n",
       "      <td>A0A379CKX0</td>\n",
       "      <td>A0A379CKX0_PLESH</td>\n",
       "      <td>unreviewed</td>\n",
       "      <td>Prophage CP4-57 integrase</td>\n",
       "      <td>Plesiomonas shigelloides (Aeromonas shigelloides)</td>\n",
       "      <td>447</td>\n",
       "      <td>703</td>\n",
       "      <td>Plesiomonas shigelloides (Aeromonas shigelloides)</td>\n",
       "      <td></td>\n",
       "    </tr>\n",
       "    <tr>\n",
       "      <th>111350</th>\n",
       "      <td>A0A5B8HLH9</td>\n",
       "      <td>A0A5B8HLH9_9INFA</td>\n",
       "      <td>unreviewed</td>\n",
       "      <td>Hemagglutinin [Cleaved into: Hemagglutinin HA1...</td>\n",
       "      <td>Influenza A virus</td>\n",
       "      <td>566</td>\n",
       "      <td>11320</td>\n",
       "      <td>Influenza A virus</td>\n",
       "      <td></td>\n",
       "    </tr>\n",
       "    <tr>\n",
       "      <th>140544</th>\n",
       "      <td>B3FRK9</td>\n",
       "      <td>B3FRK9_COCAV</td>\n",
       "      <td>unreviewed</td>\n",
       "      <td>Glycoprotein</td>\n",
       "      <td>Cocal virus (COCV)</td>\n",
       "      <td>512</td>\n",
       "      <td>50713</td>\n",
       "      <td>Cocal vesiculovirus</td>\n",
       "      <td>Bos taurus (Bovine) [TaxID: 9913]; Equus cabal...</td>\n",
       "    </tr>\n",
       "  </tbody>\n",
       "</table>\n",
       "</div>"
      ],
      "text/plain": [
       "             Entry        Entry name      Status  \\\n",
       "334580  A0A411I7D7  A0A411I7D7_9HIV1  unreviewed   \n",
       "155719  A0A7D6Z8I6  A0A7D6Z8I6_CITFR  unreviewed   \n",
       "5453    A0A379CKX0  A0A379CKX0_PLESH  unreviewed   \n",
       "111350  A0A5B8HLH9  A0A5B8HLH9_9INFA  unreviewed   \n",
       "140544      B3FRK9      B3FRK9_COCAV  unreviewed   \n",
       "\n",
       "                                            Protein names  \\\n",
       "334580      Protein Vpr (R ORF protein) (Viral protein R)   \n",
       "155719                Tyrosine-type recombinase/integrase   \n",
       "5453                            Prophage CP4-57 integrase   \n",
       "111350  Hemagglutinin [Cleaved into: Hemagglutinin HA1...   \n",
       "140544                                       Glycoprotein   \n",
       "\n",
       "                                                 Organism  Length  \\\n",
       "334580                     Human immunodeficiency virus 1      96   \n",
       "155719                               Citrobacter freundii     397   \n",
       "5453    Plesiomonas shigelloides (Aeromonas shigelloides)     447   \n",
       "111350                                  Influenza A virus     566   \n",
       "140544                                 Cocal virus (COCV)     512   \n",
       "\n",
       "        Taxonomic lineage IDs  \\\n",
       "334580                  11676   \n",
       "155719                    546   \n",
       "5453                      703   \n",
       "111350                  11320   \n",
       "140544                  50713   \n",
       "\n",
       "                              Taxonomic lineage (SPECIES)  \\\n",
       "334580                     Human immunodeficiency virus 1   \n",
       "155719                               Citrobacter freundii   \n",
       "5453    Plesiomonas shigelloides (Aeromonas shigelloides)   \n",
       "111350                                  Influenza A virus   \n",
       "140544                                Cocal vesiculovirus   \n",
       "\n",
       "                                              Virus hosts  \n",
       "334580                 Homo sapiens (Human) [TaxID: 9606]  \n",
       "155719                                                     \n",
       "5453                                                       \n",
       "111350                                                     \n",
       "140544  Bos taurus (Bovine) [TaxID: 9913]; Equus cabal...  "
      ]
     },
     "execution_count": 16,
     "metadata": {},
     "output_type": "execute_result"
    }
   ],
   "source": [
    "df.sample(5)"
   ]
  },
  {
   "cell_type": "code",
   "execution_count": 17,
   "metadata": {},
   "outputs": [],
   "source": [
    "def join_names(df, col_name: str):\n",
    "    df[col_name] = df[col_name].str.split('; ').apply(set).apply('; '.join)\n",
    "    return df"
   ]
  },
  {
   "cell_type": "code",
   "execution_count": 18,
   "metadata": {},
   "outputs": [],
   "source": [
    "# df['Virus hosts'] = df['Virus hosts'].str.split('; ')\n",
    "# df['Virus hosts'] = df['Virus hosts'].swifter.progress_bar(enable=True, desc='Removing duplicate host names').apply(set)\n",
    "# df['Virus hosts'] = df['Virus hosts'].swifter.progress_bar(enable=True, desc='Joining host names list').apply('; '.join)\n",
    "\n",
    "# df['Protein names'] = df['Protein names'].str.split('; ')\n",
    "# df['Protein names'] = df['Protein names'].swifter.progress_bar(enable=True, desc='Removing duplicate protein names').apply(set)\n",
    "# df['Protein names'] = df['Protein names'].swifter.progress_bar(enable=True, desc='Joining protein names list').apply('; '.join)\n",
    "\n",
    "# df['Organism'] = df['Organism'].str.split('; ')\n",
    "# df['Organism'] = df['Organism'].swifter.progress_bar(enable=True, desc='Removing duplicate organism names').apply(set)\n",
    "# df['Organism'] = df['Organism'].swifter.progress_bar(enable=True, desc='Joining organism names list').apply('; '.join)"
   ]
  },
  {
   "cell_type": "code",
   "execution_count": 19,
   "metadata": {},
   "outputs": [],
   "source": [
    "df = join_names(df, 'Virus hosts')\n",
    "df = join_names(df, 'Protein names')\n",
    "df = join_names(df, 'Organism')"
   ]
  },
  {
   "cell_type": "code",
   "execution_count": 20,
   "metadata": {},
   "outputs": [
    {
     "data": {
      "text/html": [
       "<div>\n",
       "<style scoped>\n",
       "    .dataframe tbody tr th:only-of-type {\n",
       "        vertical-align: middle;\n",
       "    }\n",
       "\n",
       "    .dataframe tbody tr th {\n",
       "        vertical-align: top;\n",
       "    }\n",
       "\n",
       "    .dataframe thead th {\n",
       "        text-align: right;\n",
       "    }\n",
       "</style>\n",
       "<table border=\"1\" class=\"dataframe\">\n",
       "  <thead>\n",
       "    <tr style=\"text-align: right;\">\n",
       "      <th></th>\n",
       "      <th>Entry</th>\n",
       "      <th>Entry name</th>\n",
       "      <th>Status</th>\n",
       "      <th>Protein names</th>\n",
       "      <th>Organism</th>\n",
       "      <th>Length</th>\n",
       "      <th>Taxonomic lineage IDs</th>\n",
       "      <th>Taxonomic lineage (SPECIES)</th>\n",
       "      <th>Virus hosts</th>\n",
       "    </tr>\n",
       "  </thead>\n",
       "  <tbody>\n",
       "    <tr>\n",
       "      <th>263851</th>\n",
       "      <td>A0A1P8A7G8</td>\n",
       "      <td>A0A1P8A7G8_9ALPC</td>\n",
       "      <td>unreviewed</td>\n",
       "      <td>Spike glycoprotein (S glycoprotein) (E2) (Pepl...</td>\n",
       "      <td>Porcine epidemic diarrhea virus</td>\n",
       "      <td>1386</td>\n",
       "      <td>28295</td>\n",
       "      <td>Porcine epidemic diarrhea virus</td>\n",
       "      <td></td>\n",
       "    </tr>\n",
       "    <tr>\n",
       "      <th>28370</th>\n",
       "      <td>D3TG04</td>\n",
       "      <td>D3TG04_9INFA</td>\n",
       "      <td>unreviewed</td>\n",
       "      <td>Hemagglutinin HA2 chain]; Hemagglutinin [Cleav...</td>\n",
       "      <td>Influenza A virus (A/Australia/79/2009(H1N1))</td>\n",
       "      <td>566</td>\n",
       "      <td>708581</td>\n",
       "      <td>Influenza A virus</td>\n",
       "      <td></td>\n",
       "    </tr>\n",
       "    <tr>\n",
       "      <th>246526</th>\n",
       "      <td>A0A2H4TC06</td>\n",
       "      <td>A0A2H4TC06_9INFA</td>\n",
       "      <td>unreviewed</td>\n",
       "      <td>Nucleoprotein (Nucleocapsid protein) (Protein N)</td>\n",
       "      <td>Influenza A virus (A/mallard duck/Ohio/16OS090...</td>\n",
       "      <td>498</td>\n",
       "      <td>2050536</td>\n",
       "      <td>Influenza A virus</td>\n",
       "      <td></td>\n",
       "    </tr>\n",
       "  </tbody>\n",
       "</table>\n",
       "</div>"
      ],
      "text/plain": [
       "             Entry        Entry name      Status  \\\n",
       "263851  A0A1P8A7G8  A0A1P8A7G8_9ALPC  unreviewed   \n",
       "28370       D3TG04      D3TG04_9INFA  unreviewed   \n",
       "246526  A0A2H4TC06  A0A2H4TC06_9INFA  unreviewed   \n",
       "\n",
       "                                            Protein names  \\\n",
       "263851  Spike glycoprotein (S glycoprotein) (E2) (Pepl...   \n",
       "28370   Hemagglutinin HA2 chain]; Hemagglutinin [Cleav...   \n",
       "246526   Nucleoprotein (Nucleocapsid protein) (Protein N)   \n",
       "\n",
       "                                                 Organism  Length  \\\n",
       "263851                    Porcine epidemic diarrhea virus    1386   \n",
       "28370       Influenza A virus (A/Australia/79/2009(H1N1))     566   \n",
       "246526  Influenza A virus (A/mallard duck/Ohio/16OS090...     498   \n",
       "\n",
       "        Taxonomic lineage IDs      Taxonomic lineage (SPECIES) Virus hosts  \n",
       "263851                  28295  Porcine epidemic diarrhea virus              \n",
       "28370                  708581                Influenza A virus              \n",
       "246526                2050536                Influenza A virus              "
      ]
     },
     "execution_count": 20,
     "metadata": {},
     "output_type": "execute_result"
    }
   ],
   "source": [
    "df.sample(3)"
   ]
  },
  {
   "cell_type": "code",
   "execution_count": 21,
   "metadata": {},
   "outputs": [
    {
     "data": {
      "text/html": [
       "<div>\n",
       "<style scoped>\n",
       "    .dataframe tbody tr th:only-of-type {\n",
       "        vertical-align: middle;\n",
       "    }\n",
       "\n",
       "    .dataframe tbody tr th {\n",
       "        vertical-align: top;\n",
       "    }\n",
       "\n",
       "    .dataframe thead th {\n",
       "        text-align: right;\n",
       "    }\n",
       "</style>\n",
       "<table border=\"1\" class=\"dataframe\">\n",
       "  <thead>\n",
       "    <tr style=\"text-align: right;\">\n",
       "      <th></th>\n",
       "      <th>Entry</th>\n",
       "      <th>Entry name</th>\n",
       "      <th>Status</th>\n",
       "      <th>Protein names</th>\n",
       "      <th>Organism</th>\n",
       "      <th>Length</th>\n",
       "      <th>Taxonomic lineage IDs</th>\n",
       "      <th>Taxonomic lineage (SPECIES)</th>\n",
       "      <th>Virus hosts</th>\n",
       "    </tr>\n",
       "  </thead>\n",
       "  <tbody>\n",
       "    <tr>\n",
       "      <th>161477</th>\n",
       "      <td>A0A0C5ABA5</td>\n",
       "      <td>A0A0C5ABA5_9INFA</td>\n",
       "      <td>unreviewed</td>\n",
       "      <td>Nucleoprotein (Nucleocapsid protein) (Protein N)</td>\n",
       "      <td>Influenza A virus (A/chicken/Jiangxi/29132/201...</td>\n",
       "      <td>498</td>\n",
       "      <td>1593973</td>\n",
       "      <td>Influenza A virus</td>\n",
       "      <td></td>\n",
       "    </tr>\n",
       "    <tr>\n",
       "      <th>145102</th>\n",
       "      <td>A0A736I4P4</td>\n",
       "      <td>A0A736I4P4_SALHO</td>\n",
       "      <td>unreviewed</td>\n",
       "      <td>DUF4102 domain-containing protein</td>\n",
       "      <td>Salmonella enterica subsp. houtenae serovar 44...</td>\n",
       "      <td>420</td>\n",
       "      <td>1967609</td>\n",
       "      <td>Salmonella enterica (Salmonella choleraesuis)</td>\n",
       "      <td></td>\n",
       "    </tr>\n",
       "    <tr>\n",
       "      <th>133606</th>\n",
       "      <td>A0A2L1L644</td>\n",
       "      <td>A0A2L1L644_9INFA</td>\n",
       "      <td>unreviewed</td>\n",
       "      <td>Nucleoprotein (Nucleocapsid protein) (Protein N)</td>\n",
       "      <td>Influenza A virus</td>\n",
       "      <td>498</td>\n",
       "      <td>11320</td>\n",
       "      <td>Influenza A virus</td>\n",
       "      <td></td>\n",
       "    </tr>\n",
       "  </tbody>\n",
       "</table>\n",
       "</div>"
      ],
      "text/plain": [
       "             Entry        Entry name      Status  \\\n",
       "161477  A0A0C5ABA5  A0A0C5ABA5_9INFA  unreviewed   \n",
       "145102  A0A736I4P4  A0A736I4P4_SALHO  unreviewed   \n",
       "133606  A0A2L1L644  A0A2L1L644_9INFA  unreviewed   \n",
       "\n",
       "                                           Protein names  \\\n",
       "161477  Nucleoprotein (Nucleocapsid protein) (Protein N)   \n",
       "145102                 DUF4102 domain-containing protein   \n",
       "133606  Nucleoprotein (Nucleocapsid protein) (Protein N)   \n",
       "\n",
       "                                                 Organism  Length  \\\n",
       "161477  Influenza A virus (A/chicken/Jiangxi/29132/201...     498   \n",
       "145102  Salmonella enterica subsp. houtenae serovar 44...     420   \n",
       "133606                                  Influenza A virus     498   \n",
       "\n",
       "        Taxonomic lineage IDs                    Taxonomic lineage (SPECIES)  \\\n",
       "161477                1593973                              Influenza A virus   \n",
       "145102                1967609  Salmonella enterica (Salmonella choleraesuis)   \n",
       "133606                  11320                              Influenza A virus   \n",
       "\n",
       "       Virus hosts  \n",
       "161477              \n",
       "145102              \n",
       "133606              "
      ]
     },
     "execution_count": 21,
     "metadata": {},
     "output_type": "execute_result"
    }
   ],
   "source": [
    "df[~df['Virus hosts'].isnull()].sample(3)"
   ]
  },
  {
   "cell_type": "code",
   "execution_count": 22,
   "metadata": {
    "tags": []
   },
   "outputs": [
    {
     "data": {
      "application/vnd.jupyter.widget-view+json": {
       "model_id": "bea34ddbdadf41558b421bd1b57e0903",
       "version_major": 2,
       "version_minor": 0
      },
      "text/plain": [
       "Getting Viruses taxonomic IDs:   0%|          | 0/16 [00:00<?, ?it/s]"
      ]
     },
     "metadata": {},
     "output_type": "display_data"
    }
   ],
   "source": [
    "# Apply function to get species ID from organism ID\n",
    "df['Species taxonomic ID'] = (df['Taxonomic lineage IDs']\n",
    "                              .swifter.progress_bar(enable=True, desc='Getting Viruses taxonomic IDs')\n",
    "                              .apply(getRankID, rank='species'))"
   ]
  },
  {
   "cell_type": "code",
   "execution_count": 23,
   "metadata": {},
   "outputs": [],
   "source": [
    "dff = df[['Entry', 'Species taxonomic ID']].copy()"
   ]
  },
  {
   "cell_type": "code",
   "execution_count": 24,
   "metadata": {},
   "outputs": [
    {
     "data": {
      "text/html": [
       "<div>\n",
       "<style scoped>\n",
       "    .dataframe tbody tr th:only-of-type {\n",
       "        vertical-align: middle;\n",
       "    }\n",
       "\n",
       "    .dataframe tbody tr th {\n",
       "        vertical-align: top;\n",
       "    }\n",
       "\n",
       "    .dataframe thead th {\n",
       "        text-align: right;\n",
       "    }\n",
       "</style>\n",
       "<table border=\"1\" class=\"dataframe\">\n",
       "  <thead>\n",
       "    <tr style=\"text-align: right;\">\n",
       "      <th></th>\n",
       "      <th>Entry</th>\n",
       "      <th>Entry name</th>\n",
       "      <th>Status</th>\n",
       "      <th>Protein names</th>\n",
       "      <th>Organism</th>\n",
       "      <th>Length</th>\n",
       "      <th>Taxonomic lineage IDs</th>\n",
       "      <th>Taxonomic lineage (SPECIES)</th>\n",
       "      <th>Virus hosts</th>\n",
       "      <th>Species taxonomic ID</th>\n",
       "    </tr>\n",
       "  </thead>\n",
       "  <tbody>\n",
       "    <tr>\n",
       "      <th>169420</th>\n",
       "      <td>A0A060LAH9</td>\n",
       "      <td>A0A060LAH9_9INFB</td>\n",
       "      <td>unreviewed</td>\n",
       "      <td>Hemagglutinin HA2 chain]; Hemagglutinin [Cleav...</td>\n",
       "      <td>Influenza B virus (B/North Carolina/3881/2014)</td>\n",
       "      <td>584</td>\n",
       "      <td>1506131</td>\n",
       "      <td>Influenza B virus</td>\n",
       "      <td></td>\n",
       "      <td>11520.0</td>\n",
       "    </tr>\n",
       "    <tr>\n",
       "      <th>34650</th>\n",
       "      <td>Q3S9U0</td>\n",
       "      <td>Q3S9U0_9HIV1</td>\n",
       "      <td>unreviewed</td>\n",
       "      <td>Protein Vpr (R ORF protein) (Viral protein R)</td>\n",
       "      <td>Human immunodeficiency virus 1</td>\n",
       "      <td>96</td>\n",
       "      <td>11676</td>\n",
       "      <td>Human immunodeficiency virus 1</td>\n",
       "      <td>Homo sapiens (Human) [TaxID: 9606]</td>\n",
       "      <td>11676.0</td>\n",
       "    </tr>\n",
       "    <tr>\n",
       "      <th>269803</th>\n",
       "      <td>A0A1B0RX79</td>\n",
       "      <td>A0A1B0RX79_9INFA</td>\n",
       "      <td>unreviewed</td>\n",
       "      <td>Hemagglutinin HA2 chain]; Hemagglutinin [Cleav...</td>\n",
       "      <td>Influenza A virus (A/duck/Guangxi/217/2013(H6N6))</td>\n",
       "      <td>566</td>\n",
       "      <td>1692019</td>\n",
       "      <td>Influenza A virus</td>\n",
       "      <td></td>\n",
       "      <td>11320.0</td>\n",
       "    </tr>\n",
       "  </tbody>\n",
       "</table>\n",
       "</div>"
      ],
      "text/plain": [
       "             Entry        Entry name      Status  \\\n",
       "169420  A0A060LAH9  A0A060LAH9_9INFB  unreviewed   \n",
       "34650       Q3S9U0      Q3S9U0_9HIV1  unreviewed   \n",
       "269803  A0A1B0RX79  A0A1B0RX79_9INFA  unreviewed   \n",
       "\n",
       "                                            Protein names  \\\n",
       "169420  Hemagglutinin HA2 chain]; Hemagglutinin [Cleav...   \n",
       "34650       Protein Vpr (R ORF protein) (Viral protein R)   \n",
       "269803  Hemagglutinin HA2 chain]; Hemagglutinin [Cleav...   \n",
       "\n",
       "                                                 Organism  Length  \\\n",
       "169420     Influenza B virus (B/North Carolina/3881/2014)     584   \n",
       "34650                      Human immunodeficiency virus 1      96   \n",
       "269803  Influenza A virus (A/duck/Guangxi/217/2013(H6N6))     566   \n",
       "\n",
       "        Taxonomic lineage IDs     Taxonomic lineage (SPECIES)  \\\n",
       "169420                1506131               Influenza B virus   \n",
       "34650                   11676  Human immunodeficiency virus 1   \n",
       "269803                1692019               Influenza A virus   \n",
       "\n",
       "                               Virus hosts  Species taxonomic ID  \n",
       "169420                                                   11520.0  \n",
       "34650   Homo sapiens (Human) [TaxID: 9606]               11676.0  \n",
       "269803                                                   11320.0  "
      ]
     },
     "execution_count": 24,
     "metadata": {},
     "output_type": "execute_result"
    }
   ],
   "source": [
    "df.sample(3)"
   ]
  },
  {
   "cell_type": "code",
   "execution_count": 25,
   "metadata": {
    "scrolled": true,
    "tags": []
   },
   "outputs": [
    {
     "data": {
      "text/html": [
       "<div>\n",
       "<style scoped>\n",
       "    .dataframe tbody tr th:only-of-type {\n",
       "        vertical-align: middle;\n",
       "    }\n",
       "\n",
       "    .dataframe tbody tr th {\n",
       "        vertical-align: top;\n",
       "    }\n",
       "\n",
       "    .dataframe thead th {\n",
       "        text-align: right;\n",
       "    }\n",
       "</style>\n",
       "<table border=\"1\" class=\"dataframe\">\n",
       "  <thead>\n",
       "    <tr style=\"text-align: right;\">\n",
       "      <th></th>\n",
       "      <th>Entry</th>\n",
       "      <th>Entry name</th>\n",
       "      <th>Status</th>\n",
       "      <th>Protein names</th>\n",
       "      <th>Organism</th>\n",
       "      <th>Length</th>\n",
       "      <th>Taxonomic lineage IDs</th>\n",
       "      <th>Taxonomic lineage (SPECIES)</th>\n",
       "      <th>Virus hosts</th>\n",
       "      <th>Species taxonomic ID</th>\n",
       "    </tr>\n",
       "  </thead>\n",
       "  <tbody>\n",
       "    <tr>\n",
       "      <th>11119</th>\n",
       "      <td>O41892</td>\n",
       "      <td>O41892_PEGIA</td>\n",
       "      <td>unreviewed</td>\n",
       "      <td>Genome polyprotein (EC 3.6.4.13)</td>\n",
       "      <td>Pegivirus A (isolate Saguinus labiatus/-/GBV-A...</td>\n",
       "      <td>2967</td>\n",
       "      <td>1554494</td>\n",
       "      <td>Pegivirus A</td>\n",
       "      <td>Leontocebus nigricollis (Black-mantled tamarin...</td>\n",
       "      <td>NaN</td>\n",
       "    </tr>\n",
       "    <tr>\n",
       "      <th>18609</th>\n",
       "      <td>Q0NCQ7</td>\n",
       "      <td>Q0NCQ7_VAR65</td>\n",
       "      <td>unreviewed</td>\n",
       "      <td>Protein G3</td>\n",
       "      <td>Variola virus (isolate Human/South Africa/102/...</td>\n",
       "      <td>111</td>\n",
       "      <td>587201</td>\n",
       "      <td>Variola virus</td>\n",
       "      <td>Homo sapiens (Human) [TaxID: 9606]</td>\n",
       "      <td>NaN</td>\n",
       "    </tr>\n",
       "    <tr>\n",
       "      <th>30670</th>\n",
       "      <td>Q0NG66</td>\n",
       "      <td>Q0NG66_VAR46</td>\n",
       "      <td>unreviewed</td>\n",
       "      <td>Myristylprotein</td>\n",
       "      <td>Variola virus (isolate Human/Japan/Yamada MS-2...</td>\n",
       "      <td>340</td>\n",
       "      <td>587202</td>\n",
       "      <td>Variola virus</td>\n",
       "      <td>Homo sapiens (Human) [TaxID: 9606]</td>\n",
       "      <td>NaN</td>\n",
       "    </tr>\n",
       "    <tr>\n",
       "      <th>84779</th>\n",
       "      <td>Q0NCI5</td>\n",
       "      <td>Q0NCI5_VAR65</td>\n",
       "      <td>unreviewed</td>\n",
       "      <td>Fusion protein</td>\n",
       "      <td>Variola virus (isolate Human/South Africa/102/...</td>\n",
       "      <td>146</td>\n",
       "      <td>587201</td>\n",
       "      <td>Variola virus</td>\n",
       "      <td>Homo sapiens (Human) [TaxID: 9606]</td>\n",
       "      <td>NaN</td>\n",
       "    </tr>\n",
       "    <tr>\n",
       "      <th>84815</th>\n",
       "      <td>Q0NCJ6</td>\n",
       "      <td>Q0NCJ6_VAR65</td>\n",
       "      <td>unreviewed</td>\n",
       "      <td>Virion membrane protein A21</td>\n",
       "      <td>Variola virus (isolate Human/South Africa/102/...</td>\n",
       "      <td>117</td>\n",
       "      <td>587201</td>\n",
       "      <td>Variola virus</td>\n",
       "      <td>Homo sapiens (Human) [TaxID: 9606]</td>\n",
       "      <td>NaN</td>\n",
       "    </tr>\n",
       "    <tr>\n",
       "      <th>87500</th>\n",
       "      <td>B2BX77</td>\n",
       "      <td>B2BX77_ASPVR</td>\n",
       "      <td>unreviewed</td>\n",
       "      <td>Hemagglutinin-neuraminidase protein</td>\n",
       "      <td>Atlantic salmon paramyxovirus (isolate -/Norwa...</td>\n",
       "      <td>576</td>\n",
       "      <td>1283346</td>\n",
       "      <td>Salmon aquaparamyxovirus</td>\n",
       "      <td>Salmo salar (Atlantic salmon) [TaxID: 8030]</td>\n",
       "      <td>NaN</td>\n",
       "    </tr>\n",
       "    <tr>\n",
       "      <th>98638</th>\n",
       "      <td>Q0NCN6</td>\n",
       "      <td>Q0NCN6_VAR65</td>\n",
       "      <td>unreviewed</td>\n",
       "      <td>IMV membrane protein</td>\n",
       "      <td>Variola virus (isolate Human/South Africa/102/...</td>\n",
       "      <td>189</td>\n",
       "      <td>587201</td>\n",
       "      <td>Variola virus</td>\n",
       "      <td>Homo sapiens (Human) [TaxID: 9606]</td>\n",
       "      <td>NaN</td>\n",
       "    </tr>\n",
       "    <tr>\n",
       "      <th>99867</th>\n",
       "      <td>Q0NCP9</td>\n",
       "      <td>Q0NCP9_VAR65</td>\n",
       "      <td>unreviewed</td>\n",
       "      <td>Myristylprotein</td>\n",
       "      <td>Variola virus (isolate Human/South Africa/102/...</td>\n",
       "      <td>340</td>\n",
       "      <td>587201</td>\n",
       "      <td>Variola virus</td>\n",
       "      <td>Homo sapiens (Human) [TaxID: 9606]</td>\n",
       "      <td>NaN</td>\n",
       "    </tr>\n",
       "    <tr>\n",
       "      <th>115389</th>\n",
       "      <td>Q0NG61</td>\n",
       "      <td>Q0NG61_VAR46</td>\n",
       "      <td>unreviewed</td>\n",
       "      <td>Protein L5</td>\n",
       "      <td>Variola virus (isolate Human/Japan/Yamada MS-2...</td>\n",
       "      <td>128</td>\n",
       "      <td>587202</td>\n",
       "      <td>Variola virus</td>\n",
       "      <td>Homo sapiens (Human) [TaxID: 9606]</td>\n",
       "      <td>NaN</td>\n",
       "    </tr>\n",
       "    <tr>\n",
       "      <th>116649</th>\n",
       "      <td>Q0NG40</td>\n",
       "      <td>Q0NG40_VAR46</td>\n",
       "      <td>unreviewed</td>\n",
       "      <td>Carbonic anhydrase homolog (Cell surface-bindi...</td>\n",
       "      <td>Variola virus (isolate Human/Japan/Yamada MS-2...</td>\n",
       "      <td>304</td>\n",
       "      <td>587202</td>\n",
       "      <td>Variola virus</td>\n",
       "      <td>Homo sapiens (Human) [TaxID: 9606]</td>\n",
       "      <td>NaN</td>\n",
       "    </tr>\n",
       "    <tr>\n",
       "      <th>140090</th>\n",
       "      <td>Q0NCM3</td>\n",
       "      <td>Q0NCM3_VAR65</td>\n",
       "      <td>unreviewed</td>\n",
       "      <td>Carbonic anhydrase homolog (Cell surface-bindi...</td>\n",
       "      <td>Variola virus (isolate Human/South Africa/102/...</td>\n",
       "      <td>304</td>\n",
       "      <td>587201</td>\n",
       "      <td>Variola virus</td>\n",
       "      <td>Homo sapiens (Human) [TaxID: 9606]</td>\n",
       "      <td>NaN</td>\n",
       "    </tr>\n",
       "    <tr>\n",
       "      <th>158761</th>\n",
       "      <td>Q0NG02</td>\n",
       "      <td>Q0NG02_VAR46</td>\n",
       "      <td>unreviewed</td>\n",
       "      <td>Fusion protein</td>\n",
       "      <td>Variola virus (isolate Human/Japan/Yamada MS-2...</td>\n",
       "      <td>146</td>\n",
       "      <td>587202</td>\n",
       "      <td>Variola virus</td>\n",
       "      <td>Homo sapiens (Human) [TaxID: 9606]</td>\n",
       "      <td>NaN</td>\n",
       "    </tr>\n",
       "    <tr>\n",
       "      <th>161938</th>\n",
       "      <td>Q0NG13</td>\n",
       "      <td>Q0NG13_VAR46</td>\n",
       "      <td>unreviewed</td>\n",
       "      <td>Virion membrane protein A21</td>\n",
       "      <td>Variola virus (isolate Human/Japan/Yamada MS-2...</td>\n",
       "      <td>117</td>\n",
       "      <td>587202</td>\n",
       "      <td>Variola virus</td>\n",
       "      <td>Homo sapiens (Human) [TaxID: 9606]</td>\n",
       "      <td>NaN</td>\n",
       "    </tr>\n",
       "    <tr>\n",
       "      <th>169371</th>\n",
       "      <td>I6YQK4</td>\n",
       "      <td>I6YQK4_PASI1</td>\n",
       "      <td>unreviewed</td>\n",
       "      <td>Genome polyprotein (P1C) (P1D) (Protein 2C) (P...</td>\n",
       "      <td>Pasivirus A1 isolate (isolate Swine/France/Pas...</td>\n",
       "      <td>2133</td>\n",
       "      <td>1554498</td>\n",
       "      <td>Pasivirus A</td>\n",
       "      <td>Sus scrofa (Pig) [TaxID: 9823]</td>\n",
       "      <td>NaN</td>\n",
       "    </tr>\n",
       "    <tr>\n",
       "      <th>173440</th>\n",
       "      <td>D9YV24</td>\n",
       "      <td>D9YV24_PASVA</td>\n",
       "      <td>unreviewed</td>\n",
       "      <td>Genome polyprotein (P1C) (P1D) (Protein 2C) (P...</td>\n",
       "      <td>Passerivirus A1 (isolate Turdus pallidus/Hong ...</td>\n",
       "      <td>2428</td>\n",
       "      <td>1554479</td>\n",
       "      <td>Passerivirus A</td>\n",
       "      <td>Turdus pallidus (Pale thrush) [TaxID: 36282]</td>\n",
       "      <td>NaN</td>\n",
       "    </tr>\n",
       "    <tr>\n",
       "      <th>178095</th>\n",
       "      <td>Q784K7</td>\n",
       "      <td>Q784K7_HBVF5</td>\n",
       "      <td>unreviewed</td>\n",
       "      <td>Large envelope protein (L glycoprotein) (L-HBs...</td>\n",
       "      <td>Hepatitis B virus genotype F2 (isolate Venezue...</td>\n",
       "      <td>400</td>\n",
       "      <td>489502</td>\n",
       "      <td>Hepatitis B virus (HBV)</td>\n",
       "      <td>Homo sapiens (Human) [TaxID: 9606]; Pan troglo...</td>\n",
       "      <td>NaN</td>\n",
       "    </tr>\n",
       "    <tr>\n",
       "      <th>178149</th>\n",
       "      <td>Q784L0</td>\n",
       "      <td>Q784L0_HBVF5</td>\n",
       "      <td>unreviewed</td>\n",
       "      <td>Capsid protein (Core antigen) (Core protein) (...</td>\n",
       "      <td>Hepatitis B virus genotype F2 (isolate Venezue...</td>\n",
       "      <td>212</td>\n",
       "      <td>489502</td>\n",
       "      <td>Hepatitis B virus (HBV)</td>\n",
       "      <td>Homo sapiens (Human) [TaxID: 9606]; Pan troglo...</td>\n",
       "      <td>NaN</td>\n",
       "    </tr>\n",
       "    <tr>\n",
       "      <th>189041</th>\n",
       "      <td>Q0NCN9</td>\n",
       "      <td>Q0NCN9_VAR65</td>\n",
       "      <td>unreviewed</td>\n",
       "      <td>IMV membrane protein</td>\n",
       "      <td>Variola virus (isolate Human/South Africa/102/...</td>\n",
       "      <td>133</td>\n",
       "      <td>587201</td>\n",
       "      <td>Variola virus</td>\n",
       "      <td>Homo sapiens (Human) [TaxID: 9606]</td>\n",
       "      <td>NaN</td>\n",
       "    </tr>\n",
       "    <tr>\n",
       "      <th>189084</th>\n",
       "      <td>Q0NCK0</td>\n",
       "      <td>Q0NCK0_VAR65</td>\n",
       "      <td>unreviewed</td>\n",
       "      <td>Myristylprotein</td>\n",
       "      <td>Variola virus (isolate Human/South Africa/102/...</td>\n",
       "      <td>377</td>\n",
       "      <td>587201</td>\n",
       "      <td>Variola virus</td>\n",
       "      <td>Homo sapiens (Human) [TaxID: 9606]</td>\n",
       "      <td>NaN</td>\n",
       "    </tr>\n",
       "    <tr>\n",
       "      <th>191463</th>\n",
       "      <td>Q784K9</td>\n",
       "      <td>Q784K9_HBVF5</td>\n",
       "      <td>unreviewed</td>\n",
       "      <td>Capsid protein (Core antigen) (Core protein) (...</td>\n",
       "      <td>Hepatitis B virus genotype F2 (isolate Venezue...</td>\n",
       "      <td>183</td>\n",
       "      <td>489502</td>\n",
       "      <td>Hepatitis B virus (HBV)</td>\n",
       "      <td>Homo sapiens (Human) [TaxID: 9606]; Pan troglo...</td>\n",
       "      <td>NaN</td>\n",
       "    </tr>\n",
       "    <tr>\n",
       "      <th>192619</th>\n",
       "      <td>Q0NG53</td>\n",
       "      <td>Q0NG53_VAR46</td>\n",
       "      <td>unreviewed</td>\n",
       "      <td>IMV membrane protein</td>\n",
       "      <td>Variola virus (isolate Human/Japan/Yamada MS-2...</td>\n",
       "      <td>189</td>\n",
       "      <td>587202</td>\n",
       "      <td>Variola virus</td>\n",
       "      <td>Homo sapiens (Human) [TaxID: 9606]</td>\n",
       "      <td>NaN</td>\n",
       "    </tr>\n",
       "    <tr>\n",
       "      <th>195746</th>\n",
       "      <td>Q0NCP4</td>\n",
       "      <td>Q0NCP4_VAR65</td>\n",
       "      <td>unreviewed</td>\n",
       "      <td>Protein L5</td>\n",
       "      <td>Variola virus (isolate Human/South Africa/102/...</td>\n",
       "      <td>128</td>\n",
       "      <td>587201</td>\n",
       "      <td>Variola virus</td>\n",
       "      <td>Homo sapiens (Human) [TaxID: 9606]</td>\n",
       "      <td>NaN</td>\n",
       "    </tr>\n",
       "    <tr>\n",
       "      <th>196727</th>\n",
       "      <td>Q0NG56</td>\n",
       "      <td>Q0NG56_VAR46</td>\n",
       "      <td>unreviewed</td>\n",
       "      <td>IMV membrane protein</td>\n",
       "      <td>Variola virus (isolate Human/Japan/Yamada MS-2...</td>\n",
       "      <td>133</td>\n",
       "      <td>587202</td>\n",
       "      <td>Variola virus</td>\n",
       "      <td>Homo sapiens (Human) [TaxID: 9606]</td>\n",
       "      <td>NaN</td>\n",
       "    </tr>\n",
       "    <tr>\n",
       "      <th>198013</th>\n",
       "      <td>Q0NG17</td>\n",
       "      <td>Q0NG17_VAR46</td>\n",
       "      <td>unreviewed</td>\n",
       "      <td>Myristylprotein</td>\n",
       "      <td>Variola virus (isolate Human/Japan/Yamada MS-2...</td>\n",
       "      <td>377</td>\n",
       "      <td>587202</td>\n",
       "      <td>Variola virus</td>\n",
       "      <td>Homo sapiens (Human) [TaxID: 9606]</td>\n",
       "      <td>NaN</td>\n",
       "    </tr>\n",
       "    <tr>\n",
       "      <th>198077</th>\n",
       "      <td>Q0NG74</td>\n",
       "      <td>Q0NG74_VAR46</td>\n",
       "      <td>unreviewed</td>\n",
       "      <td>Protein G3</td>\n",
       "      <td>Variola virus (isolate Human/Japan/Yamada MS-2...</td>\n",
       "      <td>111</td>\n",
       "      <td>587202</td>\n",
       "      <td>Variola virus</td>\n",
       "      <td>Homo sapiens (Human) [TaxID: 9606]</td>\n",
       "      <td>NaN</td>\n",
       "    </tr>\n",
       "    <tr>\n",
       "      <th>199619</th>\n",
       "      <td>H6VBU4</td>\n",
       "      <td>H6VBU4_CADIV</td>\n",
       "      <td>unreviewed</td>\n",
       "      <td>Genome polyprotein (P1C) (P1D) (Virion protein...</td>\n",
       "      <td>Cadicivirus A (isolate Dog/Hong Kong/209/2008)...</td>\n",
       "      <td>844</td>\n",
       "      <td>1554482</td>\n",
       "      <td>Cadicivirus A</td>\n",
       "      <td>Canis lupus familiaris (Dog) (Canis familiaris...</td>\n",
       "      <td>NaN</td>\n",
       "    </tr>\n",
       "    <tr>\n",
       "      <th>212796</th>\n",
       "      <td>X2L6K2</td>\n",
       "      <td>X2L6K2_MOVA2</td>\n",
       "      <td>unreviewed</td>\n",
       "      <td>Genome polyprotein (EC 3.4.22.28) (P1C) (P1D) ...</td>\n",
       "      <td>Mosavirus A2 (isolate Coracias garrulus/Hungar...</td>\n",
       "      <td>2550</td>\n",
       "      <td>1554481</td>\n",
       "      <td>Mosavirus A</td>\n",
       "      <td>Coracias garrulus (European roller) [TaxID: 18...</td>\n",
       "      <td>NaN</td>\n",
       "    </tr>\n",
       "    <tr>\n",
       "      <th>212863</th>\n",
       "      <td>A5H1G4</td>\n",
       "      <td>A5H1G4_BCTIV</td>\n",
       "      <td>unreviewed</td>\n",
       "      <td>Capsid protein (Coat protein)</td>\n",
       "      <td>Beet curly top Iran virus (isolate Sugar beet/...</td>\n",
       "      <td>250</td>\n",
       "      <td>1559363</td>\n",
       "      <td>Beet curly top Iran virus</td>\n",
       "      <td>Beta vulgaris subsp. vulgaris [TaxID: 3555]</td>\n",
       "      <td>NaN</td>\n",
       "    </tr>\n",
       "    <tr>\n",
       "      <th>229360</th>\n",
       "      <td>Q6YIS0</td>\n",
       "      <td>Q6YIS0_FDLV8</td>\n",
       "      <td>unreviewed</td>\n",
       "      <td>Hemagglutinin-neuraminidase protein HN</td>\n",
       "      <td>Fer-de-Lance paramyxovirus (strain ATCC VR-895...</td>\n",
       "      <td>564</td>\n",
       "      <td>1283347</td>\n",
       "      <td>Reptilian ferlavirus</td>\n",
       "      <td>Bothrops atrox (Barba amarilla) (Fer-de-lance)...</td>\n",
       "      <td>NaN</td>\n",
       "    </tr>\n",
       "    <tr>\n",
       "      <th>232353</th>\n",
       "      <td>Q0NLS8</td>\n",
       "      <td>Q0NLS8_VAR66</td>\n",
       "      <td>unreviewed</td>\n",
       "      <td>Virion membrane protein A21</td>\n",
       "      <td>Variola virus (isolate Human/Brazil/v66-39/196...</td>\n",
       "      <td>117</td>\n",
       "      <td>587203</td>\n",
       "      <td>Variola virus</td>\n",
       "      <td>Homo sapiens (Human) [TaxID: 9606]</td>\n",
       "      <td>NaN</td>\n",
       "    </tr>\n",
       "    <tr>\n",
       "      <th>233508</th>\n",
       "      <td>Q0NLY9</td>\n",
       "      <td>Q0NLY9_VAR66</td>\n",
       "      <td>unreviewed</td>\n",
       "      <td>Protein G3</td>\n",
       "      <td>Variola virus (isolate Human/Brazil/v66-39/196...</td>\n",
       "      <td>111</td>\n",
       "      <td>587203</td>\n",
       "      <td>Variola virus</td>\n",
       "      <td>Homo sapiens (Human) [TaxID: 9606]</td>\n",
       "      <td>NaN</td>\n",
       "    </tr>\n",
       "    <tr>\n",
       "      <th>233522</th>\n",
       "      <td>Q0NLX6</td>\n",
       "      <td>Q0NLX6_VAR66</td>\n",
       "      <td>unreviewed</td>\n",
       "      <td>Protein L5</td>\n",
       "      <td>Variola virus (isolate Human/Brazil/v66-39/196...</td>\n",
       "      <td>128</td>\n",
       "      <td>587203</td>\n",
       "      <td>Variola virus</td>\n",
       "      <td>Homo sapiens (Human) [TaxID: 9606]</td>\n",
       "      <td>NaN</td>\n",
       "    </tr>\n",
       "    <tr>\n",
       "      <th>234107</th>\n",
       "      <td>A0A023T7J3</td>\n",
       "      <td>A0A023T7J3_ROSV2</td>\n",
       "      <td>unreviewed</td>\n",
       "      <td>Genome polyprotein (P1C) (P1D) (Protein 2C) (P...</td>\n",
       "      <td>Rosavirus A2 (isolate Human/Gambia/GA7403/2008...</td>\n",
       "      <td>2468</td>\n",
       "      <td>1554474</td>\n",
       "      <td>Rosavirus A</td>\n",
       "      <td>Homo sapiens (Human) [TaxID: 9606]; Mus muscul...</td>\n",
       "      <td>NaN</td>\n",
       "    </tr>\n",
       "    <tr>\n",
       "      <th>239180</th>\n",
       "      <td>Q0NLX1</td>\n",
       "      <td>Q0NLX1_VAR66</td>\n",
       "      <td>unreviewed</td>\n",
       "      <td>IMV membrane protein</td>\n",
       "      <td>Variola virus (isolate Human/Brazil/v66-39/196...</td>\n",
       "      <td>133</td>\n",
       "      <td>587203</td>\n",
       "      <td>Variola virus</td>\n",
       "      <td>Homo sapiens (Human) [TaxID: 9606]</td>\n",
       "      <td>NaN</td>\n",
       "    </tr>\n",
       "    <tr>\n",
       "      <th>239812</th>\n",
       "      <td>Q0NLR7</td>\n",
       "      <td>Q0NLR7_VAR66</td>\n",
       "      <td>unreviewed</td>\n",
       "      <td>Fusion protein</td>\n",
       "      <td>Variola virus (isolate Human/Brazil/v66-39/196...</td>\n",
       "      <td>146</td>\n",
       "      <td>587203</td>\n",
       "      <td>Variola virus</td>\n",
       "      <td>Homo sapiens (Human) [TaxID: 9606]</td>\n",
       "      <td>NaN</td>\n",
       "    </tr>\n",
       "    <tr>\n",
       "      <th>239858</th>\n",
       "      <td>Q0NLY1</td>\n",
       "      <td>Q0NLY1_VAR66</td>\n",
       "      <td>unreviewed</td>\n",
       "      <td>Myristylprotein</td>\n",
       "      <td>Variola virus (isolate Human/Brazil/v66-39/196...</td>\n",
       "      <td>340</td>\n",
       "      <td>587203</td>\n",
       "      <td>Variola virus</td>\n",
       "      <td>Homo sapiens (Human) [TaxID: 9606]</td>\n",
       "      <td>NaN</td>\n",
       "    </tr>\n",
       "    <tr>\n",
       "      <th>240010</th>\n",
       "      <td>Q0NLW8</td>\n",
       "      <td>Q0NLW8_VAR66</td>\n",
       "      <td>unreviewed</td>\n",
       "      <td>IMV membrane protein</td>\n",
       "      <td>Variola virus (isolate Human/Brazil/v66-39/196...</td>\n",
       "      <td>189</td>\n",
       "      <td>587203</td>\n",
       "      <td>Variola virus</td>\n",
       "      <td>Homo sapiens (Human) [TaxID: 9606]</td>\n",
       "      <td>NaN</td>\n",
       "    </tr>\n",
       "    <tr>\n",
       "      <th>242844</th>\n",
       "      <td>Q0NLT2</td>\n",
       "      <td>Q0NLT2_VAR66</td>\n",
       "      <td>unreviewed</td>\n",
       "      <td>Myristylprotein</td>\n",
       "      <td>Variola virus (isolate Human/Brazil/v66-39/196...</td>\n",
       "      <td>377</td>\n",
       "      <td>587203</td>\n",
       "      <td>Variola virus</td>\n",
       "      <td>Homo sapiens (Human) [TaxID: 9606]</td>\n",
       "      <td>NaN</td>\n",
       "    </tr>\n",
       "    <tr>\n",
       "      <th>246697</th>\n",
       "      <td>C3UV59</td>\n",
       "      <td>C3UV59_ECSVG</td>\n",
       "      <td>unreviewed</td>\n",
       "      <td>Capsid protein (Coat protein)</td>\n",
       "      <td>Eragrostis curvula streak virus (isolate Eragr...</td>\n",
       "      <td>258</td>\n",
       "      <td>1559364</td>\n",
       "      <td>Eragrostis curvula streak virus</td>\n",
       "      <td>Eragrostis curvula (weeping love grass) [TaxID...</td>\n",
       "      <td>NaN</td>\n",
       "    </tr>\n",
       "    <tr>\n",
       "      <th>248084</th>\n",
       "      <td>Q0NLV5</td>\n",
       "      <td>Q0NLV5_VAR66</td>\n",
       "      <td>unreviewed</td>\n",
       "      <td>Carbonic anhydrase homolog (Cell surface-bindi...</td>\n",
       "      <td>Variola virus (isolate Human/Brazil/v66-39/196...</td>\n",
       "      <td>304</td>\n",
       "      <td>587203</td>\n",
       "      <td>Variola virus</td>\n",
       "      <td>Homo sapiens (Human) [TaxID: 9606]</td>\n",
       "      <td>NaN</td>\n",
       "    </tr>\n",
       "    <tr>\n",
       "      <th>248828</th>\n",
       "      <td>A8D7N3</td>\n",
       "      <td>A8D7N3_AQUAV</td>\n",
       "      <td>unreviewed</td>\n",
       "      <td>Genome polyprotein (P1C) (P1D) (Protein 2C) (P...</td>\n",
       "      <td>Aquamavirus A (isolate Phoca hispida/Canada/HO...</td>\n",
       "      <td>2050</td>\n",
       "      <td>1554492</td>\n",
       "      <td>Aquamavirus A</td>\n",
       "      <td>Pusa hispida (Ringed seal) (Phoca hispida) [Ta...</td>\n",
       "      <td>NaN</td>\n",
       "    </tr>\n",
       "    <tr>\n",
       "      <th>259582</th>\n",
       "      <td>I7C489</td>\n",
       "      <td>I7C489_GALIV</td>\n",
       "      <td>unreviewed</td>\n",
       "      <td>Genome polyprotein (EC 3.6.1.15) (P1C) (P1D) (...</td>\n",
       "      <td>Gallivirus A (isolate Turkey/Hungary/M176/2011...</td>\n",
       "      <td>2474</td>\n",
       "      <td>1560035</td>\n",
       "      <td>Gallivirus A</td>\n",
       "      <td>Meleagris gallopavo (Wild turkey) [TaxID: 9103]</td>\n",
       "      <td>NaN</td>\n",
       "    </tr>\n",
       "    <tr>\n",
       "      <th>272459</th>\n",
       "      <td>M4PJD6</td>\n",
       "      <td>M4PJD6_AVISV</td>\n",
       "      <td>unreviewed</td>\n",
       "      <td>Genome polyprotein (EC 3.6.1.15) (P1C) (P1D) (...</td>\n",
       "      <td>Avisivirus A (isolate Turkey/USA/USA-IN1/2010)...</td>\n",
       "      <td>2165</td>\n",
       "      <td>1554484</td>\n",
       "      <td>Avisivirus A</td>\n",
       "      <td>Meleagris gallopavo (Wild turkey) [TaxID: 9103]</td>\n",
       "      <td>NaN</td>\n",
       "    </tr>\n",
       "    <tr>\n",
       "      <th>276797</th>\n",
       "      <td>D9YV26</td>\n",
       "      <td>D9YV26_OSCV1</td>\n",
       "      <td>unreviewed</td>\n",
       "      <td>Genome polyprotein (EC 3.6.1.15) (P1C) (P1D) (...</td>\n",
       "      <td>Oscivirus A1 (isolate Oriental magpie robin/Ho...</td>\n",
       "      <td>2255</td>\n",
       "      <td>1554480</td>\n",
       "      <td>Oscivirus A</td>\n",
       "      <td>Copsychus saularis (Oriental magpie-robin) [Ta...</td>\n",
       "      <td>NaN</td>\n",
       "    </tr>\n",
       "  </tbody>\n",
       "</table>\n",
       "</div>"
      ],
      "text/plain": [
       "             Entry        Entry name      Status  \\\n",
       "11119       O41892      O41892_PEGIA  unreviewed   \n",
       "18609       Q0NCQ7      Q0NCQ7_VAR65  unreviewed   \n",
       "30670       Q0NG66      Q0NG66_VAR46  unreviewed   \n",
       "84779       Q0NCI5      Q0NCI5_VAR65  unreviewed   \n",
       "84815       Q0NCJ6      Q0NCJ6_VAR65  unreviewed   \n",
       "87500       B2BX77      B2BX77_ASPVR  unreviewed   \n",
       "98638       Q0NCN6      Q0NCN6_VAR65  unreviewed   \n",
       "99867       Q0NCP9      Q0NCP9_VAR65  unreviewed   \n",
       "115389      Q0NG61      Q0NG61_VAR46  unreviewed   \n",
       "116649      Q0NG40      Q0NG40_VAR46  unreviewed   \n",
       "140090      Q0NCM3      Q0NCM3_VAR65  unreviewed   \n",
       "158761      Q0NG02      Q0NG02_VAR46  unreviewed   \n",
       "161938      Q0NG13      Q0NG13_VAR46  unreviewed   \n",
       "169371      I6YQK4      I6YQK4_PASI1  unreviewed   \n",
       "173440      D9YV24      D9YV24_PASVA  unreviewed   \n",
       "178095      Q784K7      Q784K7_HBVF5  unreviewed   \n",
       "178149      Q784L0      Q784L0_HBVF5  unreviewed   \n",
       "189041      Q0NCN9      Q0NCN9_VAR65  unreviewed   \n",
       "189084      Q0NCK0      Q0NCK0_VAR65  unreviewed   \n",
       "191463      Q784K9      Q784K9_HBVF5  unreviewed   \n",
       "192619      Q0NG53      Q0NG53_VAR46  unreviewed   \n",
       "195746      Q0NCP4      Q0NCP4_VAR65  unreviewed   \n",
       "196727      Q0NG56      Q0NG56_VAR46  unreviewed   \n",
       "198013      Q0NG17      Q0NG17_VAR46  unreviewed   \n",
       "198077      Q0NG74      Q0NG74_VAR46  unreviewed   \n",
       "199619      H6VBU4      H6VBU4_CADIV  unreviewed   \n",
       "212796      X2L6K2      X2L6K2_MOVA2  unreviewed   \n",
       "212863      A5H1G4      A5H1G4_BCTIV  unreviewed   \n",
       "229360      Q6YIS0      Q6YIS0_FDLV8  unreviewed   \n",
       "232353      Q0NLS8      Q0NLS8_VAR66  unreviewed   \n",
       "233508      Q0NLY9      Q0NLY9_VAR66  unreviewed   \n",
       "233522      Q0NLX6      Q0NLX6_VAR66  unreviewed   \n",
       "234107  A0A023T7J3  A0A023T7J3_ROSV2  unreviewed   \n",
       "239180      Q0NLX1      Q0NLX1_VAR66  unreviewed   \n",
       "239812      Q0NLR7      Q0NLR7_VAR66  unreviewed   \n",
       "239858      Q0NLY1      Q0NLY1_VAR66  unreviewed   \n",
       "240010      Q0NLW8      Q0NLW8_VAR66  unreviewed   \n",
       "242844      Q0NLT2      Q0NLT2_VAR66  unreviewed   \n",
       "246697      C3UV59      C3UV59_ECSVG  unreviewed   \n",
       "248084      Q0NLV5      Q0NLV5_VAR66  unreviewed   \n",
       "248828      A8D7N3      A8D7N3_AQUAV  unreviewed   \n",
       "259582      I7C489      I7C489_GALIV  unreviewed   \n",
       "272459      M4PJD6      M4PJD6_AVISV  unreviewed   \n",
       "276797      D9YV26      D9YV26_OSCV1  unreviewed   \n",
       "\n",
       "                                            Protein names  \\\n",
       "11119                    Genome polyprotein (EC 3.6.4.13)   \n",
       "18609                                          Protein G3   \n",
       "30670                                     Myristylprotein   \n",
       "84779                                      Fusion protein   \n",
       "84815                         Virion membrane protein A21   \n",
       "87500                 Hemagglutinin-neuraminidase protein   \n",
       "98638                                IMV membrane protein   \n",
       "99867                                     Myristylprotein   \n",
       "115389                                         Protein L5   \n",
       "116649  Carbonic anhydrase homolog (Cell surface-bindi...   \n",
       "140090  Carbonic anhydrase homolog (Cell surface-bindi...   \n",
       "158761                                     Fusion protein   \n",
       "161938                        Virion membrane protein A21   \n",
       "169371  Genome polyprotein (P1C) (P1D) (Protein 2C) (P...   \n",
       "173440  Genome polyprotein (P1C) (P1D) (Protein 2C) (P...   \n",
       "178095  Large envelope protein (L glycoprotein) (L-HBs...   \n",
       "178149  Capsid protein (Core antigen) (Core protein) (...   \n",
       "189041                               IMV membrane protein   \n",
       "189084                                    Myristylprotein   \n",
       "191463  Capsid protein (Core antigen) (Core protein) (...   \n",
       "192619                               IMV membrane protein   \n",
       "195746                                         Protein L5   \n",
       "196727                               IMV membrane protein   \n",
       "198013                                    Myristylprotein   \n",
       "198077                                         Protein G3   \n",
       "199619  Genome polyprotein (P1C) (P1D) (Virion protein...   \n",
       "212796  Genome polyprotein (EC 3.4.22.28) (P1C) (P1D) ...   \n",
       "212863                      Capsid protein (Coat protein)   \n",
       "229360             Hemagglutinin-neuraminidase protein HN   \n",
       "232353                        Virion membrane protein A21   \n",
       "233508                                         Protein G3   \n",
       "233522                                         Protein L5   \n",
       "234107  Genome polyprotein (P1C) (P1D) (Protein 2C) (P...   \n",
       "239180                               IMV membrane protein   \n",
       "239812                                     Fusion protein   \n",
       "239858                                    Myristylprotein   \n",
       "240010                               IMV membrane protein   \n",
       "242844                                    Myristylprotein   \n",
       "246697                      Capsid protein (Coat protein)   \n",
       "248084  Carbonic anhydrase homolog (Cell surface-bindi...   \n",
       "248828  Genome polyprotein (P1C) (P1D) (Protein 2C) (P...   \n",
       "259582  Genome polyprotein (EC 3.6.1.15) (P1C) (P1D) (...   \n",
       "272459  Genome polyprotein (EC 3.6.1.15) (P1C) (P1D) (...   \n",
       "276797  Genome polyprotein (EC 3.6.1.15) (P1C) (P1D) (...   \n",
       "\n",
       "                                                 Organism  Length  \\\n",
       "11119   Pegivirus A (isolate Saguinus labiatus/-/GBV-A...    2967   \n",
       "18609   Variola virus (isolate Human/South Africa/102/...     111   \n",
       "30670   Variola virus (isolate Human/Japan/Yamada MS-2...     340   \n",
       "84779   Variola virus (isolate Human/South Africa/102/...     146   \n",
       "84815   Variola virus (isolate Human/South Africa/102/...     117   \n",
       "87500   Atlantic salmon paramyxovirus (isolate -/Norwa...     576   \n",
       "98638   Variola virus (isolate Human/South Africa/102/...     189   \n",
       "99867   Variola virus (isolate Human/South Africa/102/...     340   \n",
       "115389  Variola virus (isolate Human/Japan/Yamada MS-2...     128   \n",
       "116649  Variola virus (isolate Human/Japan/Yamada MS-2...     304   \n",
       "140090  Variola virus (isolate Human/South Africa/102/...     304   \n",
       "158761  Variola virus (isolate Human/Japan/Yamada MS-2...     146   \n",
       "161938  Variola virus (isolate Human/Japan/Yamada MS-2...     117   \n",
       "169371  Pasivirus A1 isolate (isolate Swine/France/Pas...    2133   \n",
       "173440  Passerivirus A1 (isolate Turdus pallidus/Hong ...    2428   \n",
       "178095  Hepatitis B virus genotype F2 (isolate Venezue...     400   \n",
       "178149  Hepatitis B virus genotype F2 (isolate Venezue...     212   \n",
       "189041  Variola virus (isolate Human/South Africa/102/...     133   \n",
       "189084  Variola virus (isolate Human/South Africa/102/...     377   \n",
       "191463  Hepatitis B virus genotype F2 (isolate Venezue...     183   \n",
       "192619  Variola virus (isolate Human/Japan/Yamada MS-2...     189   \n",
       "195746  Variola virus (isolate Human/South Africa/102/...     128   \n",
       "196727  Variola virus (isolate Human/Japan/Yamada MS-2...     133   \n",
       "198013  Variola virus (isolate Human/Japan/Yamada MS-2...     377   \n",
       "198077  Variola virus (isolate Human/Japan/Yamada MS-2...     111   \n",
       "199619  Cadicivirus A (isolate Dog/Hong Kong/209/2008)...     844   \n",
       "212796  Mosavirus A2 (isolate Coracias garrulus/Hungar...    2550   \n",
       "212863  Beet curly top Iran virus (isolate Sugar beet/...     250   \n",
       "229360  Fer-de-Lance paramyxovirus (strain ATCC VR-895...     564   \n",
       "232353  Variola virus (isolate Human/Brazil/v66-39/196...     117   \n",
       "233508  Variola virus (isolate Human/Brazil/v66-39/196...     111   \n",
       "233522  Variola virus (isolate Human/Brazil/v66-39/196...     128   \n",
       "234107  Rosavirus A2 (isolate Human/Gambia/GA7403/2008...    2468   \n",
       "239180  Variola virus (isolate Human/Brazil/v66-39/196...     133   \n",
       "239812  Variola virus (isolate Human/Brazil/v66-39/196...     146   \n",
       "239858  Variola virus (isolate Human/Brazil/v66-39/196...     340   \n",
       "240010  Variola virus (isolate Human/Brazil/v66-39/196...     189   \n",
       "242844  Variola virus (isolate Human/Brazil/v66-39/196...     377   \n",
       "246697  Eragrostis curvula streak virus (isolate Eragr...     258   \n",
       "248084  Variola virus (isolate Human/Brazil/v66-39/196...     304   \n",
       "248828  Aquamavirus A (isolate Phoca hispida/Canada/HO...    2050   \n",
       "259582  Gallivirus A (isolate Turkey/Hungary/M176/2011...    2474   \n",
       "272459  Avisivirus A (isolate Turkey/USA/USA-IN1/2010)...    2165   \n",
       "276797  Oscivirus A1 (isolate Oriental magpie robin/Ho...    2255   \n",
       "\n",
       "        Taxonomic lineage IDs      Taxonomic lineage (SPECIES)  \\\n",
       "11119                 1554494                      Pegivirus A   \n",
       "18609                  587201                    Variola virus   \n",
       "30670                  587202                    Variola virus   \n",
       "84779                  587201                    Variola virus   \n",
       "84815                  587201                    Variola virus   \n",
       "87500                 1283346         Salmon aquaparamyxovirus   \n",
       "98638                  587201                    Variola virus   \n",
       "99867                  587201                    Variola virus   \n",
       "115389                 587202                    Variola virus   \n",
       "116649                 587202                    Variola virus   \n",
       "140090                 587201                    Variola virus   \n",
       "158761                 587202                    Variola virus   \n",
       "161938                 587202                    Variola virus   \n",
       "169371                1554498                      Pasivirus A   \n",
       "173440                1554479                   Passerivirus A   \n",
       "178095                 489502          Hepatitis B virus (HBV)   \n",
       "178149                 489502          Hepatitis B virus (HBV)   \n",
       "189041                 587201                    Variola virus   \n",
       "189084                 587201                    Variola virus   \n",
       "191463                 489502          Hepatitis B virus (HBV)   \n",
       "192619                 587202                    Variola virus   \n",
       "195746                 587201                    Variola virus   \n",
       "196727                 587202                    Variola virus   \n",
       "198013                 587202                    Variola virus   \n",
       "198077                 587202                    Variola virus   \n",
       "199619                1554482                    Cadicivirus A   \n",
       "212796                1554481                      Mosavirus A   \n",
       "212863                1559363        Beet curly top Iran virus   \n",
       "229360                1283347             Reptilian ferlavirus   \n",
       "232353                 587203                    Variola virus   \n",
       "233508                 587203                    Variola virus   \n",
       "233522                 587203                    Variola virus   \n",
       "234107                1554474                      Rosavirus A   \n",
       "239180                 587203                    Variola virus   \n",
       "239812                 587203                    Variola virus   \n",
       "239858                 587203                    Variola virus   \n",
       "240010                 587203                    Variola virus   \n",
       "242844                 587203                    Variola virus   \n",
       "246697                1559364  Eragrostis curvula streak virus   \n",
       "248084                 587203                    Variola virus   \n",
       "248828                1554492                    Aquamavirus A   \n",
       "259582                1560035                     Gallivirus A   \n",
       "272459                1554484                     Avisivirus A   \n",
       "276797                1554480                      Oscivirus A   \n",
       "\n",
       "                                              Virus hosts  \\\n",
       "11119   Leontocebus nigricollis (Black-mantled tamarin...   \n",
       "18609                  Homo sapiens (Human) [TaxID: 9606]   \n",
       "30670                  Homo sapiens (Human) [TaxID: 9606]   \n",
       "84779                  Homo sapiens (Human) [TaxID: 9606]   \n",
       "84815                  Homo sapiens (Human) [TaxID: 9606]   \n",
       "87500         Salmo salar (Atlantic salmon) [TaxID: 8030]   \n",
       "98638                  Homo sapiens (Human) [TaxID: 9606]   \n",
       "99867                  Homo sapiens (Human) [TaxID: 9606]   \n",
       "115389                 Homo sapiens (Human) [TaxID: 9606]   \n",
       "116649                 Homo sapiens (Human) [TaxID: 9606]   \n",
       "140090                 Homo sapiens (Human) [TaxID: 9606]   \n",
       "158761                 Homo sapiens (Human) [TaxID: 9606]   \n",
       "161938                 Homo sapiens (Human) [TaxID: 9606]   \n",
       "169371                     Sus scrofa (Pig) [TaxID: 9823]   \n",
       "173440       Turdus pallidus (Pale thrush) [TaxID: 36282]   \n",
       "178095  Homo sapiens (Human) [TaxID: 9606]; Pan troglo...   \n",
       "178149  Homo sapiens (Human) [TaxID: 9606]; Pan troglo...   \n",
       "189041                 Homo sapiens (Human) [TaxID: 9606]   \n",
       "189084                 Homo sapiens (Human) [TaxID: 9606]   \n",
       "191463  Homo sapiens (Human) [TaxID: 9606]; Pan troglo...   \n",
       "192619                 Homo sapiens (Human) [TaxID: 9606]   \n",
       "195746                 Homo sapiens (Human) [TaxID: 9606]   \n",
       "196727                 Homo sapiens (Human) [TaxID: 9606]   \n",
       "198013                 Homo sapiens (Human) [TaxID: 9606]   \n",
       "198077                 Homo sapiens (Human) [TaxID: 9606]   \n",
       "199619  Canis lupus familiaris (Dog) (Canis familiaris...   \n",
       "212796  Coracias garrulus (European roller) [TaxID: 18...   \n",
       "212863        Beta vulgaris subsp. vulgaris [TaxID: 3555]   \n",
       "229360  Bothrops atrox (Barba amarilla) (Fer-de-lance)...   \n",
       "232353                 Homo sapiens (Human) [TaxID: 9606]   \n",
       "233508                 Homo sapiens (Human) [TaxID: 9606]   \n",
       "233522                 Homo sapiens (Human) [TaxID: 9606]   \n",
       "234107  Homo sapiens (Human) [TaxID: 9606]; Mus muscul...   \n",
       "239180                 Homo sapiens (Human) [TaxID: 9606]   \n",
       "239812                 Homo sapiens (Human) [TaxID: 9606]   \n",
       "239858                 Homo sapiens (Human) [TaxID: 9606]   \n",
       "240010                 Homo sapiens (Human) [TaxID: 9606]   \n",
       "242844                 Homo sapiens (Human) [TaxID: 9606]   \n",
       "246697  Eragrostis curvula (weeping love grass) [TaxID...   \n",
       "248084                 Homo sapiens (Human) [TaxID: 9606]   \n",
       "248828  Pusa hispida (Ringed seal) (Phoca hispida) [Ta...   \n",
       "259582    Meleagris gallopavo (Wild turkey) [TaxID: 9103]   \n",
       "272459    Meleagris gallopavo (Wild turkey) [TaxID: 9103]   \n",
       "276797  Copsychus saularis (Oriental magpie-robin) [Ta...   \n",
       "\n",
       "        Species taxonomic ID  \n",
       "11119                    NaN  \n",
       "18609                    NaN  \n",
       "30670                    NaN  \n",
       "84779                    NaN  \n",
       "84815                    NaN  \n",
       "87500                    NaN  \n",
       "98638                    NaN  \n",
       "99867                    NaN  \n",
       "115389                   NaN  \n",
       "116649                   NaN  \n",
       "140090                   NaN  \n",
       "158761                   NaN  \n",
       "161938                   NaN  \n",
       "169371                   NaN  \n",
       "173440                   NaN  \n",
       "178095                   NaN  \n",
       "178149                   NaN  \n",
       "189041                   NaN  \n",
       "189084                   NaN  \n",
       "191463                   NaN  \n",
       "192619                   NaN  \n",
       "195746                   NaN  \n",
       "196727                   NaN  \n",
       "198013                   NaN  \n",
       "198077                   NaN  \n",
       "199619                   NaN  \n",
       "212796                   NaN  \n",
       "212863                   NaN  \n",
       "229360                   NaN  \n",
       "232353                   NaN  \n",
       "233508                   NaN  \n",
       "233522                   NaN  \n",
       "234107                   NaN  \n",
       "239180                   NaN  \n",
       "239812                   NaN  \n",
       "239858                   NaN  \n",
       "240010                   NaN  \n",
       "242844                   NaN  \n",
       "246697                   NaN  \n",
       "248084                   NaN  \n",
       "248828                   NaN  \n",
       "259582                   NaN  \n",
       "272459                   NaN  \n",
       "276797                   NaN  "
      ]
     },
     "execution_count": 25,
     "metadata": {},
     "output_type": "execute_result"
    }
   ],
   "source": [
    "df[df['Species taxonomic ID'].isnull()]"
   ]
  },
  {
   "cell_type": "code",
   "execution_count": 26,
   "metadata": {},
   "outputs": [
    {
     "data": {
      "application/vnd.jupyter.widget-view+json": {
       "model_id": "9060d224532e4c3ab7e3b75b58b5c026",
       "version_major": 2,
       "version_minor": 0
      },
      "text/plain": [
       "Getting species ID from organism name:   0%|          | 0/358333 [00:00<?, ?it/s]"
      ]
     },
     "metadata": {},
     "output_type": "display_data"
    }
   ],
   "source": [
    "# Get the species name of the earlier unidentified taxonomic IDs\n",
    "idx_species_name = df.columns.get_loc('Taxonomic lineage (SPECIES)')\n",
    "idx_organism_id = df.columns.get_loc('Species taxonomic ID')\n",
    "\n",
    "for row in tqdm_notebook(range(len(df)), desc='Getting species ID from organism name'):\n",
    "    if np.isnan(df.iat[row, idx_organism_id]):\n",
    "        df.iat[row, idx_organism_id] = getIDfromName(df.iat[row, idx_species_name])"
   ]
  },
  {
   "cell_type": "code",
   "execution_count": 27,
   "metadata": {},
   "outputs": [
    {
     "data": {
      "text/html": [
       "<div>\n",
       "<style scoped>\n",
       "    .dataframe tbody tr th:only-of-type {\n",
       "        vertical-align: middle;\n",
       "    }\n",
       "\n",
       "    .dataframe tbody tr th {\n",
       "        vertical-align: top;\n",
       "    }\n",
       "\n",
       "    .dataframe thead th {\n",
       "        text-align: right;\n",
       "    }\n",
       "</style>\n",
       "<table border=\"1\" class=\"dataframe\">\n",
       "  <thead>\n",
       "    <tr style=\"text-align: right;\">\n",
       "      <th></th>\n",
       "      <th>Entry</th>\n",
       "      <th>Entry name</th>\n",
       "      <th>Status</th>\n",
       "      <th>Protein names</th>\n",
       "      <th>Organism</th>\n",
       "      <th>Length</th>\n",
       "      <th>Taxonomic lineage IDs</th>\n",
       "      <th>Taxonomic lineage (SPECIES)</th>\n",
       "      <th>Virus hosts</th>\n",
       "      <th>Species taxonomic ID</th>\n",
       "    </tr>\n",
       "  </thead>\n",
       "  <tbody>\n",
       "  </tbody>\n",
       "</table>\n",
       "</div>"
      ],
      "text/plain": [
       "Empty DataFrame\n",
       "Columns: [Entry, Entry name, Status, Protein names, Organism, Length, Taxonomic lineage IDs, Taxonomic lineage (SPECIES), Virus hosts, Species taxonomic ID]\n",
       "Index: []"
      ]
     },
     "execution_count": 27,
     "metadata": {},
     "output_type": "execute_result"
    }
   ],
   "source": [
    "df[df['Species taxonomic ID'].isnull()]"
   ]
  },
  {
   "cell_type": "code",
   "execution_count": 28,
   "metadata": {},
   "outputs": [],
   "source": [
    "df['Species taxonomic ID'] = df['Species taxonomic ID'].apply(int)"
   ]
  },
  {
   "cell_type": "code",
   "execution_count": 29,
   "metadata": {},
   "outputs": [
    {
     "data": {
      "text/plain": [
       "(358333, 10)"
      ]
     },
     "execution_count": 29,
     "metadata": {},
     "output_type": "execute_result"
    }
   ],
   "source": [
    "df.shape"
   ]
  },
  {
   "cell_type": "code",
   "execution_count": 30,
   "metadata": {},
   "outputs": [],
   "source": [
    "df = (df.drop(['Status','Taxonomic lineage IDs'], axis=1)\n",
    "      .groupby('Species taxonomic ID', as_index=False)\n",
    "      .agg({'Virus hosts':set, 'Organism':set,\n",
    "            'Protein names':set, 'Taxonomic lineage (SPECIES)':'first'}))"
   ]
  },
  {
   "cell_type": "code",
   "execution_count": 31,
   "metadata": {},
   "outputs": [],
   "source": [
    "df['Virus hosts'] = df['Virus hosts'].str.join('; ')\n",
    "df['Organism'] = df['Organism'].str.join('; ')\n",
    "df['Protein names'] = df['Protein names'].str.join('; ')"
   ]
  },
  {
   "cell_type": "code",
   "execution_count": 32,
   "metadata": {},
   "outputs": [
    {
     "data": {
      "text/html": [
       "<div>\n",
       "<style scoped>\n",
       "    .dataframe tbody tr th:only-of-type {\n",
       "        vertical-align: middle;\n",
       "    }\n",
       "\n",
       "    .dataframe tbody tr th {\n",
       "        vertical-align: top;\n",
       "    }\n",
       "\n",
       "    .dataframe thead th {\n",
       "        text-align: right;\n",
       "    }\n",
       "</style>\n",
       "<table border=\"1\" class=\"dataframe\">\n",
       "  <thead>\n",
       "    <tr style=\"text-align: right;\">\n",
       "      <th></th>\n",
       "      <th>Species taxonomic ID</th>\n",
       "      <th>Virus hosts</th>\n",
       "      <th>Organism</th>\n",
       "      <th>Protein names</th>\n",
       "      <th>Taxonomic lineage (SPECIES)</th>\n",
       "    </tr>\n",
       "  </thead>\n",
       "  <tbody>\n",
       "    <tr>\n",
       "      <th>2780</th>\n",
       "      <td>392734</td>\n",
       "      <td></td>\n",
       "      <td>Terriglobus roseus</td>\n",
       "      <td>Integrase</td>\n",
       "      <td>Terriglobus roseus</td>\n",
       "    </tr>\n",
       "    <tr>\n",
       "      <th>658</th>\n",
       "      <td>28365</td>\n",
       "      <td>Xanthomonas campestris pv. campestris [TaxID: ...</td>\n",
       "      <td>Xanthomonas phage phiLf (Bacteriophage phi-Lf)</td>\n",
       "      <td>Attachment protein G3P (Gene 3 protein) (G3P) ...</td>\n",
       "      <td>Xanthomonas phage phiLf (Bacteriophage phi-Lf)</td>\n",
       "    </tr>\n",
       "    <tr>\n",
       "      <th>630</th>\n",
       "      <td>28109</td>\n",
       "      <td></td>\n",
       "      <td>Pseudoalteromonas nigrifaciens</td>\n",
       "      <td>Prophage CP4-57 integrase</td>\n",
       "      <td>Pseudoalteromonas nigrifaciens</td>\n",
       "    </tr>\n",
       "    <tr>\n",
       "      <th>3973</th>\n",
       "      <td>988801</td>\n",
       "      <td></td>\n",
       "      <td>Rosenbergiella nectarea</td>\n",
       "      <td>Tyr recombinase domain-containing protein; Int...</td>\n",
       "      <td>Rosenbergiella nectarea</td>\n",
       "    </tr>\n",
       "    <tr>\n",
       "      <th>1552</th>\n",
       "      <td>115986</td>\n",
       "      <td></td>\n",
       "      <td>Burkholderia phage 42</td>\n",
       "      <td>Tail sheath protein gp18</td>\n",
       "      <td>Burkholderia phage 42</td>\n",
       "    </tr>\n",
       "  </tbody>\n",
       "</table>\n",
       "</div>"
      ],
      "text/plain": [
       "      Species taxonomic ID                                        Virus hosts  \\\n",
       "2780                392734                                                      \n",
       "658                  28365  Xanthomonas campestris pv. campestris [TaxID: ...   \n",
       "630                  28109                                                      \n",
       "3973                988801                                                      \n",
       "1552                115986                                                      \n",
       "\n",
       "                                            Organism  \\\n",
       "2780                              Terriglobus roseus   \n",
       "658   Xanthomonas phage phiLf (Bacteriophage phi-Lf)   \n",
       "630                   Pseudoalteromonas nigrifaciens   \n",
       "3973                         Rosenbergiella nectarea   \n",
       "1552                           Burkholderia phage 42   \n",
       "\n",
       "                                          Protein names  \\\n",
       "2780                                          Integrase   \n",
       "658   Attachment protein G3P (Gene 3 protein) (G3P) ...   \n",
       "630                           Prophage CP4-57 integrase   \n",
       "3973  Tyr recombinase domain-containing protein; Int...   \n",
       "1552                           Tail sheath protein gp18   \n",
       "\n",
       "                         Taxonomic lineage (SPECIES)  \n",
       "2780                              Terriglobus roseus  \n",
       "658   Xanthomonas phage phiLf (Bacteriophage phi-Lf)  \n",
       "630                   Pseudoalteromonas nigrifaciens  \n",
       "3973                         Rosenbergiella nectarea  \n",
       "1552                           Burkholderia phage 42  "
      ]
     },
     "execution_count": 32,
     "metadata": {},
     "output_type": "execute_result"
    }
   ],
   "source": [
    "df.sample(5)"
   ]
  },
  {
   "cell_type": "code",
   "execution_count": 33,
   "metadata": {},
   "outputs": [
    {
     "data": {
      "text/plain": [
       "(15104, 5)"
      ]
     },
     "execution_count": 33,
     "metadata": {},
     "output_type": "execute_result"
    }
   ],
   "source": [
    "df.shape"
   ]
  },
  {
   "cell_type": "code",
   "execution_count": 34,
   "metadata": {},
   "outputs": [
    {
     "data": {
      "application/vnd.jupyter.widget-view+json": {
       "model_id": "66823f93f7874cd1bba9eacfa0ae8cd0",
       "version_major": 2,
       "version_minor": 0
      },
      "text/plain": [
       "Getting Species name:   0%|          | 0/15104 [00:00<?, ?it/s]"
      ]
     },
     "metadata": {},
     "output_type": "display_data"
    }
   ],
   "source": [
    "df['Species name'] = (df.drop('Taxonomic lineage (SPECIES)', axis=1)\n",
    "                      .swifter.progress_bar(enable=True, desc='Getting Species name')\n",
    "                      .apply(lambda x: getRankName(x['Species taxonomic ID'], \n",
    "                                                   rank='species'), axis=1))"
   ]
  },
  {
   "cell_type": "code",
   "execution_count": 35,
   "metadata": {},
   "outputs": [
    {
     "data": {
      "application/vnd.jupyter.widget-view+json": {
       "model_id": "196a4c8d7b8c4491827e736db6a091c0",
       "version_major": 2,
       "version_minor": 0
      },
      "text/plain": [
       "Getting Species name:   0%|          | 0/15104 [00:00<?, ?it/s]"
      ]
     },
     "metadata": {},
     "output_type": "display_data"
    }
   ],
   "source": [
    "df['Species superkingdom'] = df['Species taxonomic ID'].progress_apply(getRankName, rank='superkingdom')"
   ]
  },
  {
   "cell_type": "code",
   "execution_count": 36,
   "metadata": {},
   "outputs": [
    {
     "data": {
      "application/vnd.jupyter.widget-view+json": {
       "model_id": "ed7b51c9ad0940398cff26d0fc3ab378",
       "version_major": 2,
       "version_minor": 0
      },
      "text/plain": [
       "Getting Species name:   0%|          | 0/15104 [00:00<?, ?it/s]"
      ]
     },
     "metadata": {},
     "output_type": "display_data"
    }
   ],
   "source": [
    "df['Species family'] = df['Species taxonomic ID'].progress_apply(getRankName, rank='family')"
   ]
  },
  {
   "cell_type": "code",
   "execution_count": 37,
   "metadata": {},
   "outputs": [
    {
     "data": {
      "text/plain": [
       "array(['Bacteria', 'Archaea', 'Eukaryota', 'Viruses', 'IncJ plasmid R391',\n",
       "       'uncultured organism', 'metagenome', 'Plasmid pFKY1',\n",
       "       'human gut metagenome', 'marine metagenome',\n",
       "       'mine drainage metagenome', 'marine sediment metagenome',\n",
       "       'freshwater metagenome',\n",
       "       'uncultured marine microorganism HF4000_005I08',\n",
       "       'wastewater metagenome', 'hydrothermal vent metagenome',\n",
       "       'sediment metagenome', 'viral metagenome', 'biofilter metagenome',\n",
       "       'bioreactor metagenome', 'anaerobic digester metagenome',\n",
       "       'plant metagenome', 'invertebrate metagenome'], dtype=object)"
      ]
     },
     "execution_count": 37,
     "metadata": {},
     "output_type": "execute_result"
    }
   ],
   "source": [
    "df['Species superkingdom'].unique()"
   ]
  },
  {
   "cell_type": "code",
   "execution_count": 38,
   "metadata": {},
   "outputs": [],
   "source": [
    "df = df[df['Species superkingdom'] == 'Viruses']"
   ]
  },
  {
   "cell_type": "code",
   "execution_count": 39,
   "metadata": {},
   "outputs": [
    {
     "data": {
      "text/html": [
       "<div>\n",
       "<style scoped>\n",
       "    .dataframe tbody tr th:only-of-type {\n",
       "        vertical-align: middle;\n",
       "    }\n",
       "\n",
       "    .dataframe tbody tr th {\n",
       "        vertical-align: top;\n",
       "    }\n",
       "\n",
       "    .dataframe thead th {\n",
       "        text-align: right;\n",
       "    }\n",
       "</style>\n",
       "<table border=\"1\" class=\"dataframe\">\n",
       "  <thead>\n",
       "    <tr style=\"text-align: right;\">\n",
       "      <th></th>\n",
       "      <th>Species taxonomic ID</th>\n",
       "      <th>Virus hosts</th>\n",
       "      <th>Organism</th>\n",
       "      <th>Protein names</th>\n",
       "      <th>Taxonomic lineage (SPECIES)</th>\n",
       "      <th>Species name</th>\n",
       "      <th>Species superkingdom</th>\n",
       "      <th>Species family</th>\n",
       "    </tr>\n",
       "  </thead>\n",
       "  <tbody>\n",
       "    <tr>\n",
       "      <th>5898</th>\n",
       "      <td>1606498</td>\n",
       "      <td></td>\n",
       "      <td>bat polyomavirus 3a-A1055</td>\n",
       "      <td>Minor capsid protein VP2 (Minor structural pro...</td>\n",
       "      <td>Artibeus planirostris polyomavirus 2</td>\n",
       "      <td>Artibeus planirostris polyomavirus 2</td>\n",
       "      <td>Viruses</td>\n",
       "      <td>Polyomaviridae</td>\n",
       "    </tr>\n",
       "    <tr>\n",
       "      <th>13242</th>\n",
       "      <td>2599833</td>\n",
       "      <td></td>\n",
       "      <td>Arthrobacter phage Shepard</td>\n",
       "      <td>Portal protein</td>\n",
       "      <td>Arthrobacter phage Shepard</td>\n",
       "      <td>Arthrobacter phage Shepard</td>\n",
       "      <td>Viruses</td>\n",
       "      <td>Siphoviridae</td>\n",
       "    </tr>\n",
       "    <tr>\n",
       "      <th>10580</th>\n",
       "      <td>2170404</td>\n",
       "      <td></td>\n",
       "      <td>Glis glis polyomavirus 1</td>\n",
       "      <td>Minor capsid protein VP2 (Minor structural pro...</td>\n",
       "      <td>Glis glis polyomavirus 1</td>\n",
       "      <td>Glis glis polyomavirus 1</td>\n",
       "      <td>Viruses</td>\n",
       "      <td>Polyomaviridae</td>\n",
       "    </tr>\n",
       "    <tr>\n",
       "      <th>8675</th>\n",
       "      <td>1980468</td>\n",
       "      <td></td>\n",
       "      <td>El Moro Canyon orthohantavirus</td>\n",
       "      <td>Envelope polyprotein (M polyprotein)</td>\n",
       "      <td>El Moro Canyon orthohantavirus</td>\n",
       "      <td>El Moro Canyon orthohantavirus</td>\n",
       "      <td>Viruses</td>\n",
       "      <td>Hantaviridae</td>\n",
       "    </tr>\n",
       "    <tr>\n",
       "      <th>5397</th>\n",
       "      <td>1476886</td>\n",
       "      <td></td>\n",
       "      <td>Lactococcus phage P078</td>\n",
       "      <td>Tail length tape-measure protein</td>\n",
       "      <td>Lactococcus phage P078</td>\n",
       "      <td>Lactococcus phage P078</td>\n",
       "      <td>Viruses</td>\n",
       "      <td>Siphoviridae</td>\n",
       "    </tr>\n",
       "  </tbody>\n",
       "</table>\n",
       "</div>"
      ],
      "text/plain": [
       "       Species taxonomic ID Virus hosts                        Organism  \\\n",
       "5898                1606498                   bat polyomavirus 3a-A1055   \n",
       "13242               2599833                  Arthrobacter phage Shepard   \n",
       "10580               2170404                    Glis glis polyomavirus 1   \n",
       "8675                1980468              El Moro Canyon orthohantavirus   \n",
       "5397                1476886                      Lactococcus phage P078   \n",
       "\n",
       "                                           Protein names  \\\n",
       "5898   Minor capsid protein VP2 (Minor structural pro...   \n",
       "13242                                     Portal protein   \n",
       "10580  Minor capsid protein VP2 (Minor structural pro...   \n",
       "8675                Envelope polyprotein (M polyprotein)   \n",
       "5397                    Tail length tape-measure protein   \n",
       "\n",
       "                Taxonomic lineage (SPECIES)  \\\n",
       "5898   Artibeus planirostris polyomavirus 2   \n",
       "13242            Arthrobacter phage Shepard   \n",
       "10580              Glis glis polyomavirus 1   \n",
       "8675         El Moro Canyon orthohantavirus   \n",
       "5397                 Lactococcus phage P078   \n",
       "\n",
       "                               Species name Species superkingdom  \\\n",
       "5898   Artibeus planirostris polyomavirus 2              Viruses   \n",
       "13242            Arthrobacter phage Shepard              Viruses   \n",
       "10580              Glis glis polyomavirus 1              Viruses   \n",
       "8675         El Moro Canyon orthohantavirus              Viruses   \n",
       "5397                 Lactococcus phage P078              Viruses   \n",
       "\n",
       "       Species family  \n",
       "5898   Polyomaviridae  \n",
       "13242    Siphoviridae  \n",
       "10580  Polyomaviridae  \n",
       "8675     Hantaviridae  \n",
       "5397     Siphoviridae  "
      ]
     },
     "execution_count": 39,
     "metadata": {},
     "output_type": "execute_result"
    }
   ],
   "source": [
    "df.sample(5)"
   ]
  },
  {
   "cell_type": "code",
   "execution_count": 40,
   "metadata": {},
   "outputs": [],
   "source": [
    "df.drop(['Taxonomic lineage (SPECIES)'], axis=1, inplace=True)"
   ]
  },
  {
   "cell_type": "code",
   "execution_count": 44,
   "metadata": {},
   "outputs": [],
   "source": [
    "df['Virus hosts'] = np.where(df['Virus hosts']=='', np.nan, df['Virus hosts'])"
   ]
  },
  {
   "cell_type": "code",
   "execution_count": 45,
   "metadata": {},
   "outputs": [
    {
     "data": {
      "text/html": [
       "<div>\n",
       "<style scoped>\n",
       "    .dataframe tbody tr th:only-of-type {\n",
       "        vertical-align: middle;\n",
       "    }\n",
       "\n",
       "    .dataframe tbody tr th {\n",
       "        vertical-align: top;\n",
       "    }\n",
       "\n",
       "    .dataframe thead th {\n",
       "        text-align: right;\n",
       "    }\n",
       "</style>\n",
       "<table border=\"1\" class=\"dataframe\">\n",
       "  <thead>\n",
       "    <tr style=\"text-align: right;\">\n",
       "      <th></th>\n",
       "      <th>Species taxonomic ID</th>\n",
       "      <th>Virus hosts</th>\n",
       "      <th>Organism</th>\n",
       "      <th>Protein names</th>\n",
       "      <th>Species name</th>\n",
       "      <th>Species superkingdom</th>\n",
       "      <th>Species family</th>\n",
       "    </tr>\n",
       "  </thead>\n",
       "  <tbody>\n",
       "    <tr>\n",
       "      <th>11842</th>\n",
       "      <td>2510151</td>\n",
       "      <td>NaN</td>\n",
       "      <td>Staphylococcus phage Sa30</td>\n",
       "      <td>Uncharacterized protein</td>\n",
       "      <td>Staphylococcus phage Sa30</td>\n",
       "      <td>Viruses</td>\n",
       "      <td>Herelleviridae</td>\n",
       "    </tr>\n",
       "    <tr>\n",
       "      <th>8908</th>\n",
       "      <td>1985983</td>\n",
       "      <td>NaN</td>\n",
       "      <td>Chicken picornavirus 3</td>\n",
       "      <td>Genome polyprotein (P1C) (P1D) (Protein 2C) (P...</td>\n",
       "      <td>Avisivirus C</td>\n",
       "      <td>Viruses</td>\n",
       "      <td>Picornaviridae</td>\n",
       "    </tr>\n",
       "    <tr>\n",
       "      <th>2452</th>\n",
       "      <td>320839</td>\n",
       "      <td>NaN</td>\n",
       "      <td>Staphylococcus virus 47</td>\n",
       "      <td>Integrase; ORF009</td>\n",
       "      <td>Staphylococcus virus 47</td>\n",
       "      <td>Viruses</td>\n",
       "      <td>Siphoviridae</td>\n",
       "    </tr>\n",
       "    <tr>\n",
       "      <th>11339</th>\n",
       "      <td>2447815</td>\n",
       "      <td>NaN</td>\n",
       "      <td>Rhinolophus ferrumequinum polyomavirus 2</td>\n",
       "      <td>Minor capsid protein VP2 (Minor structural pro...</td>\n",
       "      <td>Rhinolophus ferrumequinum polyomavirus 2</td>\n",
       "      <td>Viruses</td>\n",
       "      <td>Polyomaviridae</td>\n",
       "    </tr>\n",
       "    <tr>\n",
       "      <th>13125</th>\n",
       "      <td>2592199</td>\n",
       "      <td>NaN</td>\n",
       "      <td>Salmonella phage SE20</td>\n",
       "      <td>Portal protein</td>\n",
       "      <td>Salmonella phage SE20</td>\n",
       "      <td>Viruses</td>\n",
       "      <td>Demerecviridae</td>\n",
       "    </tr>\n",
       "  </tbody>\n",
       "</table>\n",
       "</div>"
      ],
      "text/plain": [
       "       Species taxonomic ID Virus hosts  \\\n",
       "11842               2510151         NaN   \n",
       "8908                1985983         NaN   \n",
       "2452                 320839         NaN   \n",
       "11339               2447815         NaN   \n",
       "13125               2592199         NaN   \n",
       "\n",
       "                                       Organism  \\\n",
       "11842                 Staphylococcus phage Sa30   \n",
       "8908                     Chicken picornavirus 3   \n",
       "2452                    Staphylococcus virus 47   \n",
       "11339  Rhinolophus ferrumequinum polyomavirus 2   \n",
       "13125                     Salmonella phage SE20   \n",
       "\n",
       "                                           Protein names  \\\n",
       "11842                            Uncharacterized protein   \n",
       "8908   Genome polyprotein (P1C) (P1D) (Protein 2C) (P...   \n",
       "2452                                   Integrase; ORF009   \n",
       "11339  Minor capsid protein VP2 (Minor structural pro...   \n",
       "13125                                     Portal protein   \n",
       "\n",
       "                                   Species name Species superkingdom  \\\n",
       "11842                 Staphylococcus phage Sa30              Viruses   \n",
       "8908                               Avisivirus C              Viruses   \n",
       "2452                    Staphylococcus virus 47              Viruses   \n",
       "11339  Rhinolophus ferrumequinum polyomavirus 2              Viruses   \n",
       "13125                     Salmonella phage SE20              Viruses   \n",
       "\n",
       "       Species family  \n",
       "11842  Herelleviridae  \n",
       "8908   Picornaviridae  \n",
       "2452     Siphoviridae  \n",
       "11339  Polyomaviridae  \n",
       "13125  Demerecviridae  "
      ]
     },
     "execution_count": 45,
     "metadata": {},
     "output_type": "execute_result"
    }
   ],
   "source": [
    "df[df['Virus hosts'].isnull()].sample(5)"
   ]
  },
  {
   "cell_type": "code",
   "execution_count": 46,
   "metadata": {},
   "outputs": [],
   "source": [
    "df.drop('Organism', axis=1, inplace=True)"
   ]
  },
  {
   "cell_type": "code",
   "execution_count": 47,
   "metadata": {},
   "outputs": [],
   "source": [
    "# List of viruses which do not have assigned hosts in the data\n",
    "noHostViruses = df[df['Virus hosts'].isnull()]['Species name'].unique().tolist()"
   ]
  },
  {
   "cell_type": "code",
   "execution_count": 48,
   "metadata": {},
   "outputs": [],
   "source": [
    "# Create independent dataframe of viruses with no assigned host and simltaneously identify the same viruses from the data \n",
    "# whcih already have assigned hosts and assign host names based on those. \n",
    "df_na_hosts = df[(~df['Virus hosts'].isnull()) & (df['Species name'].isin(noHostViruses))][['Species name', 'Virus hosts']]\n",
    "df_na_hosts = df_na_hosts.groupby('Species name')['Virus hosts'].apply(list)\n",
    "df_na_hosts = df_na_hosts.reset_index(name='Viral hosts nw')"
   ]
  },
  {
   "cell_type": "code",
   "execution_count": 49,
   "metadata": {},
   "outputs": [],
   "source": [
    "# # Previous code reurns a list for multiple host so this code melts the lists into regular string entries\n",
    "df_na_hosts['Viral hosts nw'] = (df_na_hosts['Viral hosts nw']\n",
    "                                 .swifter.progress_bar(desc='Joining host names list', enable=True)\n",
    "                                 .apply('; '.join))"
   ]
  },
  {
   "cell_type": "code",
   "execution_count": 50,
   "metadata": {},
   "outputs": [],
   "source": [
    "# # updates the viruses hosts\n",
    "df_naa = (df[df['Virus hosts'].isnull()]\n",
    "          .merge(df_na_hosts, on='Species name', how='left')\n",
    "          .drop('Virus hosts', axis=1)\n",
    "          .rename({'Viral hosts nw':'Virus hosts'}, axis=1))"
   ]
  },
  {
   "cell_type": "code",
   "execution_count": 51,
   "metadata": {},
   "outputs": [],
   "source": [
    "# Creates independant dataset with viruses which have hosts\n",
    "df_notna = df[~df['Virus hosts'].isnull()]"
   ]
  },
  {
   "cell_type": "code",
   "execution_count": 52,
   "metadata": {},
   "outputs": [],
   "source": [
    "# merges the updated virus hosts dataset with the dataset with viruses which have hosts\n",
    "df = df_naa.append(df_notna)"
   ]
  },
  {
   "cell_type": "code",
   "execution_count": 53,
   "metadata": {},
   "outputs": [
    {
     "data": {
      "text/plain": [
       "(8113, 6)"
      ]
     },
     "execution_count": 53,
     "metadata": {},
     "output_type": "execute_result"
    }
   ],
   "source": [
    "df.shape"
   ]
  },
  {
   "cell_type": "code",
   "execution_count": 54,
   "metadata": {},
   "outputs": [
    {
     "data": {
      "text/html": [
       "<div>\n",
       "<style scoped>\n",
       "    .dataframe tbody tr th:only-of-type {\n",
       "        vertical-align: middle;\n",
       "    }\n",
       "\n",
       "    .dataframe tbody tr th {\n",
       "        vertical-align: top;\n",
       "    }\n",
       "\n",
       "    .dataframe thead th {\n",
       "        text-align: right;\n",
       "    }\n",
       "</style>\n",
       "<table border=\"1\" class=\"dataframe\">\n",
       "  <thead>\n",
       "    <tr style=\"text-align: right;\">\n",
       "      <th></th>\n",
       "      <th>Species taxonomic ID</th>\n",
       "      <th>Protein names</th>\n",
       "      <th>Species name</th>\n",
       "      <th>Species superkingdom</th>\n",
       "      <th>Species family</th>\n",
       "      <th>Virus hosts</th>\n",
       "    </tr>\n",
       "  </thead>\n",
       "  <tbody>\n",
       "    <tr>\n",
       "      <th>5454</th>\n",
       "      <td>2560564</td>\n",
       "      <td>G protein</td>\n",
       "      <td>Lophuromys jeilongvirus 2</td>\n",
       "      <td>Viruses</td>\n",
       "      <td>Paramyxoviridae</td>\n",
       "      <td>NaN</td>\n",
       "    </tr>\n",
       "    <tr>\n",
       "      <th>4404</th>\n",
       "      <td>2301528</td>\n",
       "      <td>Portal protein</td>\n",
       "      <td>Lentibacter virus vB_LenP_ICBM1</td>\n",
       "      <td>Viruses</td>\n",
       "      <td>Podoviridae</td>\n",
       "      <td>NaN</td>\n",
       "    </tr>\n",
       "    <tr>\n",
       "      <th>1977</th>\n",
       "      <td>1636724</td>\n",
       "      <td>Portal protein</td>\n",
       "      <td>Lactococcus phage 936 group phage PhiA.16</td>\n",
       "      <td>Viruses</td>\n",
       "      <td>Siphoviridae</td>\n",
       "      <td>NaN</td>\n",
       "    </tr>\n",
       "    <tr>\n",
       "      <th>5086</th>\n",
       "      <td>2548025</td>\n",
       "      <td>Integrase</td>\n",
       "      <td>Streptococcus phage Javan178</td>\n",
       "      <td>Viruses</td>\n",
       "      <td>Siphoviridae</td>\n",
       "      <td>NaN</td>\n",
       "    </tr>\n",
       "    <tr>\n",
       "      <th>1138</th>\n",
       "      <td>1090133</td>\n",
       "      <td>Integrase</td>\n",
       "      <td>Enterobacteria phage IME10</td>\n",
       "      <td>Viruses</td>\n",
       "      <td>Podoviridae</td>\n",
       "      <td>NaN</td>\n",
       "    </tr>\n",
       "  </tbody>\n",
       "</table>\n",
       "</div>"
      ],
      "text/plain": [
       "      Species taxonomic ID   Protein names  \\\n",
       "5454               2560564       G protein   \n",
       "4404               2301528  Portal protein   \n",
       "1977               1636724  Portal protein   \n",
       "5086               2548025       Integrase   \n",
       "1138               1090133       Integrase   \n",
       "\n",
       "                                   Species name Species superkingdom  \\\n",
       "5454                  Lophuromys jeilongvirus 2              Viruses   \n",
       "4404            Lentibacter virus vB_LenP_ICBM1              Viruses   \n",
       "1977  Lactococcus phage 936 group phage PhiA.16              Viruses   \n",
       "5086               Streptococcus phage Javan178              Viruses   \n",
       "1138                 Enterobacteria phage IME10              Viruses   \n",
       "\n",
       "       Species family Virus hosts  \n",
       "5454  Paramyxoviridae         NaN  \n",
       "4404      Podoviridae         NaN  \n",
       "1977     Siphoviridae         NaN  \n",
       "5086     Siphoviridae         NaN  \n",
       "1138      Podoviridae         NaN  "
      ]
     },
     "execution_count": 54,
     "metadata": {},
     "output_type": "execute_result"
    }
   ],
   "source": [
    "df.sample(5)"
   ]
  },
  {
   "cell_type": "code",
   "execution_count": 55,
   "metadata": {},
   "outputs": [
    {
     "name": "stdout",
     "output_type": "stream",
     "text": [
      "(7512, 6)\n"
     ]
    },
    {
     "data": {
      "text/html": [
       "<div>\n",
       "<style scoped>\n",
       "    .dataframe tbody tr th:only-of-type {\n",
       "        vertical-align: middle;\n",
       "    }\n",
       "\n",
       "    .dataframe tbody tr th {\n",
       "        vertical-align: top;\n",
       "    }\n",
       "\n",
       "    .dataframe thead th {\n",
       "        text-align: right;\n",
       "    }\n",
       "</style>\n",
       "<table border=\"1\" class=\"dataframe\">\n",
       "  <thead>\n",
       "    <tr style=\"text-align: right;\">\n",
       "      <th></th>\n",
       "      <th>Species taxonomic ID</th>\n",
       "      <th>Protein names</th>\n",
       "      <th>Species name</th>\n",
       "      <th>Species superkingdom</th>\n",
       "      <th>Species family</th>\n",
       "      <th>Virus hosts</th>\n",
       "    </tr>\n",
       "  </thead>\n",
       "  <tbody>\n",
       "    <tr>\n",
       "      <th>7221</th>\n",
       "      <td>2734284</td>\n",
       "      <td>Portal protein</td>\n",
       "      <td>Gordonia virus Trine</td>\n",
       "      <td>Viruses</td>\n",
       "      <td>Siphoviridae</td>\n",
       "      <td>NaN</td>\n",
       "    </tr>\n",
       "    <tr>\n",
       "      <th>693</th>\n",
       "      <td>500654</td>\n",
       "      <td>Major capsid protein L1; Minor capsid protein L2</td>\n",
       "      <td>Bandicoot papillomatosis carcinomatosis virus ...</td>\n",
       "      <td>Viruses</td>\n",
       "      <td>Papillomaviridae</td>\n",
       "      <td>NaN</td>\n",
       "    </tr>\n",
       "    <tr>\n",
       "      <th>132</th>\n",
       "      <td>64300</td>\n",
       "      <td>Core protein (EC 3.4.21.91) (EC 3.6.1.15) (EC ...</td>\n",
       "      <td>Modoc virus</td>\n",
       "      <td>Viruses</td>\n",
       "      <td>Flaviviridae</td>\n",
       "      <td>NaN</td>\n",
       "    </tr>\n",
       "  </tbody>\n",
       "</table>\n",
       "</div>"
      ],
      "text/plain": [
       "      Species taxonomic ID                                      Protein names  \\\n",
       "7221               2734284                                     Portal protein   \n",
       "693                 500654   Major capsid protein L1; Minor capsid protein L2   \n",
       "132                  64300  Core protein (EC 3.4.21.91) (EC 3.6.1.15) (EC ...   \n",
       "\n",
       "                                           Species name Species superkingdom  \\\n",
       "7221                               Gordonia virus Trine              Viruses   \n",
       "693   Bandicoot papillomatosis carcinomatosis virus ...              Viruses   \n",
       "132                                         Modoc virus              Viruses   \n",
       "\n",
       "        Species family Virus hosts  \n",
       "7221      Siphoviridae         NaN  \n",
       "693   Papillomaviridae         NaN  \n",
       "132       Flaviviridae         NaN  "
      ]
     },
     "execution_count": 55,
     "metadata": {},
     "output_type": "execute_result"
    }
   ],
   "source": [
    "print(df[df['Virus hosts'].isnull()].shape)\n",
    "df[df['Virus hosts'].isnull()].sample(3)"
   ]
  },
  {
   "cell_type": "code",
   "execution_count": 56,
   "metadata": {},
   "outputs": [],
   "source": [
    "df['Virus hosts'] = np.where(df['Virus hosts'].isnull(), '',df['Virus hosts'])"
   ]
  },
  {
   "cell_type": "code",
   "execution_count": 57,
   "metadata": {},
   "outputs": [
    {
     "data": {
      "text/html": [
       "<div>\n",
       "<style scoped>\n",
       "    .dataframe tbody tr th:only-of-type {\n",
       "        vertical-align: middle;\n",
       "    }\n",
       "\n",
       "    .dataframe tbody tr th {\n",
       "        vertical-align: top;\n",
       "    }\n",
       "\n",
       "    .dataframe thead th {\n",
       "        text-align: right;\n",
       "    }\n",
       "</style>\n",
       "<table border=\"1\" class=\"dataframe\">\n",
       "  <thead>\n",
       "    <tr style=\"text-align: right;\">\n",
       "      <th></th>\n",
       "      <th>Species taxonomic ID</th>\n",
       "      <th>Protein names</th>\n",
       "      <th>Species name</th>\n",
       "      <th>Species superkingdom</th>\n",
       "      <th>Species family</th>\n",
       "      <th>Virus hosts</th>\n",
       "    </tr>\n",
       "  </thead>\n",
       "  <tbody>\n",
       "    <tr>\n",
       "      <th>924</th>\n",
       "      <td>768739</td>\n",
       "      <td>Envelope glycoprotein L (gL); Envelope glycopr...</td>\n",
       "      <td>Elephant endotheliotropic herpesvirus 6</td>\n",
       "      <td>Viruses</td>\n",
       "      <td>Herpesviridae</td>\n",
       "      <td></td>\n",
       "    </tr>\n",
       "    <tr>\n",
       "      <th>2330</th>\n",
       "      <td>1868220</td>\n",
       "      <td>Cap</td>\n",
       "      <td>Bat associated circovirus 3</td>\n",
       "      <td>Viruses</td>\n",
       "      <td>Circoviridae</td>\n",
       "      <td></td>\n",
       "    </tr>\n",
       "    <tr>\n",
       "      <th>3805</th>\n",
       "      <td>2064743</td>\n",
       "      <td>Pre-histone-like nucleoprotein (Pre-core prote...</td>\n",
       "      <td>Rhesus adenovirus 67</td>\n",
       "      <td>Viruses</td>\n",
       "      <td>Adenoviridae</td>\n",
       "      <td></td>\n",
       "    </tr>\n",
       "  </tbody>\n",
       "</table>\n",
       "</div>"
      ],
      "text/plain": [
       "      Species taxonomic ID                                      Protein names  \\\n",
       "924                 768739  Envelope glycoprotein L (gL); Envelope glycopr...   \n",
       "2330               1868220                                                Cap   \n",
       "3805               2064743  Pre-histone-like nucleoprotein (Pre-core prote...   \n",
       "\n",
       "                                 Species name Species superkingdom  \\\n",
       "924   Elephant endotheliotropic herpesvirus 6              Viruses   \n",
       "2330              Bat associated circovirus 3              Viruses   \n",
       "3805                     Rhesus adenovirus 67              Viruses   \n",
       "\n",
       "     Species family Virus hosts  \n",
       "924   Herpesviridae              \n",
       "2330   Circoviridae              \n",
       "3805   Adenoviridae              "
      ]
     },
     "execution_count": 57,
     "metadata": {},
     "output_type": "execute_result"
    }
   ],
   "source": [
    "df.sample(3)"
   ]
  },
  {
   "cell_type": "code",
   "execution_count": 58,
   "metadata": {},
   "outputs": [],
   "source": [
    "df = mergeRows(df, 'Species taxonomic ID','Virus hosts')"
   ]
  },
  {
   "cell_type": "code",
   "execution_count": 59,
   "metadata": {},
   "outputs": [
    {
     "data": {
      "text/html": [
       "<div>\n",
       "<style scoped>\n",
       "    .dataframe tbody tr th:only-of-type {\n",
       "        vertical-align: middle;\n",
       "    }\n",
       "\n",
       "    .dataframe tbody tr th {\n",
       "        vertical-align: top;\n",
       "    }\n",
       "\n",
       "    .dataframe thead th {\n",
       "        text-align: right;\n",
       "    }\n",
       "</style>\n",
       "<table border=\"1\" class=\"dataframe\">\n",
       "  <thead>\n",
       "    <tr style=\"text-align: right;\">\n",
       "      <th></th>\n",
       "      <th>Species taxonomic ID</th>\n",
       "      <th>Virus hosts</th>\n",
       "      <th>Protein names</th>\n",
       "      <th>Species name</th>\n",
       "      <th>Species superkingdom</th>\n",
       "      <th>Species family</th>\n",
       "    </tr>\n",
       "  </thead>\n",
       "  <tbody>\n",
       "    <tr>\n",
       "      <th>161</th>\n",
       "      <td>11320</td>\n",
       "      <td>; Aves [TaxID: 8782]; Phocidae (true seals) [T...</td>\n",
       "      <td>Hemagglutinin HA2 chain]; Hemagglutinin [Cleav...</td>\n",
       "      <td>Influenza A virus</td>\n",
       "      <td>Viruses</td>\n",
       "      <td>Orthomyxoviridae</td>\n",
       "    </tr>\n",
       "  </tbody>\n",
       "</table>\n",
       "</div>"
      ],
      "text/plain": [
       "     Species taxonomic ID                                        Virus hosts  \\\n",
       "161                 11320  ; Aves [TaxID: 8782]; Phocidae (true seals) [T...   \n",
       "\n",
       "                                         Protein names       Species name  \\\n",
       "161  Hemagglutinin HA2 chain]; Hemagglutinin [Cleav...  Influenza A virus   \n",
       "\n",
       "    Species superkingdom    Species family  \n",
       "161              Viruses  Orthomyxoviridae  "
      ]
     },
     "execution_count": 59,
     "metadata": {},
     "output_type": "execute_result"
    }
   ],
   "source": [
    "df[(df['Species name'].str.contains('Influenza A virus')) & (df['Virus hosts'] != '')]"
   ]
  },
  {
   "cell_type": "code",
   "execution_count": 60,
   "metadata": {},
   "outputs": [
    {
     "data": {
      "text/html": [
       "<div>\n",
       "<style scoped>\n",
       "    .dataframe tbody tr th:only-of-type {\n",
       "        vertical-align: middle;\n",
       "    }\n",
       "\n",
       "    .dataframe tbody tr th {\n",
       "        vertical-align: top;\n",
       "    }\n",
       "\n",
       "    .dataframe thead th {\n",
       "        text-align: right;\n",
       "    }\n",
       "</style>\n",
       "<table border=\"1\" class=\"dataframe\">\n",
       "  <thead>\n",
       "    <tr style=\"text-align: right;\">\n",
       "      <th></th>\n",
       "      <th>Species taxonomic ID</th>\n",
       "      <th>Virus hosts</th>\n",
       "      <th>Protein names</th>\n",
       "      <th>Species name</th>\n",
       "      <th>Species superkingdom</th>\n",
       "      <th>Species family</th>\n",
       "    </tr>\n",
       "  </thead>\n",
       "  <tbody>\n",
       "    <tr>\n",
       "      <th>5661</th>\n",
       "      <td>2548013</td>\n",
       "      <td></td>\n",
       "      <td>Portal protein</td>\n",
       "      <td>Streptococcus phage Javan159</td>\n",
       "      <td>Viruses</td>\n",
       "      <td>Siphoviridae</td>\n",
       "    </tr>\n",
       "    <tr>\n",
       "      <th>1367</th>\n",
       "      <td>759390</td>\n",
       "      <td></td>\n",
       "      <td>Capsid protein (Coat protein)</td>\n",
       "      <td>Sida golden mottle virus</td>\n",
       "      <td>Viruses</td>\n",
       "      <td>Geminiviridae</td>\n",
       "    </tr>\n",
       "    <tr>\n",
       "      <th>18</th>\n",
       "      <td>10320</td>\n",
       "      <td>; Bos taurus (Bovine) [TaxID: 9913]</td>\n",
       "      <td>Envelope glycoprotein L; Envelope glycoprotein...</td>\n",
       "      <td>Bovine alphaherpesvirus 1</td>\n",
       "      <td>Viruses</td>\n",
       "      <td>Herpesviridae</td>\n",
       "    </tr>\n",
       "  </tbody>\n",
       "</table>\n",
       "</div>"
      ],
      "text/plain": [
       "      Species taxonomic ID                          Virus hosts  \\\n",
       "5661               2548013                                        \n",
       "1367                759390                                        \n",
       "18                   10320  ; Bos taurus (Bovine) [TaxID: 9913]   \n",
       "\n",
       "                                          Protein names  \\\n",
       "5661                                     Portal protein   \n",
       "1367                      Capsid protein (Coat protein)   \n",
       "18    Envelope glycoprotein L; Envelope glycoprotein...   \n",
       "\n",
       "                      Species name Species superkingdom Species family  \n",
       "5661  Streptococcus phage Javan159              Viruses   Siphoviridae  \n",
       "1367      Sida golden mottle virus              Viruses  Geminiviridae  \n",
       "18       Bovine alphaherpesvirus 1              Viruses  Herpesviridae  "
      ]
     },
     "execution_count": 60,
     "metadata": {},
     "output_type": "execute_result"
    }
   ],
   "source": [
    "df.sample(3)"
   ]
  },
  {
   "cell_type": "code",
   "execution_count": 61,
   "metadata": {},
   "outputs": [],
   "source": [
    "dfna = df[df['Virus hosts'] == '']\n",
    "df = df[~(df['Virus hosts'] == '')]"
   ]
  },
  {
   "cell_type": "code",
   "execution_count": 62,
   "metadata": {},
   "outputs": [
    {
     "data": {
      "text/plain": [
       "(7512, 6)"
      ]
     },
     "execution_count": 62,
     "metadata": {},
     "output_type": "execute_result"
    }
   ],
   "source": [
    "dfna.shape"
   ]
  },
  {
   "cell_type": "code",
   "execution_count": 63,
   "metadata": {},
   "outputs": [
    {
     "data": {
      "text/plain": [
       "(601, 6)"
      ]
     },
     "execution_count": 63,
     "metadata": {},
     "output_type": "execute_result"
    }
   ],
   "source": [
    "df.shape"
   ]
  },
  {
   "cell_type": "markdown",
   "metadata": {},
   "source": [
    "# Updating host names from external sources"
   ]
  },
  {
   "cell_type": "code",
   "execution_count": 64,
   "metadata": {},
   "outputs": [
    {
     "data": {
      "text/plain": [
       "(2599675, 3)"
      ]
     },
     "execution_count": 64,
     "metadata": {},
     "output_type": "execute_result"
    }
   ],
   "source": [
    "df2 = pd.read_csv('../data/sequences.csv')\n",
    "df2.shape"
   ]
  },
  {
   "cell_type": "code",
   "execution_count": 65,
   "metadata": {},
   "outputs": [
    {
     "data": {
      "text/html": [
       "<div>\n",
       "<style scoped>\n",
       "    .dataframe tbody tr th:only-of-type {\n",
       "        vertical-align: middle;\n",
       "    }\n",
       "\n",
       "    .dataframe tbody tr th {\n",
       "        vertical-align: top;\n",
       "    }\n",
       "\n",
       "    .dataframe thead th {\n",
       "        text-align: right;\n",
       "    }\n",
       "</style>\n",
       "<table border=\"1\" class=\"dataframe\">\n",
       "  <thead>\n",
       "    <tr style=\"text-align: right;\">\n",
       "      <th></th>\n",
       "      <th>Species</th>\n",
       "      <th>Molecule_type</th>\n",
       "      <th>Host</th>\n",
       "    </tr>\n",
       "  </thead>\n",
       "  <tbody>\n",
       "    <tr>\n",
       "      <th>2425601</th>\n",
       "      <td>Human immunodeficiency virus 1</td>\n",
       "      <td>ssRNA-RT</td>\n",
       "      <td>Homo sapiens</td>\n",
       "    </tr>\n",
       "    <tr>\n",
       "      <th>2484045</th>\n",
       "      <td>Influenza A virus</td>\n",
       "      <td>ssRNA(-)</td>\n",
       "      <td>Homo sapiens</td>\n",
       "    </tr>\n",
       "  </tbody>\n",
       "</table>\n",
       "</div>"
      ],
      "text/plain": [
       "                                Species Molecule_type          Host\n",
       "2425601  Human immunodeficiency virus 1      ssRNA-RT  Homo sapiens\n",
       "2484045               Influenza A virus      ssRNA(-)  Homo sapiens"
      ]
     },
     "execution_count": 65,
     "metadata": {},
     "output_type": "execute_result"
    }
   ],
   "source": [
    "df2.sample(2)"
   ]
  },
  {
   "cell_type": "code",
   "execution_count": 66,
   "metadata": {},
   "outputs": [
    {
     "data": {
      "text/plain": [
       "(10956, 3)"
      ]
     },
     "execution_count": 66,
     "metadata": {},
     "output_type": "execute_result"
    }
   ],
   "source": [
    "df2.drop_duplicates(inplace=True)\n",
    "df2.shape"
   ]
  },
  {
   "cell_type": "code",
   "execution_count": 67,
   "metadata": {
    "scrolled": true,
    "tags": []
   },
   "outputs": [
    {
     "data": {
      "application/vnd.jupyter.widget-view+json": {
       "model_id": "f55d70b527e74fa198643dd3d23f195c",
       "version_major": 2,
       "version_minor": 0
      },
      "text/plain": [
       "Getting Species name:   0%|          | 0/10956 [00:00<?, ?it/s]"
      ]
     },
     "metadata": {},
     "output_type": "display_data"
    },
    {
     "name": "stdout",
     "output_type": "stream",
     "text": [
      "'nan'\n",
      "'nan'\n",
      "'nan'\n",
      "'nan'\n"
     ]
    },
    {
     "data": {
      "application/vnd.jupyter.widget-view+json": {
       "model_id": "37388a28b61442b3bfee35e6ab2b0e7c",
       "version_major": 2,
       "version_minor": 0
      },
      "text/plain": [
       "Getting Species name:   0%|          | 0/10956 [00:00<?, ?it/s]"
      ]
     },
     "metadata": {},
     "output_type": "display_data"
    },
    {
     "name": "stdout",
     "output_type": "stream",
     "text": [
      "'Bolomys lasiurus'\n",
      "'Bolomys lasiurus'\n",
      "'Pipistrellus sp. pipistrellus/pygmaeus AO-2021'\n",
      "'Pipistrellus musciculus'\n",
      "'Funisciurus bayonii'\n",
      "'Rattus sp. r3 YH-2020'\n",
      "'Rattus sp. r3 YH-2020'\n",
      "'Soricidae sp. YH-2020'\n",
      "'Rattus sp. r3 YH-2020'\n",
      "'Rattus sp. r3 YH-2020'\n",
      "'Acomys selousi'\n",
      "'Rhinolophus smithersi'\n",
      "'Alouatta sp.'\n",
      "'Pipistrellys abramus'\n",
      "'Sturnira angeli'\n",
      "'Sturnira angeli'\n",
      "'Hipposideros curtus'\n",
      "'Pipistrellus inexspectatus'\n",
      "'Dobsonia exoleta'\n",
      "'Mops demonstrator'\n",
      "'Pipistrellus musciculus'\n",
      "'Mus sp. TG-2020'\n",
      "'Murinae gen. sp. TG-2020'\n",
      "'Vespadelus baverstocki'\n",
      "'Ozimops sp. DP-2019'\n",
      "'Scoterepens balstoni'\n",
      "'Neoromicia capensis'\n",
      "'Neoromicia capensis'\n",
      "'Mus sp. CL-2019'\n",
      "'Mus sp. CL-2019'\n",
      "'Neoromicia capensis'\n",
      "'Bolomys lasiurus'\n",
      "'Bolomys lasiurus'\n",
      "'Bolomys lasiurus'\n",
      "'Neoromicia capensis'\n",
      "'Neoromicia capensis'\n",
      "'Neoromicia capensis'\n",
      "'Neoromicia capensis'\n",
      "'Bolomys lasiurus'\n",
      "'Pipistrellus inexspectatus'\n",
      "'Chiroptera sp.'\n",
      "'Chaerephon aloysiisabaudiae'\n",
      "'Chiroptera sp.'\n",
      "'Paradoxurus musangus'\n",
      "'Neoromicia capensis'\n",
      "'Natalus lanatus'\n",
      "'Bolomys lasiurus'\n",
      "'Bolomys lasiurus'\n",
      "'Neoromicia capensis'\n",
      "'Neoromicia capensis'\n",
      "'Neoromicia capensis'\n",
      "'Neoromicia capensis'\n",
      "'Neoromicia capensis'\n",
      "'Neoromicia capensis'\n",
      "'Neoromicia capensis'\n",
      "'Neoromicia capensis'\n",
      "'Neoromicia capensis'\n",
      "'Aethomys hindei medicatus'\n",
      "'Sus scrofa ibericus'\n",
      "'Bolomys lasiurus'\n",
      "'Alouatta sp.'\n",
      "'Bolomys lasiurus'\n",
      "'Bolomys lasiurus'\n",
      "'Bolomys lasiurus'\n",
      "'Bolomys lasiurus'\n",
      "'Bolomys lasiurus'\n"
     ]
    }
   ],
   "source": [
    "df2['Species ID'], df2['Host ID'] = df2['Species'].progress_apply(getIDfromName), df2['Host'].progress_apply(getIDfromName)"
   ]
  },
  {
   "cell_type": "code",
   "execution_count": 68,
   "metadata": {},
   "outputs": [
    {
     "data": {
      "text/plain": [
       "(10886, 5)"
      ]
     },
     "execution_count": 68,
     "metadata": {},
     "output_type": "execute_result"
    }
   ],
   "source": [
    "df2.dropna(inplace=True)\n",
    "df2['Species ID'], df2['Host ID'] = df2['Species ID'].astype(int), df2['Host ID'].astype(int)\n",
    "df2.shape"
   ]
  },
  {
   "cell_type": "code",
   "execution_count": 69,
   "metadata": {},
   "outputs": [
    {
     "data": {
      "application/vnd.jupyter.widget-view+json": {
       "model_id": "5396cdff84dc4b55b2518b6810751f29",
       "version_major": 2,
       "version_minor": 0
      },
      "text/plain": [
       "Getting Species name:   0%|          | 0/10886 [00:00<?, ?it/s]"
      ]
     },
     "metadata": {},
     "output_type": "display_data"
    }
   ],
   "source": [
    "df2['Host name'] = df2.progress_apply(lambda x: nameMerger(x['Host'], x['Host ID']), axis=1)\n",
    "# Remove Host and Host ID columns as they have been merged and are no longer needed\n",
    "df2.drop(['Host', 'Host ID'], axis=1, inplace=True)"
   ]
  },
  {
   "cell_type": "code",
   "execution_count": 70,
   "metadata": {},
   "outputs": [
    {
     "data": {
      "application/vnd.jupyter.widget-view+json": {
       "model_id": "96b7aa4b27554eee99b6f600200ef3aa",
       "version_major": 2,
       "version_minor": 0
      },
      "text/plain": [
       "Getting Species name:   0%|          | 0/10886 [00:00<?, ?it/s]"
      ]
     },
     "metadata": {},
     "output_type": "display_data"
    }
   ],
   "source": [
    "df2['Species ID'] = df2['Species ID'].progress_apply(getRankID, rank='species')"
   ]
  },
  {
   "cell_type": "code",
   "execution_count": 71,
   "metadata": {},
   "outputs": [],
   "source": [
    "## Create a copy for later use\n",
    "dfff = df2.copy()"
   ]
  },
  {
   "cell_type": "code",
   "execution_count": 72,
   "metadata": {},
   "outputs": [],
   "source": [
    "# Add host names\n",
    "df_na_hosts = AggregateHosts(df2,'Species ID', 'Host name')\n",
    "dfna = dfna.merge(df_na_hosts, left_on='Species taxonomic ID', right_on='Species ID', how='left')\n",
    "dfna = dfna.drop(['Virus hosts', 'Species ID'], axis=1).rename({'Host name':'Virus hosts'}, axis=1)\n",
    "dfna = UpdateHosts(dfna, df_na_hosts, 'Species taxonomic ID', 'Species ID')\n",
    "df, dfna = UpdateMain(df, dfna)\n",
    "df = mergeRows(df, 'Species taxonomic ID', 'Virus hosts')"
   ]
  },
  {
   "cell_type": "code",
   "execution_count": 73,
   "metadata": {},
   "outputs": [
    {
     "data": {
      "text/plain": [
       "(6476, 6)"
      ]
     },
     "execution_count": 73,
     "metadata": {},
     "output_type": "execute_result"
    }
   ],
   "source": [
    "dfna.shape"
   ]
  },
  {
   "cell_type": "code",
   "execution_count": 74,
   "metadata": {},
   "outputs": [
    {
     "data": {
      "text/plain": [
       "(1637, 6)"
      ]
     },
     "execution_count": 74,
     "metadata": {},
     "output_type": "execute_result"
    }
   ],
   "source": [
    "df.shape"
   ]
  },
  {
   "cell_type": "code",
   "execution_count": 75,
   "metadata": {
    "tags": []
   },
   "outputs": [
    {
     "data": {
      "text/html": [
       "<div>\n",
       "<style scoped>\n",
       "    .dataframe tbody tr th:only-of-type {\n",
       "        vertical-align: middle;\n",
       "    }\n",
       "\n",
       "    .dataframe tbody tr th {\n",
       "        vertical-align: top;\n",
       "    }\n",
       "\n",
       "    .dataframe thead th {\n",
       "        text-align: right;\n",
       "    }\n",
       "</style>\n",
       "<table border=\"1\" class=\"dataframe\">\n",
       "  <thead>\n",
       "    <tr style=\"text-align: right;\">\n",
       "      <th></th>\n",
       "      <th>virus tax id</th>\n",
       "      <th>virus name</th>\n",
       "      <th>virus lineage</th>\n",
       "      <th>refseq id</th>\n",
       "      <th>KEGG GENOME</th>\n",
       "      <th>KEGG DISEASE</th>\n",
       "      <th>DISEASE</th>\n",
       "      <th>host tax id</th>\n",
       "      <th>host name</th>\n",
       "      <th>host lineage</th>\n",
       "      <th>pmid</th>\n",
       "      <th>evidence</th>\n",
       "      <th>sample type</th>\n",
       "      <th>source organism</th>\n",
       "    </tr>\n",
       "  </thead>\n",
       "  <tbody>\n",
       "    <tr>\n",
       "      <th>0</th>\n",
       "      <td>438782</td>\n",
       "      <td>Abaca bunchy top virus</td>\n",
       "      <td>Viruses; Monodnaviria; Shotokuvirae; Cressdnav...</td>\n",
       "      <td>NC_010314, NC_010315, NC_010316, NC_010317, NC...</td>\n",
       "      <td>NaN</td>\n",
       "      <td>NaN</td>\n",
       "      <td>NaN</td>\n",
       "      <td>46838.0</td>\n",
       "      <td>Musa sp.</td>\n",
       "      <td>Eukaryota; Viridiplantae; Streptophyta; Strept...</td>\n",
       "      <td>17978886</td>\n",
       "      <td>Literature, NCBI Virus, RefSeq</td>\n",
       "      <td>NaN</td>\n",
       "      <td>NaN</td>\n",
       "    </tr>\n",
       "    <tr>\n",
       "      <th>1</th>\n",
       "      <td>438782</td>\n",
       "      <td>Abaca bunchy top virus</td>\n",
       "      <td>Viruses; Monodnaviria; Shotokuvirae; Cressdnav...</td>\n",
       "      <td>NC_010314, NC_010315, NC_010316, NC_010317, NC...</td>\n",
       "      <td>NaN</td>\n",
       "      <td>NaN</td>\n",
       "      <td>NaN</td>\n",
       "      <td>214697.0</td>\n",
       "      <td>Musa acuminata AAA Group</td>\n",
       "      <td>Eukaryota; Viridiplantae; Streptophyta; Strept...</td>\n",
       "      <td>17978886</td>\n",
       "      <td>Literature</td>\n",
       "      <td>NaN</td>\n",
       "      <td>NaN</td>\n",
       "    </tr>\n",
       "    <tr>\n",
       "      <th>2</th>\n",
       "      <td>1241371</td>\n",
       "      <td>Abalone herpesvirus Victoria/AUS/2009</td>\n",
       "      <td>Viruses; Duplodnaviria; Heunggongvirae; Peplov...</td>\n",
       "      <td>NC_018874</td>\n",
       "      <td>NaN</td>\n",
       "      <td>NaN</td>\n",
       "      <td>NaN</td>\n",
       "      <td>6451.0</td>\n",
       "      <td>Haliotidae</td>\n",
       "      <td>Eukaryota; Opisthokonta; Metazoa; Eumetazoa; B...</td>\n",
       "      <td>NaN</td>\n",
       "      <td>UniProt</td>\n",
       "      <td>NaN</td>\n",
       "      <td>NaN</td>\n",
       "    </tr>\n",
       "  </tbody>\n",
       "</table>\n",
       "</div>"
      ],
      "text/plain": [
       "   virus tax id                             virus name  \\\n",
       "0        438782                 Abaca bunchy top virus   \n",
       "1        438782                 Abaca bunchy top virus   \n",
       "2       1241371  Abalone herpesvirus Victoria/AUS/2009   \n",
       "\n",
       "                                       virus lineage  \\\n",
       "0  Viruses; Monodnaviria; Shotokuvirae; Cressdnav...   \n",
       "1  Viruses; Monodnaviria; Shotokuvirae; Cressdnav...   \n",
       "2  Viruses; Duplodnaviria; Heunggongvirae; Peplov...   \n",
       "\n",
       "                                           refseq id KEGG GENOME KEGG DISEASE  \\\n",
       "0  NC_010314, NC_010315, NC_010316, NC_010317, NC...         NaN          NaN   \n",
       "1  NC_010314, NC_010315, NC_010316, NC_010317, NC...         NaN          NaN   \n",
       "2                                          NC_018874         NaN          NaN   \n",
       "\n",
       "  DISEASE  host tax id                 host name  \\\n",
       "0     NaN      46838.0                  Musa sp.   \n",
       "1     NaN     214697.0  Musa acuminata AAA Group   \n",
       "2     NaN       6451.0                Haliotidae   \n",
       "\n",
       "                                        host lineage      pmid  \\\n",
       "0  Eukaryota; Viridiplantae; Streptophyta; Strept...  17978886   \n",
       "1  Eukaryota; Viridiplantae; Streptophyta; Strept...  17978886   \n",
       "2  Eukaryota; Opisthokonta; Metazoa; Eumetazoa; B...       NaN   \n",
       "\n",
       "                         evidence sample type  source organism  \n",
       "0  Literature, NCBI Virus, RefSeq         NaN              NaN  \n",
       "1                      Literature         NaN              NaN  \n",
       "2                         UniProt         NaN              NaN  "
      ]
     },
     "execution_count": 75,
     "metadata": {},
     "output_type": "execute_result"
    }
   ],
   "source": [
    "df2 = pd.read_table('../data/virushostdb.tsv')\n",
    "df2.head(3)"
   ]
  },
  {
   "cell_type": "code",
   "execution_count": 76,
   "metadata": {},
   "outputs": [
    {
     "name": "stdout",
     "output_type": "stream",
     "text": [
      "(16612, 4)\n"
     ]
    },
    {
     "data": {
      "text/html": [
       "<div>\n",
       "<style scoped>\n",
       "    .dataframe tbody tr th:only-of-type {\n",
       "        vertical-align: middle;\n",
       "    }\n",
       "\n",
       "    .dataframe tbody tr th {\n",
       "        vertical-align: top;\n",
       "    }\n",
       "\n",
       "    .dataframe thead th {\n",
       "        text-align: right;\n",
       "    }\n",
       "</style>\n",
       "<table border=\"1\" class=\"dataframe\">\n",
       "  <thead>\n",
       "    <tr style=\"text-align: right;\">\n",
       "      <th></th>\n",
       "      <th>virus tax id</th>\n",
       "      <th>virus name</th>\n",
       "      <th>host tax id</th>\n",
       "      <th>host name</th>\n",
       "    </tr>\n",
       "  </thead>\n",
       "  <tbody>\n",
       "    <tr>\n",
       "      <th>0</th>\n",
       "      <td>438782</td>\n",
       "      <td>Abaca bunchy top virus</td>\n",
       "      <td>46838.0</td>\n",
       "      <td>Musa sp.</td>\n",
       "    </tr>\n",
       "    <tr>\n",
       "      <th>1</th>\n",
       "      <td>438782</td>\n",
       "      <td>Abaca bunchy top virus</td>\n",
       "      <td>214697.0</td>\n",
       "      <td>Musa acuminata AAA Group</td>\n",
       "    </tr>\n",
       "    <tr>\n",
       "      <th>2</th>\n",
       "      <td>1241371</td>\n",
       "      <td>Abalone herpesvirus Victoria/AUS/2009</td>\n",
       "      <td>6451.0</td>\n",
       "      <td>Haliotidae</td>\n",
       "    </tr>\n",
       "    <tr>\n",
       "      <th>3</th>\n",
       "      <td>1241371</td>\n",
       "      <td>Abalone herpesvirus Victoria/AUS/2009</td>\n",
       "      <td>36100.0</td>\n",
       "      <td>Haliotis rubra</td>\n",
       "    </tr>\n",
       "    <tr>\n",
       "      <th>4</th>\n",
       "      <td>491893</td>\n",
       "      <td>Abalone shriveling syndrome-associated virus</td>\n",
       "      <td>37770.0</td>\n",
       "      <td>Haliotis diversicolor aquatilis</td>\n",
       "    </tr>\n",
       "  </tbody>\n",
       "</table>\n",
       "</div>"
      ],
      "text/plain": [
       "   virus tax id                                    virus name  host tax id  \\\n",
       "0        438782                        Abaca bunchy top virus      46838.0   \n",
       "1        438782                        Abaca bunchy top virus     214697.0   \n",
       "2       1241371         Abalone herpesvirus Victoria/AUS/2009       6451.0   \n",
       "3       1241371         Abalone herpesvirus Victoria/AUS/2009      36100.0   \n",
       "4        491893  Abalone shriveling syndrome-associated virus      37770.0   \n",
       "\n",
       "                         host name  \n",
       "0                         Musa sp.  \n",
       "1         Musa acuminata AAA Group  \n",
       "2                       Haliotidae  \n",
       "3                   Haliotis rubra  \n",
       "4  Haliotis diversicolor aquatilis  "
      ]
     },
     "execution_count": 76,
     "metadata": {},
     "output_type": "execute_result"
    }
   ],
   "source": [
    "df2 = df2[['virus tax id', 'virus name', 'host tax id', 'host name']].copy()\n",
    "df2.drop_duplicates(inplace=True)\n",
    "print(df2.shape)\n",
    "df2.head()"
   ]
  },
  {
   "cell_type": "code",
   "execution_count": 77,
   "metadata": {},
   "outputs": [
    {
     "data": {
      "text/html": [
       "<div>\n",
       "<style scoped>\n",
       "    .dataframe tbody tr th:only-of-type {\n",
       "        vertical-align: middle;\n",
       "    }\n",
       "\n",
       "    .dataframe tbody tr th {\n",
       "        vertical-align: top;\n",
       "    }\n",
       "\n",
       "    .dataframe thead th {\n",
       "        text-align: right;\n",
       "    }\n",
       "</style>\n",
       "<table border=\"1\" class=\"dataframe\">\n",
       "  <thead>\n",
       "    <tr style=\"text-align: right;\">\n",
       "      <th></th>\n",
       "      <th>virus tax id</th>\n",
       "      <th>virus name</th>\n",
       "      <th>host tax id</th>\n",
       "      <th>host name</th>\n",
       "    </tr>\n",
       "  </thead>\n",
       "  <tbody>\n",
       "    <tr>\n",
       "      <th>1236</th>\n",
       "      <td>2662138</td>\n",
       "      <td>Bacteriophage Phobos</td>\n",
       "      <td>NaN</td>\n",
       "      <td>NaN</td>\n",
       "    </tr>\n",
       "    <tr>\n",
       "      <th>3750</th>\n",
       "      <td>1131416</td>\n",
       "      <td>Cucurbit mild mosaic virus</td>\n",
       "      <td>NaN</td>\n",
       "      <td>NaN</td>\n",
       "    </tr>\n",
       "    <tr>\n",
       "      <th>15925</th>\n",
       "      <td>1888308</td>\n",
       "      <td>Wabat virus</td>\n",
       "      <td>NaN</td>\n",
       "      <td>NaN</td>\n",
       "    </tr>\n",
       "  </tbody>\n",
       "</table>\n",
       "</div>"
      ],
      "text/plain": [
       "       virus tax id                  virus name  host tax id host name\n",
       "1236        2662138        Bacteriophage Phobos          NaN       NaN\n",
       "3750        1131416  Cucurbit mild mosaic virus          NaN       NaN\n",
       "15925       1888308                 Wabat virus          NaN       NaN"
      ]
     },
     "execution_count": 77,
     "metadata": {},
     "output_type": "execute_result"
    }
   ],
   "source": [
    "df2[df2['host tax id'].isnull()]"
   ]
  },
  {
   "cell_type": "code",
   "execution_count": 78,
   "metadata": {},
   "outputs": [],
   "source": [
    "df2.dropna(inplace=True)"
   ]
  },
  {
   "cell_type": "code",
   "execution_count": 79,
   "metadata": {},
   "outputs": [
    {
     "data": {
      "text/html": [
       "<div>\n",
       "<style scoped>\n",
       "    .dataframe tbody tr th:only-of-type {\n",
       "        vertical-align: middle;\n",
       "    }\n",
       "\n",
       "    .dataframe tbody tr th {\n",
       "        vertical-align: top;\n",
       "    }\n",
       "\n",
       "    .dataframe thead th {\n",
       "        text-align: right;\n",
       "    }\n",
       "</style>\n",
       "<table border=\"1\" class=\"dataframe\">\n",
       "  <thead>\n",
       "    <tr style=\"text-align: right;\">\n",
       "      <th></th>\n",
       "      <th>virus tax id</th>\n",
       "      <th>virus name</th>\n",
       "      <th>host tax id</th>\n",
       "      <th>host name</th>\n",
       "    </tr>\n",
       "  </thead>\n",
       "  <tbody>\n",
       "    <tr>\n",
       "      <th>0</th>\n",
       "      <td>438782</td>\n",
       "      <td>Abaca bunchy top virus</td>\n",
       "      <td>46838</td>\n",
       "      <td>Musa sp.</td>\n",
       "    </tr>\n",
       "    <tr>\n",
       "      <th>1</th>\n",
       "      <td>438782</td>\n",
       "      <td>Abaca bunchy top virus</td>\n",
       "      <td>214697</td>\n",
       "      <td>Musa acuminata AAA Group</td>\n",
       "    </tr>\n",
       "    <tr>\n",
       "      <th>2</th>\n",
       "      <td>1241371</td>\n",
       "      <td>Abalone herpesvirus Victoria/AUS/2009</td>\n",
       "      <td>6451</td>\n",
       "      <td>Haliotidae</td>\n",
       "    </tr>\n",
       "    <tr>\n",
       "      <th>3</th>\n",
       "      <td>1241371</td>\n",
       "      <td>Abalone herpesvirus Victoria/AUS/2009</td>\n",
       "      <td>36100</td>\n",
       "      <td>Haliotis rubra</td>\n",
       "    </tr>\n",
       "    <tr>\n",
       "      <th>4</th>\n",
       "      <td>491893</td>\n",
       "      <td>Abalone shriveling syndrome-associated virus</td>\n",
       "      <td>37770</td>\n",
       "      <td>Haliotis diversicolor aquatilis</td>\n",
       "    </tr>\n",
       "  </tbody>\n",
       "</table>\n",
       "</div>"
      ],
      "text/plain": [
       "   virus tax id                                    virus name  host tax id  \\\n",
       "0        438782                        Abaca bunchy top virus        46838   \n",
       "1        438782                        Abaca bunchy top virus       214697   \n",
       "2       1241371         Abalone herpesvirus Victoria/AUS/2009         6451   \n",
       "3       1241371         Abalone herpesvirus Victoria/AUS/2009        36100   \n",
       "4        491893  Abalone shriveling syndrome-associated virus        37770   \n",
       "\n",
       "                         host name  \n",
       "0                         Musa sp.  \n",
       "1         Musa acuminata AAA Group  \n",
       "2                       Haliotidae  \n",
       "3                   Haliotis rubra  \n",
       "4  Haliotis diversicolor aquatilis  "
      ]
     },
     "execution_count": 79,
     "metadata": {},
     "output_type": "execute_result"
    }
   ],
   "source": [
    "df2['host tax id'] = df2['host tax id'].astype(int)\n",
    "df2.head()"
   ]
  },
  {
   "cell_type": "code",
   "execution_count": 80,
   "metadata": {},
   "outputs": [
    {
     "data": {
      "application/vnd.jupyter.widget-view+json": {
       "model_id": "d70de033c6924efdbd6c5c82f5e0a25c",
       "version_major": 2,
       "version_minor": 0
      },
      "text/plain": [
       "Getting Species name:   0%|          | 0/16609 [00:00<?, ?it/s]"
      ]
     },
     "metadata": {},
     "output_type": "display_data"
    }
   ],
   "source": [
    "df2['Species ID'] = df2['virus tax id'].progress_apply(getRankID, rank='species')"
   ]
  },
  {
   "cell_type": "code",
   "execution_count": 81,
   "metadata": {},
   "outputs": [
    {
     "data": {
      "application/vnd.jupyter.widget-view+json": {
       "model_id": "90acc80f45424ca1b4365642e27a9b0a",
       "version_major": 2,
       "version_minor": 0
      },
      "text/plain": [
       "Getting Species name:   0%|          | 0/16609 [00:00<?, ?it/s]"
      ]
     },
     "metadata": {},
     "output_type": "display_data"
    },
    {
     "data": {
      "text/html": [
       "<div>\n",
       "<style scoped>\n",
       "    .dataframe tbody tr th:only-of-type {\n",
       "        vertical-align: middle;\n",
       "    }\n",
       "\n",
       "    .dataframe tbody tr th {\n",
       "        vertical-align: top;\n",
       "    }\n",
       "\n",
       "    .dataframe thead th {\n",
       "        text-align: right;\n",
       "    }\n",
       "</style>\n",
       "<table border=\"1\" class=\"dataframe\">\n",
       "  <thead>\n",
       "    <tr style=\"text-align: right;\">\n",
       "      <th></th>\n",
       "      <th>virus tax id</th>\n",
       "      <th>virus name</th>\n",
       "      <th>Species ID</th>\n",
       "      <th>Host name</th>\n",
       "    </tr>\n",
       "  </thead>\n",
       "  <tbody>\n",
       "    <tr>\n",
       "      <th>0</th>\n",
       "      <td>438782</td>\n",
       "      <td>Abaca bunchy top virus</td>\n",
       "      <td>438782</td>\n",
       "      <td>Musa sp. [TaxID: 46838]</td>\n",
       "    </tr>\n",
       "    <tr>\n",
       "      <th>1</th>\n",
       "      <td>438782</td>\n",
       "      <td>Abaca bunchy top virus</td>\n",
       "      <td>438782</td>\n",
       "      <td>Musa acuminata AAA Group [TaxID: 214697]</td>\n",
       "    </tr>\n",
       "    <tr>\n",
       "      <th>2</th>\n",
       "      <td>1241371</td>\n",
       "      <td>Abalone herpesvirus Victoria/AUS/2009</td>\n",
       "      <td>1513231</td>\n",
       "      <td>Haliotidae [TaxID: 6451]</td>\n",
       "    </tr>\n",
       "    <tr>\n",
       "      <th>3</th>\n",
       "      <td>1241371</td>\n",
       "      <td>Abalone herpesvirus Victoria/AUS/2009</td>\n",
       "      <td>1513231</td>\n",
       "      <td>Haliotis rubra [TaxID: 36100]</td>\n",
       "    </tr>\n",
       "    <tr>\n",
       "      <th>4</th>\n",
       "      <td>491893</td>\n",
       "      <td>Abalone shriveling syndrome-associated virus</td>\n",
       "      <td>491893</td>\n",
       "      <td>Haliotis diversicolor aquatilis [TaxID: 37770]</td>\n",
       "    </tr>\n",
       "  </tbody>\n",
       "</table>\n",
       "</div>"
      ],
      "text/plain": [
       "   virus tax id                                    virus name  Species ID  \\\n",
       "0        438782                        Abaca bunchy top virus      438782   \n",
       "1        438782                        Abaca bunchy top virus      438782   \n",
       "2       1241371         Abalone herpesvirus Victoria/AUS/2009     1513231   \n",
       "3       1241371         Abalone herpesvirus Victoria/AUS/2009     1513231   \n",
       "4        491893  Abalone shriveling syndrome-associated virus      491893   \n",
       "\n",
       "                                        Host name  \n",
       "0                         Musa sp. [TaxID: 46838]  \n",
       "1        Musa acuminata AAA Group [TaxID: 214697]  \n",
       "2                        Haliotidae [TaxID: 6451]  \n",
       "3                   Haliotis rubra [TaxID: 36100]  \n",
       "4  Haliotis diversicolor aquatilis [TaxID: 37770]  "
      ]
     },
     "execution_count": 81,
     "metadata": {},
     "output_type": "execute_result"
    }
   ],
   "source": [
    "df2['Host name'] = df2.progress_apply(lambda x: nameMerger(x['host name'], x['host tax id']), axis=1)\n",
    "# Remove Host and Host ID columns as they have been merged and are no longer needed\n",
    "df2.drop(['host name', 'host tax id'], axis=1, inplace=True)\n",
    "df2.head()"
   ]
  },
  {
   "cell_type": "code",
   "execution_count": 82,
   "metadata": {},
   "outputs": [],
   "source": [
    "df_na_hosts = AggregateHosts(df2,'Species ID', 'Host name')\n",
    "dfna = dfna.merge(df_na_hosts, left_on='Species taxonomic ID', right_on='Species ID', how='left')\n",
    "dfna = dfna.drop(['Virus hosts', 'Species ID'], axis=1).rename({'Host name':'Virus hosts'}, axis=1)\n",
    "dfna = UpdateHosts(dfna, df_na_hosts, 'Species taxonomic ID', 'Species ID')\n",
    "df, dfna = UpdateMain(df, dfna)\n",
    "df = mergeRows(df, 'Species taxonomic ID', 'Virus hosts')"
   ]
  },
  {
   "cell_type": "code",
   "execution_count": 83,
   "metadata": {},
   "outputs": [
    {
     "data": {
      "text/plain": [
       "(4760, 6)"
      ]
     },
     "execution_count": 83,
     "metadata": {},
     "output_type": "execute_result"
    }
   ],
   "source": [
    "df.shape"
   ]
  },
  {
   "cell_type": "code",
   "execution_count": 84,
   "metadata": {},
   "outputs": [
    {
     "data": {
      "text/plain": [
       "(3353, 6)"
      ]
     },
     "execution_count": 84,
     "metadata": {},
     "output_type": "execute_result"
    }
   ],
   "source": [
    "dfna.shape"
   ]
  },
  {
   "cell_type": "code",
   "execution_count": 85,
   "metadata": {},
   "outputs": [
    {
     "data": {
      "text/html": [
       "<div>\n",
       "<style scoped>\n",
       "    .dataframe tbody tr th:only-of-type {\n",
       "        vertical-align: middle;\n",
       "    }\n",
       "\n",
       "    .dataframe tbody tr th {\n",
       "        vertical-align: top;\n",
       "    }\n",
       "\n",
       "    .dataframe thead th {\n",
       "        text-align: right;\n",
       "    }\n",
       "</style>\n",
       "<table border=\"1\" class=\"dataframe\">\n",
       "  <thead>\n",
       "    <tr style=\"text-align: right;\">\n",
       "      <th></th>\n",
       "      <th>Host_name</th>\n",
       "      <th>Host_TaxId</th>\n",
       "      <th>Host Group</th>\n",
       "      <th>Virus_name</th>\n",
       "      <th>Virus_TaxId</th>\n",
       "      <th>Micobe_group</th>\n",
       "      <th>Host_common_name</th>\n",
       "      <th>Host_common_name_rev</th>\n",
       "    </tr>\n",
       "  </thead>\n",
       "  <tbody>\n",
       "    <tr>\n",
       "      <th>49661</th>\n",
       "      <td>anas platyrhynchos</td>\n",
       "      <td>8839</td>\n",
       "      <td>vertebrates</td>\n",
       "      <td>influenza a virus (a/duck/chiba/4/2006(h3n8))</td>\n",
       "      <td>698850</td>\n",
       "      <td>viruses</td>\n",
       "      <td>Mallard</td>\n",
       "      <td>Mallard</td>\n",
       "    </tr>\n",
       "    <tr>\n",
       "      <th>35433</th>\n",
       "      <td>homo sapiens</td>\n",
       "      <td>9606</td>\n",
       "      <td>primates</td>\n",
       "      <td>influenza a virus (a/incheon/243/2005(h3n2))</td>\n",
       "      <td>514413</td>\n",
       "      <td>viruses</td>\n",
       "      <td>Human</td>\n",
       "      <td>Human</td>\n",
       "    </tr>\n",
       "  </tbody>\n",
       "</table>\n",
       "</div>"
      ],
      "text/plain": [
       "                Host_name  Host_TaxId   Host Group  \\\n",
       "49661  anas platyrhynchos        8839  vertebrates   \n",
       "35433        homo sapiens        9606     primates   \n",
       "\n",
       "                                          Virus_name  Virus_TaxId  \\\n",
       "49661  influenza a virus (a/duck/chiba/4/2006(h3n8))       698850   \n",
       "35433   influenza a virus (a/incheon/243/2005(h3n2))       514413   \n",
       "\n",
       "      Micobe_group Host_common_name Host_common_name_rev  \n",
       "49661      viruses          Mallard              Mallard  \n",
       "35433      viruses            Human                Human  "
      ]
     },
     "execution_count": 85,
     "metadata": {},
     "output_type": "execute_result"
    }
   ],
   "source": [
    "df2 = pd.read_csv('../data/virus_host_4rm_untitled.csv')\n",
    "df2.sample(2)"
   ]
  },
  {
   "cell_type": "code",
   "execution_count": 86,
   "metadata": {},
   "outputs": [
    {
     "data": {
      "application/vnd.jupyter.widget-view+json": {
       "model_id": "73a1d0e90f7e4a11a65dac9d092ab4e5",
       "version_major": 2,
       "version_minor": 0
      },
      "text/plain": [
       "Getting Species name:   0%|          | 0/59859 [00:00<?, ?it/s]"
      ]
     },
     "metadata": {},
     "output_type": "display_data"
    },
    {
     "name": "stdout",
     "output_type": "stream",
     "text": [
      "878474 taxid not found\n",
      "555869 taxid not found\n",
      "555869 taxid not found\n",
      "555869 taxid not found\n",
      "555869 taxid not found\n",
      "555869 taxid not found\n",
      "555869 taxid not found\n",
      "555869 taxid not found\n",
      "555869 taxid not found\n",
      "555869 taxid not found\n",
      "555869 taxid not found\n",
      "555869 taxid not found\n",
      "555869 taxid not found\n",
      "555869 taxid not found\n",
      "555869 taxid not found\n"
     ]
    },
    {
     "data": {
      "application/vnd.jupyter.widget-view+json": {
       "model_id": "c034ae81e8b4441596f5117c8c266bea",
       "version_major": 2,
       "version_minor": 0
      },
      "text/plain": [
       "Getting Species name:   0%|          | 0/59859 [00:00<?, ?it/s]"
      ]
     },
     "metadata": {},
     "output_type": "display_data"
    },
    {
     "data": {
      "text/html": [
       "<div>\n",
       "<style scoped>\n",
       "    .dataframe tbody tr th:only-of-type {\n",
       "        vertical-align: middle;\n",
       "    }\n",
       "\n",
       "    .dataframe tbody tr th {\n",
       "        vertical-align: top;\n",
       "    }\n",
       "\n",
       "    .dataframe thead th {\n",
       "        text-align: right;\n",
       "    }\n",
       "</style>\n",
       "<table border=\"1\" class=\"dataframe\">\n",
       "  <thead>\n",
       "    <tr style=\"text-align: right;\">\n",
       "      <th></th>\n",
       "      <th>Virus_name</th>\n",
       "      <th>Virus_TaxId</th>\n",
       "      <th>Species ID</th>\n",
       "      <th>Host name</th>\n",
       "    </tr>\n",
       "  </thead>\n",
       "  <tbody>\n",
       "    <tr>\n",
       "      <th>37908</th>\n",
       "      <td>influenza a virus (a/austria/140481/2004(h3n2))</td>\n",
       "      <td>468434</td>\n",
       "      <td>11320.0</td>\n",
       "      <td>homo sapiens [TaxID: 9606]</td>\n",
       "    </tr>\n",
       "    <tr>\n",
       "      <th>58530</th>\n",
       "      <td>gallid herpesvirus 2</td>\n",
       "      <td>10390</td>\n",
       "      <td>10390.0</td>\n",
       "      <td>gallus gallus [TaxID: 9031]</td>\n",
       "    </tr>\n",
       "  </tbody>\n",
       "</table>\n",
       "</div>"
      ],
      "text/plain": [
       "                                            Virus_name  Virus_TaxId  \\\n",
       "37908  influenza a virus (a/austria/140481/2004(h3n2))       468434   \n",
       "58530                             gallid herpesvirus 2        10390   \n",
       "\n",
       "       Species ID                    Host name  \n",
       "37908     11320.0   homo sapiens [TaxID: 9606]  \n",
       "58530     10390.0  gallus gallus [TaxID: 9031]  "
      ]
     },
     "execution_count": 86,
     "metadata": {},
     "output_type": "execute_result"
    }
   ],
   "source": [
    "df2 = df2[['Host_name', 'Host_TaxId', 'Virus_name', 'Virus_TaxId']].copy()\n",
    "df2['Species ID'] = df2['Virus_TaxId'].progress_apply(getRankID, rank='species')\n",
    "df2['Host name'] = df2.progress_apply(lambda x: nameMerger(x['Host_name'], x['Host_TaxId']), axis=1)\n",
    "df2.drop(['Host_name', 'Host_TaxId'], axis=1, inplace=True)\n",
    "df2.dropna(inplace=True)\n",
    "df2.sample(2)"
   ]
  },
  {
   "cell_type": "code",
   "execution_count": 87,
   "metadata": {},
   "outputs": [],
   "source": [
    "df_na_hosts = AggregateHosts(df2,'Species ID', 'Host name')\n",
    "dfna = dfna.merge(df_na_hosts, left_on='Species taxonomic ID', right_on='Species ID', how='left')\n",
    "dfna = dfna.drop(['Virus hosts', 'Species ID'], axis=1).rename({'Host name':'Virus hosts'}, axis=1)\n",
    "dfna = UpdateHosts(dfna, df_na_hosts, 'Species taxonomic ID', 'Species ID')\n",
    "df, dfna = UpdateMain(df, dfna)\n",
    "df = mergeRows(df, 'Species taxonomic ID', 'Virus hosts')"
   ]
  },
  {
   "cell_type": "code",
   "execution_count": 88,
   "metadata": {},
   "outputs": [
    {
     "data": {
      "text/plain": [
       "(4766, 6)"
      ]
     },
     "execution_count": 88,
     "metadata": {},
     "output_type": "execute_result"
    }
   ],
   "source": [
    "df.shape"
   ]
  },
  {
   "cell_type": "code",
   "execution_count": 89,
   "metadata": {},
   "outputs": [
    {
     "data": {
      "text/plain": [
       "(3347, 6)"
      ]
     },
     "execution_count": 89,
     "metadata": {},
     "output_type": "execute_result"
    }
   ],
   "source": [
    "dfna.shape"
   ]
  },
  {
   "cell_type": "code",
   "execution_count": 90,
   "metadata": {},
   "outputs": [
    {
     "data": {
      "text/html": [
       "<div>\n",
       "<style scoped>\n",
       "    .dataframe tbody tr th:only-of-type {\n",
       "        vertical-align: middle;\n",
       "    }\n",
       "\n",
       "    .dataframe tbody tr th {\n",
       "        vertical-align: top;\n",
       "    }\n",
       "\n",
       "    .dataframe thead th {\n",
       "        text-align: right;\n",
       "    }\n",
       "</style>\n",
       "<table border=\"1\" class=\"dataframe\">\n",
       "  <thead>\n",
       "    <tr style=\"text-align: right;\">\n",
       "      <th></th>\n",
       "      <th>Species taxonomic ID</th>\n",
       "      <th>Protein names</th>\n",
       "      <th>Species name</th>\n",
       "      <th>Species superkingdom</th>\n",
       "      <th>Species family</th>\n",
       "      <th>Virus hosts</th>\n",
       "    </tr>\n",
       "  </thead>\n",
       "  <tbody>\n",
       "    <tr>\n",
       "      <th>1039</th>\n",
       "      <td>2041543</td>\n",
       "      <td>Portal protein; Integrase</td>\n",
       "      <td>Mycobacterium phage Murica</td>\n",
       "      <td>Viruses</td>\n",
       "      <td>Siphoviridae</td>\n",
       "      <td>NaN</td>\n",
       "    </tr>\n",
       "    <tr>\n",
       "      <th>1180</th>\n",
       "      <td>2094138</td>\n",
       "      <td>Integrase</td>\n",
       "      <td>Mycobacterium phage Morrow</td>\n",
       "      <td>Viruses</td>\n",
       "      <td>Siphoviridae</td>\n",
       "      <td>NaN</td>\n",
       "    </tr>\n",
       "  </tbody>\n",
       "</table>\n",
       "</div>"
      ],
      "text/plain": [
       "      Species taxonomic ID              Protein names  \\\n",
       "1039               2041543  Portal protein; Integrase   \n",
       "1180               2094138                  Integrase   \n",
       "\n",
       "                    Species name Species superkingdom Species family  \\\n",
       "1039  Mycobacterium phage Murica              Viruses   Siphoviridae   \n",
       "1180  Mycobacterium phage Morrow              Viruses   Siphoviridae   \n",
       "\n",
       "     Virus hosts  \n",
       "1039         NaN  \n",
       "1180         NaN  "
      ]
     },
     "execution_count": 90,
     "metadata": {},
     "output_type": "execute_result"
    }
   ],
   "source": [
    "dfna.sample(2)"
   ]
  },
  {
   "cell_type": "markdown",
   "metadata": {},
   "source": [
    "## Further Processing"
   ]
  },
  {
   "cell_type": "code",
   "execution_count": 91,
   "metadata": {},
   "outputs": [],
   "source": [
    "# Add column to discriminate viruses which contain human hosts from those which do not\n",
    "df['Infects human'] = np.where(df['Virus hosts'].str.contains(r'960[56]'), 'human-true','human-false')"
   ]
  },
  {
   "cell_type": "code",
   "execution_count": 92,
   "metadata": {},
   "outputs": [
    {
     "data": {
      "text/html": [
       "<div>\n",
       "<style scoped>\n",
       "    .dataframe tbody tr th:only-of-type {\n",
       "        vertical-align: middle;\n",
       "    }\n",
       "\n",
       "    .dataframe tbody tr th {\n",
       "        vertical-align: top;\n",
       "    }\n",
       "\n",
       "    .dataframe thead th {\n",
       "        text-align: right;\n",
       "    }\n",
       "</style>\n",
       "<table border=\"1\" class=\"dataframe\">\n",
       "  <thead>\n",
       "    <tr style=\"text-align: right;\">\n",
       "      <th></th>\n",
       "      <th>Species taxonomic ID</th>\n",
       "      <th>Virus hosts</th>\n",
       "      <th>Protein names</th>\n",
       "      <th>Species name</th>\n",
       "      <th>Species superkingdom</th>\n",
       "      <th>Species family</th>\n",
       "      <th>Infects human</th>\n",
       "    </tr>\n",
       "  </thead>\n",
       "  <tbody>\n",
       "    <tr>\n",
       "      <th>2855</th>\n",
       "      <td>1981160</td>\n",
       "      <td>Escherichia coli O157:H7 [TaxID: 83334]</td>\n",
       "      <td>Integrase; Tail spike protein</td>\n",
       "      <td>Escherichia virus 24B</td>\n",
       "      <td>Viruses</td>\n",
       "      <td>Podoviridae</td>\n",
       "      <td>human-false</td>\n",
       "    </tr>\n",
       "    <tr>\n",
       "      <th>630</th>\n",
       "      <td>204086</td>\n",
       "      <td>Staphylococcus aureus [TaxID: 1280]</td>\n",
       "      <td>Portal protein (Connector protein) (Gene produ...</td>\n",
       "      <td>Staphylococcus virus 44AHJD</td>\n",
       "      <td>Viruses</td>\n",
       "      <td>Rountreeviridae</td>\n",
       "      <td>human-false</td>\n",
       "    </tr>\n",
       "  </tbody>\n",
       "</table>\n",
       "</div>"
      ],
      "text/plain": [
       "      Species taxonomic ID                              Virus hosts  \\\n",
       "2855               1981160  Escherichia coli O157:H7 [TaxID: 83334]   \n",
       "630                 204086      Staphylococcus aureus [TaxID: 1280]   \n",
       "\n",
       "                                          Protein names  \\\n",
       "2855                      Integrase; Tail spike protein   \n",
       "630   Portal protein (Connector protein) (Gene produ...   \n",
       "\n",
       "                     Species name Species superkingdom   Species family  \\\n",
       "2855        Escherichia virus 24B              Viruses      Podoviridae   \n",
       "630   Staphylococcus virus 44AHJD              Viruses  Rountreeviridae   \n",
       "\n",
       "     Infects human  \n",
       "2855   human-false  \n",
       "630    human-false  "
      ]
     },
     "execution_count": 92,
     "metadata": {},
     "output_type": "execute_result"
    }
   ],
   "source": [
    "df.sample(2)"
   ]
  },
  {
   "cell_type": "code",
   "execution_count": 93,
   "metadata": {},
   "outputs": [
    {
     "data": {
      "application/vnd.jupyter.widget-view+json": {
       "model_id": "8e9ec0d0d13b4b159e227639d90def45",
       "version_major": 2,
       "version_minor": 0
      },
      "text/plain": [
       "Getting Species name:   0%|          | 0/4766 [00:00<?, ?it/s]"
      ]
     },
     "metadata": {},
     "output_type": "display_data"
    },
    {
     "data": {
      "application/vnd.jupyter.widget-view+json": {
       "model_id": "925a798773ed430fabea2432157f4ca3",
       "version_major": 2,
       "version_minor": 0
      },
      "text/plain": [
       "Getting Species name:   0%|          | 0/4766 [00:00<?, ?it/s]"
      ]
     },
     "metadata": {},
     "output_type": "display_data"
    }
   ],
   "source": [
    "df['Virus hosts'] = df['Virus hosts'].str.split('; ')\n",
    "df['Virus hosts'] = df.progress_apply(lambda x: list(filter(None, x['Virus hosts'])), axis=1)\n",
    "df['Virus hosts'] = df['Virus hosts'].progress_apply('; '.join)"
   ]
  },
  {
   "cell_type": "code",
   "execution_count": 94,
   "metadata": {},
   "outputs": [
    {
     "data": {
      "text/html": [
       "<div>\n",
       "<style scoped>\n",
       "    .dataframe tbody tr th:only-of-type {\n",
       "        vertical-align: middle;\n",
       "    }\n",
       "\n",
       "    .dataframe tbody tr th {\n",
       "        vertical-align: top;\n",
       "    }\n",
       "\n",
       "    .dataframe thead th {\n",
       "        text-align: right;\n",
       "    }\n",
       "</style>\n",
       "<table border=\"1\" class=\"dataframe\">\n",
       "  <thead>\n",
       "    <tr style=\"text-align: right;\">\n",
       "      <th></th>\n",
       "      <th>Species taxonomic ID</th>\n",
       "      <th>Virus hosts</th>\n",
       "      <th>Protein names</th>\n",
       "      <th>Species name</th>\n",
       "      <th>Species superkingdom</th>\n",
       "      <th>Species family</th>\n",
       "      <th>Infects human</th>\n",
       "    </tr>\n",
       "  </thead>\n",
       "  <tbody>\n",
       "    <tr>\n",
       "      <th>341</th>\n",
       "      <td>49267</td>\n",
       "      <td>Solanum lycopersicum (Tomato) (Lycopersicon es...</td>\n",
       "      <td>Capsid protein (Coat protein) (CP)</td>\n",
       "      <td>Tomato pseudo-curly top virus</td>\n",
       "      <td>Viruses</td>\n",
       "      <td>Geminiviridae</td>\n",
       "      <td>human-false</td>\n",
       "    </tr>\n",
       "    <tr>\n",
       "      <th>3514</th>\n",
       "      <td>2249765</td>\n",
       "      <td>Paenibacillus larvae [TaxID: 1464]</td>\n",
       "      <td>Portal protein; Integrase</td>\n",
       "      <td>Paenibacillus phage Eltigre</td>\n",
       "      <td>Viruses</td>\n",
       "      <td>Siphoviridae</td>\n",
       "      <td>human-false</td>\n",
       "    </tr>\n",
       "    <tr>\n",
       "      <th>3582</th>\n",
       "      <td>2315695</td>\n",
       "      <td>Escherichia coli [TaxID: 562]; Salmonella sp. ...</td>\n",
       "      <td>Portal (Connector) protein</td>\n",
       "      <td>Escherichia phage fp01</td>\n",
       "      <td>Viruses</td>\n",
       "      <td>Demerecviridae</td>\n",
       "      <td>human-false</td>\n",
       "    </tr>\n",
       "    <tr>\n",
       "      <th>3840</th>\n",
       "      <td>2560492</td>\n",
       "      <td>Gordonia terrae [TaxID: 2055]</td>\n",
       "      <td>Portal protein; Integrase</td>\n",
       "      <td>Gordonia virus Eyre</td>\n",
       "      <td>Viruses</td>\n",
       "      <td>Siphoviridae</td>\n",
       "      <td>human-false</td>\n",
       "    </tr>\n",
       "  </tbody>\n",
       "</table>\n",
       "</div>"
      ],
      "text/plain": [
       "      Species taxonomic ID                                        Virus hosts  \\\n",
       "341                  49267  Solanum lycopersicum (Tomato) (Lycopersicon es...   \n",
       "3514               2249765                 Paenibacillus larvae [TaxID: 1464]   \n",
       "3582               2315695  Escherichia coli [TaxID: 562]; Salmonella sp. ...   \n",
       "3840               2560492                      Gordonia terrae [TaxID: 2055]   \n",
       "\n",
       "                           Protein names                   Species name  \\\n",
       "341   Capsid protein (Coat protein) (CP)  Tomato pseudo-curly top virus   \n",
       "3514           Portal protein; Integrase    Paenibacillus phage Eltigre   \n",
       "3582          Portal (Connector) protein         Escherichia phage fp01   \n",
       "3840           Portal protein; Integrase            Gordonia virus Eyre   \n",
       "\n",
       "     Species superkingdom  Species family Infects human  \n",
       "341               Viruses   Geminiviridae   human-false  \n",
       "3514              Viruses    Siphoviridae   human-false  \n",
       "3582              Viruses  Demerecviridae   human-false  \n",
       "3840              Viruses    Siphoviridae   human-false  "
      ]
     },
     "execution_count": 94,
     "metadata": {},
     "output_type": "execute_result"
    }
   ],
   "source": [
    "df.sample(4)"
   ]
  },
  {
   "cell_type": "code",
   "execution_count": 95,
   "metadata": {},
   "outputs": [
    {
     "data": {
      "text/html": [
       "<div>\n",
       "<style scoped>\n",
       "    .dataframe tbody tr th:only-of-type {\n",
       "        vertical-align: middle;\n",
       "    }\n",
       "\n",
       "    .dataframe tbody tr th {\n",
       "        vertical-align: top;\n",
       "    }\n",
       "\n",
       "    .dataframe thead th {\n",
       "        text-align: right;\n",
       "    }\n",
       "</style>\n",
       "<table border=\"1\" class=\"dataframe\">\n",
       "  <thead>\n",
       "    <tr style=\"text-align: right;\">\n",
       "      <th></th>\n",
       "      <th>Species taxonomic ID</th>\n",
       "      <th>Virus hosts</th>\n",
       "      <th>Protein names</th>\n",
       "      <th>Species name</th>\n",
       "      <th>Species superkingdom</th>\n",
       "      <th>Species family</th>\n",
       "      <th>Infects human</th>\n",
       "    </tr>\n",
       "  </thead>\n",
       "  <tbody>\n",
       "    <tr>\n",
       "      <th>16</th>\n",
       "      <td>10310</td>\n",
       "      <td>Homo sapiens (Human) [TaxID: 9606]</td>\n",
       "      <td>Envelope glycoprotein C (Glycoprotein F); Urac...</td>\n",
       "      <td>Human alphaherpesvirus 2</td>\n",
       "      <td>Viruses</td>\n",
       "      <td>Herpesviridae</td>\n",
       "      <td>human-true</td>\n",
       "    </tr>\n",
       "    <tr>\n",
       "      <th>2786</th>\n",
       "      <td>1972577</td>\n",
       "      <td>Bos taurus (Bovine) [TaxID: 9913]; Equus cabal...</td>\n",
       "      <td>Uncharacterized protein; Glycoprotein; G protein</td>\n",
       "      <td>Indiana vesiculovirus</td>\n",
       "      <td>Viruses</td>\n",
       "      <td>Rhabdoviridae</td>\n",
       "      <td>human-true</td>\n",
       "    </tr>\n",
       "    <tr>\n",
       "      <th>3046</th>\n",
       "      <td>2003649</td>\n",
       "      <td>Homo sapiens [TaxID: 9606]</td>\n",
       "      <td>Genome polyprotein (P1C) (P1D) (Protein 2C) (P...</td>\n",
       "      <td>Cosavirus B</td>\n",
       "      <td>Viruses</td>\n",
       "      <td>Picornaviridae</td>\n",
       "      <td>human-true</td>\n",
       "    </tr>\n",
       "    <tr>\n",
       "      <th>841</th>\n",
       "      <td>337039</td>\n",
       "      <td>Homo sapiens (Human) [TaxID: 9606]</td>\n",
       "      <td>Major capsid protein L1; Minor capsid protein L2</td>\n",
       "      <td>Alphapapillomavirus 2</td>\n",
       "      <td>Viruses</td>\n",
       "      <td>Papillomaviridae</td>\n",
       "      <td>human-true</td>\n",
       "    </tr>\n",
       "  </tbody>\n",
       "</table>\n",
       "</div>"
      ],
      "text/plain": [
       "      Species taxonomic ID                                        Virus hosts  \\\n",
       "16                   10310                 Homo sapiens (Human) [TaxID: 9606]   \n",
       "2786               1972577  Bos taurus (Bovine) [TaxID: 9913]; Equus cabal...   \n",
       "3046               2003649                         Homo sapiens [TaxID: 9606]   \n",
       "841                 337039                 Homo sapiens (Human) [TaxID: 9606]   \n",
       "\n",
       "                                          Protein names  \\\n",
       "16    Envelope glycoprotein C (Glycoprotein F); Urac...   \n",
       "2786   Uncharacterized protein; Glycoprotein; G protein   \n",
       "3046  Genome polyprotein (P1C) (P1D) (Protein 2C) (P...   \n",
       "841    Major capsid protein L1; Minor capsid protein L2   \n",
       "\n",
       "                  Species name Species superkingdom    Species family  \\\n",
       "16    Human alphaherpesvirus 2              Viruses     Herpesviridae   \n",
       "2786     Indiana vesiculovirus              Viruses     Rhabdoviridae   \n",
       "3046               Cosavirus B              Viruses    Picornaviridae   \n",
       "841      Alphapapillomavirus 2              Viruses  Papillomaviridae   \n",
       "\n",
       "     Infects human  \n",
       "16      human-true  \n",
       "2786    human-true  \n",
       "3046    human-true  \n",
       "841     human-true  "
      ]
     },
     "execution_count": 95,
     "metadata": {},
     "output_type": "execute_result"
    }
   ],
   "source": [
    "df[df['Infects human'] == 'human-true'].sample(4)"
   ]
  },
  {
   "cell_type": "code",
   "execution_count": 96,
   "metadata": {},
   "outputs": [],
   "source": [
    "df = (df.set_index(df.columns.drop('Virus hosts',1).tolist())['Virus hosts'].str.split(';', expand=True)\n",
    "          .stack()\n",
    "          .reset_index()\n",
    "          .rename(columns={0:'Virus hosts'})\n",
    "          .loc[:, df.columns]\n",
    "         ).copy()"
   ]
  },
  {
   "cell_type": "code",
   "execution_count": 97,
   "metadata": {},
   "outputs": [
    {
     "data": {
      "text/plain": [
       "(7270, 7)"
      ]
     },
     "execution_count": 97,
     "metadata": {},
     "output_type": "execute_result"
    }
   ],
   "source": [
    "df.shape"
   ]
  },
  {
   "cell_type": "code",
   "execution_count": 98,
   "metadata": {},
   "outputs": [
    {
     "data": {
      "text/html": [
       "<div>\n",
       "<style scoped>\n",
       "    .dataframe tbody tr th:only-of-type {\n",
       "        vertical-align: middle;\n",
       "    }\n",
       "\n",
       "    .dataframe tbody tr th {\n",
       "        vertical-align: top;\n",
       "    }\n",
       "\n",
       "    .dataframe thead th {\n",
       "        text-align: right;\n",
       "    }\n",
       "</style>\n",
       "<table border=\"1\" class=\"dataframe\">\n",
       "  <thead>\n",
       "    <tr style=\"text-align: right;\">\n",
       "      <th></th>\n",
       "      <th>Species taxonomic ID</th>\n",
       "      <th>Virus hosts</th>\n",
       "      <th>Protein names</th>\n",
       "      <th>Species name</th>\n",
       "      <th>Species superkingdom</th>\n",
       "      <th>Species family</th>\n",
       "      <th>Infects human</th>\n",
       "    </tr>\n",
       "  </thead>\n",
       "  <tbody>\n",
       "    <tr>\n",
       "      <th>2368</th>\n",
       "      <td>947980</td>\n",
       "      <td>Lactobacillus sp. [TaxID: 1591]</td>\n",
       "      <td>Bacteriophage portal protein; Integrase</td>\n",
       "      <td>Lactobacillus phage LF1</td>\n",
       "      <td>Viruses</td>\n",
       "      <td>Siphoviridae</td>\n",
       "      <td>human-false</td>\n",
       "    </tr>\n",
       "    <tr>\n",
       "      <th>1771</th>\n",
       "      <td>360579</td>\n",
       "      <td>Malvastrum coromandelianum [TaxID: 108453]</td>\n",
       "      <td>Capsid protein (Coat protein)</td>\n",
       "      <td>Mesta yellow vein mosaic virus</td>\n",
       "      <td>Viruses</td>\n",
       "      <td>Geminiviridae</td>\n",
       "      <td>human-false</td>\n",
       "    </tr>\n",
       "    <tr>\n",
       "      <th>57</th>\n",
       "      <td>10334</td>\n",
       "      <td>Felidae (cat family) [TaxID: 9681]</td>\n",
       "      <td>Envelope glycoprotein L; Glycoprotein C; Envel...</td>\n",
       "      <td>Felid alphaherpesvirus 1</td>\n",
       "      <td>Viruses</td>\n",
       "      <td>Herpesviridae</td>\n",
       "      <td>human-false</td>\n",
       "    </tr>\n",
       "    <tr>\n",
       "      <th>5535</th>\n",
       "      <td>2169701</td>\n",
       "      <td>Homo sapiens (Human) [TaxID: 9606]</td>\n",
       "      <td>Assembly protein E3; Structural polyprotein (p...</td>\n",
       "      <td>Onyong-nyong virus</td>\n",
       "      <td>Viruses</td>\n",
       "      <td>Togaviridae</td>\n",
       "      <td>human-true</td>\n",
       "    </tr>\n",
       "  </tbody>\n",
       "</table>\n",
       "</div>"
      ],
      "text/plain": [
       "      Species taxonomic ID                                 Virus hosts  \\\n",
       "2368                947980             Lactobacillus sp. [TaxID: 1591]   \n",
       "1771                360579  Malvastrum coromandelianum [TaxID: 108453]   \n",
       "57                   10334          Felidae (cat family) [TaxID: 9681]   \n",
       "5535               2169701          Homo sapiens (Human) [TaxID: 9606]   \n",
       "\n",
       "                                          Protein names  \\\n",
       "2368            Bacteriophage portal protein; Integrase   \n",
       "1771                      Capsid protein (Coat protein)   \n",
       "57    Envelope glycoprotein L; Glycoprotein C; Envel...   \n",
       "5535  Assembly protein E3; Structural polyprotein (p...   \n",
       "\n",
       "                        Species name Species superkingdom Species family  \\\n",
       "2368         Lactobacillus phage LF1              Viruses   Siphoviridae   \n",
       "1771  Mesta yellow vein mosaic virus              Viruses  Geminiviridae   \n",
       "57          Felid alphaherpesvirus 1              Viruses  Herpesviridae   \n",
       "5535              Onyong-nyong virus              Viruses    Togaviridae   \n",
       "\n",
       "     Infects human  \n",
       "2368   human-false  \n",
       "1771   human-false  \n",
       "57     human-false  \n",
       "5535    human-true  "
      ]
     },
     "execution_count": 98,
     "metadata": {},
     "output_type": "execute_result"
    }
   ],
   "source": [
    "df.sample(4)"
   ]
  },
  {
   "cell_type": "code",
   "execution_count": 99,
   "metadata": {},
   "outputs": [
    {
     "data": {
      "text/html": [
       "<div>\n",
       "<style scoped>\n",
       "    .dataframe tbody tr th:only-of-type {\n",
       "        vertical-align: middle;\n",
       "    }\n",
       "\n",
       "    .dataframe tbody tr th {\n",
       "        vertical-align: top;\n",
       "    }\n",
       "\n",
       "    .dataframe thead th {\n",
       "        text-align: right;\n",
       "    }\n",
       "</style>\n",
       "<table border=\"1\" class=\"dataframe\">\n",
       "  <thead>\n",
       "    <tr style=\"text-align: right;\">\n",
       "      <th></th>\n",
       "      <th>Species taxonomic ID</th>\n",
       "      <th>Virus hosts</th>\n",
       "      <th>Protein names</th>\n",
       "      <th>Species name</th>\n",
       "      <th>Species superkingdom</th>\n",
       "      <th>Species family</th>\n",
       "      <th>Infects human</th>\n",
       "      <th>Virus hosts ID</th>\n",
       "    </tr>\n",
       "  </thead>\n",
       "  <tbody>\n",
       "    <tr>\n",
       "      <th>0</th>\n",
       "      <td>10243</td>\n",
       "      <td>Myodes glareolus (Bank vole) (Clethrionomys gl...</td>\n",
       "      <td>CPXV163 protein; CPXV108 protein (Late 16 kDa ...</td>\n",
       "      <td>Cowpox virus</td>\n",
       "      <td>Viruses</td>\n",
       "      <td>Poxviridae</td>\n",
       "      <td>human-true</td>\n",
       "      <td>447135]</td>\n",
       "    </tr>\n",
       "    <tr>\n",
       "      <th>1</th>\n",
       "      <td>10243</td>\n",
       "      <td>Bos taurus (Bovine) [TaxID: 9913]</td>\n",
       "      <td>CPXV163 protein; CPXV108 protein (Late 16 kDa ...</td>\n",
       "      <td>Cowpox virus</td>\n",
       "      <td>Viruses</td>\n",
       "      <td>Poxviridae</td>\n",
       "      <td>human-true</td>\n",
       "      <td>9913]</td>\n",
       "    </tr>\n",
       "    <tr>\n",
       "      <th>2</th>\n",
       "      <td>10243</td>\n",
       "      <td>Microtus agrestis (Short-tailed field vole) [...</td>\n",
       "      <td>CPXV163 protein; CPXV108 protein (Late 16 kDa ...</td>\n",
       "      <td>Cowpox virus</td>\n",
       "      <td>Viruses</td>\n",
       "      <td>Poxviridae</td>\n",
       "      <td>human-true</td>\n",
       "      <td>29092]</td>\n",
       "    </tr>\n",
       "    <tr>\n",
       "      <th>3</th>\n",
       "      <td>10243</td>\n",
       "      <td>Loxodonta africana (African elephant) [TaxID:...</td>\n",
       "      <td>CPXV163 protein; CPXV108 protein (Late 16 kDa ...</td>\n",
       "      <td>Cowpox virus</td>\n",
       "      <td>Viruses</td>\n",
       "      <td>Poxviridae</td>\n",
       "      <td>human-true</td>\n",
       "      <td>9785]</td>\n",
       "    </tr>\n",
       "    <tr>\n",
       "      <th>4</th>\n",
       "      <td>10243</td>\n",
       "      <td>Homo sapiens (Human) [TaxID: 9606]</td>\n",
       "      <td>CPXV163 protein; CPXV108 protein (Late 16 kDa ...</td>\n",
       "      <td>Cowpox virus</td>\n",
       "      <td>Viruses</td>\n",
       "      <td>Poxviridae</td>\n",
       "      <td>human-true</td>\n",
       "      <td>9606]</td>\n",
       "    </tr>\n",
       "  </tbody>\n",
       "</table>\n",
       "</div>"
      ],
      "text/plain": [
       "   Species taxonomic ID                                        Virus hosts  \\\n",
       "0                 10243  Myodes glareolus (Bank vole) (Clethrionomys gl...   \n",
       "1                 10243                  Bos taurus (Bovine) [TaxID: 9913]   \n",
       "2                 10243   Microtus agrestis (Short-tailed field vole) [...   \n",
       "3                 10243   Loxodonta africana (African elephant) [TaxID:...   \n",
       "4                 10243                 Homo sapiens (Human) [TaxID: 9606]   \n",
       "\n",
       "                                       Protein names  Species name  \\\n",
       "0  CPXV163 protein; CPXV108 protein (Late 16 kDa ...  Cowpox virus   \n",
       "1  CPXV163 protein; CPXV108 protein (Late 16 kDa ...  Cowpox virus   \n",
       "2  CPXV163 protein; CPXV108 protein (Late 16 kDa ...  Cowpox virus   \n",
       "3  CPXV163 protein; CPXV108 protein (Late 16 kDa ...  Cowpox virus   \n",
       "4  CPXV163 protein; CPXV108 protein (Late 16 kDa ...  Cowpox virus   \n",
       "\n",
       "  Species superkingdom Species family Infects human Virus hosts ID  \n",
       "0              Viruses     Poxviridae    human-true        447135]  \n",
       "1              Viruses     Poxviridae    human-true          9913]  \n",
       "2              Viruses     Poxviridae    human-true         29092]  \n",
       "3              Viruses     Poxviridae    human-true          9785]  \n",
       "4              Viruses     Poxviridae    human-true          9606]  "
      ]
     },
     "execution_count": 99,
     "metadata": {},
     "output_type": "execute_result"
    }
   ],
   "source": [
    "df['Virus hosts ID'] = None\n",
    "idx_organism = df.columns.get_loc('Virus hosts')\n",
    "idx_host_id = df.columns.get_loc('Virus hosts ID')\n",
    "\n",
    "pattern = r'(\\d+)\\]'\n",
    "for row in range(len(df)):\n",
    "    host_id = re.search(pattern, df.iat[row, idx_organism]).group()\n",
    "    df.iat[row, idx_host_id] = host_id\n",
    "df.head()"
   ]
  },
  {
   "cell_type": "code",
   "execution_count": 100,
   "metadata": {},
   "outputs": [],
   "source": [
    "df['Virus hosts ID'] = df['Virus hosts ID'].str.strip('\\]')"
   ]
  },
  {
   "cell_type": "code",
   "execution_count": 101,
   "metadata": {},
   "outputs": [
    {
     "data": {
      "application/vnd.jupyter.widget-view+json": {
       "model_id": "a660526016444485a530064003f08f81",
       "version_major": 2,
       "version_minor": 0
      },
      "text/plain": [
       "Getting Species name:   0%|          | 0/7270 [00:00<?, ?it/s]"
      ]
     },
     "metadata": {},
     "output_type": "display_data"
    },
    {
     "data": {
      "application/vnd.jupyter.widget-view+json": {
       "model_id": "92fdc89434f94bb8b032f1ba2b845399",
       "version_major": 2,
       "version_minor": 0
      },
      "text/plain": [
       "Getting Species name:   0%|          | 0/7270 [00:00<?, ?it/s]"
      ]
     },
     "metadata": {},
     "output_type": "display_data"
    },
    {
     "data": {
      "application/vnd.jupyter.widget-view+json": {
       "model_id": "5d119644d33a4b818a26eacef4e79445",
       "version_major": 2,
       "version_minor": 0
      },
      "text/plain": [
       "Getting Species name:   0%|          | 0/7270 [00:00<?, ?it/s]"
      ]
     },
     "metadata": {},
     "output_type": "display_data"
    },
    {
     "data": {
      "application/vnd.jupyter.widget-view+json": {
       "model_id": "ee14e116471c447e929dd5e71c804f57",
       "version_major": 2,
       "version_minor": 0
      },
      "text/plain": [
       "Getting Species name:   0%|          | 0/7270 [00:00<?, ?it/s]"
      ]
     },
     "metadata": {},
     "output_type": "display_data"
    },
    {
     "data": {
      "application/vnd.jupyter.widget-view+json": {
       "model_id": "bf8ddcfa84e2494f8be134f11a4113e0",
       "version_major": 2,
       "version_minor": 0
      },
      "text/plain": [
       "Getting Species name:   0%|          | 0/7270 [00:00<?, ?it/s]"
      ]
     },
     "metadata": {},
     "output_type": "display_data"
    }
   ],
   "source": [
    "df['Virus hosts ID'] = df['Virus hosts ID'].progress_apply(int)\n",
    "\n",
    "df['Virus hosts ID'] = df['Virus hosts ID'].progress_apply(getRankID, rank='species')\n",
    "df['Virus host name'] = df['Virus hosts ID'].progress_apply(getRankName, rank='species')\n",
    "df['Host superkingdom'] = df['Virus hosts ID'].progress_apply(getRankName, rank='superkingdom')\n",
    "df['Host kingdom'] = df['Virus hosts ID'].progress_apply(getRankName, rank='kingdom')"
   ]
  },
  {
   "cell_type": "code",
   "execution_count": 102,
   "metadata": {},
   "outputs": [
    {
     "data": {
      "text/html": [
       "<div>\n",
       "<style scoped>\n",
       "    .dataframe tbody tr th:only-of-type {\n",
       "        vertical-align: middle;\n",
       "    }\n",
       "\n",
       "    .dataframe tbody tr th {\n",
       "        vertical-align: top;\n",
       "    }\n",
       "\n",
       "    .dataframe thead th {\n",
       "        text-align: right;\n",
       "    }\n",
       "</style>\n",
       "<table border=\"1\" class=\"dataframe\">\n",
       "  <thead>\n",
       "    <tr style=\"text-align: right;\">\n",
       "      <th></th>\n",
       "      <th>Species taxonomic ID</th>\n",
       "      <th>Virus hosts</th>\n",
       "      <th>Protein names</th>\n",
       "      <th>Species name</th>\n",
       "      <th>Species superkingdom</th>\n",
       "      <th>Species family</th>\n",
       "      <th>Infects human</th>\n",
       "      <th>Virus hosts ID</th>\n",
       "      <th>Virus host name</th>\n",
       "      <th>Host superkingdom</th>\n",
       "      <th>Host kingdom</th>\n",
       "    </tr>\n",
       "  </thead>\n",
       "  <tbody>\n",
       "  </tbody>\n",
       "</table>\n",
       "</div>"
      ],
      "text/plain": [
       "Empty DataFrame\n",
       "Columns: [Species taxonomic ID, Virus hosts, Protein names, Species name, Species superkingdom, Species family, Infects human, Virus hosts ID, Virus host name, Host superkingdom, Host kingdom]\n",
       "Index: []"
      ]
     },
     "execution_count": 102,
     "metadata": {},
     "output_type": "execute_result"
    }
   ],
   "source": [
    "df[df['Virus hosts ID'].isna()]"
   ]
  },
  {
   "cell_type": "code",
   "execution_count": 103,
   "metadata": {},
   "outputs": [
    {
     "data": {
      "text/plain": [
       "274"
      ]
     },
     "execution_count": 103,
     "metadata": {},
     "output_type": "execute_result"
    }
   ],
   "source": [
    "df['Virus hosts ID'][1866]"
   ]
  },
  {
   "cell_type": "code",
   "execution_count": 104,
   "metadata": {},
   "outputs": [
    {
     "data": {
      "application/vnd.jupyter.widget-view+json": {
       "model_id": "f7f6563883a941538ca9b8ff68405903",
       "version_major": 2,
       "version_minor": 0
      },
      "text/plain": [
       "Getting Species name:   0%|          | 0/7270 [00:00<?, ?it/s]"
      ]
     },
     "metadata": {},
     "output_type": "display_data"
    }
   ],
   "source": [
    "df['Virus hosts ID'] = df['Virus hosts ID'].progress_apply(int)"
   ]
  },
  {
   "cell_type": "code",
   "execution_count": 105,
   "metadata": {},
   "outputs": [],
   "source": [
    "df['Virus hosts'] = (df.drop('Virus hosts', axis=1)\n",
    "                     .apply(lambda x: nameMerger(x['Virus host name'], x['Virus hosts ID']), axis=1))"
   ]
  },
  {
   "cell_type": "code",
   "execution_count": 106,
   "metadata": {
    "tags": []
   },
   "outputs": [
    {
     "data": {
      "text/html": [
       "<div>\n",
       "<style scoped>\n",
       "    .dataframe tbody tr th:only-of-type {\n",
       "        vertical-align: middle;\n",
       "    }\n",
       "\n",
       "    .dataframe tbody tr th {\n",
       "        vertical-align: top;\n",
       "    }\n",
       "\n",
       "    .dataframe thead th {\n",
       "        text-align: right;\n",
       "    }\n",
       "</style>\n",
       "<table border=\"1\" class=\"dataframe\">\n",
       "  <thead>\n",
       "    <tr style=\"text-align: right;\">\n",
       "      <th></th>\n",
       "      <th>Species taxonomic ID</th>\n",
       "      <th>Virus hosts</th>\n",
       "      <th>Protein names</th>\n",
       "      <th>Species name</th>\n",
       "      <th>Species superkingdom</th>\n",
       "      <th>Species family</th>\n",
       "      <th>Infects human</th>\n",
       "      <th>Virus hosts ID</th>\n",
       "      <th>Virus host name</th>\n",
       "      <th>Host superkingdom</th>\n",
       "      <th>Host kingdom</th>\n",
       "    </tr>\n",
       "  </thead>\n",
       "  <tbody>\n",
       "    <tr>\n",
       "      <th>6819</th>\n",
       "      <td>2733575</td>\n",
       "      <td>Proteus mirabilis [TaxID: 584]</td>\n",
       "      <td>Head-tail connector</td>\n",
       "      <td>Proteus virus PM93</td>\n",
       "      <td>Viruses</td>\n",
       "      <td>Autographiviridae</td>\n",
       "      <td>human-false</td>\n",
       "      <td>584</td>\n",
       "      <td>Proteus mirabilis</td>\n",
       "      <td>Bacteria</td>\n",
       "      <td>Proteus mirabilis</td>\n",
       "    </tr>\n",
       "    <tr>\n",
       "      <th>5858</th>\n",
       "      <td>2304449</td>\n",
       "      <td>Okapia johnstoni [TaxID: 86973]</td>\n",
       "      <td>Major capsid protein L1; Minor capsid protein L2</td>\n",
       "      <td>Okapia johnstoni papillomavirus 1</td>\n",
       "      <td>Viruses</td>\n",
       "      <td>Papillomaviridae</td>\n",
       "      <td>human-false</td>\n",
       "      <td>86973</td>\n",
       "      <td>Okapia johnstoni</td>\n",
       "      <td>Eukaryota</td>\n",
       "      <td>Metazoa</td>\n",
       "    </tr>\n",
       "    <tr>\n",
       "      <th>120</th>\n",
       "      <td>10497</td>\n",
       "      <td>Ornithodoros [TaxID: 6937]</td>\n",
       "      <td>Envelope protein p54</td>\n",
       "      <td>African swine fever virus</td>\n",
       "      <td>Viruses</td>\n",
       "      <td>Asfarviridae</td>\n",
       "      <td>human-false</td>\n",
       "      <td>6937</td>\n",
       "      <td>Ornithodoros</td>\n",
       "      <td>Eukaryota</td>\n",
       "      <td>Metazoa</td>\n",
       "    </tr>\n",
       "    <tr>\n",
       "      <th>653</th>\n",
       "      <td>28875</td>\n",
       "      <td>Chlorocebus pygerythrus [TaxID: 60710]</td>\n",
       "      <td>Truncated outer capsid protein VP8; Outer caps...</td>\n",
       "      <td>Rotavirus A</td>\n",
       "      <td>Viruses</td>\n",
       "      <td>Reoviridae</td>\n",
       "      <td>human-true</td>\n",
       "      <td>60710</td>\n",
       "      <td>Chlorocebus pygerythrus</td>\n",
       "      <td>Eukaryota</td>\n",
       "      <td>Metazoa</td>\n",
       "    </tr>\n",
       "  </tbody>\n",
       "</table>\n",
       "</div>"
      ],
      "text/plain": [
       "      Species taxonomic ID                             Virus hosts  \\\n",
       "6819               2733575          Proteus mirabilis [TaxID: 584]   \n",
       "5858               2304449         Okapia johnstoni [TaxID: 86973]   \n",
       "120                  10497              Ornithodoros [TaxID: 6937]   \n",
       "653                  28875  Chlorocebus pygerythrus [TaxID: 60710]   \n",
       "\n",
       "                                          Protein names  \\\n",
       "6819                                Head-tail connector   \n",
       "5858   Major capsid protein L1; Minor capsid protein L2   \n",
       "120                                Envelope protein p54   \n",
       "653   Truncated outer capsid protein VP8; Outer caps...   \n",
       "\n",
       "                           Species name Species superkingdom  \\\n",
       "6819                 Proteus virus PM93              Viruses   \n",
       "5858  Okapia johnstoni papillomavirus 1              Viruses   \n",
       "120           African swine fever virus              Viruses   \n",
       "653                         Rotavirus A              Viruses   \n",
       "\n",
       "         Species family Infects human  Virus hosts ID  \\\n",
       "6819  Autographiviridae   human-false             584   \n",
       "5858   Papillomaviridae   human-false           86973   \n",
       "120        Asfarviridae   human-false            6937   \n",
       "653          Reoviridae    human-true           60710   \n",
       "\n",
       "              Virus host name Host superkingdom       Host kingdom  \n",
       "6819        Proteus mirabilis          Bacteria  Proteus mirabilis  \n",
       "5858         Okapia johnstoni         Eukaryota            Metazoa  \n",
       "120              Ornithodoros         Eukaryota            Metazoa  \n",
       "653   Chlorocebus pygerythrus         Eukaryota            Metazoa  "
      ]
     },
     "execution_count": 106,
     "metadata": {},
     "output_type": "execute_result"
    }
   ],
   "source": [
    "df.sample(4)"
   ]
  },
  {
   "cell_type": "code",
   "execution_count": 107,
   "metadata": {},
   "outputs": [
    {
     "data": {
      "text/plain": [
       "(7270, 11)"
      ]
     },
     "execution_count": 107,
     "metadata": {},
     "output_type": "execute_result"
    }
   ],
   "source": [
    "df.shape"
   ]
  },
  {
   "cell_type": "code",
   "execution_count": 108,
   "metadata": {},
   "outputs": [],
   "source": [
    "df = (df.set_index(df.columns.drop('Protein names',1).tolist())['Protein names'].str.split(';', expand=True)\n",
    "          .stack()\n",
    "          .reset_index()\n",
    "          .rename(columns={0:'Protein names'})\n",
    "          .loc[:, df.columns]\n",
    "         ).copy()"
   ]
  },
  {
   "cell_type": "code",
   "execution_count": 109,
   "metadata": {},
   "outputs": [
    {
     "data": {
      "text/plain": [
       "(0, 11)"
      ]
     },
     "execution_count": 109,
     "metadata": {},
     "output_type": "execute_result"
    }
   ],
   "source": [
    "df[df['Host superkingdom'].isnull()].shape"
   ]
  },
  {
   "cell_type": "code",
   "execution_count": 110,
   "metadata": {},
   "outputs": [
    {
     "data": {
      "text/plain": [
       "array(['Eukaryota', 'Bacteria', 'Viruses', 'root', 'Archaea'],\n",
       "      dtype=object)"
      ]
     },
     "execution_count": 110,
     "metadata": {},
     "output_type": "execute_result"
    }
   ],
   "source": [
    "df['Host superkingdom'].unique()"
   ]
  },
  {
   "cell_type": "code",
   "execution_count": 111,
   "metadata": {},
   "outputs": [
    {
     "data": {
      "text/plain": [
       "(18376, 11)"
      ]
     },
     "execution_count": 111,
     "metadata": {},
     "output_type": "execute_result"
    }
   ],
   "source": [
    "df[df['Host superkingdom'] == 'Eukaryota'].shape"
   ]
  },
  {
   "cell_type": "code",
   "execution_count": 112,
   "metadata": {},
   "outputs": [
    {
     "data": {
      "text/plain": [
       "(4, 11)"
      ]
     },
     "execution_count": 112,
     "metadata": {},
     "output_type": "execute_result"
    }
   ],
   "source": [
    "df[df['Host superkingdom'] == 'Viruses'].shape"
   ]
  },
  {
   "cell_type": "code",
   "execution_count": 113,
   "metadata": {},
   "outputs": [
    {
     "data": {
      "text/plain": [
       "(4099, 11)"
      ]
     },
     "execution_count": 113,
     "metadata": {},
     "output_type": "execute_result"
    }
   ],
   "source": [
    "df[df['Host superkingdom'] == 'Bacteria'].shape"
   ]
  },
  {
   "cell_type": "code",
   "execution_count": 114,
   "metadata": {},
   "outputs": [
    {
     "data": {
      "text/plain": [
       "(38, 11)"
      ]
     },
     "execution_count": 114,
     "metadata": {},
     "output_type": "execute_result"
    }
   ],
   "source": [
    "df[df['Host superkingdom'] == 'root'].shape"
   ]
  },
  {
   "cell_type": "code",
   "execution_count": 115,
   "metadata": {},
   "outputs": [
    {
     "data": {
      "text/plain": [
       "(14, 11)"
      ]
     },
     "execution_count": 115,
     "metadata": {},
     "output_type": "execute_result"
    }
   ],
   "source": [
    "df[df['Host superkingdom'] == 'Archaea'].shape"
   ]
  },
  {
   "cell_type": "code",
   "execution_count": 116,
   "metadata": {},
   "outputs": [
    {
     "name": "stdout",
     "output_type": "stream",
     "text": [
      "(17312, 11)\n"
     ]
    },
    {
     "data": {
      "text/html": [
       "<div>\n",
       "<style scoped>\n",
       "    .dataframe tbody tr th:only-of-type {\n",
       "        vertical-align: middle;\n",
       "    }\n",
       "\n",
       "    .dataframe tbody tr th {\n",
       "        vertical-align: top;\n",
       "    }\n",
       "\n",
       "    .dataframe thead th {\n",
       "        text-align: right;\n",
       "    }\n",
       "</style>\n",
       "<table border=\"1\" class=\"dataframe\">\n",
       "  <thead>\n",
       "    <tr style=\"text-align: right;\">\n",
       "      <th></th>\n",
       "      <th>Species taxonomic ID</th>\n",
       "      <th>Virus hosts</th>\n",
       "      <th>Protein names</th>\n",
       "      <th>Species name</th>\n",
       "      <th>Species superkingdom</th>\n",
       "      <th>Species family</th>\n",
       "      <th>Infects human</th>\n",
       "      <th>Virus hosts ID</th>\n",
       "      <th>Virus host name</th>\n",
       "      <th>Host superkingdom</th>\n",
       "      <th>Host kingdom</th>\n",
       "    </tr>\n",
       "  </thead>\n",
       "  <tbody>\n",
       "    <tr>\n",
       "      <th>7129</th>\n",
       "      <td>41118</td>\n",
       "      <td>Rodentia [TaxID: 9989]</td>\n",
       "      <td>Pre-glycoprotein polyprotein GP complex (Pre-...</td>\n",
       "      <td>Arenavirus sp.</td>\n",
       "      <td>Viruses</td>\n",
       "      <td>Arenaviridae</td>\n",
       "      <td>human-false</td>\n",
       "      <td>9989</td>\n",
       "      <td>Rodentia</td>\n",
       "      <td>Eukaryota</td>\n",
       "      <td>Metazoa</td>\n",
       "    </tr>\n",
       "    <tr>\n",
       "      <th>6368</th>\n",
       "      <td>28875</td>\n",
       "      <td>Mus musculus [TaxID: 10090]</td>\n",
       "      <td>Outer capsid protein VP4</td>\n",
       "      <td>Rotavirus A</td>\n",
       "      <td>Viruses</td>\n",
       "      <td>Reoviridae</td>\n",
       "      <td>human-true</td>\n",
       "      <td>10090</td>\n",
       "      <td>Mus musculus</td>\n",
       "      <td>Eukaryota</td>\n",
       "      <td>Metazoa</td>\n",
       "    </tr>\n",
       "    <tr>\n",
       "      <th>19666</th>\n",
       "      <td>2169902</td>\n",
       "      <td>Homo sapiens [TaxID: 9606]</td>\n",
       "      <td>Major capsid protein L1</td>\n",
       "      <td>Gammapapillomavirus 27</td>\n",
       "      <td>Viruses</td>\n",
       "      <td>Papillomaviridae</td>\n",
       "      <td>human-true</td>\n",
       "      <td>9606</td>\n",
       "      <td>Homo sapiens</td>\n",
       "      <td>Eukaryota</td>\n",
       "      <td>Metazoa</td>\n",
       "    </tr>\n",
       "  </tbody>\n",
       "</table>\n",
       "</div>"
      ],
      "text/plain": [
       "       Species taxonomic ID                  Virus hosts  \\\n",
       "7129                  41118       Rodentia [TaxID: 9989]   \n",
       "6368                  28875  Mus musculus [TaxID: 10090]   \n",
       "19666               2169902   Homo sapiens [TaxID: 9606]   \n",
       "\n",
       "                                           Protein names  \\\n",
       "7129    Pre-glycoprotein polyprotein GP complex (Pre-...   \n",
       "6368                            Outer capsid protein VP4   \n",
       "19666                            Major capsid protein L1   \n",
       "\n",
       "                 Species name Species superkingdom    Species family  \\\n",
       "7129           Arenavirus sp.              Viruses      Arenaviridae   \n",
       "6368              Rotavirus A              Viruses        Reoviridae   \n",
       "19666  Gammapapillomavirus 27              Viruses  Papillomaviridae   \n",
       "\n",
       "      Infects human  Virus hosts ID Virus host name Host superkingdom  \\\n",
       "7129    human-false            9989        Rodentia         Eukaryota   \n",
       "6368     human-true           10090    Mus musculus         Eukaryota   \n",
       "19666    human-true            9606    Homo sapiens         Eukaryota   \n",
       "\n",
       "      Host kingdom  \n",
       "7129       Metazoa  \n",
       "6368       Metazoa  \n",
       "19666      Metazoa  "
      ]
     },
     "execution_count": 116,
     "metadata": {},
     "output_type": "execute_result"
    }
   ],
   "source": [
    "print(df[df['Host kingdom'] == 'Metazoa'].shape)\n",
    "df[df['Host kingdom'] == 'Metazoa'].sample(3)"
   ]
  },
  {
   "cell_type": "code",
   "execution_count": 117,
   "metadata": {},
   "outputs": [
    {
     "data": {
      "text/plain": [
       "(8457, 11)"
      ]
     },
     "execution_count": 117,
     "metadata": {},
     "output_type": "execute_result"
    }
   ],
   "source": [
    "df[df['Infects human'] == 'human-true'].shape"
   ]
  },
  {
   "cell_type": "code",
   "execution_count": 118,
   "metadata": {},
   "outputs": [
    {
     "data": {
      "text/plain": [
       "(14074, 11)"
      ]
     },
     "execution_count": 118,
     "metadata": {},
     "output_type": "execute_result"
    }
   ],
   "source": [
    "df[df['Infects human'] == 'human-false'].shape"
   ]
  },
  {
   "cell_type": "code",
   "execution_count": 119,
   "metadata": {},
   "outputs": [
    {
     "data": {
      "text/html": [
       "<div>\n",
       "<style scoped>\n",
       "    .dataframe tbody tr th:only-of-type {\n",
       "        vertical-align: middle;\n",
       "    }\n",
       "\n",
       "    .dataframe tbody tr th {\n",
       "        vertical-align: top;\n",
       "    }\n",
       "\n",
       "    .dataframe thead th {\n",
       "        text-align: right;\n",
       "    }\n",
       "</style>\n",
       "<table border=\"1\" class=\"dataframe\">\n",
       "  <thead>\n",
       "    <tr style=\"text-align: right;\">\n",
       "      <th></th>\n",
       "      <th>Species taxonomic ID</th>\n",
       "      <th>Virus hosts</th>\n",
       "      <th>Protein names</th>\n",
       "      <th>Species name</th>\n",
       "      <th>Species superkingdom</th>\n",
       "      <th>Species family</th>\n",
       "      <th>Infects human</th>\n",
       "      <th>Virus hosts ID</th>\n",
       "      <th>Virus host name</th>\n",
       "      <th>Host superkingdom</th>\n",
       "      <th>Host kingdom</th>\n",
       "    </tr>\n",
       "  </thead>\n",
       "  <tbody>\n",
       "    <tr>\n",
       "      <th>15061</th>\n",
       "      <td>1511906</td>\n",
       "      <td>Canis lupus [TaxID: 9612]</td>\n",
       "      <td>Capsid protein (Virus protein 2)</td>\n",
       "      <td>Carnivore protoparvovirus 1</td>\n",
       "      <td>Viruses</td>\n",
       "      <td>Parvoviridae</td>\n",
       "      <td>human-false</td>\n",
       "      <td>9612</td>\n",
       "      <td>Canis lupus</td>\n",
       "      <td>Eukaryota</td>\n",
       "      <td>Metazoa</td>\n",
       "    </tr>\n",
       "    <tr>\n",
       "      <th>1662</th>\n",
       "      <td>10561</td>\n",
       "      <td>Bos taurus [TaxID: 9913]</td>\n",
       "      <td>Minor capsid protein L2</td>\n",
       "      <td>Xipapillomavirus 1</td>\n",
       "      <td>Viruses</td>\n",
       "      <td>Papillomaviridae</td>\n",
       "      <td>human-false</td>\n",
       "      <td>9913</td>\n",
       "      <td>Bos taurus</td>\n",
       "      <td>Eukaryota</td>\n",
       "      <td>Metazoa</td>\n",
       "    </tr>\n",
       "  </tbody>\n",
       "</table>\n",
       "</div>"
      ],
      "text/plain": [
       "       Species taxonomic ID                Virus hosts  \\\n",
       "15061               1511906  Canis lupus [TaxID: 9612]   \n",
       "1662                  10561   Bos taurus [TaxID: 9913]   \n",
       "\n",
       "                           Protein names                 Species name  \\\n",
       "15061   Capsid protein (Virus protein 2)  Carnivore protoparvovirus 1   \n",
       "1662             Minor capsid protein L2           Xipapillomavirus 1   \n",
       "\n",
       "      Species superkingdom    Species family Infects human  Virus hosts ID  \\\n",
       "15061              Viruses      Parvoviridae   human-false            9612   \n",
       "1662               Viruses  Papillomaviridae   human-false            9913   \n",
       "\n",
       "      Virus host name Host superkingdom Host kingdom  \n",
       "15061     Canis lupus         Eukaryota      Metazoa  \n",
       "1662       Bos taurus         Eukaryota      Metazoa  "
      ]
     },
     "execution_count": 119,
     "metadata": {},
     "output_type": "execute_result"
    }
   ],
   "source": [
    "df.sample(2)"
   ]
  },
  {
   "cell_type": "code",
   "execution_count": 120,
   "metadata": {},
   "outputs": [
    {
     "data": {
      "text/html": [
       "<div>\n",
       "<style scoped>\n",
       "    .dataframe tbody tr th:only-of-type {\n",
       "        vertical-align: middle;\n",
       "    }\n",
       "\n",
       "    .dataframe tbody tr th {\n",
       "        vertical-align: top;\n",
       "    }\n",
       "\n",
       "    .dataframe thead th {\n",
       "        text-align: right;\n",
       "    }\n",
       "</style>\n",
       "<table border=\"1\" class=\"dataframe\">\n",
       "  <thead>\n",
       "    <tr style=\"text-align: right;\">\n",
       "      <th></th>\n",
       "      <th>Species taxonomic ID</th>\n",
       "      <th>Virus hosts</th>\n",
       "      <th>Protein names</th>\n",
       "      <th>Species name</th>\n",
       "      <th>Species superkingdom</th>\n",
       "      <th>Species family</th>\n",
       "      <th>Infects human</th>\n",
       "      <th>Virus hosts ID</th>\n",
       "      <th>Virus host name</th>\n",
       "      <th>Host superkingdom</th>\n",
       "      <th>Host kingdom</th>\n",
       "    </tr>\n",
       "  </thead>\n",
       "  <tbody>\n",
       "    <tr>\n",
       "      <th>1807</th>\n",
       "      <td>10713</td>\n",
       "      <td>Escherichia coli [TaxID: 562]</td>\n",
       "      <td>Integrase (EC 2.7.7.-) (EC 3.1.-.-)</td>\n",
       "      <td>Enterobacteria phage phi80</td>\n",
       "      <td>Viruses</td>\n",
       "      <td>Siphoviridae</td>\n",
       "      <td>human-false</td>\n",
       "      <td>562</td>\n",
       "      <td>Escherichia coli</td>\n",
       "      <td>Bacteria</td>\n",
       "      <td>Escherichia coli</td>\n",
       "    </tr>\n",
       "    <tr>\n",
       "      <th>12369</th>\n",
       "      <td>1147143</td>\n",
       "      <td>Escherichia coli [TaxID: 562]</td>\n",
       "      <td>Integrase</td>\n",
       "      <td>Enterobacteria phage HK140</td>\n",
       "      <td>Viruses</td>\n",
       "      <td>Siphoviridae</td>\n",
       "      <td>human-false</td>\n",
       "      <td>562</td>\n",
       "      <td>Escherichia coli</td>\n",
       "      <td>Bacteria</td>\n",
       "      <td>Escherichia coli</td>\n",
       "    </tr>\n",
       "  </tbody>\n",
       "</table>\n",
       "</div>"
      ],
      "text/plain": [
       "       Species taxonomic ID                    Virus hosts  \\\n",
       "1807                  10713  Escherichia coli [TaxID: 562]   \n",
       "12369               1147143  Escherichia coli [TaxID: 562]   \n",
       "\n",
       "                              Protein names                Species name  \\\n",
       "1807    Integrase (EC 2.7.7.-) (EC 3.1.-.-)  Enterobacteria phage phi80   \n",
       "12369                             Integrase  Enterobacteria phage HK140   \n",
       "\n",
       "      Species superkingdom Species family Infects human  Virus hosts ID  \\\n",
       "1807               Viruses   Siphoviridae   human-false             562   \n",
       "12369              Viruses   Siphoviridae   human-false             562   \n",
       "\n",
       "        Virus host name Host superkingdom      Host kingdom  \n",
       "1807   Escherichia coli          Bacteria  Escherichia coli  \n",
       "12369  Escherichia coli          Bacteria  Escherichia coli  "
      ]
     },
     "execution_count": 120,
     "metadata": {},
     "output_type": "execute_result"
    }
   ],
   "source": [
    "df.sample(2)"
   ]
  },
  {
   "cell_type": "code",
   "execution_count": 121,
   "metadata": {},
   "outputs": [
    {
     "name": "stdout",
     "output_type": "stream",
     "text": [
      "Species taxonomic ID 4766\n",
      "Virus hosts 1765\n",
      "Protein names 2038\n",
      "Species name 4766\n",
      "Species superkingdom 1\n",
      "Species family 80\n",
      "Infects human 2\n",
      "Virus hosts ID 1765\n",
      "Virus host name 1756\n",
      "Host superkingdom 5\n",
      "Host kingdom 344\n",
      "Dataframe total 22531\n"
     ]
    }
   ],
   "source": [
    "for column in df.columns:\n",
    "    print(column, df[column].nunique())\n",
    "print('Dataframe total',len(df))"
   ]
  },
  {
   "cell_type": "code",
   "execution_count": 122,
   "metadata": {},
   "outputs": [
    {
     "data": {
      "text/html": [
       "<div>\n",
       "<style scoped>\n",
       "    .dataframe tbody tr th:only-of-type {\n",
       "        vertical-align: middle;\n",
       "    }\n",
       "\n",
       "    .dataframe tbody tr th {\n",
       "        vertical-align: top;\n",
       "    }\n",
       "\n",
       "    .dataframe thead th {\n",
       "        text-align: right;\n",
       "    }\n",
       "</style>\n",
       "<table border=\"1\" class=\"dataframe\">\n",
       "  <thead>\n",
       "    <tr style=\"text-align: right;\">\n",
       "      <th></th>\n",
       "      <th>Species taxonomic ID</th>\n",
       "      <th>Virus hosts</th>\n",
       "      <th>Protein names</th>\n",
       "      <th>Species name</th>\n",
       "      <th>Species superkingdom</th>\n",
       "      <th>Species family</th>\n",
       "      <th>Infects human</th>\n",
       "      <th>Virus hosts ID</th>\n",
       "      <th>Virus host name</th>\n",
       "      <th>Host superkingdom</th>\n",
       "      <th>Host kingdom</th>\n",
       "    </tr>\n",
       "  </thead>\n",
       "  <tbody>\n",
       "    <tr>\n",
       "      <th>13152</th>\n",
       "      <td>1283076</td>\n",
       "      <td>Candidatus Pelagibacter ubique [TaxID: 198252]</td>\n",
       "      <td>Tail sheath protein</td>\n",
       "      <td>Pelagibacter phage HTVC008M</td>\n",
       "      <td>Viruses</td>\n",
       "      <td>Myoviridae</td>\n",
       "      <td>human-false</td>\n",
       "      <td>198252</td>\n",
       "      <td>Candidatus Pelagibacter ubique</td>\n",
       "      <td>Bacteria</td>\n",
       "      <td>Candidatus Pelagibacter ubique</td>\n",
       "    </tr>\n",
       "    <tr>\n",
       "      <th>12716</th>\n",
       "      <td>1193974</td>\n",
       "      <td>Primates [TaxID: 9443]</td>\n",
       "      <td>Capsid protein VP3 (P1C) (Virion protein 3)</td>\n",
       "      <td>Human enterovirus</td>\n",
       "      <td>Viruses</td>\n",
       "      <td>Picornaviridae</td>\n",
       "      <td>human-true</td>\n",
       "      <td>9443</td>\n",
       "      <td>Primates</td>\n",
       "      <td>Eukaryota</td>\n",
       "      <td>Metazoa</td>\n",
       "    </tr>\n",
       "  </tbody>\n",
       "</table>\n",
       "</div>"
      ],
      "text/plain": [
       "       Species taxonomic ID                                     Virus hosts  \\\n",
       "13152               1283076  Candidatus Pelagibacter ubique [TaxID: 198252]   \n",
       "12716               1193974                          Primates [TaxID: 9443]   \n",
       "\n",
       "                                      Protein names  \\\n",
       "13152                           Tail sheath protein   \n",
       "12716   Capsid protein VP3 (P1C) (Virion protein 3)   \n",
       "\n",
       "                      Species name Species superkingdom  Species family  \\\n",
       "13152  Pelagibacter phage HTVC008M              Viruses      Myoviridae   \n",
       "12716            Human enterovirus              Viruses  Picornaviridae   \n",
       "\n",
       "      Infects human  Virus hosts ID                 Virus host name  \\\n",
       "13152   human-false          198252  Candidatus Pelagibacter ubique   \n",
       "12716    human-true            9443                        Primates   \n",
       "\n",
       "      Host superkingdom                    Host kingdom  \n",
       "13152          Bacteria  Candidatus Pelagibacter ubique  \n",
       "12716         Eukaryota                         Metazoa  "
      ]
     },
     "execution_count": 122,
     "metadata": {},
     "output_type": "execute_result"
    }
   ],
   "source": [
    "df.sample(2)"
   ]
  },
  {
   "cell_type": "markdown",
   "metadata": {},
   "source": [
    "# Restructuring the data"
   ]
  },
  {
   "cell_type": "code",
   "execution_count": 123,
   "metadata": {},
   "outputs": [
    {
     "data": {
      "text/html": [
       "<div>\n",
       "<style scoped>\n",
       "    .dataframe tbody tr th:only-of-type {\n",
       "        vertical-align: middle;\n",
       "    }\n",
       "\n",
       "    .dataframe tbody tr th {\n",
       "        vertical-align: top;\n",
       "    }\n",
       "\n",
       "    .dataframe thead th {\n",
       "        text-align: right;\n",
       "    }\n",
       "</style>\n",
       "<table border=\"1\" class=\"dataframe\">\n",
       "  <thead>\n",
       "    <tr style=\"text-align: right;\">\n",
       "      <th></th>\n",
       "      <th>Entry</th>\n",
       "      <th>Species taxonomic ID</th>\n",
       "    </tr>\n",
       "  </thead>\n",
       "  <tbody>\n",
       "    <tr>\n",
       "      <th>240053</th>\n",
       "      <td>H8YFX1</td>\n",
       "      <td>526476.0</td>\n",
       "    </tr>\n",
       "    <tr>\n",
       "      <th>285606</th>\n",
       "      <td>B6EFF8</td>\n",
       "      <td>11676.0</td>\n",
       "    </tr>\n",
       "  </tbody>\n",
       "</table>\n",
       "</div>"
      ],
      "text/plain": [
       "         Entry  Species taxonomic ID\n",
       "240053  H8YFX1              526476.0\n",
       "285606  B6EFF8               11676.0"
      ]
     },
     "execution_count": 123,
     "metadata": {},
     "output_type": "execute_result"
    }
   ],
   "source": [
    "# Earlier saved data\n",
    "dff.sample(2)"
   ]
  },
  {
   "cell_type": "code",
   "execution_count": 124,
   "metadata": {},
   "outputs": [
    {
     "data": {
      "text/plain": [
       "(358333, 2)"
      ]
     },
     "execution_count": 124,
     "metadata": {},
     "output_type": "execute_result"
    }
   ],
   "source": [
    "dff.shape"
   ]
  },
  {
   "cell_type": "code",
   "execution_count": 126,
   "metadata": {},
   "outputs": [],
   "source": [
    "fastaFileName = '../data/uniprot-keyword Virus+entry+into+host+cell+[KW-1160] +fragment no.fasta'\n",
    "\n",
    "entry_seq = read_fasta(fastaFileName)"
   ]
  },
  {
   "cell_type": "code",
   "execution_count": 127,
   "metadata": {
    "scrolled": true,
    "tags": []
   },
   "outputs": [],
   "source": [
    "dff.sort_values(by='Entry', inplace=True)\n",
    "\n",
    "objList = []\n",
    "for entry, obj in entry_seq:\n",
    "    objList.append(obj)\n",
    "\n",
    "dff['Sequence'] = objList"
   ]
  },
  {
   "cell_type": "code",
   "execution_count": 128,
   "metadata": {},
   "outputs": [
    {
     "data": {
      "text/html": [
       "<div>\n",
       "<style scoped>\n",
       "    .dataframe tbody tr th:only-of-type {\n",
       "        vertical-align: middle;\n",
       "    }\n",
       "\n",
       "    .dataframe tbody tr th {\n",
       "        vertical-align: top;\n",
       "    }\n",
       "\n",
       "    .dataframe thead th {\n",
       "        text-align: right;\n",
       "    }\n",
       "</style>\n",
       "<table border=\"1\" class=\"dataframe\">\n",
       "  <thead>\n",
       "    <tr style=\"text-align: right;\">\n",
       "      <th></th>\n",
       "      <th>Entry</th>\n",
       "      <th>Species taxonomic ID</th>\n",
       "      <th>Sequence</th>\n",
       "    </tr>\n",
       "  </thead>\n",
       "  <tbody>\n",
       "    <tr>\n",
       "      <th>50368</th>\n",
       "      <td>A0A009FEK4</td>\n",
       "      <td>470.0</td>\n",
       "      <td>&lt;zoonosisHelperFunctions.FASTASeq object at 0x...</td>\n",
       "    </tr>\n",
       "    <tr>\n",
       "      <th>156673</th>\n",
       "      <td>A0A009G3H3</td>\n",
       "      <td>1310609.0</td>\n",
       "      <td>&lt;zoonosisHelperFunctions.FASTASeq object at 0x...</td>\n",
       "    </tr>\n",
       "    <tr>\n",
       "      <th>146717</th>\n",
       "      <td>A0A009GC36</td>\n",
       "      <td>470.0</td>\n",
       "      <td>&lt;zoonosisHelperFunctions.FASTASeq object at 0x...</td>\n",
       "    </tr>\n",
       "    <tr>\n",
       "      <th>146730</th>\n",
       "      <td>A0A009GCG0</td>\n",
       "      <td>470.0</td>\n",
       "      <td>&lt;zoonosisHelperFunctions.FASTASeq object at 0x...</td>\n",
       "    </tr>\n",
       "    <tr>\n",
       "      <th>144753</th>\n",
       "      <td>A0A009GXT7</td>\n",
       "      <td>1310609.0</td>\n",
       "      <td>&lt;zoonosisHelperFunctions.FASTASeq object at 0x...</td>\n",
       "    </tr>\n",
       "  </tbody>\n",
       "</table>\n",
       "</div>"
      ],
      "text/plain": [
       "             Entry  Species taxonomic ID  \\\n",
       "50368   A0A009FEK4                 470.0   \n",
       "156673  A0A009G3H3             1310609.0   \n",
       "146717  A0A009GC36                 470.0   \n",
       "146730  A0A009GCG0                 470.0   \n",
       "144753  A0A009GXT7             1310609.0   \n",
       "\n",
       "                                                 Sequence  \n",
       "50368   <zoonosisHelperFunctions.FASTASeq object at 0x...  \n",
       "156673  <zoonosisHelperFunctions.FASTASeq object at 0x...  \n",
       "146717  <zoonosisHelperFunctions.FASTASeq object at 0x...  \n",
       "146730  <zoonosisHelperFunctions.FASTASeq object at 0x...  \n",
       "144753  <zoonosisHelperFunctions.FASTASeq object at 0x...  "
      ]
     },
     "execution_count": 128,
     "metadata": {},
     "output_type": "execute_result"
    }
   ],
   "source": [
    "dff.head()"
   ]
  },
  {
   "cell_type": "code",
   "execution_count": 129,
   "metadata": {},
   "outputs": [],
   "source": [
    "df.drop(['Virus host name', 'Protein names', 'Species superkingdom'], axis=1, inplace=True)"
   ]
  },
  {
   "cell_type": "code",
   "execution_count": 130,
   "metadata": {},
   "outputs": [],
   "source": [
    "df = df.merge(dff, on='Species taxonomic ID', how='left')"
   ]
  },
  {
   "cell_type": "code",
   "execution_count": 131,
   "metadata": {},
   "outputs": [],
   "source": [
    "del dff, df2"
   ]
  },
  {
   "cell_type": "code",
   "execution_count": 132,
   "metadata": {},
   "outputs": [
    {
     "data": {
      "text/plain": [
       "(48728179, 10)"
      ]
     },
     "execution_count": 132,
     "metadata": {},
     "output_type": "execute_result"
    }
   ],
   "source": [
    "df.shape"
   ]
  },
  {
   "cell_type": "code",
   "execution_count": 133,
   "metadata": {},
   "outputs": [],
   "source": [
    "df.drop_duplicates(inplace=True)"
   ]
  },
  {
   "cell_type": "code",
   "execution_count": 134,
   "metadata": {},
   "outputs": [
    {
     "data": {
      "text/plain": [
       "(2277584, 10)"
      ]
     },
     "execution_count": 134,
     "metadata": {},
     "output_type": "execute_result"
    }
   ],
   "source": [
    "df.shape"
   ]
  },
  {
   "cell_type": "code",
   "execution_count": 135,
   "metadata": {},
   "outputs": [],
   "source": [
    "df['Virus hosts ID'] = df['Virus hosts ID'].apply(str)"
   ]
  },
  {
   "cell_type": "code",
   "execution_count": 136,
   "metadata": {},
   "outputs": [],
   "source": [
    "df = (df.groupby('Entry', as_index=False)\n",
    "       .agg({'Virus hosts':set, #'Protein':'first', \n",
    "             'Infects human':'first', 'Species name':'first',\n",
    "             'Host superkingdom':set,\n",
    "             'Host kingdom':set,\n",
    "             'Virus hosts ID':set,\n",
    "             'Species family':'first',\n",
    "             'Species taxonomic ID':'first',\n",
    "             'Sequence': 'first'}))"
   ]
  },
  {
   "cell_type": "code",
   "execution_count": 137,
   "metadata": {},
   "outputs": [
    {
     "data": {
      "application/vnd.jupyter.widget-view+json": {
       "model_id": "f89cb3a786e8431598d3f85abe28f1c5",
       "version_major": 2,
       "version_minor": 0
      },
      "text/plain": [
       "Joining host names list:   0%|          | 0/317316 [00:00<?, ?it/s]"
      ]
     },
     "metadata": {},
     "output_type": "display_data"
    },
    {
     "data": {
      "application/vnd.jupyter.widget-view+json": {
       "model_id": "ea1e89641db14630b507a948c0bb1451",
       "version_major": 2,
       "version_minor": 0
      },
      "text/plain": [
       "Joining host IDs:   0%|          | 0/317316 [00:00<?, ?it/s]"
      ]
     },
     "metadata": {},
     "output_type": "display_data"
    },
    {
     "data": {
      "application/vnd.jupyter.widget-view+json": {
       "model_id": "60a888b746f54b059e783eb39ed16e07",
       "version_major": 2,
       "version_minor": 0
      },
      "text/plain": [
       "Joining host kingdom names:   0%|          | 0/317316 [00:00<?, ?it/s]"
      ]
     },
     "metadata": {},
     "output_type": "display_data"
    },
    {
     "data": {
      "application/vnd.jupyter.widget-view+json": {
       "model_id": "69472d9d7af64eef9591822e396c74c9",
       "version_major": 2,
       "version_minor": 0
      },
      "text/plain": [
       "Joining host superkingdom names:   0%|          | 0/317316 [00:00<?, ?it/s]"
      ]
     },
     "metadata": {},
     "output_type": "display_data"
    }
   ],
   "source": [
    "df['Virus hosts'] = (df['Virus hosts']\n",
    "                     .swifter.progress_bar(enable=True,\n",
    "                                           desc='Joining host names list')\n",
    "                     .apply('; '.join))\n",
    "df['Virus hosts ID'] = (df['Virus hosts ID']\n",
    "                        .swifter.progress_bar(enable=True,\n",
    "                                              desc='Joining host IDs')\n",
    "                        .apply('; '.join))\n",
    "df['Host kingdom'] = (df['Host kingdom']\n",
    "                      .swifter.progress_bar(enable=True,\n",
    "                                            desc='Joining host kingdom names')\n",
    "                      .apply('; '.join))\n",
    "df['Host superkingdom'] = (df['Host superkingdom']\n",
    "                           .swifter.progress_bar(enable=True,\n",
    "                                                 desc='Joining host superkingdom names')\n",
    "                           .apply('; '.join))"
   ]
  },
  {
   "cell_type": "code",
   "execution_count": 138,
   "metadata": {},
   "outputs": [
    {
     "data": {
      "text/plain": [
       "(317316, 10)"
      ]
     },
     "execution_count": 138,
     "metadata": {},
     "output_type": "execute_result"
    }
   ],
   "source": [
    "df.shape"
   ]
  },
  {
   "cell_type": "code",
   "execution_count": 139,
   "metadata": {
    "scrolled": true,
    "tags": []
   },
   "outputs": [
    {
     "data": {
      "application/vnd.jupyter.widget-view+json": {
       "model_id": "173ec233d3844c168effd0eeccb14bc4",
       "version_major": 2,
       "version_minor": 0
      },
      "text/plain": [
       "Joining host superkingdom names:   0%|          | 0/317316 [00:00<?, ?it/s]"
      ]
     },
     "metadata": {},
     "output_type": "display_data"
    }
   ],
   "source": [
    "df['Sequence'] = df.progress_apply(lambda x: getSequenceFeatures(\n",
    "    seqObj=x['Sequence'], entry=x['Entry'],\n",
    "    organism=x['Species name'], status=x['Infects human']), axis=1)"
   ]
  },
  {
   "cell_type": "code",
   "execution_count": 140,
   "metadata": {},
   "outputs": [],
   "source": [
    "df['Protein'] = df['Sequence'].apply(lambda x: x.protein_name)"
   ]
  },
  {
   "cell_type": "code",
   "execution_count": 141,
   "metadata": {},
   "outputs": [
    {
     "data": {
      "text/html": [
       "<div>\n",
       "<style scoped>\n",
       "    .dataframe tbody tr th:only-of-type {\n",
       "        vertical-align: middle;\n",
       "    }\n",
       "\n",
       "    .dataframe tbody tr th {\n",
       "        vertical-align: top;\n",
       "    }\n",
       "\n",
       "    .dataframe thead th {\n",
       "        text-align: right;\n",
       "    }\n",
       "</style>\n",
       "<table border=\"1\" class=\"dataframe\">\n",
       "  <thead>\n",
       "    <tr style=\"text-align: right;\">\n",
       "      <th></th>\n",
       "      <th>Entry</th>\n",
       "      <th>Virus hosts</th>\n",
       "      <th>Infects human</th>\n",
       "      <th>Species name</th>\n",
       "      <th>Host superkingdom</th>\n",
       "      <th>Host kingdom</th>\n",
       "      <th>Virus hosts ID</th>\n",
       "      <th>Species family</th>\n",
       "      <th>Species taxonomic ID</th>\n",
       "      <th>Sequence</th>\n",
       "      <th>Protein</th>\n",
       "    </tr>\n",
       "  </thead>\n",
       "  <tbody>\n",
       "    <tr>\n",
       "      <th>139429</th>\n",
       "      <td>A0A3S5FYS4</td>\n",
       "      <td>Panthera tigris [TaxID: 9694]; Sturnira lilium...</td>\n",
       "      <td>human-true</td>\n",
       "      <td>Influenza A virus</td>\n",
       "      <td>Eukaryota</td>\n",
       "      <td>Metazoa</td>\n",
       "      <td>9666; 27660; 9685; 9721; 9709; 9823; 8782; 969...</td>\n",
       "      <td>Orthomyxoviridae</td>\n",
       "      <td>11320</td>\n",
       "      <td>&lt;zoonosisHelperFunctions.FASTASeq object at 0x...</td>\n",
       "      <td>Nucleoprotein</td>\n",
       "    </tr>\n",
       "    <tr>\n",
       "      <th>114041</th>\n",
       "      <td>A0A2P1DR03</td>\n",
       "      <td>Homo sapiens [TaxID: 9606]; Macaca nemestrina ...</td>\n",
       "      <td>human-true</td>\n",
       "      <td>Simian-Human immunodeficiency virus</td>\n",
       "      <td>Eukaryota</td>\n",
       "      <td>Metazoa</td>\n",
       "      <td>9544; 9539; 9545; 9606; 9541</td>\n",
       "      <td>Retroviridae</td>\n",
       "      <td>57667</td>\n",
       "      <td>&lt;zoonosisHelperFunctions.FASTASeq object at 0x...</td>\n",
       "      <td>Envelope glycoprotein gp160</td>\n",
       "    </tr>\n",
       "    <tr>\n",
       "      <th>14428</th>\n",
       "      <td>A0A0A1CMQ4</td>\n",
       "      <td>Homo sapiens [TaxID: 9606]</td>\n",
       "      <td>human-true</td>\n",
       "      <td>Human immunodeficiency virus 1</td>\n",
       "      <td>Eukaryota</td>\n",
       "      <td>Metazoa</td>\n",
       "      <td>9606</td>\n",
       "      <td>Retroviridae</td>\n",
       "      <td>11676</td>\n",
       "      <td>&lt;zoonosisHelperFunctions.FASTASeq object at 0x...</td>\n",
       "      <td>Envelope glycoprotein gp160</td>\n",
       "    </tr>\n",
       "  </tbody>\n",
       "</table>\n",
       "</div>"
      ],
      "text/plain": [
       "             Entry                                        Virus hosts  \\\n",
       "139429  A0A3S5FYS4  Panthera tigris [TaxID: 9694]; Sturnira lilium...   \n",
       "114041  A0A2P1DR03  Homo sapiens [TaxID: 9606]; Macaca nemestrina ...   \n",
       "14428   A0A0A1CMQ4                         Homo sapiens [TaxID: 9606]   \n",
       "\n",
       "       Infects human                         Species name Host superkingdom  \\\n",
       "139429    human-true                    Influenza A virus         Eukaryota   \n",
       "114041    human-true  Simian-Human immunodeficiency virus         Eukaryota   \n",
       "14428     human-true       Human immunodeficiency virus 1         Eukaryota   \n",
       "\n",
       "       Host kingdom                                     Virus hosts ID  \\\n",
       "139429      Metazoa  9666; 27660; 9685; 9721; 9709; 9823; 8782; 969...   \n",
       "114041      Metazoa                       9544; 9539; 9545; 9606; 9541   \n",
       "14428       Metazoa                                               9606   \n",
       "\n",
       "          Species family  Species taxonomic ID  \\\n",
       "139429  Orthomyxoviridae                 11320   \n",
       "114041      Retroviridae                 57667   \n",
       "14428       Retroviridae                 11676   \n",
       "\n",
       "                                                 Sequence  \\\n",
       "139429  <zoonosisHelperFunctions.FASTASeq object at 0x...   \n",
       "114041  <zoonosisHelperFunctions.FASTASeq object at 0x...   \n",
       "14428   <zoonosisHelperFunctions.FASTASeq object at 0x...   \n",
       "\n",
       "                            Protein  \n",
       "139429                Nucleoprotein  \n",
       "114041  Envelope glycoprotein gp160  \n",
       "14428   Envelope glycoprotein gp160  "
      ]
     },
     "execution_count": 141,
     "metadata": {},
     "output_type": "execute_result"
    }
   ],
   "source": [
    "df.sample(3)"
   ]
  },
  {
   "cell_type": "code",
   "execution_count": 142,
   "metadata": {},
   "outputs": [
    {
     "data": {
      "text/plain": [
       "(278789, 11)"
      ]
     },
     "execution_count": 142,
     "metadata": {},
     "output_type": "execute_result"
    }
   ],
   "source": [
    "df[df['Infects human'] == 'human-true'].shape"
   ]
  },
  {
   "cell_type": "code",
   "execution_count": 143,
   "metadata": {},
   "outputs": [
    {
     "data": {
      "text/plain": [
       "(38527, 11)"
      ]
     },
     "execution_count": 143,
     "metadata": {},
     "output_type": "execute_result"
    }
   ],
   "source": [
    "df[df['Infects human'] == 'human-false'].shape"
   ]
  },
  {
   "cell_type": "code",
   "execution_count": 144,
   "metadata": {},
   "outputs": [
    {
     "data": {
      "text/html": [
       "<div>\n",
       "<style scoped>\n",
       "    .dataframe tbody tr th:only-of-type {\n",
       "        vertical-align: middle;\n",
       "    }\n",
       "\n",
       "    .dataframe tbody tr th {\n",
       "        vertical-align: top;\n",
       "    }\n",
       "\n",
       "    .dataframe thead th {\n",
       "        text-align: right;\n",
       "    }\n",
       "</style>\n",
       "<table border=\"1\" class=\"dataframe\">\n",
       "  <thead>\n",
       "    <tr style=\"text-align: right;\">\n",
       "      <th></th>\n",
       "      <th>Species</th>\n",
       "      <th>Molecule type</th>\n",
       "      <th>Species taxonomic ID</th>\n",
       "      <th>Host name</th>\n",
       "    </tr>\n",
       "  </thead>\n",
       "  <tbody>\n",
       "    <tr>\n",
       "      <th>0</th>\n",
       "      <td>Epsilonarterivirus zamalb</td>\n",
       "      <td>ssRNA(+)</td>\n",
       "      <td>2501966</td>\n",
       "      <td>Chlorocebus [TaxID: 392815]</td>\n",
       "    </tr>\n",
       "    <tr>\n",
       "      <th>1</th>\n",
       "      <td>Rodent arterivirus</td>\n",
       "      <td>ssRNA(+)</td>\n",
       "      <td>1806636</td>\n",
       "      <td>Eothenomys inez [TaxID: 870526]</td>\n",
       "    </tr>\n",
       "    <tr>\n",
       "      <th>2</th>\n",
       "      <td>Wencheng Sm shrew coronavirus</td>\n",
       "      <td>ssRNA(+)</td>\n",
       "      <td>1508228</td>\n",
       "      <td>Suncus murinus [TaxID: 9378]</td>\n",
       "    </tr>\n",
       "    <tr>\n",
       "      <th>3</th>\n",
       "      <td>Bat coronavirus</td>\n",
       "      <td>ssRNA(+)</td>\n",
       "      <td>1508220</td>\n",
       "      <td>Eidolon helvum [TaxID: 77214]</td>\n",
       "    </tr>\n",
       "    <tr>\n",
       "      <th>4</th>\n",
       "      <td>NL63-related bat coronavirus strain BtKYNL63-9b</td>\n",
       "      <td>ssRNA(+)</td>\n",
       "      <td>2501929</td>\n",
       "      <td>Triaenops afer [TaxID: 549403]</td>\n",
       "    </tr>\n",
       "  </tbody>\n",
       "</table>\n",
       "</div>"
      ],
      "text/plain": [
       "                                           Species Molecule type  \\\n",
       "0                        Epsilonarterivirus zamalb      ssRNA(+)   \n",
       "1                               Rodent arterivirus      ssRNA(+)   \n",
       "2                    Wencheng Sm shrew coronavirus      ssRNA(+)   \n",
       "3                                  Bat coronavirus      ssRNA(+)   \n",
       "4  NL63-related bat coronavirus strain BtKYNL63-9b      ssRNA(+)   \n",
       "\n",
       "   Species taxonomic ID                        Host name  \n",
       "0               2501966      Chlorocebus [TaxID: 392815]  \n",
       "1               1806636  Eothenomys inez [TaxID: 870526]  \n",
       "2               1508228     Suncus murinus [TaxID: 9378]  \n",
       "3               1508220    Eidolon helvum [TaxID: 77214]  \n",
       "4               2501929   Triaenops afer [TaxID: 549403]  "
      ]
     },
     "execution_count": 144,
     "metadata": {},
     "output_type": "execute_result"
    }
   ],
   "source": [
    "# Sequences loaded earlier from NCBI Virus ###Add Molecule type\n",
    "dfff.rename({'Species ID': 'Species taxonomic ID', 'Molecule_type': 'Molecule type'}, axis=1, inplace=True)\n",
    "dfff.head()"
   ]
  },
  {
   "cell_type": "code",
   "execution_count": 145,
   "metadata": {},
   "outputs": [],
   "source": [
    "df['Species taxonomic ID'] = df['Species taxonomic ID'].apply(int)"
   ]
  },
  {
   "cell_type": "code",
   "execution_count": 146,
   "metadata": {},
   "outputs": [],
   "source": [
    "df = df.merge(dfff[['Species taxonomic ID', 'Molecule type']], how='left', on='Species taxonomic ID')"
   ]
  },
  {
   "cell_type": "code",
   "execution_count": 147,
   "metadata": {},
   "outputs": [
    {
     "data": {
      "text/plain": [
       "(8551317, 12)"
      ]
     },
     "execution_count": 147,
     "metadata": {},
     "output_type": "execute_result"
    }
   ],
   "source": [
    "df.shape"
   ]
  },
  {
   "cell_type": "code",
   "execution_count": 148,
   "metadata": {},
   "outputs": [],
   "source": [
    "df.drop_duplicates(inplace=True)"
   ]
  },
  {
   "cell_type": "code",
   "execution_count": 149,
   "metadata": {},
   "outputs": [
    {
     "data": {
      "text/plain": [
       "(317316, 12)"
      ]
     },
     "execution_count": 149,
     "metadata": {},
     "output_type": "execute_result"
    }
   ],
   "source": [
    "df.shape"
   ]
  },
  {
   "cell_type": "code",
   "execution_count": 150,
   "metadata": {},
   "outputs": [],
   "source": [
    "del dfff"
   ]
  },
  {
   "cell_type": "markdown",
   "metadata": {},
   "source": [
    "## Reorganise dataframe"
   ]
  },
  {
   "cell_type": "code",
   "execution_count": 151,
   "metadata": {},
   "outputs": [],
   "source": [
    "df = df[['Entry', 'Protein', 'Species name', \n",
    "         'Species taxonomic ID', 'Species family', 'Virus hosts',\n",
    "         'Virus hosts ID', 'Host kingdom', \n",
    "         'Host superkingdom', 'Molecule type', 'Infects human', 'Sequence']]"
   ]
  },
  {
   "cell_type": "code",
   "execution_count": 152,
   "metadata": {},
   "outputs": [
    {
     "data": {
      "text/html": [
       "<div>\n",
       "<style scoped>\n",
       "    .dataframe tbody tr th:only-of-type {\n",
       "        vertical-align: middle;\n",
       "    }\n",
       "\n",
       "    .dataframe tbody tr th {\n",
       "        vertical-align: top;\n",
       "    }\n",
       "\n",
       "    .dataframe thead th {\n",
       "        text-align: right;\n",
       "    }\n",
       "</style>\n",
       "<table border=\"1\" class=\"dataframe\">\n",
       "  <thead>\n",
       "    <tr style=\"text-align: right;\">\n",
       "      <th></th>\n",
       "      <th>Entry</th>\n",
       "      <th>Protein</th>\n",
       "      <th>Species name</th>\n",
       "      <th>Species taxonomic ID</th>\n",
       "      <th>Species family</th>\n",
       "      <th>Virus hosts</th>\n",
       "      <th>Virus hosts ID</th>\n",
       "      <th>Host kingdom</th>\n",
       "      <th>Host superkingdom</th>\n",
       "      <th>Molecule type</th>\n",
       "      <th>Infects human</th>\n",
       "      <th>Sequence</th>\n",
       "    </tr>\n",
       "  </thead>\n",
       "  <tbody>\n",
       "    <tr>\n",
       "      <th>6173253</th>\n",
       "      <td>F4MDT2</td>\n",
       "      <td>Nucleoprotein</td>\n",
       "      <td>Influenza A virus</td>\n",
       "      <td>11320</td>\n",
       "      <td>Orthomyxoviridae</td>\n",
       "      <td>Panthera tigris [TaxID: 9694]; Sturnira lilium...</td>\n",
       "      <td>9666; 27660; 9685; 9721; 9709; 9823; 8782; 969...</td>\n",
       "      <td>Metazoa</td>\n",
       "      <td>Eukaryota</td>\n",
       "      <td>ssRNA(-)</td>\n",
       "      <td>human-true</td>\n",
       "      <td>&lt;zoonosisHelperFunctions.FASTASeq object at 0x...</td>\n",
       "    </tr>\n",
       "    <tr>\n",
       "      <th>7852599</th>\n",
       "      <td>Q9ZXF8</td>\n",
       "      <td>ORF25</td>\n",
       "      <td>Bacillus phage phi105</td>\n",
       "      <td>10717</td>\n",
       "      <td>Siphoviridae</td>\n",
       "      <td>Bacillus subtilis [TaxID: 1423]</td>\n",
       "      <td>1423</td>\n",
       "      <td>Bacillus subtilis</td>\n",
       "      <td>Bacteria</td>\n",
       "      <td>NaN</td>\n",
       "      <td>human-false</td>\n",
       "      <td>&lt;zoonosisHelperFunctions.FASTASeq object at 0x...</td>\n",
       "    </tr>\n",
       "    <tr>\n",
       "      <th>5438880</th>\n",
       "      <td>C8XMX1</td>\n",
       "      <td>Nucleoprotein</td>\n",
       "      <td>Influenza A virus</td>\n",
       "      <td>11320</td>\n",
       "      <td>Orthomyxoviridae</td>\n",
       "      <td>Panthera tigris [TaxID: 9694]; Sturnira lilium...</td>\n",
       "      <td>9666; 27660; 9685; 9721; 9709; 9823; 8782; 969...</td>\n",
       "      <td>Metazoa</td>\n",
       "      <td>Eukaryota</td>\n",
       "      <td>ssRNA(-)</td>\n",
       "      <td>human-true</td>\n",
       "      <td>&lt;zoonosisHelperFunctions.FASTASeq object at 0x...</td>\n",
       "    </tr>\n",
       "  </tbody>\n",
       "</table>\n",
       "</div>"
      ],
      "text/plain": [
       "          Entry        Protein           Species name  Species taxonomic ID  \\\n",
       "6173253  F4MDT2  Nucleoprotein      Influenza A virus                 11320   \n",
       "7852599  Q9ZXF8          ORF25  Bacillus phage phi105                 10717   \n",
       "5438880  C8XMX1  Nucleoprotein      Influenza A virus                 11320   \n",
       "\n",
       "           Species family                                        Virus hosts  \\\n",
       "6173253  Orthomyxoviridae  Panthera tigris [TaxID: 9694]; Sturnira lilium...   \n",
       "7852599      Siphoviridae                    Bacillus subtilis [TaxID: 1423]   \n",
       "5438880  Orthomyxoviridae  Panthera tigris [TaxID: 9694]; Sturnira lilium...   \n",
       "\n",
       "                                            Virus hosts ID       Host kingdom  \\\n",
       "6173253  9666; 27660; 9685; 9721; 9709; 9823; 8782; 969...            Metazoa   \n",
       "7852599                                               1423  Bacillus subtilis   \n",
       "5438880  9666; 27660; 9685; 9721; 9709; 9823; 8782; 969...            Metazoa   \n",
       "\n",
       "        Host superkingdom Molecule type Infects human  \\\n",
       "6173253         Eukaryota      ssRNA(-)    human-true   \n",
       "7852599          Bacteria           NaN   human-false   \n",
       "5438880         Eukaryota      ssRNA(-)    human-true   \n",
       "\n",
       "                                                  Sequence  \n",
       "6173253  <zoonosisHelperFunctions.FASTASeq object at 0x...  \n",
       "7852599  <zoonosisHelperFunctions.FASTASeq object at 0x...  \n",
       "5438880  <zoonosisHelperFunctions.FASTASeq object at 0x...  "
      ]
     },
     "execution_count": 152,
     "metadata": {},
     "output_type": "execute_result"
    }
   ],
   "source": [
    "df.sample(3)"
   ]
  },
  {
   "cell_type": "markdown",
   "metadata": {},
   "source": [
    "## Split Dataframe to multiple datasets for testing"
   ]
  },
  {
   "cell_type": "code",
   "execution_count": 153,
   "metadata": {},
   "outputs": [
    {
     "data": {
      "text/plain": [
       "array(['Eukaryota', 'Bacteria', 'root', 'Archaea', 'Viruses',\n",
       "       'root; Eukaryota'], dtype=object)"
      ]
     },
     "execution_count": 153,
     "metadata": {},
     "output_type": "execute_result"
    }
   ],
   "source": [
    "df['Host superkingdom'].unique()"
   ]
  },
  {
   "cell_type": "code",
   "execution_count": 154,
   "metadata": {
    "scrolled": true,
    "tags": []
   },
   "outputs": [
    {
     "data": {
      "text/plain": [
       "array(['Metazoa', 'Viridiplantae', 'Lactococcus lactis',\n",
       "       'Escherichia coli', 'Serratia marcescens',\n",
       "       'Mycolicibacterium smegmatis', 'Bacillus thuringiensis',\n",
       "       'Trichormus variabilis', 'Listeria monocytogenes',\n",
       "       'Pseudomonas syringae', 'Metazoa; Viridiplantae',\n",
       "       'Cronobacter sakazakii', 'Staphylococcus epidermidis',\n",
       "       'Enterococcus faecium', 'root', 'Caulobacter vibrioides',\n",
       "       'Vibrio alginolyticus', 'Staphylococcus aureus', 'Bacillus cereus',\n",
       "       'Ralstonia solanacearum', 'Klebsiella pneumoniae',\n",
       "       'Staphylococcus xylosus; Staphylococcus aureus',\n",
       "       'Acinetobacter baumannii', 'Dickeya sp.',\n",
       "       'Lactobacillus delbrueckii', 'Salmonella', 'Bacillus pumilus',\n",
       "       'Citrobacter; Citrobacter freundii', 'Mycobacterium',\n",
       "       'Rhizobium leguminosarum', 'Mesorhizobium loti',\n",
       "       'Shigella flexneri', 'Yersinia enterocolitica',\n",
       "       'Idiomarinaceae bacterium N2-2', 'Sulfitobacter sp. CB2047',\n",
       "       'Lelliottia sp. GL2', 'Clostridioides difficile', 'Clostridium',\n",
       "       'Synechococcus sp. CB0101', 'Synechococcus sp. CB0208',\n",
       "       'Enterococcus faecalis', 'Lactococcus; Lactococcus sp.',\n",
       "       'Shigella sonnei', 'Ruegeria pomeroyi', 'Pectobacterium',\n",
       "       'Streptomyces lividans', 'Priestia megaterium',\n",
       "       'Salmonella enterica', 'Citrobacter freundii', 'Erwinia amylovora',\n",
       "       'Streptococcus pneumoniae',\n",
       "       'Pseudomonas fluorescens; Pseudomonas putida',\n",
       "       'Burkholderia pseudomallei', 'Pseudomonas aeruginosa',\n",
       "       'Enterobacter cloacae', 'Proteus mirabilis', 'Vibrio cholerae',\n",
       "       'Arthrobacter sp.', 'Limosilactobacillus fermentum',\n",
       "       'Clostridium tetani', 'Paenibacillus larvae',\n",
       "       'Edwardsiella ictaluri', 'Prochlorococcus marinus',\n",
       "       'Staphylococcus sp.', 'Acinetobacter sp.',\n",
       "       'Staphylococcus haemolyticus', 'Synechococcus',\n",
       "       'Synechococcus sp. WH 7803; Synechococcus',\n",
       "       'Synechococcus sp. WH 7803', 'Gordonia sputi',\n",
       "       'Sinorhizobium meliloti', 'Delftia sp. 670', 'Geobacillus',\n",
       "       'Pectobacterium atrosepticum', 'Pseudoalteromonas sp. Bq0',\n",
       "       'Brucella sp.; Brucella abortus', 'Erysipelothrix rhusiopathiae',\n",
       "       'Pseudomonas sp. 1-1-1b', 'Prochlorococcus sp.; Prochlorococcus',\n",
       "       'Streptococcus mutans', 'Gordonia malaquae',\n",
       "       'Gordonia rubripertincta', 'Escherichia', 'Klebsiella',\n",
       "       'Brevibacillus laterosporus',\n",
       "       'Bacillus thuringiensis; Bacillus cereus; Bacillus anthracis',\n",
       "       'Klebsiella aerogenes', 'Achromobacter xylosoxidans',\n",
       "       'Cronobacter', 'Mannheimia haemolytica', 'Citrobacter sp.',\n",
       "       'Arthrobacter sp. ATCC 21022', 'Caulobacter sp.',\n",
       "       'Bacillus thuringiensis; Bacillus cereus', 'Dickeya solani',\n",
       "       'Alkalihalobacillus alcalophilus', 'Lacticaseibacillus paracasei',\n",
       "       'Pectobacterium carotovorum', 'Citrobacter sp. TM1552',\n",
       "       'Cellulophaga baltica', 'Staphylococcus', 'Paracoccus sp.',\n",
       "       'Bacillus halmapalus', 'Ralstonia', 'Xanthomonas arboricola',\n",
       "       'Bacillus paralicheniformis', 'Synechococcus sp.',\n",
       "       'Pseudomonas putida', 'Brucella inopinata',\n",
       "       'Bacillus sp. (in: Bacteria)', 'Bacillus subtilis',\n",
       "       'Gordonia terrae', 'Bacillariophyta', 'Tsukamurella paurometabola',\n",
       "       'Klebsiella oxytoca', 'Gordonia; Gordonia terrae',\n",
       "       'Gordonia neofelifaecis', 'Pseudomonas', 'Gordonia alkanivorans',\n",
       "       'Lactococcus garvieae', 'Propionibacterium freudenreichii',\n",
       "       'Erwinia', 'Morganella sp. (in: Bacteria)', 'Enterobacter sp. CT7',\n",
       "       'Campylobacter jejuni', 'Lacticaseibacillus casei', 'Citrobacter',\n",
       "       'Alphaproteobacteria', 'Bacillus', 'Pseudomonas sp.',\n",
       "       'Levilactobacillus brevis', 'Bacillus cereus; Bacillus anthracis',\n",
       "       'Rhodococcus erythropolis', 'Streptomyces azureus', 'Shigella sp.',\n",
       "       'Vibrio splendidus', 'Pectobacterium wasabiae',\n",
       "       'Serratia rubidaea', 'Aeribacillus pallidus',\n",
       "       'Thermus thermophilus', 'Aquamicrobium sp. H14',\n",
       "       'Pseudoalteromonas sp.', 'Salmonella; Salmonella enterica',\n",
       "       'Burkholderia cenocepacia', 'Aeromonas hydrophila',\n",
       "       'Lactiplantibacillus plantarum', 'Providencia sp.',\n",
       "       'Marinomonas mediterranea', 'Aeromonas sp.',\n",
       "       'Pseudomonas fluorescens group', 'Pasteurella multocida',\n",
       "       'Serratia sp. ATCC 39006', 'Acidovorax citrulli',\n",
       "       'Erwinia tracheiphila', 'Dickeya fangzhongdai',\n",
       "       'Corynebacterium vitaeruminis', 'Alteromonas sp.',\n",
       "       'Acinetobacter pittii', 'Marinomonas sp.',\n",
       "       'Streptomyces viridochromogenes', 'Bacillus velezensis',\n",
       "       'Streptomyces griseus', 'Aeromonas salmonicida',\n",
       "       'Agrobacterium tumefaciens', 'Xanthomonas sp.',\n",
       "       'Leclercia adecarboxylata', 'Escherichia coli; Shigella flexneri',\n",
       "       'Shigella dysenteriae; Escherichia coli',\n",
       "       'Lactiplantibacillus plantarum; Lactiplantibacillus pentosus',\n",
       "       'Bordetella bronchiseptica',\n",
       "       'Shigella sonnei; Shigella boydii; Shigella dysenteriae; Shigella flexneri',\n",
       "       'Yersinia', 'Clostridium perfringens', 'Streptomyces scabiei',\n",
       "       'Pectobacterium sp.', 'Salmonella sp.',\n",
       "       'Corynebacterium glutamicum', 'Raoultella ornithinolytica',\n",
       "       'Microbacterium foliorum', 'Vibrio harveyi',\n",
       "       'Vibrio parahaemolyticus', 'Salinibacter ruber',\n",
       "       'Vibrio cyclitrophicus', 'Escherichia; Escherichia coli',\n",
       "       'Lactococcus cremoris; Lactococcus lactis',\n",
       "       'Faecalibacterium prausnitzii', 'Citrobacter rodentium',\n",
       "       'Shigella sonnei; Escherichia coli; Shigella flexneri',\n",
       "       'Mycolicibacterium phlei', 'Pseudomonas agarici',\n",
       "       'Microbacterium paraoxydans', 'Burkholderia', 'Escherichia sp.',\n",
       "       'Pseudomonas fluorescens', 'Enterobacter asburiae', 'Enterococcus',\n",
       "       'Leptospira biflexa', 'Synechococcus sp. WH 8102',\n",
       "       'Synechococcus sp. WH 8109', 'Sphingomonas paucimobilis',\n",
       "       'Curvibacter sp.', 'Enterobacteriaceae', 'Vibrio coralliilyticus',\n",
       "       'Enterobacteriaceae; Escherichia coli', 'Bacteroides intestinalis',\n",
       "       'Corynebacterium xerosis', 'Halobacterium salinarum',\n",
       "       'Arthrobacter globiformis', 'Lentibacter sp.; Lentibacter',\n",
       "       'Alkalihalobacillus bogoriensis', 'Lacticaseibacillus rhamnosus',\n",
       "       'Yersinia pseudotuberculosis', 'Klebsiella sp.',\n",
       "       'Cronobacter turicensis', 'Pantoea agglomerans',\n",
       "       'Streptomyces griseofuscus', 'Providencia stuartii', 'Vibrio sp.',\n",
       "       'Natrialba magadii', 'Stenotrophomonas maltophilia',\n",
       "       'Escherichia; Escherichia sp.', 'Staphylococcus pseudintermedius',\n",
       "       'Vibrio', 'Shigella boydii', 'Achromobacter animicus',\n",
       "       'Shigella sonnei; Citrobacter rodentium; Escherichia coli',\n",
       "       'Flavobacterium sp. LMO9', 'Flavobacterium sp. LMO6',\n",
       "       'Salmonella sp.; Escherichia coli', 'Heunggongvirae',\n",
       "       'Butyrivibrio fibrisolvens', 'Providencia rettgeri',\n",
       "       'Staphylococcus aureus; Staphylococcus', 'Yersinia pestis',\n",
       "       'Halorubrum saccharovorum', 'Streptococcus suis',\n",
       "       'Streptococcus dysgalactiae', 'Burkholderia thailandensis',\n",
       "       'Lactococcus', 'Xanthomonas oryzae',\n",
       "       'Phormidium tenue; Leptolyngbya foveolarum', 'Aeromonas media',\n",
       "       'Bacillus sp. 6k512', 'Thalassotalea loyana',\n",
       "       'Lactobacillus johnsonii', 'Azospirillum brasilense',\n",
       "       'Halomonas aquamarina', 'Ralstonia; Ralstonia solanacearum',\n",
       "       'Streptococcus gordonii', 'Klebsiella sp. 390',\n",
       "       'Acanthamoeba polyphaga', 'Morganella morganii',\n",
       "       'Kluyvera cryocrescens', 'Glaesserella parasuis',\n",
       "       'Lactobacillus jensenii', 'Xanthomonas campestris',\n",
       "       'Streptococcus thermophilus', 'Streptococcus oralis',\n",
       "       'Burkholderia pyrrocinia; Burkholderia pseudomallei',\n",
       "       'Delftia acidovorans', 'Aggregatibacter actinomycetemcomitans',\n",
       "       'Leuconostoc mesenteroides', 'Rhodococcus hoagii',\n",
       "       'Campylobacter sp.', 'Campylobacter', 'Acinetobacter johnsonii',\n",
       "       'Brochothrix thermosphacta', 'Synechococcus sp. WH 6501',\n",
       "       'Synechococcus sp. WH 8017', 'Erwinia tasmaniensis',\n",
       "       'Geobacillus sp. E263', 'Burkholderia ambifaria', 'Acinetobacter',\n",
       "       'Candidatus Liberibacter asiaticus; Liberibacter',\n",
       "       'Lactobacillus sp.', 'Salmonella enterica; Escherichia coli',\n",
       "       'Riemerella anatipestifer', 'Synechococcus sp.; Synechococcus',\n",
       "       'Streptococcus salivarius', 'Escherichia; Enterobacterales',\n",
       "       'Candidatus Liberibacter asiaticus', 'Psychrobacter sp. MV2',\n",
       "       'Rhodococcus rhodochrous', 'Nocardia brasiliensis',\n",
       "       'Erwinia pyrifoliae', 'Pseudomonas tolaasii',\n",
       "       'Rhodobacter capsulatus', 'Enterobacter cancerogenus',\n",
       "       'Staphylococcus capitis', 'Salinivibrio costicola',\n",
       "       'Thermoanaerobacterium saccharolyticum', 'Celeribacter marinus',\n",
       "       'Marinomonas sp.; Marinomonas', 'Vibrio; Vibrio parahaemolyticus',\n",
       "       'Xanthomonas citri', 'Helicobacter pylori',\n",
       "       'Staphylococcus pasteuri', 'Bacillus cereus group',\n",
       "       'Agrobacterium fabacearum', 'Streptococcus agalactiae',\n",
       "       'Streptomyces avermitilis; Streptomyces cattleya',\n",
       "       'Acidithiobacillus caldus', 'Serratia sp.',\n",
       "       'Lactobacillus helveticus', 'Rhizobium etli',\n",
       "       'Candidatus Pelagibacter ubique', 'Lactococcus cremoris',\n",
       "       'Synechococcus sp. WH 8018', 'Prochlorococcus',\n",
       "       'Synechococcus sp. WH 8012', 'Psychrobacter sp. OW20',\n",
       "       'Bacillus mycoides', 'Nitratiruptor sp. SB155-2',\n",
       "       'Bacillus pumilus; Bacillus subtilis',\n",
       "       'Methanothermobacter thermautotrophicus', 'Pseudomonas savastanoi',\n",
       "       'Selenomonas ruminantium', 'Spiroplasma melliferum',\n",
       "       'Fungi; Metazoa; Viridiplantae', 'Streptococcus pyogenes',\n",
       "       'Chlamydia psittaci', 'Saccharolobus solfataricus',\n",
       "       'Haemophilus influenzae',\n",
       "       'Proteus mirabilis; Acinetobacter calcoaceticus; Escherichia coli; Pseudomonas putida; Salmonella enterica; Pseudomonas fluorescens; Vibrio cholerae; Pseudomonas aeruginosa',\n",
       "       'Mycoplasma', 'Phormidium', 'Geobacillus sp. 6k51',\n",
       "       'Mycolicibacterium smegmatis; Mycobacterium',\n",
       "       'Mycobacterium tuberculosis; Mycobacterium; Mycolicibacterium smegmatis',\n",
       "       'Corynebacteriales; Mycobacterium', 'Kitasatospora aureofaciens',\n",
       "       'Lactobacillus gasseri', 'Xanthomonas', 'Clostridium botulinum',\n",
       "       'Bacillus anthracis', 'Burkholderia cepacia',\n",
       "       'Acidianus convivator', 'Evansella clarkii', 'Flavobacterium sp.',\n",
       "       'Burkholderia cenocepacia; Burkholderia', 'Streptococcus mitis',\n",
       "       'Mycolicibacterium smegmatis; Mycolicibacterium vaccae',\n",
       "       'Saccharomonospora sp.', 'Synechococcus sp. WH 7805',\n",
       "       'Acinetobacter genomosp. 16BJ', 'Bdellovibrio bacteriovorus',\n",
       "       'Vibrio natriegens', 'Roseobacter', 'Methanothermobacter wolfeii',\n",
       "       '[Brevibacterium] flavum', 'Pseudoalteromonas espejiana',\n",
       "       'Streptomyces coelicolor',\n",
       "       'Mycobacterium tuberculosis; Mycolicibacterium smegmatis',\n",
       "       'Haloarcula hispanica', 'Haloarcula californiae',\n",
       "       'Haloarcula sinaiiensis', 'Paenibacillus glucanolyticus',\n",
       "       'Halorubrum sp.', 'Citrobacter rodentium; Escherichia coli',\n",
       "       'Geobacillus kaustophilus; Thermus thermophilus',\n",
       "       'Klebsiella pneumoniae; Klebsiella',\n",
       "       'Staphylococcus saprophyticus',\n",
       "       'Shigella sonnei; Escherichia coli', 'Erwinia sp.',\n",
       "       'Leptolyngbya boryana; Leptolyngbya foveolarum',\n",
       "       'Xylella fastidiosa', 'Oenococcus oeni', 'Enterococcus sp.',\n",
       "       'Pseudomonas plecoglossicida', 'root; Metazoa',\n",
       "       'Geobacillus kaustophilus'], dtype=object)"
      ]
     },
     "execution_count": 154,
     "metadata": {},
     "output_type": "execute_result"
    }
   ],
   "source": [
    "df['Host kingdom'].unique()"
   ]
  },
  {
   "cell_type": "code",
   "execution_count": 155,
   "metadata": {},
   "outputs": [
    {
     "data": {
      "text/plain": [
       "(284537, 12)"
      ]
     },
     "execution_count": 155,
     "metadata": {},
     "output_type": "execute_result"
    }
   ],
   "source": [
    "df[(df['Host kingdom'].str.contains('Viridiplantae')) | df['Virus hosts'].str.contains('[Hh]omo [Ss]apiens')].shape"
   ]
  },
  {
   "cell_type": "code",
   "execution_count": 156,
   "metadata": {},
   "outputs": [],
   "source": [
    "df['Molecule type'] = np.where(df['Molecule type'].isna(), '', df['Molecule type'])"
   ]
  },
  {
   "cell_type": "code",
   "execution_count": 157,
   "metadata": {},
   "outputs": [
    {
     "data": {
      "text/html": [
       "<div>\n",
       "<style scoped>\n",
       "    .dataframe tbody tr th:only-of-type {\n",
       "        vertical-align: middle;\n",
       "    }\n",
       "\n",
       "    .dataframe tbody tr th {\n",
       "        vertical-align: top;\n",
       "    }\n",
       "\n",
       "    .dataframe thead th {\n",
       "        text-align: right;\n",
       "    }\n",
       "</style>\n",
       "<table border=\"1\" class=\"dataframe\">\n",
       "  <thead>\n",
       "    <tr style=\"text-align: right;\">\n",
       "      <th></th>\n",
       "      <th>Entry</th>\n",
       "      <th>Protein</th>\n",
       "      <th>Species name</th>\n",
       "      <th>Species taxonomic ID</th>\n",
       "      <th>Species family</th>\n",
       "      <th>Virus hosts</th>\n",
       "      <th>Virus hosts ID</th>\n",
       "      <th>Host kingdom</th>\n",
       "      <th>Host superkingdom</th>\n",
       "      <th>Molecule type</th>\n",
       "      <th>Infects human</th>\n",
       "      <th>Sequence</th>\n",
       "    </tr>\n",
       "  </thead>\n",
       "  <tbody>\n",
       "  </tbody>\n",
       "</table>\n",
       "</div>"
      ],
      "text/plain": [
       "Empty DataFrame\n",
       "Columns: [Entry, Protein, Species name, Species taxonomic ID, Species family, Virus hosts, Virus hosts ID, Host kingdom, Host superkingdom, Molecule type, Infects human, Sequence]\n",
       "Index: []"
      ]
     },
     "execution_count": 157,
     "metadata": {},
     "output_type": "execute_result"
    }
   ],
   "source": [
    "df[df['Molecule type'].isna()]"
   ]
  },
  {
   "cell_type": "code",
   "execution_count": 158,
   "metadata": {},
   "outputs": [
    {
     "data": {
      "text/plain": [
       "(31528, 12)"
      ]
     },
     "execution_count": 158,
     "metadata": {},
     "output_type": "execute_result"
    }
   ],
   "source": [
    "df[df['Host kingdom'].str.contains('Metazoa')][df[df['Host kingdom'].str.contains('Metazoa')]['Molecule type'].str.contains('DNA')].shape"
   ]
  },
  {
   "cell_type": "code",
   "execution_count": 159,
   "metadata": {},
   "outputs": [
    {
     "data": {
      "text/plain": [
       "(273101, 12)"
      ]
     },
     "execution_count": 159,
     "metadata": {},
     "output_type": "execute_result"
    }
   ],
   "source": [
    "df[df['Host kingdom'].str.contains('Metazoa')][df[df['Host kingdom'].str.contains('Metazoa')]['Molecule type'].str.contains('RNA')].shape"
   ]
  },
  {
   "cell_type": "code",
   "execution_count": 160,
   "metadata": {},
   "outputs": [
    {
     "data": {
      "text/plain": [
       "(317316, 12)"
      ]
     },
     "execution_count": 160,
     "metadata": {},
     "output_type": "execute_result"
    }
   ],
   "source": [
    "df.shape"
   ]
  },
  {
   "cell_type": "code",
   "execution_count": 161,
   "metadata": {},
   "outputs": [
    {
     "data": {
      "text/plain": [
       "(9987, 12)"
      ]
     },
     "execution_count": 161,
     "metadata": {},
     "output_type": "execute_result"
    }
   ],
   "source": [
    "df[~df['Host kingdom'].str.contains('Metazoa')].shape"
   ]
  },
  {
   "cell_type": "code",
   "execution_count": 162,
   "metadata": {},
   "outputs": [
    {
     "data": {
      "text/plain": [
       "(283199, 12)"
      ]
     },
     "execution_count": 162,
     "metadata": {},
     "output_type": "execute_result"
    }
   ],
   "source": [
    "df[(df['Host superkingdom'].isin(['Bacteria', 'Viruses', 'Archaea'])) | (df['Virus hosts'].str.contains('[Hh]omo [Ss]apiens'))].shape"
   ]
  },
  {
   "cell_type": "code",
   "execution_count": 163,
   "metadata": {},
   "outputs": [],
   "source": [
    "unfiltered = df\n",
    "metazoa = df[df['Host kingdom'].str.contains('Metazoa')]\n",
    "plant_human = df[(df['Host kingdom'].str.contains('Viridiplantae')) | df['Virus hosts'].str.contains('[Hh]omo [Ss]apiens')]\n",
    "NonEukaryote_Human = df[(df['Host superkingdom'].isin(['Bacteria', 'Viruses', 'Archaea'])) | (df['Virus hosts'].str.contains('[Hh]omo [Ss]apiens'))]\n",
    "DNA_MetazoaZoonosis = metazoa[metazoa['Molecule type'].str.contains('DNA')]\n",
    "RNA_MetazoaZoonosis = metazoa[metazoa['Molecule type'].str.contains('RNA')]"
   ]
  },
  {
   "cell_type": "code",
   "execution_count": 178,
   "metadata": {},
   "outputs": [],
   "source": [
    "def check_dist(df):\n",
    "    true_count = df[df['Infects human'].str.contains('true')].shape[0]\n",
    "    false_count = df[df['Infects human'].str.contains('false')].shape[0]\n",
    "    imb = (false_count/true_count)\n",
    "    print('The minoity class is %.2f of the majority\\nhuman-true == %d and human false == %d\\n' % (imb, true_count, false_count))"
   ]
  },
  {
   "cell_type": "code",
   "execution_count": 179,
   "metadata": {},
   "outputs": [
    {
     "name": "stdout",
     "output_type": "stream",
     "text": [
      "The minoity class is 0.10 of the majority\n",
      "human-true == 278755 and human false == 28574\n",
      "\n",
      "The minoity class is 0.14 of the majority\n",
      "human-true == 278789 and human false == 38527\n",
      "\n",
      "The minoity class is 0.02 of the majority\n",
      "human-true == 278789 and human false == 5748\n",
      "\n",
      "The minoity class is 0.02 of the majority\n",
      "human-true == 278755 and human false == 4444\n",
      "\n",
      "The minoity class is 0.29 of the majority\n",
      "human-true == 24518 and human false == 7010\n",
      "\n",
      "The minoity class is 0.07 of the majority\n",
      "human-true == 254072 and human false == 19029\n",
      "\n"
     ]
    }
   ],
   "source": [
    "dataframes = [metazoa, unfiltered, plant_human, NonEukaryote_Human, DNA_MetazoaZoonosis, RNA_MetazoaZoonosis]\n",
    "for dt in dataframes:\n",
    "    check_dist(dt)"
   ]
  },
  {
   "cell_type": "markdown",
   "metadata": {},
   "source": [
    "## Random Undersampling of datasets"
   ]
  },
  {
   "cell_type": "code",
   "execution_count": null,
   "metadata": {},
   "outputs": [],
   "source": [
    "seed = 960505"
   ]
  },
  {
   "cell_type": "code",
   "execution_count": 180,
   "metadata": {},
   "outputs": [
    {
     "name": "stdout",
     "output_type": "stream",
     "text": [
      "The minoity class is 0.60 of the majority\n",
      "human-true == 47623 and human false == 28574\n",
      "\n",
      "The minoity class is 0.60 of the majority\n",
      "human-true == 64211 and human false == 38527\n",
      "\n",
      "The minoity class is 0.60 of the majority\n",
      "human-true == 9580 and human false == 5748\n",
      "\n",
      "The minoity class is 0.60 of the majority\n",
      "human-true == 7406 and human false == 4444\n",
      "\n",
      "The minoity class is 0.60 of the majority\n",
      "human-true == 11683 and human false == 7010\n",
      "\n",
      "The minoity class is 0.60 of the majority\n",
      "human-true == 31715 and human false == 19029\n",
      "\n"
     ]
    }
   ],
   "source": [
    "# Undersample majority class such that minority class (human-false) is 60% of the majority class (human-true317316)\n",
    "rus = RandomUnderSampler(sampling_strategy=0.6, random_state=seed)\n",
    "sampled_dataframes = []\n",
    "for dt in dataframes:\n",
    "    clas = dt['Infects human']\n",
    "#     print('Dataframe before sampling: ', dt.shape[0])\n",
    "    dt, _ = rus.fit_resample(dt, clas)\n",
    "    sampled_dataframes.append(dt)\n",
    "    check_dist(dt)\n",
    "#     print('Dataframe after sampling: ', dt.shape[0])"
   ]
  },
  {
   "cell_type": "markdown",
   "metadata": {},
   "source": [
    "## Write file sequences to fasta for feature extraction"
   ]
  },
  {
   "cell_type": "code",
   "execution_count": 181,
   "metadata": {},
   "outputs": [],
   "source": [
    "metazoaFile = 'MetazoaZoonosis'\n",
    "plant_humanFile = 'Plant-HumanZoonosis'\n",
    "unfilteredFile = 'Zoonosis'\n",
    "NonEukaryote_HumanFile = 'NonEukaryote-Human'\n",
    "DNA_metazoaFile = 'DNA-MetazoaZoonosis'\n",
    "RNA_metazoaFile = 'RNA-MetazoaZoonosis'"
   ]
  },
  {
   "cell_type": "code",
   "execution_count": 182,
   "metadata": {},
   "outputs": [],
   "source": [
    "dirs = ['MetazoaZoonosisData', 'ZoonosisData',\n",
    "        'Plant-HumanZoonosisData', 'NonEukaryote-HumanData',\n",
    "        'DNA-MetazoaZoonosisData', 'RNA-MetazoaZoonosisData']\n",
    "dirs = [os.path.join('../data/', fol) for fol in dirs] # Do not include in script\n",
    "files = [metazoaFile, unfilteredFile, plant_humanFile, NonEukaryote_HumanFile, DNA_metazoaFile, RNA_metazoaFile]\n",
    "toSave = list(zip(sampled_dataframes, files, dirs))"
   ]
  },
  {
   "cell_type": "code",
   "execution_count": 185,
   "metadata": {},
   "outputs": [
    {
     "name": "stdout",
     "output_type": "stream",
     "text": [
      "Done with ../data/MetazoaZoonosisData\n",
      "Done with ../data/ZoonosisData\n",
      "Done with ../data/Plant-HumanZoonosisData\n",
      "Done with ../data/NonEukaryote-HumanData\n",
      "Done with ../data/DNA-MetazoaZoonosisData\n",
      "Done with ../data/RNA-MetazoaZoonosisData\n"
     ]
    }
   ],
   "source": [
    "for dff, file, folder in toSave:\n",
    "#    save dataframes as csv\n",
    "    dff.drop('Sequence', axis=1).to_csv(f'{folder}/{file}Data.csv.gz', index=False, compression='gzip')\n",
    "    \n",
    "#    Create subdirectories\n",
    "    os.makedirs(os.path.join(folder, 'train/human-true'), exist_ok=True)\n",
    "    os.makedirs(os.path.join(folder, 'test/human-true'), exist_ok=True)\n",
    "    os.makedirs(os.path.join(folder, 'train/human-false'), exist_ok=True)\n",
    "    os.makedirs(os.path.join(folder, 'test/human-false'), exist_ok=True)\n",
    "#    Split data to train and test data\n",
    "    train, test = train_test_split(dff, test_size=0.2, random_state=) # Will further split 15% of train as validation during training\n",
    "#    Save test and train sequences\n",
    "    save_sequences(train, f'{folder}/train/Sequences') # Will move to subdirectories after feature extraction\n",
    "    save_sequences(test, f'{folder}/test/Sequences')\n",
    "    \n",
    "    print('Done with', folder)"
   ]
  },
  {
   "cell_type": "code",
   "execution_count": null,
   "metadata": {},
   "outputs": [],
   "source": []
  }
 ],
 "metadata": {
  "kernelspec": {
   "display_name": "Python 3",
   "language": "python",
   "name": "python3"
  },
  "language_info": {
   "codemirror_mode": {
    "name": "ipython",
    "version": 3
   },
   "file_extension": ".py",
   "mimetype": "text/x-python",
   "name": "python",
   "nbconvert_exporter": "python",
   "pygments_lexer": "ipython3",
   "version": "3.7.10"
  },
  "metadata": {
   "interpreter": {
    "hash": "d1fca8d20300d410c8f6acb40a2d9646a273de74113c44fe1a7d9f677162ff7e"
   }
  }
 },
 "nbformat": 4,
 "nbformat_minor": 4
}
