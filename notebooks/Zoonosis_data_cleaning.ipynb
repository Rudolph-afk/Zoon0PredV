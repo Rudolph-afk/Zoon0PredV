{
 "cells": [
  {
   "cell_type": "markdown",
   "metadata": {},
   "source": [
    "# Description"
   ]
  },
  {
   "cell_type": "markdown",
   "metadata": {},
   "source": [
    "This notebook makes use of the **pandas** library and the **ete3 toolkit**, specifically ete3's [NCBI Taxonomic database](http://etetoolkit.org/docs/latest/tutorial/tutorial_ncbitaxonomy.html). Several custom functions simplifying the use of ete3 are in the zoonosis_helper_functions.py script which is imported into the notebook."
   ]
  },
  {
   "cell_type": "markdown",
   "metadata": {
    "tags": []
   },
   "source": [
    "\n",
    "The primary data is obtained from the Uniprot database. It contains data on proteins which facilitate viral [entry into host cells](https://www.uniprot.org/uniprot/?query=keyword:%22Virus%20entry%20into%20host%20cell%20[KW-1160]%22). The data is in 2 parts, the first being the [tabular data](#tabular-data) and the second being the [fasta sequences](#fasta) of the virus surface proteins. The 2 are linked by their uniprot entry identifiers. A very small portion of the data has been reviewed and is not sufficient for application in deep learning so both the reviewed and unreviewed data is kept, however, the unreviewed data lacks information on host data.\n",
    "\n",
    "To alleviate the host data information, external sources were used, namely:\n",
    "\n",
    "- [NCBI Virus database](https://www.ncbi.nlm.nih.gov/labs/virus/vssi/#/virus?VirusLineage_ss=Viruses,%20taxid:10239&SeqType_s=Protein&Proviral_s=exclude&HostLineage_ss=Mammalia%20(mammals),%20taxid:40674)\n",
    "- [Virus-Host database](https://www.genome.jp/virushostdb/)\n",
    "- [Enhanced Infectious Disease Database (EID2)](https://eid2.liverpool.ac.uk/OrganismInteractions)\n",
    "\n",
    "1. [The ete3 is first used to obtain taxomomic identifiers at the species level and if an identifier is already present to still use the ete3 taxonomic identifiers for consistency.](#ete3-taxo)\n",
    "\n",
    "1. [Data is further filtered to keep only viruses (organism).](#filter)\n",
    "\n",
    "1. [The dataset contains some repetitive information i.e. same virus, same hosts but different protein or different protein entry. Therefore, the next step was to fill in the host data using information from the reviewed data. The premise was if it's the same virus then it ought to have the same hosts.](#Updating-host-names-from-other-host-data-in-the-dataset)\n",
    "\n",
    "1. [Thereafter information form external sources is appended to the primary data. Missing data after final processing is dropped.](#Updating-host-names-from-external-sources)\n",
    "\n",
    "1. [An additional column (Infects human) is then later added. If at least one of the virus hosts is homo sapiens then an assignment of **1** is given otherwise **0** is assigned to the row.](#Further-Processing)\n",
    "\n",
    "1. [Since the data was obtained from multiple sources further processing was done to make the information format consistent.](#host-name-consistency)\n",
    "\n",
    "1. [The sequence data is loaded and linked to the tabular data.](#fasta)\n",
    "\n",
    "1. [Protein names are also updated from sequence data for consistency in the data.](#protein-names-from-sequence)\n",
    "\n",
    "1. [After processing, the data is then split into training and testing data. Validation split is done upon loading the training data with **keras**.](#splits)\n",
    "\n",
    "1. [random undersampling](#Random-Undersampling-of-datasets)\n",
    "\n",
    "1. [Write file sequences to fasta for feature extraction](#Write-file-sequences-to-fasta-for-feature-extraction)\n",
    "\n",
    "\n",
    "### [Absolutely no idea why Virus host name != Virus hosts](#issue)"
   ]
  },
  {
   "cell_type": "markdown",
   "metadata": {},
   "source": [
    "## Packages"
   ]
  },
  {
   "cell_type": "code",
   "execution_count": 1,
   "metadata": {},
   "outputs": [],
   "source": [
    "# Import all necesssary modules\n",
    "## Always import pandas before swifter ##\n",
    "import pandas as pd\n",
    "import swifter # enables pandas multiprocessing using modin and ray as a backend. Also adds progress bar functionality\n",
    "import numpy as np\n",
    "import matplotlib.pyplot as plt\n",
    "%matplotlib inline\n",
    "import seaborn as sns\n",
    "from sklearn.model_selection import train_test_split\n",
    "from imblearn.under_sampling import RandomUnderSampler\n",
    "import re\n",
    "import os\n",
    "from ete3 import NCBITaxa\n",
    "from pprint import pprint\n",
    "from tqdm.notebook import tqdm_notebook, tqdm\n",
    "# import warnings\n",
    "# warnings.filterwarnings(\"ignore\", category=UserWarning)\n",
    "from zoonosis_helper_functions import *"
   ]
  },
  {
   "cell_type": "markdown",
   "metadata": {},
   "source": [
    "Please check the zoonosis_helper_functions.py in the current directory"
   ]
  },
  {
   "cell_type": "code",
   "execution_count": 2,
   "metadata": {},
   "outputs": [],
   "source": [
    "# Configure Progress bar and Modin Pandas Engine\n",
    "\n",
    "tqdm.pandas(desc='Processing')\n",
    "os.environ[\"MODIN_ENGINE\"] = \"ray\""
   ]
  },
  {
   "cell_type": "markdown",
   "metadata": {},
   "source": [
    "## Data exploration"
   ]
  },
  {
   "cell_type": "markdown",
   "metadata": {},
   "source": [
    "<a id='tabular-data'></a>"
   ]
  },
  {
   "cell_type": "code",
   "execution_count": 3,
   "metadata": {},
   "outputs": [],
   "source": [
    "# Load dataset downloaded from Uniprot\n",
    "df = pd.read_table('../data/uniprot-keyword Virus+entry+into+host+cell+[KW-1160] +fragment no.tab.gz')"
   ]
  },
  {
   "cell_type": "code",
   "execution_count": 4,
   "metadata": {},
   "outputs": [
    {
     "data": {
      "text/plain": [
       "(358333, 9)"
      ]
     },
     "execution_count": 4,
     "metadata": {},
     "output_type": "execute_result"
    }
   ],
   "source": [
    "df.shape"
   ]
  },
  {
   "cell_type": "code",
   "execution_count": 5,
   "metadata": {},
   "outputs": [
    {
     "data": {
      "text/html": [
       "<div>\n",
       "<style scoped>\n",
       "    .dataframe tbody tr th:only-of-type {\n",
       "        vertical-align: middle;\n",
       "    }\n",
       "\n",
       "    .dataframe tbody tr th {\n",
       "        vertical-align: top;\n",
       "    }\n",
       "\n",
       "    .dataframe thead th {\n",
       "        text-align: right;\n",
       "    }\n",
       "</style>\n",
       "<table border=\"1\" class=\"dataframe\">\n",
       "  <thead>\n",
       "    <tr style=\"text-align: right;\">\n",
       "      <th></th>\n",
       "      <th>Entry</th>\n",
       "      <th>Entry name</th>\n",
       "      <th>Status</th>\n",
       "      <th>Protein names</th>\n",
       "      <th>Organism</th>\n",
       "      <th>Length</th>\n",
       "      <th>Taxonomic lineage IDs</th>\n",
       "      <th>Taxonomic lineage (SPECIES)</th>\n",
       "      <th>Virus hosts</th>\n",
       "    </tr>\n",
       "  </thead>\n",
       "  <tbody>\n",
       "    <tr>\n",
       "      <th>291187</th>\n",
       "      <td>A0A0K1H9A7</td>\n",
       "      <td>A0A0K1H9A7_9HIV1</td>\n",
       "      <td>unreviewed</td>\n",
       "      <td>Envelope glycoprotein gp160 (Env polyprotein) ...</td>\n",
       "      <td>Human immunodeficiency virus 1</td>\n",
       "      <td>856</td>\n",
       "      <td>11676</td>\n",
       "      <td>Human immunodeficiency virus 1</td>\n",
       "      <td>Homo sapiens (Human) [TaxID: 9606]</td>\n",
       "    </tr>\n",
       "    <tr>\n",
       "      <th>9698</th>\n",
       "      <td>K0N0Y8</td>\n",
       "      <td>K0N0Y8_PHUV</td>\n",
       "      <td>unreviewed</td>\n",
       "      <td>Capsid protein (Coat protein)</td>\n",
       "      <td>Pepper huasteco yellow vein virus (PHYVV) (Pep...</td>\n",
       "      <td>251</td>\n",
       "      <td>223303</td>\n",
       "      <td>Pepper huasteco yellow vein virus (PHYVV) (Pep...</td>\n",
       "      <td>Capsicum annuum (Capsicum pepper) [TaxID: 4072]</td>\n",
       "    </tr>\n",
       "    <tr>\n",
       "      <th>183524</th>\n",
       "      <td>N0A2E7</td>\n",
       "      <td>N0A2E7_9INFA</td>\n",
       "      <td>unreviewed</td>\n",
       "      <td>Nucleoprotein (Nucleocapsid protein) (Protein N)</td>\n",
       "      <td>Influenza A virus (A/blue-winged teal/North Da...</td>\n",
       "      <td>498</td>\n",
       "      <td>1322771</td>\n",
       "      <td>Influenza A virus</td>\n",
       "      <td>NaN</td>\n",
       "    </tr>\n",
       "  </tbody>\n",
       "</table>\n",
       "</div>"
      ],
      "text/plain": [
       "             Entry        Entry name      Status  \\\n",
       "291187  A0A0K1H9A7  A0A0K1H9A7_9HIV1  unreviewed   \n",
       "9698        K0N0Y8       K0N0Y8_PHUV  unreviewed   \n",
       "183524      N0A2E7      N0A2E7_9INFA  unreviewed   \n",
       "\n",
       "                                            Protein names  \\\n",
       "291187  Envelope glycoprotein gp160 (Env polyprotein) ...   \n",
       "9698                        Capsid protein (Coat protein)   \n",
       "183524   Nucleoprotein (Nucleocapsid protein) (Protein N)   \n",
       "\n",
       "                                                 Organism  Length  \\\n",
       "291187                     Human immunodeficiency virus 1     856   \n",
       "9698    Pepper huasteco yellow vein virus (PHYVV) (Pep...     251   \n",
       "183524  Influenza A virus (A/blue-winged teal/North Da...     498   \n",
       "\n",
       "        Taxonomic lineage IDs  \\\n",
       "291187                  11676   \n",
       "9698                   223303   \n",
       "183524                1322771   \n",
       "\n",
       "                              Taxonomic lineage (SPECIES)  \\\n",
       "291187                     Human immunodeficiency virus 1   \n",
       "9698    Pepper huasteco yellow vein virus (PHYVV) (Pep...   \n",
       "183524                                  Influenza A virus   \n",
       "\n",
       "                                            Virus hosts  \n",
       "291187               Homo sapiens (Human) [TaxID: 9606]  \n",
       "9698    Capsicum annuum (Capsicum pepper) [TaxID: 4072]  \n",
       "183524                                              NaN  "
      ]
     },
     "execution_count": 5,
     "metadata": {},
     "output_type": "execute_result"
    }
   ],
   "source": [
    "df.sample(3)"
   ]
  },
  {
   "cell_type": "code",
   "execution_count": 6,
   "metadata": {},
   "outputs": [
    {
     "name": "stdout",
     "output_type": "stream",
     "text": [
      "(237573, 9)\n"
     ]
    },
    {
     "data": {
      "text/html": [
       "<div>\n",
       "<style scoped>\n",
       "    .dataframe tbody tr th:only-of-type {\n",
       "        vertical-align: middle;\n",
       "    }\n",
       "\n",
       "    .dataframe tbody tr th {\n",
       "        vertical-align: top;\n",
       "    }\n",
       "\n",
       "    .dataframe thead th {\n",
       "        text-align: right;\n",
       "    }\n",
       "</style>\n",
       "<table border=\"1\" class=\"dataframe\">\n",
       "  <thead>\n",
       "    <tr style=\"text-align: right;\">\n",
       "      <th></th>\n",
       "      <th>Entry</th>\n",
       "      <th>Entry name</th>\n",
       "      <th>Status</th>\n",
       "      <th>Protein names</th>\n",
       "      <th>Organism</th>\n",
       "      <th>Length</th>\n",
       "      <th>Taxonomic lineage IDs</th>\n",
       "      <th>Taxonomic lineage (SPECIES)</th>\n",
       "      <th>Virus hosts</th>\n",
       "    </tr>\n",
       "  </thead>\n",
       "  <tbody>\n",
       "    <tr>\n",
       "      <th>216582</th>\n",
       "      <td>A0A2S0SZG8</td>\n",
       "      <td>A0A2S0SZG8_PAVC</td>\n",
       "      <td>unreviewed</td>\n",
       "      <td>Capsid protein VP1 (Coat protein VP1)</td>\n",
       "      <td>Canine parvovirus 2a</td>\n",
       "      <td>727</td>\n",
       "      <td>497961</td>\n",
       "      <td>Carnivore protoparvovirus 1</td>\n",
       "      <td>NaN</td>\n",
       "    </tr>\n",
       "    <tr>\n",
       "      <th>252726</th>\n",
       "      <td>A0A3S6H6K7</td>\n",
       "      <td>A0A3S6H6K7_9INFA</td>\n",
       "      <td>unreviewed</td>\n",
       "      <td>Hemagglutinin [Cleaved into: Hemagglutinin HA1...</td>\n",
       "      <td>Influenza A virus (A/Cheongju/G03578/2016(H3N2))</td>\n",
       "      <td>566</td>\n",
       "      <td>1937226</td>\n",
       "      <td>Influenza A virus</td>\n",
       "      <td>NaN</td>\n",
       "    </tr>\n",
       "    <tr>\n",
       "      <th>250265</th>\n",
       "      <td>D7RYH7</td>\n",
       "      <td>D7RYH7_9INFA</td>\n",
       "      <td>unreviewed</td>\n",
       "      <td>Hemagglutinin [Cleaved into: Hemagglutinin HA1...</td>\n",
       "      <td>Influenza A virus (A/Ulyanovsk/CRIE-SHTA/2009(...</td>\n",
       "      <td>566</td>\n",
       "      <td>762371</td>\n",
       "      <td>Influenza A virus</td>\n",
       "      <td>NaN</td>\n",
       "    </tr>\n",
       "  </tbody>\n",
       "</table>\n",
       "</div>"
      ],
      "text/plain": [
       "             Entry        Entry name      Status  \\\n",
       "216582  A0A2S0SZG8   A0A2S0SZG8_PAVC  unreviewed   \n",
       "252726  A0A3S6H6K7  A0A3S6H6K7_9INFA  unreviewed   \n",
       "250265      D7RYH7      D7RYH7_9INFA  unreviewed   \n",
       "\n",
       "                                            Protein names  \\\n",
       "216582              Capsid protein VP1 (Coat protein VP1)   \n",
       "252726  Hemagglutinin [Cleaved into: Hemagglutinin HA1...   \n",
       "250265  Hemagglutinin [Cleaved into: Hemagglutinin HA1...   \n",
       "\n",
       "                                                 Organism  Length  \\\n",
       "216582                               Canine parvovirus 2a     727   \n",
       "252726   Influenza A virus (A/Cheongju/G03578/2016(H3N2))     566   \n",
       "250265  Influenza A virus (A/Ulyanovsk/CRIE-SHTA/2009(...     566   \n",
       "\n",
       "        Taxonomic lineage IDs  Taxonomic lineage (SPECIES) Virus hosts  \n",
       "216582                 497961  Carnivore protoparvovirus 1         NaN  \n",
       "252726                1937226            Influenza A virus         NaN  \n",
       "250265                 762371            Influenza A virus         NaN  "
      ]
     },
     "execution_count": 6,
     "metadata": {},
     "output_type": "execute_result"
    }
   ],
   "source": [
    "# Check for number of rows with missing host names\n",
    "print(df[df['Virus hosts'].isnull()].shape)\n",
    "df[df['Virus hosts'].isnull()].sample(3)"
   ]
  },
  {
   "cell_type": "code",
   "execution_count": 7,
   "metadata": {},
   "outputs": [
    {
     "data": {
      "text/plain": [
       "100216"
      ]
     },
     "execution_count": 7,
     "metadata": {},
     "output_type": "execute_result"
    }
   ],
   "source": [
    "# Total number of different organisms in dataset (inclusive of reviewed and non-reviewed)\n",
    "df['Organism'].nunique()"
   ]
  },
  {
   "cell_type": "code",
   "execution_count": 8,
   "metadata": {},
   "outputs": [
    {
     "data": {
      "text/plain": [
       "1518"
      ]
     },
     "execution_count": 8,
     "metadata": {},
     "output_type": "execute_result"
    }
   ],
   "source": [
    "# Total number of different organisms with reviewed data\n",
    "df[df['Status'] == 'reviewed']['Organism'].nunique()"
   ]
  },
  {
   "cell_type": "code",
   "execution_count": 9,
   "metadata": {},
   "outputs": [
    {
     "data": {
      "text/plain": [
       "99095"
      ]
     },
     "execution_count": 9,
     "metadata": {},
     "output_type": "execute_result"
    }
   ],
   "source": [
    "df[df['Status'] == 'unreviewed']['Organism'].nunique()"
   ]
  },
  {
   "cell_type": "code",
   "execution_count": 10,
   "metadata": {},
   "outputs": [
    {
     "data": {
      "text/plain": [
       "321"
      ]
     },
     "execution_count": 10,
     "metadata": {},
     "output_type": "execute_result"
    }
   ],
   "source": [
    "# Check for number of rows with reviewed hosts\n",
    "df[df['Status'] == 'reviewed']['Virus hosts'].nunique()"
   ]
  },
  {
   "cell_type": "code",
   "execution_count": 11,
   "metadata": {},
   "outputs": [
    {
     "data": {
      "text/plain": [
       "200"
      ]
     },
     "execution_count": 11,
     "metadata": {},
     "output_type": "execute_result"
    }
   ],
   "source": [
    "df[df['Status'] == 'unreviewed']['Virus hosts'].nunique()"
   ]
  },
  {
   "cell_type": "code",
   "execution_count": 12,
   "metadata": {},
   "outputs": [
    {
     "data": {
      "text/plain": [
       "373"
      ]
     },
     "execution_count": 12,
     "metadata": {},
     "output_type": "execute_result"
    }
   ],
   "source": [
    "# Total number of rows with host information (inclusive of reviewed and non-reviewed)\n",
    "df['Virus hosts'].nunique()"
   ]
  },
  {
   "cell_type": "code",
   "execution_count": 13,
   "metadata": {},
   "outputs": [
    {
     "data": {
      "text/plain": [
       "100216"
      ]
     },
     "execution_count": 13,
     "metadata": {},
     "output_type": "execute_result"
    }
   ],
   "source": [
    "# Checking if there is no missing organism taxonomy data. Organism == Tax IDs\n",
    "df['Taxonomic lineage IDs'].nunique()"
   ]
  },
  {
   "cell_type": "markdown",
   "metadata": {},
   "source": [
    "## Initial processing"
   ]
  },
  {
   "cell_type": "code",
   "execution_count": 14,
   "metadata": {},
   "outputs": [],
   "source": [
    "## Replace N/A columns with an empty string... prevents errors with column wide string operations\n",
    "\n",
    "df['Virus hosts'] = np.where(df['Virus hosts'].isnull(), '',df['Virus hosts'])"
   ]
  },
  {
   "cell_type": "code",
   "execution_count": 15,
   "metadata": {},
   "outputs": [
    {
     "data": {
      "text/html": [
       "<div>\n",
       "<style scoped>\n",
       "    .dataframe tbody tr th:only-of-type {\n",
       "        vertical-align: middle;\n",
       "    }\n",
       "\n",
       "    .dataframe tbody tr th {\n",
       "        vertical-align: top;\n",
       "    }\n",
       "\n",
       "    .dataframe thead th {\n",
       "        text-align: right;\n",
       "    }\n",
       "</style>\n",
       "<table border=\"1\" class=\"dataframe\">\n",
       "  <thead>\n",
       "    <tr style=\"text-align: right;\">\n",
       "      <th></th>\n",
       "      <th>Entry</th>\n",
       "      <th>Entry name</th>\n",
       "      <th>Status</th>\n",
       "      <th>Protein names</th>\n",
       "      <th>Organism</th>\n",
       "      <th>Length</th>\n",
       "      <th>Taxonomic lineage IDs</th>\n",
       "      <th>Taxonomic lineage (SPECIES)</th>\n",
       "      <th>Virus hosts</th>\n",
       "    </tr>\n",
       "  </thead>\n",
       "  <tbody>\n",
       "    <tr>\n",
       "      <th>300089</th>\n",
       "      <td>D4NUH0</td>\n",
       "      <td>D4NUH0_9HIV1</td>\n",
       "      <td>unreviewed</td>\n",
       "      <td>Envelope glycoprotein gp160 (Env polyprotein) ...</td>\n",
       "      <td>Human immunodeficiency virus 1</td>\n",
       "      <td>849</td>\n",
       "      <td>11676</td>\n",
       "      <td>Human immunodeficiency virus 1</td>\n",
       "      <td>Homo sapiens (Human) [TaxID: 9606]</td>\n",
       "    </tr>\n",
       "    <tr>\n",
       "      <th>102900</th>\n",
       "      <td>E7FL33</td>\n",
       "      <td>E7FL33_RUBV</td>\n",
       "      <td>unreviewed</td>\n",
       "      <td>Capsid protein (Coat protein) (E1 envelope gly...</td>\n",
       "      <td>Rubella virus (RUBV)</td>\n",
       "      <td>1063</td>\n",
       "      <td>11041</td>\n",
       "      <td>Rubella virus (RUBV)</td>\n",
       "      <td>Homo sapiens (Human) [TaxID: 9606]</td>\n",
       "    </tr>\n",
       "    <tr>\n",
       "      <th>337621</th>\n",
       "      <td>K4JMP2</td>\n",
       "      <td>K4JMP2_9HIV1</td>\n",
       "      <td>unreviewed</td>\n",
       "      <td>Protein Vpr (R ORF protein) (Viral protein R)</td>\n",
       "      <td>Human immunodeficiency virus 1</td>\n",
       "      <td>96</td>\n",
       "      <td>11676</td>\n",
       "      <td>Human immunodeficiency virus 1</td>\n",
       "      <td>Homo sapiens (Human) [TaxID: 9606]</td>\n",
       "    </tr>\n",
       "    <tr>\n",
       "      <th>120262</th>\n",
       "      <td>Q1KL40</td>\n",
       "      <td>Q1KL40_9HEPC</td>\n",
       "      <td>unreviewed</td>\n",
       "      <td>Core protein precursor (EC 2.7.7.48) (EC 3.4.2...</td>\n",
       "      <td>Hepatitis C virus subtype 6a</td>\n",
       "      <td>3019</td>\n",
       "      <td>31655</td>\n",
       "      <td>Hepacivirus C</td>\n",
       "      <td></td>\n",
       "    </tr>\n",
       "    <tr>\n",
       "      <th>106942</th>\n",
       "      <td>A0A1V1FWA8</td>\n",
       "      <td>A0A1V1FWA8_9PICO</td>\n",
       "      <td>unreviewed</td>\n",
       "      <td>Genome polyprotein (EC 2.7.7.48) (EC 3.4.22.28...</td>\n",
       "      <td>Foot-and-mouth disease virus - type O</td>\n",
       "      <td>2332</td>\n",
       "      <td>12118</td>\n",
       "      <td>Foot-and-mouth disease virus</td>\n",
       "      <td></td>\n",
       "    </tr>\n",
       "  </tbody>\n",
       "</table>\n",
       "</div>"
      ],
      "text/plain": [
       "             Entry        Entry name      Status  \\\n",
       "300089      D4NUH0      D4NUH0_9HIV1  unreviewed   \n",
       "102900      E7FL33       E7FL33_RUBV  unreviewed   \n",
       "337621      K4JMP2      K4JMP2_9HIV1  unreviewed   \n",
       "120262      Q1KL40      Q1KL40_9HEPC  unreviewed   \n",
       "106942  A0A1V1FWA8  A0A1V1FWA8_9PICO  unreviewed   \n",
       "\n",
       "                                            Protein names  \\\n",
       "300089  Envelope glycoprotein gp160 (Env polyprotein) ...   \n",
       "102900  Capsid protein (Coat protein) (E1 envelope gly...   \n",
       "337621      Protein Vpr (R ORF protein) (Viral protein R)   \n",
       "120262  Core protein precursor (EC 2.7.7.48) (EC 3.4.2...   \n",
       "106942  Genome polyprotein (EC 2.7.7.48) (EC 3.4.22.28...   \n",
       "\n",
       "                                     Organism  Length  Taxonomic lineage IDs  \\\n",
       "300089         Human immunodeficiency virus 1     849                  11676   \n",
       "102900                   Rubella virus (RUBV)    1063                  11041   \n",
       "337621         Human immunodeficiency virus 1      96                  11676   \n",
       "120262           Hepatitis C virus subtype 6a    3019                  31655   \n",
       "106942  Foot-and-mouth disease virus - type O    2332                  12118   \n",
       "\n",
       "           Taxonomic lineage (SPECIES)                         Virus hosts  \n",
       "300089  Human immunodeficiency virus 1  Homo sapiens (Human) [TaxID: 9606]  \n",
       "102900            Rubella virus (RUBV)  Homo sapiens (Human) [TaxID: 9606]  \n",
       "337621  Human immunodeficiency virus 1  Homo sapiens (Human) [TaxID: 9606]  \n",
       "120262                   Hepacivirus C                                      \n",
       "106942    Foot-and-mouth disease virus                                      "
      ]
     },
     "execution_count": 15,
     "metadata": {},
     "output_type": "execute_result"
    }
   ],
   "source": [
    "df.sample(5)"
   ]
  },
  {
   "cell_type": "code",
   "execution_count": 16,
   "metadata": {},
   "outputs": [],
   "source": [
    "def join_names(df, col_name: str):\n",
    "    df[col_name] = df[col_name].str.split('; ').apply(set).apply('; '.join) # 'set' function removes duplicate entries\n",
    "    return df"
   ]
  },
  {
   "cell_type": "code",
   "execution_count": 17,
   "metadata": {},
   "outputs": [],
   "source": [
    "# df['Virus hosts'] = df['Virus hosts'].str.split('; ')\n",
    "# df['Virus hosts'] = df['Virus hosts'].swifter.progress_bar(enable=True, desc='Removing duplicate host names').apply(set)\n",
    "# df['Virus hosts'] = df['Virus hosts'].swifter.progress_bar(enable=True, desc='Joining host names list').apply('; '.join)\n",
    "\n",
    "# df['Protein names'] = df['Protein names'].str.split('; ')\n",
    "# df['Protein names'] = df['Protein names'].swifter.progress_bar(enable=True, desc='Removing duplicate protein names').apply(set)\n",
    "# df['Protein names'] = df['Protein names'].swifter.progress_bar(enable=True, desc='Joining protein names list').apply('; '.join)\n",
    "\n",
    "# df['Organism'] = df['Organism'].str.split('; ')\n",
    "# df['Organism'] = df['Organism'].swifter.progress_bar(enable=True, desc='Removing duplicate organism names').apply(set)\n",
    "# df['Organism'] = df['Organism'].swifter.progress_bar(enable=True, desc='Joining organism names list').apply('; '.join)"
   ]
  },
  {
   "cell_type": "code",
   "execution_count": 18,
   "metadata": {},
   "outputs": [
    {
     "data": {
      "text/html": [
       "<div>\n",
       "<style scoped>\n",
       "    .dataframe tbody tr th:only-of-type {\n",
       "        vertical-align: middle;\n",
       "    }\n",
       "\n",
       "    .dataframe tbody tr th {\n",
       "        vertical-align: top;\n",
       "    }\n",
       "\n",
       "    .dataframe thead th {\n",
       "        text-align: right;\n",
       "    }\n",
       "</style>\n",
       "<table border=\"1\" class=\"dataframe\">\n",
       "  <thead>\n",
       "    <tr style=\"text-align: right;\">\n",
       "      <th></th>\n",
       "      <th>Entry</th>\n",
       "      <th>Entry name</th>\n",
       "      <th>Status</th>\n",
       "      <th>Protein names</th>\n",
       "      <th>Organism</th>\n",
       "      <th>Length</th>\n",
       "      <th>Taxonomic lineage IDs</th>\n",
       "      <th>Taxonomic lineage (SPECIES)</th>\n",
       "      <th>Virus hosts</th>\n",
       "    </tr>\n",
       "  </thead>\n",
       "  <tbody>\n",
       "    <tr>\n",
       "      <th>151272</th>\n",
       "      <td>J3EJL5</td>\n",
       "      <td>J3EJL5_9PSED</td>\n",
       "      <td>unreviewed</td>\n",
       "      <td>Integrase</td>\n",
       "      <td>Pseudomonas sp. GM21</td>\n",
       "      <td>399</td>\n",
       "      <td>1144325</td>\n",
       "      <td>Pseudomonas sp. GM21</td>\n",
       "      <td></td>\n",
       "    </tr>\n",
       "    <tr>\n",
       "      <th>140663</th>\n",
       "      <td>I2E0L8</td>\n",
       "      <td>I2E0L8_9INFB</td>\n",
       "      <td>unreviewed</td>\n",
       "      <td>Nucleoprotein (Nucleocapsid protein) (Protein N)</td>\n",
       "      <td>Influenza B virus (B/Malaysia/30/2007)</td>\n",
       "      <td>560</td>\n",
       "      <td>1038387</td>\n",
       "      <td>Influenza B virus</td>\n",
       "      <td></td>\n",
       "    </tr>\n",
       "    <tr>\n",
       "      <th>293899</th>\n",
       "      <td>A0A1D9IYX2</td>\n",
       "      <td>A0A1D9IYX2_9HIV1</td>\n",
       "      <td>unreviewed</td>\n",
       "      <td>Envelope glycoprotein gp160 (Env polyprotein) ...</td>\n",
       "      <td>Human immunodeficiency virus 1</td>\n",
       "      <td>859</td>\n",
       "      <td>11676</td>\n",
       "      <td>Human immunodeficiency virus 1</td>\n",
       "      <td>Homo sapiens (Human) [TaxID: 9606]</td>\n",
       "    </tr>\n",
       "  </tbody>\n",
       "</table>\n",
       "</div>"
      ],
      "text/plain": [
       "             Entry        Entry name      Status  \\\n",
       "151272      J3EJL5      J3EJL5_9PSED  unreviewed   \n",
       "140663      I2E0L8      I2E0L8_9INFB  unreviewed   \n",
       "293899  A0A1D9IYX2  A0A1D9IYX2_9HIV1  unreviewed   \n",
       "\n",
       "                                            Protein names  \\\n",
       "151272                                          Integrase   \n",
       "140663   Nucleoprotein (Nucleocapsid protein) (Protein N)   \n",
       "293899  Envelope glycoprotein gp160 (Env polyprotein) ...   \n",
       "\n",
       "                                      Organism  Length  Taxonomic lineage IDs  \\\n",
       "151272                    Pseudomonas sp. GM21     399                1144325   \n",
       "140663  Influenza B virus (B/Malaysia/30/2007)     560                1038387   \n",
       "293899          Human immunodeficiency virus 1     859                  11676   \n",
       "\n",
       "           Taxonomic lineage (SPECIES)                         Virus hosts  \n",
       "151272            Pseudomonas sp. GM21                                      \n",
       "140663               Influenza B virus                                      \n",
       "293899  Human immunodeficiency virus 1  Homo sapiens (Human) [TaxID: 9606]  "
      ]
     },
     "execution_count": 18,
     "metadata": {},
     "output_type": "execute_result"
    }
   ],
   "source": [
    "# Remove duplicate entries if present\n",
    "df = join_names(df, 'Virus hosts')\n",
    "df = join_names(df, 'Protein names')\n",
    "df = join_names(df, 'Organism')\n",
    "\n",
    "df.sample(3)"
   ]
  },
  {
   "cell_type": "markdown",
   "metadata": {},
   "source": [
    "<a id=\"ete3-taxo\" ></a>"
   ]
  },
  {
   "cell_type": "code",
   "execution_count": 19,
   "metadata": {
    "tags": []
   },
   "outputs": [
    {
     "data": {
      "application/vnd.jupyter.widget-view+json": {
       "model_id": "2d4dec9db7eb4ccfb3b36daa7f8b8108",
       "version_major": 2,
       "version_minor": 0
      },
      "text/plain": [
       "Getting Viruses taxonomic IDs:   0%|          | 0/16 [00:00<?, ?it/s]"
      ]
     },
     "metadata": {},
     "output_type": "display_data"
    }
   ],
   "source": [
    "# Species ID from organism ID\n",
    "df['Species taxonomic ID'] = (df['Taxonomic lineage IDs']\n",
    "                              .swifter.progress_bar(enable=True, desc='Getting Viruses taxonomic IDs')\n",
    "                              .apply(getRankID, rank='species')) # getRankID function in zoonosis_helper_functions.py"
   ]
  },
  {
   "cell_type": "code",
   "execution_count": 20,
   "metadata": {},
   "outputs": [],
   "source": [
    "# Copy for later use\n",
    "dff = df[['Entry', 'Species taxonomic ID']].copy()"
   ]
  },
  {
   "cell_type": "code",
   "execution_count": 21,
   "metadata": {},
   "outputs": [
    {
     "data": {
      "text/html": [
       "<div>\n",
       "<style scoped>\n",
       "    .dataframe tbody tr th:only-of-type {\n",
       "        vertical-align: middle;\n",
       "    }\n",
       "\n",
       "    .dataframe tbody tr th {\n",
       "        vertical-align: top;\n",
       "    }\n",
       "\n",
       "    .dataframe thead th {\n",
       "        text-align: right;\n",
       "    }\n",
       "</style>\n",
       "<table border=\"1\" class=\"dataframe\">\n",
       "  <thead>\n",
       "    <tr style=\"text-align: right;\">\n",
       "      <th></th>\n",
       "      <th>Entry</th>\n",
       "      <th>Entry name</th>\n",
       "      <th>Status</th>\n",
       "      <th>Protein names</th>\n",
       "      <th>Organism</th>\n",
       "      <th>Length</th>\n",
       "      <th>Taxonomic lineage IDs</th>\n",
       "      <th>Taxonomic lineage (SPECIES)</th>\n",
       "      <th>Virus hosts</th>\n",
       "      <th>Species taxonomic ID</th>\n",
       "    </tr>\n",
       "  </thead>\n",
       "  <tbody>\n",
       "    <tr>\n",
       "      <th>151824</th>\n",
       "      <td>A0A101KRF5</td>\n",
       "      <td>A0A101KRF5_RHILI</td>\n",
       "      <td>unreviewed</td>\n",
       "      <td>Integrase</td>\n",
       "      <td>Rhizobium loti (Mesorhizobium loti)</td>\n",
       "      <td>407</td>\n",
       "      <td>381</td>\n",
       "      <td>Rhizobium loti (Mesorhizobium loti)</td>\n",
       "      <td></td>\n",
       "      <td>381.0</td>\n",
       "    </tr>\n",
       "    <tr>\n",
       "      <th>11306</th>\n",
       "      <td>A7UC63</td>\n",
       "      <td>A7UC63_9MONO</td>\n",
       "      <td>unreviewed</td>\n",
       "      <td>Hemagglutinin-neuraminidase (EC 3.2.1.18)</td>\n",
       "      <td>Avian orthoavulavirus 1</td>\n",
       "      <td>571</td>\n",
       "      <td>2560319</td>\n",
       "      <td>Avian orthoavulavirus 1</td>\n",
       "      <td></td>\n",
       "      <td>2560319.0</td>\n",
       "    </tr>\n",
       "    <tr>\n",
       "      <th>26498</th>\n",
       "      <td>A0A2I6SX06</td>\n",
       "      <td>A0A2I6SX06_9INFA</td>\n",
       "      <td>unreviewed</td>\n",
       "      <td>Nucleoprotein (Nucleocapsid protein) (Protein N)</td>\n",
       "      <td>Influenza A virus (A/swine/North Carolina/A017...</td>\n",
       "      <td>498</td>\n",
       "      <td>2028552</td>\n",
       "      <td>Influenza A virus</td>\n",
       "      <td></td>\n",
       "      <td>11320.0</td>\n",
       "    </tr>\n",
       "  </tbody>\n",
       "</table>\n",
       "</div>"
      ],
      "text/plain": [
       "             Entry        Entry name      Status  \\\n",
       "151824  A0A101KRF5  A0A101KRF5_RHILI  unreviewed   \n",
       "11306       A7UC63      A7UC63_9MONO  unreviewed   \n",
       "26498   A0A2I6SX06  A0A2I6SX06_9INFA  unreviewed   \n",
       "\n",
       "                                           Protein names  \\\n",
       "151824                                         Integrase   \n",
       "11306          Hemagglutinin-neuraminidase (EC 3.2.1.18)   \n",
       "26498   Nucleoprotein (Nucleocapsid protein) (Protein N)   \n",
       "\n",
       "                                                 Organism  Length  \\\n",
       "151824                Rhizobium loti (Mesorhizobium loti)     407   \n",
       "11306                             Avian orthoavulavirus 1     571   \n",
       "26498   Influenza A virus (A/swine/North Carolina/A017...     498   \n",
       "\n",
       "        Taxonomic lineage IDs          Taxonomic lineage (SPECIES)  \\\n",
       "151824                    381  Rhizobium loti (Mesorhizobium loti)   \n",
       "11306                 2560319              Avian orthoavulavirus 1   \n",
       "26498                 2028552                    Influenza A virus   \n",
       "\n",
       "       Virus hosts  Species taxonomic ID  \n",
       "151824                             381.0  \n",
       "11306                          2560319.0  \n",
       "26498                            11320.0  "
      ]
     },
     "execution_count": 21,
     "metadata": {},
     "output_type": "execute_result"
    }
   ],
   "source": [
    "df.sample(3)"
   ]
  },
  {
   "cell_type": "code",
   "execution_count": 22,
   "metadata": {
    "scrolled": true,
    "tags": []
   },
   "outputs": [
    {
     "data": {
      "text/html": [
       "<div>\n",
       "<style scoped>\n",
       "    .dataframe tbody tr th:only-of-type {\n",
       "        vertical-align: middle;\n",
       "    }\n",
       "\n",
       "    .dataframe tbody tr th {\n",
       "        vertical-align: top;\n",
       "    }\n",
       "\n",
       "    .dataframe thead th {\n",
       "        text-align: right;\n",
       "    }\n",
       "</style>\n",
       "<table border=\"1\" class=\"dataframe\">\n",
       "  <thead>\n",
       "    <tr style=\"text-align: right;\">\n",
       "      <th></th>\n",
       "      <th>Entry</th>\n",
       "      <th>Entry name</th>\n",
       "      <th>Status</th>\n",
       "      <th>Protein names</th>\n",
       "      <th>Organism</th>\n",
       "      <th>Length</th>\n",
       "      <th>Taxonomic lineage IDs</th>\n",
       "      <th>Taxonomic lineage (SPECIES)</th>\n",
       "      <th>Virus hosts</th>\n",
       "      <th>Species taxonomic ID</th>\n",
       "    </tr>\n",
       "  </thead>\n",
       "  <tbody>\n",
       "    <tr>\n",
       "      <th>259582</th>\n",
       "      <td>I7C489</td>\n",
       "      <td>I7C489_GALIV</td>\n",
       "      <td>unreviewed</td>\n",
       "      <td>Genome polyprotein (EC 3.6.1.15) (P1C) (P1D) (...</td>\n",
       "      <td>Gallivirus A (isolate Turkey/Hungary/M176/2011...</td>\n",
       "      <td>2474</td>\n",
       "      <td>1560035</td>\n",
       "      <td>Gallivirus A</td>\n",
       "      <td>Meleagris gallopavo (Wild turkey) [TaxID: 9103]</td>\n",
       "      <td>NaN</td>\n",
       "    </tr>\n",
       "    <tr>\n",
       "      <th>189041</th>\n",
       "      <td>Q0NCN9</td>\n",
       "      <td>Q0NCN9_VAR65</td>\n",
       "      <td>unreviewed</td>\n",
       "      <td>IMV membrane protein</td>\n",
       "      <td>Variola virus (isolate Human/South Africa/102/...</td>\n",
       "      <td>133</td>\n",
       "      <td>587201</td>\n",
       "      <td>Variola virus</td>\n",
       "      <td>Homo sapiens (Human) [TaxID: 9606]</td>\n",
       "      <td>NaN</td>\n",
       "    </tr>\n",
       "    <tr>\n",
       "      <th>233522</th>\n",
       "      <td>Q0NLX6</td>\n",
       "      <td>Q0NLX6_VAR66</td>\n",
       "      <td>unreviewed</td>\n",
       "      <td>Protein L5</td>\n",
       "      <td>Variola virus (isolate Human/Brazil/v66-39/196...</td>\n",
       "      <td>128</td>\n",
       "      <td>587203</td>\n",
       "      <td>Variola virus</td>\n",
       "      <td>Homo sapiens (Human) [TaxID: 9606]</td>\n",
       "      <td>NaN</td>\n",
       "    </tr>\n",
       "  </tbody>\n",
       "</table>\n",
       "</div>"
      ],
      "text/plain": [
       "         Entry    Entry name      Status  \\\n",
       "259582  I7C489  I7C489_GALIV  unreviewed   \n",
       "189041  Q0NCN9  Q0NCN9_VAR65  unreviewed   \n",
       "233522  Q0NLX6  Q0NLX6_VAR66  unreviewed   \n",
       "\n",
       "                                            Protein names  \\\n",
       "259582  Genome polyprotein (EC 3.6.1.15) (P1C) (P1D) (...   \n",
       "189041                               IMV membrane protein   \n",
       "233522                                         Protein L5   \n",
       "\n",
       "                                                 Organism  Length  \\\n",
       "259582  Gallivirus A (isolate Turkey/Hungary/M176/2011...    2474   \n",
       "189041  Variola virus (isolate Human/South Africa/102/...     133   \n",
       "233522  Variola virus (isolate Human/Brazil/v66-39/196...     128   \n",
       "\n",
       "        Taxonomic lineage IDs Taxonomic lineage (SPECIES)  \\\n",
       "259582                1560035                Gallivirus A   \n",
       "189041                 587201               Variola virus   \n",
       "233522                 587203               Variola virus   \n",
       "\n",
       "                                            Virus hosts  Species taxonomic ID  \n",
       "259582  Meleagris gallopavo (Wild turkey) [TaxID: 9103]                   NaN  \n",
       "189041               Homo sapiens (Human) [TaxID: 9606]                   NaN  \n",
       "233522               Homo sapiens (Human) [TaxID: 9606]                   NaN  "
      ]
     },
     "execution_count": 22,
     "metadata": {},
     "output_type": "execute_result"
    }
   ],
   "source": [
    "# Check if all tax IDs could be found in NCBI taxonomy database\n",
    "df[df['Species taxonomic ID'].isnull()].sample(3)"
   ]
  },
  {
   "cell_type": "code",
   "execution_count": 23,
   "metadata": {},
   "outputs": [
    {
     "data": {
      "application/vnd.jupyter.widget-view+json": {
       "model_id": "de940d5c59bd4a799f4b9a90109a66c2",
       "version_major": 2,
       "version_minor": 0
      },
      "text/plain": [
       "Getting species ID from organism name:   0%|          | 0/358333 [00:00<?, ?it/s]"
      ]
     },
     "metadata": {},
     "output_type": "display_data"
    }
   ],
   "source": [
    "# Get the species name of the earlier unidentified taxonomic IDs\n",
    "idx_species_name = df.columns.get_loc('Taxonomic lineage (SPECIES)')\n",
    "idx_organism_id = df.columns.get_loc('Species taxonomic ID')\n",
    "\n",
    "for row in tqdm_notebook(range(len(df)), desc='Getting species ID from organism name'):\n",
    "    if np.isnan(df.iat[row, idx_organism_id]):\n",
    "        df.iat[row, idx_organism_id] = getIDfromName(df.iat[row, idx_species_name]) # getIDfromName function in zoonosis_helper_functions.py"
   ]
  },
  {
   "cell_type": "code",
   "execution_count": 24,
   "metadata": {},
   "outputs": [
    {
     "data": {
      "text/html": [
       "<div>\n",
       "<style scoped>\n",
       "    .dataframe tbody tr th:only-of-type {\n",
       "        vertical-align: middle;\n",
       "    }\n",
       "\n",
       "    .dataframe tbody tr th {\n",
       "        vertical-align: top;\n",
       "    }\n",
       "\n",
       "    .dataframe thead th {\n",
       "        text-align: right;\n",
       "    }\n",
       "</style>\n",
       "<table border=\"1\" class=\"dataframe\">\n",
       "  <thead>\n",
       "    <tr style=\"text-align: right;\">\n",
       "      <th></th>\n",
       "      <th>Entry</th>\n",
       "      <th>Entry name</th>\n",
       "      <th>Status</th>\n",
       "      <th>Protein names</th>\n",
       "      <th>Organism</th>\n",
       "      <th>Length</th>\n",
       "      <th>Taxonomic lineage IDs</th>\n",
       "      <th>Taxonomic lineage (SPECIES)</th>\n",
       "      <th>Virus hosts</th>\n",
       "      <th>Species taxonomic ID</th>\n",
       "    </tr>\n",
       "  </thead>\n",
       "  <tbody>\n",
       "  </tbody>\n",
       "</table>\n",
       "</div>"
      ],
      "text/plain": [
       "Empty DataFrame\n",
       "Columns: [Entry, Entry name, Status, Protein names, Organism, Length, Taxonomic lineage IDs, Taxonomic lineage (SPECIES), Virus hosts, Species taxonomic ID]\n",
       "Index: []"
      ]
     },
     "execution_count": 24,
     "metadata": {},
     "output_type": "execute_result"
    }
   ],
   "source": [
    "df[df['Species taxonomic ID'].isnull()]"
   ]
  },
  {
   "cell_type": "code",
   "execution_count": 25,
   "metadata": {},
   "outputs": [],
   "source": [
    "df['Species taxonomic ID'] = df['Species taxonomic ID'].apply(int) # convert taxid from floats to int"
   ]
  },
  {
   "cell_type": "code",
   "execution_count": 26,
   "metadata": {},
   "outputs": [
    {
     "data": {
      "text/plain": [
       "(358333, 10)"
      ]
     },
     "execution_count": 26,
     "metadata": {},
     "output_type": "execute_result"
    }
   ],
   "source": [
    "df.shape"
   ]
  },
  {
   "cell_type": "code",
   "execution_count": 27,
   "metadata": {},
   "outputs": [],
   "source": [
    "df = (df.drop(['Status','Taxonomic lineage IDs'], axis=1)\n",
    "      .groupby('Species taxonomic ID', as_index=False)\n",
    "      .agg({'Virus hosts':set, 'Organism':set,\n",
    "            'Protein names':set, 'Taxonomic lineage (SPECIES)':'first'}))"
   ]
  },
  {
   "cell_type": "code",
   "execution_count": 28,
   "metadata": {},
   "outputs": [],
   "source": [
    "df['Virus hosts'] = df['Virus hosts'].str.join('; ')\n",
    "df['Organism'] = df['Organism'].str.join('; ')\n",
    "df['Protein names'] = df['Protein names'].str.join('; ')"
   ]
  },
  {
   "cell_type": "code",
   "execution_count": 29,
   "metadata": {},
   "outputs": [
    {
     "data": {
      "text/html": [
       "<div>\n",
       "<style scoped>\n",
       "    .dataframe tbody tr th:only-of-type {\n",
       "        vertical-align: middle;\n",
       "    }\n",
       "\n",
       "    .dataframe tbody tr th {\n",
       "        vertical-align: top;\n",
       "    }\n",
       "\n",
       "    .dataframe thead th {\n",
       "        text-align: right;\n",
       "    }\n",
       "</style>\n",
       "<table border=\"1\" class=\"dataframe\">\n",
       "  <thead>\n",
       "    <tr style=\"text-align: right;\">\n",
       "      <th></th>\n",
       "      <th>Species taxonomic ID</th>\n",
       "      <th>Virus hosts</th>\n",
       "      <th>Organism</th>\n",
       "      <th>Protein names</th>\n",
       "      <th>Taxonomic lineage (SPECIES)</th>\n",
       "    </tr>\n",
       "  </thead>\n",
       "  <tbody>\n",
       "    <tr>\n",
       "      <th>5220</th>\n",
       "      <td>1397528</td>\n",
       "      <td></td>\n",
       "      <td>Halomonas sp. PBN3</td>\n",
       "      <td>Integrase; Tyr recombinase domain-containing p...</td>\n",
       "      <td>Halomonas sp. PBN3</td>\n",
       "    </tr>\n",
       "    <tr>\n",
       "      <th>14227</th>\n",
       "      <td>2723938</td>\n",
       "      <td></td>\n",
       "      <td>Listeria virus P200</td>\n",
       "      <td>Portal protein</td>\n",
       "      <td>Listeria virus P200</td>\n",
       "    </tr>\n",
       "    <tr>\n",
       "      <th>2128</th>\n",
       "      <td>232237</td>\n",
       "      <td></td>\n",
       "      <td>Xanthomonas virus Xp10</td>\n",
       "      <td>7R</td>\n",
       "      <td>Xanthomonas virus Xp10</td>\n",
       "    </tr>\n",
       "    <tr>\n",
       "      <th>2421</th>\n",
       "      <td>313985</td>\n",
       "      <td></td>\n",
       "      <td>Geobacter lovleyi (strain ATCC BAA-1151 / DSM ...</td>\n",
       "      <td>Integrase family protein</td>\n",
       "      <td>Geobacter lovleyi</td>\n",
       "    </tr>\n",
       "    <tr>\n",
       "      <th>13298</th>\n",
       "      <td>2601613</td>\n",
       "      <td></td>\n",
       "      <td>Klebsiella phage KOX3</td>\n",
       "      <td>Internal virion protein gp15; Internal virion ...</td>\n",
       "      <td>Klebsiella phage KOX3</td>\n",
       "    </tr>\n",
       "  </tbody>\n",
       "</table>\n",
       "</div>"
      ],
      "text/plain": [
       "       Species taxonomic ID Virus hosts  \\\n",
       "5220                1397528               \n",
       "14227               2723938               \n",
       "2128                 232237               \n",
       "2421                 313985               \n",
       "13298               2601613               \n",
       "\n",
       "                                                Organism  \\\n",
       "5220                                  Halomonas sp. PBN3   \n",
       "14227                                Listeria virus P200   \n",
       "2128                              Xanthomonas virus Xp10   \n",
       "2421   Geobacter lovleyi (strain ATCC BAA-1151 / DSM ...   \n",
       "13298                              Klebsiella phage KOX3   \n",
       "\n",
       "                                           Protein names  \\\n",
       "5220   Integrase; Tyr recombinase domain-containing p...   \n",
       "14227                                     Portal protein   \n",
       "2128                                                  7R   \n",
       "2421                            Integrase family protein   \n",
       "13298  Internal virion protein gp15; Internal virion ...   \n",
       "\n",
       "      Taxonomic lineage (SPECIES)  \n",
       "5220           Halomonas sp. PBN3  \n",
       "14227         Listeria virus P200  \n",
       "2128       Xanthomonas virus Xp10  \n",
       "2421            Geobacter lovleyi  \n",
       "13298       Klebsiella phage KOX3  "
      ]
     },
     "execution_count": 29,
     "metadata": {},
     "output_type": "execute_result"
    }
   ],
   "source": [
    "df.sample(5)"
   ]
  },
  {
   "cell_type": "code",
   "execution_count": 30,
   "metadata": {},
   "outputs": [
    {
     "data": {
      "text/plain": [
       "(15109, 5)"
      ]
     },
     "execution_count": 30,
     "metadata": {},
     "output_type": "execute_result"
    }
   ],
   "source": [
    "df.shape"
   ]
  },
  {
   "cell_type": "code",
   "execution_count": 31,
   "metadata": {},
   "outputs": [],
   "source": [
    "# Get species name from NCBI taxo database using Taxonomic ID\n",
    "df['Species name'] = (df.drop('Taxonomic lineage (SPECIES)', axis=1)\n",
    "                      .swifter.progress_bar(enable=True, desc='Getting Species name')\n",
    "                      .apply(lambda x: getRankName(x['Species taxonomic ID'], \n",
    "                                                   rank='species'), axis=1))"
   ]
  },
  {
   "cell_type": "code",
   "execution_count": 32,
   "metadata": {},
   "outputs": [
    {
     "data": {
      "application/vnd.jupyter.widget-view+json": {
       "model_id": "44c0a678d801462abbee888377c8b3ce",
       "version_major": 2,
       "version_minor": 0
      },
      "text/plain": [
       "Processing:   0%|          | 0/15109 [00:00<?, ?it/s]"
      ]
     },
     "metadata": {},
     "output_type": "display_data"
    }
   ],
   "source": [
    "# Get superkingdom name from NCBI taxo database using Taxonomic ID\n",
    "df['Species superkingdom'] = df['Species taxonomic ID'].progress_apply(getRankName, rank='superkingdom')"
   ]
  },
  {
   "cell_type": "code",
   "execution_count": 33,
   "metadata": {},
   "outputs": [
    {
     "data": {
      "application/vnd.jupyter.widget-view+json": {
       "model_id": "2b7e3080ac1748d691964a3a780edcfc",
       "version_major": 2,
       "version_minor": 0
      },
      "text/plain": [
       "Processing:   0%|          | 0/15109 [00:00<?, ?it/s]"
      ]
     },
     "metadata": {},
     "output_type": "display_data"
    }
   ],
   "source": [
    "# Get family from NCBI taxo database using Taxonomic ID\n",
    "df['Species family'] = df['Species taxonomic ID'].progress_apply(getRankName, rank='family')"
   ]
  },
  {
   "cell_type": "code",
   "execution_count": 34,
   "metadata": {},
   "outputs": [
    {
     "data": {
      "text/plain": [
       "array(['Bacteria', 'Archaea', 'Eukaryota', 'Viruses', 'IncJ plasmid R391',\n",
       "       'uncultured organism', 'metagenome', 'Plasmid pFKY1',\n",
       "       'human gut metagenome', 'marine metagenome',\n",
       "       'mine drainage metagenome', 'marine sediment metagenome',\n",
       "       'freshwater metagenome',\n",
       "       'uncultured marine microorganism HF4000_005I08',\n",
       "       'wastewater metagenome', 'hydrothermal vent metagenome',\n",
       "       'sediment metagenome', 'viral metagenome', 'biofilter metagenome',\n",
       "       'bioreactor metagenome', 'anaerobic digester metagenome',\n",
       "       'plant metagenome', 'invertebrate metagenome'], dtype=object)"
      ]
     },
     "execution_count": 34,
     "metadata": {},
     "output_type": "execute_result"
    }
   ],
   "source": [
    "df['Species superkingdom'].unique()"
   ]
  },
  {
   "cell_type": "markdown",
   "metadata": {},
   "source": [
    "<a id=\"filter\"></a>"
   ]
  },
  {
   "cell_type": "code",
   "execution_count": 35,
   "metadata": {},
   "outputs": [],
   "source": [
    "# Filter to include only viruses\n",
    "df = df[df['Species superkingdom'] == 'Viruses']"
   ]
  },
  {
   "cell_type": "code",
   "execution_count": 36,
   "metadata": {},
   "outputs": [
    {
     "data": {
      "text/html": [
       "<div>\n",
       "<style scoped>\n",
       "    .dataframe tbody tr th:only-of-type {\n",
       "        vertical-align: middle;\n",
       "    }\n",
       "\n",
       "    .dataframe tbody tr th {\n",
       "        vertical-align: top;\n",
       "    }\n",
       "\n",
       "    .dataframe thead th {\n",
       "        text-align: right;\n",
       "    }\n",
       "</style>\n",
       "<table border=\"1\" class=\"dataframe\">\n",
       "  <thead>\n",
       "    <tr style=\"text-align: right;\">\n",
       "      <th></th>\n",
       "      <th>Species taxonomic ID</th>\n",
       "      <th>Virus hosts</th>\n",
       "      <th>Organism</th>\n",
       "      <th>Protein names</th>\n",
       "      <th>Taxonomic lineage (SPECIES)</th>\n",
       "      <th>Species name</th>\n",
       "      <th>Species superkingdom</th>\n",
       "      <th>Species family</th>\n",
       "    </tr>\n",
       "  </thead>\n",
       "  <tbody>\n",
       "    <tr>\n",
       "      <th>7233</th>\n",
       "      <td>1863008</td>\n",
       "      <td></td>\n",
       "      <td>Shigella phage SHFML-11</td>\n",
       "      <td>Portal protein (gp20); Tail sheath monomer; Pr...</td>\n",
       "      <td>Shigella phage SHFML-11</td>\n",
       "      <td>Shigella phage SHFML-11</td>\n",
       "      <td>Viruses</td>\n",
       "      <td>Myoviridae</td>\n",
       "    </tr>\n",
       "    <tr>\n",
       "      <th>5141</th>\n",
       "      <td>1357713</td>\n",
       "      <td></td>\n",
       "      <td>Bacillus phage phiCM3</td>\n",
       "      <td>Portal protein, HK97 family; YdcL</td>\n",
       "      <td>Bacillus phage phiCM3</td>\n",
       "      <td>Bacillus phage phiCM3</td>\n",
       "      <td>Viruses</td>\n",
       "      <td>Siphoviridae</td>\n",
       "    </tr>\n",
       "    <tr>\n",
       "      <th>11734</th>\n",
       "      <td>2500799</td>\n",
       "      <td></td>\n",
       "      <td>Mycobacterium phage CicholasNage</td>\n",
       "      <td>Integrase</td>\n",
       "      <td>Mycobacterium phage CicholasNage</td>\n",
       "      <td>Mycobacterium phage CicholasNage</td>\n",
       "      <td>Viruses</td>\n",
       "      <td>Siphoviridae</td>\n",
       "    </tr>\n",
       "    <tr>\n",
       "      <th>12156</th>\n",
       "      <td>2548107</td>\n",
       "      <td></td>\n",
       "      <td>Streptococcus phage Javan320</td>\n",
       "      <td>Portal protein</td>\n",
       "      <td>Streptococcus phage Javan320</td>\n",
       "      <td>Streptococcus phage Javan320</td>\n",
       "      <td>Viruses</td>\n",
       "      <td>Siphoviridae</td>\n",
       "    </tr>\n",
       "    <tr>\n",
       "      <th>7232</th>\n",
       "      <td>1862978</td>\n",
       "      <td></td>\n",
       "      <td>Etheostoma fonticola aquareovirus</td>\n",
       "      <td>Putative outer capsid protein</td>\n",
       "      <td>Etheostoma fonticola aquareovirus</td>\n",
       "      <td>Etheostoma fonticola aquareovirus</td>\n",
       "      <td>Viruses</td>\n",
       "      <td>Reoviridae</td>\n",
       "    </tr>\n",
       "  </tbody>\n",
       "</table>\n",
       "</div>"
      ],
      "text/plain": [
       "       Species taxonomic ID Virus hosts                           Organism  \\\n",
       "7233                1863008                        Shigella phage SHFML-11   \n",
       "5141                1357713                          Bacillus phage phiCM3   \n",
       "11734               2500799               Mycobacterium phage CicholasNage   \n",
       "12156               2548107                   Streptococcus phage Javan320   \n",
       "7232                1862978              Etheostoma fonticola aquareovirus   \n",
       "\n",
       "                                           Protein names  \\\n",
       "7233   Portal protein (gp20); Tail sheath monomer; Pr...   \n",
       "5141                   Portal protein, HK97 family; YdcL   \n",
       "11734                                          Integrase   \n",
       "12156                                     Portal protein   \n",
       "7232                       Putative outer capsid protein   \n",
       "\n",
       "             Taxonomic lineage (SPECIES)                       Species name  \\\n",
       "7233             Shigella phage SHFML-11            Shigella phage SHFML-11   \n",
       "5141               Bacillus phage phiCM3              Bacillus phage phiCM3   \n",
       "11734   Mycobacterium phage CicholasNage   Mycobacterium phage CicholasNage   \n",
       "12156       Streptococcus phage Javan320       Streptococcus phage Javan320   \n",
       "7232   Etheostoma fonticola aquareovirus  Etheostoma fonticola aquareovirus   \n",
       "\n",
       "      Species superkingdom Species family  \n",
       "7233               Viruses     Myoviridae  \n",
       "5141               Viruses   Siphoviridae  \n",
       "11734              Viruses   Siphoviridae  \n",
       "12156              Viruses   Siphoviridae  \n",
       "7232               Viruses     Reoviridae  "
      ]
     },
     "execution_count": 36,
     "metadata": {},
     "output_type": "execute_result"
    }
   ],
   "source": [
    "df.sample(5)"
   ]
  },
  {
   "cell_type": "code",
   "execution_count": 37,
   "metadata": {},
   "outputs": [],
   "source": [
    "df.drop(['Taxonomic lineage (SPECIES)'], axis=1, inplace=True)"
   ]
  },
  {
   "cell_type": "code",
   "execution_count": 38,
   "metadata": {},
   "outputs": [],
   "source": [
    "# Convert empty strings to nan for easy downstream processing\n",
    "df['Virus hosts'] = np.where(df['Virus hosts']=='', np.nan, df['Virus hosts'])"
   ]
  },
  {
   "cell_type": "code",
   "execution_count": 39,
   "metadata": {},
   "outputs": [
    {
     "data": {
      "text/html": [
       "<div>\n",
       "<style scoped>\n",
       "    .dataframe tbody tr th:only-of-type {\n",
       "        vertical-align: middle;\n",
       "    }\n",
       "\n",
       "    .dataframe tbody tr th {\n",
       "        vertical-align: top;\n",
       "    }\n",
       "\n",
       "    .dataframe thead th {\n",
       "        text-align: right;\n",
       "    }\n",
       "</style>\n",
       "<table border=\"1\" class=\"dataframe\">\n",
       "  <thead>\n",
       "    <tr style=\"text-align: right;\">\n",
       "      <th></th>\n",
       "      <th>Species taxonomic ID</th>\n",
       "      <th>Virus hosts</th>\n",
       "      <th>Organism</th>\n",
       "      <th>Protein names</th>\n",
       "      <th>Species name</th>\n",
       "      <th>Species superkingdom</th>\n",
       "      <th>Species family</th>\n",
       "    </tr>\n",
       "  </thead>\n",
       "  <tbody>\n",
       "    <tr>\n",
       "      <th>14813</th>\n",
       "      <td>2735535</td>\n",
       "      <td>NaN</td>\n",
       "      <td>Bacillus phage phi3Ts</td>\n",
       "      <td>Integrase; Core-binding (CB) domain-containing...</td>\n",
       "      <td>Bacillus phage phi3Ts</td>\n",
       "      <td>Viruses</td>\n",
       "      <td>Siphoviridae</td>\n",
       "    </tr>\n",
       "    <tr>\n",
       "      <th>10592</th>\n",
       "      <td>2170413</td>\n",
       "      <td>NaN</td>\n",
       "      <td>Siphoviridae sp.</td>\n",
       "      <td>phage_tail_N domain-containing protein; Integr...</td>\n",
       "      <td>Siphoviridae sp.</td>\n",
       "      <td>Viruses</td>\n",
       "      <td>Siphoviridae</td>\n",
       "    </tr>\n",
       "    <tr>\n",
       "      <th>13887</th>\n",
       "      <td>2686372</td>\n",
       "      <td>NaN</td>\n",
       "      <td>Pseudomonas phage CHF1</td>\n",
       "      <td>Portal protein (Head-to-tail connector)</td>\n",
       "      <td>Pseudomonas phage CHF1</td>\n",
       "      <td>Viruses</td>\n",
       "      <td>Autographiviridae</td>\n",
       "    </tr>\n",
       "  </tbody>\n",
       "</table>\n",
       "</div>"
      ],
      "text/plain": [
       "       Species taxonomic ID Virus hosts                Organism  \\\n",
       "14813               2735535         NaN   Bacillus phage phi3Ts   \n",
       "10592               2170413         NaN        Siphoviridae sp.   \n",
       "13887               2686372         NaN  Pseudomonas phage CHF1   \n",
       "\n",
       "                                           Protein names  \\\n",
       "14813  Integrase; Core-binding (CB) domain-containing...   \n",
       "10592  phage_tail_N domain-containing protein; Integr...   \n",
       "13887            Portal protein (Head-to-tail connector)   \n",
       "\n",
       "                 Species name Species superkingdom     Species family  \n",
       "14813   Bacillus phage phi3Ts              Viruses       Siphoviridae  \n",
       "10592        Siphoviridae sp.              Viruses       Siphoviridae  \n",
       "13887  Pseudomonas phage CHF1              Viruses  Autographiviridae  "
      ]
     },
     "execution_count": 39,
     "metadata": {},
     "output_type": "execute_result"
    }
   ],
   "source": [
    "df[df['Virus hosts'].isnull()].sample(3)"
   ]
  },
  {
   "cell_type": "code",
   "execution_count": 40,
   "metadata": {},
   "outputs": [],
   "source": [
    "df.drop('Organism', axis=1, inplace=True) # Organism == Species name"
   ]
  },
  {
   "cell_type": "markdown",
   "metadata": {},
   "source": [
    "## Updating host names from other host data in the dataset\n",
    "\n",
    "Premise: Same virus has same host irrespective of whether the info has been reviewed or not"
   ]
  },
  {
   "cell_type": "code",
   "execution_count": 41,
   "metadata": {},
   "outputs": [],
   "source": [
    "# List of viruses which do not have assigned hosts in the data\n",
    "noHostViruses = (df[df['Virus hosts'].isnull()]['Species name']\n",
    "                 .unique()\n",
    "                 .tolist())"
   ]
  },
  {
   "cell_type": "code",
   "execution_count": 42,
   "metadata": {},
   "outputs": [],
   "source": [
    "# Create independent dataframe of viruses with no assigned host and simltaneously identify the same viruses from the data \n",
    "# whcih already have assigned hosts and assign host names based on those. \n",
    "df_na_hosts = df[(~df['Virus hosts'].isnull()) & (df['Species name'].isin(noHostViruses))][['Species name', 'Virus hosts']]\n",
    "df_na_hosts = df_na_hosts.groupby('Species name')['Virus hosts'].apply(list) # Reduces dimention\n",
    "df_na_hosts = df_na_hosts.reset_index(name='Viral hosts nw')"
   ]
  },
  {
   "cell_type": "code",
   "execution_count": 43,
   "metadata": {},
   "outputs": [],
   "source": [
    "# Previous operation reurns a list for multiple host\n",
    "# Converts the lists into regular string entries separated by a ;\n",
    "df_na_hosts['Viral hosts nw'] = (df_na_hosts['Viral hosts nw']\n",
    "                                 .swifter.progress_bar(desc='Joining host names list', enable=True)\n",
    "                                 .apply('; '.join))"
   ]
  },
  {
   "cell_type": "code",
   "execution_count": 44,
   "metadata": {},
   "outputs": [],
   "source": [
    "# Updates the viruses hosts info in the main dataset\n",
    "df_naa = (df[df['Virus hosts'].isnull()]\n",
    "          .merge(df_na_hosts, on='Species name', how='left')\n",
    "          .drop('Virus hosts', axis=1)\n",
    "          .rename({'Viral hosts nw':'Virus hosts'}, axis=1))"
   ]
  },
  {
   "cell_type": "code",
   "execution_count": 45,
   "metadata": {},
   "outputs": [],
   "source": [
    "# Creates independant dataset with viruses which have hosts\n",
    "df_notna = df[~df['Virus hosts'].isnull()]"
   ]
  },
  {
   "cell_type": "code",
   "execution_count": 46,
   "metadata": {},
   "outputs": [],
   "source": [
    "# merges the updated virus hosts dataset with the dataset with viruses which have hosts\n",
    "df = df_naa.append(df_notna)"
   ]
  },
  {
   "cell_type": "code",
   "execution_count": 47,
   "metadata": {},
   "outputs": [
    {
     "data": {
      "text/plain": [
       "(8113, 6)"
      ]
     },
     "execution_count": 47,
     "metadata": {},
     "output_type": "execute_result"
    }
   ],
   "source": [
    "df.shape # Reduced dimention because of grouping, will later ungroup"
   ]
  },
  {
   "cell_type": "code",
   "execution_count": 48,
   "metadata": {},
   "outputs": [
    {
     "data": {
      "text/html": [
       "<div>\n",
       "<style scoped>\n",
       "    .dataframe tbody tr th:only-of-type {\n",
       "        vertical-align: middle;\n",
       "    }\n",
       "\n",
       "    .dataframe tbody tr th {\n",
       "        vertical-align: top;\n",
       "    }\n",
       "\n",
       "    .dataframe thead th {\n",
       "        text-align: right;\n",
       "    }\n",
       "</style>\n",
       "<table border=\"1\" class=\"dataframe\">\n",
       "  <thead>\n",
       "    <tr style=\"text-align: right;\">\n",
       "      <th></th>\n",
       "      <th>Species taxonomic ID</th>\n",
       "      <th>Protein names</th>\n",
       "      <th>Species name</th>\n",
       "      <th>Species superkingdom</th>\n",
       "      <th>Species family</th>\n",
       "      <th>Virus hosts</th>\n",
       "    </tr>\n",
       "  </thead>\n",
       "  <tbody>\n",
       "    <tr>\n",
       "      <th>5894</th>\n",
       "      <td>2591238</td>\n",
       "      <td>Spike glycoprotein; Spike protein S2; Spike pr...</td>\n",
       "      <td>Coronavirus BtRt-BetaCoV/GX2018</td>\n",
       "      <td>Viruses</td>\n",
       "      <td>Coronaviridae</td>\n",
       "      <td>NaN</td>\n",
       "    </tr>\n",
       "    <tr>\n",
       "      <th>1144</th>\n",
       "      <td>1105173</td>\n",
       "      <td>Core protein (EC 3.4.21.91) (EC 3.6.1.15) (EC ...</td>\n",
       "      <td>Marisma mosquito virus</td>\n",
       "      <td>Viruses</td>\n",
       "      <td>Flaviviridae</td>\n",
       "      <td>NaN</td>\n",
       "    </tr>\n",
       "    <tr>\n",
       "      <th>3668</th>\n",
       "      <td>2045361</td>\n",
       "      <td>Integrase; Tailspike protein</td>\n",
       "      <td>Escherichia phage APC_JM3.2</td>\n",
       "      <td>Viruses</td>\n",
       "      <td>Podoviridae</td>\n",
       "      <td>NaN</td>\n",
       "    </tr>\n",
       "    <tr>\n",
       "      <th>4874</th>\n",
       "      <td>2502449</td>\n",
       "      <td>Portal protein</td>\n",
       "      <td>Streptomyces phage BoomerJR</td>\n",
       "      <td>Viruses</td>\n",
       "      <td>Siphoviridae</td>\n",
       "      <td>NaN</td>\n",
       "    </tr>\n",
       "    <tr>\n",
       "      <th>3895</th>\n",
       "      <td>2094134</td>\n",
       "      <td>Portal protein</td>\n",
       "      <td>Gordonia phage Kerry</td>\n",
       "      <td>Viruses</td>\n",
       "      <td>Siphoviridae</td>\n",
       "      <td>NaN</td>\n",
       "    </tr>\n",
       "  </tbody>\n",
       "</table>\n",
       "</div>"
      ],
      "text/plain": [
       "      Species taxonomic ID                                      Protein names  \\\n",
       "5894               2591238  Spike glycoprotein; Spike protein S2; Spike pr...   \n",
       "1144               1105173  Core protein (EC 3.4.21.91) (EC 3.6.1.15) (EC ...   \n",
       "3668               2045361                       Integrase; Tailspike protein   \n",
       "4874               2502449                                     Portal protein   \n",
       "3895               2094134                                     Portal protein   \n",
       "\n",
       "                         Species name Species superkingdom Species family  \\\n",
       "5894  Coronavirus BtRt-BetaCoV/GX2018              Viruses  Coronaviridae   \n",
       "1144           Marisma mosquito virus              Viruses   Flaviviridae   \n",
       "3668      Escherichia phage APC_JM3.2              Viruses    Podoviridae   \n",
       "4874      Streptomyces phage BoomerJR              Viruses   Siphoviridae   \n",
       "3895             Gordonia phage Kerry              Viruses   Siphoviridae   \n",
       "\n",
       "     Virus hosts  \n",
       "5894         NaN  \n",
       "1144         NaN  \n",
       "3668         NaN  \n",
       "4874         NaN  \n",
       "3895         NaN  "
      ]
     },
     "execution_count": 48,
     "metadata": {},
     "output_type": "execute_result"
    }
   ],
   "source": [
    "df.sample(5)"
   ]
  },
  {
   "cell_type": "code",
   "execution_count": 49,
   "metadata": {},
   "outputs": [
    {
     "name": "stdout",
     "output_type": "stream",
     "text": [
      "(7512, 6)\n"
     ]
    },
    {
     "data": {
      "text/html": [
       "<div>\n",
       "<style scoped>\n",
       "    .dataframe tbody tr th:only-of-type {\n",
       "        vertical-align: middle;\n",
       "    }\n",
       "\n",
       "    .dataframe tbody tr th {\n",
       "        vertical-align: top;\n",
       "    }\n",
       "\n",
       "    .dataframe thead th {\n",
       "        text-align: right;\n",
       "    }\n",
       "</style>\n",
       "<table border=\"1\" class=\"dataframe\">\n",
       "  <thead>\n",
       "    <tr style=\"text-align: right;\">\n",
       "      <th></th>\n",
       "      <th>Species taxonomic ID</th>\n",
       "      <th>Protein names</th>\n",
       "      <th>Species name</th>\n",
       "      <th>Species superkingdom</th>\n",
       "      <th>Species family</th>\n",
       "      <th>Virus hosts</th>\n",
       "    </tr>\n",
       "  </thead>\n",
       "  <tbody>\n",
       "    <tr>\n",
       "      <th>3494</th>\n",
       "      <td>2025388</td>\n",
       "      <td>Capsid protein (Coat protein)</td>\n",
       "      <td>Maize striate mosaic virus</td>\n",
       "      <td>Viruses</td>\n",
       "      <td>Geminiviridae</td>\n",
       "      <td>NaN</td>\n",
       "    </tr>\n",
       "    <tr>\n",
       "      <th>1488</th>\n",
       "      <td>1289596</td>\n",
       "      <td>Integrase; Putative phage portal protein</td>\n",
       "      <td>Streptococcus phage phi30c</td>\n",
       "      <td>Viruses</td>\n",
       "      <td>Siphoviridae</td>\n",
       "      <td>NaN</td>\n",
       "    </tr>\n",
       "    <tr>\n",
       "      <th>6525</th>\n",
       "      <td>2697540</td>\n",
       "      <td>Portal protein (gp20); Tail sheath monomer; Pr...</td>\n",
       "      <td>Escherichia phage teqsoen</td>\n",
       "      <td>Viruses</td>\n",
       "      <td>Myoviridae</td>\n",
       "      <td>NaN</td>\n",
       "    </tr>\n",
       "  </tbody>\n",
       "</table>\n",
       "</div>"
      ],
      "text/plain": [
       "      Species taxonomic ID                                      Protein names  \\\n",
       "3494               2025388                      Capsid protein (Coat protein)   \n",
       "1488               1289596           Integrase; Putative phage portal protein   \n",
       "6525               2697540  Portal protein (gp20); Tail sheath monomer; Pr...   \n",
       "\n",
       "                    Species name Species superkingdom Species family  \\\n",
       "3494  Maize striate mosaic virus              Viruses  Geminiviridae   \n",
       "1488  Streptococcus phage phi30c              Viruses   Siphoviridae   \n",
       "6525   Escherichia phage teqsoen              Viruses     Myoviridae   \n",
       "\n",
       "     Virus hosts  \n",
       "3494         NaN  \n",
       "1488         NaN  \n",
       "6525         NaN  "
      ]
     },
     "execution_count": 49,
     "metadata": {},
     "output_type": "execute_result"
    }
   ],
   "source": [
    "print(df[df['Virus hosts'].isnull()].shape)\n",
    "df[df['Virus hosts'].isnull()].sample(3)"
   ]
  },
  {
   "cell_type": "code",
   "execution_count": 50,
   "metadata": {},
   "outputs": [],
   "source": [
    "df['Virus hosts'] = np.where(df['Virus hosts'].isnull(), '', df['Virus hosts'])"
   ]
  },
  {
   "cell_type": "code",
   "execution_count": 51,
   "metadata": {},
   "outputs": [
    {
     "data": {
      "text/html": [
       "<div>\n",
       "<style scoped>\n",
       "    .dataframe tbody tr th:only-of-type {\n",
       "        vertical-align: middle;\n",
       "    }\n",
       "\n",
       "    .dataframe tbody tr th {\n",
       "        vertical-align: top;\n",
       "    }\n",
       "\n",
       "    .dataframe thead th {\n",
       "        text-align: right;\n",
       "    }\n",
       "</style>\n",
       "<table border=\"1\" class=\"dataframe\">\n",
       "  <thead>\n",
       "    <tr style=\"text-align: right;\">\n",
       "      <th></th>\n",
       "      <th>Species taxonomic ID</th>\n",
       "      <th>Protein names</th>\n",
       "      <th>Species name</th>\n",
       "      <th>Species superkingdom</th>\n",
       "      <th>Species family</th>\n",
       "      <th>Virus hosts</th>\n",
       "    </tr>\n",
       "  </thead>\n",
       "  <tbody>\n",
       "    <tr>\n",
       "      <th>4044</th>\n",
       "      <td>2169741</td>\n",
       "      <td>Capsid protein (Coat protein)</td>\n",
       "      <td>Whitefly-associated begomovirus 3</td>\n",
       "      <td>Viruses</td>\n",
       "      <td>Geminiviridae</td>\n",
       "      <td></td>\n",
       "    </tr>\n",
       "    <tr>\n",
       "      <th>6981</th>\n",
       "      <td>2733882</td>\n",
       "      <td>Internal virion protein gp14; Internal virion ...</td>\n",
       "      <td>Salmonella virus Vi06</td>\n",
       "      <td>Viruses</td>\n",
       "      <td>Autographiviridae</td>\n",
       "      <td></td>\n",
       "    </tr>\n",
       "    <tr>\n",
       "      <th>2110</th>\n",
       "      <td>1701260</td>\n",
       "      <td>Portal protein</td>\n",
       "      <td>Streptococcus phage phiSC070807</td>\n",
       "      <td>Viruses</td>\n",
       "      <td>Siphoviridae</td>\n",
       "      <td></td>\n",
       "    </tr>\n",
       "  </tbody>\n",
       "</table>\n",
       "</div>"
      ],
      "text/plain": [
       "      Species taxonomic ID                                      Protein names  \\\n",
       "4044               2169741                      Capsid protein (Coat protein)   \n",
       "6981               2733882  Internal virion protein gp14; Internal virion ...   \n",
       "2110               1701260                                     Portal protein   \n",
       "\n",
       "                           Species name Species superkingdom  \\\n",
       "4044  Whitefly-associated begomovirus 3              Viruses   \n",
       "6981              Salmonella virus Vi06              Viruses   \n",
       "2110    Streptococcus phage phiSC070807              Viruses   \n",
       "\n",
       "         Species family Virus hosts  \n",
       "4044      Geminiviridae              \n",
       "6981  Autographiviridae              \n",
       "2110       Siphoviridae              "
      ]
     },
     "execution_count": 51,
     "metadata": {},
     "output_type": "execute_result"
    }
   ],
   "source": [
    "df.sample(3)"
   ]
  },
  {
   "cell_type": "code",
   "execution_count": 52,
   "metadata": {},
   "outputs": [],
   "source": [
    "df = mergeRows(df, 'Species taxonomic ID','Virus hosts') # mergeRows in zoonosis_helper_functions.py"
   ]
  },
  {
   "cell_type": "code",
   "execution_count": 53,
   "metadata": {},
   "outputs": [
    {
     "data": {
      "text/html": [
       "<div>\n",
       "<style scoped>\n",
       "    .dataframe tbody tr th:only-of-type {\n",
       "        vertical-align: middle;\n",
       "    }\n",
       "\n",
       "    .dataframe tbody tr th {\n",
       "        vertical-align: top;\n",
       "    }\n",
       "\n",
       "    .dataframe thead th {\n",
       "        text-align: right;\n",
       "    }\n",
       "</style>\n",
       "<table border=\"1\" class=\"dataframe\">\n",
       "  <thead>\n",
       "    <tr style=\"text-align: right;\">\n",
       "      <th></th>\n",
       "      <th>Species taxonomic ID</th>\n",
       "      <th>Virus hosts</th>\n",
       "      <th>Protein names</th>\n",
       "      <th>Species name</th>\n",
       "      <th>Species superkingdom</th>\n",
       "      <th>Species family</th>\n",
       "    </tr>\n",
       "  </thead>\n",
       "  <tbody>\n",
       "    <tr>\n",
       "      <th>161</th>\n",
       "      <td>11320</td>\n",
       "      <td>; Aves [TaxID: 8782]; Aves [TaxID: 8782]; Sus ...</td>\n",
       "      <td>Nucleoprotein; Hemagglutinin; Nucleoprotein (N...</td>\n",
       "      <td>Influenza A virus</td>\n",
       "      <td>Viruses</td>\n",
       "      <td>Orthomyxoviridae</td>\n",
       "    </tr>\n",
       "  </tbody>\n",
       "</table>\n",
       "</div>"
      ],
      "text/plain": [
       "     Species taxonomic ID                                        Virus hosts  \\\n",
       "161                 11320  ; Aves [TaxID: 8782]; Aves [TaxID: 8782]; Sus ...   \n",
       "\n",
       "                                         Protein names       Species name  \\\n",
       "161  Nucleoprotein; Hemagglutinin; Nucleoprotein (N...  Influenza A virus   \n",
       "\n",
       "    Species superkingdom    Species family  \n",
       "161              Viruses  Orthomyxoviridae  "
      ]
     },
     "execution_count": 53,
     "metadata": {},
     "output_type": "execute_result"
    }
   ],
   "source": [
    "df[(df['Species name'].str.contains('Influenza A virus')) & (df['Virus hosts'] != '')]"
   ]
  },
  {
   "cell_type": "code",
   "execution_count": 54,
   "metadata": {},
   "outputs": [
    {
     "data": {
      "text/html": [
       "<div>\n",
       "<style scoped>\n",
       "    .dataframe tbody tr th:only-of-type {\n",
       "        vertical-align: middle;\n",
       "    }\n",
       "\n",
       "    .dataframe tbody tr th {\n",
       "        vertical-align: top;\n",
       "    }\n",
       "\n",
       "    .dataframe thead th {\n",
       "        text-align: right;\n",
       "    }\n",
       "</style>\n",
       "<table border=\"1\" class=\"dataframe\">\n",
       "  <thead>\n",
       "    <tr style=\"text-align: right;\">\n",
       "      <th></th>\n",
       "      <th>Species taxonomic ID</th>\n",
       "      <th>Virus hosts</th>\n",
       "      <th>Protein names</th>\n",
       "      <th>Species name</th>\n",
       "      <th>Species superkingdom</th>\n",
       "      <th>Species family</th>\n",
       "    </tr>\n",
       "  </thead>\n",
       "  <tbody>\n",
       "    <tr>\n",
       "      <th>4657</th>\n",
       "      <td>2169967</td>\n",
       "      <td></td>\n",
       "      <td>Tail fiber protein; Portal protein B (GpB) (Mi...</td>\n",
       "      <td>Escherichia virus DE3</td>\n",
       "      <td>Viruses</td>\n",
       "      <td>Siphoviridae</td>\n",
       "    </tr>\n",
       "    <tr>\n",
       "      <th>4140</th>\n",
       "      <td>2029659</td>\n",
       "      <td></td>\n",
       "      <td>Putative portal protein</td>\n",
       "      <td>Lactococcus phage 16802</td>\n",
       "      <td>Viruses</td>\n",
       "      <td>Siphoviridae</td>\n",
       "    </tr>\n",
       "    <tr>\n",
       "      <th>1526</th>\n",
       "      <td>1034067</td>\n",
       "      <td></td>\n",
       "      <td>Capsid protein (Coat protein)</td>\n",
       "      <td>Jatropha mosaic India virus</td>\n",
       "      <td>Viruses</td>\n",
       "      <td>Geminiviridae</td>\n",
       "    </tr>\n",
       "  </tbody>\n",
       "</table>\n",
       "</div>"
      ],
      "text/plain": [
       "      Species taxonomic ID Virus hosts  \\\n",
       "4657               2169967               \n",
       "4140               2029659               \n",
       "1526               1034067               \n",
       "\n",
       "                                          Protein names  \\\n",
       "4657  Tail fiber protein; Portal protein B (GpB) (Mi...   \n",
       "4140                            Putative portal protein   \n",
       "1526                      Capsid protein (Coat protein)   \n",
       "\n",
       "                     Species name Species superkingdom Species family  \n",
       "4657        Escherichia virus DE3              Viruses   Siphoviridae  \n",
       "4140      Lactococcus phage 16802              Viruses   Siphoviridae  \n",
       "1526  Jatropha mosaic India virus              Viruses  Geminiviridae  "
      ]
     },
     "execution_count": 54,
     "metadata": {},
     "output_type": "execute_result"
    }
   ],
   "source": [
    "df.sample(3)"
   ]
  },
  {
   "cell_type": "code",
   "execution_count": 55,
   "metadata": {},
   "outputs": [],
   "source": [
    "# Separate dataset for easy tracking of updates\n",
    "dfna = df[df['Virus hosts'] == '']\n",
    "df = df[~(df['Virus hosts'] == '')]"
   ]
  },
  {
   "cell_type": "code",
   "execution_count": 56,
   "metadata": {},
   "outputs": [
    {
     "data": {
      "text/plain": [
       "(7512, 6)"
      ]
     },
     "execution_count": 56,
     "metadata": {},
     "output_type": "execute_result"
    }
   ],
   "source": [
    "dfna.shape"
   ]
  },
  {
   "cell_type": "code",
   "execution_count": 57,
   "metadata": {},
   "outputs": [
    {
     "data": {
      "text/plain": [
       "(601, 6)"
      ]
     },
     "execution_count": 57,
     "metadata": {},
     "output_type": "execute_result"
    }
   ],
   "source": [
    "df.shape"
   ]
  },
  {
   "cell_type": "markdown",
   "metadata": {},
   "source": [
    "## Updating host names from external sources"
   ]
  },
  {
   "cell_type": "code",
   "execution_count": 58,
   "metadata": {},
   "outputs": [
    {
     "data": {
      "text/plain": [
       "(2599675, 3)"
      ]
     },
     "execution_count": 58,
     "metadata": {},
     "output_type": "execute_result"
    }
   ],
   "source": [
    "# Data from NCBI Virus\n",
    "df2 = pd.read_csv('../data/sequences.csv')\n",
    "df2.shape"
   ]
  },
  {
   "cell_type": "code",
   "execution_count": 59,
   "metadata": {},
   "outputs": [
    {
     "data": {
      "text/html": [
       "<div>\n",
       "<style scoped>\n",
       "    .dataframe tbody tr th:only-of-type {\n",
       "        vertical-align: middle;\n",
       "    }\n",
       "\n",
       "    .dataframe tbody tr th {\n",
       "        vertical-align: top;\n",
       "    }\n",
       "\n",
       "    .dataframe thead th {\n",
       "        text-align: right;\n",
       "    }\n",
       "</style>\n",
       "<table border=\"1\" class=\"dataframe\">\n",
       "  <thead>\n",
       "    <tr style=\"text-align: right;\">\n",
       "      <th></th>\n",
       "      <th>Species</th>\n",
       "      <th>Molecule_type</th>\n",
       "      <th>Host</th>\n",
       "    </tr>\n",
       "  </thead>\n",
       "  <tbody>\n",
       "    <tr>\n",
       "      <th>1735656</th>\n",
       "      <td>Human immunodeficiency virus 1</td>\n",
       "      <td>ssRNA-RT</td>\n",
       "      <td>Homo sapiens</td>\n",
       "    </tr>\n",
       "    <tr>\n",
       "      <th>1619550</th>\n",
       "      <td>Influenza A virus</td>\n",
       "      <td>ssRNA(-)</td>\n",
       "      <td>Sus scrofa</td>\n",
       "    </tr>\n",
       "  </tbody>\n",
       "</table>\n",
       "</div>"
      ],
      "text/plain": [
       "                                Species Molecule_type          Host\n",
       "1735656  Human immunodeficiency virus 1      ssRNA-RT  Homo sapiens\n",
       "1619550               Influenza A virus      ssRNA(-)    Sus scrofa"
      ]
     },
     "execution_count": 59,
     "metadata": {},
     "output_type": "execute_result"
    }
   ],
   "source": [
    "df2.sample(2)"
   ]
  },
  {
   "cell_type": "code",
   "execution_count": 60,
   "metadata": {},
   "outputs": [
    {
     "data": {
      "text/plain": [
       "(10956, 3)"
      ]
     },
     "execution_count": 60,
     "metadata": {},
     "output_type": "execute_result"
    }
   ],
   "source": [
    "df2.drop_duplicates(inplace=True)\n",
    "df2.shape"
   ]
  },
  {
   "cell_type": "code",
   "execution_count": 61,
   "metadata": {
    "scrolled": true,
    "tags": []
   },
   "outputs": [
    {
     "data": {
      "application/vnd.jupyter.widget-view+json": {
       "model_id": "8af53fcd28644eba95150a772713ed10",
       "version_major": 2,
       "version_minor": 0
      },
      "text/plain": [
       "Processing:   0%|          | 0/10956 [00:00<?, ?it/s]"
      ]
     },
     "metadata": {},
     "output_type": "display_data"
    },
    {
     "name": "stdout",
     "output_type": "stream",
     "text": [
      "'Ungulate copiparvovirus 5'\n",
      "'Feline pegivirus JP03-2471'\n",
      "'Feline pegivirus JP03-3208'\n",
      "'Mamastrovirus HMU-1'\n",
      "'Hedgehog coronavirus'\n",
      "'Cingulatid gammaherpesvirus 1'\n",
      "'Mammarenavirus AnRB3214'\n",
      "'Bat SARS-like coronavirus Khosta-1'\n",
      "'Bat SARS-like coronavirus Khosta-2'\n",
      "'Ungulate copiparvovirus 5'\n",
      "'Torque teno mustelid virus 2'\n",
      "'Feline stool-associated circular virus'\n",
      "'Jingmen Rhinolophus sinicus hepacivirus 1'\n",
      "'Wenzhou Apodemus agrarius hepacivirus 1'\n",
      "'Longquan Rhinolophus sinicus hepacivirus 1'\n",
      "'Longquan Niviventer niviventer hepacivirus 1'\n",
      "'Longquan Niviventer fulvescens hepacivirus 1'\n",
      "'Wenzhou Suncus murinus hepacivirus 1'\n",
      "'Wufeng Rhinolophus sinicus hepacivirus 1'\n",
      "'Wufeng Niviventer niviventer hepacivirus 1'\n",
      "'Wufeng Niviventer fulvescens hepacivirus 1'\n",
      "'Wenzhou Rattus norvegicus pegivirus 1'\n",
      "'Wenzhou Rattus tanezumi pegivirus 1'\n",
      "'Longquan Rhinolophus pearsonii pegivirus 1'\n",
      "'Longquan Rhinolophus sinicus pegivirus 1'\n",
      "'Longquan Niviventer niviventer pegivirus 1'\n",
      "'Longquan Niviventer fulvescens pegivirus 1'\n",
      "'Wufeng Niviventer niviventer pegivirus 1'\n",
      "'Wufeng Niviventer fulvescens pegivirus 1'\n",
      "'Wenzhou Rattus norvegicus orthohepevirus 1'\n",
      "'Longquan Rhinolophus sinicus orthohepevirus 1'\n",
      "'Wenzhou Pipistrellus abramus orthohepevirus 1'\n",
      "'Wolvfec circovius'\n",
      "'Torque teno equus virus 2'\n",
      "'Martes foina papillomavirus 1'\n",
      "'Torque teno arctocephalus australis virus'\n",
      "'Raccoon dog stool-associated circular virus'\n",
      "'Raccoon dog stool-associated gemycircularvirus 1'\n",
      "'Raccoon dog stool-associated gemycircularvirus 2'\n",
      "'Raccoon dog stool-associated smacovirus 1'\n",
      "'Raccoon dog stool-associated smacovirus 2'\n",
      "'Raccoon dog stool-associated smacovirus 3'\n",
      "'Raccoon dog stool-associated smacovirus 4'\n",
      "'Raccoon dog stool-associated smacovirus 5'\n",
      "'Raccoon dog stool-associated smacovirus 6'\n",
      "'Raccoon dog stool-Circo-like_virus'\n",
      "'Raccoon dog stool-associated hepe-like virus'\n",
      "'Raccoon dog enterovirus'\n",
      "'Raccoon dog astrovirus'\n",
      "'Elaphodus cephalophus bocaparvovirus'\n",
      "'Redondoviridae sp.'\n",
      "'Cosavirus SVH-69/VEN'\n",
      "'Prosimian retrovirus 1'\n",
      "'bat gammaherpesvirus'\n",
      "'bat gammaherpesvirus'\n",
      "'bat gammaherpesvirus'\n",
      "'bat gammaherpesvirus'\n",
      "'bat gammaherpesvirus'\n",
      "'bat betaherpesvirus'\n",
      "'bat betaherpesvirus'\n",
      "'bat betaherpesvirus'\n",
      "'Batu Kawa virus'\n",
      "'Porcine circovirus-like mini agent PCVL258'\n",
      "'Porcine circovirus-like mini agent PCVL264'\n",
      "'Porcine circovirus-like mini agent PCVL258'\n",
      "'Bat picornavirus LMA6'\n",
      "'Bat picornavirus HUA1'\n",
      "'Bat picornavirus CUS8'\n",
      "'Copiparvovirus 101/BR/2018'\n",
      "'Bufavirus Henan38'\n",
      "'Bufavirus Henan44'\n",
      "'Equine hepatitis B virus'\n",
      "'Equine hepatitis B virus'\n",
      "'Pangolin respirovirus'\n",
      "'Bovine enterovirus HB19-1'\n",
      "'Bovine enterovirus GX20-1'\n",
      "'Delphin genomovirus 3'\n",
      "'Delphin virus 2'\n",
      "'Delphin genomovirus 1'\n",
      "'Delphin virus 1'\n",
      "'Delphin genomovirus 2'\n",
      "'Delphin virus 3'\n",
      "'Orca polyomavirus'\n",
      "'Bovine enterovirus JS20-1'\n",
      "'nan'\n",
      "'nan'\n",
      "'nan'\n",
      "'nan'\n"
     ]
    },
    {
     "data": {
      "application/vnd.jupyter.widget-view+json": {
       "model_id": "4482aee5188244c8941e4a40b31dc1f5",
       "version_major": 2,
       "version_minor": 0
      },
      "text/plain": [
       "Processing:   0%|          | 0/10956 [00:00<?, ?it/s]"
      ]
     },
     "metadata": {},
     "output_type": "display_data"
    },
    {
     "name": "stdout",
     "output_type": "stream",
     "text": [
      "'Bolomys lasiurus'\n",
      "'Bolomys lasiurus'\n",
      "'Pipistrellus sp. pipistrellus/pygmaeus AO-2021'\n",
      "'Pipistrellus musciculus'\n",
      "'Funisciurus bayonii'\n",
      "'Rattus sp. r3 YH-2020'\n",
      "'Rattus sp. r3 YH-2020'\n",
      "'Soricidae sp. YH-2020'\n",
      "'Rattus sp. r3 YH-2020'\n",
      "'Rattus sp. r3 YH-2020'\n",
      "'Acomys selousi'\n",
      "'Rhinolophus smithersi'\n",
      "'Alouatta sp.'\n",
      "'Pipistrellys abramus'\n",
      "'Sturnira angeli'\n",
      "'Sturnira angeli'\n",
      "'Hipposideros curtus'\n",
      "'Pipistrellus inexspectatus'\n",
      "'Dobsonia exoleta'\n",
      "'Mops demonstrator'\n",
      "'Pipistrellus musciculus'\n",
      "'Mus sp. TG-2020'\n",
      "'Murinae gen. sp. TG-2020'\n",
      "'Vespadelus baverstocki'\n",
      "'Ozimops sp. DP-2019'\n",
      "'Scoterepens balstoni'\n",
      "'Neoromicia capensis'\n",
      "'Neoromicia capensis'\n",
      "'Mus sp. CL-2019'\n",
      "'Mus sp. CL-2019'\n",
      "'Neoromicia capensis'\n",
      "'Bolomys lasiurus'\n",
      "'Bolomys lasiurus'\n",
      "'Bolomys lasiurus'\n",
      "'Neoromicia capensis'\n",
      "'Neoromicia capensis'\n",
      "'Neoromicia capensis'\n",
      "'Neoromicia capensis'\n",
      "'Bolomys lasiurus'\n",
      "'Pipistrellus inexspectatus'\n",
      "'Chiroptera sp.'\n",
      "'Chaerephon aloysiisabaudiae'\n",
      "'Chiroptera sp.'\n",
      "'Paradoxurus musangus'\n",
      "'Neoromicia capensis'\n",
      "'Natalus lanatus'\n",
      "'Bolomys lasiurus'\n",
      "'Bolomys lasiurus'\n",
      "'Neoromicia capensis'\n",
      "'Neoromicia capensis'\n",
      "'Neoromicia capensis'\n",
      "'Neoromicia capensis'\n",
      "'Neoromicia capensis'\n",
      "'Neoromicia capensis'\n",
      "'Neoromicia capensis'\n",
      "'Neoromicia capensis'\n",
      "'Neoromicia capensis'\n",
      "'Aethomys hindei medicatus'\n",
      "'Sus scrofa ibericus'\n",
      "'Bolomys lasiurus'\n",
      "'Alouatta sp.'\n",
      "'Bolomys lasiurus'\n",
      "'Bolomys lasiurus'\n",
      "'Bolomys lasiurus'\n",
      "'Bolomys lasiurus'\n",
      "'Bolomys lasiurus'\n"
     ]
    }
   ],
   "source": [
    "# Get taxonomic IDs from species names\n",
    "df2['Species ID'], df2['Host ID'] = df2['Species'].progress_apply(getIDfromName), df2['Host'].progress_apply(getIDfromName)"
   ]
  },
  {
   "cell_type": "code",
   "execution_count": 62,
   "metadata": {},
   "outputs": [
    {
     "data": {
      "text/plain": [
       "(10802, 5)"
      ]
     },
     "execution_count": 62,
     "metadata": {},
     "output_type": "execute_result"
    }
   ],
   "source": [
    "df2.dropna(inplace=True)\n",
    "df2['Species ID'], df2['Host ID'] = df2['Species ID'].astype(int), df2['Host ID'].astype(int)\n",
    "df2.shape"
   ]
  },
  {
   "cell_type": "code",
   "execution_count": 63,
   "metadata": {},
   "outputs": [
    {
     "data": {
      "application/vnd.jupyter.widget-view+json": {
       "model_id": "a10b67d275f64f33913d6a8c702d4ad8",
       "version_major": 2,
       "version_minor": 0
      },
      "text/plain": [
       "Processing:   0%|          | 0/10802 [00:00<?, ?it/s]"
      ]
     },
     "metadata": {},
     "output_type": "display_data"
    }
   ],
   "source": [
    "df2['Host name'] = df2.progress_apply(lambda x: nameMerger(x['Host'], x['Host ID']), axis=1)\n",
    "# Remove Host and Host ID columns as they have been merged and are no longer needed\n",
    "df2.drop(['Host', 'Host ID'], axis=1, inplace=True)"
   ]
  },
  {
   "cell_type": "code",
   "execution_count": 64,
   "metadata": {},
   "outputs": [
    {
     "data": {
      "application/vnd.jupyter.widget-view+json": {
       "model_id": "250331ccd85f40ce90aa3d5861c33b89",
       "version_major": 2,
       "version_minor": 0
      },
      "text/plain": [
       "Processing:   0%|          | 0/10802 [00:00<?, ?it/s]"
      ]
     },
     "metadata": {},
     "output_type": "display_data"
    }
   ],
   "source": [
    "df2['Species ID'] = df2['Species ID'].progress_apply(getRankID, rank='species')"
   ]
  },
  {
   "cell_type": "code",
   "execution_count": 65,
   "metadata": {},
   "outputs": [],
   "source": [
    "## Create a copy for later use\n",
    "dfff = df2.copy()"
   ]
  },
  {
   "cell_type": "code",
   "execution_count": 66,
   "metadata": {},
   "outputs": [],
   "source": [
    "# Add host names\n",
    "df_na_hosts = AggregateHosts(df2,'Species ID', 'Host name')\n",
    "dfna = dfna.merge(df_na_hosts, left_on='Species taxonomic ID', right_on='Species ID', how='left')\n",
    "dfna = dfna.drop(['Virus hosts', 'Species ID'], axis=1).rename({'Host name':'Virus hosts'}, axis=1)\n",
    "dfna = UpdateHosts(dfna, df_na_hosts, 'Species taxonomic ID', 'Species ID')\n",
    "df, dfna = UpdateMain(df, dfna)\n",
    "df = mergeRows(df, 'Species taxonomic ID', 'Virus hosts')"
   ]
  },
  {
   "cell_type": "code",
   "execution_count": 67,
   "metadata": {},
   "outputs": [
    {
     "data": {
      "text/plain": [
       "(6476, 6)"
      ]
     },
     "execution_count": 67,
     "metadata": {},
     "output_type": "execute_result"
    }
   ],
   "source": [
    "dfna.shape"
   ]
  },
  {
   "cell_type": "code",
   "execution_count": 68,
   "metadata": {},
   "outputs": [
    {
     "data": {
      "text/plain": [
       "(1637, 6)"
      ]
     },
     "execution_count": 68,
     "metadata": {},
     "output_type": "execute_result"
    }
   ],
   "source": [
    "df.shape"
   ]
  },
  {
   "cell_type": "code",
   "execution_count": 69,
   "metadata": {
    "tags": []
   },
   "outputs": [
    {
     "data": {
      "text/html": [
       "<div>\n",
       "<style scoped>\n",
       "    .dataframe tbody tr th:only-of-type {\n",
       "        vertical-align: middle;\n",
       "    }\n",
       "\n",
       "    .dataframe tbody tr th {\n",
       "        vertical-align: top;\n",
       "    }\n",
       "\n",
       "    .dataframe thead th {\n",
       "        text-align: right;\n",
       "    }\n",
       "</style>\n",
       "<table border=\"1\" class=\"dataframe\">\n",
       "  <thead>\n",
       "    <tr style=\"text-align: right;\">\n",
       "      <th></th>\n",
       "      <th>virus tax id</th>\n",
       "      <th>virus name</th>\n",
       "      <th>virus lineage</th>\n",
       "      <th>refseq id</th>\n",
       "      <th>KEGG GENOME</th>\n",
       "      <th>KEGG DISEASE</th>\n",
       "      <th>DISEASE</th>\n",
       "      <th>host tax id</th>\n",
       "      <th>host name</th>\n",
       "      <th>host lineage</th>\n",
       "      <th>pmid</th>\n",
       "      <th>evidence</th>\n",
       "      <th>sample type</th>\n",
       "      <th>source organism</th>\n",
       "    </tr>\n",
       "  </thead>\n",
       "  <tbody>\n",
       "    <tr>\n",
       "      <th>0</th>\n",
       "      <td>438782</td>\n",
       "      <td>Abaca bunchy top virus</td>\n",
       "      <td>Viruses; Monodnaviria; Shotokuvirae; Cressdnav...</td>\n",
       "      <td>NC_010314, NC_010315, NC_010316, NC_010317, NC...</td>\n",
       "      <td>NaN</td>\n",
       "      <td>NaN</td>\n",
       "      <td>NaN</td>\n",
       "      <td>46838.0</td>\n",
       "      <td>Musa sp.</td>\n",
       "      <td>Eukaryota; Viridiplantae; Streptophyta; Strept...</td>\n",
       "      <td>17978886</td>\n",
       "      <td>Literature, NCBI Virus, RefSeq</td>\n",
       "      <td>NaN</td>\n",
       "      <td>NaN</td>\n",
       "    </tr>\n",
       "    <tr>\n",
       "      <th>1</th>\n",
       "      <td>438782</td>\n",
       "      <td>Abaca bunchy top virus</td>\n",
       "      <td>Viruses; Monodnaviria; Shotokuvirae; Cressdnav...</td>\n",
       "      <td>NC_010314, NC_010315, NC_010316, NC_010317, NC...</td>\n",
       "      <td>NaN</td>\n",
       "      <td>NaN</td>\n",
       "      <td>NaN</td>\n",
       "      <td>214697.0</td>\n",
       "      <td>Musa acuminata AAA Group</td>\n",
       "      <td>Eukaryota; Viridiplantae; Streptophyta; Strept...</td>\n",
       "      <td>17978886</td>\n",
       "      <td>Literature</td>\n",
       "      <td>NaN</td>\n",
       "      <td>NaN</td>\n",
       "    </tr>\n",
       "    <tr>\n",
       "      <th>2</th>\n",
       "      <td>1241371</td>\n",
       "      <td>Abalone herpesvirus Victoria/AUS/2009</td>\n",
       "      <td>Viruses; Duplodnaviria; Heunggongvirae; Peplov...</td>\n",
       "      <td>NC_018874</td>\n",
       "      <td>NaN</td>\n",
       "      <td>NaN</td>\n",
       "      <td>NaN</td>\n",
       "      <td>6451.0</td>\n",
       "      <td>Haliotidae</td>\n",
       "      <td>Eukaryota; Opisthokonta; Metazoa; Eumetazoa; B...</td>\n",
       "      <td>NaN</td>\n",
       "      <td>UniProt</td>\n",
       "      <td>NaN</td>\n",
       "      <td>NaN</td>\n",
       "    </tr>\n",
       "  </tbody>\n",
       "</table>\n",
       "</div>"
      ],
      "text/plain": [
       "   virus tax id                             virus name  \\\n",
       "0        438782                 Abaca bunchy top virus   \n",
       "1        438782                 Abaca bunchy top virus   \n",
       "2       1241371  Abalone herpesvirus Victoria/AUS/2009   \n",
       "\n",
       "                                       virus lineage  \\\n",
       "0  Viruses; Monodnaviria; Shotokuvirae; Cressdnav...   \n",
       "1  Viruses; Monodnaviria; Shotokuvirae; Cressdnav...   \n",
       "2  Viruses; Duplodnaviria; Heunggongvirae; Peplov...   \n",
       "\n",
       "                                           refseq id KEGG GENOME KEGG DISEASE  \\\n",
       "0  NC_010314, NC_010315, NC_010316, NC_010317, NC...         NaN          NaN   \n",
       "1  NC_010314, NC_010315, NC_010316, NC_010317, NC...         NaN          NaN   \n",
       "2                                          NC_018874         NaN          NaN   \n",
       "\n",
       "  DISEASE  host tax id                 host name  \\\n",
       "0     NaN      46838.0                  Musa sp.   \n",
       "1     NaN     214697.0  Musa acuminata AAA Group   \n",
       "2     NaN       6451.0                Haliotidae   \n",
       "\n",
       "                                        host lineage      pmid  \\\n",
       "0  Eukaryota; Viridiplantae; Streptophyta; Strept...  17978886   \n",
       "1  Eukaryota; Viridiplantae; Streptophyta; Strept...  17978886   \n",
       "2  Eukaryota; Opisthokonta; Metazoa; Eumetazoa; B...       NaN   \n",
       "\n",
       "                         evidence sample type  source organism  \n",
       "0  Literature, NCBI Virus, RefSeq         NaN              NaN  \n",
       "1                      Literature         NaN              NaN  \n",
       "2                         UniProt         NaN              NaN  "
      ]
     },
     "execution_count": 69,
     "metadata": {},
     "output_type": "execute_result"
    }
   ],
   "source": [
    "# Data from virus host database\n",
    "df2 = pd.read_table('../data/virushostdb.tsv')\n",
    "df2.head(3)"
   ]
  },
  {
   "cell_type": "code",
   "execution_count": 70,
   "metadata": {},
   "outputs": [
    {
     "name": "stdout",
     "output_type": "stream",
     "text": [
      "(16612, 4)\n"
     ]
    },
    {
     "data": {
      "text/html": [
       "<div>\n",
       "<style scoped>\n",
       "    .dataframe tbody tr th:only-of-type {\n",
       "        vertical-align: middle;\n",
       "    }\n",
       "\n",
       "    .dataframe tbody tr th {\n",
       "        vertical-align: top;\n",
       "    }\n",
       "\n",
       "    .dataframe thead th {\n",
       "        text-align: right;\n",
       "    }\n",
       "</style>\n",
       "<table border=\"1\" class=\"dataframe\">\n",
       "  <thead>\n",
       "    <tr style=\"text-align: right;\">\n",
       "      <th></th>\n",
       "      <th>virus tax id</th>\n",
       "      <th>virus name</th>\n",
       "      <th>host tax id</th>\n",
       "      <th>host name</th>\n",
       "    </tr>\n",
       "  </thead>\n",
       "  <tbody>\n",
       "    <tr>\n",
       "      <th>0</th>\n",
       "      <td>438782</td>\n",
       "      <td>Abaca bunchy top virus</td>\n",
       "      <td>46838.0</td>\n",
       "      <td>Musa sp.</td>\n",
       "    </tr>\n",
       "    <tr>\n",
       "      <th>1</th>\n",
       "      <td>438782</td>\n",
       "      <td>Abaca bunchy top virus</td>\n",
       "      <td>214697.0</td>\n",
       "      <td>Musa acuminata AAA Group</td>\n",
       "    </tr>\n",
       "    <tr>\n",
       "      <th>2</th>\n",
       "      <td>1241371</td>\n",
       "      <td>Abalone herpesvirus Victoria/AUS/2009</td>\n",
       "      <td>6451.0</td>\n",
       "      <td>Haliotidae</td>\n",
       "    </tr>\n",
       "    <tr>\n",
       "      <th>3</th>\n",
       "      <td>1241371</td>\n",
       "      <td>Abalone herpesvirus Victoria/AUS/2009</td>\n",
       "      <td>36100.0</td>\n",
       "      <td>Haliotis rubra</td>\n",
       "    </tr>\n",
       "    <tr>\n",
       "      <th>4</th>\n",
       "      <td>491893</td>\n",
       "      <td>Abalone shriveling syndrome-associated virus</td>\n",
       "      <td>37770.0</td>\n",
       "      <td>Haliotis diversicolor aquatilis</td>\n",
       "    </tr>\n",
       "  </tbody>\n",
       "</table>\n",
       "</div>"
      ],
      "text/plain": [
       "   virus tax id                                    virus name  host tax id  \\\n",
       "0        438782                        Abaca bunchy top virus      46838.0   \n",
       "1        438782                        Abaca bunchy top virus     214697.0   \n",
       "2       1241371         Abalone herpesvirus Victoria/AUS/2009       6451.0   \n",
       "3       1241371         Abalone herpesvirus Victoria/AUS/2009      36100.0   \n",
       "4        491893  Abalone shriveling syndrome-associated virus      37770.0   \n",
       "\n",
       "                         host name  \n",
       "0                         Musa sp.  \n",
       "1         Musa acuminata AAA Group  \n",
       "2                       Haliotidae  \n",
       "3                   Haliotis rubra  \n",
       "4  Haliotis diversicolor aquatilis  "
      ]
     },
     "execution_count": 70,
     "metadata": {},
     "output_type": "execute_result"
    }
   ],
   "source": [
    "df2 = df2[['virus tax id', 'virus name', 'host tax id', 'host name']].copy()\n",
    "df2.drop_duplicates(inplace=True)\n",
    "print(df2.shape)\n",
    "df2.head()"
   ]
  },
  {
   "cell_type": "code",
   "execution_count": 71,
   "metadata": {},
   "outputs": [
    {
     "data": {
      "text/html": [
       "<div>\n",
       "<style scoped>\n",
       "    .dataframe tbody tr th:only-of-type {\n",
       "        vertical-align: middle;\n",
       "    }\n",
       "\n",
       "    .dataframe tbody tr th {\n",
       "        vertical-align: top;\n",
       "    }\n",
       "\n",
       "    .dataframe thead th {\n",
       "        text-align: right;\n",
       "    }\n",
       "</style>\n",
       "<table border=\"1\" class=\"dataframe\">\n",
       "  <thead>\n",
       "    <tr style=\"text-align: right;\">\n",
       "      <th></th>\n",
       "      <th>virus tax id</th>\n",
       "      <th>virus name</th>\n",
       "      <th>host tax id</th>\n",
       "      <th>host name</th>\n",
       "    </tr>\n",
       "  </thead>\n",
       "  <tbody>\n",
       "    <tr>\n",
       "      <th>1236</th>\n",
       "      <td>2662138</td>\n",
       "      <td>Bacteriophage Phobos</td>\n",
       "      <td>NaN</td>\n",
       "      <td>NaN</td>\n",
       "    </tr>\n",
       "    <tr>\n",
       "      <th>3750</th>\n",
       "      <td>1131416</td>\n",
       "      <td>Cucurbit mild mosaic virus</td>\n",
       "      <td>NaN</td>\n",
       "      <td>NaN</td>\n",
       "    </tr>\n",
       "    <tr>\n",
       "      <th>15925</th>\n",
       "      <td>1888308</td>\n",
       "      <td>Wabat virus</td>\n",
       "      <td>NaN</td>\n",
       "      <td>NaN</td>\n",
       "    </tr>\n",
       "  </tbody>\n",
       "</table>\n",
       "</div>"
      ],
      "text/plain": [
       "       virus tax id                  virus name  host tax id host name\n",
       "1236        2662138        Bacteriophage Phobos          NaN       NaN\n",
       "3750        1131416  Cucurbit mild mosaic virus          NaN       NaN\n",
       "15925       1888308                 Wabat virus          NaN       NaN"
      ]
     },
     "execution_count": 71,
     "metadata": {},
     "output_type": "execute_result"
    }
   ],
   "source": [
    "df2[df2['host tax id'].isnull()]"
   ]
  },
  {
   "cell_type": "code",
   "execution_count": 72,
   "metadata": {},
   "outputs": [],
   "source": [
    "df2.dropna(inplace=True)"
   ]
  },
  {
   "cell_type": "code",
   "execution_count": 73,
   "metadata": {},
   "outputs": [
    {
     "data": {
      "text/html": [
       "<div>\n",
       "<style scoped>\n",
       "    .dataframe tbody tr th:only-of-type {\n",
       "        vertical-align: middle;\n",
       "    }\n",
       "\n",
       "    .dataframe tbody tr th {\n",
       "        vertical-align: top;\n",
       "    }\n",
       "\n",
       "    .dataframe thead th {\n",
       "        text-align: right;\n",
       "    }\n",
       "</style>\n",
       "<table border=\"1\" class=\"dataframe\">\n",
       "  <thead>\n",
       "    <tr style=\"text-align: right;\">\n",
       "      <th></th>\n",
       "      <th>virus tax id</th>\n",
       "      <th>virus name</th>\n",
       "      <th>host tax id</th>\n",
       "      <th>host name</th>\n",
       "    </tr>\n",
       "  </thead>\n",
       "  <tbody>\n",
       "    <tr>\n",
       "      <th>0</th>\n",
       "      <td>438782</td>\n",
       "      <td>Abaca bunchy top virus</td>\n",
       "      <td>46838</td>\n",
       "      <td>Musa sp.</td>\n",
       "    </tr>\n",
       "    <tr>\n",
       "      <th>1</th>\n",
       "      <td>438782</td>\n",
       "      <td>Abaca bunchy top virus</td>\n",
       "      <td>214697</td>\n",
       "      <td>Musa acuminata AAA Group</td>\n",
       "    </tr>\n",
       "    <tr>\n",
       "      <th>2</th>\n",
       "      <td>1241371</td>\n",
       "      <td>Abalone herpesvirus Victoria/AUS/2009</td>\n",
       "      <td>6451</td>\n",
       "      <td>Haliotidae</td>\n",
       "    </tr>\n",
       "    <tr>\n",
       "      <th>3</th>\n",
       "      <td>1241371</td>\n",
       "      <td>Abalone herpesvirus Victoria/AUS/2009</td>\n",
       "      <td>36100</td>\n",
       "      <td>Haliotis rubra</td>\n",
       "    </tr>\n",
       "    <tr>\n",
       "      <th>4</th>\n",
       "      <td>491893</td>\n",
       "      <td>Abalone shriveling syndrome-associated virus</td>\n",
       "      <td>37770</td>\n",
       "      <td>Haliotis diversicolor aquatilis</td>\n",
       "    </tr>\n",
       "  </tbody>\n",
       "</table>\n",
       "</div>"
      ],
      "text/plain": [
       "   virus tax id                                    virus name  host tax id  \\\n",
       "0        438782                        Abaca bunchy top virus        46838   \n",
       "1        438782                        Abaca bunchy top virus       214697   \n",
       "2       1241371         Abalone herpesvirus Victoria/AUS/2009         6451   \n",
       "3       1241371         Abalone herpesvirus Victoria/AUS/2009        36100   \n",
       "4        491893  Abalone shriveling syndrome-associated virus        37770   \n",
       "\n",
       "                         host name  \n",
       "0                         Musa sp.  \n",
       "1         Musa acuminata AAA Group  \n",
       "2                       Haliotidae  \n",
       "3                   Haliotis rubra  \n",
       "4  Haliotis diversicolor aquatilis  "
      ]
     },
     "execution_count": 73,
     "metadata": {},
     "output_type": "execute_result"
    }
   ],
   "source": [
    "df2['host tax id'] = df2['host tax id'].astype(int)\n",
    "df2.head()"
   ]
  },
  {
   "cell_type": "code",
   "execution_count": 74,
   "metadata": {},
   "outputs": [
    {
     "data": {
      "application/vnd.jupyter.widget-view+json": {
       "model_id": "f33d62ce30d448218ae92abc70f2e02d",
       "version_major": 2,
       "version_minor": 0
      },
      "text/plain": [
       "Processing:   0%|          | 0/16609 [00:00<?, ?it/s]"
      ]
     },
     "metadata": {},
     "output_type": "display_data"
    }
   ],
   "source": [
    "df2['Species ID'] = df2['virus tax id'].progress_apply(getRankID, rank='species')"
   ]
  },
  {
   "cell_type": "code",
   "execution_count": 75,
   "metadata": {},
   "outputs": [
    {
     "data": {
      "application/vnd.jupyter.widget-view+json": {
       "model_id": "39a60a5ccb4a4a2092f729283418a31b",
       "version_major": 2,
       "version_minor": 0
      },
      "text/plain": [
       "Processing:   0%|          | 0/16609 [00:00<?, ?it/s]"
      ]
     },
     "metadata": {},
     "output_type": "display_data"
    },
    {
     "data": {
      "text/html": [
       "<div>\n",
       "<style scoped>\n",
       "    .dataframe tbody tr th:only-of-type {\n",
       "        vertical-align: middle;\n",
       "    }\n",
       "\n",
       "    .dataframe tbody tr th {\n",
       "        vertical-align: top;\n",
       "    }\n",
       "\n",
       "    .dataframe thead th {\n",
       "        text-align: right;\n",
       "    }\n",
       "</style>\n",
       "<table border=\"1\" class=\"dataframe\">\n",
       "  <thead>\n",
       "    <tr style=\"text-align: right;\">\n",
       "      <th></th>\n",
       "      <th>virus tax id</th>\n",
       "      <th>virus name</th>\n",
       "      <th>Species ID</th>\n",
       "      <th>Host name</th>\n",
       "    </tr>\n",
       "  </thead>\n",
       "  <tbody>\n",
       "    <tr>\n",
       "      <th>0</th>\n",
       "      <td>438782</td>\n",
       "      <td>Abaca bunchy top virus</td>\n",
       "      <td>438782</td>\n",
       "      <td>Musa sp. [TaxID: 46838]</td>\n",
       "    </tr>\n",
       "    <tr>\n",
       "      <th>1</th>\n",
       "      <td>438782</td>\n",
       "      <td>Abaca bunchy top virus</td>\n",
       "      <td>438782</td>\n",
       "      <td>Musa acuminata AAA Group [TaxID: 214697]</td>\n",
       "    </tr>\n",
       "    <tr>\n",
       "      <th>2</th>\n",
       "      <td>1241371</td>\n",
       "      <td>Abalone herpesvirus Victoria/AUS/2009</td>\n",
       "      <td>1513231</td>\n",
       "      <td>Haliotidae [TaxID: 6451]</td>\n",
       "    </tr>\n",
       "    <tr>\n",
       "      <th>3</th>\n",
       "      <td>1241371</td>\n",
       "      <td>Abalone herpesvirus Victoria/AUS/2009</td>\n",
       "      <td>1513231</td>\n",
       "      <td>Haliotis rubra [TaxID: 36100]</td>\n",
       "    </tr>\n",
       "    <tr>\n",
       "      <th>4</th>\n",
       "      <td>491893</td>\n",
       "      <td>Abalone shriveling syndrome-associated virus</td>\n",
       "      <td>491893</td>\n",
       "      <td>Haliotis diversicolor aquatilis [TaxID: 37770]</td>\n",
       "    </tr>\n",
       "  </tbody>\n",
       "</table>\n",
       "</div>"
      ],
      "text/plain": [
       "   virus tax id                                    virus name  Species ID  \\\n",
       "0        438782                        Abaca bunchy top virus      438782   \n",
       "1        438782                        Abaca bunchy top virus      438782   \n",
       "2       1241371         Abalone herpesvirus Victoria/AUS/2009     1513231   \n",
       "3       1241371         Abalone herpesvirus Victoria/AUS/2009     1513231   \n",
       "4        491893  Abalone shriveling syndrome-associated virus      491893   \n",
       "\n",
       "                                        Host name  \n",
       "0                         Musa sp. [TaxID: 46838]  \n",
       "1        Musa acuminata AAA Group [TaxID: 214697]  \n",
       "2                        Haliotidae [TaxID: 6451]  \n",
       "3                   Haliotis rubra [TaxID: 36100]  \n",
       "4  Haliotis diversicolor aquatilis [TaxID: 37770]  "
      ]
     },
     "execution_count": 75,
     "metadata": {},
     "output_type": "execute_result"
    }
   ],
   "source": [
    "df2['Host name'] = df2.progress_apply(lambda x: nameMerger(x['host name'], x['host tax id']), axis=1)\n",
    "# Remove Host and Host ID columns as they have been merged and are no longer needed\n",
    "df2.drop(['host name', 'host tax id'], axis=1, inplace=True)\n",
    "df2.head()"
   ]
  },
  {
   "cell_type": "code",
   "execution_count": 76,
   "metadata": {},
   "outputs": [],
   "source": [
    "df_na_hosts = AggregateHosts(df2,'Species ID', 'Host name')\n",
    "dfna = dfna.merge(df_na_hosts, left_on='Species taxonomic ID', right_on='Species ID', how='left')\n",
    "dfna = dfna.drop(['Virus hosts', 'Species ID'], axis=1).rename({'Host name':'Virus hosts'}, axis=1)\n",
    "dfna = UpdateHosts(dfna, df_na_hosts, 'Species taxonomic ID', 'Species ID')\n",
    "df, dfna = UpdateMain(df, dfna)\n",
    "df = mergeRows(df, 'Species taxonomic ID', 'Virus hosts')"
   ]
  },
  {
   "cell_type": "code",
   "execution_count": 77,
   "metadata": {},
   "outputs": [
    {
     "data": {
      "text/plain": [
       "(4760, 6)"
      ]
     },
     "execution_count": 77,
     "metadata": {},
     "output_type": "execute_result"
    }
   ],
   "source": [
    "df.shape"
   ]
  },
  {
   "cell_type": "code",
   "execution_count": 78,
   "metadata": {},
   "outputs": [
    {
     "data": {
      "text/plain": [
       "(3353, 6)"
      ]
     },
     "execution_count": 78,
     "metadata": {},
     "output_type": "execute_result"
    }
   ],
   "source": [
    "dfna.shape"
   ]
  },
  {
   "cell_type": "code",
   "execution_count": 79,
   "metadata": {},
   "outputs": [
    {
     "data": {
      "text/html": [
       "<div>\n",
       "<style scoped>\n",
       "    .dataframe tbody tr th:only-of-type {\n",
       "        vertical-align: middle;\n",
       "    }\n",
       "\n",
       "    .dataframe tbody tr th {\n",
       "        vertical-align: top;\n",
       "    }\n",
       "\n",
       "    .dataframe thead th {\n",
       "        text-align: right;\n",
       "    }\n",
       "</style>\n",
       "<table border=\"1\" class=\"dataframe\">\n",
       "  <thead>\n",
       "    <tr style=\"text-align: right;\">\n",
       "      <th></th>\n",
       "      <th>Host_name</th>\n",
       "      <th>Host_TaxId</th>\n",
       "      <th>Host Group</th>\n",
       "      <th>Virus_name</th>\n",
       "      <th>Virus_TaxId</th>\n",
       "      <th>Micobe_group</th>\n",
       "      <th>Host_common_name</th>\n",
       "      <th>Host_common_name_rev</th>\n",
       "    </tr>\n",
       "  </thead>\n",
       "  <tbody>\n",
       "    <tr>\n",
       "      <th>34826</th>\n",
       "      <td>homo sapiens</td>\n",
       "      <td>9606</td>\n",
       "      <td>primates</td>\n",
       "      <td>influenza a virus (a/yamanashi/1/2004(h3n2))</td>\n",
       "      <td>515116</td>\n",
       "      <td>viruses</td>\n",
       "      <td>Human</td>\n",
       "      <td>Human</td>\n",
       "    </tr>\n",
       "    <tr>\n",
       "      <th>4029</th>\n",
       "      <td>sus scrofa</td>\n",
       "      <td>9823</td>\n",
       "      <td>mammals</td>\n",
       "      <td>influenza a virus (a/swine/tennessee/49/1977(h...</td>\n",
       "      <td>437351</td>\n",
       "      <td>viruses</td>\n",
       "      <td>Wild boar</td>\n",
       "      <td>Pig</td>\n",
       "    </tr>\n",
       "  </tbody>\n",
       "</table>\n",
       "</div>"
      ],
      "text/plain": [
       "          Host_name  Host_TaxId Host Group  \\\n",
       "34826  homo sapiens        9606   primates   \n",
       "4029     sus scrofa        9823    mammals   \n",
       "\n",
       "                                              Virus_name  Virus_TaxId  \\\n",
       "34826       influenza a virus (a/yamanashi/1/2004(h3n2))       515116   \n",
       "4029   influenza a virus (a/swine/tennessee/49/1977(h...       437351   \n",
       "\n",
       "      Micobe_group Host_common_name Host_common_name_rev  \n",
       "34826      viruses            Human                Human  \n",
       "4029       viruses        Wild boar                  Pig  "
      ]
     },
     "execution_count": 79,
     "metadata": {},
     "output_type": "execute_result"
    }
   ],
   "source": [
    "# Data from EID2 (Liverpool University)\n",
    "df2 = pd.read_csv('../data/virus_host_4rm_untitled.csv')\n",
    "df2.sample(2)"
   ]
  },
  {
   "cell_type": "code",
   "execution_count": 80,
   "metadata": {},
   "outputs": [
    {
     "data": {
      "application/vnd.jupyter.widget-view+json": {
       "model_id": "fb2f1f122bb847f9b1ea012bf02baa84",
       "version_major": 2,
       "version_minor": 0
      },
      "text/plain": [
       "Processing:   0%|          | 0/59859 [00:00<?, ?it/s]"
      ]
     },
     "metadata": {},
     "output_type": "display_data"
    },
    {
     "name": "stdout",
     "output_type": "stream",
     "text": [
      "878474 taxid not found\n",
      "555869 taxid not found\n",
      "555869 taxid not found\n",
      "555869 taxid not found\n",
      "555869 taxid not found\n",
      "555869 taxid not found\n",
      "555869 taxid not found\n",
      "555869 taxid not found\n",
      "555869 taxid not found\n",
      "555869 taxid not found\n",
      "555869 taxid not found\n",
      "555869 taxid not found\n",
      "555869 taxid not found\n",
      "555869 taxid not found\n",
      "555869 taxid not found\n"
     ]
    },
    {
     "data": {
      "application/vnd.jupyter.widget-view+json": {
       "model_id": "c4a9b1828a274a0d9ca8b3c943b1fe4d",
       "version_major": 2,
       "version_minor": 0
      },
      "text/plain": [
       "Processing:   0%|          | 0/59859 [00:00<?, ?it/s]"
      ]
     },
     "metadata": {},
     "output_type": "display_data"
    },
    {
     "data": {
      "text/html": [
       "<div>\n",
       "<style scoped>\n",
       "    .dataframe tbody tr th:only-of-type {\n",
       "        vertical-align: middle;\n",
       "    }\n",
       "\n",
       "    .dataframe tbody tr th {\n",
       "        vertical-align: top;\n",
       "    }\n",
       "\n",
       "    .dataframe thead th {\n",
       "        text-align: right;\n",
       "    }\n",
       "</style>\n",
       "<table border=\"1\" class=\"dataframe\">\n",
       "  <thead>\n",
       "    <tr style=\"text-align: right;\">\n",
       "      <th></th>\n",
       "      <th>Virus_name</th>\n",
       "      <th>Virus_TaxId</th>\n",
       "      <th>Species ID</th>\n",
       "      <th>Host name</th>\n",
       "    </tr>\n",
       "  </thead>\n",
       "  <tbody>\n",
       "    <tr>\n",
       "      <th>33639</th>\n",
       "      <td>norovirus hu/p7-3/2001/swe</td>\n",
       "      <td>534580</td>\n",
       "      <td>11983.0</td>\n",
       "      <td>homo sapiens [TaxID: 9606]</td>\n",
       "    </tr>\n",
       "    <tr>\n",
       "      <th>38905</th>\n",
       "      <td>influenza a virus (a/germany/af1011/2007(h3n2))</td>\n",
       "      <td>452873</td>\n",
       "      <td>11320.0</td>\n",
       "      <td>homo sapiens [TaxID: 9606]</td>\n",
       "    </tr>\n",
       "  </tbody>\n",
       "</table>\n",
       "</div>"
      ],
      "text/plain": [
       "                                            Virus_name  Virus_TaxId  \\\n",
       "33639                       norovirus hu/p7-3/2001/swe       534580   \n",
       "38905  influenza a virus (a/germany/af1011/2007(h3n2))       452873   \n",
       "\n",
       "       Species ID                   Host name  \n",
       "33639     11983.0  homo sapiens [TaxID: 9606]  \n",
       "38905     11320.0  homo sapiens [TaxID: 9606]  "
      ]
     },
     "execution_count": 80,
     "metadata": {},
     "output_type": "execute_result"
    }
   ],
   "source": [
    "df2 = df2[['Host_name', 'Host_TaxId', 'Virus_name', 'Virus_TaxId']].copy()\n",
    "df2['Species ID'] = df2['Virus_TaxId'].progress_apply(getRankID, rank='species')\n",
    "df2['Host name'] = df2.progress_apply(lambda x: nameMerger(x['Host_name'], x['Host_TaxId']), axis=1)\n",
    "df2.drop(['Host_name', 'Host_TaxId'], axis=1, inplace=True)\n",
    "df2.dropna(inplace=True)\n",
    "df2.sample(2)"
   ]
  },
  {
   "cell_type": "code",
   "execution_count": 81,
   "metadata": {},
   "outputs": [],
   "source": [
    "df_na_hosts = AggregateHosts(df2,'Species ID', 'Host name')\n",
    "dfna = dfna.merge(df_na_hosts, left_on='Species taxonomic ID', right_on='Species ID', how='left')\n",
    "dfna = dfna.drop(['Virus hosts', 'Species ID'], axis=1).rename({'Host name':'Virus hosts'}, axis=1)\n",
    "dfna = UpdateHosts(dfna, df_na_hosts, 'Species taxonomic ID', 'Species ID')\n",
    "df, dfna = UpdateMain(df, dfna)\n",
    "df = mergeRows(df, 'Species taxonomic ID', 'Virus hosts')"
   ]
  },
  {
   "cell_type": "code",
   "execution_count": 82,
   "metadata": {},
   "outputs": [
    {
     "data": {
      "text/plain": [
       "(4766, 6)"
      ]
     },
     "execution_count": 82,
     "metadata": {},
     "output_type": "execute_result"
    }
   ],
   "source": [
    "df.shape"
   ]
  },
  {
   "cell_type": "code",
   "execution_count": 83,
   "metadata": {},
   "outputs": [
    {
     "data": {
      "text/plain": [
       "(3347, 6)"
      ]
     },
     "execution_count": 83,
     "metadata": {},
     "output_type": "execute_result"
    }
   ],
   "source": [
    "dfna.shape"
   ]
  },
  {
   "cell_type": "code",
   "execution_count": 84,
   "metadata": {},
   "outputs": [
    {
     "data": {
      "text/html": [
       "<div>\n",
       "<style scoped>\n",
       "    .dataframe tbody tr th:only-of-type {\n",
       "        vertical-align: middle;\n",
       "    }\n",
       "\n",
       "    .dataframe tbody tr th {\n",
       "        vertical-align: top;\n",
       "    }\n",
       "\n",
       "    .dataframe thead th {\n",
       "        text-align: right;\n",
       "    }\n",
       "</style>\n",
       "<table border=\"1\" class=\"dataframe\">\n",
       "  <thead>\n",
       "    <tr style=\"text-align: right;\">\n",
       "      <th></th>\n",
       "      <th>Species taxonomic ID</th>\n",
       "      <th>Protein names</th>\n",
       "      <th>Species name</th>\n",
       "      <th>Species superkingdom</th>\n",
       "      <th>Species family</th>\n",
       "      <th>Virus hosts</th>\n",
       "    </tr>\n",
       "  </thead>\n",
       "  <tbody>\n",
       "    <tr>\n",
       "      <th>1622</th>\n",
       "      <td>2479933</td>\n",
       "      <td>Portal protein (gp20); Tail sheath protein</td>\n",
       "      <td>Escherichia phage p000v</td>\n",
       "      <td>Viruses</td>\n",
       "      <td>Myoviridae</td>\n",
       "      <td>NaN</td>\n",
       "    </tr>\n",
       "    <tr>\n",
       "      <th>859</th>\n",
       "      <td>2015841</td>\n",
       "      <td>Integrase</td>\n",
       "      <td>Mycobacterium phage Appletree2</td>\n",
       "      <td>Viruses</td>\n",
       "      <td>Siphoviridae</td>\n",
       "      <td>NaN</td>\n",
       "    </tr>\n",
       "  </tbody>\n",
       "</table>\n",
       "</div>"
      ],
      "text/plain": [
       "      Species taxonomic ID                               Protein names  \\\n",
       "1622               2479933  Portal protein (gp20); Tail sheath protein   \n",
       "859                2015841                                   Integrase   \n",
       "\n",
       "                        Species name Species superkingdom Species family  \\\n",
       "1622         Escherichia phage p000v              Viruses     Myoviridae   \n",
       "859   Mycobacterium phage Appletree2              Viruses   Siphoviridae   \n",
       "\n",
       "     Virus hosts  \n",
       "1622         NaN  \n",
       "859          NaN  "
      ]
     },
     "execution_count": 84,
     "metadata": {},
     "output_type": "execute_result"
    }
   ],
   "source": [
    "dfna.sample(2)"
   ]
  },
  {
   "cell_type": "markdown",
   "metadata": {},
   "source": [
    "## Further Processing"
   ]
  },
  {
   "cell_type": "code",
   "execution_count": 85,
   "metadata": {},
   "outputs": [],
   "source": [
    "# Add column to discriminate viruses which contain human hosts from those which do not\n",
    "df['Infects human'] = np.where(df['Virus hosts'].str.contains(r'960[56]'), 'human-true','human-false')"
   ]
  },
  {
   "cell_type": "code",
   "execution_count": 86,
   "metadata": {},
   "outputs": [
    {
     "data": {
      "text/html": [
       "<div>\n",
       "<style scoped>\n",
       "    .dataframe tbody tr th:only-of-type {\n",
       "        vertical-align: middle;\n",
       "    }\n",
       "\n",
       "    .dataframe tbody tr th {\n",
       "        vertical-align: top;\n",
       "    }\n",
       "\n",
       "    .dataframe thead th {\n",
       "        text-align: right;\n",
       "    }\n",
       "</style>\n",
       "<table border=\"1\" class=\"dataframe\">\n",
       "  <thead>\n",
       "    <tr style=\"text-align: right;\">\n",
       "      <th></th>\n",
       "      <th>Species taxonomic ID</th>\n",
       "      <th>Virus hosts</th>\n",
       "      <th>Protein names</th>\n",
       "      <th>Species name</th>\n",
       "      <th>Species superkingdom</th>\n",
       "      <th>Species family</th>\n",
       "      <th>Infects human</th>\n",
       "    </tr>\n",
       "  </thead>\n",
       "  <tbody>\n",
       "    <tr>\n",
       "      <th>1427</th>\n",
       "      <td>1093958</td>\n",
       "      <td>Sida rhombifolia [TaxID: 108377]</td>\n",
       "      <td>Capsid protein (Coat protein)</td>\n",
       "      <td>Sida yellow mottle virus</td>\n",
       "      <td>Viruses</td>\n",
       "      <td>Geminiviridae</td>\n",
       "      <td>human-false</td>\n",
       "    </tr>\n",
       "    <tr>\n",
       "      <th>2555</th>\n",
       "      <td>1914162</td>\n",
       "      <td>Shigella flexneri [TaxID: 623]</td>\n",
       "      <td>Portal protein (gp20); Protein Gp38 (Receptor-...</td>\n",
       "      <td>Shigella virus UTAM</td>\n",
       "      <td>Viruses</td>\n",
       "      <td>Myoviridae</td>\n",
       "      <td>human-false</td>\n",
       "    </tr>\n",
       "  </tbody>\n",
       "</table>\n",
       "</div>"
      ],
      "text/plain": [
       "      Species taxonomic ID                       Virus hosts  \\\n",
       "1427               1093958  Sida rhombifolia [TaxID: 108377]   \n",
       "2555               1914162    Shigella flexneri [TaxID: 623]   \n",
       "\n",
       "                                          Protein names  \\\n",
       "1427                      Capsid protein (Coat protein)   \n",
       "2555  Portal protein (gp20); Protein Gp38 (Receptor-...   \n",
       "\n",
       "                  Species name Species superkingdom Species family  \\\n",
       "1427  Sida yellow mottle virus              Viruses  Geminiviridae   \n",
       "2555       Shigella virus UTAM              Viruses     Myoviridae   \n",
       "\n",
       "     Infects human  \n",
       "1427   human-false  \n",
       "2555   human-false  "
      ]
     },
     "execution_count": 86,
     "metadata": {},
     "output_type": "execute_result"
    }
   ],
   "source": [
    "df.sample(2)"
   ]
  },
  {
   "cell_type": "code",
   "execution_count": 87,
   "metadata": {},
   "outputs": [
    {
     "data": {
      "application/vnd.jupyter.widget-view+json": {
       "model_id": "cd15152fd5a740cdab5781fd9caad1e0",
       "version_major": 2,
       "version_minor": 0
      },
      "text/plain": [
       "Processing:   0%|          | 0/4766 [00:00<?, ?it/s]"
      ]
     },
     "metadata": {},
     "output_type": "display_data"
    },
    {
     "data": {
      "application/vnd.jupyter.widget-view+json": {
       "model_id": "da853ec312684732a3ab1d96325b31a1",
       "version_major": 2,
       "version_minor": 0
      },
      "text/plain": [
       "Processing:   0%|          | 0/4766 [00:00<?, ?it/s]"
      ]
     },
     "metadata": {},
     "output_type": "display_data"
    }
   ],
   "source": [
    "df['Virus hosts'] = df['Virus hosts'].str.split('; ')\n",
    "df['Virus hosts'] = df.progress_apply(lambda x: list(filter(None, x['Virus hosts'])), axis=1)\n",
    "df['Virus hosts'] = df['Virus hosts'].progress_apply('; '.join)"
   ]
  },
  {
   "cell_type": "code",
   "execution_count": 88,
   "metadata": {},
   "outputs": [
    {
     "data": {
      "text/html": [
       "<div>\n",
       "<style scoped>\n",
       "    .dataframe tbody tr th:only-of-type {\n",
       "        vertical-align: middle;\n",
       "    }\n",
       "\n",
       "    .dataframe tbody tr th {\n",
       "        vertical-align: top;\n",
       "    }\n",
       "\n",
       "    .dataframe thead th {\n",
       "        text-align: right;\n",
       "    }\n",
       "</style>\n",
       "<table border=\"1\" class=\"dataframe\">\n",
       "  <thead>\n",
       "    <tr style=\"text-align: right;\">\n",
       "      <th></th>\n",
       "      <th>Species taxonomic ID</th>\n",
       "      <th>Virus hosts</th>\n",
       "      <th>Protein names</th>\n",
       "      <th>Species name</th>\n",
       "      <th>Species superkingdom</th>\n",
       "      <th>Species family</th>\n",
       "      <th>Infects human</th>\n",
       "    </tr>\n",
       "  </thead>\n",
       "  <tbody>\n",
       "    <tr>\n",
       "      <th>973</th>\n",
       "      <td>439427</td>\n",
       "      <td>Solanum lycopersicum [TaxID: 4081]</td>\n",
       "      <td>Capsid protein (Coat protein)</td>\n",
       "      <td>Tomato leaf curl Toliara virus</td>\n",
       "      <td>Viruses</td>\n",
       "      <td>Geminiviridae</td>\n",
       "      <td>human-false</td>\n",
       "    </tr>\n",
       "    <tr>\n",
       "      <th>1091</th>\n",
       "      <td>588068</td>\n",
       "      <td>Vibrio cholerae [TaxID: 666]</td>\n",
       "      <td>Portal protein (Head-to-tail connector)</td>\n",
       "      <td>Vibrio phage VP3</td>\n",
       "      <td>Viruses</td>\n",
       "      <td>Autographiviridae</td>\n",
       "      <td>human-false</td>\n",
       "    </tr>\n",
       "    <tr>\n",
       "      <th>4375</th>\n",
       "      <td>2733602</td>\n",
       "      <td>Klebsiella pneumoniae [TaxID: 573]</td>\n",
       "      <td>Head-tail connector protein</td>\n",
       "      <td>Klebsiella virus KpS2</td>\n",
       "      <td>Viruses</td>\n",
       "      <td>Autographiviridae</td>\n",
       "      <td>human-false</td>\n",
       "    </tr>\n",
       "    <tr>\n",
       "      <th>1145</th>\n",
       "      <td>665887</td>\n",
       "      <td>Lactococcus lactis [TaxID: 1358]</td>\n",
       "      <td>Putative receptor binding protein; Putative po...</td>\n",
       "      <td>Lactococcus virus CB20</td>\n",
       "      <td>Viruses</td>\n",
       "      <td>Siphoviridae</td>\n",
       "      <td>human-false</td>\n",
       "    </tr>\n",
       "  </tbody>\n",
       "</table>\n",
       "</div>"
      ],
      "text/plain": [
       "      Species taxonomic ID                         Virus hosts  \\\n",
       "973                 439427  Solanum lycopersicum [TaxID: 4081]   \n",
       "1091                588068        Vibrio cholerae [TaxID: 666]   \n",
       "4375               2733602  Klebsiella pneumoniae [TaxID: 573]   \n",
       "1145                665887    Lactococcus lactis [TaxID: 1358]   \n",
       "\n",
       "                                          Protein names  \\\n",
       "973                       Capsid protein (Coat protein)   \n",
       "1091            Portal protein (Head-to-tail connector)   \n",
       "4375                        Head-tail connector protein   \n",
       "1145  Putative receptor binding protein; Putative po...   \n",
       "\n",
       "                        Species name Species superkingdom     Species family  \\\n",
       "973   Tomato leaf curl Toliara virus              Viruses      Geminiviridae   \n",
       "1091                Vibrio phage VP3              Viruses  Autographiviridae   \n",
       "4375           Klebsiella virus KpS2              Viruses  Autographiviridae   \n",
       "1145          Lactococcus virus CB20              Viruses       Siphoviridae   \n",
       "\n",
       "     Infects human  \n",
       "973    human-false  \n",
       "1091   human-false  \n",
       "4375   human-false  \n",
       "1145   human-false  "
      ]
     },
     "execution_count": 88,
     "metadata": {},
     "output_type": "execute_result"
    }
   ],
   "source": [
    "df.sample(4)"
   ]
  },
  {
   "cell_type": "code",
   "execution_count": 89,
   "metadata": {},
   "outputs": [
    {
     "data": {
      "text/html": [
       "<div>\n",
       "<style scoped>\n",
       "    .dataframe tbody tr th:only-of-type {\n",
       "        vertical-align: middle;\n",
       "    }\n",
       "\n",
       "    .dataframe tbody tr th {\n",
       "        vertical-align: top;\n",
       "    }\n",
       "\n",
       "    .dataframe thead th {\n",
       "        text-align: right;\n",
       "    }\n",
       "</style>\n",
       "<table border=\"1\" class=\"dataframe\">\n",
       "  <thead>\n",
       "    <tr style=\"text-align: right;\">\n",
       "      <th></th>\n",
       "      <th>Species taxonomic ID</th>\n",
       "      <th>Virus hosts</th>\n",
       "      <th>Protein names</th>\n",
       "      <th>Species name</th>\n",
       "      <th>Species superkingdom</th>\n",
       "      <th>Species family</th>\n",
       "      <th>Infects human</th>\n",
       "    </tr>\n",
       "  </thead>\n",
       "  <tbody>\n",
       "    <tr>\n",
       "      <th>130</th>\n",
       "      <td>11041</td>\n",
       "      <td>Homo sapiens (Human) [TaxID: 9606]</td>\n",
       "      <td>Structural polyprotein (p110) [Cleaved into: C...</td>\n",
       "      <td>Rubella virus</td>\n",
       "      <td>Viruses</td>\n",
       "      <td>Matonaviridae</td>\n",
       "      <td>human-true</td>\n",
       "    </tr>\n",
       "    <tr>\n",
       "      <th>1193</th>\n",
       "      <td>694448</td>\n",
       "      <td>Homo sapiens [TaxID: 9606]</td>\n",
       "      <td>Spike glycprotein</td>\n",
       "      <td>unidentified human coronavirus</td>\n",
       "      <td>Viruses</td>\n",
       "      <td>Coronaviridae</td>\n",
       "      <td>human-true</td>\n",
       "    </tr>\n",
       "    <tr>\n",
       "      <th>2020</th>\n",
       "      <td>1513258</td>\n",
       "      <td>Homo sapiens [TaxID: 9606]; Tscherskia triton ...</td>\n",
       "      <td>Minor capsid protein L2; Major capsid protein L1</td>\n",
       "      <td>Gammapapillomavirus 13</td>\n",
       "      <td>Viruses</td>\n",
       "      <td>Papillomaviridae</td>\n",
       "      <td>human-true</td>\n",
       "    </tr>\n",
       "    <tr>\n",
       "      <th>531</th>\n",
       "      <td>138950</td>\n",
       "      <td>Homo sapiens (Human) [TaxID: 9606]</td>\n",
       "      <td>Protein 3CD (EC 3.4.22.28); Protein 3A (P3A); ...</td>\n",
       "      <td>Enterovirus C</td>\n",
       "      <td>Viruses</td>\n",
       "      <td>Picornaviridae</td>\n",
       "      <td>human-true</td>\n",
       "    </tr>\n",
       "  </tbody>\n",
       "</table>\n",
       "</div>"
      ],
      "text/plain": [
       "      Species taxonomic ID                                        Virus hosts  \\\n",
       "130                  11041                 Homo sapiens (Human) [TaxID: 9606]   \n",
       "1193                694448                         Homo sapiens [TaxID: 9606]   \n",
       "2020               1513258  Homo sapiens [TaxID: 9606]; Tscherskia triton ...   \n",
       "531                 138950                 Homo sapiens (Human) [TaxID: 9606]   \n",
       "\n",
       "                                          Protein names  \\\n",
       "130   Structural polyprotein (p110) [Cleaved into: C...   \n",
       "1193                                  Spike glycprotein   \n",
       "2020   Minor capsid protein L2; Major capsid protein L1   \n",
       "531   Protein 3CD (EC 3.4.22.28); Protein 3A (P3A); ...   \n",
       "\n",
       "                        Species name Species superkingdom    Species family  \\\n",
       "130                    Rubella virus              Viruses     Matonaviridae   \n",
       "1193  unidentified human coronavirus              Viruses     Coronaviridae   \n",
       "2020          Gammapapillomavirus 13              Viruses  Papillomaviridae   \n",
       "531                    Enterovirus C              Viruses    Picornaviridae   \n",
       "\n",
       "     Infects human  \n",
       "130     human-true  \n",
       "1193    human-true  \n",
       "2020    human-true  \n",
       "531     human-true  "
      ]
     },
     "execution_count": 89,
     "metadata": {},
     "output_type": "execute_result"
    }
   ],
   "source": [
    "df[df['Infects human'] == 'human-true'].sample(4)"
   ]
  },
  {
   "cell_type": "markdown",
   "metadata": {},
   "source": [
    "<a id=\"host-name-consistency\"></a>"
   ]
  },
  {
   "cell_type": "code",
   "execution_count": 90,
   "metadata": {},
   "outputs": [],
   "source": [
    "# Ungrouping operation based on host\n",
    "# 1. Splits Virus host using based on ; separator\n",
    "# 2. Horizontally stack the data based on virus hosts\n",
    "df = (df.set_index(df.columns.drop('Virus hosts', 1).tolist())['Virus hosts'].str.split(';', expand=True)\n",
    "          .stack()\n",
    "          .reset_index()\n",
    "          .rename(columns={0:'Virus hosts'})\n",
    "          .loc[:, df.columns]\n",
    "         ).copy()"
   ]
  },
  {
   "cell_type": "code",
   "execution_count": 91,
   "metadata": {},
   "outputs": [
    {
     "data": {
      "text/plain": [
       "(7270, 7)"
      ]
     },
     "execution_count": 91,
     "metadata": {},
     "output_type": "execute_result"
    }
   ],
   "source": [
    "df.shape"
   ]
  },
  {
   "cell_type": "code",
   "execution_count": 92,
   "metadata": {},
   "outputs": [
    {
     "data": {
      "text/html": [
       "<div>\n",
       "<style scoped>\n",
       "    .dataframe tbody tr th:only-of-type {\n",
       "        vertical-align: middle;\n",
       "    }\n",
       "\n",
       "    .dataframe tbody tr th {\n",
       "        vertical-align: top;\n",
       "    }\n",
       "\n",
       "    .dataframe thead th {\n",
       "        text-align: right;\n",
       "    }\n",
       "</style>\n",
       "<table border=\"1\" class=\"dataframe\">\n",
       "  <thead>\n",
       "    <tr style=\"text-align: right;\">\n",
       "      <th></th>\n",
       "      <th>Species taxonomic ID</th>\n",
       "      <th>Virus hosts</th>\n",
       "      <th>Protein names</th>\n",
       "      <th>Species name</th>\n",
       "      <th>Species superkingdom</th>\n",
       "      <th>Species family</th>\n",
       "      <th>Infects human</th>\n",
       "    </tr>\n",
       "  </thead>\n",
       "  <tbody>\n",
       "    <tr>\n",
       "      <th>2838</th>\n",
       "      <td>1221637</td>\n",
       "      <td>Taphozous melanopogon [TaxID: 187003]</td>\n",
       "      <td>Minor capsid protein VP2 (Minor structural pro...</td>\n",
       "      <td>Bat polyomavirus</td>\n",
       "      <td>Viruses</td>\n",
       "      <td>Polyomaviridae</td>\n",
       "      <td>human-false</td>\n",
       "    </tr>\n",
       "    <tr>\n",
       "      <th>5505</th>\n",
       "      <td>2137545</td>\n",
       "      <td>Calomys tener [TaxID: 162310]</td>\n",
       "      <td>Capsid protein VP1 (Coat protein VP1); Capsid ...</td>\n",
       "      <td>Rodent protoparvovirus 3</td>\n",
       "      <td>Viruses</td>\n",
       "      <td>Parvoviridae</td>\n",
       "      <td>human-false</td>\n",
       "    </tr>\n",
       "    <tr>\n",
       "      <th>950</th>\n",
       "      <td>59563</td>\n",
       "      <td>Molothrus bonariensis (Shiny cowbird) (Tanagr...</td>\n",
       "      <td>Core protein (EC 3.4.21.91) (EC 3.6.1.15) (EC ...</td>\n",
       "      <td>Ilheus virus</td>\n",
       "      <td>Viruses</td>\n",
       "      <td>Flaviviridae</td>\n",
       "      <td>human-true</td>\n",
       "    </tr>\n",
       "    <tr>\n",
       "      <th>663</th>\n",
       "      <td>29252</td>\n",
       "      <td>Escherichia coli [TaxID: 562]</td>\n",
       "      <td>Integrase (EC 2.7.7.-) (EC 3.1.-.-); Tail shea...</td>\n",
       "      <td>Escherichia virus 186</td>\n",
       "      <td>Viruses</td>\n",
       "      <td>Myoviridae</td>\n",
       "      <td>human-false</td>\n",
       "    </tr>\n",
       "  </tbody>\n",
       "</table>\n",
       "</div>"
      ],
      "text/plain": [
       "      Species taxonomic ID                                        Virus hosts  \\\n",
       "2838               1221637              Taphozous melanopogon [TaxID: 187003]   \n",
       "5505               2137545                      Calomys tener [TaxID: 162310]   \n",
       "950                  59563   Molothrus bonariensis (Shiny cowbird) (Tanagr...   \n",
       "663                  29252                      Escherichia coli [TaxID: 562]   \n",
       "\n",
       "                                          Protein names  \\\n",
       "2838  Minor capsid protein VP2 (Minor structural pro...   \n",
       "5505  Capsid protein VP1 (Coat protein VP1); Capsid ...   \n",
       "950   Core protein (EC 3.4.21.91) (EC 3.6.1.15) (EC ...   \n",
       "663   Integrase (EC 2.7.7.-) (EC 3.1.-.-); Tail shea...   \n",
       "\n",
       "                  Species name Species superkingdom  Species family  \\\n",
       "2838          Bat polyomavirus              Viruses  Polyomaviridae   \n",
       "5505  Rodent protoparvovirus 3              Viruses    Parvoviridae   \n",
       "950               Ilheus virus              Viruses    Flaviviridae   \n",
       "663      Escherichia virus 186              Viruses      Myoviridae   \n",
       "\n",
       "     Infects human  \n",
       "2838   human-false  \n",
       "5505   human-false  \n",
       "950     human-true  \n",
       "663    human-false  "
      ]
     },
     "execution_count": 92,
     "metadata": {},
     "output_type": "execute_result"
    }
   ],
   "source": [
    "df.sample(4)"
   ]
  },
  {
   "cell_type": "code",
   "execution_count": 93,
   "metadata": {},
   "outputs": [
    {
     "data": {
      "text/html": [
       "<div>\n",
       "<style scoped>\n",
       "    .dataframe tbody tr th:only-of-type {\n",
       "        vertical-align: middle;\n",
       "    }\n",
       "\n",
       "    .dataframe tbody tr th {\n",
       "        vertical-align: top;\n",
       "    }\n",
       "\n",
       "    .dataframe thead th {\n",
       "        text-align: right;\n",
       "    }\n",
       "</style>\n",
       "<table border=\"1\" class=\"dataframe\">\n",
       "  <thead>\n",
       "    <tr style=\"text-align: right;\">\n",
       "      <th></th>\n",
       "      <th>Species taxonomic ID</th>\n",
       "      <th>Virus hosts</th>\n",
       "      <th>Protein names</th>\n",
       "      <th>Species name</th>\n",
       "      <th>Species superkingdom</th>\n",
       "      <th>Species family</th>\n",
       "      <th>Infects human</th>\n",
       "      <th>Virus hosts ID</th>\n",
       "    </tr>\n",
       "  </thead>\n",
       "  <tbody>\n",
       "    <tr>\n",
       "      <th>0</th>\n",
       "      <td>10243</td>\n",
       "      <td>Mus musculus (Mouse) [TaxID: 10090]</td>\n",
       "      <td>CPXV098 protein (Poxvirus myristoylprotein); C...</td>\n",
       "      <td>Cowpox virus</td>\n",
       "      <td>Viruses</td>\n",
       "      <td>Poxviridae</td>\n",
       "      <td>human-true</td>\n",
       "      <td>10090]</td>\n",
       "    </tr>\n",
       "    <tr>\n",
       "      <th>1</th>\n",
       "      <td>10243</td>\n",
       "      <td>Homo sapiens (Human) [TaxID: 9606]</td>\n",
       "      <td>CPXV098 protein (Poxvirus myristoylprotein); C...</td>\n",
       "      <td>Cowpox virus</td>\n",
       "      <td>Viruses</td>\n",
       "      <td>Poxviridae</td>\n",
       "      <td>human-true</td>\n",
       "      <td>9606]</td>\n",
       "    </tr>\n",
       "    <tr>\n",
       "      <th>2</th>\n",
       "      <td>10243</td>\n",
       "      <td>Felis catus (Cat) (Felis silvestris catus) [T...</td>\n",
       "      <td>CPXV098 protein (Poxvirus myristoylprotein); C...</td>\n",
       "      <td>Cowpox virus</td>\n",
       "      <td>Viruses</td>\n",
       "      <td>Poxviridae</td>\n",
       "      <td>human-true</td>\n",
       "      <td>9685]</td>\n",
       "    </tr>\n",
       "    <tr>\n",
       "      <th>3</th>\n",
       "      <td>10243</td>\n",
       "      <td>Microtus agrestis (Short-tailed field vole) [...</td>\n",
       "      <td>CPXV098 protein (Poxvirus myristoylprotein); C...</td>\n",
       "      <td>Cowpox virus</td>\n",
       "      <td>Viruses</td>\n",
       "      <td>Poxviridae</td>\n",
       "      <td>human-true</td>\n",
       "      <td>29092]</td>\n",
       "    </tr>\n",
       "    <tr>\n",
       "      <th>4</th>\n",
       "      <td>10243</td>\n",
       "      <td>Myodes glareolus (Bank vole) (Clethrionomys g...</td>\n",
       "      <td>CPXV098 protein (Poxvirus myristoylprotein); C...</td>\n",
       "      <td>Cowpox virus</td>\n",
       "      <td>Viruses</td>\n",
       "      <td>Poxviridae</td>\n",
       "      <td>human-true</td>\n",
       "      <td>447135]</td>\n",
       "    </tr>\n",
       "  </tbody>\n",
       "</table>\n",
       "</div>"
      ],
      "text/plain": [
       "   Species taxonomic ID                                        Virus hosts  \\\n",
       "0                 10243                Mus musculus (Mouse) [TaxID: 10090]   \n",
       "1                 10243                 Homo sapiens (Human) [TaxID: 9606]   \n",
       "2                 10243   Felis catus (Cat) (Felis silvestris catus) [T...   \n",
       "3                 10243   Microtus agrestis (Short-tailed field vole) [...   \n",
       "4                 10243   Myodes glareolus (Bank vole) (Clethrionomys g...   \n",
       "\n",
       "                                       Protein names  Species name  \\\n",
       "0  CPXV098 protein (Poxvirus myristoylprotein); C...  Cowpox virus   \n",
       "1  CPXV098 protein (Poxvirus myristoylprotein); C...  Cowpox virus   \n",
       "2  CPXV098 protein (Poxvirus myristoylprotein); C...  Cowpox virus   \n",
       "3  CPXV098 protein (Poxvirus myristoylprotein); C...  Cowpox virus   \n",
       "4  CPXV098 protein (Poxvirus myristoylprotein); C...  Cowpox virus   \n",
       "\n",
       "  Species superkingdom Species family Infects human Virus hosts ID  \n",
       "0              Viruses     Poxviridae    human-true         10090]  \n",
       "1              Viruses     Poxviridae    human-true          9606]  \n",
       "2              Viruses     Poxviridae    human-true          9685]  \n",
       "3              Viruses     Poxviridae    human-true         29092]  \n",
       "4              Viruses     Poxviridae    human-true        447135]  "
      ]
     },
     "execution_count": 93,
     "metadata": {},
     "output_type": "execute_result"
    }
   ],
   "source": [
    "df['Virus hosts ID'] = None\n",
    "idx_organism = df.columns.get_loc('Virus hosts')\n",
    "idx_host_id = df.columns.get_loc('Virus hosts ID')\n",
    "\n",
    "pattern = r'(\\d+)\\]'\n",
    "for row in range(len(df)):\n",
    "    host_id = re.search(pattern, df.iat[row, idx_organism]).group()\n",
    "    df.iat[row, idx_host_id] = host_id\n",
    "df.head()"
   ]
  },
  {
   "cell_type": "code",
   "execution_count": 94,
   "metadata": {},
   "outputs": [],
   "source": [
    "df['Virus hosts ID'] = df['Virus hosts ID'].str.strip('\\]')"
   ]
  },
  {
   "cell_type": "code",
   "execution_count": 95,
   "metadata": {},
   "outputs": [
    {
     "data": {
      "application/vnd.jupyter.widget-view+json": {
       "model_id": "87dd316c9b75415586d92d1175c73f13",
       "version_major": 2,
       "version_minor": 0
      },
      "text/plain": [
       "Processing:   0%|          | 0/7270 [00:00<?, ?it/s]"
      ]
     },
     "metadata": {},
     "output_type": "display_data"
    },
    {
     "data": {
      "application/vnd.jupyter.widget-view+json": {
       "model_id": "b27622c6194841e0bac0841284c6630e",
       "version_major": 2,
       "version_minor": 0
      },
      "text/plain": [
       "Processing:   0%|          | 0/7270 [00:00<?, ?it/s]"
      ]
     },
     "metadata": {},
     "output_type": "display_data"
    },
    {
     "data": {
      "application/vnd.jupyter.widget-view+json": {
       "model_id": "19f0992f7baf4b2ebb5dbecc1d9ab614",
       "version_major": 2,
       "version_minor": 0
      },
      "text/plain": [
       "Processing:   0%|          | 0/7270 [00:00<?, ?it/s]"
      ]
     },
     "metadata": {},
     "output_type": "display_data"
    },
    {
     "data": {
      "application/vnd.jupyter.widget-view+json": {
       "model_id": "72079fde98c94a5d804c930c4ce53287",
       "version_major": 2,
       "version_minor": 0
      },
      "text/plain": [
       "Processing:   0%|          | 0/7270 [00:00<?, ?it/s]"
      ]
     },
     "metadata": {},
     "output_type": "display_data"
    },
    {
     "data": {
      "application/vnd.jupyter.widget-view+json": {
       "model_id": "8ff747c11ab142ce9097468ffd81a870",
       "version_major": 2,
       "version_minor": 0
      },
      "text/plain": [
       "Processing:   0%|          | 0/7270 [00:00<?, ?it/s]"
      ]
     },
     "metadata": {},
     "output_type": "display_data"
    }
   ],
   "source": [
    "df['Virus hosts ID'] = df['Virus hosts ID'].progress_apply(int)\n",
    "\n",
    "df['Virus hosts ID'] = df['Virus hosts ID'].progress_apply(getRankID, rank='species')\n",
    "df['Virus host name'] = df['Virus hosts ID'].progress_apply(getRankName, rank='species')\n",
    "df['Host superkingdom'] = df['Virus hosts ID'].progress_apply(getRankName, rank='superkingdom')\n",
    "df['Host kingdom'] = df['Virus hosts ID'].progress_apply(getRankName, rank='kingdom')"
   ]
  },
  {
   "cell_type": "code",
   "execution_count": 96,
   "metadata": {},
   "outputs": [
    {
     "data": {
      "text/html": [
       "<div>\n",
       "<style scoped>\n",
       "    .dataframe tbody tr th:only-of-type {\n",
       "        vertical-align: middle;\n",
       "    }\n",
       "\n",
       "    .dataframe tbody tr th {\n",
       "        vertical-align: top;\n",
       "    }\n",
       "\n",
       "    .dataframe thead th {\n",
       "        text-align: right;\n",
       "    }\n",
       "</style>\n",
       "<table border=\"1\" class=\"dataframe\">\n",
       "  <thead>\n",
       "    <tr style=\"text-align: right;\">\n",
       "      <th></th>\n",
       "      <th>Species taxonomic ID</th>\n",
       "      <th>Virus hosts</th>\n",
       "      <th>Protein names</th>\n",
       "      <th>Species name</th>\n",
       "      <th>Species superkingdom</th>\n",
       "      <th>Species family</th>\n",
       "      <th>Infects human</th>\n",
       "      <th>Virus hosts ID</th>\n",
       "      <th>Virus host name</th>\n",
       "      <th>Host superkingdom</th>\n",
       "      <th>Host kingdom</th>\n",
       "    </tr>\n",
       "  </thead>\n",
       "  <tbody>\n",
       "  </tbody>\n",
       "</table>\n",
       "</div>"
      ],
      "text/plain": [
       "Empty DataFrame\n",
       "Columns: [Species taxonomic ID, Virus hosts, Protein names, Species name, Species superkingdom, Species family, Infects human, Virus hosts ID, Virus host name, Host superkingdom, Host kingdom]\n",
       "Index: []"
      ]
     },
     "execution_count": 96,
     "metadata": {},
     "output_type": "execute_result"
    }
   ],
   "source": [
    "df[df['Virus hosts ID'].isna()]"
   ]
  },
  {
   "cell_type": "code",
   "execution_count": 97,
   "metadata": {},
   "outputs": [
    {
     "data": {
      "text/plain": [
       "274"
      ]
     },
     "execution_count": 97,
     "metadata": {},
     "output_type": "execute_result"
    }
   ],
   "source": [
    "df['Virus hosts ID'][1866]"
   ]
  },
  {
   "cell_type": "code",
   "execution_count": 98,
   "metadata": {},
   "outputs": [
    {
     "data": {
      "application/vnd.jupyter.widget-view+json": {
       "model_id": "3fc46938c6114c8381e26e0bc450ac43",
       "version_major": 2,
       "version_minor": 0
      },
      "text/plain": [
       "Processing:   0%|          | 0/7270 [00:00<?, ?it/s]"
      ]
     },
     "metadata": {},
     "output_type": "display_data"
    }
   ],
   "source": [
    "df['Virus hosts ID'] = df['Virus hosts ID'].progress_apply(int)"
   ]
  },
  {
   "cell_type": "code",
   "execution_count": 99,
   "metadata": {},
   "outputs": [],
   "source": [
    "df['Virus hosts'] = (df.drop('Virus hosts', axis=1)\n",
    "                     .apply(lambda x: nameMerger(x['Virus host name'], x['Virus hosts ID']), axis=1))"
   ]
  },
  {
   "cell_type": "code",
   "execution_count": 100,
   "metadata": {
    "tags": []
   },
   "outputs": [
    {
     "data": {
      "text/html": [
       "<div>\n",
       "<style scoped>\n",
       "    .dataframe tbody tr th:only-of-type {\n",
       "        vertical-align: middle;\n",
       "    }\n",
       "\n",
       "    .dataframe tbody tr th {\n",
       "        vertical-align: top;\n",
       "    }\n",
       "\n",
       "    .dataframe thead th {\n",
       "        text-align: right;\n",
       "    }\n",
       "</style>\n",
       "<table border=\"1\" class=\"dataframe\">\n",
       "  <thead>\n",
       "    <tr style=\"text-align: right;\">\n",
       "      <th></th>\n",
       "      <th>Species taxonomic ID</th>\n",
       "      <th>Virus hosts</th>\n",
       "      <th>Protein names</th>\n",
       "      <th>Species name</th>\n",
       "      <th>Species superkingdom</th>\n",
       "      <th>Species family</th>\n",
       "      <th>Infects human</th>\n",
       "      <th>Virus hosts ID</th>\n",
       "      <th>Virus host name</th>\n",
       "      <th>Host superkingdom</th>\n",
       "      <th>Host kingdom</th>\n",
       "    </tr>\n",
       "  </thead>\n",
       "  <tbody>\n",
       "    <tr>\n",
       "      <th>2983</th>\n",
       "      <td>1281454</td>\n",
       "      <td>Equus ferus [TaxID: 1114792]</td>\n",
       "      <td>Envelope glycoprotein E1 (EC 2.7.7.48) (EC 3.6...</td>\n",
       "      <td>Rodent hepacivirus</td>\n",
       "      <td>Viruses</td>\n",
       "      <td>Flaviviridae</td>\n",
       "      <td>human-false</td>\n",
       "      <td>1114792</td>\n",
       "      <td>Equus ferus</td>\n",
       "      <td>Eukaryota</td>\n",
       "      <td>Metazoa</td>\n",
       "    </tr>\n",
       "    <tr>\n",
       "      <th>206</th>\n",
       "      <td>10820</td>\n",
       "      <td>Avena sativa [TaxID: 4498]</td>\n",
       "      <td>Capsid protein (Coat protein); Capsid protein ...</td>\n",
       "      <td>Chloris striate mosaic virus</td>\n",
       "      <td>Viruses</td>\n",
       "      <td>Geminiviridae</td>\n",
       "      <td>human-false</td>\n",
       "      <td>4498</td>\n",
       "      <td>Avena sativa</td>\n",
       "      <td>Eukaryota</td>\n",
       "      <td>Viridiplantae</td>\n",
       "    </tr>\n",
       "    <tr>\n",
       "      <th>6684</th>\n",
       "      <td>2721749</td>\n",
       "      <td>Callosciurus prevostii [TaxID: 64676]</td>\n",
       "      <td>Minor capsid protein VP2 (Minor structural pro...</td>\n",
       "      <td>Callosciurus prevostii polyomavirus 1</td>\n",
       "      <td>Viruses</td>\n",
       "      <td>Polyomaviridae</td>\n",
       "      <td>human-false</td>\n",
       "      <td>64676</td>\n",
       "      <td>Callosciurus prevostii</td>\n",
       "      <td>Eukaryota</td>\n",
       "      <td>Metazoa</td>\n",
       "    </tr>\n",
       "    <tr>\n",
       "      <th>6076</th>\n",
       "      <td>2560298</td>\n",
       "      <td>Arthrobacter sp. ATCC 21022 [TaxID: 1771959]</td>\n",
       "      <td>Portal protein</td>\n",
       "      <td>Arthrobacter virus Abidatro</td>\n",
       "      <td>Viruses</td>\n",
       "      <td>Siphoviridae</td>\n",
       "      <td>human-false</td>\n",
       "      <td>1771959</td>\n",
       "      <td>Arthrobacter sp. ATCC 21022</td>\n",
       "      <td>Bacteria</td>\n",
       "      <td>Arthrobacter sp. ATCC 21022</td>\n",
       "    </tr>\n",
       "  </tbody>\n",
       "</table>\n",
       "</div>"
      ],
      "text/plain": [
       "      Species taxonomic ID                                   Virus hosts  \\\n",
       "2983               1281454                  Equus ferus [TaxID: 1114792]   \n",
       "206                  10820                    Avena sativa [TaxID: 4498]   \n",
       "6684               2721749         Callosciurus prevostii [TaxID: 64676]   \n",
       "6076               2560298  Arthrobacter sp. ATCC 21022 [TaxID: 1771959]   \n",
       "\n",
       "                                          Protein names  \\\n",
       "2983  Envelope glycoprotein E1 (EC 2.7.7.48) (EC 3.6...   \n",
       "206   Capsid protein (Coat protein); Capsid protein ...   \n",
       "6684  Minor capsid protein VP2 (Minor structural pro...   \n",
       "6076                                     Portal protein   \n",
       "\n",
       "                               Species name Species superkingdom  \\\n",
       "2983                     Rodent hepacivirus              Viruses   \n",
       "206            Chloris striate mosaic virus              Viruses   \n",
       "6684  Callosciurus prevostii polyomavirus 1              Viruses   \n",
       "6076            Arthrobacter virus Abidatro              Viruses   \n",
       "\n",
       "      Species family Infects human  Virus hosts ID  \\\n",
       "2983    Flaviviridae   human-false         1114792   \n",
       "206    Geminiviridae   human-false            4498   \n",
       "6684  Polyomaviridae   human-false           64676   \n",
       "6076    Siphoviridae   human-false         1771959   \n",
       "\n",
       "                  Virus host name Host superkingdom  \\\n",
       "2983                  Equus ferus         Eukaryota   \n",
       "206                  Avena sativa         Eukaryota   \n",
       "6684       Callosciurus prevostii         Eukaryota   \n",
       "6076  Arthrobacter sp. ATCC 21022          Bacteria   \n",
       "\n",
       "                     Host kingdom  \n",
       "2983                      Metazoa  \n",
       "206                 Viridiplantae  \n",
       "6684                      Metazoa  \n",
       "6076  Arthrobacter sp. ATCC 21022  "
      ]
     },
     "execution_count": 100,
     "metadata": {},
     "output_type": "execute_result"
    }
   ],
   "source": [
    "df.sample(4)"
   ]
  },
  {
   "cell_type": "code",
   "execution_count": 101,
   "metadata": {},
   "outputs": [
    {
     "data": {
      "text/plain": [
       "(7270, 11)"
      ]
     },
     "execution_count": 101,
     "metadata": {},
     "output_type": "execute_result"
    }
   ],
   "source": [
    "df.shape"
   ]
  },
  {
   "cell_type": "code",
   "execution_count": 102,
   "metadata": {},
   "outputs": [],
   "source": [
    "# Ungroup based on protein names\n",
    "df = (df.set_index(df.columns.drop('Protein names',1).tolist())['Protein names'].str.split(';', expand=True)\n",
    "          .stack()\n",
    "          .reset_index()\n",
    "          .rename(columns={0:'Protein names'})\n",
    "          .loc[:, df.columns]\n",
    "         ).copy()"
   ]
  },
  {
   "cell_type": "code",
   "execution_count": 103,
   "metadata": {},
   "outputs": [
    {
     "data": {
      "text/plain": [
       "(0, 11)"
      ]
     },
     "execution_count": 103,
     "metadata": {},
     "output_type": "execute_result"
    }
   ],
   "source": [
    "df[df['Host superkingdom'].isnull()].shape"
   ]
  },
  {
   "cell_type": "code",
   "execution_count": 104,
   "metadata": {},
   "outputs": [
    {
     "data": {
      "text/plain": [
       "array(['Eukaryota', 'Bacteria', 'Viruses', 'root', 'Archaea'],\n",
       "      dtype=object)"
      ]
     },
     "execution_count": 104,
     "metadata": {},
     "output_type": "execute_result"
    }
   ],
   "source": [
    "df['Host superkingdom'].unique()"
   ]
  },
  {
   "cell_type": "code",
   "execution_count": 105,
   "metadata": {},
   "outputs": [
    {
     "data": {
      "text/plain": [
       "(18376, 11)"
      ]
     },
     "execution_count": 105,
     "metadata": {},
     "output_type": "execute_result"
    }
   ],
   "source": [
    "df[df['Host superkingdom'] == 'Eukaryota'].shape"
   ]
  },
  {
   "cell_type": "code",
   "execution_count": 106,
   "metadata": {},
   "outputs": [
    {
     "data": {
      "text/plain": [
       "(4, 11)"
      ]
     },
     "execution_count": 106,
     "metadata": {},
     "output_type": "execute_result"
    }
   ],
   "source": [
    "df[df['Host superkingdom'] == 'Viruses'].shape"
   ]
  },
  {
   "cell_type": "code",
   "execution_count": 107,
   "metadata": {},
   "outputs": [
    {
     "data": {
      "text/plain": [
       "(4099, 11)"
      ]
     },
     "execution_count": 107,
     "metadata": {},
     "output_type": "execute_result"
    }
   ],
   "source": [
    "df[df['Host superkingdom'] == 'Bacteria'].shape"
   ]
  },
  {
   "cell_type": "code",
   "execution_count": 108,
   "metadata": {},
   "outputs": [
    {
     "data": {
      "text/plain": [
       "(38, 11)"
      ]
     },
     "execution_count": 108,
     "metadata": {},
     "output_type": "execute_result"
    }
   ],
   "source": [
    "df[df['Host superkingdom'] == 'root'].shape"
   ]
  },
  {
   "cell_type": "code",
   "execution_count": 109,
   "metadata": {},
   "outputs": [
    {
     "data": {
      "text/plain": [
       "(14, 11)"
      ]
     },
     "execution_count": 109,
     "metadata": {},
     "output_type": "execute_result"
    }
   ],
   "source": [
    "df[df['Host superkingdom'] == 'Archaea'].shape"
   ]
  },
  {
   "cell_type": "code",
   "execution_count": 110,
   "metadata": {},
   "outputs": [
    {
     "name": "stdout",
     "output_type": "stream",
     "text": [
      "(17312, 11)\n"
     ]
    },
    {
     "data": {
      "text/html": [
       "<div>\n",
       "<style scoped>\n",
       "    .dataframe tbody tr th:only-of-type {\n",
       "        vertical-align: middle;\n",
       "    }\n",
       "\n",
       "    .dataframe tbody tr th {\n",
       "        vertical-align: top;\n",
       "    }\n",
       "\n",
       "    .dataframe thead th {\n",
       "        text-align: right;\n",
       "    }\n",
       "</style>\n",
       "<table border=\"1\" class=\"dataframe\">\n",
       "  <thead>\n",
       "    <tr style=\"text-align: right;\">\n",
       "      <th></th>\n",
       "      <th>Species taxonomic ID</th>\n",
       "      <th>Virus hosts</th>\n",
       "      <th>Protein names</th>\n",
       "      <th>Species name</th>\n",
       "      <th>Species superkingdom</th>\n",
       "      <th>Species family</th>\n",
       "      <th>Infects human</th>\n",
       "      <th>Virus hosts ID</th>\n",
       "      <th>Virus host name</th>\n",
       "      <th>Host superkingdom</th>\n",
       "      <th>Host kingdom</th>\n",
       "    </tr>\n",
       "  </thead>\n",
       "  <tbody>\n",
       "    <tr>\n",
       "      <th>14683</th>\n",
       "      <td>1508220</td>\n",
       "      <td>Rousettus madagascariensis [TaxID: 77223]</td>\n",
       "      <td>Spike protein</td>\n",
       "      <td>Bat coronavirus</td>\n",
       "      <td>Viruses</td>\n",
       "      <td>Coronaviridae</td>\n",
       "      <td>human-false</td>\n",
       "      <td>77223</td>\n",
       "      <td>Rousettus madagascariensis</td>\n",
       "      <td>Eukaryota</td>\n",
       "      <td>Metazoa</td>\n",
       "    </tr>\n",
       "    <tr>\n",
       "      <th>20433</th>\n",
       "      <td>2479483</td>\n",
       "      <td>Tupaia belangeri [TaxID: 37347]</td>\n",
       "      <td>Glycoprotein G1 (GP1)</td>\n",
       "      <td>Rat mammarenavirus</td>\n",
       "      <td>Viruses</td>\n",
       "      <td>Arenaviridae</td>\n",
       "      <td>human-false</td>\n",
       "      <td>37347</td>\n",
       "      <td>Tupaia belangeri</td>\n",
       "      <td>Eukaryota</td>\n",
       "      <td>Metazoa</td>\n",
       "    </tr>\n",
       "    <tr>\n",
       "      <th>5635</th>\n",
       "      <td>12637</td>\n",
       "      <td>Aedes taylori [TaxID: 299628]</td>\n",
       "      <td>Serine protease subunit NS2B (Flavivirin prot...</td>\n",
       "      <td>Dengue virus</td>\n",
       "      <td>Viruses</td>\n",
       "      <td>Flaviviridae</td>\n",
       "      <td>human-true</td>\n",
       "      <td>299628</td>\n",
       "      <td>Aedes taylori</td>\n",
       "      <td>Eukaryota</td>\n",
       "      <td>Metazoa</td>\n",
       "    </tr>\n",
       "  </tbody>\n",
       "</table>\n",
       "</div>"
      ],
      "text/plain": [
       "       Species taxonomic ID                                Virus hosts  \\\n",
       "14683               1508220  Rousettus madagascariensis [TaxID: 77223]   \n",
       "20433               2479483            Tupaia belangeri [TaxID: 37347]   \n",
       "5635                  12637              Aedes taylori [TaxID: 299628]   \n",
       "\n",
       "                                           Protein names        Species name  \\\n",
       "14683                                      Spike protein     Bat coronavirus   \n",
       "20433                              Glycoprotein G1 (GP1)  Rat mammarenavirus   \n",
       "5635    Serine protease subunit NS2B (Flavivirin prot...        Dengue virus   \n",
       "\n",
       "      Species superkingdom Species family Infects human  Virus hosts ID  \\\n",
       "14683              Viruses  Coronaviridae   human-false           77223   \n",
       "20433              Viruses   Arenaviridae   human-false           37347   \n",
       "5635               Viruses   Flaviviridae    human-true          299628   \n",
       "\n",
       "                  Virus host name Host superkingdom Host kingdom  \n",
       "14683  Rousettus madagascariensis         Eukaryota      Metazoa  \n",
       "20433            Tupaia belangeri         Eukaryota      Metazoa  \n",
       "5635                Aedes taylori         Eukaryota      Metazoa  "
      ]
     },
     "execution_count": 110,
     "metadata": {},
     "output_type": "execute_result"
    }
   ],
   "source": [
    "print(df[df['Host kingdom'] == 'Metazoa'].shape)\n",
    "df[df['Host kingdom'] == 'Metazoa'].sample(3)"
   ]
  },
  {
   "cell_type": "code",
   "execution_count": 111,
   "metadata": {},
   "outputs": [
    {
     "data": {
      "text/plain": [
       "(8457, 11)"
      ]
     },
     "execution_count": 111,
     "metadata": {},
     "output_type": "execute_result"
    }
   ],
   "source": [
    "df[df['Infects human'] == 'human-true'].shape"
   ]
  },
  {
   "cell_type": "code",
   "execution_count": 112,
   "metadata": {},
   "outputs": [
    {
     "data": {
      "text/plain": [
       "(14074, 11)"
      ]
     },
     "execution_count": 112,
     "metadata": {},
     "output_type": "execute_result"
    }
   ],
   "source": [
    "df[df['Infects human'] == 'human-false'].shape"
   ]
  },
  {
   "cell_type": "code",
   "execution_count": 113,
   "metadata": {},
   "outputs": [
    {
     "data": {
      "text/html": [
       "<div>\n",
       "<style scoped>\n",
       "    .dataframe tbody tr th:only-of-type {\n",
       "        vertical-align: middle;\n",
       "    }\n",
       "\n",
       "    .dataframe tbody tr th {\n",
       "        vertical-align: top;\n",
       "    }\n",
       "\n",
       "    .dataframe thead th {\n",
       "        text-align: right;\n",
       "    }\n",
       "</style>\n",
       "<table border=\"1\" class=\"dataframe\">\n",
       "  <thead>\n",
       "    <tr style=\"text-align: right;\">\n",
       "      <th></th>\n",
       "      <th>Species taxonomic ID</th>\n",
       "      <th>Virus hosts</th>\n",
       "      <th>Protein names</th>\n",
       "      <th>Species name</th>\n",
       "      <th>Species superkingdom</th>\n",
       "      <th>Species family</th>\n",
       "      <th>Infects human</th>\n",
       "      <th>Virus hosts ID</th>\n",
       "      <th>Virus host name</th>\n",
       "      <th>Host superkingdom</th>\n",
       "      <th>Host kingdom</th>\n",
       "    </tr>\n",
       "  </thead>\n",
       "  <tbody>\n",
       "    <tr>\n",
       "      <th>6834</th>\n",
       "      <td>37124</td>\n",
       "      <td>Aedes polynesiensis [TaxID: 188700]</td>\n",
       "      <td>Frameshifted structural polyprotein (p130) [C...</td>\n",
       "      <td>Chikungunya virus</td>\n",
       "      <td>Viruses</td>\n",
       "      <td>Togaviridae</td>\n",
       "      <td>human-true</td>\n",
       "      <td>188700</td>\n",
       "      <td>Aedes polynesiensis</td>\n",
       "      <td>Eukaryota</td>\n",
       "      <td>Metazoa</td>\n",
       "    </tr>\n",
       "    <tr>\n",
       "      <th>15060</th>\n",
       "      <td>1511906</td>\n",
       "      <td>Felidae [TaxID: 9681]</td>\n",
       "      <td>Capsid protein VP2 (Structural protein VP2)</td>\n",
       "      <td>Carnivore protoparvovirus 1</td>\n",
       "      <td>Viruses</td>\n",
       "      <td>Parvoviridae</td>\n",
       "      <td>human-false</td>\n",
       "      <td>9681</td>\n",
       "      <td>Felidae</td>\n",
       "      <td>Eukaryota</td>\n",
       "      <td>Metazoa</td>\n",
       "    </tr>\n",
       "  </tbody>\n",
       "</table>\n",
       "</div>"
      ],
      "text/plain": [
       "       Species taxonomic ID                          Virus hosts  \\\n",
       "6834                  37124  Aedes polynesiensis [TaxID: 188700]   \n",
       "15060               1511906                Felidae [TaxID: 9681]   \n",
       "\n",
       "                                           Protein names  \\\n",
       "6834    Frameshifted structural polyprotein (p130) [C...   \n",
       "15060        Capsid protein VP2 (Structural protein VP2)   \n",
       "\n",
       "                      Species name Species superkingdom Species family  \\\n",
       "6834             Chikungunya virus              Viruses    Togaviridae   \n",
       "15060  Carnivore protoparvovirus 1              Viruses   Parvoviridae   \n",
       "\n",
       "      Infects human  Virus hosts ID      Virus host name Host superkingdom  \\\n",
       "6834     human-true          188700  Aedes polynesiensis         Eukaryota   \n",
       "15060   human-false            9681              Felidae         Eukaryota   \n",
       "\n",
       "      Host kingdom  \n",
       "6834       Metazoa  \n",
       "15060      Metazoa  "
      ]
     },
     "execution_count": 113,
     "metadata": {},
     "output_type": "execute_result"
    }
   ],
   "source": [
    "df.sample(2)"
   ]
  },
  {
   "cell_type": "code",
   "execution_count": 114,
   "metadata": {},
   "outputs": [
    {
     "data": {
      "text/html": [
       "<div>\n",
       "<style scoped>\n",
       "    .dataframe tbody tr th:only-of-type {\n",
       "        vertical-align: middle;\n",
       "    }\n",
       "\n",
       "    .dataframe tbody tr th {\n",
       "        vertical-align: top;\n",
       "    }\n",
       "\n",
       "    .dataframe thead th {\n",
       "        text-align: right;\n",
       "    }\n",
       "</style>\n",
       "<table border=\"1\" class=\"dataframe\">\n",
       "  <thead>\n",
       "    <tr style=\"text-align: right;\">\n",
       "      <th></th>\n",
       "      <th>Species taxonomic ID</th>\n",
       "      <th>Virus hosts</th>\n",
       "      <th>Protein names</th>\n",
       "      <th>Species name</th>\n",
       "      <th>Species superkingdom</th>\n",
       "      <th>Species family</th>\n",
       "      <th>Infects human</th>\n",
       "      <th>Virus hosts ID</th>\n",
       "      <th>Virus host name</th>\n",
       "      <th>Host superkingdom</th>\n",
       "      <th>Host kingdom</th>\n",
       "    </tr>\n",
       "  </thead>\n",
       "  <tbody>\n",
       "    <tr>\n",
       "      <th>703</th>\n",
       "      <td>10245</td>\n",
       "      <td>Homo sapiens [TaxID: 9606]</td>\n",
       "      <td>Uncharacterized protein</td>\n",
       "      <td>Vaccinia virus</td>\n",
       "      <td>Viruses</td>\n",
       "      <td>Poxviridae</td>\n",
       "      <td>human-true</td>\n",
       "      <td>9606</td>\n",
       "      <td>Homo sapiens</td>\n",
       "      <td>Eukaryota</td>\n",
       "      <td>Metazoa</td>\n",
       "    </tr>\n",
       "    <tr>\n",
       "      <th>533</th>\n",
       "      <td>10244</td>\n",
       "      <td>Cynomys leucurus [TaxID: 99825]</td>\n",
       "      <td>A17L (MPXV-COP-122) (MPXV-SL-122) (MPXV-WRAIR...</td>\n",
       "      <td>Monkeypox virus</td>\n",
       "      <td>Viruses</td>\n",
       "      <td>Poxviridae</td>\n",
       "      <td>human-true</td>\n",
       "      <td>99825</td>\n",
       "      <td>Cynomys leucurus</td>\n",
       "      <td>Eukaryota</td>\n",
       "      <td>Metazoa</td>\n",
       "    </tr>\n",
       "  </tbody>\n",
       "</table>\n",
       "</div>"
      ],
      "text/plain": [
       "     Species taxonomic ID                      Virus hosts  \\\n",
       "703                 10245       Homo sapiens [TaxID: 9606]   \n",
       "533                 10244  Cynomys leucurus [TaxID: 99825]   \n",
       "\n",
       "                                         Protein names     Species name  \\\n",
       "703                            Uncharacterized protein   Vaccinia virus   \n",
       "533   A17L (MPXV-COP-122) (MPXV-SL-122) (MPXV-WRAIR...  Monkeypox virus   \n",
       "\n",
       "    Species superkingdom Species family Infects human  Virus hosts ID  \\\n",
       "703              Viruses     Poxviridae    human-true            9606   \n",
       "533              Viruses     Poxviridae    human-true           99825   \n",
       "\n",
       "      Virus host name Host superkingdom Host kingdom  \n",
       "703      Homo sapiens         Eukaryota      Metazoa  \n",
       "533  Cynomys leucurus         Eukaryota      Metazoa  "
      ]
     },
     "execution_count": 114,
     "metadata": {},
     "output_type": "execute_result"
    }
   ],
   "source": [
    "df.sample(2)"
   ]
  },
  {
   "cell_type": "markdown",
   "metadata": {},
   "source": [
    "<a id=\"issue\"></a>"
   ]
  },
  {
   "cell_type": "code",
   "execution_count": 115,
   "metadata": {},
   "outputs": [
    {
     "name": "stdout",
     "output_type": "stream",
     "text": [
      "Species taxonomic ID 4766\n",
      "Virus hosts 1765\n",
      "Protein names 2062\n",
      "Species name 4766\n",
      "Species superkingdom 1\n",
      "Species family 80\n",
      "Infects human 2\n",
      "Virus hosts ID 1765\n",
      "Virus host name 1756\n",
      "Host superkingdom 5\n",
      "Host kingdom 344\n",
      "Dataframe total 22531\n"
     ]
    }
   ],
   "source": [
    "###### Absolutely no idea why Virus host name != Virus hosts\n",
    "for column in df.columns:\n",
    "    print(column, df[column].nunique())\n",
    "print('Dataframe total',len(df))"
   ]
  },
  {
   "cell_type": "code",
   "execution_count": 116,
   "metadata": {},
   "outputs": [
    {
     "data": {
      "text/html": [
       "<div>\n",
       "<style scoped>\n",
       "    .dataframe tbody tr th:only-of-type {\n",
       "        vertical-align: middle;\n",
       "    }\n",
       "\n",
       "    .dataframe tbody tr th {\n",
       "        vertical-align: top;\n",
       "    }\n",
       "\n",
       "    .dataframe thead th {\n",
       "        text-align: right;\n",
       "    }\n",
       "</style>\n",
       "<table border=\"1\" class=\"dataframe\">\n",
       "  <thead>\n",
       "    <tr style=\"text-align: right;\">\n",
       "      <th></th>\n",
       "      <th>Species taxonomic ID</th>\n",
       "      <th>Virus hosts</th>\n",
       "      <th>Protein names</th>\n",
       "      <th>Species name</th>\n",
       "      <th>Species superkingdom</th>\n",
       "      <th>Species family</th>\n",
       "      <th>Infects human</th>\n",
       "      <th>Virus hosts ID</th>\n",
       "      <th>Virus host name</th>\n",
       "      <th>Host superkingdom</th>\n",
       "      <th>Host kingdom</th>\n",
       "    </tr>\n",
       "  </thead>\n",
       "  <tbody>\n",
       "    <tr>\n",
       "      <th>827</th>\n",
       "      <td>10245</td>\n",
       "      <td>Equus caballus [TaxID: 9796]</td>\n",
       "      <td>Protein H2</td>\n",
       "      <td>Vaccinia virus</td>\n",
       "      <td>Viruses</td>\n",
       "      <td>Poxviridae</td>\n",
       "      <td>human-true</td>\n",
       "      <td>9796</td>\n",
       "      <td>Equus caballus</td>\n",
       "      <td>Eukaryota</td>\n",
       "      <td>Metazoa</td>\n",
       "    </tr>\n",
       "    <tr>\n",
       "      <th>14106</th>\n",
       "      <td>1354514</td>\n",
       "      <td>Mycolicibacterium smegmatis [TaxID: 1772]</td>\n",
       "      <td>Integrase</td>\n",
       "      <td>Mycobacterium phage Quink</td>\n",
       "      <td>Viruses</td>\n",
       "      <td>Siphoviridae</td>\n",
       "      <td>human-false</td>\n",
       "      <td>1772</td>\n",
       "      <td>Mycolicibacterium smegmatis</td>\n",
       "      <td>Bacteria</td>\n",
       "      <td>Mycolicibacterium smegmatis</td>\n",
       "    </tr>\n",
       "  </tbody>\n",
       "</table>\n",
       "</div>"
      ],
      "text/plain": [
       "       Species taxonomic ID                                Virus hosts  \\\n",
       "827                   10245               Equus caballus [TaxID: 9796]   \n",
       "14106               1354514  Mycolicibacterium smegmatis [TaxID: 1772]   \n",
       "\n",
       "      Protein names               Species name Species superkingdom  \\\n",
       "827      Protein H2             Vaccinia virus              Viruses   \n",
       "14106     Integrase  Mycobacterium phage Quink              Viruses   \n",
       "\n",
       "      Species family Infects human  Virus hosts ID  \\\n",
       "827       Poxviridae    human-true            9796   \n",
       "14106   Siphoviridae   human-false            1772   \n",
       "\n",
       "                   Virus host name Host superkingdom  \\\n",
       "827                 Equus caballus         Eukaryota   \n",
       "14106  Mycolicibacterium smegmatis          Bacteria   \n",
       "\n",
       "                      Host kingdom  \n",
       "827                        Metazoa  \n",
       "14106  Mycolicibacterium smegmatis  "
      ]
     },
     "execution_count": 116,
     "metadata": {},
     "output_type": "execute_result"
    }
   ],
   "source": [
    "df.sample(2)"
   ]
  },
  {
   "cell_type": "markdown",
   "metadata": {},
   "source": [
    "## Restructuring the data"
   ]
  },
  {
   "cell_type": "code",
   "execution_count": 117,
   "metadata": {},
   "outputs": [
    {
     "data": {
      "text/html": [
       "<div>\n",
       "<style scoped>\n",
       "    .dataframe tbody tr th:only-of-type {\n",
       "        vertical-align: middle;\n",
       "    }\n",
       "\n",
       "    .dataframe tbody tr th {\n",
       "        vertical-align: top;\n",
       "    }\n",
       "\n",
       "    .dataframe thead th {\n",
       "        text-align: right;\n",
       "    }\n",
       "</style>\n",
       "<table border=\"1\" class=\"dataframe\">\n",
       "  <thead>\n",
       "    <tr style=\"text-align: right;\">\n",
       "      <th></th>\n",
       "      <th>Entry</th>\n",
       "      <th>Species taxonomic ID</th>\n",
       "    </tr>\n",
       "  </thead>\n",
       "  <tbody>\n",
       "    <tr>\n",
       "      <th>15884</th>\n",
       "      <td>A0A1W5X582</td>\n",
       "      <td>11520.0</td>\n",
       "    </tr>\n",
       "    <tr>\n",
       "      <th>132531</th>\n",
       "      <td>A0A0X8EDJ8</td>\n",
       "      <td>11320.0</td>\n",
       "    </tr>\n",
       "  </tbody>\n",
       "</table>\n",
       "</div>"
      ],
      "text/plain": [
       "             Entry  Species taxonomic ID\n",
       "15884   A0A1W5X582               11520.0\n",
       "132531  A0A0X8EDJ8               11320.0"
      ]
     },
     "execution_count": 117,
     "metadata": {},
     "output_type": "execute_result"
    }
   ],
   "source": [
    "# Earlier saved data\n",
    "dff.sample(2)"
   ]
  },
  {
   "cell_type": "code",
   "execution_count": 118,
   "metadata": {},
   "outputs": [
    {
     "data": {
      "text/plain": [
       "(358333, 2)"
      ]
     },
     "execution_count": 118,
     "metadata": {},
     "output_type": "execute_result"
    }
   ],
   "source": [
    "dff.shape"
   ]
  },
  {
   "cell_type": "code",
   "execution_count": 119,
   "metadata": {},
   "outputs": [],
   "source": [
    "## Load sequences\n",
    "# Using custom IO instead of Bio.SeqIO because it was much easier to customise\n",
    "# Not as efficient but still light on resources"
   ]
  },
  {
   "cell_type": "markdown",
   "metadata": {},
   "source": [
    "<a id='fasta'></a>"
   ]
  },
  {
   "cell_type": "code",
   "execution_count": 120,
   "metadata": {},
   "outputs": [],
   "source": [
    "fastaFileName = '../data/uniprot-keyword Virus+entry+into+host+cell+[KW-1160] +fragment no.fasta'\n",
    "\n",
    "entry_seq = read_fasta(fastaFileName) # read_fasta in zoonosis_helper_functions.py"
   ]
  },
  {
   "cell_type": "code",
   "execution_count": null,
   "metadata": {
    "scrolled": true,
    "tags": []
   },
   "outputs": [],
   "source": [
    "dff.sort_values(by='Entry', inplace=True)\n",
    "\n",
    "seq_object_list = [seq_obj for entry, seq_obj in entry_seq]\n",
    "\n",
    "dff['Sequence'] = seq_object_list"
   ]
  },
  {
   "cell_type": "code",
   "execution_count": null,
   "metadata": {},
   "outputs": [
    {
     "data": {
      "text/html": [
       "<div>\n",
       "<style scoped>\n",
       "    .dataframe tbody tr th:only-of-type {\n",
       "        vertical-align: middle;\n",
       "    }\n",
       "\n",
       "    .dataframe tbody tr th {\n",
       "        vertical-align: top;\n",
       "    }\n",
       "\n",
       "    .dataframe thead th {\n",
       "        text-align: right;\n",
       "    }\n",
       "</style>\n",
       "<table border=\"1\" class=\"dataframe\">\n",
       "  <thead>\n",
       "    <tr style=\"text-align: right;\">\n",
       "      <th></th>\n",
       "      <th>Entry</th>\n",
       "      <th>Species taxonomic ID</th>\n",
       "      <th>Sequence</th>\n",
       "    </tr>\n",
       "  </thead>\n",
       "  <tbody>\n",
       "    <tr>\n",
       "      <th>50368</th>\n",
       "      <td>A0A009FEK4</td>\n",
       "      <td>470.0</td>\n",
       "      <td>&lt;zoonosis_helper_functions.FASTASeq object at ...</td>\n",
       "    </tr>\n",
       "    <tr>\n",
       "      <th>156673</th>\n",
       "      <td>A0A009G3H3</td>\n",
       "      <td>1310609.0</td>\n",
       "      <td>&lt;zoonosis_helper_functions.FASTASeq object at ...</td>\n",
       "    </tr>\n",
       "    <tr>\n",
       "      <th>146717</th>\n",
       "      <td>A0A009GC36</td>\n",
       "      <td>470.0</td>\n",
       "      <td>&lt;zoonosis_helper_functions.FASTASeq object at ...</td>\n",
       "    </tr>\n",
       "    <tr>\n",
       "      <th>146730</th>\n",
       "      <td>A0A009GCG0</td>\n",
       "      <td>470.0</td>\n",
       "      <td>&lt;zoonosis_helper_functions.FASTASeq object at ...</td>\n",
       "    </tr>\n",
       "    <tr>\n",
       "      <th>144753</th>\n",
       "      <td>A0A009GXT7</td>\n",
       "      <td>1310609.0</td>\n",
       "      <td>&lt;zoonosis_helper_functions.FASTASeq object at ...</td>\n",
       "    </tr>\n",
       "  </tbody>\n",
       "</table>\n",
       "</div>"
      ],
      "text/plain": [
       "             Entry  Species taxonomic ID  \\\n",
       "50368   A0A009FEK4                 470.0   \n",
       "156673  A0A009G3H3             1310609.0   \n",
       "146717  A0A009GC36                 470.0   \n",
       "146730  A0A009GCG0                 470.0   \n",
       "144753  A0A009GXT7             1310609.0   \n",
       "\n",
       "                                                 Sequence  \n",
       "50368   <zoonosis_helper_functions.FASTASeq object at ...  \n",
       "156673  <zoonosis_helper_functions.FASTASeq object at ...  \n",
       "146717  <zoonosis_helper_functions.FASTASeq object at ...  \n",
       "146730  <zoonosis_helper_functions.FASTASeq object at ...  \n",
       "144753  <zoonosis_helper_functions.FASTASeq object at ...  "
      ]
     },
     "execution_count": 122,
     "metadata": {},
     "output_type": "execute_result"
    }
   ],
   "source": [
    "dff.head()"
   ]
  },
  {
   "cell_type": "code",
   "execution_count": null,
   "metadata": {},
   "outputs": [],
   "source": [
    "df.drop(['Virus host name', 'Protein names', 'Species superkingdom'], axis=1, inplace=True)"
   ]
  },
  {
   "cell_type": "code",
   "execution_count": null,
   "metadata": {},
   "outputs": [],
   "source": [
    "df = df.merge(dff, on='Species taxonomic ID', how='left')"
   ]
  },
  {
   "cell_type": "code",
   "execution_count": null,
   "metadata": {},
   "outputs": [],
   "source": [
    "del dff, df2"
   ]
  },
  {
   "cell_type": "code",
   "execution_count": null,
   "metadata": {},
   "outputs": [],
   "source": [
    "df.shape"
   ]
  },
  {
   "cell_type": "code",
   "execution_count": null,
   "metadata": {},
   "outputs": [],
   "source": [
    "df.drop_duplicates(inplace=True)"
   ]
  },
  {
   "cell_type": "code",
   "execution_count": null,
   "metadata": {},
   "outputs": [],
   "source": [
    "df.shape"
   ]
  },
  {
   "cell_type": "code",
   "execution_count": null,
   "metadata": {},
   "outputs": [],
   "source": [
    "df['Virus hosts ID'] = df['Virus hosts ID'].apply(str)"
   ]
  },
  {
   "cell_type": "markdown",
   "metadata": {},
   "source": [
    "###### Group by Entry and aggregate using set function to avoid duplication\n",
    "df = (df.groupby('Entry', as_index=False)\n",
    "       .agg({'Virus hosts':set, #'Protein':'first', \n",
    "             'Infects human':'first', 'Species name':'first',\n",
    "             'Host superkingdom':set,\n",
    "             'Host kingdom':set,\n",
    "             'Virus hosts ID':set,\n",
    "             'Species family':'first',\n",
    "             'Species taxonomic ID':'first',\n",
    "             'Sequence': 'first'}))\n",
    "\n",
    "df['Virus hosts'] = (df['Virus hosts']\n",
    "                     .swifter.progress_bar(enable=True,\n",
    "                                           desc='Joining host names list')\n",
    "                     .apply('; '.join))\n",
    "df['Virus hosts ID'] = (df['Virus hosts ID']\n",
    "                        .swifter.progress_bar(enable=True,\n",
    "                                              desc='Joining host IDs')\n",
    "                        .apply('; '.join))\n",
    "df['Host kingdom'] = (df['Host kingdom']\n",
    "                      .swifter.progress_bar(enable=True,\n",
    "                                            desc='Joining host kingdom names')\n",
    "                      .apply('; '.join))\n",
    "df['Host superkingdom'] = (df['Host superkingdom']\n",
    "                           .swifter.progress_bar(enable=True,\n",
    "                                                 desc='Joining host superkingdom names')\n",
    "                           .apply('; '.join))enable"
   ]
  },
  {
   "cell_type": "code",
   "execution_count": null,
   "metadata": {},
   "outputs": [],
   "source": [
    "# Group by Entry and aggregate using set function to avoid duplication\n",
    "df = (df.groupby('Entry', as_index=False)\n",
    "       .agg({'Virus hosts':set, #'Protein':set, \n",
    "             'Infects human':set, 'Species name':set,\n",
    "             'Host superkingdom':set,\n",
    "             'Host kingdom':set,\n",
    "             'Virus hosts ID':set,\n",
    "             'Species family':set,\n",
    "             'Species taxonomic ID':set,\n",
    "             'Sequence': set}))\n",
    "\n",
    "df[:, 1:] = df[:, 1:].swifter.applymap('; '.join)"
   ]
  },
  {
   "cell_type": "code",
   "execution_count": null,
   "metadata": {},
   "outputs": [],
   "source": [
    "df.shape"
   ]
  },
  {
   "cell_type": "code",
   "execution_count": null,
   "metadata": {
    "scrolled": true,
    "tags": []
   },
   "outputs": [],
   "source": [
    "# Get additional sequence info from the dataset\n",
    "df['Sequence'] = df.progress_apply(lambda x: getSequenceFeatures(\n",
    "    seqObj=x['Sequence'], entry=x['Entry'],\n",
    "    organism=x['Species name'], status=x['Infects human']), axis=1)"
   ]
  },
  {
   "cell_type": "markdown",
   "metadata": {},
   "source": [
    "<a id=\"protein-names-from-sequence\"></a>"
   ]
  },
  {
   "cell_type": "code",
   "execution_count": null,
   "metadata": {},
   "outputs": [],
   "source": [
    "df['Protein'] = df['Sequence'].apply(lambda x: x.protein_name)"
   ]
  },
  {
   "cell_type": "code",
   "execution_count": null,
   "metadata": {},
   "outputs": [],
   "source": [
    "df.sample(3)"
   ]
  },
  {
   "cell_type": "code",
   "execution_count": null,
   "metadata": {},
   "outputs": [],
   "source": [
    "df[df['Infects human'] == 'human-true'].shape"
   ]
  },
  {
   "cell_type": "code",
   "execution_count": null,
   "metadata": {},
   "outputs": [],
   "source": [
    "df[df['Infects human'] == 'human-false'].shape"
   ]
  },
  {
   "cell_type": "code",
   "execution_count": null,
   "metadata": {},
   "outputs": [],
   "source": [
    "# Sequences loaded earlier from NCBI Virus ###Add Molecule type\n",
    "dfff.rename({'Species ID': 'Species taxonomic ID', 'Molecule_type': 'Molecule type'}, axis=1, inplace=True)\n",
    "dfff.head()"
   ]
  },
  {
   "cell_type": "code",
   "execution_count": null,
   "metadata": {},
   "outputs": [],
   "source": [
    "df['Species taxonomic ID'] = df['Species taxonomic ID'].apply(int)"
   ]
  },
  {
   "cell_type": "code",
   "execution_count": null,
   "metadata": {},
   "outputs": [],
   "source": [
    "df = df.merge(dfff[['Species taxonomic ID', 'Molecule type']], how='left', on='Species taxonomic ID')"
   ]
  },
  {
   "cell_type": "code",
   "execution_count": null,
   "metadata": {},
   "outputs": [],
   "source": [
    "df.shape"
   ]
  },
  {
   "cell_type": "code",
   "execution_count": null,
   "metadata": {},
   "outputs": [],
   "source": [
    "df.drop_duplicates(inplace=True)"
   ]
  },
  {
   "cell_type": "code",
   "execution_count": null,
   "metadata": {},
   "outputs": [],
   "source": [
    "df.shape"
   ]
  },
  {
   "cell_type": "code",
   "execution_count": null,
   "metadata": {},
   "outputs": [],
   "source": [
    "del dfff"
   ]
  },
  {
   "cell_type": "markdown",
   "metadata": {},
   "source": [
    "## Reorganise dataframe"
   ]
  },
  {
   "cell_type": "code",
   "execution_count": null,
   "metadata": {},
   "outputs": [],
   "source": [
    "df = df[['Entry', 'Protein', 'Species name', \n",
    "         'Species taxonomic ID', 'Species family', 'Virus hosts',\n",
    "         'Virus hosts ID', 'Host kingdom', \n",
    "         'Host superkingdom', 'Molecule type', 'Infects human', 'Sequence']]"
   ]
  },
  {
   "cell_type": "code",
   "execution_count": null,
   "metadata": {},
   "outputs": [],
   "source": [
    "df.sample(3)"
   ]
  },
  {
   "cell_type": "markdown",
   "metadata": {},
   "source": [
    "## Split Dataframe to multiple datasets"
   ]
  },
  {
   "cell_type": "code",
   "execution_count": null,
   "metadata": {},
   "outputs": [],
   "source": [
    "df['Host superkingdom'].unique()"
   ]
  },
  {
   "cell_type": "code",
   "execution_count": null,
   "metadata": {
    "scrolled": true,
    "tags": []
   },
   "outputs": [],
   "source": [
    "df['Host kingdom'].unique()"
   ]
  },
  {
   "cell_type": "code",
   "execution_count": null,
   "metadata": {},
   "outputs": [],
   "source": [
    "df[(df['Host kingdom'].str.contains('Viridiplantae')) | df['Virus hosts'].str.contains('[Hh]omo [Ss]apiens')].shape"
   ]
  },
  {
   "cell_type": "code",
   "execution_count": null,
   "metadata": {},
   "outputs": [],
   "source": [
    "df['Molecule type'] = np.where(df['Molecule type'].isna(), '', df['Molecule type'])"
   ]
  },
  {
   "cell_type": "code",
   "execution_count": null,
   "metadata": {},
   "outputs": [],
   "source": [
    "df[df['Molecule type'].isna()]"
   ]
  },
  {
   "cell_type": "code",
   "execution_count": null,
   "metadata": {},
   "outputs": [],
   "source": [
    "df[df['Host kingdom'].str.contains('Metazoa')][df[df['Host kingdom'].str.contains('Metazoa')]['Molecule type'].str.contains('DNA')].shape"
   ]
  },
  {
   "cell_type": "code",
   "execution_count": null,
   "metadata": {},
   "outputs": [],
   "source": [
    "df[df['Host kingdom'].str.contains('Metazoa')][df[df['Host kingdom'].str.contains('Metazoa')]['Molecule type'].str.contains('RNA')].shape"
   ]
  },
  {
   "cell_type": "code",
   "execution_count": null,
   "metadata": {},
   "outputs": [],
   "source": [
    "df.shape"
   ]
  },
  {
   "cell_type": "code",
   "execution_count": null,
   "metadata": {},
   "outputs": [],
   "source": [
    "df[~df['Host kingdom'].str.contains('Metazoa')].shape"
   ]
  },
  {
   "cell_type": "code",
   "execution_count": null,
   "metadata": {},
   "outputs": [],
   "source": [
    "df[(df['Host superkingdom'].isin(['Bacteria', 'Viruses', 'Archaea'])) | (df['Virus hosts'].str.contains('[Hh]omo [Ss]apiens'))].shape"
   ]
  },
  {
   "cell_type": "code",
   "execution_count": null,
   "metadata": {},
   "outputs": [],
   "source": [
    "unfiltered = df\n",
    "metazoa = df[df['Host kingdom'].str.contains('Metazoa')]\n",
    "plant_human = df[(df['Host kingdom'].str.contains('Viridiplantae')) | df['Virus hosts'].str.contains('[Hh]omo [Ss]apiens')]\n",
    "NonEukaryote_Human = df[(df['Host superkingdom'].isin(['Bacteria', 'Viruses', 'Archaea'])) | (df['Virus hosts'].str.contains('[Hh]omo [Ss]apiens'))]\n",
    "DNA_MetazoaZoonosis = metazoa[metazoa['Molecule type'].str.contains('DNA')]\n",
    "RNA_MetazoaZoonosis = metazoa[metazoa['Molecule type'].str.contains('RNA')]"
   ]
  },
  {
   "cell_type": "code",
   "execution_count": null,
   "metadata": {},
   "outputs": [],
   "source": [
    "def check_dist(df):\n",
    "    true_count = df[df['Infects human'].str.contains('true')].shape[0]\n",
    "    false_count = df[df['Infects human'].str.contains('false')].shape[0]\n",
    "    imb = (false_count/true_count)\n",
    "    print('The minoity class is %.2f of the majority\\nhuman-true == %d and human false == %d\\n' % (imb, true_count, false_count))"
   ]
  },
  {
   "cell_type": "code",
   "execution_count": null,
   "metadata": {},
   "outputs": [],
   "source": [
    "dataframes = [metazoa, unfiltered, plant_human, NonEukaryote_Human, DNA_MetazoaZoonosis, RNA_MetazoaZoonosis]\n",
    "for dt in dataframes:\n",
    "    check_dist(dt)"
   ]
  },
  {
   "cell_type": "markdown",
   "metadata": {},
   "source": [
    "## Random Undersampling of datasets"
   ]
  },
  {
   "cell_type": "code",
   "execution_count": null,
   "metadata": {},
   "outputs": [],
   "source": [
    "seed = 960505"
   ]
  },
  {
   "cell_type": "code",
   "execution_count": null,
   "metadata": {},
   "outputs": [],
   "source": [
    "# Undersample majority class such that minority class (human-false) is 60% of the majority class (human-true317316)\n",
    "rus = RandomUnderSampler(sampling_strategy=0.6, random_state=seed)\n",
    "sampled_dataframes = []\n",
    "for dt in dataframes:\n",
    "    clas = dt['Infects human']\n",
    "#     print('Dataframe before sampling: ', dt.shape[0])\n",
    "    dt, _ = rus.fit_resample(dt, clas)\n",
    "    sampled_dataframes.append(dt)\n",
    "    check_dist(dt)\n",
    "#     print('Dataframe after sampling: ', dt.shape[0])"
   ]
  },
  {
   "cell_type": "markdown",
   "metadata": {},
   "source": [
    "## Write file sequences to fasta for feature extraction"
   ]
  },
  {
   "cell_type": "code",
   "execution_count": 181,
   "metadata": {},
   "outputs": [],
   "source": [
    "metazoaFile = 'MetazoaZoonosis'\n",
    "plant_humanFile = 'Plant-HumanZoonosis'\n",
    "unfilteredFile = 'Zoonosis'\n",
    "NonEukaryote_HumanFile = 'NonEukaryote-Human'\n",
    "DNA_metazoaFile = 'DNA-MetazoaZoonosis'\n",
    "RNA_metazoaFile = 'RNA-MetazoaZoonosis'"
   ]
  },
  {
   "cell_type": "code",
   "execution_count": 182,
   "metadata": {},
   "outputs": [],
   "source": [
    "dirs = ['MetazoaZoonosisData', 'ZoonosisData',\n",
    "        'Plant-HumanZoonosisData', 'NonEukaryote-HumanData',\n",
    "        'DNA-MetazoaZoonosisData', 'RNA-MetazoaZoonosisData']\n",
    "dirs = [os.path.join('../data/', fol) for fol in dirs] # Do not include in script\n",
    "files = [metazoaFile, unfilteredFile, plant_humanFile, NonEukaryote_HumanFile, DNA_metazoaFile, RNA_metazoaFile]\n",
    "toSave = list(zip(sampled_dataframes, files, dirs))"
   ]
  },
  {
   "cell_type": "markdown",
   "metadata": {},
   "source": [
    "<a id=\"splits\"></a>"
   ]
  },
  {
   "cell_type": "code",
   "execution_count": 185,
   "metadata": {},
   "outputs": [
    {
     "name": "stdout",
     "output_type": "stream",
     "text": [
      "Done with ../data/MetazoaZoonosisData\n",
      "Done with ../data/ZoonosisData\n",
      "Done with ../data/Plant-HumanZoonosisData\n",
      "Done with ../data/NonEukaryote-HumanData\n",
      "Done with ../data/DNA-MetazoaZoonosisData\n",
      "Done with ../data/RNA-MetazoaZoonosisData\n"
     ]
    }
   ],
   "source": [
    "for dff, file, folder in toSave:\n",
    "#    save dataframes as csv\n",
    "    dff.drop('Sequence', axis=1).to_csv(f'{folder}/{file}Data.csv.gz', index=False, compression='gzip')\n",
    "    \n",
    "#    Create subdirectories\n",
    "    os.makedirs(os.path.join(folder, 'train/human-true'), exist_ok=True)\n",
    "    os.makedirs(os.path.join(folder, 'test/human-true'), exist_ok=True)\n",
    "    os.makedirs(os.path.join(folder, 'train/human-false'), exist_ok=True)\n",
    "    os.makedirs(os.path.join(folder, 'test/human-false'), exist_ok=True)\n",
    "#    Split data to train and test data\n",
    "    train, test = train_test_split(dff, test_size=0.2, random_state=) # Will further split 15% of train as validation during training\n",
    "#    Save test and train sequences\n",
    "    save_sequences(train, f'{folder}/train/Sequences') # Will move to subdirectories after feature extraction\n",
    "    save_sequences(test, f'{folder}/test/Sequences')\n",
    "    \n",
    "    print('Done with', folder)"
   ]
  },
  {
   "cell_type": "code",
   "execution_count": null,
   "metadata": {},
   "outputs": [],
   "source": []
  }
 ],
 "metadata": {
  "kernelspec": {
   "display_name": "Deep Learning",
   "language": "python",
   "name": "deep_learning_kernel"
  },
  "language_info": {
   "codemirror_mode": {
    "name": "ipython",
    "version": 3
   },
   "file_extension": ".py",
   "mimetype": "text/x-python",
   "name": "python",
   "nbconvert_exporter": "python",
   "pygments_lexer": "ipython3",
   "version": "3.7.8"
  },
  "metadata": {
   "interpreter": {
    "hash": "d1fca8d20300d410c8f6acb40a2d9646a273de74113c44fe1a7d9f677162ff7e"
   }
  }
 },
 "nbformat": 4,
 "nbformat_minor": 4
}
