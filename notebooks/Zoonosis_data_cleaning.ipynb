{
 "cells": [
  {
   "cell_type": "markdown",
   "metadata": {},
   "source": [
    "## Packages"
   ]
  },
  {
   "cell_type": "code",
   "execution_count": 2,
   "metadata": {},
   "outputs": [],
   "source": [
    "# Import all necesssary modules\n",
    "import pandas as pd\n",
    "import swifter\n",
    "import numpy as np\n",
    "import matplotlib.pyplot as plt\n",
    "%matplotlib inline\n",
    "import seaborn as sns\n",
    "from sklearn.model_selection import train_test_split\n",
    "from imblearn.under_sampling import RandomUnderSampler\n",
    "import re\n",
    "import os\n",
    "from ete3 import NCBITaxa\n",
    "from pprint import pprint\n",
    "from tqdm.notebook import tqdm_notebook, tqdm\n",
    "# import warnings\n",
    "# warnings.filterwarnings(\"ignore\", category=UserWarning)\n",
    "from zoonosis_helper_functions import *"
   ]
  },
  {
   "cell_type": "markdown",
   "metadata": {},
   "source": [
    "### Configure Progress bar and Modin Pandas Engine"
   ]
  },
  {
   "cell_type": "code",
   "execution_count": 3,
   "metadata": {},
   "outputs": [],
   "source": [
    "tqdm.pandas(desc='Processing')\n",
    "os.environ[\"MODIN_ENGINE\"] = \"ray\""
   ]
  },
  {
   "cell_type": "markdown",
   "metadata": {},
   "source": [
    "## Data Processing"
   ]
  },
  {
   "cell_type": "code",
   "execution_count": 4,
   "metadata": {},
   "outputs": [],
   "source": [
    "# Load dataset downloaded from Uniprot\n",
    "df = pd.read_table('../data/uniprot-keyword Virus+entry+into+host+cell+[KW-1160] +fragment no.tab.gz')"
   ]
  },
  {
   "cell_type": "code",
   "execution_count": 5,
   "metadata": {},
   "outputs": [
    {
     "data": {
      "text/plain": [
       "(358333, 9)"
      ]
     },
     "execution_count": 5,
     "metadata": {},
     "output_type": "execute_result"
    }
   ],
   "source": [
    "df.shape"
   ]
  },
  {
   "cell_type": "code",
   "execution_count": 6,
   "metadata": {},
   "outputs": [
    {
     "data": {
      "text/html": [
       "<div>\n",
       "<style scoped>\n",
       "    .dataframe tbody tr th:only-of-type {\n",
       "        vertical-align: middle;\n",
       "    }\n",
       "\n",
       "    .dataframe tbody tr th {\n",
       "        vertical-align: top;\n",
       "    }\n",
       "\n",
       "    .dataframe thead th {\n",
       "        text-align: right;\n",
       "    }\n",
       "</style>\n",
       "<table border=\"1\" class=\"dataframe\">\n",
       "  <thead>\n",
       "    <tr style=\"text-align: right;\">\n",
       "      <th></th>\n",
       "      <th>Entry</th>\n",
       "      <th>Entry name</th>\n",
       "      <th>Status</th>\n",
       "      <th>Protein names</th>\n",
       "      <th>Organism</th>\n",
       "      <th>Length</th>\n",
       "      <th>Taxonomic lineage IDs</th>\n",
       "      <th>Taxonomic lineage (SPECIES)</th>\n",
       "      <th>Virus hosts</th>\n",
       "    </tr>\n",
       "  </thead>\n",
       "  <tbody>\n",
       "    <tr>\n",
       "      <th>187842</th>\n",
       "      <td>A0A172S793</td>\n",
       "      <td>A0A172S793_9INFA</td>\n",
       "      <td>unreviewed</td>\n",
       "      <td>Nucleoprotein (Nucleocapsid protein) (Protein N)</td>\n",
       "      <td>Influenza A virus (A/Alaska/96/2015(H3N2))</td>\n",
       "      <td>498</td>\n",
       "      <td>1823807</td>\n",
       "      <td>Influenza A virus</td>\n",
       "      <td>NaN</td>\n",
       "    </tr>\n",
       "    <tr>\n",
       "      <th>306927</th>\n",
       "      <td>A0A3G5PFR5</td>\n",
       "      <td>A0A3G5PFR5_9HIV1</td>\n",
       "      <td>unreviewed</td>\n",
       "      <td>Envelope glycoprotein gp160 (Env polyprotein) ...</td>\n",
       "      <td>Human immunodeficiency virus 1</td>\n",
       "      <td>867</td>\n",
       "      <td>11676</td>\n",
       "      <td>Human immunodeficiency virus 1</td>\n",
       "      <td>Homo sapiens (Human) [TaxID: 9606]</td>\n",
       "    </tr>\n",
       "    <tr>\n",
       "      <th>319781</th>\n",
       "      <td>Q3ZJ94</td>\n",
       "      <td>Q3ZJ94_9HIV1</td>\n",
       "      <td>unreviewed</td>\n",
       "      <td>Envelope glycoprotein gp160 (Env polyprotein) ...</td>\n",
       "      <td>Human immunodeficiency virus 1</td>\n",
       "      <td>861</td>\n",
       "      <td>11676</td>\n",
       "      <td>Human immunodeficiency virus 1</td>\n",
       "      <td>Homo sapiens (Human) [TaxID: 9606]</td>\n",
       "    </tr>\n",
       "  </tbody>\n",
       "</table>\n",
       "</div>"
      ],
      "text/plain": [
       "             Entry        Entry name      Status  \\\n",
       "187842  A0A172S793  A0A172S793_9INFA  unreviewed   \n",
       "306927  A0A3G5PFR5  A0A3G5PFR5_9HIV1  unreviewed   \n",
       "319781      Q3ZJ94      Q3ZJ94_9HIV1  unreviewed   \n",
       "\n",
       "                                            Protein names  \\\n",
       "187842   Nucleoprotein (Nucleocapsid protein) (Protein N)   \n",
       "306927  Envelope glycoprotein gp160 (Env polyprotein) ...   \n",
       "319781  Envelope glycoprotein gp160 (Env polyprotein) ...   \n",
       "\n",
       "                                          Organism  Length  \\\n",
       "187842  Influenza A virus (A/Alaska/96/2015(H3N2))     498   \n",
       "306927              Human immunodeficiency virus 1     867   \n",
       "319781              Human immunodeficiency virus 1     861   \n",
       "\n",
       "        Taxonomic lineage IDs     Taxonomic lineage (SPECIES)  \\\n",
       "187842                1823807               Influenza A virus   \n",
       "306927                  11676  Human immunodeficiency virus 1   \n",
       "319781                  11676  Human immunodeficiency virus 1   \n",
       "\n",
       "                               Virus hosts  \n",
       "187842                                 NaN  \n",
       "306927  Homo sapiens (Human) [TaxID: 9606]  \n",
       "319781  Homo sapiens (Human) [TaxID: 9606]  "
      ]
     },
     "execution_count": 6,
     "metadata": {},
     "output_type": "execute_result"
    }
   ],
   "source": [
    "df.sample(3)"
   ]
  },
  {
   "cell_type": "code",
   "execution_count": 7,
   "metadata": {},
   "outputs": [
    {
     "name": "stdout",
     "output_type": "stream",
     "text": [
      "(237573, 9)\n"
     ]
    },
    {
     "data": {
      "text/html": [
       "<div>\n",
       "<style scoped>\n",
       "    .dataframe tbody tr th:only-of-type {\n",
       "        vertical-align: middle;\n",
       "    }\n",
       "\n",
       "    .dataframe tbody tr th {\n",
       "        vertical-align: top;\n",
       "    }\n",
       "\n",
       "    .dataframe thead th {\n",
       "        text-align: right;\n",
       "    }\n",
       "</style>\n",
       "<table border=\"1\" class=\"dataframe\">\n",
       "  <thead>\n",
       "    <tr style=\"text-align: right;\">\n",
       "      <th></th>\n",
       "      <th>Entry</th>\n",
       "      <th>Entry name</th>\n",
       "      <th>Status</th>\n",
       "      <th>Protein names</th>\n",
       "      <th>Organism</th>\n",
       "      <th>Length</th>\n",
       "      <th>Taxonomic lineage IDs</th>\n",
       "      <th>Taxonomic lineage (SPECIES)</th>\n",
       "      <th>Virus hosts</th>\n",
       "    </tr>\n",
       "  </thead>\n",
       "  <tbody>\n",
       "    <tr>\n",
       "      <th>214496</th>\n",
       "      <td>A0A0U4TXV9</td>\n",
       "      <td>A0A0U4TXV9_9INFA</td>\n",
       "      <td>unreviewed</td>\n",
       "      <td>Nucleoprotein (Nucleocapsid protein) (Protein N)</td>\n",
       "      <td>Influenza A virus (A/swine/Manitoba/D0094/2012...</td>\n",
       "      <td>498</td>\n",
       "      <td>1761567</td>\n",
       "      <td>Influenza A virus</td>\n",
       "      <td>NaN</td>\n",
       "    </tr>\n",
       "    <tr>\n",
       "      <th>118468</th>\n",
       "      <td>C6KMU6</td>\n",
       "      <td>C6KMU6_9INFA</td>\n",
       "      <td>unreviewed</td>\n",
       "      <td>Hemagglutinin [Cleaved into: Hemagglutinin HA1...</td>\n",
       "      <td>Influenza A virus (A/Shiga/2/2009(H1N1))</td>\n",
       "      <td>566</td>\n",
       "      <td>653950</td>\n",
       "      <td>Influenza A virus</td>\n",
       "      <td>NaN</td>\n",
       "    </tr>\n",
       "    <tr>\n",
       "      <th>53664</th>\n",
       "      <td>A0A514CZT4</td>\n",
       "      <td>A0A514CZT4_9VIRU</td>\n",
       "      <td>unreviewed</td>\n",
       "      <td>Uncharacterized protein</td>\n",
       "      <td>Leviviridae sp.</td>\n",
       "      <td>422</td>\n",
       "      <td>2027243</td>\n",
       "      <td>Leviviridae sp.</td>\n",
       "      <td>NaN</td>\n",
       "    </tr>\n",
       "  </tbody>\n",
       "</table>\n",
       "</div>"
      ],
      "text/plain": [
       "             Entry        Entry name      Status  \\\n",
       "214496  A0A0U4TXV9  A0A0U4TXV9_9INFA  unreviewed   \n",
       "118468      C6KMU6      C6KMU6_9INFA  unreviewed   \n",
       "53664   A0A514CZT4  A0A514CZT4_9VIRU  unreviewed   \n",
       "\n",
       "                                            Protein names  \\\n",
       "214496   Nucleoprotein (Nucleocapsid protein) (Protein N)   \n",
       "118468  Hemagglutinin [Cleaved into: Hemagglutinin HA1...   \n",
       "53664                             Uncharacterized protein   \n",
       "\n",
       "                                                 Organism  Length  \\\n",
       "214496  Influenza A virus (A/swine/Manitoba/D0094/2012...     498   \n",
       "118468           Influenza A virus (A/Shiga/2/2009(H1N1))     566   \n",
       "53664                                     Leviviridae sp.     422   \n",
       "\n",
       "        Taxonomic lineage IDs Taxonomic lineage (SPECIES) Virus hosts  \n",
       "214496                1761567           Influenza A virus         NaN  \n",
       "118468                 653950           Influenza A virus         NaN  \n",
       "53664                 2027243             Leviviridae sp.         NaN  "
      ]
     },
     "execution_count": 7,
     "metadata": {},
     "output_type": "execute_result"
    }
   ],
   "source": [
    "# Check for missing host names\n",
    "print(df[df['Virus hosts'].isnull()].shape)\n",
    "df[df['Virus hosts'].isnull()].sample(3)"
   ]
  },
  {
   "cell_type": "code",
   "execution_count": 8,
   "metadata": {},
   "outputs": [
    {
     "data": {
      "text/plain": [
       "1518"
      ]
     },
     "execution_count": 8,
     "metadata": {},
     "output_type": "execute_result"
    }
   ],
   "source": [
    "df[df['Status'] == 'reviewed']['Organism'].nunique()"
   ]
  },
  {
   "cell_type": "code",
   "execution_count": 9,
   "metadata": {},
   "outputs": [
    {
     "data": {
      "text/plain": [
       "321"
      ]
     },
     "execution_count": 9,
     "metadata": {},
     "output_type": "execute_result"
    }
   ],
   "source": [
    "df[df['Status'] == 'reviewed']['Virus hosts'].nunique()"
   ]
  },
  {
   "cell_type": "code",
   "execution_count": 10,
   "metadata": {},
   "outputs": [
    {
     "data": {
      "text/plain": [
       "100216"
      ]
     },
     "execution_count": 10,
     "metadata": {},
     "output_type": "execute_result"
    }
   ],
   "source": [
    "df['Organism'].nunique()"
   ]
  },
  {
   "cell_type": "code",
   "execution_count": 11,
   "metadata": {},
   "outputs": [
    {
     "data": {
      "text/plain": [
       "373"
      ]
     },
     "execution_count": 11,
     "metadata": {},
     "output_type": "execute_result"
    }
   ],
   "source": [
    "df['Virus hosts'].nunique()"
   ]
  },
  {
   "cell_type": "code",
   "execution_count": 12,
   "metadata": {},
   "outputs": [
    {
     "data": {
      "text/plain": [
       "100216"
      ]
     },
     "execution_count": 12,
     "metadata": {},
     "output_type": "execute_result"
    }
   ],
   "source": [
    "df['Taxonomic lineage IDs'].nunique()"
   ]
  },
  {
   "cell_type": "code",
   "execution_count": 13,
   "metadata": {},
   "outputs": [
    {
     "data": {
      "text/plain": [
       "99095"
      ]
     },
     "execution_count": 13,
     "metadata": {},
     "output_type": "execute_result"
    }
   ],
   "source": [
    "df[df['Status'] == 'unreviewed']['Taxonomic lineage IDs'].nunique()"
   ]
  },
  {
   "cell_type": "code",
   "execution_count": 14,
   "metadata": {},
   "outputs": [
    {
     "data": {
      "text/plain": [
       "99095"
      ]
     },
     "execution_count": 14,
     "metadata": {},
     "output_type": "execute_result"
    }
   ],
   "source": [
    "df[df['Status'] == 'unreviewed']['Organism'].nunique()"
   ]
  },
  {
   "cell_type": "code",
   "execution_count": 15,
   "metadata": {},
   "outputs": [
    {
     "data": {
      "text/plain": [
       "200"
      ]
     },
     "execution_count": 15,
     "metadata": {},
     "output_type": "execute_result"
    }
   ],
   "source": [
    "df[df['Status'] == 'unreviewed']['Virus hosts'].nunique()"
   ]
  },
  {
   "cell_type": "code",
   "execution_count": 16,
   "metadata": {},
   "outputs": [],
   "source": [
    "## Replace N/A columns with an empty string... prevents errors with column wide string operations\n",
    "\n",
    "df['Virus hosts'] = np.where(df['Virus hosts'].isnull(), '',df['Virus hosts'])"
   ]
  },
  {
   "cell_type": "code",
   "execution_count": 17,
   "metadata": {},
   "outputs": [
    {
     "data": {
      "text/html": [
       "<div>\n",
       "<style scoped>\n",
       "    .dataframe tbody tr th:only-of-type {\n",
       "        vertical-align: middle;\n",
       "    }\n",
       "\n",
       "    .dataframe tbody tr th {\n",
       "        vertical-align: top;\n",
       "    }\n",
       "\n",
       "    .dataframe thead th {\n",
       "        text-align: right;\n",
       "    }\n",
       "</style>\n",
       "<table border=\"1\" class=\"dataframe\">\n",
       "  <thead>\n",
       "    <tr style=\"text-align: right;\">\n",
       "      <th></th>\n",
       "      <th>Entry</th>\n",
       "      <th>Entry name</th>\n",
       "      <th>Status</th>\n",
       "      <th>Protein names</th>\n",
       "      <th>Organism</th>\n",
       "      <th>Length</th>\n",
       "      <th>Taxonomic lineage IDs</th>\n",
       "      <th>Taxonomic lineage (SPECIES)</th>\n",
       "      <th>Virus hosts</th>\n",
       "    </tr>\n",
       "  </thead>\n",
       "  <tbody>\n",
       "    <tr>\n",
       "      <th>79672</th>\n",
       "      <td>A0A2K9VMX7</td>\n",
       "      <td>A0A2K9VMX7_9CAUD</td>\n",
       "      <td>unreviewed</td>\n",
       "      <td>Tail sheath protein</td>\n",
       "      <td>Shigella phage Sf21</td>\n",
       "      <td>659</td>\n",
       "      <td>2024308</td>\n",
       "      <td>Shigella virus Sf21</td>\n",
       "      <td></td>\n",
       "    </tr>\n",
       "    <tr>\n",
       "      <th>115923</th>\n",
       "      <td>A0A097PGT4</td>\n",
       "      <td>A0A097PGT4_9INFA</td>\n",
       "      <td>unreviewed</td>\n",
       "      <td>Hemagglutinin [Cleaved into: Hemagglutinin HA1...</td>\n",
       "      <td>Influenza A virus (A/Virginia/13/2014(H3))</td>\n",
       "      <td>566</td>\n",
       "      <td>1561675</td>\n",
       "      <td>Influenza A virus</td>\n",
       "      <td></td>\n",
       "    </tr>\n",
       "    <tr>\n",
       "      <th>91741</th>\n",
       "      <td>C7DN73</td>\n",
       "      <td>C7DN73_HBV</td>\n",
       "      <td>unreviewed</td>\n",
       "      <td>Capsid protein (Core antigen) (Core protein) (...</td>\n",
       "      <td>Hepatitis B virus (HBV)</td>\n",
       "      <td>212</td>\n",
       "      <td>10407</td>\n",
       "      <td>Hepatitis B virus (HBV)</td>\n",
       "      <td>Homo sapiens (Human) [TaxID: 9606]; Pan troglo...</td>\n",
       "    </tr>\n",
       "    <tr>\n",
       "      <th>223671</th>\n",
       "      <td>Q0A2A6</td>\n",
       "      <td>Q0A2A6_9INFA</td>\n",
       "      <td>unreviewed</td>\n",
       "      <td>Nucleoprotein (Nucleocapsid protein) (Protein N)</td>\n",
       "      <td>Influenza A virus (A/ruddy turnstone/Delaware/...</td>\n",
       "      <td>498</td>\n",
       "      <td>402531</td>\n",
       "      <td>Influenza A virus</td>\n",
       "      <td></td>\n",
       "    </tr>\n",
       "    <tr>\n",
       "      <th>327064</th>\n",
       "      <td>A0A410SW33</td>\n",
       "      <td>A0A410SW33_9HIV1</td>\n",
       "      <td>unreviewed</td>\n",
       "      <td>Envelope glycoprotein gp160 (Env polyprotein) ...</td>\n",
       "      <td>Human immunodeficiency virus 1</td>\n",
       "      <td>863</td>\n",
       "      <td>11676</td>\n",
       "      <td>Human immunodeficiency virus 1</td>\n",
       "      <td>Homo sapiens (Human) [TaxID: 9606]</td>\n",
       "    </tr>\n",
       "  </tbody>\n",
       "</table>\n",
       "</div>"
      ],
      "text/plain": [
       "             Entry        Entry name      Status  \\\n",
       "79672   A0A2K9VMX7  A0A2K9VMX7_9CAUD  unreviewed   \n",
       "115923  A0A097PGT4  A0A097PGT4_9INFA  unreviewed   \n",
       "91741       C7DN73        C7DN73_HBV  unreviewed   \n",
       "223671      Q0A2A6      Q0A2A6_9INFA  unreviewed   \n",
       "327064  A0A410SW33  A0A410SW33_9HIV1  unreviewed   \n",
       "\n",
       "                                            Protein names  \\\n",
       "79672                                 Tail sheath protein   \n",
       "115923  Hemagglutinin [Cleaved into: Hemagglutinin HA1...   \n",
       "91741   Capsid protein (Core antigen) (Core protein) (...   \n",
       "223671   Nucleoprotein (Nucleocapsid protein) (Protein N)   \n",
       "327064  Envelope glycoprotein gp160 (Env polyprotein) ...   \n",
       "\n",
       "                                                 Organism  Length  \\\n",
       "79672                                 Shigella phage Sf21     659   \n",
       "115923         Influenza A virus (A/Virginia/13/2014(H3))     566   \n",
       "91741                             Hepatitis B virus (HBV)     212   \n",
       "223671  Influenza A virus (A/ruddy turnstone/Delaware/...     498   \n",
       "327064                     Human immunodeficiency virus 1     863   \n",
       "\n",
       "        Taxonomic lineage IDs     Taxonomic lineage (SPECIES)  \\\n",
       "79672                 2024308             Shigella virus Sf21   \n",
       "115923                1561675               Influenza A virus   \n",
       "91741                   10407         Hepatitis B virus (HBV)   \n",
       "223671                 402531               Influenza A virus   \n",
       "327064                  11676  Human immunodeficiency virus 1   \n",
       "\n",
       "                                              Virus hosts  \n",
       "79672                                                      \n",
       "115923                                                     \n",
       "91741   Homo sapiens (Human) [TaxID: 9606]; Pan troglo...  \n",
       "223671                                                     \n",
       "327064                 Homo sapiens (Human) [TaxID: 9606]  "
      ]
     },
     "execution_count": 17,
     "metadata": {},
     "output_type": "execute_result"
    }
   ],
   "source": [
    "df.sample(5)"
   ]
  },
  {
   "cell_type": "code",
   "execution_count": 18,
   "metadata": {},
   "outputs": [],
   "source": [
    "def join_names(df, col_name: str):\n",
    "    df[col_name] = df[col_name].str.split('; ').apply(set).apply('; '.join)\n",
    "    return df"
   ]
  },
  {
   "cell_type": "code",
   "execution_count": 19,
   "metadata": {},
   "outputs": [],
   "source": [
    "# df['Virus hosts'] = df['Virus hosts'].str.split('; ')\n",
    "# df['Virus hosts'] = df['Virus hosts'].swifter.progress_bar(enable=True, desc='Removing duplicate host names').apply(set)\n",
    "# df['Virus hosts'] = df['Virus hosts'].swifter.progress_bar(enable=True, desc='Joining host names list').apply('; '.join)\n",
    "\n",
    "# df['Protein names'] = df['Protein names'].str.split('; ')\n",
    "# df['Protein names'] = df['Protein names'].swifter.progress_bar(enable=True, desc='Removing duplicate protein names').apply(set)\n",
    "# df['Protein names'] = df['Protein names'].swifter.progress_bar(enable=True, desc='Joining protein names list').apply('; '.join)\n",
    "\n",
    "# df['Organism'] = df['Organism'].str.split('; ')\n",
    "# df['Organism'] = df['Organism'].swifter.progress_bar(enable=True, desc='Removing duplicate organism names').apply(set)\n",
    "# df['Organism'] = df['Organism'].swifter.progress_bar(enable=True, desc='Joining organism names list').apply('; '.join)"
   ]
  },
  {
   "cell_type": "code",
   "execution_count": 20,
   "metadata": {},
   "outputs": [],
   "source": [
    "df = join_names(df, 'Virus hosts')\n",
    "df = join_names(df, 'Protein names')\n",
    "df = join_names(df, 'Organism')"
   ]
  },
  {
   "cell_type": "code",
   "execution_count": 21,
   "metadata": {},
   "outputs": [
    {
     "data": {
      "text/html": [
       "<div>\n",
       "<style scoped>\n",
       "    .dataframe tbody tr th:only-of-type {\n",
       "        vertical-align: middle;\n",
       "    }\n",
       "\n",
       "    .dataframe tbody tr th {\n",
       "        vertical-align: top;\n",
       "    }\n",
       "\n",
       "    .dataframe thead th {\n",
       "        text-align: right;\n",
       "    }\n",
       "</style>\n",
       "<table border=\"1\" class=\"dataframe\">\n",
       "  <thead>\n",
       "    <tr style=\"text-align: right;\">\n",
       "      <th></th>\n",
       "      <th>Entry</th>\n",
       "      <th>Entry name</th>\n",
       "      <th>Status</th>\n",
       "      <th>Protein names</th>\n",
       "      <th>Organism</th>\n",
       "      <th>Length</th>\n",
       "      <th>Taxonomic lineage IDs</th>\n",
       "      <th>Taxonomic lineage (SPECIES)</th>\n",
       "      <th>Virus hosts</th>\n",
       "    </tr>\n",
       "  </thead>\n",
       "  <tbody>\n",
       "    <tr>\n",
       "      <th>163789</th>\n",
       "      <td>X2EPX7</td>\n",
       "      <td>X2EPX7_9INFA</td>\n",
       "      <td>unreviewed</td>\n",
       "      <td>Hemagglutinin HA2 chain]; Hemagglutinin [Cleav...</td>\n",
       "      <td>Influenza A virus (A/Chicago/YGA_04110/2012(H3...</td>\n",
       "      <td>566</td>\n",
       "      <td>1427810</td>\n",
       "      <td>Influenza A virus</td>\n",
       "      <td></td>\n",
       "    </tr>\n",
       "    <tr>\n",
       "      <th>190295</th>\n",
       "      <td>Q10TT6</td>\n",
       "      <td>Q10TT6_9INFA</td>\n",
       "      <td>unreviewed</td>\n",
       "      <td>Nucleoprotein (Nucleocapsid protein) (Protein N)</td>\n",
       "      <td>Influenza A virus (A/Wellington/80/2002(H3N2))</td>\n",
       "      <td>498</td>\n",
       "      <td>383179</td>\n",
       "      <td>Influenza A virus</td>\n",
       "      <td></td>\n",
       "    </tr>\n",
       "    <tr>\n",
       "      <th>162924</th>\n",
       "      <td>F8IX17</td>\n",
       "      <td>F8IX17_9INFA</td>\n",
       "      <td>unreviewed</td>\n",
       "      <td>Hemagglutinin HA2 chain]; Hemagglutinin [Cleav...</td>\n",
       "      <td>Influenza A virus (A/peaceful dove/Denpasar/BB...</td>\n",
       "      <td>568</td>\n",
       "      <td>1042013</td>\n",
       "      <td>Influenza A virus</td>\n",
       "      <td></td>\n",
       "    </tr>\n",
       "  </tbody>\n",
       "</table>\n",
       "</div>"
      ],
      "text/plain": [
       "         Entry    Entry name      Status  \\\n",
       "163789  X2EPX7  X2EPX7_9INFA  unreviewed   \n",
       "190295  Q10TT6  Q10TT6_9INFA  unreviewed   \n",
       "162924  F8IX17  F8IX17_9INFA  unreviewed   \n",
       "\n",
       "                                            Protein names  \\\n",
       "163789  Hemagglutinin HA2 chain]; Hemagglutinin [Cleav...   \n",
       "190295   Nucleoprotein (Nucleocapsid protein) (Protein N)   \n",
       "162924  Hemagglutinin HA2 chain]; Hemagglutinin [Cleav...   \n",
       "\n",
       "                                                 Organism  Length  \\\n",
       "163789  Influenza A virus (A/Chicago/YGA_04110/2012(H3...     566   \n",
       "190295     Influenza A virus (A/Wellington/80/2002(H3N2))     498   \n",
       "162924  Influenza A virus (A/peaceful dove/Denpasar/BB...     568   \n",
       "\n",
       "        Taxonomic lineage IDs Taxonomic lineage (SPECIES) Virus hosts  \n",
       "163789                1427810           Influenza A virus              \n",
       "190295                 383179           Influenza A virus              \n",
       "162924                1042013           Influenza A virus              "
      ]
     },
     "execution_count": 21,
     "metadata": {},
     "output_type": "execute_result"
    }
   ],
   "source": [
    "df.sample(3)"
   ]
  },
  {
   "cell_type": "code",
   "execution_count": 22,
   "metadata": {},
   "outputs": [
    {
     "data": {
      "text/html": [
       "<div>\n",
       "<style scoped>\n",
       "    .dataframe tbody tr th:only-of-type {\n",
       "        vertical-align: middle;\n",
       "    }\n",
       "\n",
       "    .dataframe tbody tr th {\n",
       "        vertical-align: top;\n",
       "    }\n",
       "\n",
       "    .dataframe thead th {\n",
       "        text-align: right;\n",
       "    }\n",
       "</style>\n",
       "<table border=\"1\" class=\"dataframe\">\n",
       "  <thead>\n",
       "    <tr style=\"text-align: right;\">\n",
       "      <th></th>\n",
       "      <th>Entry</th>\n",
       "      <th>Entry name</th>\n",
       "      <th>Status</th>\n",
       "      <th>Protein names</th>\n",
       "      <th>Organism</th>\n",
       "      <th>Length</th>\n",
       "      <th>Taxonomic lineage IDs</th>\n",
       "      <th>Taxonomic lineage (SPECIES)</th>\n",
       "      <th>Virus hosts</th>\n",
       "    </tr>\n",
       "  </thead>\n",
       "  <tbody>\n",
       "    <tr>\n",
       "      <th>258631</th>\n",
       "      <td>A0A2H4ZAX9</td>\n",
       "      <td>A0A2H4ZAX9_9VIRU</td>\n",
       "      <td>unreviewed</td>\n",
       "      <td>Pre-glycoprotein polyprotein GP complex (Pre-G...</td>\n",
       "      <td>Wenzhou mammarenavirus</td>\n",
       "      <td>492</td>\n",
       "      <td>1588685</td>\n",
       "      <td>Wenzhou mammarenavirus</td>\n",
       "      <td></td>\n",
       "    </tr>\n",
       "    <tr>\n",
       "      <th>236</th>\n",
       "      <td>A0A1D7SGR6</td>\n",
       "      <td>A0A1D7SGR6_9CAUD</td>\n",
       "      <td>unreviewed</td>\n",
       "      <td>Portal protein (gp20)</td>\n",
       "      <td>Cyanophage S-RIM44</td>\n",
       "      <td>559</td>\n",
       "      <td>1278485</td>\n",
       "      <td>Synechococcus virus SRIM44</td>\n",
       "      <td></td>\n",
       "    </tr>\n",
       "    <tr>\n",
       "      <th>267479</th>\n",
       "      <td>A0A0G2T8B4</td>\n",
       "      <td>A0A0G2T8B4_HCMV</td>\n",
       "      <td>unreviewed</td>\n",
       "      <td>Envelope glycoprotein H (gH)</td>\n",
       "      <td>Human cytomegalovirus (HHV-5) (Human herpesvir...</td>\n",
       "      <td>743</td>\n",
       "      <td>10359</td>\n",
       "      <td>Human cytomegalovirus (HHV-5) (Human herpesvir...</td>\n",
       "      <td>Homo sapiens (Human) [TaxID: 9606]</td>\n",
       "    </tr>\n",
       "  </tbody>\n",
       "</table>\n",
       "</div>"
      ],
      "text/plain": [
       "             Entry        Entry name      Status  \\\n",
       "258631  A0A2H4ZAX9  A0A2H4ZAX9_9VIRU  unreviewed   \n",
       "236     A0A1D7SGR6  A0A1D7SGR6_9CAUD  unreviewed   \n",
       "267479  A0A0G2T8B4   A0A0G2T8B4_HCMV  unreviewed   \n",
       "\n",
       "                                            Protein names  \\\n",
       "258631  Pre-glycoprotein polyprotein GP complex (Pre-G...   \n",
       "236                                 Portal protein (gp20)   \n",
       "267479                       Envelope glycoprotein H (gH)   \n",
       "\n",
       "                                                 Organism  Length  \\\n",
       "258631                             Wenzhou mammarenavirus     492   \n",
       "236                                    Cyanophage S-RIM44     559   \n",
       "267479  Human cytomegalovirus (HHV-5) (Human herpesvir...     743   \n",
       "\n",
       "        Taxonomic lineage IDs  \\\n",
       "258631                1588685   \n",
       "236                   1278485   \n",
       "267479                  10359   \n",
       "\n",
       "                              Taxonomic lineage (SPECIES)  \\\n",
       "258631                             Wenzhou mammarenavirus   \n",
       "236                            Synechococcus virus SRIM44   \n",
       "267479  Human cytomegalovirus (HHV-5) (Human herpesvir...   \n",
       "\n",
       "                               Virus hosts  \n",
       "258631                                      \n",
       "236                                         \n",
       "267479  Homo sapiens (Human) [TaxID: 9606]  "
      ]
     },
     "execution_count": 22,
     "metadata": {},
     "output_type": "execute_result"
    }
   ],
   "source": [
    "df[~df['Virus hosts'].isnull()].sample(3)"
   ]
  },
  {
   "cell_type": "code",
   "execution_count": 23,
   "metadata": {
    "tags": []
   },
   "outputs": [
    {
     "data": {
      "application/vnd.jupyter.widget-view+json": {
       "model_id": "bee4ed7b64eb4d6dad79fe8ba9469133",
       "version_major": 2,
       "version_minor": 0
      },
      "text/plain": [
       "Getting Viruses taxonomic IDs:   0%|          | 0/16 [00:00<?, ?it/s]"
      ]
     },
     "metadata": {},
     "output_type": "display_data"
    }
   ],
   "source": [
    "# Species ID from organism ID\n",
    "df['Species taxonomic ID'] = (df['Taxonomic lineage IDs']\n",
    "                              .swifter.progress_bar(enable=True, desc='Getting Viruses taxonomic IDs')\n",
    "                              .apply(getRankID, rank='species'))"
   ]
  },
  {
   "cell_type": "code",
   "execution_count": 24,
   "metadata": {},
   "outputs": [],
   "source": [
    "dff = df[['Entry', 'Species taxonomic ID']].copy()"
   ]
  },
  {
   "cell_type": "code",
   "execution_count": 25,
   "metadata": {},
   "outputs": [
    {
     "data": {
      "text/html": [
       "<div>\n",
       "<style scoped>\n",
       "    .dataframe tbody tr th:only-of-type {\n",
       "        vertical-align: middle;\n",
       "    }\n",
       "\n",
       "    .dataframe tbody tr th {\n",
       "        vertical-align: top;\n",
       "    }\n",
       "\n",
       "    .dataframe thead th {\n",
       "        text-align: right;\n",
       "    }\n",
       "</style>\n",
       "<table border=\"1\" class=\"dataframe\">\n",
       "  <thead>\n",
       "    <tr style=\"text-align: right;\">\n",
       "      <th></th>\n",
       "      <th>Entry</th>\n",
       "      <th>Entry name</th>\n",
       "      <th>Status</th>\n",
       "      <th>Protein names</th>\n",
       "      <th>Organism</th>\n",
       "      <th>Length</th>\n",
       "      <th>Taxonomic lineage IDs</th>\n",
       "      <th>Taxonomic lineage (SPECIES)</th>\n",
       "      <th>Virus hosts</th>\n",
       "      <th>Species taxonomic ID</th>\n",
       "    </tr>\n",
       "  </thead>\n",
       "  <tbody>\n",
       "    <tr>\n",
       "      <th>349607</th>\n",
       "      <td>A0A366YIF7</td>\n",
       "      <td>A0A366YIF7_ECOLX</td>\n",
       "      <td>unreviewed</td>\n",
       "      <td>DUF4102 domain-containing protein (Tyrosine-ty...</td>\n",
       "      <td>Escherichia coli</td>\n",
       "      <td>400</td>\n",
       "      <td>562</td>\n",
       "      <td>Escherichia coli</td>\n",
       "      <td></td>\n",
       "      <td>562.0</td>\n",
       "    </tr>\n",
       "    <tr>\n",
       "      <th>239608</th>\n",
       "      <td>A0A0C4ZQY7</td>\n",
       "      <td>A0A0C4ZQY7_9INFA</td>\n",
       "      <td>unreviewed</td>\n",
       "      <td>Hemagglutinin HA2 chain]; Hemagglutinin [Cleav...</td>\n",
       "      <td>Influenza A virus (A/chicken/Dongguan/3917/201...</td>\n",
       "      <td>560</td>\n",
       "      <td>1593618</td>\n",
       "      <td>Influenza A virus</td>\n",
       "      <td></td>\n",
       "      <td>11320.0</td>\n",
       "    </tr>\n",
       "    <tr>\n",
       "      <th>261057</th>\n",
       "      <td>F0U0G1</td>\n",
       "      <td>F0U0G1_9INFA</td>\n",
       "      <td>unreviewed</td>\n",
       "      <td>Hemagglutinin HA2 chain]; Hemagglutinin [Cleav...</td>\n",
       "      <td>Influenza A virus (A/swine/Hong Kong/248/2009(...</td>\n",
       "      <td>566</td>\n",
       "      <td>991632</td>\n",
       "      <td>Influenza A virus</td>\n",
       "      <td></td>\n",
       "      <td>11320.0</td>\n",
       "    </tr>\n",
       "  </tbody>\n",
       "</table>\n",
       "</div>"
      ],
      "text/plain": [
       "             Entry        Entry name      Status  \\\n",
       "349607  A0A366YIF7  A0A366YIF7_ECOLX  unreviewed   \n",
       "239608  A0A0C4ZQY7  A0A0C4ZQY7_9INFA  unreviewed   \n",
       "261057      F0U0G1      F0U0G1_9INFA  unreviewed   \n",
       "\n",
       "                                            Protein names  \\\n",
       "349607  DUF4102 domain-containing protein (Tyrosine-ty...   \n",
       "239608  Hemagglutinin HA2 chain]; Hemagglutinin [Cleav...   \n",
       "261057  Hemagglutinin HA2 chain]; Hemagglutinin [Cleav...   \n",
       "\n",
       "                                                 Organism  Length  \\\n",
       "349607                                   Escherichia coli     400   \n",
       "239608  Influenza A virus (A/chicken/Dongguan/3917/201...     560   \n",
       "261057  Influenza A virus (A/swine/Hong Kong/248/2009(...     566   \n",
       "\n",
       "        Taxonomic lineage IDs Taxonomic lineage (SPECIES) Virus hosts  \\\n",
       "349607                    562            Escherichia coli               \n",
       "239608                1593618           Influenza A virus               \n",
       "261057                 991632           Influenza A virus               \n",
       "\n",
       "        Species taxonomic ID  \n",
       "349607                 562.0  \n",
       "239608               11320.0  \n",
       "261057               11320.0  "
      ]
     },
     "execution_count": 25,
     "metadata": {},
     "output_type": "execute_result"
    }
   ],
   "source": [
    "df.sample(3)"
   ]
  },
  {
   "cell_type": "code",
   "execution_count": 26,
   "metadata": {
    "scrolled": true,
    "tags": []
   },
   "outputs": [
    {
     "data": {
      "text/html": [
       "<div>\n",
       "<style scoped>\n",
       "    .dataframe tbody tr th:only-of-type {\n",
       "        vertical-align: middle;\n",
       "    }\n",
       "\n",
       "    .dataframe tbody tr th {\n",
       "        vertical-align: top;\n",
       "    }\n",
       "\n",
       "    .dataframe thead th {\n",
       "        text-align: right;\n",
       "    }\n",
       "</style>\n",
       "<table border=\"1\" class=\"dataframe\">\n",
       "  <thead>\n",
       "    <tr style=\"text-align: right;\">\n",
       "      <th></th>\n",
       "      <th>Entry</th>\n",
       "      <th>Entry name</th>\n",
       "      <th>Status</th>\n",
       "      <th>Protein names</th>\n",
       "      <th>Organism</th>\n",
       "      <th>Length</th>\n",
       "      <th>Taxonomic lineage IDs</th>\n",
       "      <th>Taxonomic lineage (SPECIES)</th>\n",
       "      <th>Virus hosts</th>\n",
       "      <th>Species taxonomic ID</th>\n",
       "    </tr>\n",
       "  </thead>\n",
       "  <tbody>\n",
       "    <tr>\n",
       "      <th>11119</th>\n",
       "      <td>O41892</td>\n",
       "      <td>O41892_PEGIA</td>\n",
       "      <td>unreviewed</td>\n",
       "      <td>Genome polyprotein (EC 3.6.4.13)</td>\n",
       "      <td>Pegivirus A (isolate Saguinus labiatus/-/GBV-A...</td>\n",
       "      <td>2967</td>\n",
       "      <td>1554494</td>\n",
       "      <td>Pegivirus A</td>\n",
       "      <td>Leontocebus nigricollis (Black-mantled tamarin...</td>\n",
       "      <td>NaN</td>\n",
       "    </tr>\n",
       "    <tr>\n",
       "      <th>18609</th>\n",
       "      <td>Q0NCQ7</td>\n",
       "      <td>Q0NCQ7_VAR65</td>\n",
       "      <td>unreviewed</td>\n",
       "      <td>Protein G3</td>\n",
       "      <td>Variola virus (isolate Human/South Africa/102/...</td>\n",
       "      <td>111</td>\n",
       "      <td>587201</td>\n",
       "      <td>Variola virus</td>\n",
       "      <td>Homo sapiens (Human) [TaxID: 9606]</td>\n",
       "      <td>NaN</td>\n",
       "    </tr>\n",
       "    <tr>\n",
       "      <th>30670</th>\n",
       "      <td>Q0NG66</td>\n",
       "      <td>Q0NG66_VAR46</td>\n",
       "      <td>unreviewed</td>\n",
       "      <td>Myristylprotein</td>\n",
       "      <td>Variola virus (isolate Human/Japan/Yamada MS-2...</td>\n",
       "      <td>340</td>\n",
       "      <td>587202</td>\n",
       "      <td>Variola virus</td>\n",
       "      <td>Homo sapiens (Human) [TaxID: 9606]</td>\n",
       "      <td>NaN</td>\n",
       "    </tr>\n",
       "    <tr>\n",
       "      <th>84779</th>\n",
       "      <td>Q0NCI5</td>\n",
       "      <td>Q0NCI5_VAR65</td>\n",
       "      <td>unreviewed</td>\n",
       "      <td>Fusion protein</td>\n",
       "      <td>Variola virus (isolate Human/South Africa/102/...</td>\n",
       "      <td>146</td>\n",
       "      <td>587201</td>\n",
       "      <td>Variola virus</td>\n",
       "      <td>Homo sapiens (Human) [TaxID: 9606]</td>\n",
       "      <td>NaN</td>\n",
       "    </tr>\n",
       "    <tr>\n",
       "      <th>84815</th>\n",
       "      <td>Q0NCJ6</td>\n",
       "      <td>Q0NCJ6_VAR65</td>\n",
       "      <td>unreviewed</td>\n",
       "      <td>Virion membrane protein A21</td>\n",
       "      <td>Variola virus (isolate Human/South Africa/102/...</td>\n",
       "      <td>117</td>\n",
       "      <td>587201</td>\n",
       "      <td>Variola virus</td>\n",
       "      <td>Homo sapiens (Human) [TaxID: 9606]</td>\n",
       "      <td>NaN</td>\n",
       "    </tr>\n",
       "    <tr>\n",
       "      <th>87500</th>\n",
       "      <td>B2BX77</td>\n",
       "      <td>B2BX77_ASPVR</td>\n",
       "      <td>unreviewed</td>\n",
       "      <td>Hemagglutinin-neuraminidase protein</td>\n",
       "      <td>Atlantic salmon paramyxovirus (isolate -/Norwa...</td>\n",
       "      <td>576</td>\n",
       "      <td>1283346</td>\n",
       "      <td>Salmon aquaparamyxovirus</td>\n",
       "      <td>Salmo salar (Atlantic salmon) [TaxID: 8030]</td>\n",
       "      <td>NaN</td>\n",
       "    </tr>\n",
       "    <tr>\n",
       "      <th>98638</th>\n",
       "      <td>Q0NCN6</td>\n",
       "      <td>Q0NCN6_VAR65</td>\n",
       "      <td>unreviewed</td>\n",
       "      <td>IMV membrane protein</td>\n",
       "      <td>Variola virus (isolate Human/South Africa/102/...</td>\n",
       "      <td>189</td>\n",
       "      <td>587201</td>\n",
       "      <td>Variola virus</td>\n",
       "      <td>Homo sapiens (Human) [TaxID: 9606]</td>\n",
       "      <td>NaN</td>\n",
       "    </tr>\n",
       "    <tr>\n",
       "      <th>99867</th>\n",
       "      <td>Q0NCP9</td>\n",
       "      <td>Q0NCP9_VAR65</td>\n",
       "      <td>unreviewed</td>\n",
       "      <td>Myristylprotein</td>\n",
       "      <td>Variola virus (isolate Human/South Africa/102/...</td>\n",
       "      <td>340</td>\n",
       "      <td>587201</td>\n",
       "      <td>Variola virus</td>\n",
       "      <td>Homo sapiens (Human) [TaxID: 9606]</td>\n",
       "      <td>NaN</td>\n",
       "    </tr>\n",
       "    <tr>\n",
       "      <th>115389</th>\n",
       "      <td>Q0NG61</td>\n",
       "      <td>Q0NG61_VAR46</td>\n",
       "      <td>unreviewed</td>\n",
       "      <td>Protein L5</td>\n",
       "      <td>Variola virus (isolate Human/Japan/Yamada MS-2...</td>\n",
       "      <td>128</td>\n",
       "      <td>587202</td>\n",
       "      <td>Variola virus</td>\n",
       "      <td>Homo sapiens (Human) [TaxID: 9606]</td>\n",
       "      <td>NaN</td>\n",
       "    </tr>\n",
       "    <tr>\n",
       "      <th>116649</th>\n",
       "      <td>Q0NG40</td>\n",
       "      <td>Q0NG40_VAR46</td>\n",
       "      <td>unreviewed</td>\n",
       "      <td>Carbonic anhydrase homolog (Cell surface-bindi...</td>\n",
       "      <td>Variola virus (isolate Human/Japan/Yamada MS-2...</td>\n",
       "      <td>304</td>\n",
       "      <td>587202</td>\n",
       "      <td>Variola virus</td>\n",
       "      <td>Homo sapiens (Human) [TaxID: 9606]</td>\n",
       "      <td>NaN</td>\n",
       "    </tr>\n",
       "    <tr>\n",
       "      <th>140090</th>\n",
       "      <td>Q0NCM3</td>\n",
       "      <td>Q0NCM3_VAR65</td>\n",
       "      <td>unreviewed</td>\n",
       "      <td>Carbonic anhydrase homolog (Cell surface-bindi...</td>\n",
       "      <td>Variola virus (isolate Human/South Africa/102/...</td>\n",
       "      <td>304</td>\n",
       "      <td>587201</td>\n",
       "      <td>Variola virus</td>\n",
       "      <td>Homo sapiens (Human) [TaxID: 9606]</td>\n",
       "      <td>NaN</td>\n",
       "    </tr>\n",
       "    <tr>\n",
       "      <th>158761</th>\n",
       "      <td>Q0NG02</td>\n",
       "      <td>Q0NG02_VAR46</td>\n",
       "      <td>unreviewed</td>\n",
       "      <td>Fusion protein</td>\n",
       "      <td>Variola virus (isolate Human/Japan/Yamada MS-2...</td>\n",
       "      <td>146</td>\n",
       "      <td>587202</td>\n",
       "      <td>Variola virus</td>\n",
       "      <td>Homo sapiens (Human) [TaxID: 9606]</td>\n",
       "      <td>NaN</td>\n",
       "    </tr>\n",
       "    <tr>\n",
       "      <th>161938</th>\n",
       "      <td>Q0NG13</td>\n",
       "      <td>Q0NG13_VAR46</td>\n",
       "      <td>unreviewed</td>\n",
       "      <td>Virion membrane protein A21</td>\n",
       "      <td>Variola virus (isolate Human/Japan/Yamada MS-2...</td>\n",
       "      <td>117</td>\n",
       "      <td>587202</td>\n",
       "      <td>Variola virus</td>\n",
       "      <td>Homo sapiens (Human) [TaxID: 9606]</td>\n",
       "      <td>NaN</td>\n",
       "    </tr>\n",
       "    <tr>\n",
       "      <th>169371</th>\n",
       "      <td>I6YQK4</td>\n",
       "      <td>I6YQK4_PASI1</td>\n",
       "      <td>unreviewed</td>\n",
       "      <td>Genome polyprotein (P1C) (P1D) (Protein 2C) (P...</td>\n",
       "      <td>Pasivirus A1 isolate (isolate Swine/France/Pas...</td>\n",
       "      <td>2133</td>\n",
       "      <td>1554498</td>\n",
       "      <td>Pasivirus A</td>\n",
       "      <td>Sus scrofa (Pig) [TaxID: 9823]</td>\n",
       "      <td>NaN</td>\n",
       "    </tr>\n",
       "    <tr>\n",
       "      <th>173440</th>\n",
       "      <td>D9YV24</td>\n",
       "      <td>D9YV24_PASVA</td>\n",
       "      <td>unreviewed</td>\n",
       "      <td>Genome polyprotein (P1C) (P1D) (Protein 2C) (P...</td>\n",
       "      <td>Passerivirus A1 (isolate Turdus pallidus/Hong ...</td>\n",
       "      <td>2428</td>\n",
       "      <td>1554479</td>\n",
       "      <td>Passerivirus A</td>\n",
       "      <td>Turdus pallidus (Pale thrush) [TaxID: 36282]</td>\n",
       "      <td>NaN</td>\n",
       "    </tr>\n",
       "    <tr>\n",
       "      <th>178095</th>\n",
       "      <td>Q784K7</td>\n",
       "      <td>Q784K7_HBVF5</td>\n",
       "      <td>unreviewed</td>\n",
       "      <td>Large envelope protein (L glycoprotein) (L-HBs...</td>\n",
       "      <td>Hepatitis B virus genotype F2 (isolate Venezue...</td>\n",
       "      <td>400</td>\n",
       "      <td>489502</td>\n",
       "      <td>Hepatitis B virus (HBV)</td>\n",
       "      <td>Pan troglodytes (Chimpanzee) [TaxID: 9598]; Ho...</td>\n",
       "      <td>NaN</td>\n",
       "    </tr>\n",
       "    <tr>\n",
       "      <th>178149</th>\n",
       "      <td>Q784L0</td>\n",
       "      <td>Q784L0_HBVF5</td>\n",
       "      <td>unreviewed</td>\n",
       "      <td>Capsid protein (Core antigen) (Core protein) (...</td>\n",
       "      <td>Hepatitis B virus genotype F2 (isolate Venezue...</td>\n",
       "      <td>212</td>\n",
       "      <td>489502</td>\n",
       "      <td>Hepatitis B virus (HBV)</td>\n",
       "      <td>Pan troglodytes (Chimpanzee) [TaxID: 9598]; Ho...</td>\n",
       "      <td>NaN</td>\n",
       "    </tr>\n",
       "    <tr>\n",
       "      <th>189041</th>\n",
       "      <td>Q0NCN9</td>\n",
       "      <td>Q0NCN9_VAR65</td>\n",
       "      <td>unreviewed</td>\n",
       "      <td>IMV membrane protein</td>\n",
       "      <td>Variola virus (isolate Human/South Africa/102/...</td>\n",
       "      <td>133</td>\n",
       "      <td>587201</td>\n",
       "      <td>Variola virus</td>\n",
       "      <td>Homo sapiens (Human) [TaxID: 9606]</td>\n",
       "      <td>NaN</td>\n",
       "    </tr>\n",
       "    <tr>\n",
       "      <th>189084</th>\n",
       "      <td>Q0NCK0</td>\n",
       "      <td>Q0NCK0_VAR65</td>\n",
       "      <td>unreviewed</td>\n",
       "      <td>Myristylprotein</td>\n",
       "      <td>Variola virus (isolate Human/South Africa/102/...</td>\n",
       "      <td>377</td>\n",
       "      <td>587201</td>\n",
       "      <td>Variola virus</td>\n",
       "      <td>Homo sapiens (Human) [TaxID: 9606]</td>\n",
       "      <td>NaN</td>\n",
       "    </tr>\n",
       "    <tr>\n",
       "      <th>191463</th>\n",
       "      <td>Q784K9</td>\n",
       "      <td>Q784K9_HBVF5</td>\n",
       "      <td>unreviewed</td>\n",
       "      <td>Capsid protein (Core antigen) (Core protein) (...</td>\n",
       "      <td>Hepatitis B virus genotype F2 (isolate Venezue...</td>\n",
       "      <td>183</td>\n",
       "      <td>489502</td>\n",
       "      <td>Hepatitis B virus (HBV)</td>\n",
       "      <td>Pan troglodytes (Chimpanzee) [TaxID: 9598]; Ho...</td>\n",
       "      <td>NaN</td>\n",
       "    </tr>\n",
       "    <tr>\n",
       "      <th>192619</th>\n",
       "      <td>Q0NG53</td>\n",
       "      <td>Q0NG53_VAR46</td>\n",
       "      <td>unreviewed</td>\n",
       "      <td>IMV membrane protein</td>\n",
       "      <td>Variola virus (isolate Human/Japan/Yamada MS-2...</td>\n",
       "      <td>189</td>\n",
       "      <td>587202</td>\n",
       "      <td>Variola virus</td>\n",
       "      <td>Homo sapiens (Human) [TaxID: 9606]</td>\n",
       "      <td>NaN</td>\n",
       "    </tr>\n",
       "    <tr>\n",
       "      <th>195746</th>\n",
       "      <td>Q0NCP4</td>\n",
       "      <td>Q0NCP4_VAR65</td>\n",
       "      <td>unreviewed</td>\n",
       "      <td>Protein L5</td>\n",
       "      <td>Variola virus (isolate Human/South Africa/102/...</td>\n",
       "      <td>128</td>\n",
       "      <td>587201</td>\n",
       "      <td>Variola virus</td>\n",
       "      <td>Homo sapiens (Human) [TaxID: 9606]</td>\n",
       "      <td>NaN</td>\n",
       "    </tr>\n",
       "    <tr>\n",
       "      <th>196727</th>\n",
       "      <td>Q0NG56</td>\n",
       "      <td>Q0NG56_VAR46</td>\n",
       "      <td>unreviewed</td>\n",
       "      <td>IMV membrane protein</td>\n",
       "      <td>Variola virus (isolate Human/Japan/Yamada MS-2...</td>\n",
       "      <td>133</td>\n",
       "      <td>587202</td>\n",
       "      <td>Variola virus</td>\n",
       "      <td>Homo sapiens (Human) [TaxID: 9606]</td>\n",
       "      <td>NaN</td>\n",
       "    </tr>\n",
       "    <tr>\n",
       "      <th>198013</th>\n",
       "      <td>Q0NG17</td>\n",
       "      <td>Q0NG17_VAR46</td>\n",
       "      <td>unreviewed</td>\n",
       "      <td>Myristylprotein</td>\n",
       "      <td>Variola virus (isolate Human/Japan/Yamada MS-2...</td>\n",
       "      <td>377</td>\n",
       "      <td>587202</td>\n",
       "      <td>Variola virus</td>\n",
       "      <td>Homo sapiens (Human) [TaxID: 9606]</td>\n",
       "      <td>NaN</td>\n",
       "    </tr>\n",
       "    <tr>\n",
       "      <th>198077</th>\n",
       "      <td>Q0NG74</td>\n",
       "      <td>Q0NG74_VAR46</td>\n",
       "      <td>unreviewed</td>\n",
       "      <td>Protein G3</td>\n",
       "      <td>Variola virus (isolate Human/Japan/Yamada MS-2...</td>\n",
       "      <td>111</td>\n",
       "      <td>587202</td>\n",
       "      <td>Variola virus</td>\n",
       "      <td>Homo sapiens (Human) [TaxID: 9606]</td>\n",
       "      <td>NaN</td>\n",
       "    </tr>\n",
       "    <tr>\n",
       "      <th>199619</th>\n",
       "      <td>H6VBU4</td>\n",
       "      <td>H6VBU4_CADIV</td>\n",
       "      <td>unreviewed</td>\n",
       "      <td>Genome polyprotein (P1C) (P1D) (Virion protein...</td>\n",
       "      <td>Cadicivirus A (isolate Dog/Hong Kong/209/2008)...</td>\n",
       "      <td>844</td>\n",
       "      <td>1554482</td>\n",
       "      <td>Cadicivirus A</td>\n",
       "      <td>Canis lupus familiaris (Dog) (Canis familiaris...</td>\n",
       "      <td>NaN</td>\n",
       "    </tr>\n",
       "    <tr>\n",
       "      <th>212796</th>\n",
       "      <td>X2L6K2</td>\n",
       "      <td>X2L6K2_MOVA2</td>\n",
       "      <td>unreviewed</td>\n",
       "      <td>Genome polyprotein (EC 3.4.22.28) (P1C) (P1D) ...</td>\n",
       "      <td>Mosavirus A2 (isolate Coracias garrulus/Hungar...</td>\n",
       "      <td>2550</td>\n",
       "      <td>1554481</td>\n",
       "      <td>Mosavirus A</td>\n",
       "      <td>Coracias garrulus (European roller) [TaxID: 18...</td>\n",
       "      <td>NaN</td>\n",
       "    </tr>\n",
       "    <tr>\n",
       "      <th>212863</th>\n",
       "      <td>A5H1G4</td>\n",
       "      <td>A5H1G4_BCTIV</td>\n",
       "      <td>unreviewed</td>\n",
       "      <td>Capsid protein (Coat protein)</td>\n",
       "      <td>Beet curly top Iran virus (isolate Sugar beet/...</td>\n",
       "      <td>250</td>\n",
       "      <td>1559363</td>\n",
       "      <td>Beet curly top Iran virus</td>\n",
       "      <td>Beta vulgaris subsp. vulgaris [TaxID: 3555]</td>\n",
       "      <td>NaN</td>\n",
       "    </tr>\n",
       "    <tr>\n",
       "      <th>229360</th>\n",
       "      <td>Q6YIS0</td>\n",
       "      <td>Q6YIS0_FDLV8</td>\n",
       "      <td>unreviewed</td>\n",
       "      <td>Hemagglutinin-neuraminidase protein HN</td>\n",
       "      <td>Fer-de-Lance paramyxovirus (strain ATCC VR-895...</td>\n",
       "      <td>564</td>\n",
       "      <td>1283347</td>\n",
       "      <td>Reptilian ferlavirus</td>\n",
       "      <td>Bothrops atrox (Barba amarilla) (Fer-de-lance)...</td>\n",
       "      <td>NaN</td>\n",
       "    </tr>\n",
       "    <tr>\n",
       "      <th>232353</th>\n",
       "      <td>Q0NLS8</td>\n",
       "      <td>Q0NLS8_VAR66</td>\n",
       "      <td>unreviewed</td>\n",
       "      <td>Virion membrane protein A21</td>\n",
       "      <td>Variola virus (isolate Human/Brazil/v66-39/196...</td>\n",
       "      <td>117</td>\n",
       "      <td>587203</td>\n",
       "      <td>Variola virus</td>\n",
       "      <td>Homo sapiens (Human) [TaxID: 9606]</td>\n",
       "      <td>NaN</td>\n",
       "    </tr>\n",
       "    <tr>\n",
       "      <th>233508</th>\n",
       "      <td>Q0NLY9</td>\n",
       "      <td>Q0NLY9_VAR66</td>\n",
       "      <td>unreviewed</td>\n",
       "      <td>Protein G3</td>\n",
       "      <td>Variola virus (isolate Human/Brazil/v66-39/196...</td>\n",
       "      <td>111</td>\n",
       "      <td>587203</td>\n",
       "      <td>Variola virus</td>\n",
       "      <td>Homo sapiens (Human) [TaxID: 9606]</td>\n",
       "      <td>NaN</td>\n",
       "    </tr>\n",
       "    <tr>\n",
       "      <th>233522</th>\n",
       "      <td>Q0NLX6</td>\n",
       "      <td>Q0NLX6_VAR66</td>\n",
       "      <td>unreviewed</td>\n",
       "      <td>Protein L5</td>\n",
       "      <td>Variola virus (isolate Human/Brazil/v66-39/196...</td>\n",
       "      <td>128</td>\n",
       "      <td>587203</td>\n",
       "      <td>Variola virus</td>\n",
       "      <td>Homo sapiens (Human) [TaxID: 9606]</td>\n",
       "      <td>NaN</td>\n",
       "    </tr>\n",
       "    <tr>\n",
       "      <th>234107</th>\n",
       "      <td>A0A023T7J3</td>\n",
       "      <td>A0A023T7J3_ROSV2</td>\n",
       "      <td>unreviewed</td>\n",
       "      <td>Genome polyprotein (P1C) (P1D) (Protein 2C) (P...</td>\n",
       "      <td>Rosavirus A2 (isolate Human/Gambia/GA7403/2008...</td>\n",
       "      <td>2468</td>\n",
       "      <td>1554474</td>\n",
       "      <td>Rosavirus A</td>\n",
       "      <td>Homo sapiens (Human) [TaxID: 9606]; Mus muscul...</td>\n",
       "      <td>NaN</td>\n",
       "    </tr>\n",
       "    <tr>\n",
       "      <th>239180</th>\n",
       "      <td>Q0NLX1</td>\n",
       "      <td>Q0NLX1_VAR66</td>\n",
       "      <td>unreviewed</td>\n",
       "      <td>IMV membrane protein</td>\n",
       "      <td>Variola virus (isolate Human/Brazil/v66-39/196...</td>\n",
       "      <td>133</td>\n",
       "      <td>587203</td>\n",
       "      <td>Variola virus</td>\n",
       "      <td>Homo sapiens (Human) [TaxID: 9606]</td>\n",
       "      <td>NaN</td>\n",
       "    </tr>\n",
       "    <tr>\n",
       "      <th>239812</th>\n",
       "      <td>Q0NLR7</td>\n",
       "      <td>Q0NLR7_VAR66</td>\n",
       "      <td>unreviewed</td>\n",
       "      <td>Fusion protein</td>\n",
       "      <td>Variola virus (isolate Human/Brazil/v66-39/196...</td>\n",
       "      <td>146</td>\n",
       "      <td>587203</td>\n",
       "      <td>Variola virus</td>\n",
       "      <td>Homo sapiens (Human) [TaxID: 9606]</td>\n",
       "      <td>NaN</td>\n",
       "    </tr>\n",
       "    <tr>\n",
       "      <th>239858</th>\n",
       "      <td>Q0NLY1</td>\n",
       "      <td>Q0NLY1_VAR66</td>\n",
       "      <td>unreviewed</td>\n",
       "      <td>Myristylprotein</td>\n",
       "      <td>Variola virus (isolate Human/Brazil/v66-39/196...</td>\n",
       "      <td>340</td>\n",
       "      <td>587203</td>\n",
       "      <td>Variola virus</td>\n",
       "      <td>Homo sapiens (Human) [TaxID: 9606]</td>\n",
       "      <td>NaN</td>\n",
       "    </tr>\n",
       "    <tr>\n",
       "      <th>240010</th>\n",
       "      <td>Q0NLW8</td>\n",
       "      <td>Q0NLW8_VAR66</td>\n",
       "      <td>unreviewed</td>\n",
       "      <td>IMV membrane protein</td>\n",
       "      <td>Variola virus (isolate Human/Brazil/v66-39/196...</td>\n",
       "      <td>189</td>\n",
       "      <td>587203</td>\n",
       "      <td>Variola virus</td>\n",
       "      <td>Homo sapiens (Human) [TaxID: 9606]</td>\n",
       "      <td>NaN</td>\n",
       "    </tr>\n",
       "    <tr>\n",
       "      <th>242844</th>\n",
       "      <td>Q0NLT2</td>\n",
       "      <td>Q0NLT2_VAR66</td>\n",
       "      <td>unreviewed</td>\n",
       "      <td>Myristylprotein</td>\n",
       "      <td>Variola virus (isolate Human/Brazil/v66-39/196...</td>\n",
       "      <td>377</td>\n",
       "      <td>587203</td>\n",
       "      <td>Variola virus</td>\n",
       "      <td>Homo sapiens (Human) [TaxID: 9606]</td>\n",
       "      <td>NaN</td>\n",
       "    </tr>\n",
       "    <tr>\n",
       "      <th>246697</th>\n",
       "      <td>C3UV59</td>\n",
       "      <td>C3UV59_ECSVG</td>\n",
       "      <td>unreviewed</td>\n",
       "      <td>Capsid protein (Coat protein)</td>\n",
       "      <td>Eragrostis curvula streak virus (isolate Eragr...</td>\n",
       "      <td>258</td>\n",
       "      <td>1559364</td>\n",
       "      <td>Eragrostis curvula streak virus</td>\n",
       "      <td>Eragrostis curvula (weeping love grass) [TaxID...</td>\n",
       "      <td>NaN</td>\n",
       "    </tr>\n",
       "    <tr>\n",
       "      <th>248084</th>\n",
       "      <td>Q0NLV5</td>\n",
       "      <td>Q0NLV5_VAR66</td>\n",
       "      <td>unreviewed</td>\n",
       "      <td>Carbonic anhydrase homolog (Cell surface-bindi...</td>\n",
       "      <td>Variola virus (isolate Human/Brazil/v66-39/196...</td>\n",
       "      <td>304</td>\n",
       "      <td>587203</td>\n",
       "      <td>Variola virus</td>\n",
       "      <td>Homo sapiens (Human) [TaxID: 9606]</td>\n",
       "      <td>NaN</td>\n",
       "    </tr>\n",
       "    <tr>\n",
       "      <th>248828</th>\n",
       "      <td>A8D7N3</td>\n",
       "      <td>A8D7N3_AQUAV</td>\n",
       "      <td>unreviewed</td>\n",
       "      <td>Genome polyprotein (P1C) (P1D) (Protein 2C) (P...</td>\n",
       "      <td>Aquamavirus A (isolate Phoca hispida/Canada/HO...</td>\n",
       "      <td>2050</td>\n",
       "      <td>1554492</td>\n",
       "      <td>Aquamavirus A</td>\n",
       "      <td>Pusa hispida (Ringed seal) (Phoca hispida) [Ta...</td>\n",
       "      <td>NaN</td>\n",
       "    </tr>\n",
       "    <tr>\n",
       "      <th>259582</th>\n",
       "      <td>I7C489</td>\n",
       "      <td>I7C489_GALIV</td>\n",
       "      <td>unreviewed</td>\n",
       "      <td>Genome polyprotein (EC 3.6.1.15) (P1C) (P1D) (...</td>\n",
       "      <td>Gallivirus A (isolate Turkey/Hungary/M176/2011...</td>\n",
       "      <td>2474</td>\n",
       "      <td>1560035</td>\n",
       "      <td>Gallivirus A</td>\n",
       "      <td>Meleagris gallopavo (Wild turkey) [TaxID: 9103]</td>\n",
       "      <td>NaN</td>\n",
       "    </tr>\n",
       "    <tr>\n",
       "      <th>272459</th>\n",
       "      <td>M4PJD6</td>\n",
       "      <td>M4PJD6_AVISV</td>\n",
       "      <td>unreviewed</td>\n",
       "      <td>Genome polyprotein (EC 3.6.1.15) (P1C) (P1D) (...</td>\n",
       "      <td>Avisivirus A (isolate Turkey/USA/USA-IN1/2010)...</td>\n",
       "      <td>2165</td>\n",
       "      <td>1554484</td>\n",
       "      <td>Avisivirus A</td>\n",
       "      <td>Meleagris gallopavo (Wild turkey) [TaxID: 9103]</td>\n",
       "      <td>NaN</td>\n",
       "    </tr>\n",
       "    <tr>\n",
       "      <th>276797</th>\n",
       "      <td>D9YV26</td>\n",
       "      <td>D9YV26_OSCV1</td>\n",
       "      <td>unreviewed</td>\n",
       "      <td>Genome polyprotein (EC 3.6.1.15) (P1C) (P1D) (...</td>\n",
       "      <td>Oscivirus A1 (isolate Oriental magpie robin/Ho...</td>\n",
       "      <td>2255</td>\n",
       "      <td>1554480</td>\n",
       "      <td>Oscivirus A</td>\n",
       "      <td>Copsychus saularis (Oriental magpie-robin) [Ta...</td>\n",
       "      <td>NaN</td>\n",
       "    </tr>\n",
       "  </tbody>\n",
       "</table>\n",
       "</div>"
      ],
      "text/plain": [
       "             Entry        Entry name      Status  \\\n",
       "11119       O41892      O41892_PEGIA  unreviewed   \n",
       "18609       Q0NCQ7      Q0NCQ7_VAR65  unreviewed   \n",
       "30670       Q0NG66      Q0NG66_VAR46  unreviewed   \n",
       "84779       Q0NCI5      Q0NCI5_VAR65  unreviewed   \n",
       "84815       Q0NCJ6      Q0NCJ6_VAR65  unreviewed   \n",
       "87500       B2BX77      B2BX77_ASPVR  unreviewed   \n",
       "98638       Q0NCN6      Q0NCN6_VAR65  unreviewed   \n",
       "99867       Q0NCP9      Q0NCP9_VAR65  unreviewed   \n",
       "115389      Q0NG61      Q0NG61_VAR46  unreviewed   \n",
       "116649      Q0NG40      Q0NG40_VAR46  unreviewed   \n",
       "140090      Q0NCM3      Q0NCM3_VAR65  unreviewed   \n",
       "158761      Q0NG02      Q0NG02_VAR46  unreviewed   \n",
       "161938      Q0NG13      Q0NG13_VAR46  unreviewed   \n",
       "169371      I6YQK4      I6YQK4_PASI1  unreviewed   \n",
       "173440      D9YV24      D9YV24_PASVA  unreviewed   \n",
       "178095      Q784K7      Q784K7_HBVF5  unreviewed   \n",
       "178149      Q784L0      Q784L0_HBVF5  unreviewed   \n",
       "189041      Q0NCN9      Q0NCN9_VAR65  unreviewed   \n",
       "189084      Q0NCK0      Q0NCK0_VAR65  unreviewed   \n",
       "191463      Q784K9      Q784K9_HBVF5  unreviewed   \n",
       "192619      Q0NG53      Q0NG53_VAR46  unreviewed   \n",
       "195746      Q0NCP4      Q0NCP4_VAR65  unreviewed   \n",
       "196727      Q0NG56      Q0NG56_VAR46  unreviewed   \n",
       "198013      Q0NG17      Q0NG17_VAR46  unreviewed   \n",
       "198077      Q0NG74      Q0NG74_VAR46  unreviewed   \n",
       "199619      H6VBU4      H6VBU4_CADIV  unreviewed   \n",
       "212796      X2L6K2      X2L6K2_MOVA2  unreviewed   \n",
       "212863      A5H1G4      A5H1G4_BCTIV  unreviewed   \n",
       "229360      Q6YIS0      Q6YIS0_FDLV8  unreviewed   \n",
       "232353      Q0NLS8      Q0NLS8_VAR66  unreviewed   \n",
       "233508      Q0NLY9      Q0NLY9_VAR66  unreviewed   \n",
       "233522      Q0NLX6      Q0NLX6_VAR66  unreviewed   \n",
       "234107  A0A023T7J3  A0A023T7J3_ROSV2  unreviewed   \n",
       "239180      Q0NLX1      Q0NLX1_VAR66  unreviewed   \n",
       "239812      Q0NLR7      Q0NLR7_VAR66  unreviewed   \n",
       "239858      Q0NLY1      Q0NLY1_VAR66  unreviewed   \n",
       "240010      Q0NLW8      Q0NLW8_VAR66  unreviewed   \n",
       "242844      Q0NLT2      Q0NLT2_VAR66  unreviewed   \n",
       "246697      C3UV59      C3UV59_ECSVG  unreviewed   \n",
       "248084      Q0NLV5      Q0NLV5_VAR66  unreviewed   \n",
       "248828      A8D7N3      A8D7N3_AQUAV  unreviewed   \n",
       "259582      I7C489      I7C489_GALIV  unreviewed   \n",
       "272459      M4PJD6      M4PJD6_AVISV  unreviewed   \n",
       "276797      D9YV26      D9YV26_OSCV1  unreviewed   \n",
       "\n",
       "                                            Protein names  \\\n",
       "11119                    Genome polyprotein (EC 3.6.4.13)   \n",
       "18609                                          Protein G3   \n",
       "30670                                     Myristylprotein   \n",
       "84779                                      Fusion protein   \n",
       "84815                         Virion membrane protein A21   \n",
       "87500                 Hemagglutinin-neuraminidase protein   \n",
       "98638                                IMV membrane protein   \n",
       "99867                                     Myristylprotein   \n",
       "115389                                         Protein L5   \n",
       "116649  Carbonic anhydrase homolog (Cell surface-bindi...   \n",
       "140090  Carbonic anhydrase homolog (Cell surface-bindi...   \n",
       "158761                                     Fusion protein   \n",
       "161938                        Virion membrane protein A21   \n",
       "169371  Genome polyprotein (P1C) (P1D) (Protein 2C) (P...   \n",
       "173440  Genome polyprotein (P1C) (P1D) (Protein 2C) (P...   \n",
       "178095  Large envelope protein (L glycoprotein) (L-HBs...   \n",
       "178149  Capsid protein (Core antigen) (Core protein) (...   \n",
       "189041                               IMV membrane protein   \n",
       "189084                                    Myristylprotein   \n",
       "191463  Capsid protein (Core antigen) (Core protein) (...   \n",
       "192619                               IMV membrane protein   \n",
       "195746                                         Protein L5   \n",
       "196727                               IMV membrane protein   \n",
       "198013                                    Myristylprotein   \n",
       "198077                                         Protein G3   \n",
       "199619  Genome polyprotein (P1C) (P1D) (Virion protein...   \n",
       "212796  Genome polyprotein (EC 3.4.22.28) (P1C) (P1D) ...   \n",
       "212863                      Capsid protein (Coat protein)   \n",
       "229360             Hemagglutinin-neuraminidase protein HN   \n",
       "232353                        Virion membrane protein A21   \n",
       "233508                                         Protein G3   \n",
       "233522                                         Protein L5   \n",
       "234107  Genome polyprotein (P1C) (P1D) (Protein 2C) (P...   \n",
       "239180                               IMV membrane protein   \n",
       "239812                                     Fusion protein   \n",
       "239858                                    Myristylprotein   \n",
       "240010                               IMV membrane protein   \n",
       "242844                                    Myristylprotein   \n",
       "246697                      Capsid protein (Coat protein)   \n",
       "248084  Carbonic anhydrase homolog (Cell surface-bindi...   \n",
       "248828  Genome polyprotein (P1C) (P1D) (Protein 2C) (P...   \n",
       "259582  Genome polyprotein (EC 3.6.1.15) (P1C) (P1D) (...   \n",
       "272459  Genome polyprotein (EC 3.6.1.15) (P1C) (P1D) (...   \n",
       "276797  Genome polyprotein (EC 3.6.1.15) (P1C) (P1D) (...   \n",
       "\n",
       "                                                 Organism  Length  \\\n",
       "11119   Pegivirus A (isolate Saguinus labiatus/-/GBV-A...    2967   \n",
       "18609   Variola virus (isolate Human/South Africa/102/...     111   \n",
       "30670   Variola virus (isolate Human/Japan/Yamada MS-2...     340   \n",
       "84779   Variola virus (isolate Human/South Africa/102/...     146   \n",
       "84815   Variola virus (isolate Human/South Africa/102/...     117   \n",
       "87500   Atlantic salmon paramyxovirus (isolate -/Norwa...     576   \n",
       "98638   Variola virus (isolate Human/South Africa/102/...     189   \n",
       "99867   Variola virus (isolate Human/South Africa/102/...     340   \n",
       "115389  Variola virus (isolate Human/Japan/Yamada MS-2...     128   \n",
       "116649  Variola virus (isolate Human/Japan/Yamada MS-2...     304   \n",
       "140090  Variola virus (isolate Human/South Africa/102/...     304   \n",
       "158761  Variola virus (isolate Human/Japan/Yamada MS-2...     146   \n",
       "161938  Variola virus (isolate Human/Japan/Yamada MS-2...     117   \n",
       "169371  Pasivirus A1 isolate (isolate Swine/France/Pas...    2133   \n",
       "173440  Passerivirus A1 (isolate Turdus pallidus/Hong ...    2428   \n",
       "178095  Hepatitis B virus genotype F2 (isolate Venezue...     400   \n",
       "178149  Hepatitis B virus genotype F2 (isolate Venezue...     212   \n",
       "189041  Variola virus (isolate Human/South Africa/102/...     133   \n",
       "189084  Variola virus (isolate Human/South Africa/102/...     377   \n",
       "191463  Hepatitis B virus genotype F2 (isolate Venezue...     183   \n",
       "192619  Variola virus (isolate Human/Japan/Yamada MS-2...     189   \n",
       "195746  Variola virus (isolate Human/South Africa/102/...     128   \n",
       "196727  Variola virus (isolate Human/Japan/Yamada MS-2...     133   \n",
       "198013  Variola virus (isolate Human/Japan/Yamada MS-2...     377   \n",
       "198077  Variola virus (isolate Human/Japan/Yamada MS-2...     111   \n",
       "199619  Cadicivirus A (isolate Dog/Hong Kong/209/2008)...     844   \n",
       "212796  Mosavirus A2 (isolate Coracias garrulus/Hungar...    2550   \n",
       "212863  Beet curly top Iran virus (isolate Sugar beet/...     250   \n",
       "229360  Fer-de-Lance paramyxovirus (strain ATCC VR-895...     564   \n",
       "232353  Variola virus (isolate Human/Brazil/v66-39/196...     117   \n",
       "233508  Variola virus (isolate Human/Brazil/v66-39/196...     111   \n",
       "233522  Variola virus (isolate Human/Brazil/v66-39/196...     128   \n",
       "234107  Rosavirus A2 (isolate Human/Gambia/GA7403/2008...    2468   \n",
       "239180  Variola virus (isolate Human/Brazil/v66-39/196...     133   \n",
       "239812  Variola virus (isolate Human/Brazil/v66-39/196...     146   \n",
       "239858  Variola virus (isolate Human/Brazil/v66-39/196...     340   \n",
       "240010  Variola virus (isolate Human/Brazil/v66-39/196...     189   \n",
       "242844  Variola virus (isolate Human/Brazil/v66-39/196...     377   \n",
       "246697  Eragrostis curvula streak virus (isolate Eragr...     258   \n",
       "248084  Variola virus (isolate Human/Brazil/v66-39/196...     304   \n",
       "248828  Aquamavirus A (isolate Phoca hispida/Canada/HO...    2050   \n",
       "259582  Gallivirus A (isolate Turkey/Hungary/M176/2011...    2474   \n",
       "272459  Avisivirus A (isolate Turkey/USA/USA-IN1/2010)...    2165   \n",
       "276797  Oscivirus A1 (isolate Oriental magpie robin/Ho...    2255   \n",
       "\n",
       "        Taxonomic lineage IDs      Taxonomic lineage (SPECIES)  \\\n",
       "11119                 1554494                      Pegivirus A   \n",
       "18609                  587201                    Variola virus   \n",
       "30670                  587202                    Variola virus   \n",
       "84779                  587201                    Variola virus   \n",
       "84815                  587201                    Variola virus   \n",
       "87500                 1283346         Salmon aquaparamyxovirus   \n",
       "98638                  587201                    Variola virus   \n",
       "99867                  587201                    Variola virus   \n",
       "115389                 587202                    Variola virus   \n",
       "116649                 587202                    Variola virus   \n",
       "140090                 587201                    Variola virus   \n",
       "158761                 587202                    Variola virus   \n",
       "161938                 587202                    Variola virus   \n",
       "169371                1554498                      Pasivirus A   \n",
       "173440                1554479                   Passerivirus A   \n",
       "178095                 489502          Hepatitis B virus (HBV)   \n",
       "178149                 489502          Hepatitis B virus (HBV)   \n",
       "189041                 587201                    Variola virus   \n",
       "189084                 587201                    Variola virus   \n",
       "191463                 489502          Hepatitis B virus (HBV)   \n",
       "192619                 587202                    Variola virus   \n",
       "195746                 587201                    Variola virus   \n",
       "196727                 587202                    Variola virus   \n",
       "198013                 587202                    Variola virus   \n",
       "198077                 587202                    Variola virus   \n",
       "199619                1554482                    Cadicivirus A   \n",
       "212796                1554481                      Mosavirus A   \n",
       "212863                1559363        Beet curly top Iran virus   \n",
       "229360                1283347             Reptilian ferlavirus   \n",
       "232353                 587203                    Variola virus   \n",
       "233508                 587203                    Variola virus   \n",
       "233522                 587203                    Variola virus   \n",
       "234107                1554474                      Rosavirus A   \n",
       "239180                 587203                    Variola virus   \n",
       "239812                 587203                    Variola virus   \n",
       "239858                 587203                    Variola virus   \n",
       "240010                 587203                    Variola virus   \n",
       "242844                 587203                    Variola virus   \n",
       "246697                1559364  Eragrostis curvula streak virus   \n",
       "248084                 587203                    Variola virus   \n",
       "248828                1554492                    Aquamavirus A   \n",
       "259582                1560035                     Gallivirus A   \n",
       "272459                1554484                     Avisivirus A   \n",
       "276797                1554480                      Oscivirus A   \n",
       "\n",
       "                                              Virus hosts  \\\n",
       "11119   Leontocebus nigricollis (Black-mantled tamarin...   \n",
       "18609                  Homo sapiens (Human) [TaxID: 9606]   \n",
       "30670                  Homo sapiens (Human) [TaxID: 9606]   \n",
       "84779                  Homo sapiens (Human) [TaxID: 9606]   \n",
       "84815                  Homo sapiens (Human) [TaxID: 9606]   \n",
       "87500         Salmo salar (Atlantic salmon) [TaxID: 8030]   \n",
       "98638                  Homo sapiens (Human) [TaxID: 9606]   \n",
       "99867                  Homo sapiens (Human) [TaxID: 9606]   \n",
       "115389                 Homo sapiens (Human) [TaxID: 9606]   \n",
       "116649                 Homo sapiens (Human) [TaxID: 9606]   \n",
       "140090                 Homo sapiens (Human) [TaxID: 9606]   \n",
       "158761                 Homo sapiens (Human) [TaxID: 9606]   \n",
       "161938                 Homo sapiens (Human) [TaxID: 9606]   \n",
       "169371                     Sus scrofa (Pig) [TaxID: 9823]   \n",
       "173440       Turdus pallidus (Pale thrush) [TaxID: 36282]   \n",
       "178095  Pan troglodytes (Chimpanzee) [TaxID: 9598]; Ho...   \n",
       "178149  Pan troglodytes (Chimpanzee) [TaxID: 9598]; Ho...   \n",
       "189041                 Homo sapiens (Human) [TaxID: 9606]   \n",
       "189084                 Homo sapiens (Human) [TaxID: 9606]   \n",
       "191463  Pan troglodytes (Chimpanzee) [TaxID: 9598]; Ho...   \n",
       "192619                 Homo sapiens (Human) [TaxID: 9606]   \n",
       "195746                 Homo sapiens (Human) [TaxID: 9606]   \n",
       "196727                 Homo sapiens (Human) [TaxID: 9606]   \n",
       "198013                 Homo sapiens (Human) [TaxID: 9606]   \n",
       "198077                 Homo sapiens (Human) [TaxID: 9606]   \n",
       "199619  Canis lupus familiaris (Dog) (Canis familiaris...   \n",
       "212796  Coracias garrulus (European roller) [TaxID: 18...   \n",
       "212863        Beta vulgaris subsp. vulgaris [TaxID: 3555]   \n",
       "229360  Bothrops atrox (Barba amarilla) (Fer-de-lance)...   \n",
       "232353                 Homo sapiens (Human) [TaxID: 9606]   \n",
       "233508                 Homo sapiens (Human) [TaxID: 9606]   \n",
       "233522                 Homo sapiens (Human) [TaxID: 9606]   \n",
       "234107  Homo sapiens (Human) [TaxID: 9606]; Mus muscul...   \n",
       "239180                 Homo sapiens (Human) [TaxID: 9606]   \n",
       "239812                 Homo sapiens (Human) [TaxID: 9606]   \n",
       "239858                 Homo sapiens (Human) [TaxID: 9606]   \n",
       "240010                 Homo sapiens (Human) [TaxID: 9606]   \n",
       "242844                 Homo sapiens (Human) [TaxID: 9606]   \n",
       "246697  Eragrostis curvula (weeping love grass) [TaxID...   \n",
       "248084                 Homo sapiens (Human) [TaxID: 9606]   \n",
       "248828  Pusa hispida (Ringed seal) (Phoca hispida) [Ta...   \n",
       "259582    Meleagris gallopavo (Wild turkey) [TaxID: 9103]   \n",
       "272459    Meleagris gallopavo (Wild turkey) [TaxID: 9103]   \n",
       "276797  Copsychus saularis (Oriental magpie-robin) [Ta...   \n",
       "\n",
       "        Species taxonomic ID  \n",
       "11119                    NaN  \n",
       "18609                    NaN  \n",
       "30670                    NaN  \n",
       "84779                    NaN  \n",
       "84815                    NaN  \n",
       "87500                    NaN  \n",
       "98638                    NaN  \n",
       "99867                    NaN  \n",
       "115389                   NaN  \n",
       "116649                   NaN  \n",
       "140090                   NaN  \n",
       "158761                   NaN  \n",
       "161938                   NaN  \n",
       "169371                   NaN  \n",
       "173440                   NaN  \n",
       "178095                   NaN  \n",
       "178149                   NaN  \n",
       "189041                   NaN  \n",
       "189084                   NaN  \n",
       "191463                   NaN  \n",
       "192619                   NaN  \n",
       "195746                   NaN  \n",
       "196727                   NaN  \n",
       "198013                   NaN  \n",
       "198077                   NaN  \n",
       "199619                   NaN  \n",
       "212796                   NaN  \n",
       "212863                   NaN  \n",
       "229360                   NaN  \n",
       "232353                   NaN  \n",
       "233508                   NaN  \n",
       "233522                   NaN  \n",
       "234107                   NaN  \n",
       "239180                   NaN  \n",
       "239812                   NaN  \n",
       "239858                   NaN  \n",
       "240010                   NaN  \n",
       "242844                   NaN  \n",
       "246697                   NaN  \n",
       "248084                   NaN  \n",
       "248828                   NaN  \n",
       "259582                   NaN  \n",
       "272459                   NaN  \n",
       "276797                   NaN  "
      ]
     },
     "execution_count": 26,
     "metadata": {},
     "output_type": "execute_result"
    }
   ],
   "source": [
    "df[df['Species taxonomic ID'].isnull()]"
   ]
  },
  {
   "cell_type": "code",
   "execution_count": 27,
   "metadata": {},
   "outputs": [
    {
     "data": {
      "application/vnd.jupyter.widget-view+json": {
       "model_id": "5d14af2372ce4d429ecb25ffe4b08bc1",
       "version_major": 2,
       "version_minor": 0
      },
      "text/plain": [
       "Getting species ID from organism name:   0%|          | 0/358333 [00:00<?, ?it/s]"
      ]
     },
     "metadata": {},
     "output_type": "display_data"
    }
   ],
   "source": [
    "# Get the species name of the earlier unidentified taxonomic IDs\n",
    "idx_species_name = df.columns.get_loc('Taxonomic lineage (SPECIES)')\n",
    "idx_organism_id = df.columns.get_loc('Species taxonomic ID')\n",
    "\n",
    "for row in tqdm_notebook(range(len(df)), desc='Getting species ID from organism name'):\n",
    "    if np.isnan(df.iat[row, idx_organism_id]):\n",
    "        df.iat[row, idx_organism_id] = getIDfromName(df.iat[row, idx_species_name])"
   ]
  },
  {
   "cell_type": "code",
   "execution_count": 28,
   "metadata": {},
   "outputs": [
    {
     "data": {
      "text/html": [
       "<div>\n",
       "<style scoped>\n",
       "    .dataframe tbody tr th:only-of-type {\n",
       "        vertical-align: middle;\n",
       "    }\n",
       "\n",
       "    .dataframe tbody tr th {\n",
       "        vertical-align: top;\n",
       "    }\n",
       "\n",
       "    .dataframe thead th {\n",
       "        text-align: right;\n",
       "    }\n",
       "</style>\n",
       "<table border=\"1\" class=\"dataframe\">\n",
       "  <thead>\n",
       "    <tr style=\"text-align: right;\">\n",
       "      <th></th>\n",
       "      <th>Entry</th>\n",
       "      <th>Entry name</th>\n",
       "      <th>Status</th>\n",
       "      <th>Protein names</th>\n",
       "      <th>Organism</th>\n",
       "      <th>Length</th>\n",
       "      <th>Taxonomic lineage IDs</th>\n",
       "      <th>Taxonomic lineage (SPECIES)</th>\n",
       "      <th>Virus hosts</th>\n",
       "      <th>Species taxonomic ID</th>\n",
       "    </tr>\n",
       "  </thead>\n",
       "  <tbody>\n",
       "  </tbody>\n",
       "</table>\n",
       "</div>"
      ],
      "text/plain": [
       "Empty DataFrame\n",
       "Columns: [Entry, Entry name, Status, Protein names, Organism, Length, Taxonomic lineage IDs, Taxonomic lineage (SPECIES), Virus hosts, Species taxonomic ID]\n",
       "Index: []"
      ]
     },
     "execution_count": 28,
     "metadata": {},
     "output_type": "execute_result"
    }
   ],
   "source": [
    "df[df['Species taxonomic ID'].isnull()]"
   ]
  },
  {
   "cell_type": "code",
   "execution_count": 29,
   "metadata": {},
   "outputs": [],
   "source": [
    "df['Species taxonomic ID'] = df['Species taxonomic ID'].apply(int)"
   ]
  },
  {
   "cell_type": "code",
   "execution_count": 30,
   "metadata": {},
   "outputs": [
    {
     "data": {
      "text/plain": [
       "(358333, 10)"
      ]
     },
     "execution_count": 30,
     "metadata": {},
     "output_type": "execute_result"
    }
   ],
   "source": [
    "df.shape"
   ]
  },
  {
   "cell_type": "code",
   "execution_count": 31,
   "metadata": {},
   "outputs": [],
   "source": [
    "df = (df.drop(['Status','Taxonomic lineage IDs'], axis=1)\n",
    "      .groupby('Species taxonomic ID', as_index=False)\n",
    "      .agg({'Virus hosts':set, 'Organism':set,\n",
    "            'Protein names':set, 'Taxonomic lineage (SPECIES)':'first'}))"
   ]
  },
  {
   "cell_type": "code",
   "execution_count": 32,
   "metadata": {},
   "outputs": [],
   "source": [
    "df['Virus hosts'] = df['Virus hosts'].str.join('; ')\n",
    "df['Organism'] = df['Organism'].str.join('; ')\n",
    "df['Protein names'] = df['Protein names'].str.join('; ')"
   ]
  },
  {
   "cell_type": "code",
   "execution_count": 33,
   "metadata": {},
   "outputs": [
    {
     "data": {
      "text/html": [
       "<div>\n",
       "<style scoped>\n",
       "    .dataframe tbody tr th:only-of-type {\n",
       "        vertical-align: middle;\n",
       "    }\n",
       "\n",
       "    .dataframe tbody tr th {\n",
       "        vertical-align: top;\n",
       "    }\n",
       "\n",
       "    .dataframe thead th {\n",
       "        text-align: right;\n",
       "    }\n",
       "</style>\n",
       "<table border=\"1\" class=\"dataframe\">\n",
       "  <thead>\n",
       "    <tr style=\"text-align: right;\">\n",
       "      <th></th>\n",
       "      <th>Species taxonomic ID</th>\n",
       "      <th>Virus hosts</th>\n",
       "      <th>Organism</th>\n",
       "      <th>Protein names</th>\n",
       "      <th>Taxonomic lineage (SPECIES)</th>\n",
       "    </tr>\n",
       "  </thead>\n",
       "  <tbody>\n",
       "    <tr>\n",
       "      <th>9958</th>\n",
       "      <td>2060955</td>\n",
       "      <td></td>\n",
       "      <td>Staphylococcus phage phiSa2wa_st80</td>\n",
       "      <td>Core-binding (CB) domain-containing protein; P...</td>\n",
       "      <td>Staphylococcus phage phiSa2wa_st80</td>\n",
       "    </tr>\n",
       "    <tr>\n",
       "      <th>4281</th>\n",
       "      <td>1134435</td>\n",
       "      <td></td>\n",
       "      <td>Thauera humireducens</td>\n",
       "      <td>Alpha/beta hydrolase; Integrase; Uncharacteriz...</td>\n",
       "      <td>Thauera humireducens</td>\n",
       "    </tr>\n",
       "    <tr>\n",
       "      <th>13487</th>\n",
       "      <td>2652404</td>\n",
       "      <td></td>\n",
       "      <td>Mycobacterium phage Nitzel</td>\n",
       "      <td>Integrase</td>\n",
       "      <td>Mycobacterium phage Nitzel</td>\n",
       "    </tr>\n",
       "    <tr>\n",
       "      <th>7999</th>\n",
       "      <td>1920123</td>\n",
       "      <td></td>\n",
       "      <td>Sphingomonas sp. S-NIH.Pt1_0416</td>\n",
       "      <td>Integrase; DUF4102 domain-containing protein</td>\n",
       "      <td>Sphingomonas sp. S-NIH.Pt1_0416</td>\n",
       "    </tr>\n",
       "    <tr>\n",
       "      <th>6097</th>\n",
       "      <td>1647534</td>\n",
       "      <td></td>\n",
       "      <td>Moraxella phage Mcat19</td>\n",
       "      <td>Integrase; Portal protein</td>\n",
       "      <td>Moraxella phage Mcat19</td>\n",
       "    </tr>\n",
       "  </tbody>\n",
       "</table>\n",
       "</div>"
      ],
      "text/plain": [
       "       Species taxonomic ID Virus hosts                            Organism  \\\n",
       "9958                2060955              Staphylococcus phage phiSa2wa_st80   \n",
       "4281                1134435                            Thauera humireducens   \n",
       "13487               2652404                      Mycobacterium phage Nitzel   \n",
       "7999                1920123                 Sphingomonas sp. S-NIH.Pt1_0416   \n",
       "6097                1647534                          Moraxella phage Mcat19   \n",
       "\n",
       "                                           Protein names  \\\n",
       "9958   Core-binding (CB) domain-containing protein; P...   \n",
       "4281   Alpha/beta hydrolase; Integrase; Uncharacteriz...   \n",
       "13487                                          Integrase   \n",
       "7999        Integrase; DUF4102 domain-containing protein   \n",
       "6097                           Integrase; Portal protein   \n",
       "\n",
       "              Taxonomic lineage (SPECIES)  \n",
       "9958   Staphylococcus phage phiSa2wa_st80  \n",
       "4281                 Thauera humireducens  \n",
       "13487          Mycobacterium phage Nitzel  \n",
       "7999      Sphingomonas sp. S-NIH.Pt1_0416  \n",
       "6097               Moraxella phage Mcat19  "
      ]
     },
     "execution_count": 33,
     "metadata": {},
     "output_type": "execute_result"
    }
   ],
   "source": [
    "df.sample(5)"
   ]
  },
  {
   "cell_type": "code",
   "execution_count": 34,
   "metadata": {},
   "outputs": [
    {
     "data": {
      "text/plain": [
       "(15109, 5)"
      ]
     },
     "execution_count": 34,
     "metadata": {},
     "output_type": "execute_result"
    }
   ],
   "source": [
    "df.shape"
   ]
  },
  {
   "cell_type": "code",
   "execution_count": 35,
   "metadata": {},
   "outputs": [
    {
     "name": "stderr",
     "output_type": "stream",
     "text": [
      "\u001b[2m\u001b[33m(pid=raylet)\u001b[0m E0211 22:02:52.214976912   19236 socket_utils_common_posix.cc:224] check for SO_REUSEPORT: {\"created\":\"@1644609772.214956520\",\"description\":\"SO_REUSEPORT unavailable on compiling system\",\"file\":\"src/core/lib/iomgr/socket_utils_common_posix.cc\",\"file_line\":193}\n"
     ]
    }
   ],
   "source": [
    "df['Species name'] = (df.drop('Taxonomic lineage (SPECIES)', axis=1)\n",
    "                      .swifter.progress_bar(enable=True, desc='Getting Species name')\n",
    "                      .apply(lambda x: getRankName(x['Species taxonomic ID'], \n",
    "                                                   rank='species'), axis=1))"
   ]
  },
  {
   "cell_type": "code",
   "execution_count": 36,
   "metadata": {},
   "outputs": [
    {
     "data": {
      "application/vnd.jupyter.widget-view+json": {
       "model_id": "0c2c63eded8b467a919316efcd9ef297",
       "version_major": 2,
       "version_minor": 0
      },
      "text/plain": [
       "Processing:   0%|          | 0/15109 [00:00<?, ?it/s]"
      ]
     },
     "metadata": {},
     "output_type": "display_data"
    }
   ],
   "source": [
    "df['Species superkingdom'] = df['Species taxonomic ID'].progress_apply(getRankName, rank='superkingdom')"
   ]
  },
  {
   "cell_type": "code",
   "execution_count": 37,
   "metadata": {},
   "outputs": [
    {
     "data": {
      "application/vnd.jupyter.widget-view+json": {
       "model_id": "da8f98d6c3e7440280b5c830e4f9610a",
       "version_major": 2,
       "version_minor": 0
      },
      "text/plain": [
       "Processing:   0%|          | 0/15109 [00:00<?, ?it/s]"
      ]
     },
     "metadata": {},
     "output_type": "display_data"
    }
   ],
   "source": [
    "df['Species family'] = df['Species taxonomic ID'].progress_apply(getRankName, rank='family')"
   ]
  },
  {
   "cell_type": "code",
   "execution_count": 38,
   "metadata": {},
   "outputs": [
    {
     "data": {
      "text/plain": [
       "array(['Bacteria', 'Archaea', 'Eukaryota', 'Viruses', 'IncJ plasmid R391',\n",
       "       'uncultured organism', 'metagenome', 'Plasmid pFKY1',\n",
       "       'human gut metagenome', 'marine metagenome',\n",
       "       'mine drainage metagenome', 'marine sediment metagenome',\n",
       "       'freshwater metagenome',\n",
       "       'uncultured marine microorganism HF4000_005I08',\n",
       "       'wastewater metagenome', 'hydrothermal vent metagenome',\n",
       "       'sediment metagenome', 'viral metagenome', 'biofilter metagenome',\n",
       "       'bioreactor metagenome', 'anaerobic digester metagenome',\n",
       "       'plant metagenome', 'invertebrate metagenome'], dtype=object)"
      ]
     },
     "execution_count": 38,
     "metadata": {},
     "output_type": "execute_result"
    }
   ],
   "source": [
    "df['Species superkingdom'].unique()"
   ]
  },
  {
   "cell_type": "code",
   "execution_count": 39,
   "metadata": {},
   "outputs": [],
   "source": [
    "df = df[df['Species superkingdom'] == 'Viruses']"
   ]
  },
  {
   "cell_type": "code",
   "execution_count": 40,
   "metadata": {},
   "outputs": [
    {
     "data": {
      "text/html": [
       "<div>\n",
       "<style scoped>\n",
       "    .dataframe tbody tr th:only-of-type {\n",
       "        vertical-align: middle;\n",
       "    }\n",
       "\n",
       "    .dataframe tbody tr th {\n",
       "        vertical-align: top;\n",
       "    }\n",
       "\n",
       "    .dataframe thead th {\n",
       "        text-align: right;\n",
       "    }\n",
       "</style>\n",
       "<table border=\"1\" class=\"dataframe\">\n",
       "  <thead>\n",
       "    <tr style=\"text-align: right;\">\n",
       "      <th></th>\n",
       "      <th>Species taxonomic ID</th>\n",
       "      <th>Virus hosts</th>\n",
       "      <th>Organism</th>\n",
       "      <th>Protein names</th>\n",
       "      <th>Taxonomic lineage (SPECIES)</th>\n",
       "      <th>Species name</th>\n",
       "      <th>Species superkingdom</th>\n",
       "      <th>Species family</th>\n",
       "    </tr>\n",
       "  </thead>\n",
       "  <tbody>\n",
       "    <tr>\n",
       "      <th>7597</th>\n",
       "      <td>1891774</td>\n",
       "      <td>Saimiri boliviensis boliviensis (Bolivian squi...</td>\n",
       "      <td>Squirrel monkey polyomavirus</td>\n",
       "      <td>Minor capsid protein VP2 (Minor structural pro...</td>\n",
       "      <td>Saimiri boliviensis polyomavirus 1</td>\n",
       "      <td>Saimiri boliviensis polyomavirus 1</td>\n",
       "      <td>Viruses</td>\n",
       "      <td>Polyomaviridae</td>\n",
       "    </tr>\n",
       "    <tr>\n",
       "      <th>14964</th>\n",
       "      <td>2750850</td>\n",
       "      <td></td>\n",
       "      <td>Escherichia phage vB_EcoM_Lutter</td>\n",
       "      <td>Tail sheath monomer; Portal protein (gp20); Lo...</td>\n",
       "      <td>Escherichia phage vB_EcoM_Lutter</td>\n",
       "      <td>Escherichia phage vB_EcoM_Lutter</td>\n",
       "      <td>Viruses</td>\n",
       "      <td>Myoviridae</td>\n",
       "    </tr>\n",
       "    <tr>\n",
       "      <th>2293</th>\n",
       "      <td>280701</td>\n",
       "      <td></td>\n",
       "      <td>Pseudomonas virus F116</td>\n",
       "      <td>Integrase</td>\n",
       "      <td>Pseudomonas virus F116</td>\n",
       "      <td>Pseudomonas virus F116</td>\n",
       "      <td>Viruses</td>\n",
       "      <td>Podoviridae</td>\n",
       "    </tr>\n",
       "    <tr>\n",
       "      <th>1944</th>\n",
       "      <td>199587</td>\n",
       "      <td></td>\n",
       "      <td>Hollyhock leaf crumple virus-[Cairo]</td>\n",
       "      <td>Capsid protein (Coat protein)</td>\n",
       "      <td>Hollyhock leaf crumple virus</td>\n",
       "      <td>Hollyhock leaf crumple virus</td>\n",
       "      <td>Viruses</td>\n",
       "      <td>Geminiviridae</td>\n",
       "    </tr>\n",
       "    <tr>\n",
       "      <th>12358</th>\n",
       "      <td>2560280</td>\n",
       "      <td></td>\n",
       "      <td>Acinetobacter phage vB_ApiP_P2</td>\n",
       "      <td>Head-to-tail joining protein</td>\n",
       "      <td>Acinetobacter virus P2</td>\n",
       "      <td>Acinetobacter virus P2</td>\n",
       "      <td>Viruses</td>\n",
       "      <td>Autographiviridae</td>\n",
       "    </tr>\n",
       "  </tbody>\n",
       "</table>\n",
       "</div>"
      ],
      "text/plain": [
       "       Species taxonomic ID  \\\n",
       "7597                1891774   \n",
       "14964               2750850   \n",
       "2293                 280701   \n",
       "1944                 199587   \n",
       "12358               2560280   \n",
       "\n",
       "                                             Virus hosts  \\\n",
       "7597   Saimiri boliviensis boliviensis (Bolivian squi...   \n",
       "14964                                                      \n",
       "2293                                                       \n",
       "1944                                                       \n",
       "12358                                                      \n",
       "\n",
       "                                   Organism  \\\n",
       "7597           Squirrel monkey polyomavirus   \n",
       "14964      Escherichia phage vB_EcoM_Lutter   \n",
       "2293                 Pseudomonas virus F116   \n",
       "1944   Hollyhock leaf crumple virus-[Cairo]   \n",
       "12358        Acinetobacter phage vB_ApiP_P2   \n",
       "\n",
       "                                           Protein names  \\\n",
       "7597   Minor capsid protein VP2 (Minor structural pro...   \n",
       "14964  Tail sheath monomer; Portal protein (gp20); Lo...   \n",
       "2293                                           Integrase   \n",
       "1944                       Capsid protein (Coat protein)   \n",
       "12358                       Head-to-tail joining protein   \n",
       "\n",
       "              Taxonomic lineage (SPECIES)                        Species name  \\\n",
       "7597   Saimiri boliviensis polyomavirus 1  Saimiri boliviensis polyomavirus 1   \n",
       "14964    Escherichia phage vB_EcoM_Lutter    Escherichia phage vB_EcoM_Lutter   \n",
       "2293               Pseudomonas virus F116              Pseudomonas virus F116   \n",
       "1944         Hollyhock leaf crumple virus        Hollyhock leaf crumple virus   \n",
       "12358              Acinetobacter virus P2              Acinetobacter virus P2   \n",
       "\n",
       "      Species superkingdom     Species family  \n",
       "7597               Viruses     Polyomaviridae  \n",
       "14964              Viruses         Myoviridae  \n",
       "2293               Viruses        Podoviridae  \n",
       "1944               Viruses      Geminiviridae  \n",
       "12358              Viruses  Autographiviridae  "
      ]
     },
     "execution_count": 40,
     "metadata": {},
     "output_type": "execute_result"
    }
   ],
   "source": [
    "df.sample(5)"
   ]
  },
  {
   "cell_type": "code",
   "execution_count": 41,
   "metadata": {},
   "outputs": [],
   "source": [
    "df.drop(['Taxonomic lineage (SPECIES)'], axis=1, inplace=True)"
   ]
  },
  {
   "cell_type": "code",
   "execution_count": 42,
   "metadata": {},
   "outputs": [],
   "source": [
    "df['Virus hosts'] = np.where(df['Virus hosts']=='', np.nan, df['Virus hosts'])"
   ]
  },
  {
   "cell_type": "code",
   "execution_count": 43,
   "metadata": {},
   "outputs": [
    {
     "data": {
      "text/html": [
       "<div>\n",
       "<style scoped>\n",
       "    .dataframe tbody tr th:only-of-type {\n",
       "        vertical-align: middle;\n",
       "    }\n",
       "\n",
       "    .dataframe tbody tr th {\n",
       "        vertical-align: top;\n",
       "    }\n",
       "\n",
       "    .dataframe thead th {\n",
       "        text-align: right;\n",
       "    }\n",
       "</style>\n",
       "<table border=\"1\" class=\"dataframe\">\n",
       "  <thead>\n",
       "    <tr style=\"text-align: right;\">\n",
       "      <th></th>\n",
       "      <th>Species taxonomic ID</th>\n",
       "      <th>Virus hosts</th>\n",
       "      <th>Organism</th>\n",
       "      <th>Protein names</th>\n",
       "      <th>Species name</th>\n",
       "      <th>Species superkingdom</th>\n",
       "      <th>Species family</th>\n",
       "    </tr>\n",
       "  </thead>\n",
       "  <tbody>\n",
       "    <tr>\n",
       "      <th>12550</th>\n",
       "      <td>2560734</td>\n",
       "      <td>NaN</td>\n",
       "      <td>Salmonella phage STP4-a</td>\n",
       "      <td>Tail sheath protein; Portal protein (gp20); Lo...</td>\n",
       "      <td>Salmonella virus STP4a</td>\n",
       "      <td>Viruses</td>\n",
       "      <td>Myoviridae</td>\n",
       "    </tr>\n",
       "    <tr>\n",
       "      <th>14118</th>\n",
       "      <td>2713246</td>\n",
       "      <td>NaN</td>\n",
       "      <td>Bifidobacterium phage BigBern1</td>\n",
       "      <td>Integrase</td>\n",
       "      <td>Bifidobacterium phage BigBern1</td>\n",
       "      <td>Viruses</td>\n",
       "      <td>Siphoviridae</td>\n",
       "    </tr>\n",
       "    <tr>\n",
       "      <th>13121</th>\n",
       "      <td>2591403</td>\n",
       "      <td>NaN</td>\n",
       "      <td>Achromobacter phage Motura</td>\n",
       "      <td>Tail connector protein; Long tail fiber protei...</td>\n",
       "      <td>Achromobacter phage Motura</td>\n",
       "      <td>Viruses</td>\n",
       "      <td>Myoviridae</td>\n",
       "    </tr>\n",
       "    <tr>\n",
       "      <th>8990</th>\n",
       "      <td>1993867</td>\n",
       "      <td>NaN</td>\n",
       "      <td>Mycobacterium phage Trixie</td>\n",
       "      <td>Integrase</td>\n",
       "      <td>Mycobacterium virus Trixie</td>\n",
       "      <td>Viruses</td>\n",
       "      <td>Siphoviridae</td>\n",
       "    </tr>\n",
       "    <tr>\n",
       "      <th>11372</th>\n",
       "      <td>2461378</td>\n",
       "      <td>NaN</td>\n",
       "      <td>Human adenovirus 86</td>\n",
       "      <td>Hexon protein (CP-H) (Protein II); Fiber; Hexo...</td>\n",
       "      <td>Human adenovirus 86</td>\n",
       "      <td>Viruses</td>\n",
       "      <td>Adenoviridae</td>\n",
       "    </tr>\n",
       "  </tbody>\n",
       "</table>\n",
       "</div>"
      ],
      "text/plain": [
       "       Species taxonomic ID Virus hosts                        Organism  \\\n",
       "12550               2560734         NaN         Salmonella phage STP4-a   \n",
       "14118               2713246         NaN  Bifidobacterium phage BigBern1   \n",
       "13121               2591403         NaN      Achromobacter phage Motura   \n",
       "8990                1993867         NaN      Mycobacterium phage Trixie   \n",
       "11372               2461378         NaN             Human adenovirus 86   \n",
       "\n",
       "                                           Protein names  \\\n",
       "12550  Tail sheath protein; Portal protein (gp20); Lo...   \n",
       "14118                                          Integrase   \n",
       "13121  Tail connector protein; Long tail fiber protei...   \n",
       "8990                                           Integrase   \n",
       "11372  Hexon protein (CP-H) (Protein II); Fiber; Hexo...   \n",
       "\n",
       "                         Species name Species superkingdom Species family  \n",
       "12550          Salmonella virus STP4a              Viruses     Myoviridae  \n",
       "14118  Bifidobacterium phage BigBern1              Viruses   Siphoviridae  \n",
       "13121      Achromobacter phage Motura              Viruses     Myoviridae  \n",
       "8990       Mycobacterium virus Trixie              Viruses   Siphoviridae  \n",
       "11372             Human adenovirus 86              Viruses   Adenoviridae  "
      ]
     },
     "execution_count": 43,
     "metadata": {},
     "output_type": "execute_result"
    }
   ],
   "source": [
    "df[df['Virus hosts'].isnull()].sample(5)"
   ]
  },
  {
   "cell_type": "code",
   "execution_count": 44,
   "metadata": {},
   "outputs": [],
   "source": [
    "df.drop('Organism', axis=1, inplace=True)"
   ]
  },
  {
   "cell_type": "code",
   "execution_count": 45,
   "metadata": {},
   "outputs": [],
   "source": [
    "# List of viruses which do not have assigned hosts in the data\n",
    "noHostViruses = df[df['Virus hosts'].isnull()]['Species name'].unique().tolist()"
   ]
  },
  {
   "cell_type": "code",
   "execution_count": 46,
   "metadata": {},
   "outputs": [],
   "source": [
    "# Create independent dataframe of viruses with no assigned host and simltaneously identify the same viruses from the data \n",
    "# whcih already have assigned hosts and assign host names based on those. \n",
    "df_na_hosts = df[(~df['Virus hosts'].isnull()) & (df['Species name'].isin(noHostViruses))][['Species name', 'Virus hosts']]\n",
    "df_na_hosts = df_na_hosts.groupby('Species name')['Virus hosts'].apply(list)\n",
    "df_na_hosts = df_na_hosts.reset_index(name='Viral hosts nw')"
   ]
  },
  {
   "cell_type": "code",
   "execution_count": 47,
   "metadata": {},
   "outputs": [],
   "source": [
    "# # Previous code reurns a list for multiple host so this code melts the lists into regular string entries\n",
    "df_na_hosts['Viral hosts nw'] = (df_na_hosts['Viral hosts nw']\n",
    "                                 .swifter.progress_bar(desc='Joining host names list', enable=True)\n",
    "                                 .apply('; '.join))"
   ]
  },
  {
   "cell_type": "code",
   "execution_count": 48,
   "metadata": {},
   "outputs": [],
   "source": [
    "# # updates the viruses hosts\n",
    "df_naa = (df[df['Virus hosts'].isnull()]\n",
    "          .merge(df_na_hosts, on='Species name', how='left')\n",
    "          .drop('Virus hosts', axis=1)\n",
    "          .rename({'Viral hosts nw':'Virus hosts'}, axis=1))"
   ]
  },
  {
   "cell_type": "code",
   "execution_count": 49,
   "metadata": {},
   "outputs": [],
   "source": [
    "# Creates independant dataset with viruses which have hosts\n",
    "df_notna = df[~df['Virus hosts'].isnull()]"
   ]
  },
  {
   "cell_type": "code",
   "execution_count": 50,
   "metadata": {},
   "outputs": [],
   "source": [
    "# merges the updated virus hosts dataset with the dataset with viruses which have hosts\n",
    "df = df_naa.append(df_notna)"
   ]
  },
  {
   "cell_type": "code",
   "execution_count": 51,
   "metadata": {},
   "outputs": [
    {
     "data": {
      "text/plain": [
       "(8113, 6)"
      ]
     },
     "execution_count": 51,
     "metadata": {},
     "output_type": "execute_result"
    }
   ],
   "source": [
    "df.shape"
   ]
  },
  {
   "cell_type": "code",
   "execution_count": 52,
   "metadata": {},
   "outputs": [
    {
     "data": {
      "text/html": [
       "<div>\n",
       "<style scoped>\n",
       "    .dataframe tbody tr th:only-of-type {\n",
       "        vertical-align: middle;\n",
       "    }\n",
       "\n",
       "    .dataframe tbody tr th {\n",
       "        vertical-align: top;\n",
       "    }\n",
       "\n",
       "    .dataframe thead th {\n",
       "        text-align: right;\n",
       "    }\n",
       "</style>\n",
       "<table border=\"1\" class=\"dataframe\">\n",
       "  <thead>\n",
       "    <tr style=\"text-align: right;\">\n",
       "      <th></th>\n",
       "      <th>Species taxonomic ID</th>\n",
       "      <th>Protein names</th>\n",
       "      <th>Species name</th>\n",
       "      <th>Species superkingdom</th>\n",
       "      <th>Species family</th>\n",
       "      <th>Virus hosts</th>\n",
       "    </tr>\n",
       "  </thead>\n",
       "  <tbody>\n",
       "    <tr>\n",
       "      <th>6762</th>\n",
       "      <td>2732027</td>\n",
       "      <td>Portal (Connector) protein</td>\n",
       "      <td>Salmonella virus S124</td>\n",
       "      <td>Viruses</td>\n",
       "      <td>Demerecviridae</td>\n",
       "      <td>NaN</td>\n",
       "    </tr>\n",
       "    <tr>\n",
       "      <th>5226</th>\n",
       "      <td>2548226</td>\n",
       "      <td>Integrase</td>\n",
       "      <td>Streptococcus phage Javan512</td>\n",
       "      <td>Viruses</td>\n",
       "      <td>Siphoviridae</td>\n",
       "      <td>NaN</td>\n",
       "    </tr>\n",
       "    <tr>\n",
       "      <th>3623</th>\n",
       "      <td>2041500</td>\n",
       "      <td>Portal protein</td>\n",
       "      <td>Streptococcus phage A0</td>\n",
       "      <td>Viruses</td>\n",
       "      <td>Siphoviridae</td>\n",
       "      <td>NaN</td>\n",
       "    </tr>\n",
       "    <tr>\n",
       "      <th>1844</th>\n",
       "      <td>1562064</td>\n",
       "      <td>Genome polyprotein (EC 3.4.22.28) (P1C) (P1D) ...</td>\n",
       "      <td>Norway rat hunnivirus</td>\n",
       "      <td>Viruses</td>\n",
       "      <td>Picornaviridae</td>\n",
       "      <td>NaN</td>\n",
       "    </tr>\n",
       "    <tr>\n",
       "      <th>6841</th>\n",
       "      <td>2733352</td>\n",
       "      <td>Collar protein</td>\n",
       "      <td>Pseudomonas virus DL62</td>\n",
       "      <td>Viruses</td>\n",
       "      <td>Autographiviridae</td>\n",
       "      <td>NaN</td>\n",
       "    </tr>\n",
       "  </tbody>\n",
       "</table>\n",
       "</div>"
      ],
      "text/plain": [
       "      Species taxonomic ID                                      Protein names  \\\n",
       "6762               2732027                         Portal (Connector) protein   \n",
       "5226               2548226                                          Integrase   \n",
       "3623               2041500                                     Portal protein   \n",
       "1844               1562064  Genome polyprotein (EC 3.4.22.28) (P1C) (P1D) ...   \n",
       "6841               2733352                                     Collar protein   \n",
       "\n",
       "                      Species name Species superkingdom     Species family  \\\n",
       "6762         Salmonella virus S124              Viruses     Demerecviridae   \n",
       "5226  Streptococcus phage Javan512              Viruses       Siphoviridae   \n",
       "3623        Streptococcus phage A0              Viruses       Siphoviridae   \n",
       "1844         Norway rat hunnivirus              Viruses     Picornaviridae   \n",
       "6841        Pseudomonas virus DL62              Viruses  Autographiviridae   \n",
       "\n",
       "     Virus hosts  \n",
       "6762         NaN  \n",
       "5226         NaN  \n",
       "3623         NaN  \n",
       "1844         NaN  \n",
       "6841         NaN  "
      ]
     },
     "execution_count": 52,
     "metadata": {},
     "output_type": "execute_result"
    }
   ],
   "source": [
    "df.sample(5)"
   ]
  },
  {
   "cell_type": "code",
   "execution_count": 53,
   "metadata": {},
   "outputs": [
    {
     "name": "stdout",
     "output_type": "stream",
     "text": [
      "(7512, 6)\n"
     ]
    },
    {
     "data": {
      "text/html": [
       "<div>\n",
       "<style scoped>\n",
       "    .dataframe tbody tr th:only-of-type {\n",
       "        vertical-align: middle;\n",
       "    }\n",
       "\n",
       "    .dataframe tbody tr th {\n",
       "        vertical-align: top;\n",
       "    }\n",
       "\n",
       "    .dataframe thead th {\n",
       "        text-align: right;\n",
       "    }\n",
       "</style>\n",
       "<table border=\"1\" class=\"dataframe\">\n",
       "  <thead>\n",
       "    <tr style=\"text-align: right;\">\n",
       "      <th></th>\n",
       "      <th>Species taxonomic ID</th>\n",
       "      <th>Protein names</th>\n",
       "      <th>Species name</th>\n",
       "      <th>Species superkingdom</th>\n",
       "      <th>Species family</th>\n",
       "      <th>Virus hosts</th>\n",
       "    </tr>\n",
       "  </thead>\n",
       "  <tbody>\n",
       "    <tr>\n",
       "      <th>2627</th>\n",
       "      <td>1913111</td>\n",
       "      <td>Gene transfer agent portal protein</td>\n",
       "      <td>Pseudoalteromonas phage PHS3</td>\n",
       "      <td>Viruses</td>\n",
       "      <td>Siphoviridae</td>\n",
       "      <td>NaN</td>\n",
       "    </tr>\n",
       "    <tr>\n",
       "      <th>3775</th>\n",
       "      <td>2060136</td>\n",
       "      <td>Major capsid protein L1; Minor capsid protein L2</td>\n",
       "      <td>Human papillomavirus type 212</td>\n",
       "      <td>Viruses</td>\n",
       "      <td>Papillomaviridae</td>\n",
       "      <td>NaN</td>\n",
       "    </tr>\n",
       "    <tr>\n",
       "      <th>401</th>\n",
       "      <td>255431</td>\n",
       "      <td>Putative portal protein</td>\n",
       "      <td>Klebsiella phage phiKO2</td>\n",
       "      <td>Viruses</td>\n",
       "      <td>Siphoviridae</td>\n",
       "      <td>NaN</td>\n",
       "    </tr>\n",
       "  </tbody>\n",
       "</table>\n",
       "</div>"
      ],
      "text/plain": [
       "      Species taxonomic ID                                     Protein names  \\\n",
       "2627               1913111                Gene transfer agent portal protein   \n",
       "3775               2060136  Major capsid protein L1; Minor capsid protein L2   \n",
       "401                 255431                           Putative portal protein   \n",
       "\n",
       "                       Species name Species superkingdom    Species family  \\\n",
       "2627   Pseudoalteromonas phage PHS3              Viruses      Siphoviridae   \n",
       "3775  Human papillomavirus type 212              Viruses  Papillomaviridae   \n",
       "401         Klebsiella phage phiKO2              Viruses      Siphoviridae   \n",
       "\n",
       "     Virus hosts  \n",
       "2627         NaN  \n",
       "3775         NaN  \n",
       "401          NaN  "
      ]
     },
     "execution_count": 53,
     "metadata": {},
     "output_type": "execute_result"
    }
   ],
   "source": [
    "print(df[df['Virus hosts'].isnull()].shape)\n",
    "df[df['Virus hosts'].isnull()].sample(3)"
   ]
  },
  {
   "cell_type": "code",
   "execution_count": 54,
   "metadata": {},
   "outputs": [],
   "source": [
    "df['Virus hosts'] = np.where(df['Virus hosts'].isnull(), '',df['Virus hosts'])"
   ]
  },
  {
   "cell_type": "code",
   "execution_count": 55,
   "metadata": {},
   "outputs": [
    {
     "data": {
      "text/html": [
       "<div>\n",
       "<style scoped>\n",
       "    .dataframe tbody tr th:only-of-type {\n",
       "        vertical-align: middle;\n",
       "    }\n",
       "\n",
       "    .dataframe tbody tr th {\n",
       "        vertical-align: top;\n",
       "    }\n",
       "\n",
       "    .dataframe thead th {\n",
       "        text-align: right;\n",
       "    }\n",
       "</style>\n",
       "<table border=\"1\" class=\"dataframe\">\n",
       "  <thead>\n",
       "    <tr style=\"text-align: right;\">\n",
       "      <th></th>\n",
       "      <th>Species taxonomic ID</th>\n",
       "      <th>Protein names</th>\n",
       "      <th>Species name</th>\n",
       "      <th>Species superkingdom</th>\n",
       "      <th>Species family</th>\n",
       "      <th>Virus hosts</th>\n",
       "    </tr>\n",
       "  </thead>\n",
       "  <tbody>\n",
       "    <tr>\n",
       "      <th>2565</th>\n",
       "      <td>1897751</td>\n",
       "      <td>Integrase; Tape measure protein (TMP); Portal ...</td>\n",
       "      <td>Vibrio phage pVa-1</td>\n",
       "      <td>Viruses</td>\n",
       "      <td>Siphoviridae</td>\n",
       "      <td></td>\n",
       "    </tr>\n",
       "    <tr>\n",
       "      <th>2493</th>\n",
       "      <td>329853</td>\n",
       "      <td>Maturation protein A (MP) (Assembly protein) (...</td>\n",
       "      <td>Escherichia virus BZ13</td>\n",
       "      <td>Viruses</td>\n",
       "      <td>Leviviridae</td>\n",
       "      <td>Escherichia coli [TaxID: 562]</td>\n",
       "    </tr>\n",
       "    <tr>\n",
       "      <th>59</th>\n",
       "      <td>39103</td>\n",
       "      <td>Integrase; Portal protein</td>\n",
       "      <td>Lactobacillus phage PL-1</td>\n",
       "      <td>Viruses</td>\n",
       "      <td>Siphoviridae</td>\n",
       "      <td></td>\n",
       "    </tr>\n",
       "  </tbody>\n",
       "</table>\n",
       "</div>"
      ],
      "text/plain": [
       "      Species taxonomic ID                                      Protein names  \\\n",
       "2565               1897751  Integrase; Tape measure protein (TMP); Portal ...   \n",
       "2493                329853  Maturation protein A (MP) (Assembly protein) (...   \n",
       "59                   39103                          Integrase; Portal protein   \n",
       "\n",
       "                  Species name Species superkingdom Species family  \\\n",
       "2565        Vibrio phage pVa-1              Viruses   Siphoviridae   \n",
       "2493    Escherichia virus BZ13              Viruses    Leviviridae   \n",
       "59    Lactobacillus phage PL-1              Viruses   Siphoviridae   \n",
       "\n",
       "                        Virus hosts  \n",
       "2565                                 \n",
       "2493  Escherichia coli [TaxID: 562]  \n",
       "59                                   "
      ]
     },
     "execution_count": 55,
     "metadata": {},
     "output_type": "execute_result"
    }
   ],
   "source": [
    "df.sample(3)"
   ]
  },
  {
   "cell_type": "code",
   "execution_count": 56,
   "metadata": {},
   "outputs": [],
   "source": [
    "df = mergeRows(df, 'Species taxonomic ID','Virus hosts')"
   ]
  },
  {
   "cell_type": "code",
   "execution_count": 57,
   "metadata": {},
   "outputs": [
    {
     "data": {
      "text/html": [
       "<div>\n",
       "<style scoped>\n",
       "    .dataframe tbody tr th:only-of-type {\n",
       "        vertical-align: middle;\n",
       "    }\n",
       "\n",
       "    .dataframe tbody tr th {\n",
       "        vertical-align: top;\n",
       "    }\n",
       "\n",
       "    .dataframe thead th {\n",
       "        text-align: right;\n",
       "    }\n",
       "</style>\n",
       "<table border=\"1\" class=\"dataframe\">\n",
       "  <thead>\n",
       "    <tr style=\"text-align: right;\">\n",
       "      <th></th>\n",
       "      <th>Species taxonomic ID</th>\n",
       "      <th>Virus hosts</th>\n",
       "      <th>Protein names</th>\n",
       "      <th>Species name</th>\n",
       "      <th>Species superkingdom</th>\n",
       "      <th>Species family</th>\n",
       "    </tr>\n",
       "  </thead>\n",
       "  <tbody>\n",
       "    <tr>\n",
       "      <th>161</th>\n",
       "      <td>11320</td>\n",
       "      <td>; Sus scrofa (Pig) [TaxID: 9823]; Homo sapiens...</td>\n",
       "      <td>Nucleoprotein (Nucleocapsid protein) (Protein ...</td>\n",
       "      <td>Influenza A virus</td>\n",
       "      <td>Viruses</td>\n",
       "      <td>Orthomyxoviridae</td>\n",
       "    </tr>\n",
       "  </tbody>\n",
       "</table>\n",
       "</div>"
      ],
      "text/plain": [
       "     Species taxonomic ID                                        Virus hosts  \\\n",
       "161                 11320  ; Sus scrofa (Pig) [TaxID: 9823]; Homo sapiens...   \n",
       "\n",
       "                                         Protein names       Species name  \\\n",
       "161  Nucleoprotein (Nucleocapsid protein) (Protein ...  Influenza A virus   \n",
       "\n",
       "    Species superkingdom    Species family  \n",
       "161              Viruses  Orthomyxoviridae  "
      ]
     },
     "execution_count": 57,
     "metadata": {},
     "output_type": "execute_result"
    }
   ],
   "source": [
    "df[(df['Species name'].str.contains('Influenza A virus')) & (df['Virus hosts'] != '')]"
   ]
  },
  {
   "cell_type": "code",
   "execution_count": 58,
   "metadata": {},
   "outputs": [
    {
     "data": {
      "text/html": [
       "<div>\n",
       "<style scoped>\n",
       "    .dataframe tbody tr th:only-of-type {\n",
       "        vertical-align: middle;\n",
       "    }\n",
       "\n",
       "    .dataframe tbody tr th {\n",
       "        vertical-align: top;\n",
       "    }\n",
       "\n",
       "    .dataframe thead th {\n",
       "        text-align: right;\n",
       "    }\n",
       "</style>\n",
       "<table border=\"1\" class=\"dataframe\">\n",
       "  <thead>\n",
       "    <tr style=\"text-align: right;\">\n",
       "      <th></th>\n",
       "      <th>Species taxonomic ID</th>\n",
       "      <th>Virus hosts</th>\n",
       "      <th>Protein names</th>\n",
       "      <th>Species name</th>\n",
       "      <th>Species superkingdom</th>\n",
       "      <th>Species family</th>\n",
       "    </tr>\n",
       "  </thead>\n",
       "  <tbody>\n",
       "    <tr>\n",
       "      <th>5712</th>\n",
       "      <td>2548091</td>\n",
       "      <td></td>\n",
       "      <td>Integrase</td>\n",
       "      <td>Streptococcus phage Javan278</td>\n",
       "      <td>Viruses</td>\n",
       "      <td>Siphoviridae</td>\n",
       "    </tr>\n",
       "    <tr>\n",
       "      <th>2142</th>\n",
       "      <td>1458842</td>\n",
       "      <td></td>\n",
       "      <td>Portal protein</td>\n",
       "      <td>Geobacillus phage GBK2</td>\n",
       "      <td>Viruses</td>\n",
       "      <td>Siphoviridae</td>\n",
       "    </tr>\n",
       "    <tr>\n",
       "      <th>933</th>\n",
       "      <td>338079</td>\n",
       "      <td>; Homo sapiens (Human) [TaxID: 9606]; Chloroce...</td>\n",
       "      <td>p3]; Gag polyprotein (Pr71Gag) [Cleaved into: ...</td>\n",
       "      <td>African green monkey simian foamy virus</td>\n",
       "      <td>Viruses</td>\n",
       "      <td>Retroviridae</td>\n",
       "    </tr>\n",
       "  </tbody>\n",
       "</table>\n",
       "</div>"
      ],
      "text/plain": [
       "      Species taxonomic ID                                        Virus hosts  \\\n",
       "5712               2548091                                                      \n",
       "2142               1458842                                                      \n",
       "933                 338079  ; Homo sapiens (Human) [TaxID: 9606]; Chloroce...   \n",
       "\n",
       "                                          Protein names  \\\n",
       "5712                                          Integrase   \n",
       "2142                                     Portal protein   \n",
       "933   p3]; Gag polyprotein (Pr71Gag) [Cleaved into: ...   \n",
       "\n",
       "                                 Species name Species superkingdom  \\\n",
       "5712             Streptococcus phage Javan278              Viruses   \n",
       "2142                   Geobacillus phage GBK2              Viruses   \n",
       "933   African green monkey simian foamy virus              Viruses   \n",
       "\n",
       "     Species family  \n",
       "5712   Siphoviridae  \n",
       "2142   Siphoviridae  \n",
       "933    Retroviridae  "
      ]
     },
     "execution_count": 58,
     "metadata": {},
     "output_type": "execute_result"
    }
   ],
   "source": [
    "df.sample(3)"
   ]
  },
  {
   "cell_type": "code",
   "execution_count": 59,
   "metadata": {},
   "outputs": [],
   "source": [
    "dfna = df[df['Virus hosts'] == '']\n",
    "df = df[~(df['Virus hosts'] == '')]"
   ]
  },
  {
   "cell_type": "code",
   "execution_count": 60,
   "metadata": {},
   "outputs": [
    {
     "data": {
      "text/plain": [
       "(7512, 6)"
      ]
     },
     "execution_count": 60,
     "metadata": {},
     "output_type": "execute_result"
    }
   ],
   "source": [
    "dfna.shape"
   ]
  },
  {
   "cell_type": "code",
   "execution_count": 61,
   "metadata": {},
   "outputs": [
    {
     "data": {
      "text/plain": [
       "(601, 6)"
      ]
     },
     "execution_count": 61,
     "metadata": {},
     "output_type": "execute_result"
    }
   ],
   "source": [
    "df.shape"
   ]
  },
  {
   "cell_type": "markdown",
   "metadata": {},
   "source": [
    "## Updating host names from external sources"
   ]
  },
  {
   "cell_type": "code",
   "execution_count": 62,
   "metadata": {},
   "outputs": [
    {
     "data": {
      "text/plain": [
       "(2599675, 3)"
      ]
     },
     "execution_count": 62,
     "metadata": {},
     "output_type": "execute_result"
    }
   ],
   "source": [
    "df2 = pd.read_csv('../data/sequences.csv')\n",
    "df2.shape"
   ]
  },
  {
   "cell_type": "code",
   "execution_count": 63,
   "metadata": {},
   "outputs": [
    {
     "data": {
      "text/html": [
       "<div>\n",
       "<style scoped>\n",
       "    .dataframe tbody tr th:only-of-type {\n",
       "        vertical-align: middle;\n",
       "    }\n",
       "\n",
       "    .dataframe tbody tr th {\n",
       "        vertical-align: top;\n",
       "    }\n",
       "\n",
       "    .dataframe thead th {\n",
       "        text-align: right;\n",
       "    }\n",
       "</style>\n",
       "<table border=\"1\" class=\"dataframe\">\n",
       "  <thead>\n",
       "    <tr style=\"text-align: right;\">\n",
       "      <th></th>\n",
       "      <th>Species</th>\n",
       "      <th>Molecule_type</th>\n",
       "      <th>Host</th>\n",
       "    </tr>\n",
       "  </thead>\n",
       "  <tbody>\n",
       "    <tr>\n",
       "      <th>1048233</th>\n",
       "      <td>Human immunodeficiency virus 1</td>\n",
       "      <td>ssRNA-RT</td>\n",
       "      <td>Homo sapiens</td>\n",
       "    </tr>\n",
       "    <tr>\n",
       "      <th>2183509</th>\n",
       "      <td>Rotavirus A</td>\n",
       "      <td>dsRNA</td>\n",
       "      <td>Equus caballus</td>\n",
       "    </tr>\n",
       "  </tbody>\n",
       "</table>\n",
       "</div>"
      ],
      "text/plain": [
       "                                Species Molecule_type            Host\n",
       "1048233  Human immunodeficiency virus 1      ssRNA-RT    Homo sapiens\n",
       "2183509                     Rotavirus A         dsRNA  Equus caballus"
      ]
     },
     "execution_count": 63,
     "metadata": {},
     "output_type": "execute_result"
    }
   ],
   "source": [
    "df2.sample(2)"
   ]
  },
  {
   "cell_type": "code",
   "execution_count": 64,
   "metadata": {},
   "outputs": [
    {
     "data": {
      "text/plain": [
       "(10956, 3)"
      ]
     },
     "execution_count": 64,
     "metadata": {},
     "output_type": "execute_result"
    }
   ],
   "source": [
    "df2.drop_duplicates(inplace=True)\n",
    "df2.shape"
   ]
  },
  {
   "cell_type": "code",
   "execution_count": 65,
   "metadata": {
    "scrolled": true,
    "tags": []
   },
   "outputs": [
    {
     "data": {
      "application/vnd.jupyter.widget-view+json": {
       "model_id": "114c4c22024f4b7cbebc44547473eb65",
       "version_major": 2,
       "version_minor": 0
      },
      "text/plain": [
       "Processing:   0%|          | 0/10956 [00:00<?, ?it/s]"
      ]
     },
     "metadata": {},
     "output_type": "display_data"
    },
    {
     "name": "stdout",
     "output_type": "stream",
     "text": [
      "'Ungulate copiparvovirus 5'\n",
      "'Feline pegivirus JP03-2471'\n",
      "'Feline pegivirus JP03-3208'\n",
      "'Mamastrovirus HMU-1'\n",
      "'Hedgehog coronavirus'\n",
      "'Cingulatid gammaherpesvirus 1'\n",
      "'Mammarenavirus AnRB3214'\n",
      "'Bat SARS-like coronavirus Khosta-1'\n",
      "'Bat SARS-like coronavirus Khosta-2'\n",
      "'Ungulate copiparvovirus 5'\n",
      "'Torque teno mustelid virus 2'\n",
      "'Feline stool-associated circular virus'\n",
      "'Jingmen Rhinolophus sinicus hepacivirus 1'\n",
      "'Wenzhou Apodemus agrarius hepacivirus 1'\n",
      "'Longquan Rhinolophus sinicus hepacivirus 1'\n",
      "'Longquan Niviventer niviventer hepacivirus 1'\n",
      "'Longquan Niviventer fulvescens hepacivirus 1'\n",
      "'Wenzhou Suncus murinus hepacivirus 1'\n",
      "'Wufeng Rhinolophus sinicus hepacivirus 1'\n",
      "'Wufeng Niviventer niviventer hepacivirus 1'\n",
      "'Wufeng Niviventer fulvescens hepacivirus 1'\n",
      "'Wenzhou Rattus norvegicus pegivirus 1'\n",
      "'Wenzhou Rattus tanezumi pegivirus 1'\n",
      "'Longquan Rhinolophus pearsonii pegivirus 1'\n",
      "'Longquan Rhinolophus sinicus pegivirus 1'\n",
      "'Longquan Niviventer niviventer pegivirus 1'\n",
      "'Longquan Niviventer fulvescens pegivirus 1'\n",
      "'Wufeng Niviventer niviventer pegivirus 1'\n",
      "'Wufeng Niviventer fulvescens pegivirus 1'\n",
      "'Wenzhou Rattus norvegicus orthohepevirus 1'\n",
      "'Longquan Rhinolophus sinicus orthohepevirus 1'\n",
      "'Wenzhou Pipistrellus abramus orthohepevirus 1'\n",
      "'Wolvfec circovius'\n",
      "'Torque teno equus virus 2'\n",
      "'Martes foina papillomavirus 1'\n",
      "'Torque teno arctocephalus australis virus'\n",
      "'Raccoon dog stool-associated circular virus'\n",
      "'Raccoon dog stool-associated gemycircularvirus 1'\n",
      "'Raccoon dog stool-associated gemycircularvirus 2'\n",
      "'Raccoon dog stool-associated smacovirus 1'\n",
      "'Raccoon dog stool-associated smacovirus 2'\n",
      "'Raccoon dog stool-associated smacovirus 3'\n",
      "'Raccoon dog stool-associated smacovirus 4'\n",
      "'Raccoon dog stool-associated smacovirus 5'\n",
      "'Raccoon dog stool-associated smacovirus 6'\n",
      "'Raccoon dog stool-Circo-like_virus'\n",
      "'Raccoon dog stool-associated hepe-like virus'\n",
      "'Raccoon dog enterovirus'\n",
      "'Raccoon dog astrovirus'\n",
      "'Elaphodus cephalophus bocaparvovirus'\n",
      "'Redondoviridae sp.'\n",
      "'Cosavirus SVH-69/VEN'\n",
      "'Prosimian retrovirus 1'\n",
      "'bat gammaherpesvirus'\n",
      "'bat gammaherpesvirus'\n",
      "'bat gammaherpesvirus'\n",
      "'bat gammaherpesvirus'\n",
      "'bat gammaherpesvirus'\n",
      "'bat betaherpesvirus'\n",
      "'bat betaherpesvirus'\n",
      "'bat betaherpesvirus'\n",
      "'Batu Kawa virus'\n",
      "'Porcine circovirus-like mini agent PCVL258'\n",
      "'Porcine circovirus-like mini agent PCVL264'\n",
      "'Porcine circovirus-like mini agent PCVL258'\n",
      "'Bat picornavirus LMA6'\n",
      "'Bat picornavirus HUA1'\n",
      "'Bat picornavirus CUS8'\n",
      "'Copiparvovirus 101/BR/2018'\n",
      "'Bufavirus Henan38'\n",
      "'Bufavirus Henan44'\n",
      "'Equine hepatitis B virus'\n",
      "'Equine hepatitis B virus'\n",
      "'Pangolin respirovirus'\n",
      "'Bovine enterovirus HB19-1'\n",
      "'Bovine enterovirus GX20-1'\n",
      "'Delphin genomovirus 3'\n",
      "'Delphin virus 2'\n",
      "'Delphin genomovirus 1'\n",
      "'Delphin virus 1'\n",
      "'Delphin genomovirus 2'\n",
      "'Delphin virus 3'\n",
      "'Orca polyomavirus'\n",
      "'Bovine enterovirus JS20-1'\n",
      "'nan'\n",
      "'nan'\n",
      "'nan'\n",
      "'nan'\n"
     ]
    },
    {
     "data": {
      "application/vnd.jupyter.widget-view+json": {
       "model_id": "474310995fe24ebeada062b1b3b85b8e",
       "version_major": 2,
       "version_minor": 0
      },
      "text/plain": [
       "Processing:   0%|          | 0/10956 [00:00<?, ?it/s]"
      ]
     },
     "metadata": {},
     "output_type": "display_data"
    },
    {
     "name": "stdout",
     "output_type": "stream",
     "text": [
      "'Bolomys lasiurus'\n",
      "'Bolomys lasiurus'\n",
      "'Pipistrellus sp. pipistrellus/pygmaeus AO-2021'\n",
      "'Pipistrellus musciculus'\n",
      "'Funisciurus bayonii'\n",
      "'Rattus sp. r3 YH-2020'\n",
      "'Rattus sp. r3 YH-2020'\n",
      "'Soricidae sp. YH-2020'\n",
      "'Rattus sp. r3 YH-2020'\n",
      "'Rattus sp. r3 YH-2020'\n",
      "'Acomys selousi'\n",
      "'Rhinolophus smithersi'\n",
      "'Alouatta sp.'\n",
      "'Pipistrellys abramus'\n",
      "'Sturnira angeli'\n",
      "'Sturnira angeli'\n",
      "'Hipposideros curtus'\n",
      "'Pipistrellus inexspectatus'\n",
      "'Dobsonia exoleta'\n",
      "'Mops demonstrator'\n",
      "'Pipistrellus musciculus'\n",
      "'Mus sp. TG-2020'\n",
      "'Murinae gen. sp. TG-2020'\n",
      "'Vespadelus baverstocki'\n",
      "'Ozimops sp. DP-2019'\n",
      "'Scoterepens balstoni'\n",
      "'Neoromicia capensis'\n",
      "'Neoromicia capensis'\n",
      "'Mus sp. CL-2019'\n",
      "'Mus sp. CL-2019'\n",
      "'Neoromicia capensis'\n",
      "'Bolomys lasiurus'\n",
      "'Bolomys lasiurus'\n",
      "'Bolomys lasiurus'\n",
      "'Neoromicia capensis'\n",
      "'Neoromicia capensis'\n",
      "'Neoromicia capensis'\n",
      "'Neoromicia capensis'\n",
      "'Bolomys lasiurus'\n",
      "'Pipistrellus inexspectatus'\n",
      "'Chiroptera sp.'\n",
      "'Chaerephon aloysiisabaudiae'\n",
      "'Chiroptera sp.'\n",
      "'Paradoxurus musangus'\n",
      "'Neoromicia capensis'\n",
      "'Natalus lanatus'\n",
      "'Bolomys lasiurus'\n",
      "'Bolomys lasiurus'\n",
      "'Neoromicia capensis'\n",
      "'Neoromicia capensis'\n",
      "'Neoromicia capensis'\n",
      "'Neoromicia capensis'\n",
      "'Neoromicia capensis'\n",
      "'Neoromicia capensis'\n",
      "'Neoromicia capensis'\n",
      "'Neoromicia capensis'\n",
      "'Neoromicia capensis'\n",
      "'Aethomys hindei medicatus'\n",
      "'Sus scrofa ibericus'\n",
      "'Bolomys lasiurus'\n",
      "'Alouatta sp.'\n",
      "'Bolomys lasiurus'\n",
      "'Bolomys lasiurus'\n",
      "'Bolomys lasiurus'\n",
      "'Bolomys lasiurus'\n",
      "'Bolomys lasiurus'\n"
     ]
    }
   ],
   "source": [
    "df2['Species ID'], df2['Host ID'] = df2['Species'].progress_apply(getIDfromName), df2['Host'].progress_apply(getIDfromName)"
   ]
  },
  {
   "cell_type": "code",
   "execution_count": 66,
   "metadata": {},
   "outputs": [
    {
     "data": {
      "text/plain": [
       "(10802, 5)"
      ]
     },
     "execution_count": 66,
     "metadata": {},
     "output_type": "execute_result"
    }
   ],
   "source": [
    "df2.dropna(inplace=True)\n",
    "df2['Species ID'], df2['Host ID'] = df2['Species ID'].astype(int), df2['Host ID'].astype(int)\n",
    "df2.shape"
   ]
  },
  {
   "cell_type": "code",
   "execution_count": 67,
   "metadata": {},
   "outputs": [
    {
     "data": {
      "application/vnd.jupyter.widget-view+json": {
       "model_id": "2d02ffd850074b9c9ee38adcc7bf0991",
       "version_major": 2,
       "version_minor": 0
      },
      "text/plain": [
       "Processing:   0%|          | 0/10802 [00:00<?, ?it/s]"
      ]
     },
     "metadata": {},
     "output_type": "display_data"
    }
   ],
   "source": [
    "df2['Host name'] = df2.progress_apply(lambda x: nameMerger(x['Host'], x['Host ID']), axis=1)\n",
    "# Remove Host and Host ID columns as they have been merged and are no longer needed\n",
    "df2.drop(['Host', 'Host ID'], axis=1, inplace=True)"
   ]
  },
  {
   "cell_type": "code",
   "execution_count": 68,
   "metadata": {},
   "outputs": [
    {
     "data": {
      "application/vnd.jupyter.widget-view+json": {
       "model_id": "1dd8495fc22541afaae75d4810aae5bc",
       "version_major": 2,
       "version_minor": 0
      },
      "text/plain": [
       "Processing:   0%|          | 0/10802 [00:00<?, ?it/s]"
      ]
     },
     "metadata": {},
     "output_type": "display_data"
    }
   ],
   "source": [
    "df2['Species ID'] = df2['Species ID'].progress_apply(getRankID, rank='species')"
   ]
  },
  {
   "cell_type": "code",
   "execution_count": 69,
   "metadata": {},
   "outputs": [],
   "source": [
    "## Create a copy for later use\n",
    "dfff = df2.copy()"
   ]
  },
  {
   "cell_type": "code",
   "execution_count": 70,
   "metadata": {},
   "outputs": [],
   "source": [
    "# Add host names\n",
    "df_na_hosts = AggregateHosts(df2,'Species ID', 'Host name')\n",
    "dfna = dfna.merge(df_na_hosts, left_on='Species taxonomic ID', right_on='Species ID', how='left')\n",
    "dfna = dfna.drop(['Virus hosts', 'Species ID'], axis=1).rename({'Host name':'Virus hosts'}, axis=1)\n",
    "dfna = UpdateHosts(dfna, df_na_hosts, 'Species taxonomic ID', 'Species ID')\n",
    "df, dfna = UpdateMain(df, dfna)\n",
    "df = mergeRows(df, 'Species taxonomic ID', 'Virus hosts')"
   ]
  },
  {
   "cell_type": "code",
   "execution_count": 71,
   "metadata": {},
   "outputs": [
    {
     "data": {
      "text/plain": [
       "(6476, 6)"
      ]
     },
     "execution_count": 71,
     "metadata": {},
     "output_type": "execute_result"
    }
   ],
   "source": [
    "dfna.shape"
   ]
  },
  {
   "cell_type": "code",
   "execution_count": 72,
   "metadata": {},
   "outputs": [
    {
     "data": {
      "text/plain": [
       "(1637, 6)"
      ]
     },
     "execution_count": 72,
     "metadata": {},
     "output_type": "execute_result"
    }
   ],
   "source": [
    "df.shape"
   ]
  },
  {
   "cell_type": "code",
   "execution_count": 73,
   "metadata": {
    "tags": []
   },
   "outputs": [
    {
     "data": {
      "text/html": [
       "<div>\n",
       "<style scoped>\n",
       "    .dataframe tbody tr th:only-of-type {\n",
       "        vertical-align: middle;\n",
       "    }\n",
       "\n",
       "    .dataframe tbody tr th {\n",
       "        vertical-align: top;\n",
       "    }\n",
       "\n",
       "    .dataframe thead th {\n",
       "        text-align: right;\n",
       "    }\n",
       "</style>\n",
       "<table border=\"1\" class=\"dataframe\">\n",
       "  <thead>\n",
       "    <tr style=\"text-align: right;\">\n",
       "      <th></th>\n",
       "      <th>virus tax id</th>\n",
       "      <th>virus name</th>\n",
       "      <th>virus lineage</th>\n",
       "      <th>refseq id</th>\n",
       "      <th>KEGG GENOME</th>\n",
       "      <th>KEGG DISEASE</th>\n",
       "      <th>DISEASE</th>\n",
       "      <th>host tax id</th>\n",
       "      <th>host name</th>\n",
       "      <th>host lineage</th>\n",
       "      <th>pmid</th>\n",
       "      <th>evidence</th>\n",
       "      <th>sample type</th>\n",
       "      <th>source organism</th>\n",
       "    </tr>\n",
       "  </thead>\n",
       "  <tbody>\n",
       "    <tr>\n",
       "      <th>0</th>\n",
       "      <td>438782</td>\n",
       "      <td>Abaca bunchy top virus</td>\n",
       "      <td>Viruses; Monodnaviria; Shotokuvirae; Cressdnav...</td>\n",
       "      <td>NC_010314, NC_010315, NC_010316, NC_010317, NC...</td>\n",
       "      <td>NaN</td>\n",
       "      <td>NaN</td>\n",
       "      <td>NaN</td>\n",
       "      <td>46838.0</td>\n",
       "      <td>Musa sp.</td>\n",
       "      <td>Eukaryota; Viridiplantae; Streptophyta; Strept...</td>\n",
       "      <td>17978886</td>\n",
       "      <td>Literature, NCBI Virus, RefSeq</td>\n",
       "      <td>NaN</td>\n",
       "      <td>NaN</td>\n",
       "    </tr>\n",
       "    <tr>\n",
       "      <th>1</th>\n",
       "      <td>438782</td>\n",
       "      <td>Abaca bunchy top virus</td>\n",
       "      <td>Viruses; Monodnaviria; Shotokuvirae; Cressdnav...</td>\n",
       "      <td>NC_010314, NC_010315, NC_010316, NC_010317, NC...</td>\n",
       "      <td>NaN</td>\n",
       "      <td>NaN</td>\n",
       "      <td>NaN</td>\n",
       "      <td>214697.0</td>\n",
       "      <td>Musa acuminata AAA Group</td>\n",
       "      <td>Eukaryota; Viridiplantae; Streptophyta; Strept...</td>\n",
       "      <td>17978886</td>\n",
       "      <td>Literature</td>\n",
       "      <td>NaN</td>\n",
       "      <td>NaN</td>\n",
       "    </tr>\n",
       "    <tr>\n",
       "      <th>2</th>\n",
       "      <td>1241371</td>\n",
       "      <td>Abalone herpesvirus Victoria/AUS/2009</td>\n",
       "      <td>Viruses; Duplodnaviria; Heunggongvirae; Peplov...</td>\n",
       "      <td>NC_018874</td>\n",
       "      <td>NaN</td>\n",
       "      <td>NaN</td>\n",
       "      <td>NaN</td>\n",
       "      <td>6451.0</td>\n",
       "      <td>Haliotidae</td>\n",
       "      <td>Eukaryota; Opisthokonta; Metazoa; Eumetazoa; B...</td>\n",
       "      <td>NaN</td>\n",
       "      <td>UniProt</td>\n",
       "      <td>NaN</td>\n",
       "      <td>NaN</td>\n",
       "    </tr>\n",
       "  </tbody>\n",
       "</table>\n",
       "</div>"
      ],
      "text/plain": [
       "   virus tax id                             virus name  \\\n",
       "0        438782                 Abaca bunchy top virus   \n",
       "1        438782                 Abaca bunchy top virus   \n",
       "2       1241371  Abalone herpesvirus Victoria/AUS/2009   \n",
       "\n",
       "                                       virus lineage  \\\n",
       "0  Viruses; Monodnaviria; Shotokuvirae; Cressdnav...   \n",
       "1  Viruses; Monodnaviria; Shotokuvirae; Cressdnav...   \n",
       "2  Viruses; Duplodnaviria; Heunggongvirae; Peplov...   \n",
       "\n",
       "                                           refseq id KEGG GENOME KEGG DISEASE  \\\n",
       "0  NC_010314, NC_010315, NC_010316, NC_010317, NC...         NaN          NaN   \n",
       "1  NC_010314, NC_010315, NC_010316, NC_010317, NC...         NaN          NaN   \n",
       "2                                          NC_018874         NaN          NaN   \n",
       "\n",
       "  DISEASE  host tax id                 host name  \\\n",
       "0     NaN      46838.0                  Musa sp.   \n",
       "1     NaN     214697.0  Musa acuminata AAA Group   \n",
       "2     NaN       6451.0                Haliotidae   \n",
       "\n",
       "                                        host lineage      pmid  \\\n",
       "0  Eukaryota; Viridiplantae; Streptophyta; Strept...  17978886   \n",
       "1  Eukaryota; Viridiplantae; Streptophyta; Strept...  17978886   \n",
       "2  Eukaryota; Opisthokonta; Metazoa; Eumetazoa; B...       NaN   \n",
       "\n",
       "                         evidence sample type  source organism  \n",
       "0  Literature, NCBI Virus, RefSeq         NaN              NaN  \n",
       "1                      Literature         NaN              NaN  \n",
       "2                         UniProt         NaN              NaN  "
      ]
     },
     "execution_count": 73,
     "metadata": {},
     "output_type": "execute_result"
    }
   ],
   "source": [
    "df2 = pd.read_table('../data/virushostdb.tsv')\n",
    "df2.head(3)"
   ]
  },
  {
   "cell_type": "code",
   "execution_count": 74,
   "metadata": {},
   "outputs": [
    {
     "name": "stdout",
     "output_type": "stream",
     "text": [
      "(16612, 4)\n"
     ]
    },
    {
     "data": {
      "text/html": [
       "<div>\n",
       "<style scoped>\n",
       "    .dataframe tbody tr th:only-of-type {\n",
       "        vertical-align: middle;\n",
       "    }\n",
       "\n",
       "    .dataframe tbody tr th {\n",
       "        vertical-align: top;\n",
       "    }\n",
       "\n",
       "    .dataframe thead th {\n",
       "        text-align: right;\n",
       "    }\n",
       "</style>\n",
       "<table border=\"1\" class=\"dataframe\">\n",
       "  <thead>\n",
       "    <tr style=\"text-align: right;\">\n",
       "      <th></th>\n",
       "      <th>virus tax id</th>\n",
       "      <th>virus name</th>\n",
       "      <th>host tax id</th>\n",
       "      <th>host name</th>\n",
       "    </tr>\n",
       "  </thead>\n",
       "  <tbody>\n",
       "    <tr>\n",
       "      <th>0</th>\n",
       "      <td>438782</td>\n",
       "      <td>Abaca bunchy top virus</td>\n",
       "      <td>46838.0</td>\n",
       "      <td>Musa sp.</td>\n",
       "    </tr>\n",
       "    <tr>\n",
       "      <th>1</th>\n",
       "      <td>438782</td>\n",
       "      <td>Abaca bunchy top virus</td>\n",
       "      <td>214697.0</td>\n",
       "      <td>Musa acuminata AAA Group</td>\n",
       "    </tr>\n",
       "    <tr>\n",
       "      <th>2</th>\n",
       "      <td>1241371</td>\n",
       "      <td>Abalone herpesvirus Victoria/AUS/2009</td>\n",
       "      <td>6451.0</td>\n",
       "      <td>Haliotidae</td>\n",
       "    </tr>\n",
       "    <tr>\n",
       "      <th>3</th>\n",
       "      <td>1241371</td>\n",
       "      <td>Abalone herpesvirus Victoria/AUS/2009</td>\n",
       "      <td>36100.0</td>\n",
       "      <td>Haliotis rubra</td>\n",
       "    </tr>\n",
       "    <tr>\n",
       "      <th>4</th>\n",
       "      <td>491893</td>\n",
       "      <td>Abalone shriveling syndrome-associated virus</td>\n",
       "      <td>37770.0</td>\n",
       "      <td>Haliotis diversicolor aquatilis</td>\n",
       "    </tr>\n",
       "  </tbody>\n",
       "</table>\n",
       "</div>"
      ],
      "text/plain": [
       "   virus tax id                                    virus name  host tax id  \\\n",
       "0        438782                        Abaca bunchy top virus      46838.0   \n",
       "1        438782                        Abaca bunchy top virus     214697.0   \n",
       "2       1241371         Abalone herpesvirus Victoria/AUS/2009       6451.0   \n",
       "3       1241371         Abalone herpesvirus Victoria/AUS/2009      36100.0   \n",
       "4        491893  Abalone shriveling syndrome-associated virus      37770.0   \n",
       "\n",
       "                         host name  \n",
       "0                         Musa sp.  \n",
       "1         Musa acuminata AAA Group  \n",
       "2                       Haliotidae  \n",
       "3                   Haliotis rubra  \n",
       "4  Haliotis diversicolor aquatilis  "
      ]
     },
     "execution_count": 74,
     "metadata": {},
     "output_type": "execute_result"
    }
   ],
   "source": [
    "df2 = df2[['virus tax id', 'virus name', 'host tax id', 'host name']].copy()\n",
    "df2.drop_duplicates(inplace=True)\n",
    "print(df2.shape)\n",
    "df2.head()"
   ]
  },
  {
   "cell_type": "code",
   "execution_count": 75,
   "metadata": {},
   "outputs": [
    {
     "data": {
      "text/html": [
       "<div>\n",
       "<style scoped>\n",
       "    .dataframe tbody tr th:only-of-type {\n",
       "        vertical-align: middle;\n",
       "    }\n",
       "\n",
       "    .dataframe tbody tr th {\n",
       "        vertical-align: top;\n",
       "    }\n",
       "\n",
       "    .dataframe thead th {\n",
       "        text-align: right;\n",
       "    }\n",
       "</style>\n",
       "<table border=\"1\" class=\"dataframe\">\n",
       "  <thead>\n",
       "    <tr style=\"text-align: right;\">\n",
       "      <th></th>\n",
       "      <th>virus tax id</th>\n",
       "      <th>virus name</th>\n",
       "      <th>host tax id</th>\n",
       "      <th>host name</th>\n",
       "    </tr>\n",
       "  </thead>\n",
       "  <tbody>\n",
       "    <tr>\n",
       "      <th>1236</th>\n",
       "      <td>2662138</td>\n",
       "      <td>Bacteriophage Phobos</td>\n",
       "      <td>NaN</td>\n",
       "      <td>NaN</td>\n",
       "    </tr>\n",
       "    <tr>\n",
       "      <th>3750</th>\n",
       "      <td>1131416</td>\n",
       "      <td>Cucurbit mild mosaic virus</td>\n",
       "      <td>NaN</td>\n",
       "      <td>NaN</td>\n",
       "    </tr>\n",
       "    <tr>\n",
       "      <th>15925</th>\n",
       "      <td>1888308</td>\n",
       "      <td>Wabat virus</td>\n",
       "      <td>NaN</td>\n",
       "      <td>NaN</td>\n",
       "    </tr>\n",
       "  </tbody>\n",
       "</table>\n",
       "</div>"
      ],
      "text/plain": [
       "       virus tax id                  virus name  host tax id host name\n",
       "1236        2662138        Bacteriophage Phobos          NaN       NaN\n",
       "3750        1131416  Cucurbit mild mosaic virus          NaN       NaN\n",
       "15925       1888308                 Wabat virus          NaN       NaN"
      ]
     },
     "execution_count": 75,
     "metadata": {},
     "output_type": "execute_result"
    }
   ],
   "source": [
    "df2[df2['host tax id'].isnull()]"
   ]
  },
  {
   "cell_type": "code",
   "execution_count": 76,
   "metadata": {},
   "outputs": [],
   "source": [
    "df2.dropna(inplace=True)"
   ]
  },
  {
   "cell_type": "code",
   "execution_count": 77,
   "metadata": {},
   "outputs": [
    {
     "data": {
      "text/html": [
       "<div>\n",
       "<style scoped>\n",
       "    .dataframe tbody tr th:only-of-type {\n",
       "        vertical-align: middle;\n",
       "    }\n",
       "\n",
       "    .dataframe tbody tr th {\n",
       "        vertical-align: top;\n",
       "    }\n",
       "\n",
       "    .dataframe thead th {\n",
       "        text-align: right;\n",
       "    }\n",
       "</style>\n",
       "<table border=\"1\" class=\"dataframe\">\n",
       "  <thead>\n",
       "    <tr style=\"text-align: right;\">\n",
       "      <th></th>\n",
       "      <th>virus tax id</th>\n",
       "      <th>virus name</th>\n",
       "      <th>host tax id</th>\n",
       "      <th>host name</th>\n",
       "    </tr>\n",
       "  </thead>\n",
       "  <tbody>\n",
       "    <tr>\n",
       "      <th>0</th>\n",
       "      <td>438782</td>\n",
       "      <td>Abaca bunchy top virus</td>\n",
       "      <td>46838</td>\n",
       "      <td>Musa sp.</td>\n",
       "    </tr>\n",
       "    <tr>\n",
       "      <th>1</th>\n",
       "      <td>438782</td>\n",
       "      <td>Abaca bunchy top virus</td>\n",
       "      <td>214697</td>\n",
       "      <td>Musa acuminata AAA Group</td>\n",
       "    </tr>\n",
       "    <tr>\n",
       "      <th>2</th>\n",
       "      <td>1241371</td>\n",
       "      <td>Abalone herpesvirus Victoria/AUS/2009</td>\n",
       "      <td>6451</td>\n",
       "      <td>Haliotidae</td>\n",
       "    </tr>\n",
       "    <tr>\n",
       "      <th>3</th>\n",
       "      <td>1241371</td>\n",
       "      <td>Abalone herpesvirus Victoria/AUS/2009</td>\n",
       "      <td>36100</td>\n",
       "      <td>Haliotis rubra</td>\n",
       "    </tr>\n",
       "    <tr>\n",
       "      <th>4</th>\n",
       "      <td>491893</td>\n",
       "      <td>Abalone shriveling syndrome-associated virus</td>\n",
       "      <td>37770</td>\n",
       "      <td>Haliotis diversicolor aquatilis</td>\n",
       "    </tr>\n",
       "  </tbody>\n",
       "</table>\n",
       "</div>"
      ],
      "text/plain": [
       "   virus tax id                                    virus name  host tax id  \\\n",
       "0        438782                        Abaca bunchy top virus        46838   \n",
       "1        438782                        Abaca bunchy top virus       214697   \n",
       "2       1241371         Abalone herpesvirus Victoria/AUS/2009         6451   \n",
       "3       1241371         Abalone herpesvirus Victoria/AUS/2009        36100   \n",
       "4        491893  Abalone shriveling syndrome-associated virus        37770   \n",
       "\n",
       "                         host name  \n",
       "0                         Musa sp.  \n",
       "1         Musa acuminata AAA Group  \n",
       "2                       Haliotidae  \n",
       "3                   Haliotis rubra  \n",
       "4  Haliotis diversicolor aquatilis  "
      ]
     },
     "execution_count": 77,
     "metadata": {},
     "output_type": "execute_result"
    }
   ],
   "source": [
    "df2['host tax id'] = df2['host tax id'].astype(int)\n",
    "df2.head()"
   ]
  },
  {
   "cell_type": "code",
   "execution_count": 78,
   "metadata": {},
   "outputs": [
    {
     "data": {
      "application/vnd.jupyter.widget-view+json": {
       "model_id": "d8d5dfc42b7f4914b7510f6bc7cdfb6d",
       "version_major": 2,
       "version_minor": 0
      },
      "text/plain": [
       "Processing:   0%|          | 0/16609 [00:00<?, ?it/s]"
      ]
     },
     "metadata": {},
     "output_type": "display_data"
    }
   ],
   "source": [
    "df2['Species ID'] = df2['virus tax id'].progress_apply(getRankID, rank='species')"
   ]
  },
  {
   "cell_type": "code",
   "execution_count": 79,
   "metadata": {},
   "outputs": [
    {
     "data": {
      "application/vnd.jupyter.widget-view+json": {
       "model_id": "0d7c2d2fad5945e3839ce3e23667d917",
       "version_major": 2,
       "version_minor": 0
      },
      "text/plain": [
       "Processing:   0%|          | 0/16609 [00:00<?, ?it/s]"
      ]
     },
     "metadata": {},
     "output_type": "display_data"
    },
    {
     "data": {
      "text/html": [
       "<div>\n",
       "<style scoped>\n",
       "    .dataframe tbody tr th:only-of-type {\n",
       "        vertical-align: middle;\n",
       "    }\n",
       "\n",
       "    .dataframe tbody tr th {\n",
       "        vertical-align: top;\n",
       "    }\n",
       "\n",
       "    .dataframe thead th {\n",
       "        text-align: right;\n",
       "    }\n",
       "</style>\n",
       "<table border=\"1\" class=\"dataframe\">\n",
       "  <thead>\n",
       "    <tr style=\"text-align: right;\">\n",
       "      <th></th>\n",
       "      <th>virus tax id</th>\n",
       "      <th>virus name</th>\n",
       "      <th>Species ID</th>\n",
       "      <th>Host name</th>\n",
       "    </tr>\n",
       "  </thead>\n",
       "  <tbody>\n",
       "    <tr>\n",
       "      <th>0</th>\n",
       "      <td>438782</td>\n",
       "      <td>Abaca bunchy top virus</td>\n",
       "      <td>438782</td>\n",
       "      <td>Musa sp. [TaxID: 46838]</td>\n",
       "    </tr>\n",
       "    <tr>\n",
       "      <th>1</th>\n",
       "      <td>438782</td>\n",
       "      <td>Abaca bunchy top virus</td>\n",
       "      <td>438782</td>\n",
       "      <td>Musa acuminata AAA Group [TaxID: 214697]</td>\n",
       "    </tr>\n",
       "    <tr>\n",
       "      <th>2</th>\n",
       "      <td>1241371</td>\n",
       "      <td>Abalone herpesvirus Victoria/AUS/2009</td>\n",
       "      <td>1513231</td>\n",
       "      <td>Haliotidae [TaxID: 6451]</td>\n",
       "    </tr>\n",
       "    <tr>\n",
       "      <th>3</th>\n",
       "      <td>1241371</td>\n",
       "      <td>Abalone herpesvirus Victoria/AUS/2009</td>\n",
       "      <td>1513231</td>\n",
       "      <td>Haliotis rubra [TaxID: 36100]</td>\n",
       "    </tr>\n",
       "    <tr>\n",
       "      <th>4</th>\n",
       "      <td>491893</td>\n",
       "      <td>Abalone shriveling syndrome-associated virus</td>\n",
       "      <td>491893</td>\n",
       "      <td>Haliotis diversicolor aquatilis [TaxID: 37770]</td>\n",
       "    </tr>\n",
       "  </tbody>\n",
       "</table>\n",
       "</div>"
      ],
      "text/plain": [
       "   virus tax id                                    virus name  Species ID  \\\n",
       "0        438782                        Abaca bunchy top virus      438782   \n",
       "1        438782                        Abaca bunchy top virus      438782   \n",
       "2       1241371         Abalone herpesvirus Victoria/AUS/2009     1513231   \n",
       "3       1241371         Abalone herpesvirus Victoria/AUS/2009     1513231   \n",
       "4        491893  Abalone shriveling syndrome-associated virus      491893   \n",
       "\n",
       "                                        Host name  \n",
       "0                         Musa sp. [TaxID: 46838]  \n",
       "1        Musa acuminata AAA Group [TaxID: 214697]  \n",
       "2                        Haliotidae [TaxID: 6451]  \n",
       "3                   Haliotis rubra [TaxID: 36100]  \n",
       "4  Haliotis diversicolor aquatilis [TaxID: 37770]  "
      ]
     },
     "execution_count": 79,
     "metadata": {},
     "output_type": "execute_result"
    }
   ],
   "source": [
    "df2['Host name'] = df2.progress_apply(lambda x: nameMerger(x['host name'], x['host tax id']), axis=1)\n",
    "# Remove Host and Host ID columns as they have been merged and are no longer needed\n",
    "df2.drop(['host name', 'host tax id'], axis=1, inplace=True)\n",
    "df2.head()"
   ]
  },
  {
   "cell_type": "code",
   "execution_count": 80,
   "metadata": {},
   "outputs": [],
   "source": [
    "df_na_hosts = AggregateHosts(df2,'Species ID', 'Host name')\n",
    "dfna = dfna.merge(df_na_hosts, left_on='Species taxonomic ID', right_on='Species ID', how='left')\n",
    "dfna = dfna.drop(['Virus hosts', 'Species ID'], axis=1).rename({'Host name':'Virus hosts'}, axis=1)\n",
    "dfna = UpdateHosts(dfna, df_na_hosts, 'Species taxonomic ID', 'Species ID')\n",
    "df, dfna = UpdateMain(df, dfna)\n",
    "df = mergeRows(df, 'Species taxonomic ID', 'Virus hosts')"
   ]
  },
  {
   "cell_type": "code",
   "execution_count": 81,
   "metadata": {},
   "outputs": [
    {
     "data": {
      "text/plain": [
       "(4760, 6)"
      ]
     },
     "execution_count": 81,
     "metadata": {},
     "output_type": "execute_result"
    }
   ],
   "source": [
    "df.shape"
   ]
  },
  {
   "cell_type": "code",
   "execution_count": 82,
   "metadata": {},
   "outputs": [
    {
     "data": {
      "text/plain": [
       "(3353, 6)"
      ]
     },
     "execution_count": 82,
     "metadata": {},
     "output_type": "execute_result"
    }
   ],
   "source": [
    "dfna.shape"
   ]
  },
  {
   "cell_type": "code",
   "execution_count": 83,
   "metadata": {},
   "outputs": [
    {
     "data": {
      "text/html": [
       "<div>\n",
       "<style scoped>\n",
       "    .dataframe tbody tr th:only-of-type {\n",
       "        vertical-align: middle;\n",
       "    }\n",
       "\n",
       "    .dataframe tbody tr th {\n",
       "        vertical-align: top;\n",
       "    }\n",
       "\n",
       "    .dataframe thead th {\n",
       "        text-align: right;\n",
       "    }\n",
       "</style>\n",
       "<table border=\"1\" class=\"dataframe\">\n",
       "  <thead>\n",
       "    <tr style=\"text-align: right;\">\n",
       "      <th></th>\n",
       "      <th>Host_name</th>\n",
       "      <th>Host_TaxId</th>\n",
       "      <th>Host Group</th>\n",
       "      <th>Virus_name</th>\n",
       "      <th>Virus_TaxId</th>\n",
       "      <th>Micobe_group</th>\n",
       "      <th>Host_common_name</th>\n",
       "      <th>Host_common_name_rev</th>\n",
       "    </tr>\n",
       "  </thead>\n",
       "  <tbody>\n",
       "    <tr>\n",
       "      <th>4218</th>\n",
       "      <td>sus scrofa</td>\n",
       "      <td>9823</td>\n",
       "      <td>mammals</td>\n",
       "      <td>influenza a virus (a/swine/vechta/2623/03(h1n1))</td>\n",
       "      <td>522766</td>\n",
       "      <td>viruses</td>\n",
       "      <td>Wild boar</td>\n",
       "      <td>Pig</td>\n",
       "    </tr>\n",
       "    <tr>\n",
       "      <th>59574</th>\n",
       "      <td>mesocricetus auratus</td>\n",
       "      <td>10036</td>\n",
       "      <td>rodents</td>\n",
       "      <td>puumala virus</td>\n",
       "      <td>11604</td>\n",
       "      <td>viruses</td>\n",
       "      <td>Golden hamster</td>\n",
       "      <td>Rodent</td>\n",
       "    </tr>\n",
       "  </tbody>\n",
       "</table>\n",
       "</div>"
      ],
      "text/plain": [
       "                  Host_name  Host_TaxId Host Group  \\\n",
       "4218             sus scrofa        9823    mammals   \n",
       "59574  mesocricetus auratus       10036    rodents   \n",
       "\n",
       "                                             Virus_name  Virus_TaxId  \\\n",
       "4218   influenza a virus (a/swine/vechta/2623/03(h1n1))       522766   \n",
       "59574                                     puumala virus        11604   \n",
       "\n",
       "      Micobe_group Host_common_name Host_common_name_rev  \n",
       "4218       viruses        Wild boar                  Pig  \n",
       "59574      viruses   Golden hamster               Rodent  "
      ]
     },
     "execution_count": 83,
     "metadata": {},
     "output_type": "execute_result"
    }
   ],
   "source": [
    "df2 = pd.read_csv('../data/virus_host_4rm_untitled.csv')\n",
    "df2.sample(2)"
   ]
  },
  {
   "cell_type": "code",
   "execution_count": 84,
   "metadata": {},
   "outputs": [
    {
     "data": {
      "application/vnd.jupyter.widget-view+json": {
       "model_id": "88439d3f6bd34b98b51a3eb197ef1faa",
       "version_major": 2,
       "version_minor": 0
      },
      "text/plain": [
       "Processing:   0%|          | 0/59859 [00:00<?, ?it/s]"
      ]
     },
     "metadata": {},
     "output_type": "display_data"
    },
    {
     "name": "stdout",
     "output_type": "stream",
     "text": [
      "878474 taxid not found\n",
      "555869 taxid not found\n",
      "555869 taxid not found\n",
      "555869 taxid not found\n",
      "555869 taxid not found\n",
      "555869 taxid not found\n",
      "555869 taxid not found\n",
      "555869 taxid not found\n",
      "555869 taxid not found\n",
      "555869 taxid not found\n",
      "555869 taxid not found\n",
      "555869 taxid not found\n",
      "555869 taxid not found\n",
      "555869 taxid not found\n",
      "555869 taxid not found\n"
     ]
    },
    {
     "data": {
      "application/vnd.jupyter.widget-view+json": {
       "model_id": "75c4dfea1f3742c78f67921eb632ebf8",
       "version_major": 2,
       "version_minor": 0
      },
      "text/plain": [
       "Processing:   0%|          | 0/59859 [00:00<?, ?it/s]"
      ]
     },
     "metadata": {},
     "output_type": "display_data"
    },
    {
     "data": {
      "text/html": [
       "<div>\n",
       "<style scoped>\n",
       "    .dataframe tbody tr th:only-of-type {\n",
       "        vertical-align: middle;\n",
       "    }\n",
       "\n",
       "    .dataframe tbody tr th {\n",
       "        vertical-align: top;\n",
       "    }\n",
       "\n",
       "    .dataframe thead th {\n",
       "        text-align: right;\n",
       "    }\n",
       "</style>\n",
       "<table border=\"1\" class=\"dataframe\">\n",
       "  <thead>\n",
       "    <tr style=\"text-align: right;\">\n",
       "      <th></th>\n",
       "      <th>Virus_name</th>\n",
       "      <th>Virus_TaxId</th>\n",
       "      <th>Species ID</th>\n",
       "      <th>Host name</th>\n",
       "    </tr>\n",
       "  </thead>\n",
       "  <tbody>\n",
       "    <tr>\n",
       "      <th>5317</th>\n",
       "      <td>influenza a virus (a/swine/hong kong/1763/2003...</td>\n",
       "      <td>991722</td>\n",
       "      <td>11320.0</td>\n",
       "      <td>sus scrofa [TaxID: 9823]</td>\n",
       "    </tr>\n",
       "    <tr>\n",
       "      <th>19624</th>\n",
       "      <td>influenza a virus (a/shandong-qufu/swl339/2009...</td>\n",
       "      <td>767230</td>\n",
       "      <td>11320.0</td>\n",
       "      <td>homo sapiens [TaxID: 9606]</td>\n",
       "    </tr>\n",
       "  </tbody>\n",
       "</table>\n",
       "</div>"
      ],
      "text/plain": [
       "                                              Virus_name  Virus_TaxId  \\\n",
       "5317   influenza a virus (a/swine/hong kong/1763/2003...       991722   \n",
       "19624  influenza a virus (a/shandong-qufu/swl339/2009...       767230   \n",
       "\n",
       "       Species ID                   Host name  \n",
       "5317      11320.0    sus scrofa [TaxID: 9823]  \n",
       "19624     11320.0  homo sapiens [TaxID: 9606]  "
      ]
     },
     "execution_count": 84,
     "metadata": {},
     "output_type": "execute_result"
    }
   ],
   "source": [
    "df2 = df2[['Host_name', 'Host_TaxId', 'Virus_name', 'Virus_TaxId']].copy()\n",
    "df2['Species ID'] = df2['Virus_TaxId'].progress_apply(getRankID, rank='species')\n",
    "df2['Host name'] = df2.progress_apply(lambda x: nameMerger(x['Host_name'], x['Host_TaxId']), axis=1)\n",
    "df2.drop(['Host_name', 'Host_TaxId'], axis=1, inplace=True)\n",
    "df2.dropna(inplace=True)\n",
    "df2.sample(2)"
   ]
  },
  {
   "cell_type": "code",
   "execution_count": 85,
   "metadata": {},
   "outputs": [],
   "source": [
    "df_na_hosts = AggregateHosts(df2,'Species ID', 'Host name')\n",
    "dfna = dfna.merge(df_na_hosts, left_on='Species taxonomic ID', right_on='Species ID', how='left')\n",
    "dfna = dfna.drop(['Virus hosts', 'Species ID'], axis=1).rename({'Host name':'Virus hosts'}, axis=1)\n",
    "dfna = UpdateHosts(dfna, df_na_hosts, 'Species taxonomic ID', 'Species ID')\n",
    "df, dfna = UpdateMain(df, dfna)\n",
    "df = mergeRows(df, 'Species taxonomic ID', 'Virus hosts')"
   ]
  },
  {
   "cell_type": "code",
   "execution_count": 86,
   "metadata": {},
   "outputs": [
    {
     "data": {
      "text/plain": [
       "(4766, 6)"
      ]
     },
     "execution_count": 86,
     "metadata": {},
     "output_type": "execute_result"
    }
   ],
   "source": [
    "df.shape"
   ]
  },
  {
   "cell_type": "code",
   "execution_count": 87,
   "metadata": {},
   "outputs": [
    {
     "data": {
      "text/plain": [
       "(3347, 6)"
      ]
     },
     "execution_count": 87,
     "metadata": {},
     "output_type": "execute_result"
    }
   ],
   "source": [
    "dfna.shape"
   ]
  },
  {
   "cell_type": "code",
   "execution_count": 88,
   "metadata": {},
   "outputs": [
    {
     "data": {
      "text/html": [
       "<div>\n",
       "<style scoped>\n",
       "    .dataframe tbody tr th:only-of-type {\n",
       "        vertical-align: middle;\n",
       "    }\n",
       "\n",
       "    .dataframe tbody tr th {\n",
       "        vertical-align: top;\n",
       "    }\n",
       "\n",
       "    .dataframe thead th {\n",
       "        text-align: right;\n",
       "    }\n",
       "</style>\n",
       "<table border=\"1\" class=\"dataframe\">\n",
       "  <thead>\n",
       "    <tr style=\"text-align: right;\">\n",
       "      <th></th>\n",
       "      <th>Species taxonomic ID</th>\n",
       "      <th>Protein names</th>\n",
       "      <th>Species name</th>\n",
       "      <th>Species superkingdom</th>\n",
       "      <th>Species family</th>\n",
       "      <th>Virus hosts</th>\n",
       "    </tr>\n",
       "  </thead>\n",
       "  <tbody>\n",
       "    <tr>\n",
       "      <th>2536</th>\n",
       "      <td>2593976</td>\n",
       "      <td>Coat protein</td>\n",
       "      <td>Isatis caulimovirus A</td>\n",
       "      <td>Viruses</td>\n",
       "      <td>Caulimoviridae</td>\n",
       "      <td>NaN</td>\n",
       "    </tr>\n",
       "    <tr>\n",
       "      <th>2720</th>\n",
       "      <td>2654971</td>\n",
       "      <td>Envelope glycoprotein E1 (EC 2.7.7.48) (EC 3.6...</td>\n",
       "      <td>Bald eagle hepacivirus</td>\n",
       "      <td>Viruses</td>\n",
       "      <td>Flaviviridae</td>\n",
       "      <td>NaN</td>\n",
       "    </tr>\n",
       "  </tbody>\n",
       "</table>\n",
       "</div>"
      ],
      "text/plain": [
       "      Species taxonomic ID                                      Protein names  \\\n",
       "2536               2593976                                       Coat protein   \n",
       "2720               2654971  Envelope glycoprotein E1 (EC 2.7.7.48) (EC 3.6...   \n",
       "\n",
       "                Species name Species superkingdom  Species family Virus hosts  \n",
       "2536   Isatis caulimovirus A              Viruses  Caulimoviridae         NaN  \n",
       "2720  Bald eagle hepacivirus              Viruses    Flaviviridae         NaN  "
      ]
     },
     "execution_count": 88,
     "metadata": {},
     "output_type": "execute_result"
    }
   ],
   "source": [
    "dfna.sample(2)"
   ]
  },
  {
   "cell_type": "markdown",
   "metadata": {},
   "source": [
    "## Further Processing"
   ]
  },
  {
   "cell_type": "code",
   "execution_count": 89,
   "metadata": {},
   "outputs": [],
   "source": [
    "# Add column to discriminate viruses which contain human hosts from those which do not\n",
    "df['Infects human'] = np.where(df['Virus hosts'].str.contains(r'960[56]'), 'human-true','human-false')"
   ]
  },
  {
   "cell_type": "code",
   "execution_count": 90,
   "metadata": {},
   "outputs": [
    {
     "data": {
      "text/html": [
       "<div>\n",
       "<style scoped>\n",
       "    .dataframe tbody tr th:only-of-type {\n",
       "        vertical-align: middle;\n",
       "    }\n",
       "\n",
       "    .dataframe tbody tr th {\n",
       "        vertical-align: top;\n",
       "    }\n",
       "\n",
       "    .dataframe thead th {\n",
       "        text-align: right;\n",
       "    }\n",
       "</style>\n",
       "<table border=\"1\" class=\"dataframe\">\n",
       "  <thead>\n",
       "    <tr style=\"text-align: right;\">\n",
       "      <th></th>\n",
       "      <th>Species taxonomic ID</th>\n",
       "      <th>Virus hosts</th>\n",
       "      <th>Protein names</th>\n",
       "      <th>Species name</th>\n",
       "      <th>Species superkingdom</th>\n",
       "      <th>Species family</th>\n",
       "      <th>Infects human</th>\n",
       "    </tr>\n",
       "  </thead>\n",
       "  <tbody>\n",
       "    <tr>\n",
       "      <th>4742</th>\n",
       "      <td>2744802</td>\n",
       "      <td>Listeria monocytogenes [TaxID: 1639]</td>\n",
       "      <td>Integrase; Uncharacterized protein</td>\n",
       "      <td>Listeria phage LP-HM00113468</td>\n",
       "      <td>Viruses</td>\n",
       "      <td>Siphoviridae</td>\n",
       "      <td>human-false</td>\n",
       "    </tr>\n",
       "    <tr>\n",
       "      <th>2620</th>\n",
       "      <td>1920781</td>\n",
       "      <td>Klebsiella pneumoniae [TaxID: 573]; Klebsiella...</td>\n",
       "      <td>Putative head-tail connector protein</td>\n",
       "      <td>Klebsiella virus K244</td>\n",
       "      <td>Viruses</td>\n",
       "      <td>Autographiviridae</td>\n",
       "      <td>human-false</td>\n",
       "    </tr>\n",
       "  </tbody>\n",
       "</table>\n",
       "</div>"
      ],
      "text/plain": [
       "      Species taxonomic ID                                        Virus hosts  \\\n",
       "4742               2744802               Listeria monocytogenes [TaxID: 1639]   \n",
       "2620               1920781  Klebsiella pneumoniae [TaxID: 573]; Klebsiella...   \n",
       "\n",
       "                             Protein names                  Species name  \\\n",
       "4742    Integrase; Uncharacterized protein  Listeria phage LP-HM00113468   \n",
       "2620  Putative head-tail connector protein         Klebsiella virus K244   \n",
       "\n",
       "     Species superkingdom     Species family Infects human  \n",
       "4742              Viruses       Siphoviridae   human-false  \n",
       "2620              Viruses  Autographiviridae   human-false  "
      ]
     },
     "execution_count": 90,
     "metadata": {},
     "output_type": "execute_result"
    }
   ],
   "source": [
    "df.sample(2)"
   ]
  },
  {
   "cell_type": "code",
   "execution_count": 91,
   "metadata": {},
   "outputs": [
    {
     "data": {
      "application/vnd.jupyter.widget-view+json": {
       "model_id": "313687ef99bf41fb9cfc54e4db37aac3",
       "version_major": 2,
       "version_minor": 0
      },
      "text/plain": [
       "Processing:   0%|          | 0/4766 [00:00<?, ?it/s]"
      ]
     },
     "metadata": {},
     "output_type": "display_data"
    },
    {
     "data": {
      "application/vnd.jupyter.widget-view+json": {
       "model_id": "82a5bd08ac3447ec898e71963935e356",
       "version_major": 2,
       "version_minor": 0
      },
      "text/plain": [
       "Processing:   0%|          | 0/4766 [00:00<?, ?it/s]"
      ]
     },
     "metadata": {},
     "output_type": "display_data"
    }
   ],
   "source": [
    "df['Virus hosts'] = df['Virus hosts'].str.split('; ')\n",
    "df['Virus hosts'] = df.progress_apply(lambda x: list(filter(None, x['Virus hosts'])), axis=1)\n",
    "df['Virus hosts'] = df['Virus hosts'].progress_apply('; '.join)"
   ]
  },
  {
   "cell_type": "code",
   "execution_count": 92,
   "metadata": {},
   "outputs": [
    {
     "data": {
      "text/html": [
       "<div>\n",
       "<style scoped>\n",
       "    .dataframe tbody tr th:only-of-type {\n",
       "        vertical-align: middle;\n",
       "    }\n",
       "\n",
       "    .dataframe tbody tr th {\n",
       "        vertical-align: top;\n",
       "    }\n",
       "\n",
       "    .dataframe thead th {\n",
       "        text-align: right;\n",
       "    }\n",
       "</style>\n",
       "<table border=\"1\" class=\"dataframe\">\n",
       "  <thead>\n",
       "    <tr style=\"text-align: right;\">\n",
       "      <th></th>\n",
       "      <th>Species taxonomic ID</th>\n",
       "      <th>Virus hosts</th>\n",
       "      <th>Protein names</th>\n",
       "      <th>Species name</th>\n",
       "      <th>Species superkingdom</th>\n",
       "      <th>Species family</th>\n",
       "      <th>Infects human</th>\n",
       "    </tr>\n",
       "  </thead>\n",
       "  <tbody>\n",
       "    <tr>\n",
       "      <th>3434</th>\n",
       "      <td>2170173</td>\n",
       "      <td>Mycolicibacterium smegmatis MC2 155 [TaxID: 24...</td>\n",
       "      <td>Tyrosine integrase; Portal protein</td>\n",
       "      <td>Mycobacterium virus Phrann</td>\n",
       "      <td>Viruses</td>\n",
       "      <td>Siphoviridae</td>\n",
       "      <td>human-false</td>\n",
       "    </tr>\n",
       "    <tr>\n",
       "      <th>1267</th>\n",
       "      <td>889950</td>\n",
       "      <td>Synechococcus sp. WH 7803 [TaxID: 32051]</td>\n",
       "      <td>Portal protein (gp20); Uncharacterized protein</td>\n",
       "      <td>Synechococcus phage KBS-M-1A</td>\n",
       "      <td>Viruses</td>\n",
       "      <td>Myoviridae</td>\n",
       "      <td>human-false</td>\n",
       "    </tr>\n",
       "    <tr>\n",
       "      <th>1519</th>\n",
       "      <td>1165134</td>\n",
       "      <td>Lactococcus lactis [TaxID: 1358]</td>\n",
       "      <td>Putative portal protein; Putative receptor bin...</td>\n",
       "      <td>Lactococcus virus ASCC191</td>\n",
       "      <td>Viruses</td>\n",
       "      <td>Siphoviridae</td>\n",
       "      <td>human-false</td>\n",
       "    </tr>\n",
       "    <tr>\n",
       "      <th>3216</th>\n",
       "      <td>2053697</td>\n",
       "      <td>Escherichia coli [TaxID: 562]</td>\n",
       "      <td>Head-tail connector</td>\n",
       "      <td>Escherichia virus VEc3</td>\n",
       "      <td>Viruses</td>\n",
       "      <td>Autographiviridae</td>\n",
       "      <td>human-false</td>\n",
       "    </tr>\n",
       "  </tbody>\n",
       "</table>\n",
       "</div>"
      ],
      "text/plain": [
       "      Species taxonomic ID                                        Virus hosts  \\\n",
       "3434               2170173  Mycolicibacterium smegmatis MC2 155 [TaxID: 24...   \n",
       "1267                889950           Synechococcus sp. WH 7803 [TaxID: 32051]   \n",
       "1519               1165134                   Lactococcus lactis [TaxID: 1358]   \n",
       "3216               2053697                      Escherichia coli [TaxID: 562]   \n",
       "\n",
       "                                          Protein names  \\\n",
       "3434                 Tyrosine integrase; Portal protein   \n",
       "1267     Portal protein (gp20); Uncharacterized protein   \n",
       "1519  Putative portal protein; Putative receptor bin...   \n",
       "3216                                Head-tail connector   \n",
       "\n",
       "                      Species name Species superkingdom     Species family  \\\n",
       "3434    Mycobacterium virus Phrann              Viruses       Siphoviridae   \n",
       "1267  Synechococcus phage KBS-M-1A              Viruses         Myoviridae   \n",
       "1519     Lactococcus virus ASCC191              Viruses       Siphoviridae   \n",
       "3216        Escherichia virus VEc3              Viruses  Autographiviridae   \n",
       "\n",
       "     Infects human  \n",
       "3434   human-false  \n",
       "1267   human-false  \n",
       "1519   human-false  \n",
       "3216   human-false  "
      ]
     },
     "execution_count": 92,
     "metadata": {},
     "output_type": "execute_result"
    }
   ],
   "source": [
    "df.sample(4)"
   ]
  },
  {
   "cell_type": "code",
   "execution_count": 93,
   "metadata": {},
   "outputs": [
    {
     "data": {
      "text/html": [
       "<div>\n",
       "<style scoped>\n",
       "    .dataframe tbody tr th:only-of-type {\n",
       "        vertical-align: middle;\n",
       "    }\n",
       "\n",
       "    .dataframe tbody tr th {\n",
       "        vertical-align: top;\n",
       "    }\n",
       "\n",
       "    .dataframe thead th {\n",
       "        text-align: right;\n",
       "    }\n",
       "</style>\n",
       "<table border=\"1\" class=\"dataframe\">\n",
       "  <thead>\n",
       "    <tr style=\"text-align: right;\">\n",
       "      <th></th>\n",
       "      <th>Species taxonomic ID</th>\n",
       "      <th>Virus hosts</th>\n",
       "      <th>Protein names</th>\n",
       "      <th>Species name</th>\n",
       "      <th>Species superkingdom</th>\n",
       "      <th>Species family</th>\n",
       "      <th>Infects human</th>\n",
       "    </tr>\n",
       "  </thead>\n",
       "  <tbody>\n",
       "    <tr>\n",
       "      <th>1159</th>\n",
       "      <td>682382</td>\n",
       "      <td>Homo sapiens [TaxID: 9606]</td>\n",
       "      <td>Capsid protein VP27; Capsid protein VP34; Caps...</td>\n",
       "      <td>HMO Astrovirus A</td>\n",
       "      <td>Viruses</td>\n",
       "      <td>Astroviridae</td>\n",
       "      <td>human-true</td>\n",
       "    </tr>\n",
       "    <tr>\n",
       "      <th>16</th>\n",
       "      <td>10310</td>\n",
       "      <td>Homo sapiens (Human) [TaxID: 9606]</td>\n",
       "      <td>Envelope glycoprotein H (gH); UL25; Envelope g...</td>\n",
       "      <td>Human alphaherpesvirus 2</td>\n",
       "      <td>Viruses</td>\n",
       "      <td>Herpesviridae</td>\n",
       "      <td>human-true</td>\n",
       "    </tr>\n",
       "    <tr>\n",
       "      <th>3854</th>\n",
       "      <td>2560525</td>\n",
       "      <td>Homo sapiens (Human) [TaxID: 9606]</td>\n",
       "      <td>Hemagglutinin neuraminidase; Hemagglutinin-neu...</td>\n",
       "      <td>Human orthorubulavirus 2</td>\n",
       "      <td>Viruses</td>\n",
       "      <td>Paramyxoviridae</td>\n",
       "      <td>human-true</td>\n",
       "    </tr>\n",
       "    <tr>\n",
       "      <th>836</th>\n",
       "      <td>334209</td>\n",
       "      <td>Homo sapiens [TaxID: 9606]</td>\n",
       "      <td>Major capsid protein L1; Minor capsid protein L2</td>\n",
       "      <td>Betapapillomavirus 5</td>\n",
       "      <td>Viruses</td>\n",
       "      <td>Papillomaviridae</td>\n",
       "      <td>human-true</td>\n",
       "    </tr>\n",
       "  </tbody>\n",
       "</table>\n",
       "</div>"
      ],
      "text/plain": [
       "      Species taxonomic ID                         Virus hosts  \\\n",
       "1159                682382          Homo sapiens [TaxID: 9606]   \n",
       "16                   10310  Homo sapiens (Human) [TaxID: 9606]   \n",
       "3854               2560525  Homo sapiens (Human) [TaxID: 9606]   \n",
       "836                 334209          Homo sapiens [TaxID: 9606]   \n",
       "\n",
       "                                          Protein names  \\\n",
       "1159  Capsid protein VP27; Capsid protein VP34; Caps...   \n",
       "16    Envelope glycoprotein H (gH); UL25; Envelope g...   \n",
       "3854  Hemagglutinin neuraminidase; Hemagglutinin-neu...   \n",
       "836    Major capsid protein L1; Minor capsid protein L2   \n",
       "\n",
       "                  Species name Species superkingdom    Species family  \\\n",
       "1159          HMO Astrovirus A              Viruses      Astroviridae   \n",
       "16    Human alphaherpesvirus 2              Viruses     Herpesviridae   \n",
       "3854  Human orthorubulavirus 2              Viruses   Paramyxoviridae   \n",
       "836       Betapapillomavirus 5              Viruses  Papillomaviridae   \n",
       "\n",
       "     Infects human  \n",
       "1159    human-true  \n",
       "16      human-true  \n",
       "3854    human-true  \n",
       "836     human-true  "
      ]
     },
     "execution_count": 93,
     "metadata": {},
     "output_type": "execute_result"
    }
   ],
   "source": [
    "df[df['Infects human'] == 'human-true'].sample(4)"
   ]
  },
  {
   "cell_type": "code",
   "execution_count": 94,
   "metadata": {},
   "outputs": [],
   "source": [
    "df = (df.set_index(df.columns.drop('Virus hosts',1).tolist())['Virus hosts'].str.split(';', expand=True)\n",
    "          .stack()\n",
    "          .reset_index()\n",
    "          .rename(columns={0:'Virus hosts'})\n",
    "          .loc[:, df.columns]\n",
    "         ).copy()"
   ]
  },
  {
   "cell_type": "code",
   "execution_count": 95,
   "metadata": {},
   "outputs": [
    {
     "data": {
      "text/plain": [
       "(7270, 7)"
      ]
     },
     "execution_count": 95,
     "metadata": {},
     "output_type": "execute_result"
    }
   ],
   "source": [
    "df.shape"
   ]
  },
  {
   "cell_type": "code",
   "execution_count": 96,
   "metadata": {},
   "outputs": [
    {
     "data": {
      "text/html": [
       "<div>\n",
       "<style scoped>\n",
       "    .dataframe tbody tr th:only-of-type {\n",
       "        vertical-align: middle;\n",
       "    }\n",
       "\n",
       "    .dataframe tbody tr th {\n",
       "        vertical-align: top;\n",
       "    }\n",
       "\n",
       "    .dataframe thead th {\n",
       "        text-align: right;\n",
       "    }\n",
       "</style>\n",
       "<table border=\"1\" class=\"dataframe\">\n",
       "  <thead>\n",
       "    <tr style=\"text-align: right;\">\n",
       "      <th></th>\n",
       "      <th>Species taxonomic ID</th>\n",
       "      <th>Virus hosts</th>\n",
       "      <th>Protein names</th>\n",
       "      <th>Species name</th>\n",
       "      <th>Species superkingdom</th>\n",
       "      <th>Species family</th>\n",
       "      <th>Infects human</th>\n",
       "    </tr>\n",
       "  </thead>\n",
       "  <tbody>\n",
       "    <tr>\n",
       "      <th>3573</th>\n",
       "      <td>1511900</td>\n",
       "      <td>Homo sapiens (Human) [TaxID: 9606]</td>\n",
       "      <td>Minor capsid protein VP1 (EC 3.1.1.4) (Coat pr...</td>\n",
       "      <td>Primate erythroparvovirus 1</td>\n",
       "      <td>Viruses</td>\n",
       "      <td>Parvoviridae</td>\n",
       "      <td>human-true</td>\n",
       "    </tr>\n",
       "    <tr>\n",
       "      <th>5332</th>\n",
       "      <td>2049955</td>\n",
       "      <td>Capraria biflora [TaxID: 255867]</td>\n",
       "      <td>Capsid protein (Coat protein)</td>\n",
       "      <td>Capraria yellow spot virus</td>\n",
       "      <td>Viruses</td>\n",
       "      <td>Geminiviridae</td>\n",
       "      <td>human-false</td>\n",
       "    </tr>\n",
       "    <tr>\n",
       "      <th>441</th>\n",
       "      <td>11307</td>\n",
       "      <td>Sonchus oleraceus (Common sowthistle) [TaxID:...</td>\n",
       "      <td>Spike glycoprotein</td>\n",
       "      <td>Sonchus yellow net nucleorhabdovirus</td>\n",
       "      <td>Viruses</td>\n",
       "      <td>Rhabdoviridae</td>\n",
       "      <td>human-false</td>\n",
       "    </tr>\n",
       "    <tr>\n",
       "      <th>1361</th>\n",
       "      <td>186805</td>\n",
       "      <td>Ovis aries [TaxID: 9940]</td>\n",
       "      <td>Entry-fusion complex component (IMV membrane p...</td>\n",
       "      <td>Goatpox virus</td>\n",
       "      <td>Viruses</td>\n",
       "      <td>Poxviridae</td>\n",
       "      <td>human-false</td>\n",
       "    </tr>\n",
       "  </tbody>\n",
       "</table>\n",
       "</div>"
      ],
      "text/plain": [
       "      Species taxonomic ID                                        Virus hosts  \\\n",
       "3573               1511900                 Homo sapiens (Human) [TaxID: 9606]   \n",
       "5332               2049955                   Capraria biflora [TaxID: 255867]   \n",
       "441                  11307   Sonchus oleraceus (Common sowthistle) [TaxID:...   \n",
       "1361                186805                           Ovis aries [TaxID: 9940]   \n",
       "\n",
       "                                          Protein names  \\\n",
       "3573  Minor capsid protein VP1 (EC 3.1.1.4) (Coat pr...   \n",
       "5332                      Capsid protein (Coat protein)   \n",
       "441                                  Spike glycoprotein   \n",
       "1361  Entry-fusion complex component (IMV membrane p...   \n",
       "\n",
       "                              Species name Species superkingdom  \\\n",
       "3573           Primate erythroparvovirus 1              Viruses   \n",
       "5332            Capraria yellow spot virus              Viruses   \n",
       "441   Sonchus yellow net nucleorhabdovirus              Viruses   \n",
       "1361                         Goatpox virus              Viruses   \n",
       "\n",
       "     Species family Infects human  \n",
       "3573   Parvoviridae    human-true  \n",
       "5332  Geminiviridae   human-false  \n",
       "441   Rhabdoviridae   human-false  \n",
       "1361     Poxviridae   human-false  "
      ]
     },
     "execution_count": 96,
     "metadata": {},
     "output_type": "execute_result"
    }
   ],
   "source": [
    "df.sample(4)"
   ]
  },
  {
   "cell_type": "code",
   "execution_count": 97,
   "metadata": {},
   "outputs": [
    {
     "data": {
      "text/html": [
       "<div>\n",
       "<style scoped>\n",
       "    .dataframe tbody tr th:only-of-type {\n",
       "        vertical-align: middle;\n",
       "    }\n",
       "\n",
       "    .dataframe tbody tr th {\n",
       "        vertical-align: top;\n",
       "    }\n",
       "\n",
       "    .dataframe thead th {\n",
       "        text-align: right;\n",
       "    }\n",
       "</style>\n",
       "<table border=\"1\" class=\"dataframe\">\n",
       "  <thead>\n",
       "    <tr style=\"text-align: right;\">\n",
       "      <th></th>\n",
       "      <th>Species taxonomic ID</th>\n",
       "      <th>Virus hosts</th>\n",
       "      <th>Protein names</th>\n",
       "      <th>Species name</th>\n",
       "      <th>Species superkingdom</th>\n",
       "      <th>Species family</th>\n",
       "      <th>Infects human</th>\n",
       "      <th>Virus hosts ID</th>\n",
       "    </tr>\n",
       "  </thead>\n",
       "  <tbody>\n",
       "    <tr>\n",
       "      <th>0</th>\n",
       "      <td>10243</td>\n",
       "      <td>Apodemus sylvaticus (European woodmouse) [TaxI...</td>\n",
       "      <td>CPXV111 protein (J2R protein); Myristylprotein...</td>\n",
       "      <td>Cowpox virus</td>\n",
       "      <td>Viruses</td>\n",
       "      <td>Poxviridae</td>\n",
       "      <td>human-true</td>\n",
       "      <td>10129]</td>\n",
       "    </tr>\n",
       "    <tr>\n",
       "      <th>1</th>\n",
       "      <td>10243</td>\n",
       "      <td>Felis catus (Cat) (Felis silvestris catus) [T...</td>\n",
       "      <td>CPXV111 protein (J2R protein); Myristylprotein...</td>\n",
       "      <td>Cowpox virus</td>\n",
       "      <td>Viruses</td>\n",
       "      <td>Poxviridae</td>\n",
       "      <td>human-true</td>\n",
       "      <td>9685]</td>\n",
       "    </tr>\n",
       "    <tr>\n",
       "      <th>2</th>\n",
       "      <td>10243</td>\n",
       "      <td>Myodes glareolus (Bank vole) (Clethrionomys g...</td>\n",
       "      <td>CPXV111 protein (J2R protein); Myristylprotein...</td>\n",
       "      <td>Cowpox virus</td>\n",
       "      <td>Viruses</td>\n",
       "      <td>Poxviridae</td>\n",
       "      <td>human-true</td>\n",
       "      <td>447135]</td>\n",
       "    </tr>\n",
       "    <tr>\n",
       "      <th>3</th>\n",
       "      <td>10243</td>\n",
       "      <td>Mus musculus (Mouse) [TaxID: 10090]</td>\n",
       "      <td>CPXV111 protein (J2R protein); Myristylprotein...</td>\n",
       "      <td>Cowpox virus</td>\n",
       "      <td>Viruses</td>\n",
       "      <td>Poxviridae</td>\n",
       "      <td>human-true</td>\n",
       "      <td>10090]</td>\n",
       "    </tr>\n",
       "    <tr>\n",
       "      <th>4</th>\n",
       "      <td>10243</td>\n",
       "      <td>Loxodonta africana (African elephant) [TaxID:...</td>\n",
       "      <td>CPXV111 protein (J2R protein); Myristylprotein...</td>\n",
       "      <td>Cowpox virus</td>\n",
       "      <td>Viruses</td>\n",
       "      <td>Poxviridae</td>\n",
       "      <td>human-true</td>\n",
       "      <td>9785]</td>\n",
       "    </tr>\n",
       "  </tbody>\n",
       "</table>\n",
       "</div>"
      ],
      "text/plain": [
       "   Species taxonomic ID                                        Virus hosts  \\\n",
       "0                 10243  Apodemus sylvaticus (European woodmouse) [TaxI...   \n",
       "1                 10243   Felis catus (Cat) (Felis silvestris catus) [T...   \n",
       "2                 10243   Myodes glareolus (Bank vole) (Clethrionomys g...   \n",
       "3                 10243                Mus musculus (Mouse) [TaxID: 10090]   \n",
       "4                 10243   Loxodonta africana (African elephant) [TaxID:...   \n",
       "\n",
       "                                       Protein names  Species name  \\\n",
       "0  CPXV111 protein (J2R protein); Myristylprotein...  Cowpox virus   \n",
       "1  CPXV111 protein (J2R protein); Myristylprotein...  Cowpox virus   \n",
       "2  CPXV111 protein (J2R protein); Myristylprotein...  Cowpox virus   \n",
       "3  CPXV111 protein (J2R protein); Myristylprotein...  Cowpox virus   \n",
       "4  CPXV111 protein (J2R protein); Myristylprotein...  Cowpox virus   \n",
       "\n",
       "  Species superkingdom Species family Infects human Virus hosts ID  \n",
       "0              Viruses     Poxviridae    human-true         10129]  \n",
       "1              Viruses     Poxviridae    human-true          9685]  \n",
       "2              Viruses     Poxviridae    human-true        447135]  \n",
       "3              Viruses     Poxviridae    human-true         10090]  \n",
       "4              Viruses     Poxviridae    human-true          9785]  "
      ]
     },
     "execution_count": 97,
     "metadata": {},
     "output_type": "execute_result"
    }
   ],
   "source": [
    "df['Virus hosts ID'] = None\n",
    "idx_organism = df.columns.get_loc('Virus hosts')\n",
    "idx_host_id = df.columns.get_loc('Virus hosts ID')\n",
    "\n",
    "pattern = r'(\\d+)\\]'\n",
    "for row in range(len(df)):\n",
    "    host_id = re.search(pattern, df.iat[row, idx_organism]).group()\n",
    "    df.iat[row, idx_host_id] = host_id\n",
    "df.head()"
   ]
  },
  {
   "cell_type": "code",
   "execution_count": 98,
   "metadata": {},
   "outputs": [],
   "source": [
    "df['Virus hosts ID'] = df['Virus hosts ID'].str.strip('\\]')"
   ]
  },
  {
   "cell_type": "code",
   "execution_count": 99,
   "metadata": {},
   "outputs": [
    {
     "data": {
      "application/vnd.jupyter.widget-view+json": {
       "model_id": "4c34d0073e994597ab831d8806ba2c92",
       "version_major": 2,
       "version_minor": 0
      },
      "text/plain": [
       "Processing:   0%|          | 0/7270 [00:00<?, ?it/s]"
      ]
     },
     "metadata": {},
     "output_type": "display_data"
    },
    {
     "data": {
      "application/vnd.jupyter.widget-view+json": {
       "model_id": "4b2cf5c9df114ba8b7d747a80862e644",
       "version_major": 2,
       "version_minor": 0
      },
      "text/plain": [
       "Processing:   0%|          | 0/7270 [00:00<?, ?it/s]"
      ]
     },
     "metadata": {},
     "output_type": "display_data"
    },
    {
     "data": {
      "application/vnd.jupyter.widget-view+json": {
       "model_id": "d820f02fd65145b9b2f971e931a3d53d",
       "version_major": 2,
       "version_minor": 0
      },
      "text/plain": [
       "Processing:   0%|          | 0/7270 [00:00<?, ?it/s]"
      ]
     },
     "metadata": {},
     "output_type": "display_data"
    },
    {
     "data": {
      "application/vnd.jupyter.widget-view+json": {
       "model_id": "e9a2661a7dde4ea8abef906c0076c63d",
       "version_major": 2,
       "version_minor": 0
      },
      "text/plain": [
       "Processing:   0%|          | 0/7270 [00:00<?, ?it/s]"
      ]
     },
     "metadata": {},
     "output_type": "display_data"
    },
    {
     "data": {
      "application/vnd.jupyter.widget-view+json": {
       "model_id": "981cd7d8678e467b9be3f24f75d22684",
       "version_major": 2,
       "version_minor": 0
      },
      "text/plain": [
       "Processing:   0%|          | 0/7270 [00:00<?, ?it/s]"
      ]
     },
     "metadata": {},
     "output_type": "display_data"
    }
   ],
   "source": [
    "df['Virus hosts ID'] = df['Virus hosts ID'].progress_apply(int)\n",
    "\n",
    "df['Virus hosts ID'] = df['Virus hosts ID'].progress_apply(getRankID, rank='species')\n",
    "df['Virus host name'] = df['Virus hosts ID'].progress_apply(getRankName, rank='species')\n",
    "df['Host superkingdom'] = df['Virus hosts ID'].progress_apply(getRankName, rank='superkingdom')\n",
    "df['Host kingdom'] = df['Virus hosts ID'].progress_apply(getRankName, rank='kingdom')"
   ]
  },
  {
   "cell_type": "code",
   "execution_count": 100,
   "metadata": {},
   "outputs": [
    {
     "data": {
      "text/html": [
       "<div>\n",
       "<style scoped>\n",
       "    .dataframe tbody tr th:only-of-type {\n",
       "        vertical-align: middle;\n",
       "    }\n",
       "\n",
       "    .dataframe tbody tr th {\n",
       "        vertical-align: top;\n",
       "    }\n",
       "\n",
       "    .dataframe thead th {\n",
       "        text-align: right;\n",
       "    }\n",
       "</style>\n",
       "<table border=\"1\" class=\"dataframe\">\n",
       "  <thead>\n",
       "    <tr style=\"text-align: right;\">\n",
       "      <th></th>\n",
       "      <th>Species taxonomic ID</th>\n",
       "      <th>Virus hosts</th>\n",
       "      <th>Protein names</th>\n",
       "      <th>Species name</th>\n",
       "      <th>Species superkingdom</th>\n",
       "      <th>Species family</th>\n",
       "      <th>Infects human</th>\n",
       "      <th>Virus hosts ID</th>\n",
       "      <th>Virus host name</th>\n",
       "      <th>Host superkingdom</th>\n",
       "      <th>Host kingdom</th>\n",
       "    </tr>\n",
       "  </thead>\n",
       "  <tbody>\n",
       "  </tbody>\n",
       "</table>\n",
       "</div>"
      ],
      "text/plain": [
       "Empty DataFrame\n",
       "Columns: [Species taxonomic ID, Virus hosts, Protein names, Species name, Species superkingdom, Species family, Infects human, Virus hosts ID, Virus host name, Host superkingdom, Host kingdom]\n",
       "Index: []"
      ]
     },
     "execution_count": 100,
     "metadata": {},
     "output_type": "execute_result"
    }
   ],
   "source": [
    "df[df['Virus hosts ID'].isna()]"
   ]
  },
  {
   "cell_type": "code",
   "execution_count": 101,
   "metadata": {},
   "outputs": [
    {
     "data": {
      "text/plain": [
       "274"
      ]
     },
     "execution_count": 101,
     "metadata": {},
     "output_type": "execute_result"
    }
   ],
   "source": [
    "df['Virus hosts ID'][1866]"
   ]
  },
  {
   "cell_type": "code",
   "execution_count": 102,
   "metadata": {},
   "outputs": [
    {
     "data": {
      "application/vnd.jupyter.widget-view+json": {
       "model_id": "1177debff06547cb98119c8255aad2b5",
       "version_major": 2,
       "version_minor": 0
      },
      "text/plain": [
       "Processing:   0%|          | 0/7270 [00:00<?, ?it/s]"
      ]
     },
     "metadata": {},
     "output_type": "display_data"
    }
   ],
   "source": [
    "df['Virus hosts ID'] = df['Virus hosts ID'].progress_apply(int)"
   ]
  },
  {
   "cell_type": "code",
   "execution_count": 103,
   "metadata": {},
   "outputs": [],
   "source": [
    "df['Virus hosts'] = (df.drop('Virus hosts', axis=1)\n",
    "                     .apply(lambda x: nameMerger(x['Virus host name'], x['Virus hosts ID']), axis=1))"
   ]
  },
  {
   "cell_type": "code",
   "execution_count": 104,
   "metadata": {
    "tags": []
   },
   "outputs": [
    {
     "data": {
      "text/html": [
       "<div>\n",
       "<style scoped>\n",
       "    .dataframe tbody tr th:only-of-type {\n",
       "        vertical-align: middle;\n",
       "    }\n",
       "\n",
       "    .dataframe tbody tr th {\n",
       "        vertical-align: top;\n",
       "    }\n",
       "\n",
       "    .dataframe thead th {\n",
       "        text-align: right;\n",
       "    }\n",
       "</style>\n",
       "<table border=\"1\" class=\"dataframe\">\n",
       "  <thead>\n",
       "    <tr style=\"text-align: right;\">\n",
       "      <th></th>\n",
       "      <th>Species taxonomic ID</th>\n",
       "      <th>Virus hosts</th>\n",
       "      <th>Protein names</th>\n",
       "      <th>Species name</th>\n",
       "      <th>Species superkingdom</th>\n",
       "      <th>Species family</th>\n",
       "      <th>Infects human</th>\n",
       "      <th>Virus hosts ID</th>\n",
       "      <th>Virus host name</th>\n",
       "      <th>Host superkingdom</th>\n",
       "      <th>Host kingdom</th>\n",
       "    </tr>\n",
       "  </thead>\n",
       "  <tbody>\n",
       "    <tr>\n",
       "      <th>319</th>\n",
       "      <td>11036</td>\n",
       "      <td>Didelphis marsupialis [TaxID: 9268]</td>\n",
       "      <td>Assembly protein E3; Precursor of protein E3/E...</td>\n",
       "      <td>Venezuelan equine encephalitis virus</td>\n",
       "      <td>Viruses</td>\n",
       "      <td>Togaviridae</td>\n",
       "      <td>human-true</td>\n",
       "      <td>9268</td>\n",
       "      <td>Didelphis marsupialis</td>\n",
       "      <td>Eukaryota</td>\n",
       "      <td>Metazoa</td>\n",
       "    </tr>\n",
       "    <tr>\n",
       "      <th>4412</th>\n",
       "      <td>1914442</td>\n",
       "      <td>Microtus fortis [TaxID: 100897]</td>\n",
       "      <td>Capsid protein VP27; Capsid protein VP34; Caps...</td>\n",
       "      <td>Rodent astrovirus</td>\n",
       "      <td>Viruses</td>\n",
       "      <td>Astroviridae</td>\n",
       "      <td>human-false</td>\n",
       "      <td>100897</td>\n",
       "      <td>Microtus fortis</td>\n",
       "      <td>Eukaryota</td>\n",
       "      <td>Metazoa</td>\n",
       "    </tr>\n",
       "    <tr>\n",
       "      <th>3128</th>\n",
       "      <td>1317107</td>\n",
       "      <td>Allamanda cathartica [TaxID: 52818]</td>\n",
       "      <td>Capsid protein (Coat protein)</td>\n",
       "      <td>Allamanda leaf mottle distortion virus</td>\n",
       "      <td>Viruses</td>\n",
       "      <td>Geminiviridae</td>\n",
       "      <td>human-false</td>\n",
       "      <td>52818</td>\n",
       "      <td>Allamanda cathartica</td>\n",
       "      <td>Eukaryota</td>\n",
       "      <td>Viridiplantae</td>\n",
       "    </tr>\n",
       "    <tr>\n",
       "      <th>6607</th>\n",
       "      <td>2695849</td>\n",
       "      <td>Escherichia [TaxID: 561]</td>\n",
       "      <td>Portal vertex protein</td>\n",
       "      <td>Escherichia phage ESSI2_ev040</td>\n",
       "      <td>Viruses</td>\n",
       "      <td>Myoviridae</td>\n",
       "      <td>human-false</td>\n",
       "      <td>561</td>\n",
       "      <td>Escherichia</td>\n",
       "      <td>Bacteria</td>\n",
       "      <td>Escherichia</td>\n",
       "    </tr>\n",
       "  </tbody>\n",
       "</table>\n",
       "</div>"
      ],
      "text/plain": [
       "      Species taxonomic ID                          Virus hosts  \\\n",
       "319                  11036  Didelphis marsupialis [TaxID: 9268]   \n",
       "4412               1914442      Microtus fortis [TaxID: 100897]   \n",
       "3128               1317107  Allamanda cathartica [TaxID: 52818]   \n",
       "6607               2695849             Escherichia [TaxID: 561]   \n",
       "\n",
       "                                          Protein names  \\\n",
       "319   Assembly protein E3; Precursor of protein E3/E...   \n",
       "4412  Capsid protein VP27; Capsid protein VP34; Caps...   \n",
       "3128                      Capsid protein (Coat protein)   \n",
       "6607                              Portal vertex protein   \n",
       "\n",
       "                                Species name Species superkingdom  \\\n",
       "319     Venezuelan equine encephalitis virus              Viruses   \n",
       "4412                       Rodent astrovirus              Viruses   \n",
       "3128  Allamanda leaf mottle distortion virus              Viruses   \n",
       "6607           Escherichia phage ESSI2_ev040              Viruses   \n",
       "\n",
       "     Species family Infects human  Virus hosts ID        Virus host name  \\\n",
       "319     Togaviridae    human-true            9268  Didelphis marsupialis   \n",
       "4412   Astroviridae   human-false          100897        Microtus fortis   \n",
       "3128  Geminiviridae   human-false           52818   Allamanda cathartica   \n",
       "6607     Myoviridae   human-false             561            Escherichia   \n",
       "\n",
       "     Host superkingdom   Host kingdom  \n",
       "319          Eukaryota        Metazoa  \n",
       "4412         Eukaryota        Metazoa  \n",
       "3128         Eukaryota  Viridiplantae  \n",
       "6607          Bacteria    Escherichia  "
      ]
     },
     "execution_count": 104,
     "metadata": {},
     "output_type": "execute_result"
    }
   ],
   "source": [
    "df.sample(4)"
   ]
  },
  {
   "cell_type": "code",
   "execution_count": 105,
   "metadata": {},
   "outputs": [
    {
     "data": {
      "text/plain": [
       "(7270, 11)"
      ]
     },
     "execution_count": 105,
     "metadata": {},
     "output_type": "execute_result"
    }
   ],
   "source": [
    "df.shape"
   ]
  },
  {
   "cell_type": "code",
   "execution_count": 106,
   "metadata": {},
   "outputs": [],
   "source": [
    "df = (df.set_index(df.columns.drop('Protein names',1).tolist())['Protein names'].str.split(';', expand=True)\n",
    "          .stack()\n",
    "          .reset_index()\n",
    "          .rename(columns={0:'Protein names'})\n",
    "          .loc[:, df.columns]\n",
    "         ).copy()"
   ]
  },
  {
   "cell_type": "code",
   "execution_count": 107,
   "metadata": {},
   "outputs": [
    {
     "data": {
      "text/plain": [
       "(0, 11)"
      ]
     },
     "execution_count": 107,
     "metadata": {},
     "output_type": "execute_result"
    }
   ],
   "source": [
    "df[df['Host superkingdom'].isnull()].shape"
   ]
  },
  {
   "cell_type": "code",
   "execution_count": 108,
   "metadata": {},
   "outputs": [
    {
     "data": {
      "text/plain": [
       "array(['Eukaryota', 'Bacteria', 'Viruses', 'root', 'Archaea'],\n",
       "      dtype=object)"
      ]
     },
     "execution_count": 108,
     "metadata": {},
     "output_type": "execute_result"
    }
   ],
   "source": [
    "df['Host superkingdom'].unique()"
   ]
  },
  {
   "cell_type": "code",
   "execution_count": 109,
   "metadata": {},
   "outputs": [
    {
     "data": {
      "text/plain": [
       "(18376, 11)"
      ]
     },
     "execution_count": 109,
     "metadata": {},
     "output_type": "execute_result"
    }
   ],
   "source": [
    "df[df['Host superkingdom'] == 'Eukaryota'].shape"
   ]
  },
  {
   "cell_type": "code",
   "execution_count": 110,
   "metadata": {},
   "outputs": [
    {
     "data": {
      "text/plain": [
       "(4, 11)"
      ]
     },
     "execution_count": 110,
     "metadata": {},
     "output_type": "execute_result"
    }
   ],
   "source": [
    "df[df['Host superkingdom'] == 'Viruses'].shape"
   ]
  },
  {
   "cell_type": "code",
   "execution_count": 111,
   "metadata": {},
   "outputs": [
    {
     "data": {
      "text/plain": [
       "(4099, 11)"
      ]
     },
     "execution_count": 111,
     "metadata": {},
     "output_type": "execute_result"
    }
   ],
   "source": [
    "df[df['Host superkingdom'] == 'Bacteria'].shape"
   ]
  },
  {
   "cell_type": "code",
   "execution_count": 112,
   "metadata": {},
   "outputs": [
    {
     "data": {
      "text/plain": [
       "(38, 11)"
      ]
     },
     "execution_count": 112,
     "metadata": {},
     "output_type": "execute_result"
    }
   ],
   "source": [
    "df[df['Host superkingdom'] == 'root'].shape"
   ]
  },
  {
   "cell_type": "code",
   "execution_count": 113,
   "metadata": {},
   "outputs": [
    {
     "data": {
      "text/plain": [
       "(14, 11)"
      ]
     },
     "execution_count": 113,
     "metadata": {},
     "output_type": "execute_result"
    }
   ],
   "source": [
    "df[df['Host superkingdom'] == 'Archaea'].shape"
   ]
  },
  {
   "cell_type": "code",
   "execution_count": 114,
   "metadata": {},
   "outputs": [
    {
     "name": "stdout",
     "output_type": "stream",
     "text": [
      "(17312, 11)\n"
     ]
    },
    {
     "data": {
      "text/html": [
       "<div>\n",
       "<style scoped>\n",
       "    .dataframe tbody tr th:only-of-type {\n",
       "        vertical-align: middle;\n",
       "    }\n",
       "\n",
       "    .dataframe tbody tr th {\n",
       "        vertical-align: top;\n",
       "    }\n",
       "\n",
       "    .dataframe thead th {\n",
       "        text-align: right;\n",
       "    }\n",
       "</style>\n",
       "<table border=\"1\" class=\"dataframe\">\n",
       "  <thead>\n",
       "    <tr style=\"text-align: right;\">\n",
       "      <th></th>\n",
       "      <th>Species taxonomic ID</th>\n",
       "      <th>Virus hosts</th>\n",
       "      <th>Protein names</th>\n",
       "      <th>Species name</th>\n",
       "      <th>Species superkingdom</th>\n",
       "      <th>Species family</th>\n",
       "      <th>Infects human</th>\n",
       "      <th>Virus hosts ID</th>\n",
       "      <th>Virus host name</th>\n",
       "      <th>Host superkingdom</th>\n",
       "      <th>Host kingdom</th>\n",
       "    </tr>\n",
       "  </thead>\n",
       "  <tbody>\n",
       "    <tr>\n",
       "      <th>876</th>\n",
       "      <td>10245</td>\n",
       "      <td>Bos taurus [TaxID: 9913]</td>\n",
       "      <td>HSPV149</td>\n",
       "      <td>Vaccinia virus</td>\n",
       "      <td>Viruses</td>\n",
       "      <td>Poxviridae</td>\n",
       "      <td>human-true</td>\n",
       "      <td>9913</td>\n",
       "      <td>Bos taurus</td>\n",
       "      <td>Eukaryota</td>\n",
       "      <td>Metazoa</td>\n",
       "    </tr>\n",
       "    <tr>\n",
       "      <th>20365</th>\n",
       "      <td>2447804</td>\n",
       "      <td>Myotis davidii [TaxID: 225400]</td>\n",
       "      <td>Minor capsid protein VP2 (Minor structural pro...</td>\n",
       "      <td>Myotis davidii polyomavirus 1</td>\n",
       "      <td>Viruses</td>\n",
       "      <td>Polyomaviridae</td>\n",
       "      <td>human-false</td>\n",
       "      <td>225400</td>\n",
       "      <td>Myotis davidii</td>\n",
       "      <td>Eukaryota</td>\n",
       "      <td>Metazoa</td>\n",
       "    </tr>\n",
       "    <tr>\n",
       "      <th>19173</th>\n",
       "      <td>2050020</td>\n",
       "      <td>Rattus norvegicus [TaxID: 10116]</td>\n",
       "      <td>Major capsid protein L1</td>\n",
       "      <td>Rodent papillomavirus</td>\n",
       "      <td>Viruses</td>\n",
       "      <td>Papillomaviridae</td>\n",
       "      <td>human-false</td>\n",
       "      <td>10116</td>\n",
       "      <td>Rattus norvegicus</td>\n",
       "      <td>Eukaryota</td>\n",
       "      <td>Metazoa</td>\n",
       "    </tr>\n",
       "  </tbody>\n",
       "</table>\n",
       "</div>"
      ],
      "text/plain": [
       "       Species taxonomic ID                       Virus hosts  \\\n",
       "876                   10245          Bos taurus [TaxID: 9913]   \n",
       "20365               2447804    Myotis davidii [TaxID: 225400]   \n",
       "19173               2050020  Rattus norvegicus [TaxID: 10116]   \n",
       "\n",
       "                                           Protein names  \\\n",
       "876                                              HSPV149   \n",
       "20365  Minor capsid protein VP2 (Minor structural pro...   \n",
       "19173                            Major capsid protein L1   \n",
       "\n",
       "                        Species name Species superkingdom    Species family  \\\n",
       "876                   Vaccinia virus              Viruses        Poxviridae   \n",
       "20365  Myotis davidii polyomavirus 1              Viruses    Polyomaviridae   \n",
       "19173          Rodent papillomavirus              Viruses  Papillomaviridae   \n",
       "\n",
       "      Infects human  Virus hosts ID    Virus host name Host superkingdom  \\\n",
       "876      human-true            9913         Bos taurus         Eukaryota   \n",
       "20365   human-false          225400     Myotis davidii         Eukaryota   \n",
       "19173   human-false           10116  Rattus norvegicus         Eukaryota   \n",
       "\n",
       "      Host kingdom  \n",
       "876        Metazoa  \n",
       "20365      Metazoa  \n",
       "19173      Metazoa  "
      ]
     },
     "execution_count": 114,
     "metadata": {},
     "output_type": "execute_result"
    }
   ],
   "source": [
    "print(df[df['Host kingdom'] == 'Metazoa'].shape)\n",
    "df[df['Host kingdom'] == 'Metazoa'].sample(3)"
   ]
  },
  {
   "cell_type": "code",
   "execution_count": 115,
   "metadata": {},
   "outputs": [
    {
     "data": {
      "text/plain": [
       "(8457, 11)"
      ]
     },
     "execution_count": 115,
     "metadata": {},
     "output_type": "execute_result"
    }
   ],
   "source": [
    "df[df['Infects human'] == 'human-true'].shape"
   ]
  },
  {
   "cell_type": "code",
   "execution_count": 116,
   "metadata": {},
   "outputs": [
    {
     "data": {
      "text/plain": [
       "(14074, 11)"
      ]
     },
     "execution_count": 116,
     "metadata": {},
     "output_type": "execute_result"
    }
   ],
   "source": [
    "df[df['Infects human'] == 'human-false'].shape"
   ]
  },
  {
   "cell_type": "code",
   "execution_count": 117,
   "metadata": {},
   "outputs": [
    {
     "data": {
      "text/html": [
       "<div>\n",
       "<style scoped>\n",
       "    .dataframe tbody tr th:only-of-type {\n",
       "        vertical-align: middle;\n",
       "    }\n",
       "\n",
       "    .dataframe tbody tr th {\n",
       "        vertical-align: top;\n",
       "    }\n",
       "\n",
       "    .dataframe thead th {\n",
       "        text-align: right;\n",
       "    }\n",
       "</style>\n",
       "<table border=\"1\" class=\"dataframe\">\n",
       "  <thead>\n",
       "    <tr style=\"text-align: right;\">\n",
       "      <th></th>\n",
       "      <th>Species taxonomic ID</th>\n",
       "      <th>Virus hosts</th>\n",
       "      <th>Protein names</th>\n",
       "      <th>Species name</th>\n",
       "      <th>Species superkingdom</th>\n",
       "      <th>Species family</th>\n",
       "      <th>Infects human</th>\n",
       "      <th>Virus hosts ID</th>\n",
       "      <th>Virus host name</th>\n",
       "      <th>Host superkingdom</th>\n",
       "      <th>Host kingdom</th>\n",
       "    </tr>\n",
       "  </thead>\n",
       "  <tbody>\n",
       "    <tr>\n",
       "      <th>1224</th>\n",
       "      <td>10273</td>\n",
       "      <td>Oryctolagus cuniculus [TaxID: 9986]</td>\n",
       "      <td>M070</td>\n",
       "      <td>Myxoma virus</td>\n",
       "      <td>Viruses</td>\n",
       "      <td>Poxviridae</td>\n",
       "      <td>human-false</td>\n",
       "      <td>9986</td>\n",
       "      <td>Oryctolagus cuniculus</td>\n",
       "      <td>Eukaryota</td>\n",
       "      <td>Metazoa</td>\n",
       "    </tr>\n",
       "    <tr>\n",
       "      <th>10743</th>\n",
       "      <td>390437</td>\n",
       "      <td>Pueraria montana [TaxID: 132459]</td>\n",
       "      <td>Capsid protein (Coat protein)</td>\n",
       "      <td>Kudzu mosaic virus</td>\n",
       "      <td>Viruses</td>\n",
       "      <td>Geminiviridae</td>\n",
       "      <td>human-false</td>\n",
       "      <td>132459</td>\n",
       "      <td>Pueraria montana</td>\n",
       "      <td>Eukaryota</td>\n",
       "      <td>Viridiplantae</td>\n",
       "    </tr>\n",
       "  </tbody>\n",
       "</table>\n",
       "</div>"
      ],
      "text/plain": [
       "       Species taxonomic ID                          Virus hosts  \\\n",
       "1224                  10273  Oryctolagus cuniculus [TaxID: 9986]   \n",
       "10743                390437     Pueraria montana [TaxID: 132459]   \n",
       "\n",
       "                       Protein names        Species name Species superkingdom  \\\n",
       "1224                            M070        Myxoma virus              Viruses   \n",
       "10743  Capsid protein (Coat protein)  Kudzu mosaic virus              Viruses   \n",
       "\n",
       "      Species family Infects human  Virus hosts ID        Virus host name  \\\n",
       "1224      Poxviridae   human-false            9986  Oryctolagus cuniculus   \n",
       "10743  Geminiviridae   human-false          132459       Pueraria montana   \n",
       "\n",
       "      Host superkingdom   Host kingdom  \n",
       "1224          Eukaryota        Metazoa  \n",
       "10743         Eukaryota  Viridiplantae  "
      ]
     },
     "execution_count": 117,
     "metadata": {},
     "output_type": "execute_result"
    }
   ],
   "source": [
    "df.sample(2)"
   ]
  },
  {
   "cell_type": "code",
   "execution_count": 118,
   "metadata": {},
   "outputs": [
    {
     "data": {
      "text/html": [
       "<div>\n",
       "<style scoped>\n",
       "    .dataframe tbody tr th:only-of-type {\n",
       "        vertical-align: middle;\n",
       "    }\n",
       "\n",
       "    .dataframe tbody tr th {\n",
       "        vertical-align: top;\n",
       "    }\n",
       "\n",
       "    .dataframe thead th {\n",
       "        text-align: right;\n",
       "    }\n",
       "</style>\n",
       "<table border=\"1\" class=\"dataframe\">\n",
       "  <thead>\n",
       "    <tr style=\"text-align: right;\">\n",
       "      <th></th>\n",
       "      <th>Species taxonomic ID</th>\n",
       "      <th>Virus hosts</th>\n",
       "      <th>Protein names</th>\n",
       "      <th>Species name</th>\n",
       "      <th>Species superkingdom</th>\n",
       "      <th>Species family</th>\n",
       "      <th>Infects human</th>\n",
       "      <th>Virus hosts ID</th>\n",
       "      <th>Virus host name</th>\n",
       "      <th>Host superkingdom</th>\n",
       "      <th>Host kingdom</th>\n",
       "    </tr>\n",
       "  </thead>\n",
       "  <tbody>\n",
       "    <tr>\n",
       "      <th>8844</th>\n",
       "      <td>123561</td>\n",
       "      <td>Macaca fuscata [TaxID: 9542]</td>\n",
       "      <td>Integrase</td>\n",
       "      <td>Simian retrovirus 5</td>\n",
       "      <td>Viruses</td>\n",
       "      <td>Retroviridae</td>\n",
       "      <td>human-false</td>\n",
       "      <td>9542</td>\n",
       "      <td>Macaca fuscata</td>\n",
       "      <td>Eukaryota</td>\n",
       "      <td>Metazoa</td>\n",
       "    </tr>\n",
       "    <tr>\n",
       "      <th>5788</th>\n",
       "      <td>12637</td>\n",
       "      <td>Aedes polynesiensis [TaxID: 188700]</td>\n",
       "      <td>Envelope protein E</td>\n",
       "      <td>Dengue virus</td>\n",
       "      <td>Viruses</td>\n",
       "      <td>Flaviviridae</td>\n",
       "      <td>human-true</td>\n",
       "      <td>188700</td>\n",
       "      <td>Aedes polynesiensis</td>\n",
       "      <td>Eukaryota</td>\n",
       "      <td>Metazoa</td>\n",
       "    </tr>\n",
       "  </tbody>\n",
       "</table>\n",
       "</div>"
      ],
      "text/plain": [
       "      Species taxonomic ID                          Virus hosts  \\\n",
       "8844                123561         Macaca fuscata [TaxID: 9542]   \n",
       "5788                 12637  Aedes polynesiensis [TaxID: 188700]   \n",
       "\n",
       "            Protein names         Species name Species superkingdom  \\\n",
       "8844            Integrase  Simian retrovirus 5              Viruses   \n",
       "5788   Envelope protein E         Dengue virus              Viruses   \n",
       "\n",
       "     Species family Infects human  Virus hosts ID      Virus host name  \\\n",
       "8844   Retroviridae   human-false            9542       Macaca fuscata   \n",
       "5788   Flaviviridae    human-true          188700  Aedes polynesiensis   \n",
       "\n",
       "     Host superkingdom Host kingdom  \n",
       "8844         Eukaryota      Metazoa  \n",
       "5788         Eukaryota      Metazoa  "
      ]
     },
     "execution_count": 118,
     "metadata": {},
     "output_type": "execute_result"
    }
   ],
   "source": [
    "df.sample(2)"
   ]
  },
  {
   "cell_type": "code",
   "execution_count": 119,
   "metadata": {},
   "outputs": [
    {
     "name": "stdout",
     "output_type": "stream",
     "text": [
      "Species taxonomic ID 4766\n",
      "Virus hosts 1765\n",
      "Protein names 2061\n",
      "Species name 4766\n",
      "Species superkingdom 1\n",
      "Species family 80\n",
      "Infects human 2\n",
      "Virus hosts ID 1765\n",
      "Virus host name 1756\n",
      "Host superkingdom 5\n",
      "Host kingdom 344\n",
      "Dataframe total 22531\n"
     ]
    }
   ],
   "source": [
    "for column in df.columns:\n",
    "    print(column, df[column].nunique())\n",
    "print('Dataframe total',len(df))"
   ]
  },
  {
   "cell_type": "code",
   "execution_count": 120,
   "metadata": {},
   "outputs": [
    {
     "data": {
      "text/html": [
       "<div>\n",
       "<style scoped>\n",
       "    .dataframe tbody tr th:only-of-type {\n",
       "        vertical-align: middle;\n",
       "    }\n",
       "\n",
       "    .dataframe tbody tr th {\n",
       "        vertical-align: top;\n",
       "    }\n",
       "\n",
       "    .dataframe thead th {\n",
       "        text-align: right;\n",
       "    }\n",
       "</style>\n",
       "<table border=\"1\" class=\"dataframe\">\n",
       "  <thead>\n",
       "    <tr style=\"text-align: right;\">\n",
       "      <th></th>\n",
       "      <th>Species taxonomic ID</th>\n",
       "      <th>Virus hosts</th>\n",
       "      <th>Protein names</th>\n",
       "      <th>Species name</th>\n",
       "      <th>Species superkingdom</th>\n",
       "      <th>Species family</th>\n",
       "      <th>Infects human</th>\n",
       "      <th>Virus hosts ID</th>\n",
       "      <th>Virus host name</th>\n",
       "      <th>Host superkingdom</th>\n",
       "      <th>Host kingdom</th>\n",
       "    </tr>\n",
       "  </thead>\n",
       "  <tbody>\n",
       "    <tr>\n",
       "      <th>8176</th>\n",
       "      <td>64286</td>\n",
       "      <td>Culex perexiguus [TaxID: 943103]</td>\n",
       "      <td>Non-structural protein 2A (NS2A)</td>\n",
       "      <td>Usutu virus</td>\n",
       "      <td>Viruses</td>\n",
       "      <td>Flaviviridae</td>\n",
       "      <td>human-true</td>\n",
       "      <td>943103</td>\n",
       "      <td>Culex perexiguus</td>\n",
       "      <td>Eukaryota</td>\n",
       "      <td>Metazoa</td>\n",
       "    </tr>\n",
       "    <tr>\n",
       "      <th>5283</th>\n",
       "      <td>12110</td>\n",
       "      <td>Erinaceidae [TaxID: 9363]</td>\n",
       "      <td>Protease 3C (EC 3.4.22.28) (Picornain 3C) (P3...</td>\n",
       "      <td>Foot-and-mouth disease virus</td>\n",
       "      <td>Viruses</td>\n",
       "      <td>Picornaviridae</td>\n",
       "      <td>human-false</td>\n",
       "      <td>9363</td>\n",
       "      <td>Erinaceidae</td>\n",
       "      <td>Eukaryota</td>\n",
       "      <td>Metazoa</td>\n",
       "    </tr>\n",
       "  </tbody>\n",
       "</table>\n",
       "</div>"
      ],
      "text/plain": [
       "      Species taxonomic ID                       Virus hosts  \\\n",
       "8176                 64286  Culex perexiguus [TaxID: 943103]   \n",
       "5283                 12110         Erinaceidae [TaxID: 9363]   \n",
       "\n",
       "                                          Protein names  \\\n",
       "8176                   Non-structural protein 2A (NS2A)   \n",
       "5283   Protease 3C (EC 3.4.22.28) (Picornain 3C) (P3...   \n",
       "\n",
       "                      Species name Species superkingdom  Species family  \\\n",
       "8176                   Usutu virus              Viruses    Flaviviridae   \n",
       "5283  Foot-and-mouth disease virus              Viruses  Picornaviridae   \n",
       "\n",
       "     Infects human  Virus hosts ID   Virus host name Host superkingdom  \\\n",
       "8176    human-true          943103  Culex perexiguus         Eukaryota   \n",
       "5283   human-false            9363       Erinaceidae         Eukaryota   \n",
       "\n",
       "     Host kingdom  \n",
       "8176      Metazoa  \n",
       "5283      Metazoa  "
      ]
     },
     "execution_count": 120,
     "metadata": {},
     "output_type": "execute_result"
    }
   ],
   "source": [
    "df.sample(2)"
   ]
  },
  {
   "cell_type": "markdown",
   "metadata": {},
   "source": [
    "## Restructuring the data"
   ]
  },
  {
   "cell_type": "code",
   "execution_count": 121,
   "metadata": {},
   "outputs": [
    {
     "data": {
      "text/html": [
       "<div>\n",
       "<style scoped>\n",
       "    .dataframe tbody tr th:only-of-type {\n",
       "        vertical-align: middle;\n",
       "    }\n",
       "\n",
       "    .dataframe tbody tr th {\n",
       "        vertical-align: top;\n",
       "    }\n",
       "\n",
       "    .dataframe thead th {\n",
       "        text-align: right;\n",
       "    }\n",
       "</style>\n",
       "<table border=\"1\" class=\"dataframe\">\n",
       "  <thead>\n",
       "    <tr style=\"text-align: right;\">\n",
       "      <th></th>\n",
       "      <th>Entry</th>\n",
       "      <th>Species taxonomic ID</th>\n",
       "    </tr>\n",
       "  </thead>\n",
       "  <tbody>\n",
       "    <tr>\n",
       "      <th>291632</th>\n",
       "      <td>A0A6M6ATJ7</td>\n",
       "      <td>11676.0</td>\n",
       "    </tr>\n",
       "    <tr>\n",
       "      <th>164829</th>\n",
       "      <td>B3TKJ4</td>\n",
       "      <td>11103.0</td>\n",
       "    </tr>\n",
       "  </tbody>\n",
       "</table>\n",
       "</div>"
      ],
      "text/plain": [
       "             Entry  Species taxonomic ID\n",
       "291632  A0A6M6ATJ7               11676.0\n",
       "164829      B3TKJ4               11103.0"
      ]
     },
     "execution_count": 121,
     "metadata": {},
     "output_type": "execute_result"
    }
   ],
   "source": [
    "# Earlier saved data\n",
    "dff.sample(2)"
   ]
  },
  {
   "cell_type": "code",
   "execution_count": 122,
   "metadata": {},
   "outputs": [
    {
     "data": {
      "text/plain": [
       "(358333, 2)"
      ]
     },
     "execution_count": 122,
     "metadata": {},
     "output_type": "execute_result"
    }
   ],
   "source": [
    "dff.shape"
   ]
  },
  {
   "cell_type": "code",
   "execution_count": 140,
   "metadata": {},
   "outputs": [],
   "source": [
    "# help(SeqIO.FastaIO)"
   ]
  },
  {
   "cell_type": "code",
   "execution_count": 123,
   "metadata": {},
   "outputs": [],
   "source": [
    "## Load sequences\n",
    "Using custom IO instead of Bio.SeqIO for "
   ]
  },
  {
   "cell_type": "code",
   "execution_count": 141,
   "metadata": {},
   "outputs": [],
   "source": [
    "from Bio import SeqRecord"
   ]
  },
  {
   "cell_type": "code",
   "execution_count": 147,
   "metadata": {},
   "outputs": [],
   "source": [
    "# help(SeqRecord)"
   ]
  },
  {
   "cell_type": "code",
   "execution_count": 145,
   "metadata": {},
   "outputs": [
    {
     "name": "stdout",
     "output_type": "stream",
     "text": [
      "sp|O11457|VGP_EBOG4 sp|O11457|VGP_EBOG4\n"
     ]
    }
   ],
   "source": [
    "print(records[0].name, records[0].id)"
   ]
  },
  {
   "cell_type": "code",
   "execution_count": 124,
   "metadata": {},
   "outputs": [],
   "source": [
    "fastaFileName = '../data/uniprot-keyword Virus+entry+into+host+cell+[KW-1160] +fragment no.fasta'\n",
    "\n",
    "entry_seq = read_fasta(fastaFileName)"
   ]
  },
  {
   "cell_type": "code",
   "execution_count": 127,
   "metadata": {
    "scrolled": true,
    "tags": []
   },
   "outputs": [],
   "source": [
    "dff.sort_values(by='Entry', inplace=True)\n",
    "\n",
    "objList = []\n",
    "for entry, obj in entry_seq:\n",
    "    objList.append(obj)\n",
    "\n",
    "dff['Sequence'] = objList"
   ]
  },
  {
   "cell_type": "code",
   "execution_count": 128,
   "metadata": {},
   "outputs": [
    {
     "data": {
      "text/html": [
       "<div>\n",
       "<style scoped>\n",
       "    .dataframe tbody tr th:only-of-type {\n",
       "        vertical-align: middle;\n",
       "    }\n",
       "\n",
       "    .dataframe tbody tr th {\n",
       "        vertical-align: top;\n",
       "    }\n",
       "\n",
       "    .dataframe thead th {\n",
       "        text-align: right;\n",
       "    }\n",
       "</style>\n",
       "<table border=\"1\" class=\"dataframe\">\n",
       "  <thead>\n",
       "    <tr style=\"text-align: right;\">\n",
       "      <th></th>\n",
       "      <th>Entry</th>\n",
       "      <th>Species taxonomic ID</th>\n",
       "      <th>Sequence</th>\n",
       "    </tr>\n",
       "  </thead>\n",
       "  <tbody>\n",
       "    <tr>\n",
       "      <th>50368</th>\n",
       "      <td>A0A009FEK4</td>\n",
       "      <td>470.0</td>\n",
       "      <td>&lt;zoonosisHelperFunctions.FASTASeq object at 0x...</td>\n",
       "    </tr>\n",
       "    <tr>\n",
       "      <th>156673</th>\n",
       "      <td>A0A009G3H3</td>\n",
       "      <td>1310609.0</td>\n",
       "      <td>&lt;zoonosisHelperFunctions.FASTASeq object at 0x...</td>\n",
       "    </tr>\n",
       "    <tr>\n",
       "      <th>146717</th>\n",
       "      <td>A0A009GC36</td>\n",
       "      <td>470.0</td>\n",
       "      <td>&lt;zoonosisHelperFunctions.FASTASeq object at 0x...</td>\n",
       "    </tr>\n",
       "    <tr>\n",
       "      <th>146730</th>\n",
       "      <td>A0A009GCG0</td>\n",
       "      <td>470.0</td>\n",
       "      <td>&lt;zoonosisHelperFunctions.FASTASeq object at 0x...</td>\n",
       "    </tr>\n",
       "    <tr>\n",
       "      <th>144753</th>\n",
       "      <td>A0A009GXT7</td>\n",
       "      <td>1310609.0</td>\n",
       "      <td>&lt;zoonosisHelperFunctions.FASTASeq object at 0x...</td>\n",
       "    </tr>\n",
       "  </tbody>\n",
       "</table>\n",
       "</div>"
      ],
      "text/plain": [
       "             Entry  Species taxonomic ID  \\\n",
       "50368   A0A009FEK4                 470.0   \n",
       "156673  A0A009G3H3             1310609.0   \n",
       "146717  A0A009GC36                 470.0   \n",
       "146730  A0A009GCG0                 470.0   \n",
       "144753  A0A009GXT7             1310609.0   \n",
       "\n",
       "                                                 Sequence  \n",
       "50368   <zoonosisHelperFunctions.FASTASeq object at 0x...  \n",
       "156673  <zoonosisHelperFunctions.FASTASeq object at 0x...  \n",
       "146717  <zoonosisHelperFunctions.FASTASeq object at 0x...  \n",
       "146730  <zoonosisHelperFunctions.FASTASeq object at 0x...  \n",
       "144753  <zoonosisHelperFunctions.FASTASeq object at 0x...  "
      ]
     },
     "execution_count": 128,
     "metadata": {},
     "output_type": "execute_result"
    }
   ],
   "source": [
    "dff.head()"
   ]
  },
  {
   "cell_type": "code",
   "execution_count": 129,
   "metadata": {},
   "outputs": [],
   "source": [
    "df.drop(['Virus host name', 'Protein names', 'Species superkingdom'], axis=1, inplace=True)"
   ]
  },
  {
   "cell_type": "code",
   "execution_count": 130,
   "metadata": {},
   "outputs": [],
   "source": [
    "df = df.merge(dff, on='Species taxonomic ID', how='left')"
   ]
  },
  {
   "cell_type": "code",
   "execution_count": 131,
   "metadata": {},
   "outputs": [],
   "source": [
    "del dff, df2"
   ]
  },
  {
   "cell_type": "code",
   "execution_count": 132,
   "metadata": {},
   "outputs": [
    {
     "data": {
      "text/plain": [
       "(48728179, 10)"
      ]
     },
     "execution_count": 132,
     "metadata": {},
     "output_type": "execute_result"
    }
   ],
   "source": [
    "df.shape"
   ]
  },
  {
   "cell_type": "code",
   "execution_count": 133,
   "metadata": {},
   "outputs": [],
   "source": [
    "df.drop_duplicates(inplace=True)"
   ]
  },
  {
   "cell_type": "code",
   "execution_count": 134,
   "metadata": {},
   "outputs": [
    {
     "data": {
      "text/plain": [
       "(2277584, 10)"
      ]
     },
     "execution_count": 134,
     "metadata": {},
     "output_type": "execute_result"
    }
   ],
   "source": [
    "df.shape"
   ]
  },
  {
   "cell_type": "code",
   "execution_count": 135,
   "metadata": {},
   "outputs": [],
   "source": [
    "df['Virus hosts ID'] = df['Virus hosts ID'].apply(str)"
   ]
  },
  {
   "cell_type": "code",
   "execution_count": 136,
   "metadata": {},
   "outputs": [],
   "source": [
    "df = (df.groupby('Entry', as_index=False)\n",
    "       .agg({'Virus hosts':set, #'Protein':'first', \n",
    "             'Infects human':'first', 'Species name':'first',\n",
    "             'Host superkingdom':set,\n",
    "             'Host kingdom':set,\n",
    "             'Virus hosts ID':set,\n",
    "             'Species family':'first',\n",
    "             'Species taxonomic ID':'first',\n",
    "             'Sequence': 'first'}))"
   ]
  },
  {
   "cell_type": "code",
   "execution_count": 137,
   "metadata": {},
   "outputs": [
    {
     "data": {
      "application/vnd.jupyter.widget-view+json": {
       "model_id": "f89cb3a786e8431598d3f85abe28f1c5",
       "version_major": 2,
       "version_minor": 0
      },
      "text/plain": [
       "Joining host names list:   0%|          | 0/317316 [00:00<?, ?it/s]"
      ]
     },
     "metadata": {},
     "output_type": "display_data"
    },
    {
     "data": {
      "application/vnd.jupyter.widget-view+json": {
       "model_id": "ea1e89641db14630b507a948c0bb1451",
       "version_major": 2,
       "version_minor": 0
      },
      "text/plain": [
       "Joining host IDs:   0%|          | 0/317316 [00:00<?, ?it/s]"
      ]
     },
     "metadata": {},
     "output_type": "display_data"
    },
    {
     "data": {
      "application/vnd.jupyter.widget-view+json": {
       "model_id": "60a888b746f54b059e783eb39ed16e07",
       "version_major": 2,
       "version_minor": 0
      },
      "text/plain": [
       "Joining host kingdom names:   0%|          | 0/317316 [00:00<?, ?it/s]"
      ]
     },
     "metadata": {},
     "output_type": "display_data"
    },
    {
     "data": {
      "application/vnd.jupyter.widget-view+json": {
       "model_id": "69472d9d7af64eef9591822e396c74c9",
       "version_major": 2,
       "version_minor": 0
      },
      "text/plain": [
       "Joining host superkingdom names:   0%|          | 0/317316 [00:00<?, ?it/s]"
      ]
     },
     "metadata": {},
     "output_type": "display_data"
    }
   ],
   "source": [
    "df['Virus hosts'] = (df['Virus hosts']\n",
    "                     .swifter.progress_bar(enable=True,\n",
    "                                           desc='Joining host names list')\n",
    "                     .apply('; '.join))\n",
    "df['Virus hosts ID'] = (df['Virus hosts ID']\n",
    "                        .swifter.progress_bar(enable=True,\n",
    "                                              desc='Joining host IDs')\n",
    "                        .apply('; '.join))\n",
    "df['Host kingdom'] = (df['Host kingdom']\n",
    "                      .swifter.progress_bar(enable=True,\n",
    "                                            desc='Joining host kingdom names')\n",
    "                      .apply('; '.join))\n",
    "df['Host superkingdom'] = (df['Host superkingdom']\n",
    "                           .swifter.progress_bar(enable=True,\n",
    "                                                 desc='Joining host superkingdom names')\n",
    "                           .apply('; '.join))"
   ]
  },
  {
   "cell_type": "code",
   "execution_count": 138,
   "metadata": {},
   "outputs": [
    {
     "data": {
      "text/plain": [
       "(317316, 10)"
      ]
     },
     "execution_count": 138,
     "metadata": {},
     "output_type": "execute_result"
    }
   ],
   "source": [
    "df.shape"
   ]
  },
  {
   "cell_type": "code",
   "execution_count": 139,
   "metadata": {
    "scrolled": true,
    "tags": []
   },
   "outputs": [
    {
     "data": {
      "application/vnd.jupyter.widget-view+json": {
       "model_id": "173ec233d3844c168effd0eeccb14bc4",
       "version_major": 2,
       "version_minor": 0
      },
      "text/plain": [
       "Joining host superkingdom names:   0%|          | 0/317316 [00:00<?, ?it/s]"
      ]
     },
     "metadata": {},
     "output_type": "display_data"
    }
   ],
   "source": [
    "df['Sequence'] = df.progress_apply(lambda x: getSequenceFeatures(\n",
    "    seqObj=x['Sequence'], entry=x['Entry'],\n",
    "    organism=x['Species name'], status=x['Infects human']), axis=1)"
   ]
  },
  {
   "cell_type": "code",
   "execution_count": 140,
   "metadata": {},
   "outputs": [],
   "source": [
    "df['Protein'] = df['Sequence'].apply(lambda x: x.protein_name)"
   ]
  },
  {
   "cell_type": "code",
   "execution_count": 141,
   "metadata": {},
   "outputs": [
    {
     "data": {
      "text/html": [
       "<div>\n",
       "<style scoped>\n",
       "    .dataframe tbody tr th:only-of-type {\n",
       "        vertical-align: middle;\n",
       "    }\n",
       "\n",
       "    .dataframe tbody tr th {\n",
       "        vertical-align: top;\n",
       "    }\n",
       "\n",
       "    .dataframe thead th {\n",
       "        text-align: right;\n",
       "    }\n",
       "</style>\n",
       "<table border=\"1\" class=\"dataframe\">\n",
       "  <thead>\n",
       "    <tr style=\"text-align: right;\">\n",
       "      <th></th>\n",
       "      <th>Entry</th>\n",
       "      <th>Virus hosts</th>\n",
       "      <th>Infects human</th>\n",
       "      <th>Species name</th>\n",
       "      <th>Host superkingdom</th>\n",
       "      <th>Host kingdom</th>\n",
       "      <th>Virus hosts ID</th>\n",
       "      <th>Species family</th>\n",
       "      <th>Species taxonomic ID</th>\n",
       "      <th>Sequence</th>\n",
       "      <th>Protein</th>\n",
       "    </tr>\n",
       "  </thead>\n",
       "  <tbody>\n",
       "    <tr>\n",
       "      <th>139429</th>\n",
       "      <td>A0A3S5FYS4</td>\n",
       "      <td>Panthera tigris [TaxID: 9694]; Sturnira lilium...</td>\n",
       "      <td>human-true</td>\n",
       "      <td>Influenza A virus</td>\n",
       "      <td>Eukaryota</td>\n",
       "      <td>Metazoa</td>\n",
       "      <td>9666; 27660; 9685; 9721; 9709; 9823; 8782; 969...</td>\n",
       "      <td>Orthomyxoviridae</td>\n",
       "      <td>11320</td>\n",
       "      <td>&lt;zoonosisHelperFunctions.FASTASeq object at 0x...</td>\n",
       "      <td>Nucleoprotein</td>\n",
       "    </tr>\n",
       "    <tr>\n",
       "      <th>114041</th>\n",
       "      <td>A0A2P1DR03</td>\n",
       "      <td>Homo sapiens [TaxID: 9606]; Macaca nemestrina ...</td>\n",
       "      <td>human-true</td>\n",
       "      <td>Simian-Human immunodeficiency virus</td>\n",
       "      <td>Eukaryota</td>\n",
       "      <td>Metazoa</td>\n",
       "      <td>9544; 9539; 9545; 9606; 9541</td>\n",
       "      <td>Retroviridae</td>\n",
       "      <td>57667</td>\n",
       "      <td>&lt;zoonosisHelperFunctions.FASTASeq object at 0x...</td>\n",
       "      <td>Envelope glycoprotein gp160</td>\n",
       "    </tr>\n",
       "    <tr>\n",
       "      <th>14428</th>\n",
       "      <td>A0A0A1CMQ4</td>\n",
       "      <td>Homo sapiens [TaxID: 9606]</td>\n",
       "      <td>human-true</td>\n",
       "      <td>Human immunodeficiency virus 1</td>\n",
       "      <td>Eukaryota</td>\n",
       "      <td>Metazoa</td>\n",
       "      <td>9606</td>\n",
       "      <td>Retroviridae</td>\n",
       "      <td>11676</td>\n",
       "      <td>&lt;zoonosisHelperFunctions.FASTASeq object at 0x...</td>\n",
       "      <td>Envelope glycoprotein gp160</td>\n",
       "    </tr>\n",
       "  </tbody>\n",
       "</table>\n",
       "</div>"
      ],
      "text/plain": [
       "             Entry                                        Virus hosts  \\\n",
       "139429  A0A3S5FYS4  Panthera tigris [TaxID: 9694]; Sturnira lilium...   \n",
       "114041  A0A2P1DR03  Homo sapiens [TaxID: 9606]; Macaca nemestrina ...   \n",
       "14428   A0A0A1CMQ4                         Homo sapiens [TaxID: 9606]   \n",
       "\n",
       "       Infects human                         Species name Host superkingdom  \\\n",
       "139429    human-true                    Influenza A virus         Eukaryota   \n",
       "114041    human-true  Simian-Human immunodeficiency virus         Eukaryota   \n",
       "14428     human-true       Human immunodeficiency virus 1         Eukaryota   \n",
       "\n",
       "       Host kingdom                                     Virus hosts ID  \\\n",
       "139429      Metazoa  9666; 27660; 9685; 9721; 9709; 9823; 8782; 969...   \n",
       "114041      Metazoa                       9544; 9539; 9545; 9606; 9541   \n",
       "14428       Metazoa                                               9606   \n",
       "\n",
       "          Species family  Species taxonomic ID  \\\n",
       "139429  Orthomyxoviridae                 11320   \n",
       "114041      Retroviridae                 57667   \n",
       "14428       Retroviridae                 11676   \n",
       "\n",
       "                                                 Sequence  \\\n",
       "139429  <zoonosisHelperFunctions.FASTASeq object at 0x...   \n",
       "114041  <zoonosisHelperFunctions.FASTASeq object at 0x...   \n",
       "14428   <zoonosisHelperFunctions.FASTASeq object at 0x...   \n",
       "\n",
       "                            Protein  \n",
       "139429                Nucleoprotein  \n",
       "114041  Envelope glycoprotein gp160  \n",
       "14428   Envelope glycoprotein gp160  "
      ]
     },
     "execution_count": 141,
     "metadata": {},
     "output_type": "execute_result"
    }
   ],
   "source": [
    "df.sample(3)"
   ]
  },
  {
   "cell_type": "code",
   "execution_count": 142,
   "metadata": {},
   "outputs": [
    {
     "data": {
      "text/plain": [
       "(278789, 11)"
      ]
     },
     "execution_count": 142,
     "metadata": {},
     "output_type": "execute_result"
    }
   ],
   "source": [
    "df[df['Infects human'] == 'human-true'].shape"
   ]
  },
  {
   "cell_type": "code",
   "execution_count": 143,
   "metadata": {},
   "outputs": [
    {
     "data": {
      "text/plain": [
       "(38527, 11)"
      ]
     },
     "execution_count": 143,
     "metadata": {},
     "output_type": "execute_result"
    }
   ],
   "source": [
    "df[df['Infects human'] == 'human-false'].shape"
   ]
  },
  {
   "cell_type": "code",
   "execution_count": 144,
   "metadata": {},
   "outputs": [
    {
     "data": {
      "text/html": [
       "<div>\n",
       "<style scoped>\n",
       "    .dataframe tbody tr th:only-of-type {\n",
       "        vertical-align: middle;\n",
       "    }\n",
       "\n",
       "    .dataframe tbody tr th {\n",
       "        vertical-align: top;\n",
       "    }\n",
       "\n",
       "    .dataframe thead th {\n",
       "        text-align: right;\n",
       "    }\n",
       "</style>\n",
       "<table border=\"1\" class=\"dataframe\">\n",
       "  <thead>\n",
       "    <tr style=\"text-align: right;\">\n",
       "      <th></th>\n",
       "      <th>Species</th>\n",
       "      <th>Molecule type</th>\n",
       "      <th>Species taxonomic ID</th>\n",
       "      <th>Host name</th>\n",
       "    </tr>\n",
       "  </thead>\n",
       "  <tbody>\n",
       "    <tr>\n",
       "      <th>0</th>\n",
       "      <td>Epsilonarterivirus zamalb</td>\n",
       "      <td>ssRNA(+)</td>\n",
       "      <td>2501966</td>\n",
       "      <td>Chlorocebus [TaxID: 392815]</td>\n",
       "    </tr>\n",
       "    <tr>\n",
       "      <th>1</th>\n",
       "      <td>Rodent arterivirus</td>\n",
       "      <td>ssRNA(+)</td>\n",
       "      <td>1806636</td>\n",
       "      <td>Eothenomys inez [TaxID: 870526]</td>\n",
       "    </tr>\n",
       "    <tr>\n",
       "      <th>2</th>\n",
       "      <td>Wencheng Sm shrew coronavirus</td>\n",
       "      <td>ssRNA(+)</td>\n",
       "      <td>1508228</td>\n",
       "      <td>Suncus murinus [TaxID: 9378]</td>\n",
       "    </tr>\n",
       "    <tr>\n",
       "      <th>3</th>\n",
       "      <td>Bat coronavirus</td>\n",
       "      <td>ssRNA(+)</td>\n",
       "      <td>1508220</td>\n",
       "      <td>Eidolon helvum [TaxID: 77214]</td>\n",
       "    </tr>\n",
       "    <tr>\n",
       "      <th>4</th>\n",
       "      <td>NL63-related bat coronavirus strain BtKYNL63-9b</td>\n",
       "      <td>ssRNA(+)</td>\n",
       "      <td>2501929</td>\n",
       "      <td>Triaenops afer [TaxID: 549403]</td>\n",
       "    </tr>\n",
       "  </tbody>\n",
       "</table>\n",
       "</div>"
      ],
      "text/plain": [
       "                                           Species Molecule type  \\\n",
       "0                        Epsilonarterivirus zamalb      ssRNA(+)   \n",
       "1                               Rodent arterivirus      ssRNA(+)   \n",
       "2                    Wencheng Sm shrew coronavirus      ssRNA(+)   \n",
       "3                                  Bat coronavirus      ssRNA(+)   \n",
       "4  NL63-related bat coronavirus strain BtKYNL63-9b      ssRNA(+)   \n",
       "\n",
       "   Species taxonomic ID                        Host name  \n",
       "0               2501966      Chlorocebus [TaxID: 392815]  \n",
       "1               1806636  Eothenomys inez [TaxID: 870526]  \n",
       "2               1508228     Suncus murinus [TaxID: 9378]  \n",
       "3               1508220    Eidolon helvum [TaxID: 77214]  \n",
       "4               2501929   Triaenops afer [TaxID: 549403]  "
      ]
     },
     "execution_count": 144,
     "metadata": {},
     "output_type": "execute_result"
    }
   ],
   "source": [
    "# Sequences loaded earlier from NCBI Virus ###Add Molecule type\n",
    "dfff.rename({'Species ID': 'Species taxonomic ID', 'Molecule_type': 'Molecule type'}, axis=1, inplace=True)\n",
    "dfff.head()"
   ]
  },
  {
   "cell_type": "code",
   "execution_count": 145,
   "metadata": {},
   "outputs": [],
   "source": [
    "df['Species taxonomic ID'] = df['Species taxonomic ID'].apply(int)"
   ]
  },
  {
   "cell_type": "code",
   "execution_count": 146,
   "metadata": {},
   "outputs": [],
   "source": [
    "df = df.merge(dfff[['Species taxonomic ID', 'Molecule type']], how='left', on='Species taxonomic ID')"
   ]
  },
  {
   "cell_type": "code",
   "execution_count": 147,
   "metadata": {},
   "outputs": [
    {
     "data": {
      "text/plain": [
       "(8551317, 12)"
      ]
     },
     "execution_count": 147,
     "metadata": {},
     "output_type": "execute_result"
    }
   ],
   "source": [
    "df.shape"
   ]
  },
  {
   "cell_type": "code",
   "execution_count": 148,
   "metadata": {},
   "outputs": [],
   "source": [
    "df.drop_duplicates(inplace=True)"
   ]
  },
  {
   "cell_type": "code",
   "execution_count": 149,
   "metadata": {},
   "outputs": [
    {
     "data": {
      "text/plain": [
       "(317316, 12)"
      ]
     },
     "execution_count": 149,
     "metadata": {},
     "output_type": "execute_result"
    }
   ],
   "source": [
    "df.shape"
   ]
  },
  {
   "cell_type": "code",
   "execution_count": 150,
   "metadata": {},
   "outputs": [],
   "source": [
    "del dfff"
   ]
  },
  {
   "cell_type": "markdown",
   "metadata": {},
   "source": [
    "## Reorganise dataframe"
   ]
  },
  {
   "cell_type": "code",
   "execution_count": 151,
   "metadata": {},
   "outputs": [],
   "source": [
    "df = df[['Entry', 'Protein', 'Species name', \n",
    "         'Species taxonomic ID', 'Species family', 'Virus hosts',\n",
    "         'Virus hosts ID', 'Host kingdom', \n",
    "         'Host superkingdom', 'Molecule type', 'Infects human', 'Sequence']]"
   ]
  },
  {
   "cell_type": "code",
   "execution_count": 152,
   "metadata": {},
   "outputs": [
    {
     "data": {
      "text/html": [
       "<div>\n",
       "<style scoped>\n",
       "    .dataframe tbody tr th:only-of-type {\n",
       "        vertical-align: middle;\n",
       "    }\n",
       "\n",
       "    .dataframe tbody tr th {\n",
       "        vertical-align: top;\n",
       "    }\n",
       "\n",
       "    .dataframe thead th {\n",
       "        text-align: right;\n",
       "    }\n",
       "</style>\n",
       "<table border=\"1\" class=\"dataframe\">\n",
       "  <thead>\n",
       "    <tr style=\"text-align: right;\">\n",
       "      <th></th>\n",
       "      <th>Entry</th>\n",
       "      <th>Protein</th>\n",
       "      <th>Species name</th>\n",
       "      <th>Species taxonomic ID</th>\n",
       "      <th>Species family</th>\n",
       "      <th>Virus hosts</th>\n",
       "      <th>Virus hosts ID</th>\n",
       "      <th>Host kingdom</th>\n",
       "      <th>Host superkingdom</th>\n",
       "      <th>Molecule type</th>\n",
       "      <th>Infects human</th>\n",
       "      <th>Sequence</th>\n",
       "    </tr>\n",
       "  </thead>\n",
       "  <tbody>\n",
       "    <tr>\n",
       "      <th>6173253</th>\n",
       "      <td>F4MDT2</td>\n",
       "      <td>Nucleoprotein</td>\n",
       "      <td>Influenza A virus</td>\n",
       "      <td>11320</td>\n",
       "      <td>Orthomyxoviridae</td>\n",
       "      <td>Panthera tigris [TaxID: 9694]; Sturnira lilium...</td>\n",
       "      <td>9666; 27660; 9685; 9721; 9709; 9823; 8782; 969...</td>\n",
       "      <td>Metazoa</td>\n",
       "      <td>Eukaryota</td>\n",
       "      <td>ssRNA(-)</td>\n",
       "      <td>human-true</td>\n",
       "      <td>&lt;zoonosisHelperFunctions.FASTASeq object at 0x...</td>\n",
       "    </tr>\n",
       "    <tr>\n",
       "      <th>7852599</th>\n",
       "      <td>Q9ZXF8</td>\n",
       "      <td>ORF25</td>\n",
       "      <td>Bacillus phage phi105</td>\n",
       "      <td>10717</td>\n",
       "      <td>Siphoviridae</td>\n",
       "      <td>Bacillus subtilis [TaxID: 1423]</td>\n",
       "      <td>1423</td>\n",
       "      <td>Bacillus subtilis</td>\n",
       "      <td>Bacteria</td>\n",
       "      <td>NaN</td>\n",
       "      <td>human-false</td>\n",
       "      <td>&lt;zoonosisHelperFunctions.FASTASeq object at 0x...</td>\n",
       "    </tr>\n",
       "    <tr>\n",
       "      <th>5438880</th>\n",
       "      <td>C8XMX1</td>\n",
       "      <td>Nucleoprotein</td>\n",
       "      <td>Influenza A virus</td>\n",
       "      <td>11320</td>\n",
       "      <td>Orthomyxoviridae</td>\n",
       "      <td>Panthera tigris [TaxID: 9694]; Sturnira lilium...</td>\n",
       "      <td>9666; 27660; 9685; 9721; 9709; 9823; 8782; 969...</td>\n",
       "      <td>Metazoa</td>\n",
       "      <td>Eukaryota</td>\n",
       "      <td>ssRNA(-)</td>\n",
       "      <td>human-true</td>\n",
       "      <td>&lt;zoonosisHelperFunctions.FASTASeq object at 0x...</td>\n",
       "    </tr>\n",
       "  </tbody>\n",
       "</table>\n",
       "</div>"
      ],
      "text/plain": [
       "          Entry        Protein           Species name  Species taxonomic ID  \\\n",
       "6173253  F4MDT2  Nucleoprotein      Influenza A virus                 11320   \n",
       "7852599  Q9ZXF8          ORF25  Bacillus phage phi105                 10717   \n",
       "5438880  C8XMX1  Nucleoprotein      Influenza A virus                 11320   \n",
       "\n",
       "           Species family                                        Virus hosts  \\\n",
       "6173253  Orthomyxoviridae  Panthera tigris [TaxID: 9694]; Sturnira lilium...   \n",
       "7852599      Siphoviridae                    Bacillus subtilis [TaxID: 1423]   \n",
       "5438880  Orthomyxoviridae  Panthera tigris [TaxID: 9694]; Sturnira lilium...   \n",
       "\n",
       "                                            Virus hosts ID       Host kingdom  \\\n",
       "6173253  9666; 27660; 9685; 9721; 9709; 9823; 8782; 969...            Metazoa   \n",
       "7852599                                               1423  Bacillus subtilis   \n",
       "5438880  9666; 27660; 9685; 9721; 9709; 9823; 8782; 969...            Metazoa   \n",
       "\n",
       "        Host superkingdom Molecule type Infects human  \\\n",
       "6173253         Eukaryota      ssRNA(-)    human-true   \n",
       "7852599          Bacteria           NaN   human-false   \n",
       "5438880         Eukaryota      ssRNA(-)    human-true   \n",
       "\n",
       "                                                  Sequence  \n",
       "6173253  <zoonosisHelperFunctions.FASTASeq object at 0x...  \n",
       "7852599  <zoonosisHelperFunctions.FASTASeq object at 0x...  \n",
       "5438880  <zoonosisHelperFunctions.FASTASeq object at 0x...  "
      ]
     },
     "execution_count": 152,
     "metadata": {},
     "output_type": "execute_result"
    }
   ],
   "source": [
    "df.sample(3)"
   ]
  },
  {
   "cell_type": "markdown",
   "metadata": {},
   "source": [
    "## Split Dataframe to multiple datasets for testing"
   ]
  },
  {
   "cell_type": "code",
   "execution_count": 153,
   "metadata": {},
   "outputs": [
    {
     "data": {
      "text/plain": [
       "array(['Eukaryota', 'Bacteria', 'root', 'Archaea', 'Viruses',\n",
       "       'root; Eukaryota'], dtype=object)"
      ]
     },
     "execution_count": 153,
     "metadata": {},
     "output_type": "execute_result"
    }
   ],
   "source": [
    "df['Host superkingdom'].unique()"
   ]
  },
  {
   "cell_type": "code",
   "execution_count": 154,
   "metadata": {
    "scrolled": true,
    "tags": []
   },
   "outputs": [
    {
     "data": {
      "text/plain": [
       "array(['Metazoa', 'Viridiplantae', 'Lactococcus lactis',\n",
       "       'Escherichia coli', 'Serratia marcescens',\n",
       "       'Mycolicibacterium smegmatis', 'Bacillus thuringiensis',\n",
       "       'Trichormus variabilis', 'Listeria monocytogenes',\n",
       "       'Pseudomonas syringae', 'Metazoa; Viridiplantae',\n",
       "       'Cronobacter sakazakii', 'Staphylococcus epidermidis',\n",
       "       'Enterococcus faecium', 'root', 'Caulobacter vibrioides',\n",
       "       'Vibrio alginolyticus', 'Staphylococcus aureus', 'Bacillus cereus',\n",
       "       'Ralstonia solanacearum', 'Klebsiella pneumoniae',\n",
       "       'Staphylococcus xylosus; Staphylococcus aureus',\n",
       "       'Acinetobacter baumannii', 'Dickeya sp.',\n",
       "       'Lactobacillus delbrueckii', 'Salmonella', 'Bacillus pumilus',\n",
       "       'Citrobacter; Citrobacter freundii', 'Mycobacterium',\n",
       "       'Rhizobium leguminosarum', 'Mesorhizobium loti',\n",
       "       'Shigella flexneri', 'Yersinia enterocolitica',\n",
       "       'Idiomarinaceae bacterium N2-2', 'Sulfitobacter sp. CB2047',\n",
       "       'Lelliottia sp. GL2', 'Clostridioides difficile', 'Clostridium',\n",
       "       'Synechococcus sp. CB0101', 'Synechococcus sp. CB0208',\n",
       "       'Enterococcus faecalis', 'Lactococcus; Lactococcus sp.',\n",
       "       'Shigella sonnei', 'Ruegeria pomeroyi', 'Pectobacterium',\n",
       "       'Streptomyces lividans', 'Priestia megaterium',\n",
       "       'Salmonella enterica', 'Citrobacter freundii', 'Erwinia amylovora',\n",
       "       'Streptococcus pneumoniae',\n",
       "       'Pseudomonas fluorescens; Pseudomonas putida',\n",
       "       'Burkholderia pseudomallei', 'Pseudomonas aeruginosa',\n",
       "       'Enterobacter cloacae', 'Proteus mirabilis', 'Vibrio cholerae',\n",
       "       'Arthrobacter sp.', 'Limosilactobacillus fermentum',\n",
       "       'Clostridium tetani', 'Paenibacillus larvae',\n",
       "       'Edwardsiella ictaluri', 'Prochlorococcus marinus',\n",
       "       'Staphylococcus sp.', 'Acinetobacter sp.',\n",
       "       'Staphylococcus haemolyticus', 'Synechococcus',\n",
       "       'Synechococcus sp. WH 7803; Synechococcus',\n",
       "       'Synechococcus sp. WH 7803', 'Gordonia sputi',\n",
       "       'Sinorhizobium meliloti', 'Delftia sp. 670', 'Geobacillus',\n",
       "       'Pectobacterium atrosepticum', 'Pseudoalteromonas sp. Bq0',\n",
       "       'Brucella sp.; Brucella abortus', 'Erysipelothrix rhusiopathiae',\n",
       "       'Pseudomonas sp. 1-1-1b', 'Prochlorococcus sp.; Prochlorococcus',\n",
       "       'Streptococcus mutans', 'Gordonia malaquae',\n",
       "       'Gordonia rubripertincta', 'Escherichia', 'Klebsiella',\n",
       "       'Brevibacillus laterosporus',\n",
       "       'Bacillus thuringiensis; Bacillus cereus; Bacillus anthracis',\n",
       "       'Klebsiella aerogenes', 'Achromobacter xylosoxidans',\n",
       "       'Cronobacter', 'Mannheimia haemolytica', 'Citrobacter sp.',\n",
       "       'Arthrobacter sp. ATCC 21022', 'Caulobacter sp.',\n",
       "       'Bacillus thuringiensis; Bacillus cereus', 'Dickeya solani',\n",
       "       'Alkalihalobacillus alcalophilus', 'Lacticaseibacillus paracasei',\n",
       "       'Pectobacterium carotovorum', 'Citrobacter sp. TM1552',\n",
       "       'Cellulophaga baltica', 'Staphylococcus', 'Paracoccus sp.',\n",
       "       'Bacillus halmapalus', 'Ralstonia', 'Xanthomonas arboricola',\n",
       "       'Bacillus paralicheniformis', 'Synechococcus sp.',\n",
       "       'Pseudomonas putida', 'Brucella inopinata',\n",
       "       'Bacillus sp. (in: Bacteria)', 'Bacillus subtilis',\n",
       "       'Gordonia terrae', 'Bacillariophyta', 'Tsukamurella paurometabola',\n",
       "       'Klebsiella oxytoca', 'Gordonia; Gordonia terrae',\n",
       "       'Gordonia neofelifaecis', 'Pseudomonas', 'Gordonia alkanivorans',\n",
       "       'Lactococcus garvieae', 'Propionibacterium freudenreichii',\n",
       "       'Erwinia', 'Morganella sp. (in: Bacteria)', 'Enterobacter sp. CT7',\n",
       "       'Campylobacter jejuni', 'Lacticaseibacillus casei', 'Citrobacter',\n",
       "       'Alphaproteobacteria', 'Bacillus', 'Pseudomonas sp.',\n",
       "       'Levilactobacillus brevis', 'Bacillus cereus; Bacillus anthracis',\n",
       "       'Rhodococcus erythropolis', 'Streptomyces azureus', 'Shigella sp.',\n",
       "       'Vibrio splendidus', 'Pectobacterium wasabiae',\n",
       "       'Serratia rubidaea', 'Aeribacillus pallidus',\n",
       "       'Thermus thermophilus', 'Aquamicrobium sp. H14',\n",
       "       'Pseudoalteromonas sp.', 'Salmonella; Salmonella enterica',\n",
       "       'Burkholderia cenocepacia', 'Aeromonas hydrophila',\n",
       "       'Lactiplantibacillus plantarum', 'Providencia sp.',\n",
       "       'Marinomonas mediterranea', 'Aeromonas sp.',\n",
       "       'Pseudomonas fluorescens group', 'Pasteurella multocida',\n",
       "       'Serratia sp. ATCC 39006', 'Acidovorax citrulli',\n",
       "       'Erwinia tracheiphila', 'Dickeya fangzhongdai',\n",
       "       'Corynebacterium vitaeruminis', 'Alteromonas sp.',\n",
       "       'Acinetobacter pittii', 'Marinomonas sp.',\n",
       "       'Streptomyces viridochromogenes', 'Bacillus velezensis',\n",
       "       'Streptomyces griseus', 'Aeromonas salmonicida',\n",
       "       'Agrobacterium tumefaciens', 'Xanthomonas sp.',\n",
       "       'Leclercia adecarboxylata', 'Escherichia coli; Shigella flexneri',\n",
       "       'Shigella dysenteriae; Escherichia coli',\n",
       "       'Lactiplantibacillus plantarum; Lactiplantibacillus pentosus',\n",
       "       'Bordetella bronchiseptica',\n",
       "       'Shigella sonnei; Shigella boydii; Shigella dysenteriae; Shigella flexneri',\n",
       "       'Yersinia', 'Clostridium perfringens', 'Streptomyces scabiei',\n",
       "       'Pectobacterium sp.', 'Salmonella sp.',\n",
       "       'Corynebacterium glutamicum', 'Raoultella ornithinolytica',\n",
       "       'Microbacterium foliorum', 'Vibrio harveyi',\n",
       "       'Vibrio parahaemolyticus', 'Salinibacter ruber',\n",
       "       'Vibrio cyclitrophicus', 'Escherichia; Escherichia coli',\n",
       "       'Lactococcus cremoris; Lactococcus lactis',\n",
       "       'Faecalibacterium prausnitzii', 'Citrobacter rodentium',\n",
       "       'Shigella sonnei; Escherichia coli; Shigella flexneri',\n",
       "       'Mycolicibacterium phlei', 'Pseudomonas agarici',\n",
       "       'Microbacterium paraoxydans', 'Burkholderia', 'Escherichia sp.',\n",
       "       'Pseudomonas fluorescens', 'Enterobacter asburiae', 'Enterococcus',\n",
       "       'Leptospira biflexa', 'Synechococcus sp. WH 8102',\n",
       "       'Synechococcus sp. WH 8109', 'Sphingomonas paucimobilis',\n",
       "       'Curvibacter sp.', 'Enterobacteriaceae', 'Vibrio coralliilyticus',\n",
       "       'Enterobacteriaceae; Escherichia coli', 'Bacteroides intestinalis',\n",
       "       'Corynebacterium xerosis', 'Halobacterium salinarum',\n",
       "       'Arthrobacter globiformis', 'Lentibacter sp.; Lentibacter',\n",
       "       'Alkalihalobacillus bogoriensis', 'Lacticaseibacillus rhamnosus',\n",
       "       'Yersinia pseudotuberculosis', 'Klebsiella sp.',\n",
       "       'Cronobacter turicensis', 'Pantoea agglomerans',\n",
       "       'Streptomyces griseofuscus', 'Providencia stuartii', 'Vibrio sp.',\n",
       "       'Natrialba magadii', 'Stenotrophomonas maltophilia',\n",
       "       'Escherichia; Escherichia sp.', 'Staphylococcus pseudintermedius',\n",
       "       'Vibrio', 'Shigella boydii', 'Achromobacter animicus',\n",
       "       'Shigella sonnei; Citrobacter rodentium; Escherichia coli',\n",
       "       'Flavobacterium sp. LMO9', 'Flavobacterium sp. LMO6',\n",
       "       'Salmonella sp.; Escherichia coli', 'Heunggongvirae',\n",
       "       'Butyrivibrio fibrisolvens', 'Providencia rettgeri',\n",
       "       'Staphylococcus aureus; Staphylococcus', 'Yersinia pestis',\n",
       "       'Halorubrum saccharovorum', 'Streptococcus suis',\n",
       "       'Streptococcus dysgalactiae', 'Burkholderia thailandensis',\n",
       "       'Lactococcus', 'Xanthomonas oryzae',\n",
       "       'Phormidium tenue; Leptolyngbya foveolarum', 'Aeromonas media',\n",
       "       'Bacillus sp. 6k512', 'Thalassotalea loyana',\n",
       "       'Lactobacillus johnsonii', 'Azospirillum brasilense',\n",
       "       'Halomonas aquamarina', 'Ralstonia; Ralstonia solanacearum',\n",
       "       'Streptococcus gordonii', 'Klebsiella sp. 390',\n",
       "       'Acanthamoeba polyphaga', 'Morganella morganii',\n",
       "       'Kluyvera cryocrescens', 'Glaesserella parasuis',\n",
       "       'Lactobacillus jensenii', 'Xanthomonas campestris',\n",
       "       'Streptococcus thermophilus', 'Streptococcus oralis',\n",
       "       'Burkholderia pyrrocinia; Burkholderia pseudomallei',\n",
       "       'Delftia acidovorans', 'Aggregatibacter actinomycetemcomitans',\n",
       "       'Leuconostoc mesenteroides', 'Rhodococcus hoagii',\n",
       "       'Campylobacter sp.', 'Campylobacter', 'Acinetobacter johnsonii',\n",
       "       'Brochothrix thermosphacta', 'Synechococcus sp. WH 6501',\n",
       "       'Synechococcus sp. WH 8017', 'Erwinia tasmaniensis',\n",
       "       'Geobacillus sp. E263', 'Burkholderia ambifaria', 'Acinetobacter',\n",
       "       'Candidatus Liberibacter asiaticus; Liberibacter',\n",
       "       'Lactobacillus sp.', 'Salmonella enterica; Escherichia coli',\n",
       "       'Riemerella anatipestifer', 'Synechococcus sp.; Synechococcus',\n",
       "       'Streptococcus salivarius', 'Escherichia; Enterobacterales',\n",
       "       'Candidatus Liberibacter asiaticus', 'Psychrobacter sp. MV2',\n",
       "       'Rhodococcus rhodochrous', 'Nocardia brasiliensis',\n",
       "       'Erwinia pyrifoliae', 'Pseudomonas tolaasii',\n",
       "       'Rhodobacter capsulatus', 'Enterobacter cancerogenus',\n",
       "       'Staphylococcus capitis', 'Salinivibrio costicola',\n",
       "       'Thermoanaerobacterium saccharolyticum', 'Celeribacter marinus',\n",
       "       'Marinomonas sp.; Marinomonas', 'Vibrio; Vibrio parahaemolyticus',\n",
       "       'Xanthomonas citri', 'Helicobacter pylori',\n",
       "       'Staphylococcus pasteuri', 'Bacillus cereus group',\n",
       "       'Agrobacterium fabacearum', 'Streptococcus agalactiae',\n",
       "       'Streptomyces avermitilis; Streptomyces cattleya',\n",
       "       'Acidithiobacillus caldus', 'Serratia sp.',\n",
       "       'Lactobacillus helveticus', 'Rhizobium etli',\n",
       "       'Candidatus Pelagibacter ubique', 'Lactococcus cremoris',\n",
       "       'Synechococcus sp. WH 8018', 'Prochlorococcus',\n",
       "       'Synechococcus sp. WH 8012', 'Psychrobacter sp. OW20',\n",
       "       'Bacillus mycoides', 'Nitratiruptor sp. SB155-2',\n",
       "       'Bacillus pumilus; Bacillus subtilis',\n",
       "       'Methanothermobacter thermautotrophicus', 'Pseudomonas savastanoi',\n",
       "       'Selenomonas ruminantium', 'Spiroplasma melliferum',\n",
       "       'Fungi; Metazoa; Viridiplantae', 'Streptococcus pyogenes',\n",
       "       'Chlamydia psittaci', 'Saccharolobus solfataricus',\n",
       "       'Haemophilus influenzae',\n",
       "       'Proteus mirabilis; Acinetobacter calcoaceticus; Escherichia coli; Pseudomonas putida; Salmonella enterica; Pseudomonas fluorescens; Vibrio cholerae; Pseudomonas aeruginosa',\n",
       "       'Mycoplasma', 'Phormidium', 'Geobacillus sp. 6k51',\n",
       "       'Mycolicibacterium smegmatis; Mycobacterium',\n",
       "       'Mycobacterium tuberculosis; Mycobacterium; Mycolicibacterium smegmatis',\n",
       "       'Corynebacteriales; Mycobacterium', 'Kitasatospora aureofaciens',\n",
       "       'Lactobacillus gasseri', 'Xanthomonas', 'Clostridium botulinum',\n",
       "       'Bacillus anthracis', 'Burkholderia cepacia',\n",
       "       'Acidianus convivator', 'Evansella clarkii', 'Flavobacterium sp.',\n",
       "       'Burkholderia cenocepacia; Burkholderia', 'Streptococcus mitis',\n",
       "       'Mycolicibacterium smegmatis; Mycolicibacterium vaccae',\n",
       "       'Saccharomonospora sp.', 'Synechococcus sp. WH 7805',\n",
       "       'Acinetobacter genomosp. 16BJ', 'Bdellovibrio bacteriovorus',\n",
       "       'Vibrio natriegens', 'Roseobacter', 'Methanothermobacter wolfeii',\n",
       "       '[Brevibacterium] flavum', 'Pseudoalteromonas espejiana',\n",
       "       'Streptomyces coelicolor',\n",
       "       'Mycobacterium tuberculosis; Mycolicibacterium smegmatis',\n",
       "       'Haloarcula hispanica', 'Haloarcula californiae',\n",
       "       'Haloarcula sinaiiensis', 'Paenibacillus glucanolyticus',\n",
       "       'Halorubrum sp.', 'Citrobacter rodentium; Escherichia coli',\n",
       "       'Geobacillus kaustophilus; Thermus thermophilus',\n",
       "       'Klebsiella pneumoniae; Klebsiella',\n",
       "       'Staphylococcus saprophyticus',\n",
       "       'Shigella sonnei; Escherichia coli', 'Erwinia sp.',\n",
       "       'Leptolyngbya boryana; Leptolyngbya foveolarum',\n",
       "       'Xylella fastidiosa', 'Oenococcus oeni', 'Enterococcus sp.',\n",
       "       'Pseudomonas plecoglossicida', 'root; Metazoa',\n",
       "       'Geobacillus kaustophilus'], dtype=object)"
      ]
     },
     "execution_count": 154,
     "metadata": {},
     "output_type": "execute_result"
    }
   ],
   "source": [
    "df['Host kingdom'].unique()"
   ]
  },
  {
   "cell_type": "code",
   "execution_count": 155,
   "metadata": {},
   "outputs": [
    {
     "data": {
      "text/plain": [
       "(284537, 12)"
      ]
     },
     "execution_count": 155,
     "metadata": {},
     "output_type": "execute_result"
    }
   ],
   "source": [
    "df[(df['Host kingdom'].str.contains('Viridiplantae')) | df['Virus hosts'].str.contains('[Hh]omo [Ss]apiens')].shape"
   ]
  },
  {
   "cell_type": "code",
   "execution_count": 156,
   "metadata": {},
   "outputs": [],
   "source": [
    "df['Molecule type'] = np.where(df['Molecule type'].isna(), '', df['Molecule type'])"
   ]
  },
  {
   "cell_type": "code",
   "execution_count": 157,
   "metadata": {},
   "outputs": [
    {
     "data": {
      "text/html": [
       "<div>\n",
       "<style scoped>\n",
       "    .dataframe tbody tr th:only-of-type {\n",
       "        vertical-align: middle;\n",
       "    }\n",
       "\n",
       "    .dataframe tbody tr th {\n",
       "        vertical-align: top;\n",
       "    }\n",
       "\n",
       "    .dataframe thead th {\n",
       "        text-align: right;\n",
       "    }\n",
       "</style>\n",
       "<table border=\"1\" class=\"dataframe\">\n",
       "  <thead>\n",
       "    <tr style=\"text-align: right;\">\n",
       "      <th></th>\n",
       "      <th>Entry</th>\n",
       "      <th>Protein</th>\n",
       "      <th>Species name</th>\n",
       "      <th>Species taxonomic ID</th>\n",
       "      <th>Species family</th>\n",
       "      <th>Virus hosts</th>\n",
       "      <th>Virus hosts ID</th>\n",
       "      <th>Host kingdom</th>\n",
       "      <th>Host superkingdom</th>\n",
       "      <th>Molecule type</th>\n",
       "      <th>Infects human</th>\n",
       "      <th>Sequence</th>\n",
       "    </tr>\n",
       "  </thead>\n",
       "  <tbody>\n",
       "  </tbody>\n",
       "</table>\n",
       "</div>"
      ],
      "text/plain": [
       "Empty DataFrame\n",
       "Columns: [Entry, Protein, Species name, Species taxonomic ID, Species family, Virus hosts, Virus hosts ID, Host kingdom, Host superkingdom, Molecule type, Infects human, Sequence]\n",
       "Index: []"
      ]
     },
     "execution_count": 157,
     "metadata": {},
     "output_type": "execute_result"
    }
   ],
   "source": [
    "df[df['Molecule type'].isna()]"
   ]
  },
  {
   "cell_type": "code",
   "execution_count": 158,
   "metadata": {},
   "outputs": [
    {
     "data": {
      "text/plain": [
       "(31528, 12)"
      ]
     },
     "execution_count": 158,
     "metadata": {},
     "output_type": "execute_result"
    }
   ],
   "source": [
    "df[df['Host kingdom'].str.contains('Metazoa')][df[df['Host kingdom'].str.contains('Metazoa')]['Molecule type'].str.contains('DNA')].shape"
   ]
  },
  {
   "cell_type": "code",
   "execution_count": 159,
   "metadata": {},
   "outputs": [
    {
     "data": {
      "text/plain": [
       "(273101, 12)"
      ]
     },
     "execution_count": 159,
     "metadata": {},
     "output_type": "execute_result"
    }
   ],
   "source": [
    "df[df['Host kingdom'].str.contains('Metazoa')][df[df['Host kingdom'].str.contains('Metazoa')]['Molecule type'].str.contains('RNA')].shape"
   ]
  },
  {
   "cell_type": "code",
   "execution_count": 160,
   "metadata": {},
   "outputs": [
    {
     "data": {
      "text/plain": [
       "(317316, 12)"
      ]
     },
     "execution_count": 160,
     "metadata": {},
     "output_type": "execute_result"
    }
   ],
   "source": [
    "df.shape"
   ]
  },
  {
   "cell_type": "code",
   "execution_count": 161,
   "metadata": {},
   "outputs": [
    {
     "data": {
      "text/plain": [
       "(9987, 12)"
      ]
     },
     "execution_count": 161,
     "metadata": {},
     "output_type": "execute_result"
    }
   ],
   "source": [
    "df[~df['Host kingdom'].str.contains('Metazoa')].shape"
   ]
  },
  {
   "cell_type": "code",
   "execution_count": 162,
   "metadata": {},
   "outputs": [
    {
     "data": {
      "text/plain": [
       "(283199, 12)"
      ]
     },
     "execution_count": 162,
     "metadata": {},
     "output_type": "execute_result"
    }
   ],
   "source": [
    "df[(df['Host superkingdom'].isin(['Bacteria', 'Viruses', 'Archaea'])) | (df['Virus hosts'].str.contains('[Hh]omo [Ss]apiens'))].shape"
   ]
  },
  {
   "cell_type": "code",
   "execution_count": 163,
   "metadata": {},
   "outputs": [],
   "source": [
    "unfiltered = df\n",
    "metazoa = df[df['Host kingdom'].str.contains('Metazoa')]\n",
    "plant_human = df[(df['Host kingdom'].str.contains('Viridiplantae')) | df['Virus hosts'].str.contains('[Hh]omo [Ss]apiens')]\n",
    "NonEukaryote_Human = df[(df['Host superkingdom'].isin(['Bacteria', 'Viruses', 'Archaea'])) | (df['Virus hosts'].str.contains('[Hh]omo [Ss]apiens'))]\n",
    "DNA_MetazoaZoonosis = metazoa[metazoa['Molecule type'].str.contains('DNA')]\n",
    "RNA_MetazoaZoonosis = metazoa[metazoa['Molecule type'].str.contains('RNA')]"
   ]
  },
  {
   "cell_type": "code",
   "execution_count": 178,
   "metadata": {},
   "outputs": [],
   "source": [
    "def check_dist(df):\n",
    "    true_count = df[df['Infects human'].str.contains('true')].shape[0]\n",
    "    false_count = df[df['Infects human'].str.contains('false')].shape[0]\n",
    "    imb = (false_count/true_count)\n",
    "    print('The minoity class is %.2f of the majority\\nhuman-true == %d and human false == %d\\n' % (imb, true_count, false_count))"
   ]
  },
  {
   "cell_type": "code",
   "execution_count": 179,
   "metadata": {},
   "outputs": [
    {
     "name": "stdout",
     "output_type": "stream",
     "text": [
      "The minoity class is 0.10 of the majority\n",
      "human-true == 278755 and human false == 28574\n",
      "\n",
      "The minoity class is 0.14 of the majority\n",
      "human-true == 278789 and human false == 38527\n",
      "\n",
      "The minoity class is 0.02 of the majority\n",
      "human-true == 278789 and human false == 5748\n",
      "\n",
      "The minoity class is 0.02 of the majority\n",
      "human-true == 278755 and human false == 4444\n",
      "\n",
      "The minoity class is 0.29 of the majority\n",
      "human-true == 24518 and human false == 7010\n",
      "\n",
      "The minoity class is 0.07 of the majority\n",
      "human-true == 254072 and human false == 19029\n",
      "\n"
     ]
    }
   ],
   "source": [
    "dataframes = [metazoa, unfiltered, plant_human, NonEukaryote_Human, DNA_MetazoaZoonosis, RNA_MetazoaZoonosis]\n",
    "for dt in dataframes:\n",
    "    check_dist(dt)"
   ]
  },
  {
   "cell_type": "markdown",
   "metadata": {},
   "source": [
    "## Random Undersampling of datasets"
   ]
  },
  {
   "cell_type": "code",
   "execution_count": null,
   "metadata": {},
   "outputs": [],
   "source": [
    "seed = 960505"
   ]
  },
  {
   "cell_type": "code",
   "execution_count": 180,
   "metadata": {},
   "outputs": [
    {
     "name": "stdout",
     "output_type": "stream",
     "text": [
      "The minoity class is 0.60 of the majority\n",
      "human-true == 47623 and human false == 28574\n",
      "\n",
      "The minoity class is 0.60 of the majority\n",
      "human-true == 64211 and human false == 38527\n",
      "\n",
      "The minoity class is 0.60 of the majority\n",
      "human-true == 9580 and human false == 5748\n",
      "\n",
      "The minoity class is 0.60 of the majority\n",
      "human-true == 7406 and human false == 4444\n",
      "\n",
      "The minoity class is 0.60 of the majority\n",
      "human-true == 11683 and human false == 7010\n",
      "\n",
      "The minoity class is 0.60 of the majority\n",
      "human-true == 31715 and human false == 19029\n",
      "\n"
     ]
    }
   ],
   "source": [
    "# Undersample majority class such that minority class (human-false) is 60% of the majority class (human-true317316)\n",
    "rus = RandomUnderSampler(sampling_strategy=0.6, random_state=seed)\n",
    "sampled_dataframes = []\n",
    "for dt in dataframes:\n",
    "    clas = dt['Infects human']\n",
    "#     print('Dataframe before sampling: ', dt.shape[0])\n",
    "    dt, _ = rus.fit_resample(dt, clas)\n",
    "    sampled_dataframes.append(dt)\n",
    "    check_dist(dt)\n",
    "#     print('Dataframe after sampling: ', dt.shape[0])"
   ]
  },
  {
   "cell_type": "markdown",
   "metadata": {},
   "source": [
    "## Write file sequences to fasta for feature extraction"
   ]
  },
  {
   "cell_type": "code",
   "execution_count": 181,
   "metadata": {},
   "outputs": [],
   "source": [
    "metazoaFile = 'MetazoaZoonosis'\n",
    "plant_humanFile = 'Plant-HumanZoonosis'\n",
    "unfilteredFile = 'Zoonosis'\n",
    "NonEukaryote_HumanFile = 'NonEukaryote-Human'\n",
    "DNA_metazoaFile = 'DNA-MetazoaZoonosis'\n",
    "RNA_metazoaFile = 'RNA-MetazoaZoonosis'"
   ]
  },
  {
   "cell_type": "code",
   "execution_count": 182,
   "metadata": {},
   "outputs": [],
   "source": [
    "dirs = ['MetazoaZoonosisData', 'ZoonosisData',\n",
    "        'Plant-HumanZoonosisData', 'NonEukaryote-HumanData',\n",
    "        'DNA-MetazoaZoonosisData', 'RNA-MetazoaZoonosisData']\n",
    "dirs = [os.path.join('../data/', fol) for fol in dirs] # Do not include in script\n",
    "files = [metazoaFile, unfilteredFile, plant_humanFile, NonEukaryote_HumanFile, DNA_metazoaFile, RNA_metazoaFile]\n",
    "toSave = list(zip(sampled_dataframes, files, dirs))"
   ]
  },
  {
   "cell_type": "code",
   "execution_count": 185,
   "metadata": {},
   "outputs": [
    {
     "name": "stdout",
     "output_type": "stream",
     "text": [
      "Done with ../data/MetazoaZoonosisData\n",
      "Done with ../data/ZoonosisData\n",
      "Done with ../data/Plant-HumanZoonosisData\n",
      "Done with ../data/NonEukaryote-HumanData\n",
      "Done with ../data/DNA-MetazoaZoonosisData\n",
      "Done with ../data/RNA-MetazoaZoonosisData\n"
     ]
    }
   ],
   "source": [
    "for dff, file, folder in toSave:\n",
    "#    save dataframes as csv\n",
    "    dff.drop('Sequence', axis=1).to_csv(f'{folder}/{file}Data.csv.gz', index=False, compression='gzip')\n",
    "    \n",
    "#    Create subdirectories\n",
    "    os.makedirs(os.path.join(folder, 'train/human-true'), exist_ok=True)\n",
    "    os.makedirs(os.path.join(folder, 'test/human-true'), exist_ok=True)\n",
    "    os.makedirs(os.path.join(folder, 'train/human-false'), exist_ok=True)\n",
    "    os.makedirs(os.path.join(folder, 'test/human-false'), exist_ok=True)\n",
    "#    Split data to train and test data\n",
    "    train, test = train_test_split(dff, test_size=0.2, random_state=) # Will further split 15% of train as validation during training\n",
    "#    Save test and train sequences\n",
    "    save_sequences(train, f'{folder}/train/Sequences') # Will move to subdirectories after feature extraction\n",
    "    save_sequences(test, f'{folder}/test/Sequences')\n",
    "    \n",
    "    print('Done with', folder)"
   ]
  },
  {
   "cell_type": "code",
   "execution_count": null,
   "metadata": {},
   "outputs": [],
   "source": []
  }
 ],
 "metadata": {
  "kernelspec": {
   "display_name": "Deep Learning",
   "language": "python",
   "name": "deep_learning_kernel"
  },
  "language_info": {
   "codemirror_mode": {
    "name": "ipython",
    "version": 3
   },
   "file_extension": ".py",
   "mimetype": "text/x-python",
   "name": "python",
   "nbconvert_exporter": "python",
   "pygments_lexer": "ipython3",
   "version": "3.7.8"
  },
  "metadata": {
   "interpreter": {
    "hash": "d1fca8d20300d410c8f6acb40a2d9646a273de74113c44fe1a7d9f677162ff7e"
   }
  }
 },
 "nbformat": 4,
 "nbformat_minor": 4
}
