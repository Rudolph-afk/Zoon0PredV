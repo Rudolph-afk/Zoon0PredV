{
 "cells": [
  {
   "cell_type": "markdown",
   "metadata": {},
   "source": [
    "# Description"
   ]
  },
  {
   "cell_type": "markdown",
   "metadata": {},
   "source": [
    "This notebook makes use of the **pandas** library and the **ete3 toolkit**, specifically ete3's [NCBI Taxonomic database](http://etetoolkit.org/docs/latest/tutorial/tutorial_ncbitaxonomy.html). Several custom functions simplifying the use of ete3 are in the zoonosis_helper_functions.py script which is imported into the notebook."
   ]
  },
  {
   "cell_type": "markdown",
   "metadata": {
    "tags": []
   },
   "source": [
    "\n",
    "The primary data is obtained from the Uniprot database. It contains data on proteins which facilitate viral [entry into host cells](https://www.uniprot.org/uniprot/?query=keyword:%22Virus%20entry%20into%20host%20cell%20[KW-1160]%22). The data is in 2 parts, the first being the [tabular data](#tabular-data) and the second being the [fasta sequences](#fasta) of the virus surface proteins. The 2 are linked by their uniprot entry identifiers. A very small portion of the data has been reviewed and is not sufficient for application in deep learning so both the reviewed and unreviewed data is kept, however, the unreviewed data lacks information on host data.\n",
    "\n",
    "To alleviate the host data information, external sources were used, namely:\n",
    "\n",
    "- [NCBI Virus database](https://www.ncbi.nlm.nih.gov/labs/virus/vssi/#/virus?VirusLineage_ss=Viruses,%20taxid:10239&SeqType_s=Protein&Proviral_s=exclude&HostLineage_ss=Mammalia%20(mammals),%20taxid:40674)\n",
    "- [Virus-Host database](https://www.genome.jp/virushostdb/)\n",
    "- [Enhanced Infectious Disease Database (EID2)](https://eid2.liverpool.ac.uk/OrganismInteractions)\n",
    "\n",
    "1. [The ete3 is first used to obtain taxomomic identifiers at the species level and if an identifier is already present to still use the ete3 taxonomic identifiers for consistency.](#ete3-taxo)\n",
    "\n",
    "1. [Data is further filtered to keep only viruses (organism).](#filter)\n",
    "\n",
    "1. [The dataset contains some repetitive information i.e. same virus, same hosts but different protein or different protein entry. Therefore, the next step was to fill in the host data using information from the reviewed data. The premise was if it's the same virus then it ought to have the same hosts.](#Updating-host-names-from-other-host-data-in-the-dataset)\n",
    "\n",
    "1. [Thereafter information form external sources is appended to the primary data. Missing data after final processing is dropped.](#Updating-host-names-from-external-sources)\n",
    "\n",
    "1. [An additional column (Infects human) is then later added. If at least one of the virus hosts is homo sapiens then an assignment of **1** is given otherwise **0** is assigned to the row.](#Further-Processing)\n",
    "\n",
    "1. [Since the data was obtained from multiple sources further processing was done to make the information format consistent.](#host-name-consistency)\n",
    "\n",
    "1. [The sequence data is loaded and linked to the tabular data.](#fasta)\n",
    "\n",
    "1. [Protein names are also updated from sequence data for consistency in the data.](#protein-names-from-sequence)\n",
    "\n",
    "1. [After processing, the data is then split into training and testing data. Validation split is done upon loading the training data with **keras**.](#splits)\n",
    "\n",
    "1. [random undersampling](#Random-Undersampling-of-datasets)\n",
    "\n",
    "1. [Write file sequences to fasta for feature extraction](#Write-file-sequences-to-fasta-for-feature-extraction)\n",
    "\n",
    "\n",
    "### [Absolutely no idea why Virus host name != Virus hosts](#issue)"
   ]
  },
  {
   "cell_type": "markdown",
   "metadata": {},
   "source": [
    "## Packages"
   ]
  },
  {
   "cell_type": "code",
   "execution_count": 1,
   "metadata": {},
   "outputs": [],
   "source": [
    "# Import all necesssary modules\n",
    "## Always import pandas before swifter ##\n",
    "import pandas as pd\n",
    "import swifter # enables pandas multiprocessing using modin and ray as a backend. Also adds progress bar functionality\n",
    "import numpy as np\n",
    "import matplotlib.pyplot as plt\n",
    "%matplotlib inline\n",
    "# import seaborn as sns\n",
    "from sklearn.model_selection import train_test_split\n",
    "from imblearn.under_sampling import RandomUnderSampler\n",
    "import re\n",
    "import os\n",
    "from ete3 import NCBITaxa\n",
    "from pprint import pprint\n",
    "from tqdm.notebook import tqdm_notebook, tqdm\n",
    "# import warnings\n",
    "# warnings.filterwarnings(\"ignore\", category=UserWarning)\n",
    "from zoonosis_helper_functions import *"
   ]
  },
  {
   "cell_type": "markdown",
   "metadata": {},
   "source": [
    "Please check the zoonosis_helper_functions.py in the current directory"
   ]
  },
  {
   "cell_type": "code",
   "execution_count": 2,
   "metadata": {},
   "outputs": [],
   "source": [
    "# Configure Progress bar and Modin Pandas Engine\n",
    "\n",
    "tqdm.pandas(desc='Processing')\n",
    "os.environ[\"MODIN_ENGINE\"] = \"ray\""
   ]
  },
  {
   "cell_type": "markdown",
   "metadata": {},
   "source": [
    "## Data exploration"
   ]
  },
  {
   "cell_type": "markdown",
   "metadata": {},
   "source": [
    "<a id='tabular-data'></a>"
   ]
  },
  {
   "cell_type": "code",
   "execution_count": 3,
   "metadata": {},
   "outputs": [],
   "source": [
    "# Load dataset downloaded from Uniprot\n",
    "df = pd.read_table('../data/uniprot-keyword Virus+entry+into+host+cell+[KW-1160] +fragment no.tab.gz')"
   ]
  },
  {
   "cell_type": "code",
   "execution_count": 4,
   "metadata": {},
   "outputs": [
    {
     "data": {
      "text/plain": [
       "(358333, 9)"
      ]
     },
     "execution_count": 4,
     "metadata": {},
     "output_type": "execute_result"
    }
   ],
   "source": [
    "df.shape"
   ]
  },
  {
   "cell_type": "code",
   "execution_count": 5,
   "metadata": {},
   "outputs": [
    {
     "data": {
      "text/html": [
       "<div>\n",
       "<style scoped>\n",
       "    .dataframe tbody tr th:only-of-type {\n",
       "        vertical-align: middle;\n",
       "    }\n",
       "\n",
       "    .dataframe tbody tr th {\n",
       "        vertical-align: top;\n",
       "    }\n",
       "\n",
       "    .dataframe thead th {\n",
       "        text-align: right;\n",
       "    }\n",
       "</style>\n",
       "<table border=\"1\" class=\"dataframe\">\n",
       "  <thead>\n",
       "    <tr style=\"text-align: right;\">\n",
       "      <th></th>\n",
       "      <th>Entry</th>\n",
       "      <th>Entry name</th>\n",
       "      <th>Status</th>\n",
       "      <th>Protein names</th>\n",
       "      <th>Organism</th>\n",
       "      <th>Length</th>\n",
       "      <th>Taxonomic lineage IDs</th>\n",
       "      <th>Taxonomic lineage (SPECIES)</th>\n",
       "      <th>Virus hosts</th>\n",
       "    </tr>\n",
       "  </thead>\n",
       "  <tbody>\n",
       "    <tr>\n",
       "      <th>319028</th>\n",
       "      <td>A0A1P8P674</td>\n",
       "      <td>A0A1P8P674_9HIV1</td>\n",
       "      <td>unreviewed</td>\n",
       "      <td>Envelope glycoprotein gp160 (Env polyprotein) ...</td>\n",
       "      <td>Human immunodeficiency virus 1</td>\n",
       "      <td>867</td>\n",
       "      <td>11676</td>\n",
       "      <td>Human immunodeficiency virus 1</td>\n",
       "      <td>Homo sapiens (Human) [TaxID: 9606]</td>\n",
       "    </tr>\n",
       "    <tr>\n",
       "      <th>329090</th>\n",
       "      <td>A0A3G5NAL6</td>\n",
       "      <td>A0A3G5NAL6_9HIV1</td>\n",
       "      <td>unreviewed</td>\n",
       "      <td>Envelope glycoprotein gp160 (Env polyprotein) ...</td>\n",
       "      <td>Human immunodeficiency virus 1</td>\n",
       "      <td>847</td>\n",
       "      <td>11676</td>\n",
       "      <td>Human immunodeficiency virus 1</td>\n",
       "      <td>Homo sapiens (Human) [TaxID: 9606]</td>\n",
       "    </tr>\n",
       "    <tr>\n",
       "      <th>303443</th>\n",
       "      <td>A0A0R6CY34</td>\n",
       "      <td>A0A0R6CY34_9HIV1</td>\n",
       "      <td>unreviewed</td>\n",
       "      <td>Envelope glycoprotein gp160 (Env polyprotein) ...</td>\n",
       "      <td>Human immunodeficiency virus 1</td>\n",
       "      <td>858</td>\n",
       "      <td>11676</td>\n",
       "      <td>Human immunodeficiency virus 1</td>\n",
       "      <td>Homo sapiens (Human) [TaxID: 9606]</td>\n",
       "    </tr>\n",
       "  </tbody>\n",
       "</table>\n",
       "</div>"
      ],
      "text/plain": [
       "             Entry        Entry name      Status  \\\n",
       "319028  A0A1P8P674  A0A1P8P674_9HIV1  unreviewed   \n",
       "329090  A0A3G5NAL6  A0A3G5NAL6_9HIV1  unreviewed   \n",
       "303443  A0A0R6CY34  A0A0R6CY34_9HIV1  unreviewed   \n",
       "\n",
       "                                            Protein names  \\\n",
       "319028  Envelope glycoprotein gp160 (Env polyprotein) ...   \n",
       "329090  Envelope glycoprotein gp160 (Env polyprotein) ...   \n",
       "303443  Envelope glycoprotein gp160 (Env polyprotein) ...   \n",
       "\n",
       "                              Organism  Length  Taxonomic lineage IDs  \\\n",
       "319028  Human immunodeficiency virus 1     867                  11676   \n",
       "329090  Human immunodeficiency virus 1     847                  11676   \n",
       "303443  Human immunodeficiency virus 1     858                  11676   \n",
       "\n",
       "           Taxonomic lineage (SPECIES)                         Virus hosts  \n",
       "319028  Human immunodeficiency virus 1  Homo sapiens (Human) [TaxID: 9606]  \n",
       "329090  Human immunodeficiency virus 1  Homo sapiens (Human) [TaxID: 9606]  \n",
       "303443  Human immunodeficiency virus 1  Homo sapiens (Human) [TaxID: 9606]  "
      ]
     },
     "execution_count": 5,
     "metadata": {},
     "output_type": "execute_result"
    }
   ],
   "source": [
    "df.sample(3)"
   ]
  },
  {
   "cell_type": "code",
   "execution_count": 6,
   "metadata": {},
   "outputs": [
    {
     "name": "stdout",
     "output_type": "stream",
     "text": [
      "(237573, 9)\n"
     ]
    },
    {
     "data": {
      "text/html": [
       "<div>\n",
       "<style scoped>\n",
       "    .dataframe tbody tr th:only-of-type {\n",
       "        vertical-align: middle;\n",
       "    }\n",
       "\n",
       "    .dataframe tbody tr th {\n",
       "        vertical-align: top;\n",
       "    }\n",
       "\n",
       "    .dataframe thead th {\n",
       "        text-align: right;\n",
       "    }\n",
       "</style>\n",
       "<table border=\"1\" class=\"dataframe\">\n",
       "  <thead>\n",
       "    <tr style=\"text-align: right;\">\n",
       "      <th></th>\n",
       "      <th>Entry</th>\n",
       "      <th>Entry name</th>\n",
       "      <th>Status</th>\n",
       "      <th>Protein names</th>\n",
       "      <th>Organism</th>\n",
       "      <th>Length</th>\n",
       "      <th>Taxonomic lineage IDs</th>\n",
       "      <th>Taxonomic lineage (SPECIES)</th>\n",
       "      <th>Virus hosts</th>\n",
       "    </tr>\n",
       "  </thead>\n",
       "  <tbody>\n",
       "    <tr>\n",
       "      <th>158491</th>\n",
       "      <td>A0A172S3R6</td>\n",
       "      <td>A0A172S3R6_9INFB</td>\n",
       "      <td>unreviewed</td>\n",
       "      <td>Nucleoprotein (Nucleocapsid protein) (Protein N)</td>\n",
       "      <td>Influenza B virus (B/California/34/2014)</td>\n",
       "      <td>560</td>\n",
       "      <td>1824147</td>\n",
       "      <td>Influenza B virus</td>\n",
       "      <td>NaN</td>\n",
       "    </tr>\n",
       "    <tr>\n",
       "      <th>182636</th>\n",
       "      <td>A1E2T2</td>\n",
       "      <td>A1E2T2_9GEMI</td>\n",
       "      <td>unreviewed</td>\n",
       "      <td>Capsid protein (Coat protein)</td>\n",
       "      <td>Tomato yellow leaf curl virus - [Tunisia]</td>\n",
       "      <td>258</td>\n",
       "      <td>413710</td>\n",
       "      <td>Tomato yellow leaf curl virus</td>\n",
       "      <td>NaN</td>\n",
       "    </tr>\n",
       "    <tr>\n",
       "      <th>188270</th>\n",
       "      <td>X2DNY3</td>\n",
       "      <td>X2DNY3_9INFA</td>\n",
       "      <td>unreviewed</td>\n",
       "      <td>Nucleoprotein (Nucleocapsid protein) (Protein N)</td>\n",
       "      <td>Influenza A virus (A/mallard/Sweden/80166/2008...</td>\n",
       "      <td>498</td>\n",
       "      <td>1455511</td>\n",
       "      <td>Influenza A virus</td>\n",
       "      <td>NaN</td>\n",
       "    </tr>\n",
       "  </tbody>\n",
       "</table>\n",
       "</div>"
      ],
      "text/plain": [
       "             Entry        Entry name      Status  \\\n",
       "158491  A0A172S3R6  A0A172S3R6_9INFB  unreviewed   \n",
       "182636      A1E2T2      A1E2T2_9GEMI  unreviewed   \n",
       "188270      X2DNY3      X2DNY3_9INFA  unreviewed   \n",
       "\n",
       "                                           Protein names  \\\n",
       "158491  Nucleoprotein (Nucleocapsid protein) (Protein N)   \n",
       "182636                     Capsid protein (Coat protein)   \n",
       "188270  Nucleoprotein (Nucleocapsid protein) (Protein N)   \n",
       "\n",
       "                                                 Organism  Length  \\\n",
       "158491           Influenza B virus (B/California/34/2014)     560   \n",
       "182636          Tomato yellow leaf curl virus - [Tunisia]     258   \n",
       "188270  Influenza A virus (A/mallard/Sweden/80166/2008...     498   \n",
       "\n",
       "        Taxonomic lineage IDs    Taxonomic lineage (SPECIES) Virus hosts  \n",
       "158491                1824147              Influenza B virus         NaN  \n",
       "182636                 413710  Tomato yellow leaf curl virus         NaN  \n",
       "188270                1455511              Influenza A virus         NaN  "
      ]
     },
     "execution_count": 6,
     "metadata": {},
     "output_type": "execute_result"
    }
   ],
   "source": [
    "# Check for number of rows with missing host names\n",
    "print(df[df['Virus hosts'].isnull()].shape)\n",
    "df[df['Virus hosts'].isnull()].sample(3)"
   ]
  },
  {
   "cell_type": "code",
   "execution_count": 7,
   "metadata": {},
   "outputs": [
    {
     "data": {
      "text/plain": [
       "100216"
      ]
     },
     "execution_count": 7,
     "metadata": {},
     "output_type": "execute_result"
    }
   ],
   "source": [
    "# Total number of different organisms in dataset (inclusive of reviewed and non-reviewed)\n",
    "df['Organism'].nunique()"
   ]
  },
  {
   "cell_type": "code",
   "execution_count": 8,
   "metadata": {},
   "outputs": [
    {
     "data": {
      "text/plain": [
       "1518"
      ]
     },
     "execution_count": 8,
     "metadata": {},
     "output_type": "execute_result"
    }
   ],
   "source": [
    "# Total number of different organisms with reviewed data\n",
    "df[df['Status'] == 'reviewed']['Organism'].nunique()"
   ]
  },
  {
   "cell_type": "code",
   "execution_count": 9,
   "metadata": {},
   "outputs": [
    {
     "data": {
      "text/plain": [
       "99095"
      ]
     },
     "execution_count": 9,
     "metadata": {},
     "output_type": "execute_result"
    }
   ],
   "source": [
    "df[df['Status'] == 'unreviewed']['Organism'].nunique()"
   ]
  },
  {
   "cell_type": "code",
   "execution_count": 10,
   "metadata": {},
   "outputs": [
    {
     "data": {
      "text/plain": [
       "321"
      ]
     },
     "execution_count": 10,
     "metadata": {},
     "output_type": "execute_result"
    }
   ],
   "source": [
    "# Check for number of rows with reviewed hosts\n",
    "df[df['Status'] == 'reviewed']['Virus hosts'].nunique()"
   ]
  },
  {
   "cell_type": "code",
   "execution_count": 11,
   "metadata": {},
   "outputs": [
    {
     "data": {
      "text/plain": [
       "200"
      ]
     },
     "execution_count": 11,
     "metadata": {},
     "output_type": "execute_result"
    }
   ],
   "source": [
    "df[df['Status'] == 'unreviewed']['Virus hosts'].nunique()"
   ]
  },
  {
   "cell_type": "code",
   "execution_count": 12,
   "metadata": {},
   "outputs": [
    {
     "data": {
      "text/plain": [
       "373"
      ]
     },
     "execution_count": 12,
     "metadata": {},
     "output_type": "execute_result"
    }
   ],
   "source": [
    "# Total number of rows with host information (inclusive of reviewed and non-reviewed)\n",
    "df['Virus hosts'].nunique()"
   ]
  },
  {
   "cell_type": "code",
   "execution_count": 13,
   "metadata": {},
   "outputs": [
    {
     "data": {
      "text/plain": [
       "100216"
      ]
     },
     "execution_count": 13,
     "metadata": {},
     "output_type": "execute_result"
    }
   ],
   "source": [
    "# Checking if there is no missing organism taxonomy data. Organism == Tax IDs\n",
    "df['Taxonomic lineage IDs'].nunique()"
   ]
  },
  {
   "cell_type": "markdown",
   "metadata": {},
   "source": [
    "## Initial processing"
   ]
  },
  {
   "cell_type": "code",
   "execution_count": 14,
   "metadata": {},
   "outputs": [],
   "source": [
    "## Replace N/A columns with an empty string... prevents errors with column wide string operations\n",
    "\n",
    "df['Virus hosts'] = np.where(df['Virus hosts'].isnull(), '',df['Virus hosts'])"
   ]
  },
  {
   "cell_type": "code",
   "execution_count": 15,
   "metadata": {},
   "outputs": [
    {
     "data": {
      "text/html": [
       "<div>\n",
       "<style scoped>\n",
       "    .dataframe tbody tr th:only-of-type {\n",
       "        vertical-align: middle;\n",
       "    }\n",
       "\n",
       "    .dataframe tbody tr th {\n",
       "        vertical-align: top;\n",
       "    }\n",
       "\n",
       "    .dataframe thead th {\n",
       "        text-align: right;\n",
       "    }\n",
       "</style>\n",
       "<table border=\"1\" class=\"dataframe\">\n",
       "  <thead>\n",
       "    <tr style=\"text-align: right;\">\n",
       "      <th></th>\n",
       "      <th>Entry</th>\n",
       "      <th>Entry name</th>\n",
       "      <th>Status</th>\n",
       "      <th>Protein names</th>\n",
       "      <th>Organism</th>\n",
       "      <th>Length</th>\n",
       "      <th>Taxonomic lineage IDs</th>\n",
       "      <th>Taxonomic lineage (SPECIES)</th>\n",
       "      <th>Virus hosts</th>\n",
       "    </tr>\n",
       "  </thead>\n",
       "  <tbody>\n",
       "    <tr>\n",
       "      <th>228353</th>\n",
       "      <td>A0A1Z1X249</td>\n",
       "      <td>A0A1Z1X249_9INFA</td>\n",
       "      <td>unreviewed</td>\n",
       "      <td>Hemagglutinin [Cleaved into: Hemagglutinin HA1...</td>\n",
       "      <td>Influenza A virus (A/mallard duck/Netherlands/...</td>\n",
       "      <td>564</td>\n",
       "      <td>2004310</td>\n",
       "      <td>Influenza A virus</td>\n",
       "      <td></td>\n",
       "    </tr>\n",
       "    <tr>\n",
       "      <th>2919</th>\n",
       "      <td>A0A085P747</td>\n",
       "      <td>A0A085P747_ECOLX</td>\n",
       "      <td>unreviewed</td>\n",
       "      <td>DUF4102 domain-containing protein (Integrase) ...</td>\n",
       "      <td>Escherichia coli</td>\n",
       "      <td>393</td>\n",
       "      <td>562</td>\n",
       "      <td>Escherichia coli</td>\n",
       "      <td></td>\n",
       "    </tr>\n",
       "    <tr>\n",
       "      <th>11061</th>\n",
       "      <td>A0A1D8HWW9</td>\n",
       "      <td>A0A1D8HWW9_9INFB</td>\n",
       "      <td>unreviewed</td>\n",
       "      <td>Hemagglutinin [Cleaved into: Hemagglutinin HA1...</td>\n",
       "      <td>Influenza B virus (B/Vermont/13/2016)</td>\n",
       "      <td>585</td>\n",
       "      <td>1910624</td>\n",
       "      <td>Influenza B virus</td>\n",
       "      <td></td>\n",
       "    </tr>\n",
       "    <tr>\n",
       "      <th>106427</th>\n",
       "      <td>A0A1P8L8E1</td>\n",
       "      <td>A0A1P8L8E1_9INFA</td>\n",
       "      <td>unreviewed</td>\n",
       "      <td>Hemagglutinin [Cleaved into: Hemagglutinin HA1...</td>\n",
       "      <td>Influenza A virus (A/California/179/2016(H3N2))</td>\n",
       "      <td>566</td>\n",
       "      <td>1936861</td>\n",
       "      <td>Influenza A virus</td>\n",
       "      <td></td>\n",
       "    </tr>\n",
       "    <tr>\n",
       "      <th>150379</th>\n",
       "      <td>A0A1Q9KXJ8</td>\n",
       "      <td>A0A1Q9KXJ8_ECOLX</td>\n",
       "      <td>unreviewed</td>\n",
       "      <td>Integrase</td>\n",
       "      <td>Escherichia coli</td>\n",
       "      <td>421</td>\n",
       "      <td>562</td>\n",
       "      <td>Escherichia coli</td>\n",
       "      <td></td>\n",
       "    </tr>\n",
       "  </tbody>\n",
       "</table>\n",
       "</div>"
      ],
      "text/plain": [
       "             Entry        Entry name      Status  \\\n",
       "228353  A0A1Z1X249  A0A1Z1X249_9INFA  unreviewed   \n",
       "2919    A0A085P747  A0A085P747_ECOLX  unreviewed   \n",
       "11061   A0A1D8HWW9  A0A1D8HWW9_9INFB  unreviewed   \n",
       "106427  A0A1P8L8E1  A0A1P8L8E1_9INFA  unreviewed   \n",
       "150379  A0A1Q9KXJ8  A0A1Q9KXJ8_ECOLX  unreviewed   \n",
       "\n",
       "                                            Protein names  \\\n",
       "228353  Hemagglutinin [Cleaved into: Hemagglutinin HA1...   \n",
       "2919    DUF4102 domain-containing protein (Integrase) ...   \n",
       "11061   Hemagglutinin [Cleaved into: Hemagglutinin HA1...   \n",
       "106427  Hemagglutinin [Cleaved into: Hemagglutinin HA1...   \n",
       "150379                                          Integrase   \n",
       "\n",
       "                                                 Organism  Length  \\\n",
       "228353  Influenza A virus (A/mallard duck/Netherlands/...     564   \n",
       "2919                                     Escherichia coli     393   \n",
       "11061               Influenza B virus (B/Vermont/13/2016)     585   \n",
       "106427    Influenza A virus (A/California/179/2016(H3N2))     566   \n",
       "150379                                   Escherichia coli     421   \n",
       "\n",
       "        Taxonomic lineage IDs Taxonomic lineage (SPECIES) Virus hosts  \n",
       "228353                2004310           Influenza A virus              \n",
       "2919                      562            Escherichia coli              \n",
       "11061                 1910624           Influenza B virus              \n",
       "106427                1936861           Influenza A virus              \n",
       "150379                    562            Escherichia coli              "
      ]
     },
     "execution_count": 15,
     "metadata": {},
     "output_type": "execute_result"
    }
   ],
   "source": [
    "df.sample(5)"
   ]
  },
  {
   "cell_type": "code",
   "execution_count": 16,
   "metadata": {},
   "outputs": [],
   "source": [
    "def join_names(df, col_name: str):\n",
    "    df[col_name] = df[col_name].str.split('; ').apply(set).apply('; '.join) # 'set' function removes duplicate entries\n",
    "    return df"
   ]
  },
  {
   "cell_type": "code",
   "execution_count": 17,
   "metadata": {},
   "outputs": [],
   "source": [
    "# df['Virus hosts'] = df['Virus hosts'].str.split('; ')\n",
    "# df['Virus hosts'] = df['Virus hosts'].swifter.progress_bar(enable=True, desc='Removing duplicate host names').apply(set)\n",
    "# df['Virus hosts'] = df['Virus hosts'].swifter.progress_bar(enable=True, desc='Joining host names list').apply('; '.join)\n",
    "\n",
    "# df['Protein names'] = df['Protein names'].str.split('; ')\n",
    "# df['Protein names'] = df['Protein names'].swifter.progress_bar(enable=True, desc='Removing duplicate protein names').apply(set)\n",
    "# df['Protein names'] = df['Protein names'].swifter.progress_bar(enable=True, desc='Joining protein names list').apply('; '.join)\n",
    "\n",
    "# df['Organism'] = df['Organism'].str.split('; ')\n",
    "# df['Organism'] = df['Organism'].swifter.progress_bar(enable=True, desc='Removing duplicate organism names').apply(set)\n",
    "# df['Organism'] = df['Organism'].swifter.progress_bar(enable=True, desc='Joining organism names list').apply('; '.join)"
   ]
  },
  {
   "cell_type": "code",
   "execution_count": 18,
   "metadata": {},
   "outputs": [
    {
     "data": {
      "text/html": [
       "<div>\n",
       "<style scoped>\n",
       "    .dataframe tbody tr th:only-of-type {\n",
       "        vertical-align: middle;\n",
       "    }\n",
       "\n",
       "    .dataframe tbody tr th {\n",
       "        vertical-align: top;\n",
       "    }\n",
       "\n",
       "    .dataframe thead th {\n",
       "        text-align: right;\n",
       "    }\n",
       "</style>\n",
       "<table border=\"1\" class=\"dataframe\">\n",
       "  <thead>\n",
       "    <tr style=\"text-align: right;\">\n",
       "      <th></th>\n",
       "      <th>Entry</th>\n",
       "      <th>Entry name</th>\n",
       "      <th>Status</th>\n",
       "      <th>Protein names</th>\n",
       "      <th>Organism</th>\n",
       "      <th>Length</th>\n",
       "      <th>Taxonomic lineage IDs</th>\n",
       "      <th>Taxonomic lineage (SPECIES)</th>\n",
       "      <th>Virus hosts</th>\n",
       "    </tr>\n",
       "  </thead>\n",
       "  <tbody>\n",
       "    <tr>\n",
       "      <th>247726</th>\n",
       "      <td>A0A2I7A7K8</td>\n",
       "      <td>A0A2I7A7K8_9INFA</td>\n",
       "      <td>unreviewed</td>\n",
       "      <td>Nucleoprotein (Nucleocapsid protein) (Protein N)</td>\n",
       "      <td>Influenza A virus (A/California/150/2017(H3N2))</td>\n",
       "      <td>498</td>\n",
       "      <td>2072053</td>\n",
       "      <td>Influenza A virus</td>\n",
       "      <td></td>\n",
       "    </tr>\n",
       "    <tr>\n",
       "      <th>186581</th>\n",
       "      <td>A0A143LYY6</td>\n",
       "      <td>A0A143LYY6_9INFA</td>\n",
       "      <td>unreviewed</td>\n",
       "      <td>Hemagglutinin HA2 chain]; Hemagglutinin [Cleav...</td>\n",
       "      <td>Influenza A virus (A/blue-winged teal/Texas/AI...</td>\n",
       "      <td>564</td>\n",
       "      <td>1807599</td>\n",
       "      <td>Influenza A virus</td>\n",
       "      <td></td>\n",
       "    </tr>\n",
       "    <tr>\n",
       "      <th>234852</th>\n",
       "      <td>A0A1Y0AXS6</td>\n",
       "      <td>A0A1Y0AXS6_9INFA</td>\n",
       "      <td>unreviewed</td>\n",
       "      <td>Nucleoprotein (Nucleocapsid protein) (Protein N)</td>\n",
       "      <td>Influenza A virus (A/swine/Kansas/A01781760/20...</td>\n",
       "      <td>498</td>\n",
       "      <td>1911222</td>\n",
       "      <td>Influenza A virus</td>\n",
       "      <td></td>\n",
       "    </tr>\n",
       "  </tbody>\n",
       "</table>\n",
       "</div>"
      ],
      "text/plain": [
       "             Entry        Entry name      Status  \\\n",
       "247726  A0A2I7A7K8  A0A2I7A7K8_9INFA  unreviewed   \n",
       "186581  A0A143LYY6  A0A143LYY6_9INFA  unreviewed   \n",
       "234852  A0A1Y0AXS6  A0A1Y0AXS6_9INFA  unreviewed   \n",
       "\n",
       "                                            Protein names  \\\n",
       "247726   Nucleoprotein (Nucleocapsid protein) (Protein N)   \n",
       "186581  Hemagglutinin HA2 chain]; Hemagglutinin [Cleav...   \n",
       "234852   Nucleoprotein (Nucleocapsid protein) (Protein N)   \n",
       "\n",
       "                                                 Organism  Length  \\\n",
       "247726    Influenza A virus (A/California/150/2017(H3N2))     498   \n",
       "186581  Influenza A virus (A/blue-winged teal/Texas/AI...     564   \n",
       "234852  Influenza A virus (A/swine/Kansas/A01781760/20...     498   \n",
       "\n",
       "        Taxonomic lineage IDs Taxonomic lineage (SPECIES) Virus hosts  \n",
       "247726                2072053           Influenza A virus              \n",
       "186581                1807599           Influenza A virus              \n",
       "234852                1911222           Influenza A virus              "
      ]
     },
     "execution_count": 18,
     "metadata": {},
     "output_type": "execute_result"
    }
   ],
   "source": [
    "# Remove duplicate entries if present\n",
    "df = join_names(df, 'Virus hosts')\n",
    "df = join_names(df, 'Protein names')\n",
    "df = join_names(df, 'Organism')\n",
    "\n",
    "df.sample(3)"
   ]
  },
  {
   "cell_type": "markdown",
   "metadata": {},
   "source": [
    "<a id=\"ete3-taxo\" ></a>"
   ]
  },
  {
   "cell_type": "code",
   "execution_count": 19,
   "metadata": {
    "tags": []
   },
   "outputs": [
    {
     "data": {
      "application/vnd.jupyter.widget-view+json": {
       "model_id": "4a614510a0494efdb35f03600e7ce74a",
       "version_major": 2,
       "version_minor": 0
      },
      "text/plain": [
       "Getting Viruses taxonomic IDs:   0%|          | 0/16 [00:00<?, ?it/s]"
      ]
     },
     "metadata": {},
     "output_type": "display_data"
    }
   ],
   "source": [
    "# Species ID from organism ID\n",
    "df['Species taxonomic ID'] = (df['Taxonomic lineage IDs']\n",
    "                              .swifter.progress_bar(enable=True, desc='Getting Viruses taxonomic IDs')\n",
    "                              .apply(getRankID, rank='species')) # getRankID function in zoonosis_helper_functions.py"
   ]
  },
  {
   "cell_type": "code",
   "execution_count": 20,
   "metadata": {},
   "outputs": [],
   "source": [
    "# Copy for later use\n",
    "dff = df[['Entry', 'Species taxonomic ID']].copy()"
   ]
  },
  {
   "cell_type": "code",
   "execution_count": 21,
   "metadata": {},
   "outputs": [
    {
     "data": {
      "text/html": [
       "<div>\n",
       "<style scoped>\n",
       "    .dataframe tbody tr th:only-of-type {\n",
       "        vertical-align: middle;\n",
       "    }\n",
       "\n",
       "    .dataframe tbody tr th {\n",
       "        vertical-align: top;\n",
       "    }\n",
       "\n",
       "    .dataframe thead th {\n",
       "        text-align: right;\n",
       "    }\n",
       "</style>\n",
       "<table border=\"1\" class=\"dataframe\">\n",
       "  <thead>\n",
       "    <tr style=\"text-align: right;\">\n",
       "      <th></th>\n",
       "      <th>Entry</th>\n",
       "      <th>Entry name</th>\n",
       "      <th>Status</th>\n",
       "      <th>Protein names</th>\n",
       "      <th>Organism</th>\n",
       "      <th>Length</th>\n",
       "      <th>Taxonomic lineage IDs</th>\n",
       "      <th>Taxonomic lineage (SPECIES)</th>\n",
       "      <th>Virus hosts</th>\n",
       "      <th>Species taxonomic ID</th>\n",
       "    </tr>\n",
       "  </thead>\n",
       "  <tbody>\n",
       "    <tr>\n",
       "      <th>47934</th>\n",
       "      <td>A0A1Y1CBP2</td>\n",
       "      <td>A0A1Y1CBP2_9DELA</td>\n",
       "      <td>unreviewed</td>\n",
       "      <td>Env polyprotein (Surface protein) (Transmembra...</td>\n",
       "      <td>Human T-cell leukemia virus type I</td>\n",
       "      <td>488</td>\n",
       "      <td>11908</td>\n",
       "      <td>Primate T-lymphotropic virus 1</td>\n",
       "      <td></td>\n",
       "      <td>194440.0</td>\n",
       "    </tr>\n",
       "    <tr>\n",
       "      <th>58886</th>\n",
       "      <td>A0A1U9VWY7</td>\n",
       "      <td>A0A1U9VWY7_CHIKV</td>\n",
       "      <td>unreviewed</td>\n",
       "      <td>Togavirin (EC 3.4.21.90)</td>\n",
       "      <td>Chikungunya virus (CHIKV)</td>\n",
       "      <td>824</td>\n",
       "      <td>37124</td>\n",
       "      <td>Chikungunya virus (CHIKV)</td>\n",
       "      <td>Aedes furcifer (Mosquito) [TaxID: 299627]; Hom...</td>\n",
       "      <td>37124.0</td>\n",
       "    </tr>\n",
       "    <tr>\n",
       "      <th>33861</th>\n",
       "      <td>A0A2P1GY93</td>\n",
       "      <td>A0A2P1GY93_9HIV1</td>\n",
       "      <td>unreviewed</td>\n",
       "      <td>Transmembrane protein gp41 (TM) (Glycoprotein ...</td>\n",
       "      <td>Human immunodeficiency virus 1</td>\n",
       "      <td>865</td>\n",
       "      <td>11676</td>\n",
       "      <td>Human immunodeficiency virus 1</td>\n",
       "      <td>Homo sapiens (Human) [TaxID: 9606]</td>\n",
       "      <td>11676.0</td>\n",
       "    </tr>\n",
       "  </tbody>\n",
       "</table>\n",
       "</div>"
      ],
      "text/plain": [
       "            Entry        Entry name      Status  \\\n",
       "47934  A0A1Y1CBP2  A0A1Y1CBP2_9DELA  unreviewed   \n",
       "58886  A0A1U9VWY7  A0A1U9VWY7_CHIKV  unreviewed   \n",
       "33861  A0A2P1GY93  A0A2P1GY93_9HIV1  unreviewed   \n",
       "\n",
       "                                           Protein names  \\\n",
       "47934  Env polyprotein (Surface protein) (Transmembra...   \n",
       "58886                           Togavirin (EC 3.4.21.90)   \n",
       "33861  Transmembrane protein gp41 (TM) (Glycoprotein ...   \n",
       "\n",
       "                                 Organism  Length  Taxonomic lineage IDs  \\\n",
       "47934  Human T-cell leukemia virus type I     488                  11908   \n",
       "58886           Chikungunya virus (CHIKV)     824                  37124   \n",
       "33861      Human immunodeficiency virus 1     865                  11676   \n",
       "\n",
       "          Taxonomic lineage (SPECIES)  \\\n",
       "47934  Primate T-lymphotropic virus 1   \n",
       "58886       Chikungunya virus (CHIKV)   \n",
       "33861  Human immunodeficiency virus 1   \n",
       "\n",
       "                                             Virus hosts  Species taxonomic ID  \n",
       "47934                                                                 194440.0  \n",
       "58886  Aedes furcifer (Mosquito) [TaxID: 299627]; Hom...               37124.0  \n",
       "33861                 Homo sapiens (Human) [TaxID: 9606]               11676.0  "
      ]
     },
     "execution_count": 21,
     "metadata": {},
     "output_type": "execute_result"
    }
   ],
   "source": [
    "df.sample(3)"
   ]
  },
  {
   "cell_type": "code",
   "execution_count": 22,
   "metadata": {
    "scrolled": true,
    "tags": []
   },
   "outputs": [
    {
     "data": {
      "text/html": [
       "<div>\n",
       "<style scoped>\n",
       "    .dataframe tbody tr th:only-of-type {\n",
       "        vertical-align: middle;\n",
       "    }\n",
       "\n",
       "    .dataframe tbody tr th {\n",
       "        vertical-align: top;\n",
       "    }\n",
       "\n",
       "    .dataframe thead th {\n",
       "        text-align: right;\n",
       "    }\n",
       "</style>\n",
       "<table border=\"1\" class=\"dataframe\">\n",
       "  <thead>\n",
       "    <tr style=\"text-align: right;\">\n",
       "      <th></th>\n",
       "      <th>Entry</th>\n",
       "      <th>Entry name</th>\n",
       "      <th>Status</th>\n",
       "      <th>Protein names</th>\n",
       "      <th>Organism</th>\n",
       "      <th>Length</th>\n",
       "      <th>Taxonomic lineage IDs</th>\n",
       "      <th>Taxonomic lineage (SPECIES)</th>\n",
       "      <th>Virus hosts</th>\n",
       "      <th>Species taxonomic ID</th>\n",
       "    </tr>\n",
       "  </thead>\n",
       "  <tbody>\n",
       "    <tr>\n",
       "      <th>189041</th>\n",
       "      <td>Q0NCN9</td>\n",
       "      <td>Q0NCN9_VAR65</td>\n",
       "      <td>unreviewed</td>\n",
       "      <td>IMV membrane protein</td>\n",
       "      <td>Variola virus (isolate Human/South Africa/102/...</td>\n",
       "      <td>133</td>\n",
       "      <td>587201</td>\n",
       "      <td>Variola virus</td>\n",
       "      <td>Homo sapiens (Human) [TaxID: 9606]</td>\n",
       "      <td>NaN</td>\n",
       "    </tr>\n",
       "    <tr>\n",
       "      <th>198013</th>\n",
       "      <td>Q0NG17</td>\n",
       "      <td>Q0NG17_VAR46</td>\n",
       "      <td>unreviewed</td>\n",
       "      <td>Myristylprotein</td>\n",
       "      <td>Variola virus (isolate Human/Japan/Yamada MS-2...</td>\n",
       "      <td>377</td>\n",
       "      <td>587202</td>\n",
       "      <td>Variola virus</td>\n",
       "      <td>Homo sapiens (Human) [TaxID: 9606]</td>\n",
       "      <td>NaN</td>\n",
       "    </tr>\n",
       "    <tr>\n",
       "      <th>140090</th>\n",
       "      <td>Q0NCM3</td>\n",
       "      <td>Q0NCM3_VAR65</td>\n",
       "      <td>unreviewed</td>\n",
       "      <td>Carbonic anhydrase homolog (Cell surface-bindi...</td>\n",
       "      <td>Variola virus (isolate Human/South Africa/102/...</td>\n",
       "      <td>304</td>\n",
       "      <td>587201</td>\n",
       "      <td>Variola virus</td>\n",
       "      <td>Homo sapiens (Human) [TaxID: 9606]</td>\n",
       "      <td>NaN</td>\n",
       "    </tr>\n",
       "  </tbody>\n",
       "</table>\n",
       "</div>"
      ],
      "text/plain": [
       "         Entry    Entry name      Status  \\\n",
       "189041  Q0NCN9  Q0NCN9_VAR65  unreviewed   \n",
       "198013  Q0NG17  Q0NG17_VAR46  unreviewed   \n",
       "140090  Q0NCM3  Q0NCM3_VAR65  unreviewed   \n",
       "\n",
       "                                            Protein names  \\\n",
       "189041                               IMV membrane protein   \n",
       "198013                                    Myristylprotein   \n",
       "140090  Carbonic anhydrase homolog (Cell surface-bindi...   \n",
       "\n",
       "                                                 Organism  Length  \\\n",
       "189041  Variola virus (isolate Human/South Africa/102/...     133   \n",
       "198013  Variola virus (isolate Human/Japan/Yamada MS-2...     377   \n",
       "140090  Variola virus (isolate Human/South Africa/102/...     304   \n",
       "\n",
       "        Taxonomic lineage IDs Taxonomic lineage (SPECIES)  \\\n",
       "189041                 587201               Variola virus   \n",
       "198013                 587202               Variola virus   \n",
       "140090                 587201               Variola virus   \n",
       "\n",
       "                               Virus hosts  Species taxonomic ID  \n",
       "189041  Homo sapiens (Human) [TaxID: 9606]                   NaN  \n",
       "198013  Homo sapiens (Human) [TaxID: 9606]                   NaN  \n",
       "140090  Homo sapiens (Human) [TaxID: 9606]                   NaN  "
      ]
     },
     "execution_count": 22,
     "metadata": {},
     "output_type": "execute_result"
    }
   ],
   "source": [
    "# Check if all tax IDs could be found in NCBI taxonomy database\n",
    "df[df['Species taxonomic ID'].isnull()].sample(3)"
   ]
  },
  {
   "cell_type": "code",
   "execution_count": 23,
   "metadata": {},
   "outputs": [
    {
     "data": {
      "application/vnd.jupyter.widget-view+json": {
       "model_id": "0bce42a3ed5e48c8a48f2a85a10aedbb",
       "version_major": 2,
       "version_minor": 0
      },
      "text/plain": [
       "Getting species ID from organism name:   0%|          | 0/358333 [00:00<?, ?it/s]"
      ]
     },
     "metadata": {},
     "output_type": "display_data"
    }
   ],
   "source": [
    "# Get the species name of the earlier unidentified taxonomic IDs\n",
    "idx_species_name = df.columns.get_loc('Taxonomic lineage (SPECIES)')\n",
    "idx_organism_id = df.columns.get_loc('Species taxonomic ID')\n",
    "\n",
    "for row in tqdm_notebook(range(len(df)), desc='Getting species ID from organism name'):\n",
    "    if np.isnan(df.iat[row, idx_organism_id]):\n",
    "        df.iat[row, idx_organism_id] = getIDfromName(df.iat[row, idx_species_name]) # getIDfromName function in zoonosis_helper_functions.py"
   ]
  },
  {
   "cell_type": "code",
   "execution_count": 24,
   "metadata": {},
   "outputs": [
    {
     "data": {
      "text/html": [
       "<div>\n",
       "<style scoped>\n",
       "    .dataframe tbody tr th:only-of-type {\n",
       "        vertical-align: middle;\n",
       "    }\n",
       "\n",
       "    .dataframe tbody tr th {\n",
       "        vertical-align: top;\n",
       "    }\n",
       "\n",
       "    .dataframe thead th {\n",
       "        text-align: right;\n",
       "    }\n",
       "</style>\n",
       "<table border=\"1\" class=\"dataframe\">\n",
       "  <thead>\n",
       "    <tr style=\"text-align: right;\">\n",
       "      <th></th>\n",
       "      <th>Entry</th>\n",
       "      <th>Entry name</th>\n",
       "      <th>Status</th>\n",
       "      <th>Protein names</th>\n",
       "      <th>Organism</th>\n",
       "      <th>Length</th>\n",
       "      <th>Taxonomic lineage IDs</th>\n",
       "      <th>Taxonomic lineage (SPECIES)</th>\n",
       "      <th>Virus hosts</th>\n",
       "      <th>Species taxonomic ID</th>\n",
       "    </tr>\n",
       "  </thead>\n",
       "  <tbody>\n",
       "  </tbody>\n",
       "</table>\n",
       "</div>"
      ],
      "text/plain": [
       "Empty DataFrame\n",
       "Columns: [Entry, Entry name, Status, Protein names, Organism, Length, Taxonomic lineage IDs, Taxonomic lineage (SPECIES), Virus hosts, Species taxonomic ID]\n",
       "Index: []"
      ]
     },
     "execution_count": 24,
     "metadata": {},
     "output_type": "execute_result"
    }
   ],
   "source": [
    "df[df['Species taxonomic ID'].isnull()]"
   ]
  },
  {
   "cell_type": "code",
   "execution_count": 25,
   "metadata": {},
   "outputs": [],
   "source": [
    "df['Species taxonomic ID'] = df['Species taxonomic ID'].apply(int) # convert taxid from floats to int"
   ]
  },
  {
   "cell_type": "code",
   "execution_count": 26,
   "metadata": {},
   "outputs": [
    {
     "data": {
      "text/plain": [
       "(358333, 10)"
      ]
     },
     "execution_count": 26,
     "metadata": {},
     "output_type": "execute_result"
    }
   ],
   "source": [
    "df.shape"
   ]
  },
  {
   "cell_type": "code",
   "execution_count": 27,
   "metadata": {},
   "outputs": [],
   "source": [
    "df = (df.drop(['Status','Taxonomic lineage IDs'], axis=1)\n",
    "      .groupby('Species taxonomic ID', as_index=False)\n",
    "      .agg({'Virus hosts':set, 'Organism':set,\n",
    "            'Protein names':set, 'Taxonomic lineage (SPECIES)':'first'}))"
   ]
  },
  {
   "cell_type": "code",
   "execution_count": 28,
   "metadata": {},
   "outputs": [],
   "source": [
    "df['Virus hosts'] = df['Virus hosts'].str.join('; ')\n",
    "df['Organism'] = df['Organism'].str.join('; ')\n",
    "df['Protein names'] = df['Protein names'].str.join('; ')"
   ]
  },
  {
   "cell_type": "code",
   "execution_count": 29,
   "metadata": {},
   "outputs": [
    {
     "data": {
      "text/html": [
       "<div>\n",
       "<style scoped>\n",
       "    .dataframe tbody tr th:only-of-type {\n",
       "        vertical-align: middle;\n",
       "    }\n",
       "\n",
       "    .dataframe tbody tr th {\n",
       "        vertical-align: top;\n",
       "    }\n",
       "\n",
       "    .dataframe thead th {\n",
       "        text-align: right;\n",
       "    }\n",
       "</style>\n",
       "<table border=\"1\" class=\"dataframe\">\n",
       "  <thead>\n",
       "    <tr style=\"text-align: right;\">\n",
       "      <th></th>\n",
       "      <th>Species taxonomic ID</th>\n",
       "      <th>Virus hosts</th>\n",
       "      <th>Organism</th>\n",
       "      <th>Protein names</th>\n",
       "      <th>Taxonomic lineage (SPECIES)</th>\n",
       "    </tr>\n",
       "  </thead>\n",
       "  <tbody>\n",
       "    <tr>\n",
       "      <th>1493</th>\n",
       "      <td>101564</td>\n",
       "      <td></td>\n",
       "      <td>Pseudomonas alcaliphila JAB1; Pseudomonas alca...</td>\n",
       "      <td>Integrase; Phage integrase family protein</td>\n",
       "      <td>Pseudomonas alcaliphila</td>\n",
       "    </tr>\n",
       "    <tr>\n",
       "      <th>2443</th>\n",
       "      <td>319003</td>\n",
       "      <td></td>\n",
       "      <td>Bradyrhizobium sp. WSM1253</td>\n",
       "      <td>Integrase; Site-specific recombinase XerD</td>\n",
       "      <td>Bradyrhizobium sp. WSM1253</td>\n",
       "    </tr>\n",
       "    <tr>\n",
       "      <th>8468</th>\n",
       "      <td>1970425</td>\n",
       "      <td></td>\n",
       "      <td>Polynucleobacter sp. 35-46-11</td>\n",
       "      <td>Tyr recombinase domain-containing protein</td>\n",
       "      <td>Polynucleobacter sp. 35-46-11</td>\n",
       "    </tr>\n",
       "    <tr>\n",
       "      <th>14038</th>\n",
       "      <td>2707201</td>\n",
       "      <td></td>\n",
       "      <td>Bruce virus</td>\n",
       "      <td>RNA-dependent RNA polymerase</td>\n",
       "      <td>Bruce virus</td>\n",
       "    </tr>\n",
       "    <tr>\n",
       "      <th>1875</th>\n",
       "      <td>188763</td>\n",
       "      <td></td>\n",
       "      <td>Panine betaherpesvirus 2 (Chimpanzee cytomegal...</td>\n",
       "      <td>Envelope glycoprotein H (gH); Capsid vertex co...</td>\n",
       "      <td>Panine betaherpesvirus 2 (Chimpanzee cytomegal...</td>\n",
       "    </tr>\n",
       "  </tbody>\n",
       "</table>\n",
       "</div>"
      ],
      "text/plain": [
       "       Species taxonomic ID Virus hosts  \\\n",
       "1493                 101564               \n",
       "2443                 319003               \n",
       "8468                1970425               \n",
       "14038               2707201               \n",
       "1875                 188763               \n",
       "\n",
       "                                                Organism  \\\n",
       "1493   Pseudomonas alcaliphila JAB1; Pseudomonas alca...   \n",
       "2443                          Bradyrhizobium sp. WSM1253   \n",
       "8468                       Polynucleobacter sp. 35-46-11   \n",
       "14038                                        Bruce virus   \n",
       "1875   Panine betaherpesvirus 2 (Chimpanzee cytomegal...   \n",
       "\n",
       "                                           Protein names  \\\n",
       "1493           Integrase; Phage integrase family protein   \n",
       "2443           Integrase; Site-specific recombinase XerD   \n",
       "8468           Tyr recombinase domain-containing protein   \n",
       "14038                       RNA-dependent RNA polymerase   \n",
       "1875   Envelope glycoprotein H (gH); Capsid vertex co...   \n",
       "\n",
       "                             Taxonomic lineage (SPECIES)  \n",
       "1493                             Pseudomonas alcaliphila  \n",
       "2443                          Bradyrhizobium sp. WSM1253  \n",
       "8468                       Polynucleobacter sp. 35-46-11  \n",
       "14038                                        Bruce virus  \n",
       "1875   Panine betaherpesvirus 2 (Chimpanzee cytomegal...  "
      ]
     },
     "execution_count": 29,
     "metadata": {},
     "output_type": "execute_result"
    }
   ],
   "source": [
    "df.sample(5)"
   ]
  },
  {
   "cell_type": "code",
   "execution_count": 30,
   "metadata": {},
   "outputs": [
    {
     "data": {
      "text/plain": [
       "(15104, 5)"
      ]
     },
     "execution_count": 30,
     "metadata": {},
     "output_type": "execute_result"
    }
   ],
   "source": [
    "df.shape"
   ]
  },
  {
   "cell_type": "code",
   "execution_count": 31,
   "metadata": {},
   "outputs": [
    {
     "data": {
      "application/vnd.jupyter.widget-view+json": {
       "model_id": "a52fbc49a1994195a5493697d9abcebb",
       "version_major": 2,
       "version_minor": 0
      },
      "text/plain": [
       "Getting Species name:   0%|          | 0/16 [00:00<?, ?it/s]"
      ]
     },
     "metadata": {},
     "output_type": "display_data"
    }
   ],
   "source": [
    "# Get species name from NCBI taxo database using Taxonomic ID\n",
    "df['Species name'] = (df.drop('Taxonomic lineage (SPECIES)', axis=1)\n",
    "                      .swifter.progress_bar(enable=True, desc='Getting Species name')\n",
    "                      .apply(lambda x: getRankName(x['Species taxonomic ID'], \n",
    "                                                   rank='species'), axis=1))"
   ]
  },
  {
   "cell_type": "code",
   "execution_count": 32,
   "metadata": {},
   "outputs": [
    {
     "data": {
      "application/vnd.jupyter.widget-view+json": {
       "model_id": "aa2cc94b6157486fbb67e98226ef5df9",
       "version_major": 2,
       "version_minor": 0
      },
      "text/plain": [
       "Processing:   0%|          | 0/15104 [00:00<?, ?it/s]"
      ]
     },
     "metadata": {},
     "output_type": "display_data"
    }
   ],
   "source": [
    "# Get superkingdom name from NCBI taxo database using Taxonomic ID\n",
    "df['Species superkingdom'] = df['Species taxonomic ID'].progress_apply(getRankName, rank='superkingdom')"
   ]
  },
  {
   "cell_type": "code",
   "execution_count": 33,
   "metadata": {},
   "outputs": [
    {
     "data": {
      "application/vnd.jupyter.widget-view+json": {
       "model_id": "76ec837fc41f4d74ba6b0de94aedebf8",
       "version_major": 2,
       "version_minor": 0
      },
      "text/plain": [
       "Processing:   0%|          | 0/15104 [00:00<?, ?it/s]"
      ]
     },
     "metadata": {},
     "output_type": "display_data"
    }
   ],
   "source": [
    "# Get family from NCBI taxo database using Taxonomic ID\n",
    "df['Species family'] = df['Species taxonomic ID'].progress_apply(getRankName, rank='family')"
   ]
  },
  {
   "cell_type": "code",
   "execution_count": 34,
   "metadata": {},
   "outputs": [
    {
     "data": {
      "text/plain": [
       "array(['Bacteria', 'Archaea', 'Eukaryota', 'Viruses', 'IncJ plasmid R391',\n",
       "       'uncultured organism', 'metagenome', 'Plasmid pFKY1',\n",
       "       'human gut metagenome', 'marine metagenome',\n",
       "       'mine drainage metagenome', 'marine sediment metagenome',\n",
       "       'freshwater metagenome',\n",
       "       'uncultured marine microorganism HF4000_005I08',\n",
       "       'wastewater metagenome', 'hydrothermal vent metagenome',\n",
       "       'sediment metagenome', 'viral metagenome', 'biofilter metagenome',\n",
       "       'bioreactor metagenome', 'anaerobic digester metagenome',\n",
       "       'plant metagenome', 'invertebrate metagenome'], dtype=object)"
      ]
     },
     "execution_count": 34,
     "metadata": {},
     "output_type": "execute_result"
    }
   ],
   "source": [
    "df['Species superkingdom'].unique()"
   ]
  },
  {
   "cell_type": "markdown",
   "metadata": {},
   "source": [
    "<a id=\"filter\"></a>"
   ]
  },
  {
   "cell_type": "code",
   "execution_count": 35,
   "metadata": {},
   "outputs": [],
   "source": [
    "# Filter to include only viruses\n",
    "df = df[df['Species superkingdom'] == 'Viruses']"
   ]
  },
  {
   "cell_type": "code",
   "execution_count": 36,
   "metadata": {},
   "outputs": [
    {
     "data": {
      "text/html": [
       "<div>\n",
       "<style scoped>\n",
       "    .dataframe tbody tr th:only-of-type {\n",
       "        vertical-align: middle;\n",
       "    }\n",
       "\n",
       "    .dataframe tbody tr th {\n",
       "        vertical-align: top;\n",
       "    }\n",
       "\n",
       "    .dataframe thead th {\n",
       "        text-align: right;\n",
       "    }\n",
       "</style>\n",
       "<table border=\"1\" class=\"dataframe\">\n",
       "  <thead>\n",
       "    <tr style=\"text-align: right;\">\n",
       "      <th></th>\n",
       "      <th>Species taxonomic ID</th>\n",
       "      <th>Virus hosts</th>\n",
       "      <th>Organism</th>\n",
       "      <th>Protein names</th>\n",
       "      <th>Taxonomic lineage (SPECIES)</th>\n",
       "      <th>Species name</th>\n",
       "      <th>Species superkingdom</th>\n",
       "      <th>Species family</th>\n",
       "    </tr>\n",
       "  </thead>\n",
       "  <tbody>\n",
       "    <tr>\n",
       "      <th>11326</th>\n",
       "      <td>2447802</td>\n",
       "      <td></td>\n",
       "      <td>Miniopterus schreibersi polyomavirus 3</td>\n",
       "      <td>Minor capsid protein; Capsid protein VP1</td>\n",
       "      <td>Miniopterus schreibersi polyomavirus 3</td>\n",
       "      <td>Miniopterus schreibersi polyomavirus 3</td>\n",
       "      <td>Viruses</td>\n",
       "      <td>Polyomaviridae</td>\n",
       "    </tr>\n",
       "    <tr>\n",
       "      <th>13852</th>\n",
       "      <td>2686265</td>\n",
       "      <td></td>\n",
       "      <td>Flavobacterium phage vB_FspS_mumin9-3</td>\n",
       "      <td>Portal protein</td>\n",
       "      <td>Flavobacterium phage vB_FspS_mumin9-3</td>\n",
       "      <td>Flavobacterium phage vB_FspS_mumin9-3</td>\n",
       "      <td>Viruses</td>\n",
       "      <td>Siphoviridae</td>\n",
       "    </tr>\n",
       "    <tr>\n",
       "      <th>13889</th>\n",
       "      <td>2686466</td>\n",
       "      <td></td>\n",
       "      <td>Mycobacteriophage Whitty</td>\n",
       "      <td>Integrase</td>\n",
       "      <td>Mycobacteriophage Whitty</td>\n",
       "      <td>Mycobacteriophage Whitty</td>\n",
       "      <td>Viruses</td>\n",
       "      <td>Siphoviridae</td>\n",
       "    </tr>\n",
       "    <tr>\n",
       "      <th>3577</th>\n",
       "      <td>668548</td>\n",
       "      <td></td>\n",
       "      <td>Bat betaherpesvirus 2</td>\n",
       "      <td>Envelope glycoprotein B (gB)</td>\n",
       "      <td>Bat betaherpesvirus 2</td>\n",
       "      <td>Bat betaherpesvirus 2</td>\n",
       "      <td>Viruses</td>\n",
       "      <td>Herpesviridae</td>\n",
       "    </tr>\n",
       "    <tr>\n",
       "      <th>1465</th>\n",
       "      <td>93465</td>\n",
       "      <td></td>\n",
       "      <td>Avian endogenous retrovirus EAV-HP</td>\n",
       "      <td>Envelope glycoprotein; Integrase; Capsid prote...</td>\n",
       "      <td>Avian endogenous retrovirus EAV-HP</td>\n",
       "      <td>Avian endogenous retrovirus EAV-HP</td>\n",
       "      <td>Viruses</td>\n",
       "      <td>Retroviridae</td>\n",
       "    </tr>\n",
       "  </tbody>\n",
       "</table>\n",
       "</div>"
      ],
      "text/plain": [
       "       Species taxonomic ID Virus hosts  \\\n",
       "11326               2447802               \n",
       "13852               2686265               \n",
       "13889               2686466               \n",
       "3577                 668548               \n",
       "1465                  93465               \n",
       "\n",
       "                                     Organism  \\\n",
       "11326  Miniopterus schreibersi polyomavirus 3   \n",
       "13852   Flavobacterium phage vB_FspS_mumin9-3   \n",
       "13889                Mycobacteriophage Whitty   \n",
       "3577                    Bat betaherpesvirus 2   \n",
       "1465       Avian endogenous retrovirus EAV-HP   \n",
       "\n",
       "                                           Protein names  \\\n",
       "11326           Minor capsid protein; Capsid protein VP1   \n",
       "13852                                     Portal protein   \n",
       "13889                                          Integrase   \n",
       "3577                        Envelope glycoprotein B (gB)   \n",
       "1465   Envelope glycoprotein; Integrase; Capsid prote...   \n",
       "\n",
       "                  Taxonomic lineage (SPECIES)  \\\n",
       "11326  Miniopterus schreibersi polyomavirus 3   \n",
       "13852   Flavobacterium phage vB_FspS_mumin9-3   \n",
       "13889                Mycobacteriophage Whitty   \n",
       "3577                    Bat betaherpesvirus 2   \n",
       "1465       Avian endogenous retrovirus EAV-HP   \n",
       "\n",
       "                                 Species name Species superkingdom  \\\n",
       "11326  Miniopterus schreibersi polyomavirus 3              Viruses   \n",
       "13852   Flavobacterium phage vB_FspS_mumin9-3              Viruses   \n",
       "13889                Mycobacteriophage Whitty              Viruses   \n",
       "3577                    Bat betaherpesvirus 2              Viruses   \n",
       "1465       Avian endogenous retrovirus EAV-HP              Viruses   \n",
       "\n",
       "       Species family  \n",
       "11326  Polyomaviridae  \n",
       "13852    Siphoviridae  \n",
       "13889    Siphoviridae  \n",
       "3577    Herpesviridae  \n",
       "1465     Retroviridae  "
      ]
     },
     "execution_count": 36,
     "metadata": {},
     "output_type": "execute_result"
    }
   ],
   "source": [
    "df.sample(5)"
   ]
  },
  {
   "cell_type": "code",
   "execution_count": 37,
   "metadata": {},
   "outputs": [],
   "source": [
    "df.drop(['Taxonomic lineage (SPECIES)'], axis=1, inplace=True)"
   ]
  },
  {
   "cell_type": "code",
   "execution_count": 38,
   "metadata": {},
   "outputs": [],
   "source": [
    "# Convert empty strings to nan for easy downstream processing\n",
    "df['Virus hosts'] = np.where(df['Virus hosts']=='', np.nan, df['Virus hosts'])"
   ]
  },
  {
   "cell_type": "code",
   "execution_count": 39,
   "metadata": {},
   "outputs": [
    {
     "data": {
      "text/html": [
       "<div>\n",
       "<style scoped>\n",
       "    .dataframe tbody tr th:only-of-type {\n",
       "        vertical-align: middle;\n",
       "    }\n",
       "\n",
       "    .dataframe tbody tr th {\n",
       "        vertical-align: top;\n",
       "    }\n",
       "\n",
       "    .dataframe thead th {\n",
       "        text-align: right;\n",
       "    }\n",
       "</style>\n",
       "<table border=\"1\" class=\"dataframe\">\n",
       "  <thead>\n",
       "    <tr style=\"text-align: right;\">\n",
       "      <th></th>\n",
       "      <th>Species taxonomic ID</th>\n",
       "      <th>Virus hosts</th>\n",
       "      <th>Organism</th>\n",
       "      <th>Protein names</th>\n",
       "      <th>Species name</th>\n",
       "      <th>Species superkingdom</th>\n",
       "      <th>Species family</th>\n",
       "    </tr>\n",
       "  </thead>\n",
       "  <tbody>\n",
       "    <tr>\n",
       "      <th>969</th>\n",
       "      <td>47681</td>\n",
       "      <td>NaN</td>\n",
       "      <td>Enterovirus sp.</td>\n",
       "      <td>Capsid protein VP3 (P1C) (Virion protein 3); C...</td>\n",
       "      <td>Enterovirus sp.</td>\n",
       "      <td>Viruses</td>\n",
       "      <td>Picornaviridae</td>\n",
       "    </tr>\n",
       "    <tr>\n",
       "      <th>6115</th>\n",
       "      <td>1647554</td>\n",
       "      <td>NaN</td>\n",
       "      <td>Moraxella phage Mcat8</td>\n",
       "      <td>Integrase</td>\n",
       "      <td>Moraxella phage Mcat8</td>\n",
       "      <td>Viruses</td>\n",
       "      <td>Siphoviridae</td>\n",
       "    </tr>\n",
       "    <tr>\n",
       "      <th>12177</th>\n",
       "      <td>2548149</td>\n",
       "      <td>NaN</td>\n",
       "      <td>Streptococcus phage Javan40</td>\n",
       "      <td>Portal protein</td>\n",
       "      <td>Streptococcus phage Javan40</td>\n",
       "      <td>Viruses</td>\n",
       "      <td>Siphoviridae</td>\n",
       "    </tr>\n",
       "  </tbody>\n",
       "</table>\n",
       "</div>"
      ],
      "text/plain": [
       "       Species taxonomic ID Virus hosts                     Organism  \\\n",
       "969                   47681         NaN              Enterovirus sp.   \n",
       "6115                1647554         NaN        Moraxella phage Mcat8   \n",
       "12177               2548149         NaN  Streptococcus phage Javan40   \n",
       "\n",
       "                                           Protein names  \\\n",
       "969    Capsid protein VP3 (P1C) (Virion protein 3); C...   \n",
       "6115                                           Integrase   \n",
       "12177                                     Portal protein   \n",
       "\n",
       "                      Species name Species superkingdom  Species family  \n",
       "969                Enterovirus sp.              Viruses  Picornaviridae  \n",
       "6115         Moraxella phage Mcat8              Viruses    Siphoviridae  \n",
       "12177  Streptococcus phage Javan40              Viruses    Siphoviridae  "
      ]
     },
     "execution_count": 39,
     "metadata": {},
     "output_type": "execute_result"
    }
   ],
   "source": [
    "df[df['Virus hosts'].isnull()].sample(3)"
   ]
  },
  {
   "cell_type": "code",
   "execution_count": 40,
   "metadata": {},
   "outputs": [],
   "source": [
    "df.drop('Organism', axis=1, inplace=True) # Organism == Species name"
   ]
  },
  {
   "cell_type": "markdown",
   "metadata": {},
   "source": [
    "## Updating host names from other host data in the dataset\n",
    "\n",
    "Premise: Same virus has same host irrespective of whether the info has been reviewed or not"
   ]
  },
  {
   "cell_type": "code",
   "execution_count": 41,
   "metadata": {},
   "outputs": [],
   "source": [
    "# List of viruses which do not have assigned hosts in the data\n",
    "noHostViruses = (df[df['Virus hosts'].isnull()]['Species name']\n",
    "                 .unique()\n",
    "                 .tolist())"
   ]
  },
  {
   "cell_type": "code",
   "execution_count": 42,
   "metadata": {},
   "outputs": [],
   "source": [
    "# Create independent dataframe of viruses with no assigned host and simltaneously identify the same viruses from the data \n",
    "# whcih already have assigned hosts and assign host names based on those. \n",
    "df_na_hosts = df[(~df['Virus hosts'].isnull()) & (df['Species name'].isin(noHostViruses))][['Species name', 'Virus hosts']]\n",
    "df_na_hosts = df_na_hosts.groupby('Species name')['Virus hosts'].apply(list) # Reduces dimention\n",
    "df_na_hosts = df_na_hosts.reset_index(name='Viral hosts nw')"
   ]
  },
  {
   "cell_type": "code",
   "execution_count": 43,
   "metadata": {},
   "outputs": [],
   "source": [
    "# Previous operation reurns a list for multiple host\n",
    "# Converts the lists into regular string entries separated by a ;\n",
    "df_na_hosts['Viral hosts nw'] = (df_na_hosts['Viral hosts nw']\n",
    "                                 .swifter.progress_bar(desc='Joining host names list', enable=True)\n",
    "                                 .apply('; '.join))"
   ]
  },
  {
   "cell_type": "code",
   "execution_count": 44,
   "metadata": {},
   "outputs": [],
   "source": [
    "# Updates the viruses hosts info in the main dataset\n",
    "df_naa = (df[df['Virus hosts'].isnull()]\n",
    "          .merge(df_na_hosts, on='Species name', how='left')\n",
    "          .drop('Virus hosts', axis=1)\n",
    "          .rename({'Viral hosts nw':'Virus hosts'}, axis=1))"
   ]
  },
  {
   "cell_type": "code",
   "execution_count": 45,
   "metadata": {},
   "outputs": [],
   "source": [
    "# Creates independant dataset with viruses which have hosts\n",
    "df_notna = df[~df['Virus hosts'].isnull()]"
   ]
  },
  {
   "cell_type": "code",
   "execution_count": 46,
   "metadata": {},
   "outputs": [],
   "source": [
    "# merges the updated virus hosts dataset with the dataset with viruses which have hosts\n",
    "df = df_naa.append(df_notna)"
   ]
  },
  {
   "cell_type": "code",
   "execution_count": 47,
   "metadata": {},
   "outputs": [
    {
     "data": {
      "text/plain": [
       "(8113, 6)"
      ]
     },
     "execution_count": 47,
     "metadata": {},
     "output_type": "execute_result"
    }
   ],
   "source": [
    "df.shape # Reduced dimention because of grouping, will later ungroup"
   ]
  },
  {
   "cell_type": "code",
   "execution_count": 48,
   "metadata": {},
   "outputs": [
    {
     "data": {
      "text/html": [
       "<div>\n",
       "<style scoped>\n",
       "    .dataframe tbody tr th:only-of-type {\n",
       "        vertical-align: middle;\n",
       "    }\n",
       "\n",
       "    .dataframe tbody tr th {\n",
       "        vertical-align: top;\n",
       "    }\n",
       "\n",
       "    .dataframe thead th {\n",
       "        text-align: right;\n",
       "    }\n",
       "</style>\n",
       "<table border=\"1\" class=\"dataframe\">\n",
       "  <thead>\n",
       "    <tr style=\"text-align: right;\">\n",
       "      <th></th>\n",
       "      <th>Species taxonomic ID</th>\n",
       "      <th>Protein names</th>\n",
       "      <th>Species name</th>\n",
       "      <th>Species superkingdom</th>\n",
       "      <th>Species family</th>\n",
       "      <th>Virus hosts</th>\n",
       "    </tr>\n",
       "  </thead>\n",
       "  <tbody>\n",
       "    <tr>\n",
       "      <th>3957</th>\n",
       "      <td>2126790</td>\n",
       "      <td>Portal protein</td>\n",
       "      <td>Mycobacterium phage SchoolBus</td>\n",
       "      <td>Viruses</td>\n",
       "      <td>Siphoviridae</td>\n",
       "      <td>NaN</td>\n",
       "    </tr>\n",
       "    <tr>\n",
       "      <th>5622</th>\n",
       "      <td>2563581</td>\n",
       "      <td>Integrase</td>\n",
       "      <td>Pseudomonas phage vB_Pae_CF60a</td>\n",
       "      <td>Viruses</td>\n",
       "      <td>Siphoviridae</td>\n",
       "      <td>NaN</td>\n",
       "    </tr>\n",
       "    <tr>\n",
       "      <th>4899</th>\n",
       "      <td>2508204</td>\n",
       "      <td>Putative head to tail connecting protein</td>\n",
       "      <td>Escherichia phage vB_EcoP_R4596</td>\n",
       "      <td>Viruses</td>\n",
       "      <td>Autographiviridae</td>\n",
       "      <td>NaN</td>\n",
       "    </tr>\n",
       "    <tr>\n",
       "      <th>5836</th>\n",
       "      <td>2591056</td>\n",
       "      <td>Protein Gp38 (Receptor-recognizing protein); L...</td>\n",
       "      <td>Shigella phage CM8</td>\n",
       "      <td>Viruses</td>\n",
       "      <td>Myoviridae</td>\n",
       "      <td>NaN</td>\n",
       "    </tr>\n",
       "    <tr>\n",
       "      <th>796</th>\n",
       "      <td>644007</td>\n",
       "      <td>Uncharacterized protein</td>\n",
       "      <td>Streptococcus phage PH10</td>\n",
       "      <td>Viruses</td>\n",
       "      <td>Siphoviridae</td>\n",
       "      <td>NaN</td>\n",
       "    </tr>\n",
       "  </tbody>\n",
       "</table>\n",
       "</div>"
      ],
      "text/plain": [
       "      Species taxonomic ID                                      Protein names  \\\n",
       "3957               2126790                                     Portal protein   \n",
       "5622               2563581                                          Integrase   \n",
       "4899               2508204           Putative head to tail connecting protein   \n",
       "5836               2591056  Protein Gp38 (Receptor-recognizing protein); L...   \n",
       "796                 644007                            Uncharacterized protein   \n",
       "\n",
       "                         Species name Species superkingdom     Species family  \\\n",
       "3957    Mycobacterium phage SchoolBus              Viruses       Siphoviridae   \n",
       "5622   Pseudomonas phage vB_Pae_CF60a              Viruses       Siphoviridae   \n",
       "4899  Escherichia phage vB_EcoP_R4596              Viruses  Autographiviridae   \n",
       "5836               Shigella phage CM8              Viruses         Myoviridae   \n",
       "796          Streptococcus phage PH10              Viruses       Siphoviridae   \n",
       "\n",
       "     Virus hosts  \n",
       "3957         NaN  \n",
       "5622         NaN  \n",
       "4899         NaN  \n",
       "5836         NaN  \n",
       "796          NaN  "
      ]
     },
     "execution_count": 48,
     "metadata": {},
     "output_type": "execute_result"
    }
   ],
   "source": [
    "df.sample(5)"
   ]
  },
  {
   "cell_type": "code",
   "execution_count": 49,
   "metadata": {},
   "outputs": [
    {
     "name": "stdout",
     "output_type": "stream",
     "text": [
      "(7512, 6)\n"
     ]
    },
    {
     "data": {
      "text/html": [
       "<div>\n",
       "<style scoped>\n",
       "    .dataframe tbody tr th:only-of-type {\n",
       "        vertical-align: middle;\n",
       "    }\n",
       "\n",
       "    .dataframe tbody tr th {\n",
       "        vertical-align: top;\n",
       "    }\n",
       "\n",
       "    .dataframe thead th {\n",
       "        text-align: right;\n",
       "    }\n",
       "</style>\n",
       "<table border=\"1\" class=\"dataframe\">\n",
       "  <thead>\n",
       "    <tr style=\"text-align: right;\">\n",
       "      <th></th>\n",
       "      <th>Species taxonomic ID</th>\n",
       "      <th>Protein names</th>\n",
       "      <th>Species name</th>\n",
       "      <th>Species superkingdom</th>\n",
       "      <th>Species family</th>\n",
       "      <th>Virus hosts</th>\n",
       "    </tr>\n",
       "  </thead>\n",
       "  <tbody>\n",
       "    <tr>\n",
       "      <th>4549</th>\n",
       "      <td>2365030</td>\n",
       "      <td>Portal protein</td>\n",
       "      <td>Streptococcus phage CHPC1156</td>\n",
       "      <td>Viruses</td>\n",
       "      <td>Siphoviridae</td>\n",
       "      <td>NaN</td>\n",
       "    </tr>\n",
       "    <tr>\n",
       "      <th>5595</th>\n",
       "      <td>2563517</td>\n",
       "      <td>Integrase</td>\n",
       "      <td>Pseudomonas phage vB_Pae_BR233a</td>\n",
       "      <td>Viruses</td>\n",
       "      <td>Siphoviridae</td>\n",
       "      <td>NaN</td>\n",
       "    </tr>\n",
       "    <tr>\n",
       "      <th>2681</th>\n",
       "      <td>1916156</td>\n",
       "      <td>Integrase</td>\n",
       "      <td>Streptococcus phage IPP16</td>\n",
       "      <td>Viruses</td>\n",
       "      <td>Siphoviridae</td>\n",
       "      <td>NaN</td>\n",
       "    </tr>\n",
       "  </tbody>\n",
       "</table>\n",
       "</div>"
      ],
      "text/plain": [
       "      Species taxonomic ID   Protein names                     Species name  \\\n",
       "4549               2365030  Portal protein     Streptococcus phage CHPC1156   \n",
       "5595               2563517       Integrase  Pseudomonas phage vB_Pae_BR233a   \n",
       "2681               1916156       Integrase        Streptococcus phage IPP16   \n",
       "\n",
       "     Species superkingdom Species family Virus hosts  \n",
       "4549              Viruses   Siphoviridae         NaN  \n",
       "5595              Viruses   Siphoviridae         NaN  \n",
       "2681              Viruses   Siphoviridae         NaN  "
      ]
     },
     "execution_count": 49,
     "metadata": {},
     "output_type": "execute_result"
    }
   ],
   "source": [
    "print(df[df['Virus hosts'].isnull()].shape)\n",
    "df[df['Virus hosts'].isnull()].sample(3)"
   ]
  },
  {
   "cell_type": "code",
   "execution_count": 50,
   "metadata": {},
   "outputs": [],
   "source": [
    "df['Virus hosts'] = np.where(df['Virus hosts'].isnull(), '', df['Virus hosts'])"
   ]
  },
  {
   "cell_type": "code",
   "execution_count": 51,
   "metadata": {},
   "outputs": [
    {
     "data": {
      "text/html": [
       "<div>\n",
       "<style scoped>\n",
       "    .dataframe tbody tr th:only-of-type {\n",
       "        vertical-align: middle;\n",
       "    }\n",
       "\n",
       "    .dataframe tbody tr th {\n",
       "        vertical-align: top;\n",
       "    }\n",
       "\n",
       "    .dataframe thead th {\n",
       "        text-align: right;\n",
       "    }\n",
       "</style>\n",
       "<table border=\"1\" class=\"dataframe\">\n",
       "  <thead>\n",
       "    <tr style=\"text-align: right;\">\n",
       "      <th></th>\n",
       "      <th>Species taxonomic ID</th>\n",
       "      <th>Protein names</th>\n",
       "      <th>Species name</th>\n",
       "      <th>Species superkingdom</th>\n",
       "      <th>Species family</th>\n",
       "      <th>Virus hosts</th>\n",
       "    </tr>\n",
       "  </thead>\n",
       "  <tbody>\n",
       "    <tr>\n",
       "      <th>4083</th>\n",
       "      <td>2169967</td>\n",
       "      <td>Tape measure protein (TMP) (Gene product H) (g...</td>\n",
       "      <td>Escherichia virus DE3</td>\n",
       "      <td>Viruses</td>\n",
       "      <td>Siphoviridae</td>\n",
       "      <td></td>\n",
       "    </tr>\n",
       "    <tr>\n",
       "      <th>6955</th>\n",
       "      <td>2733671</td>\n",
       "      <td>Portal protein (Head-to-tail connector); Inter...</td>\n",
       "      <td>Klebsiella virus KN1-1</td>\n",
       "      <td>Viruses</td>\n",
       "      <td>Autographiviridae</td>\n",
       "      <td></td>\n",
       "    </tr>\n",
       "    <tr>\n",
       "      <th>1866</th>\n",
       "      <td>1567487</td>\n",
       "      <td>XkdK</td>\n",
       "      <td>Bacillus phage BalMu-1</td>\n",
       "      <td>Viruses</td>\n",
       "      <td>Myoviridae</td>\n",
       "      <td></td>\n",
       "    </tr>\n",
       "  </tbody>\n",
       "</table>\n",
       "</div>"
      ],
      "text/plain": [
       "      Species taxonomic ID                                      Protein names  \\\n",
       "4083               2169967  Tape measure protein (TMP) (Gene product H) (g...   \n",
       "6955               2733671  Portal protein (Head-to-tail connector); Inter...   \n",
       "1866               1567487                                               XkdK   \n",
       "\n",
       "                Species name Species superkingdom     Species family  \\\n",
       "4083   Escherichia virus DE3              Viruses       Siphoviridae   \n",
       "6955  Klebsiella virus KN1-1              Viruses  Autographiviridae   \n",
       "1866  Bacillus phage BalMu-1              Viruses         Myoviridae   \n",
       "\n",
       "     Virus hosts  \n",
       "4083              \n",
       "6955              \n",
       "1866              "
      ]
     },
     "execution_count": 51,
     "metadata": {},
     "output_type": "execute_result"
    }
   ],
   "source": [
    "df.sample(3)"
   ]
  },
  {
   "cell_type": "code",
   "execution_count": 52,
   "metadata": {},
   "outputs": [],
   "source": [
    "df = mergeRows(df, 'Species taxonomic ID','Virus hosts') # mergeRows in zoonosis_helper_functions.py"
   ]
  },
  {
   "cell_type": "code",
   "execution_count": 53,
   "metadata": {},
   "outputs": [
    {
     "data": {
      "text/html": [
       "<div>\n",
       "<style scoped>\n",
       "    .dataframe tbody tr th:only-of-type {\n",
       "        vertical-align: middle;\n",
       "    }\n",
       "\n",
       "    .dataframe tbody tr th {\n",
       "        vertical-align: top;\n",
       "    }\n",
       "\n",
       "    .dataframe thead th {\n",
       "        text-align: right;\n",
       "    }\n",
       "</style>\n",
       "<table border=\"1\" class=\"dataframe\">\n",
       "  <thead>\n",
       "    <tr style=\"text-align: right;\">\n",
       "      <th></th>\n",
       "      <th>Species taxonomic ID</th>\n",
       "      <th>Virus hosts</th>\n",
       "      <th>Protein names</th>\n",
       "      <th>Species name</th>\n",
       "      <th>Species superkingdom</th>\n",
       "      <th>Species family</th>\n",
       "    </tr>\n",
       "  </thead>\n",
       "  <tbody>\n",
       "    <tr>\n",
       "      <th>161</th>\n",
       "      <td>11320</td>\n",
       "      <td>; Sturnira lilium (Lesser yellow-shouldered ba...</td>\n",
       "      <td>Hemagglutinin HA2 chain]; Hemagglutinin [Cleav...</td>\n",
       "      <td>Influenza A virus</td>\n",
       "      <td>Viruses</td>\n",
       "      <td>Orthomyxoviridae</td>\n",
       "    </tr>\n",
       "  </tbody>\n",
       "</table>\n",
       "</div>"
      ],
      "text/plain": [
       "     Species taxonomic ID                                        Virus hosts  \\\n",
       "161                 11320  ; Sturnira lilium (Lesser yellow-shouldered ba...   \n",
       "\n",
       "                                         Protein names       Species name  \\\n",
       "161  Hemagglutinin HA2 chain]; Hemagglutinin [Cleav...  Influenza A virus   \n",
       "\n",
       "    Species superkingdom    Species family  \n",
       "161              Viruses  Orthomyxoviridae  "
      ]
     },
     "execution_count": 53,
     "metadata": {},
     "output_type": "execute_result"
    }
   ],
   "source": [
    "df[(df['Species name'].str.contains('Influenza A virus')) & (df['Virus hosts'] != '')]"
   ]
  },
  {
   "cell_type": "code",
   "execution_count": 54,
   "metadata": {},
   "outputs": [
    {
     "data": {
      "text/html": [
       "<div>\n",
       "<style scoped>\n",
       "    .dataframe tbody tr th:only-of-type {\n",
       "        vertical-align: middle;\n",
       "    }\n",
       "\n",
       "    .dataframe tbody tr th {\n",
       "        vertical-align: top;\n",
       "    }\n",
       "\n",
       "    .dataframe thead th {\n",
       "        text-align: right;\n",
       "    }\n",
       "</style>\n",
       "<table border=\"1\" class=\"dataframe\">\n",
       "  <thead>\n",
       "    <tr style=\"text-align: right;\">\n",
       "      <th></th>\n",
       "      <th>Species taxonomic ID</th>\n",
       "      <th>Virus hosts</th>\n",
       "      <th>Protein names</th>\n",
       "      <th>Species name</th>\n",
       "      <th>Species superkingdom</th>\n",
       "      <th>Species family</th>\n",
       "    </tr>\n",
       "  </thead>\n",
       "  <tbody>\n",
       "    <tr>\n",
       "      <th>6111</th>\n",
       "      <td>2560781</td>\n",
       "      <td></td>\n",
       "      <td>Putative portal protein</td>\n",
       "      <td>Staphylococcus virus Sb1</td>\n",
       "      <td>Viruses</td>\n",
       "      <td>Herelleviridae</td>\n",
       "    </tr>\n",
       "    <tr>\n",
       "      <th>5644</th>\n",
       "      <td>2547985</td>\n",
       "      <td></td>\n",
       "      <td>Portal (Connector) protein</td>\n",
       "      <td>Streptococcus phage Javan116</td>\n",
       "      <td>Viruses</td>\n",
       "      <td>Siphoviridae</td>\n",
       "    </tr>\n",
       "    <tr>\n",
       "      <th>7959</th>\n",
       "      <td>2744003</td>\n",
       "      <td></td>\n",
       "      <td>Integrase</td>\n",
       "      <td>Gordonia phage BlingBling</td>\n",
       "      <td>Viruses</td>\n",
       "      <td>Siphoviridae</td>\n",
       "    </tr>\n",
       "  </tbody>\n",
       "</table>\n",
       "</div>"
      ],
      "text/plain": [
       "      Species taxonomic ID Virus hosts               Protein names  \\\n",
       "6111               2560781                 Putative portal protein   \n",
       "5644               2547985              Portal (Connector) protein   \n",
       "7959               2744003                               Integrase   \n",
       "\n",
       "                      Species name Species superkingdom  Species family  \n",
       "6111      Staphylococcus virus Sb1              Viruses  Herelleviridae  \n",
       "5644  Streptococcus phage Javan116              Viruses    Siphoviridae  \n",
       "7959     Gordonia phage BlingBling              Viruses    Siphoviridae  "
      ]
     },
     "execution_count": 54,
     "metadata": {},
     "output_type": "execute_result"
    }
   ],
   "source": [
    "df.sample(3)"
   ]
  },
  {
   "cell_type": "code",
   "execution_count": 55,
   "metadata": {},
   "outputs": [],
   "source": [
    "# Separate dataset for easy tracking of updates\n",
    "dfna = df[df['Virus hosts'] == '']\n",
    "df = df[~(df['Virus hosts'] == '')]"
   ]
  },
  {
   "cell_type": "code",
   "execution_count": 56,
   "metadata": {},
   "outputs": [
    {
     "data": {
      "text/plain": [
       "(7512, 6)"
      ]
     },
     "execution_count": 56,
     "metadata": {},
     "output_type": "execute_result"
    }
   ],
   "source": [
    "dfna.shape"
   ]
  },
  {
   "cell_type": "code",
   "execution_count": 57,
   "metadata": {},
   "outputs": [
    {
     "data": {
      "text/plain": [
       "(601, 6)"
      ]
     },
     "execution_count": 57,
     "metadata": {},
     "output_type": "execute_result"
    }
   ],
   "source": [
    "df.shape"
   ]
  },
  {
   "cell_type": "markdown",
   "metadata": {},
   "source": [
    "## Updating host names from external sources"
   ]
  },
  {
   "cell_type": "code",
   "execution_count": 58,
   "metadata": {},
   "outputs": [
    {
     "data": {
      "text/plain": [
       "(2599675, 3)"
      ]
     },
     "execution_count": 58,
     "metadata": {},
     "output_type": "execute_result"
    }
   ],
   "source": [
    "# Data from NCBI Virus\n",
    "df2 = pd.read_csv('../data/sequences.csv')\n",
    "df2.shape"
   ]
  },
  {
   "cell_type": "code",
   "execution_count": 59,
   "metadata": {},
   "outputs": [
    {
     "data": {
      "text/html": [
       "<div>\n",
       "<style scoped>\n",
       "    .dataframe tbody tr th:only-of-type {\n",
       "        vertical-align: middle;\n",
       "    }\n",
       "\n",
       "    .dataframe tbody tr th {\n",
       "        vertical-align: top;\n",
       "    }\n",
       "\n",
       "    .dataframe thead th {\n",
       "        text-align: right;\n",
       "    }\n",
       "</style>\n",
       "<table border=\"1\" class=\"dataframe\">\n",
       "  <thead>\n",
       "    <tr style=\"text-align: right;\">\n",
       "      <th></th>\n",
       "      <th>Species</th>\n",
       "      <th>Molecule_type</th>\n",
       "      <th>Host</th>\n",
       "    </tr>\n",
       "  </thead>\n",
       "  <tbody>\n",
       "    <tr>\n",
       "      <th>1423463</th>\n",
       "      <td>Influenza A virus</td>\n",
       "      <td>ssRNA(-)</td>\n",
       "      <td>Homo sapiens</td>\n",
       "    </tr>\n",
       "    <tr>\n",
       "      <th>1457127</th>\n",
       "      <td>Norwalk virus</td>\n",
       "      <td>ssRNA(+)</td>\n",
       "      <td>Homo sapiens</td>\n",
       "    </tr>\n",
       "  </tbody>\n",
       "</table>\n",
       "</div>"
      ],
      "text/plain": [
       "                   Species Molecule_type          Host\n",
       "1423463  Influenza A virus      ssRNA(-)  Homo sapiens\n",
       "1457127      Norwalk virus      ssRNA(+)  Homo sapiens"
      ]
     },
     "execution_count": 59,
     "metadata": {},
     "output_type": "execute_result"
    }
   ],
   "source": [
    "df2.sample(2)"
   ]
  },
  {
   "cell_type": "code",
   "execution_count": 60,
   "metadata": {},
   "outputs": [
    {
     "data": {
      "text/plain": [
       "(10956, 3)"
      ]
     },
     "execution_count": 60,
     "metadata": {},
     "output_type": "execute_result"
    }
   ],
   "source": [
    "df2.drop_duplicates(inplace=True)\n",
    "df2.shape"
   ]
  },
  {
   "cell_type": "code",
   "execution_count": 61,
   "metadata": {
    "scrolled": true,
    "tags": []
   },
   "outputs": [
    {
     "data": {
      "application/vnd.jupyter.widget-view+json": {
       "model_id": "fdea7a0fa5c24df8a5e99a3181d8c383",
       "version_major": 2,
       "version_minor": 0
      },
      "text/plain": [
       "Processing:   0%|          | 0/10956 [00:00<?, ?it/s]"
      ]
     },
     "metadata": {},
     "output_type": "display_data"
    },
    {
     "name": "stdout",
     "output_type": "stream",
     "text": [
      "'nan'\n",
      "'nan'\n",
      "'nan'\n",
      "'nan'\n"
     ]
    },
    {
     "data": {
      "application/vnd.jupyter.widget-view+json": {
       "model_id": "8f06fa5cf6e241458e1e4fd39e4e817b",
       "version_major": 2,
       "version_minor": 0
      },
      "text/plain": [
       "Processing:   0%|          | 0/10956 [00:00<?, ?it/s]"
      ]
     },
     "metadata": {},
     "output_type": "display_data"
    },
    {
     "name": "stdout",
     "output_type": "stream",
     "text": [
      "'Bolomys lasiurus'\n",
      "'Bolomys lasiurus'\n",
      "'Pipistrellus sp. pipistrellus/pygmaeus AO-2021'\n",
      "'Pipistrellus musciculus'\n",
      "'Funisciurus bayonii'\n",
      "'Rattus sp. r3 YH-2020'\n",
      "'Rattus sp. r3 YH-2020'\n",
      "'Soricidae sp. YH-2020'\n",
      "'Rattus sp. r3 YH-2020'\n",
      "'Rattus sp. r3 YH-2020'\n",
      "'Acomys selousi'\n",
      "'Rhinolophus smithersi'\n",
      "'Alouatta sp.'\n",
      "'Pipistrellys abramus'\n",
      "'Sturnira angeli'\n",
      "'Sturnira angeli'\n",
      "'Hipposideros curtus'\n",
      "'Pipistrellus inexspectatus'\n",
      "'Dobsonia exoleta'\n",
      "'Mops demonstrator'\n",
      "'Pipistrellus musciculus'\n",
      "'Mus sp. TG-2020'\n",
      "'Murinae gen. sp. TG-2020'\n",
      "'Vespadelus baverstocki'\n",
      "'Ozimops sp. DP-2019'\n",
      "'Scoterepens balstoni'\n",
      "'Neoromicia capensis'\n",
      "'Neoromicia capensis'\n",
      "'Mus sp. CL-2019'\n",
      "'Mus sp. CL-2019'\n",
      "'Neoromicia capensis'\n",
      "'Bolomys lasiurus'\n",
      "'Bolomys lasiurus'\n",
      "'Bolomys lasiurus'\n",
      "'Neoromicia capensis'\n",
      "'Neoromicia capensis'\n",
      "'Neoromicia capensis'\n",
      "'Neoromicia capensis'\n",
      "'Bolomys lasiurus'\n",
      "'Pipistrellus inexspectatus'\n",
      "'Chiroptera sp.'\n",
      "'Chaerephon aloysiisabaudiae'\n",
      "'Chiroptera sp.'\n",
      "'Paradoxurus musangus'\n",
      "'Neoromicia capensis'\n",
      "'Natalus lanatus'\n",
      "'Bolomys lasiurus'\n",
      "'Bolomys lasiurus'\n",
      "'Neoromicia capensis'\n",
      "'Neoromicia capensis'\n",
      "'Neoromicia capensis'\n",
      "'Neoromicia capensis'\n",
      "'Neoromicia capensis'\n",
      "'Neoromicia capensis'\n",
      "'Neoromicia capensis'\n",
      "'Neoromicia capensis'\n",
      "'Neoromicia capensis'\n",
      "'Aethomys hindei medicatus'\n",
      "'Sus scrofa ibericus'\n",
      "'Bolomys lasiurus'\n",
      "'Alouatta sp.'\n",
      "'Bolomys lasiurus'\n",
      "'Bolomys lasiurus'\n",
      "'Bolomys lasiurus'\n",
      "'Bolomys lasiurus'\n",
      "'Bolomys lasiurus'\n"
     ]
    }
   ],
   "source": [
    "# Get taxonomic IDs from species names\n",
    "df2['Species ID'], df2['Host ID'] = df2['Species'].progress_apply(getIDfromName), df2['Host'].progress_apply(getIDfromName)"
   ]
  },
  {
   "cell_type": "code",
   "execution_count": 62,
   "metadata": {},
   "outputs": [
    {
     "data": {
      "text/plain": [
       "(10886, 5)"
      ]
     },
     "execution_count": 62,
     "metadata": {},
     "output_type": "execute_result"
    }
   ],
   "source": [
    "df2.dropna(inplace=True)\n",
    "df2['Species ID'], df2['Host ID'] = df2['Species ID'].astype(int), df2['Host ID'].astype(int)\n",
    "df2.shape"
   ]
  },
  {
   "cell_type": "code",
   "execution_count": 63,
   "metadata": {},
   "outputs": [
    {
     "data": {
      "application/vnd.jupyter.widget-view+json": {
       "model_id": "f411d334d40e4040a97f4d87c7df2b82",
       "version_major": 2,
       "version_minor": 0
      },
      "text/plain": [
       "Processing:   0%|          | 0/10886 [00:00<?, ?it/s]"
      ]
     },
     "metadata": {},
     "output_type": "display_data"
    }
   ],
   "source": [
    "df2['Host name'] = df2.progress_apply(lambda x: nameMerger(x['Host'], x['Host ID']), axis=1)\n",
    "# Remove Host and Host ID columns as they have been merged and are no longer needed\n",
    "df2.drop(['Host', 'Host ID'], axis=1, inplace=True)"
   ]
  },
  {
   "cell_type": "code",
   "execution_count": 64,
   "metadata": {},
   "outputs": [
    {
     "data": {
      "application/vnd.jupyter.widget-view+json": {
       "model_id": "bff063e3ca384e299f30ae17fc462d68",
       "version_major": 2,
       "version_minor": 0
      },
      "text/plain": [
       "Processing:   0%|          | 0/10886 [00:00<?, ?it/s]"
      ]
     },
     "metadata": {},
     "output_type": "display_data"
    }
   ],
   "source": [
    "df2['Species ID'] = df2['Species ID'].progress_apply(getRankID, rank='species')"
   ]
  },
  {
   "cell_type": "code",
   "execution_count": 65,
   "metadata": {},
   "outputs": [],
   "source": [
    "## Create a copy for later use\n",
    "dfff = df2.copy()"
   ]
  },
  {
   "cell_type": "code",
   "execution_count": 66,
   "metadata": {},
   "outputs": [],
   "source": [
    "# Add host names\n",
    "df_na_hosts = AggregateHosts(df2,'Species ID', 'Host name')\n",
    "dfna = dfna.merge(df_na_hosts, left_on='Species taxonomic ID', right_on='Species ID', how='left')\n",
    "dfna = dfna.drop(['Virus hosts', 'Species ID'], axis=1).rename({'Host name':'Virus hosts'}, axis=1)\n",
    "dfna = UpdateHosts(dfna, df_na_hosts, 'Species taxonomic ID', 'Species ID')\n",
    "df, dfna = UpdateMain(df, dfna)\n",
    "df = mergeRows(df, 'Species taxonomic ID', 'Virus hosts')"
   ]
  },
  {
   "cell_type": "code",
   "execution_count": 67,
   "metadata": {},
   "outputs": [
    {
     "data": {
      "text/plain": [
       "(6476, 6)"
      ]
     },
     "execution_count": 67,
     "metadata": {},
     "output_type": "execute_result"
    }
   ],
   "source": [
    "dfna.shape"
   ]
  },
  {
   "cell_type": "code",
   "execution_count": 68,
   "metadata": {},
   "outputs": [
    {
     "data": {
      "text/plain": [
       "(1637, 6)"
      ]
     },
     "execution_count": 68,
     "metadata": {},
     "output_type": "execute_result"
    }
   ],
   "source": [
    "df.shape"
   ]
  },
  {
   "cell_type": "code",
   "execution_count": 69,
   "metadata": {
    "tags": []
   },
   "outputs": [
    {
     "data": {
      "text/html": [
       "<div>\n",
       "<style scoped>\n",
       "    .dataframe tbody tr th:only-of-type {\n",
       "        vertical-align: middle;\n",
       "    }\n",
       "\n",
       "    .dataframe tbody tr th {\n",
       "        vertical-align: top;\n",
       "    }\n",
       "\n",
       "    .dataframe thead th {\n",
       "        text-align: right;\n",
       "    }\n",
       "</style>\n",
       "<table border=\"1\" class=\"dataframe\">\n",
       "  <thead>\n",
       "    <tr style=\"text-align: right;\">\n",
       "      <th></th>\n",
       "      <th>virus tax id</th>\n",
       "      <th>virus name</th>\n",
       "      <th>virus lineage</th>\n",
       "      <th>refseq id</th>\n",
       "      <th>KEGG GENOME</th>\n",
       "      <th>KEGG DISEASE</th>\n",
       "      <th>DISEASE</th>\n",
       "      <th>host tax id</th>\n",
       "      <th>host name</th>\n",
       "      <th>host lineage</th>\n",
       "      <th>pmid</th>\n",
       "      <th>evidence</th>\n",
       "      <th>sample type</th>\n",
       "      <th>source organism</th>\n",
       "    </tr>\n",
       "  </thead>\n",
       "  <tbody>\n",
       "    <tr>\n",
       "      <th>0</th>\n",
       "      <td>438782</td>\n",
       "      <td>Abaca bunchy top virus</td>\n",
       "      <td>Viruses; Monodnaviria; Shotokuvirae; Cressdnav...</td>\n",
       "      <td>NC_010314, NC_010315, NC_010316, NC_010317, NC...</td>\n",
       "      <td>NaN</td>\n",
       "      <td>NaN</td>\n",
       "      <td>NaN</td>\n",
       "      <td>46838.0</td>\n",
       "      <td>Musa sp.</td>\n",
       "      <td>Eukaryota; Viridiplantae; Streptophyta; Strept...</td>\n",
       "      <td>17978886</td>\n",
       "      <td>Literature, NCBI Virus, RefSeq</td>\n",
       "      <td>NaN</td>\n",
       "      <td>NaN</td>\n",
       "    </tr>\n",
       "    <tr>\n",
       "      <th>1</th>\n",
       "      <td>438782</td>\n",
       "      <td>Abaca bunchy top virus</td>\n",
       "      <td>Viruses; Monodnaviria; Shotokuvirae; Cressdnav...</td>\n",
       "      <td>NC_010314, NC_010315, NC_010316, NC_010317, NC...</td>\n",
       "      <td>NaN</td>\n",
       "      <td>NaN</td>\n",
       "      <td>NaN</td>\n",
       "      <td>214697.0</td>\n",
       "      <td>Musa acuminata AAA Group</td>\n",
       "      <td>Eukaryota; Viridiplantae; Streptophyta; Strept...</td>\n",
       "      <td>17978886</td>\n",
       "      <td>Literature</td>\n",
       "      <td>NaN</td>\n",
       "      <td>NaN</td>\n",
       "    </tr>\n",
       "    <tr>\n",
       "      <th>2</th>\n",
       "      <td>1241371</td>\n",
       "      <td>Abalone herpesvirus Victoria/AUS/2009</td>\n",
       "      <td>Viruses; Duplodnaviria; Heunggongvirae; Peplov...</td>\n",
       "      <td>NC_018874</td>\n",
       "      <td>NaN</td>\n",
       "      <td>NaN</td>\n",
       "      <td>NaN</td>\n",
       "      <td>6451.0</td>\n",
       "      <td>Haliotidae</td>\n",
       "      <td>Eukaryota; Opisthokonta; Metazoa; Eumetazoa; B...</td>\n",
       "      <td>NaN</td>\n",
       "      <td>UniProt</td>\n",
       "      <td>NaN</td>\n",
       "      <td>NaN</td>\n",
       "    </tr>\n",
       "  </tbody>\n",
       "</table>\n",
       "</div>"
      ],
      "text/plain": [
       "   virus tax id                             virus name  \\\n",
       "0        438782                 Abaca bunchy top virus   \n",
       "1        438782                 Abaca bunchy top virus   \n",
       "2       1241371  Abalone herpesvirus Victoria/AUS/2009   \n",
       "\n",
       "                                       virus lineage  \\\n",
       "0  Viruses; Monodnaviria; Shotokuvirae; Cressdnav...   \n",
       "1  Viruses; Monodnaviria; Shotokuvirae; Cressdnav...   \n",
       "2  Viruses; Duplodnaviria; Heunggongvirae; Peplov...   \n",
       "\n",
       "                                           refseq id KEGG GENOME KEGG DISEASE  \\\n",
       "0  NC_010314, NC_010315, NC_010316, NC_010317, NC...         NaN          NaN   \n",
       "1  NC_010314, NC_010315, NC_010316, NC_010317, NC...         NaN          NaN   \n",
       "2                                          NC_018874         NaN          NaN   \n",
       "\n",
       "  DISEASE  host tax id                 host name  \\\n",
       "0     NaN      46838.0                  Musa sp.   \n",
       "1     NaN     214697.0  Musa acuminata AAA Group   \n",
       "2     NaN       6451.0                Haliotidae   \n",
       "\n",
       "                                        host lineage      pmid  \\\n",
       "0  Eukaryota; Viridiplantae; Streptophyta; Strept...  17978886   \n",
       "1  Eukaryota; Viridiplantae; Streptophyta; Strept...  17978886   \n",
       "2  Eukaryota; Opisthokonta; Metazoa; Eumetazoa; B...       NaN   \n",
       "\n",
       "                         evidence sample type  source organism  \n",
       "0  Literature, NCBI Virus, RefSeq         NaN              NaN  \n",
       "1                      Literature         NaN              NaN  \n",
       "2                         UniProt         NaN              NaN  "
      ]
     },
     "execution_count": 69,
     "metadata": {},
     "output_type": "execute_result"
    }
   ],
   "source": [
    "# Data from virus host database\n",
    "df2 = pd.read_table('../data/virushostdb.tsv')\n",
    "df2.head(3)"
   ]
  },
  {
   "cell_type": "code",
   "execution_count": 70,
   "metadata": {},
   "outputs": [
    {
     "name": "stdout",
     "output_type": "stream",
     "text": [
      "(16612, 4)\n"
     ]
    },
    {
     "data": {
      "text/html": [
       "<div>\n",
       "<style scoped>\n",
       "    .dataframe tbody tr th:only-of-type {\n",
       "        vertical-align: middle;\n",
       "    }\n",
       "\n",
       "    .dataframe tbody tr th {\n",
       "        vertical-align: top;\n",
       "    }\n",
       "\n",
       "    .dataframe thead th {\n",
       "        text-align: right;\n",
       "    }\n",
       "</style>\n",
       "<table border=\"1\" class=\"dataframe\">\n",
       "  <thead>\n",
       "    <tr style=\"text-align: right;\">\n",
       "      <th></th>\n",
       "      <th>virus tax id</th>\n",
       "      <th>virus name</th>\n",
       "      <th>host tax id</th>\n",
       "      <th>host name</th>\n",
       "    </tr>\n",
       "  </thead>\n",
       "  <tbody>\n",
       "    <tr>\n",
       "      <th>0</th>\n",
       "      <td>438782</td>\n",
       "      <td>Abaca bunchy top virus</td>\n",
       "      <td>46838.0</td>\n",
       "      <td>Musa sp.</td>\n",
       "    </tr>\n",
       "    <tr>\n",
       "      <th>1</th>\n",
       "      <td>438782</td>\n",
       "      <td>Abaca bunchy top virus</td>\n",
       "      <td>214697.0</td>\n",
       "      <td>Musa acuminata AAA Group</td>\n",
       "    </tr>\n",
       "    <tr>\n",
       "      <th>2</th>\n",
       "      <td>1241371</td>\n",
       "      <td>Abalone herpesvirus Victoria/AUS/2009</td>\n",
       "      <td>6451.0</td>\n",
       "      <td>Haliotidae</td>\n",
       "    </tr>\n",
       "    <tr>\n",
       "      <th>3</th>\n",
       "      <td>1241371</td>\n",
       "      <td>Abalone herpesvirus Victoria/AUS/2009</td>\n",
       "      <td>36100.0</td>\n",
       "      <td>Haliotis rubra</td>\n",
       "    </tr>\n",
       "    <tr>\n",
       "      <th>4</th>\n",
       "      <td>491893</td>\n",
       "      <td>Abalone shriveling syndrome-associated virus</td>\n",
       "      <td>37770.0</td>\n",
       "      <td>Haliotis diversicolor aquatilis</td>\n",
       "    </tr>\n",
       "  </tbody>\n",
       "</table>\n",
       "</div>"
      ],
      "text/plain": [
       "   virus tax id                                    virus name  host tax id  \\\n",
       "0        438782                        Abaca bunchy top virus      46838.0   \n",
       "1        438782                        Abaca bunchy top virus     214697.0   \n",
       "2       1241371         Abalone herpesvirus Victoria/AUS/2009       6451.0   \n",
       "3       1241371         Abalone herpesvirus Victoria/AUS/2009      36100.0   \n",
       "4        491893  Abalone shriveling syndrome-associated virus      37770.0   \n",
       "\n",
       "                         host name  \n",
       "0                         Musa sp.  \n",
       "1         Musa acuminata AAA Group  \n",
       "2                       Haliotidae  \n",
       "3                   Haliotis rubra  \n",
       "4  Haliotis diversicolor aquatilis  "
      ]
     },
     "execution_count": 70,
     "metadata": {},
     "output_type": "execute_result"
    }
   ],
   "source": [
    "df2 = df2[['virus tax id', 'virus name', 'host tax id', 'host name']].copy()\n",
    "df2.drop_duplicates(inplace=True)\n",
    "print(df2.shape)\n",
    "df2.head()"
   ]
  },
  {
   "cell_type": "code",
   "execution_count": 71,
   "metadata": {},
   "outputs": [
    {
     "data": {
      "text/html": [
       "<div>\n",
       "<style scoped>\n",
       "    .dataframe tbody tr th:only-of-type {\n",
       "        vertical-align: middle;\n",
       "    }\n",
       "\n",
       "    .dataframe tbody tr th {\n",
       "        vertical-align: top;\n",
       "    }\n",
       "\n",
       "    .dataframe thead th {\n",
       "        text-align: right;\n",
       "    }\n",
       "</style>\n",
       "<table border=\"1\" class=\"dataframe\">\n",
       "  <thead>\n",
       "    <tr style=\"text-align: right;\">\n",
       "      <th></th>\n",
       "      <th>virus tax id</th>\n",
       "      <th>virus name</th>\n",
       "      <th>host tax id</th>\n",
       "      <th>host name</th>\n",
       "    </tr>\n",
       "  </thead>\n",
       "  <tbody>\n",
       "    <tr>\n",
       "      <th>1236</th>\n",
       "      <td>2662138</td>\n",
       "      <td>Bacteriophage Phobos</td>\n",
       "      <td>NaN</td>\n",
       "      <td>NaN</td>\n",
       "    </tr>\n",
       "    <tr>\n",
       "      <th>3750</th>\n",
       "      <td>1131416</td>\n",
       "      <td>Cucurbit mild mosaic virus</td>\n",
       "      <td>NaN</td>\n",
       "      <td>NaN</td>\n",
       "    </tr>\n",
       "    <tr>\n",
       "      <th>15925</th>\n",
       "      <td>1888308</td>\n",
       "      <td>Wabat virus</td>\n",
       "      <td>NaN</td>\n",
       "      <td>NaN</td>\n",
       "    </tr>\n",
       "  </tbody>\n",
       "</table>\n",
       "</div>"
      ],
      "text/plain": [
       "       virus tax id                  virus name  host tax id host name\n",
       "1236        2662138        Bacteriophage Phobos          NaN       NaN\n",
       "3750        1131416  Cucurbit mild mosaic virus          NaN       NaN\n",
       "15925       1888308                 Wabat virus          NaN       NaN"
      ]
     },
     "execution_count": 71,
     "metadata": {},
     "output_type": "execute_result"
    }
   ],
   "source": [
    "df2[df2['host tax id'].isnull()]"
   ]
  },
  {
   "cell_type": "code",
   "execution_count": 72,
   "metadata": {},
   "outputs": [],
   "source": [
    "df2.dropna(inplace=True)"
   ]
  },
  {
   "cell_type": "code",
   "execution_count": 73,
   "metadata": {},
   "outputs": [
    {
     "data": {
      "text/html": [
       "<div>\n",
       "<style scoped>\n",
       "    .dataframe tbody tr th:only-of-type {\n",
       "        vertical-align: middle;\n",
       "    }\n",
       "\n",
       "    .dataframe tbody tr th {\n",
       "        vertical-align: top;\n",
       "    }\n",
       "\n",
       "    .dataframe thead th {\n",
       "        text-align: right;\n",
       "    }\n",
       "</style>\n",
       "<table border=\"1\" class=\"dataframe\">\n",
       "  <thead>\n",
       "    <tr style=\"text-align: right;\">\n",
       "      <th></th>\n",
       "      <th>virus tax id</th>\n",
       "      <th>virus name</th>\n",
       "      <th>host tax id</th>\n",
       "      <th>host name</th>\n",
       "    </tr>\n",
       "  </thead>\n",
       "  <tbody>\n",
       "    <tr>\n",
       "      <th>0</th>\n",
       "      <td>438782</td>\n",
       "      <td>Abaca bunchy top virus</td>\n",
       "      <td>46838</td>\n",
       "      <td>Musa sp.</td>\n",
       "    </tr>\n",
       "    <tr>\n",
       "      <th>1</th>\n",
       "      <td>438782</td>\n",
       "      <td>Abaca bunchy top virus</td>\n",
       "      <td>214697</td>\n",
       "      <td>Musa acuminata AAA Group</td>\n",
       "    </tr>\n",
       "    <tr>\n",
       "      <th>2</th>\n",
       "      <td>1241371</td>\n",
       "      <td>Abalone herpesvirus Victoria/AUS/2009</td>\n",
       "      <td>6451</td>\n",
       "      <td>Haliotidae</td>\n",
       "    </tr>\n",
       "    <tr>\n",
       "      <th>3</th>\n",
       "      <td>1241371</td>\n",
       "      <td>Abalone herpesvirus Victoria/AUS/2009</td>\n",
       "      <td>36100</td>\n",
       "      <td>Haliotis rubra</td>\n",
       "    </tr>\n",
       "    <tr>\n",
       "      <th>4</th>\n",
       "      <td>491893</td>\n",
       "      <td>Abalone shriveling syndrome-associated virus</td>\n",
       "      <td>37770</td>\n",
       "      <td>Haliotis diversicolor aquatilis</td>\n",
       "    </tr>\n",
       "  </tbody>\n",
       "</table>\n",
       "</div>"
      ],
      "text/plain": [
       "   virus tax id                                    virus name  host tax id  \\\n",
       "0        438782                        Abaca bunchy top virus        46838   \n",
       "1        438782                        Abaca bunchy top virus       214697   \n",
       "2       1241371         Abalone herpesvirus Victoria/AUS/2009         6451   \n",
       "3       1241371         Abalone herpesvirus Victoria/AUS/2009        36100   \n",
       "4        491893  Abalone shriveling syndrome-associated virus        37770   \n",
       "\n",
       "                         host name  \n",
       "0                         Musa sp.  \n",
       "1         Musa acuminata AAA Group  \n",
       "2                       Haliotidae  \n",
       "3                   Haliotis rubra  \n",
       "4  Haliotis diversicolor aquatilis  "
      ]
     },
     "execution_count": 73,
     "metadata": {},
     "output_type": "execute_result"
    }
   ],
   "source": [
    "df2['host tax id'] = df2['host tax id'].astype(int)\n",
    "df2.head()"
   ]
  },
  {
   "cell_type": "code",
   "execution_count": 74,
   "metadata": {},
   "outputs": [
    {
     "data": {
      "application/vnd.jupyter.widget-view+json": {
       "model_id": "01326f38a26b4619998f21e263302af3",
       "version_major": 2,
       "version_minor": 0
      },
      "text/plain": [
       "Processing:   0%|          | 0/16609 [00:00<?, ?it/s]"
      ]
     },
     "metadata": {},
     "output_type": "display_data"
    }
   ],
   "source": [
    "df2['Species ID'] = df2['virus tax id'].progress_apply(getRankID, rank='species')"
   ]
  },
  {
   "cell_type": "code",
   "execution_count": 75,
   "metadata": {},
   "outputs": [
    {
     "data": {
      "application/vnd.jupyter.widget-view+json": {
       "model_id": "db34b902699346d0b5316775eaf1f648",
       "version_major": 2,
       "version_minor": 0
      },
      "text/plain": [
       "Processing:   0%|          | 0/16609 [00:00<?, ?it/s]"
      ]
     },
     "metadata": {},
     "output_type": "display_data"
    },
    {
     "data": {
      "text/html": [
       "<div>\n",
       "<style scoped>\n",
       "    .dataframe tbody tr th:only-of-type {\n",
       "        vertical-align: middle;\n",
       "    }\n",
       "\n",
       "    .dataframe tbody tr th {\n",
       "        vertical-align: top;\n",
       "    }\n",
       "\n",
       "    .dataframe thead th {\n",
       "        text-align: right;\n",
       "    }\n",
       "</style>\n",
       "<table border=\"1\" class=\"dataframe\">\n",
       "  <thead>\n",
       "    <tr style=\"text-align: right;\">\n",
       "      <th></th>\n",
       "      <th>virus tax id</th>\n",
       "      <th>virus name</th>\n",
       "      <th>Species ID</th>\n",
       "      <th>Host name</th>\n",
       "    </tr>\n",
       "  </thead>\n",
       "  <tbody>\n",
       "    <tr>\n",
       "      <th>0</th>\n",
       "      <td>438782</td>\n",
       "      <td>Abaca bunchy top virus</td>\n",
       "      <td>438782</td>\n",
       "      <td>Musa sp. [TaxID: 46838]</td>\n",
       "    </tr>\n",
       "    <tr>\n",
       "      <th>1</th>\n",
       "      <td>438782</td>\n",
       "      <td>Abaca bunchy top virus</td>\n",
       "      <td>438782</td>\n",
       "      <td>Musa acuminata AAA Group [TaxID: 214697]</td>\n",
       "    </tr>\n",
       "    <tr>\n",
       "      <th>2</th>\n",
       "      <td>1241371</td>\n",
       "      <td>Abalone herpesvirus Victoria/AUS/2009</td>\n",
       "      <td>1513231</td>\n",
       "      <td>Haliotidae [TaxID: 6451]</td>\n",
       "    </tr>\n",
       "    <tr>\n",
       "      <th>3</th>\n",
       "      <td>1241371</td>\n",
       "      <td>Abalone herpesvirus Victoria/AUS/2009</td>\n",
       "      <td>1513231</td>\n",
       "      <td>Haliotis rubra [TaxID: 36100]</td>\n",
       "    </tr>\n",
       "    <tr>\n",
       "      <th>4</th>\n",
       "      <td>491893</td>\n",
       "      <td>Abalone shriveling syndrome-associated virus</td>\n",
       "      <td>491893</td>\n",
       "      <td>Haliotis diversicolor aquatilis [TaxID: 37770]</td>\n",
       "    </tr>\n",
       "  </tbody>\n",
       "</table>\n",
       "</div>"
      ],
      "text/plain": [
       "   virus tax id                                    virus name  Species ID  \\\n",
       "0        438782                        Abaca bunchy top virus      438782   \n",
       "1        438782                        Abaca bunchy top virus      438782   \n",
       "2       1241371         Abalone herpesvirus Victoria/AUS/2009     1513231   \n",
       "3       1241371         Abalone herpesvirus Victoria/AUS/2009     1513231   \n",
       "4        491893  Abalone shriveling syndrome-associated virus      491893   \n",
       "\n",
       "                                        Host name  \n",
       "0                         Musa sp. [TaxID: 46838]  \n",
       "1        Musa acuminata AAA Group [TaxID: 214697]  \n",
       "2                        Haliotidae [TaxID: 6451]  \n",
       "3                   Haliotis rubra [TaxID: 36100]  \n",
       "4  Haliotis diversicolor aquatilis [TaxID: 37770]  "
      ]
     },
     "execution_count": 75,
     "metadata": {},
     "output_type": "execute_result"
    }
   ],
   "source": [
    "df2['Host name'] = df2.progress_apply(lambda x: nameMerger(x['host name'], x['host tax id']), axis=1)\n",
    "# Remove Host and Host ID columns as they have been merged and are no longer needed\n",
    "df2.drop(['host name', 'host tax id'], axis=1, inplace=True)\n",
    "df2.head()"
   ]
  },
  {
   "cell_type": "code",
   "execution_count": 76,
   "metadata": {},
   "outputs": [],
   "source": [
    "df_na_hosts = AggregateHosts(df2,'Species ID', 'Host name')\n",
    "dfna = dfna.merge(df_na_hosts, left_on='Species taxonomic ID', right_on='Species ID', how='left')\n",
    "dfna = dfna.drop(['Virus hosts', 'Species ID'], axis=1).rename({'Host name':'Virus hosts'}, axis=1)\n",
    "dfna = UpdateHosts(dfna, df_na_hosts, 'Species taxonomic ID', 'Species ID')\n",
    "df, dfna = UpdateMain(df, dfna)\n",
    "df = mergeRows(df, 'Species taxonomic ID', 'Virus hosts')"
   ]
  },
  {
   "cell_type": "code",
   "execution_count": 77,
   "metadata": {},
   "outputs": [
    {
     "data": {
      "text/plain": [
       "(4760, 6)"
      ]
     },
     "execution_count": 77,
     "metadata": {},
     "output_type": "execute_result"
    }
   ],
   "source": [
    "df.shape"
   ]
  },
  {
   "cell_type": "code",
   "execution_count": 78,
   "metadata": {},
   "outputs": [
    {
     "data": {
      "text/plain": [
       "(3353, 6)"
      ]
     },
     "execution_count": 78,
     "metadata": {},
     "output_type": "execute_result"
    }
   ],
   "source": [
    "dfna.shape"
   ]
  },
  {
   "cell_type": "code",
   "execution_count": 79,
   "metadata": {},
   "outputs": [
    {
     "data": {
      "text/html": [
       "<div>\n",
       "<style scoped>\n",
       "    .dataframe tbody tr th:only-of-type {\n",
       "        vertical-align: middle;\n",
       "    }\n",
       "\n",
       "    .dataframe tbody tr th {\n",
       "        vertical-align: top;\n",
       "    }\n",
       "\n",
       "    .dataframe thead th {\n",
       "        text-align: right;\n",
       "    }\n",
       "</style>\n",
       "<table border=\"1\" class=\"dataframe\">\n",
       "  <thead>\n",
       "    <tr style=\"text-align: right;\">\n",
       "      <th></th>\n",
       "      <th>Host_name</th>\n",
       "      <th>Host_TaxId</th>\n",
       "      <th>Host Group</th>\n",
       "      <th>Virus_name</th>\n",
       "      <th>Virus_TaxId</th>\n",
       "      <th>Micobe_group</th>\n",
       "      <th>Host_common_name</th>\n",
       "      <th>Host_common_name_rev</th>\n",
       "    </tr>\n",
       "  </thead>\n",
       "  <tbody>\n",
       "    <tr>\n",
       "      <th>52713</th>\n",
       "      <td>anas rubripes</td>\n",
       "      <td>75857</td>\n",
       "      <td>vertebrates</td>\n",
       "      <td>influenza a virus (a/american black duck/quebe...</td>\n",
       "      <td>568495</td>\n",
       "      <td>viruses</td>\n",
       "      <td>American black duck</td>\n",
       "      <td>Duck</td>\n",
       "    </tr>\n",
       "    <tr>\n",
       "      <th>19134</th>\n",
       "      <td>homo sapiens</td>\n",
       "      <td>9606</td>\n",
       "      <td>primates</td>\n",
       "      <td>influenza a virus (a/bochum/ins375/2009(h1n1))</td>\n",
       "      <td>856502</td>\n",
       "      <td>viruses</td>\n",
       "      <td>Human</td>\n",
       "      <td>Human</td>\n",
       "    </tr>\n",
       "  </tbody>\n",
       "</table>\n",
       "</div>"
      ],
      "text/plain": [
       "           Host_name  Host_TaxId   Host Group  \\\n",
       "52713  anas rubripes       75857  vertebrates   \n",
       "19134   homo sapiens        9606     primates   \n",
       "\n",
       "                                              Virus_name  Virus_TaxId  \\\n",
       "52713  influenza a virus (a/american black duck/quebe...       568495   \n",
       "19134     influenza a virus (a/bochum/ins375/2009(h1n1))       856502   \n",
       "\n",
       "      Micobe_group     Host_common_name Host_common_name_rev  \n",
       "52713      viruses  American black duck                 Duck  \n",
       "19134      viruses                Human                Human  "
      ]
     },
     "execution_count": 79,
     "metadata": {},
     "output_type": "execute_result"
    }
   ],
   "source": [
    "# Data from EID2 (Liverpool University)\n",
    "df2 = pd.read_csv('../data/virus_host_4rm_untitled.csv')\n",
    "df2.sample(2)"
   ]
  },
  {
   "cell_type": "code",
   "execution_count": 80,
   "metadata": {},
   "outputs": [
    {
     "data": {
      "application/vnd.jupyter.widget-view+json": {
       "model_id": "8022340414d84a9cafbd61eccb14f81c",
       "version_major": 2,
       "version_minor": 0
      },
      "text/plain": [
       "Processing:   0%|          | 0/59859 [00:00<?, ?it/s]"
      ]
     },
     "metadata": {},
     "output_type": "display_data"
    },
    {
     "name": "stdout",
     "output_type": "stream",
     "text": [
      "878474 taxid not found\n",
      "555869 taxid not found\n",
      "555869 taxid not found\n",
      "555869 taxid not found\n",
      "555869 taxid not found\n",
      "555869 taxid not found\n",
      "555869 taxid not found\n",
      "555869 taxid not found\n",
      "555869 taxid not found\n",
      "555869 taxid not found\n",
      "555869 taxid not found\n",
      "555869 taxid not found\n",
      "555869 taxid not found\n",
      "555869 taxid not found\n",
      "555869 taxid not found\n"
     ]
    },
    {
     "data": {
      "application/vnd.jupyter.widget-view+json": {
       "model_id": "edcb649fef76441ea50ea2bb66f4d2e3",
       "version_major": 2,
       "version_minor": 0
      },
      "text/plain": [
       "Processing:   0%|          | 0/59859 [00:00<?, ?it/s]"
      ]
     },
     "metadata": {},
     "output_type": "display_data"
    },
    {
     "data": {
      "text/html": [
       "<div>\n",
       "<style scoped>\n",
       "    .dataframe tbody tr th:only-of-type {\n",
       "        vertical-align: middle;\n",
       "    }\n",
       "\n",
       "    .dataframe tbody tr th {\n",
       "        vertical-align: top;\n",
       "    }\n",
       "\n",
       "    .dataframe thead th {\n",
       "        text-align: right;\n",
       "    }\n",
       "</style>\n",
       "<table border=\"1\" class=\"dataframe\">\n",
       "  <thead>\n",
       "    <tr style=\"text-align: right;\">\n",
       "      <th></th>\n",
       "      <th>Virus_name</th>\n",
       "      <th>Virus_TaxId</th>\n",
       "      <th>Species ID</th>\n",
       "      <th>Host name</th>\n",
       "    </tr>\n",
       "  </thead>\n",
       "  <tbody>\n",
       "    <tr>\n",
       "      <th>25156</th>\n",
       "      <td>influenza a virus (a/new york/4981/2009(h1n1))</td>\n",
       "      <td>691915</td>\n",
       "      <td>11320.0</td>\n",
       "      <td>homo sapiens [TaxID: 9606]</td>\n",
       "    </tr>\n",
       "    <tr>\n",
       "      <th>55705</th>\n",
       "      <td>influenza a virus (a/mallard duck/alb/191/1990...</td>\n",
       "      <td>352725</td>\n",
       "      <td>11320.0</td>\n",
       "      <td>aves [TaxID: 8782]</td>\n",
       "    </tr>\n",
       "  </tbody>\n",
       "</table>\n",
       "</div>"
      ],
      "text/plain": [
       "                                              Virus_name  Virus_TaxId  \\\n",
       "25156     influenza a virus (a/new york/4981/2009(h1n1))       691915   \n",
       "55705  influenza a virus (a/mallard duck/alb/191/1990...       352725   \n",
       "\n",
       "       Species ID                   Host name  \n",
       "25156     11320.0  homo sapiens [TaxID: 9606]  \n",
       "55705     11320.0          aves [TaxID: 8782]  "
      ]
     },
     "execution_count": 80,
     "metadata": {},
     "output_type": "execute_result"
    }
   ],
   "source": [
    "df2 = df2[['Host_name', 'Host_TaxId', 'Virus_name', 'Virus_TaxId']].copy()\n",
    "df2['Species ID'] = df2['Virus_TaxId'].progress_apply(getRankID, rank='species')\n",
    "df2['Host name'] = df2.progress_apply(lambda x: nameMerger(x['Host_name'], x['Host_TaxId']), axis=1)\n",
    "df2.drop(['Host_name', 'Host_TaxId'], axis=1, inplace=True)\n",
    "df2.dropna(inplace=True)\n",
    "df2.sample(2)"
   ]
  },
  {
   "cell_type": "code",
   "execution_count": 81,
   "metadata": {},
   "outputs": [],
   "source": [
    "df_na_hosts = AggregateHosts(df2,'Species ID', 'Host name')\n",
    "dfna = dfna.merge(df_na_hosts, left_on='Species taxonomic ID', right_on='Species ID', how='left')\n",
    "dfna = dfna.drop(['Virus hosts', 'Species ID'], axis=1).rename({'Host name':'Virus hosts'}, axis=1)\n",
    "dfna = UpdateHosts(dfna, df_na_hosts, 'Species taxonomic ID', 'Species ID')\n",
    "df, dfna = UpdateMain(df, dfna)\n",
    "df = mergeRows(df, 'Species taxonomic ID', 'Virus hosts')"
   ]
  },
  {
   "cell_type": "code",
   "execution_count": 82,
   "metadata": {},
   "outputs": [
    {
     "data": {
      "text/plain": [
       "(4766, 6)"
      ]
     },
     "execution_count": 82,
     "metadata": {},
     "output_type": "execute_result"
    }
   ],
   "source": [
    "df.shape"
   ]
  },
  {
   "cell_type": "code",
   "execution_count": 83,
   "metadata": {},
   "outputs": [
    {
     "data": {
      "text/plain": [
       "(3347, 6)"
      ]
     },
     "execution_count": 83,
     "metadata": {},
     "output_type": "execute_result"
    }
   ],
   "source": [
    "dfna.shape"
   ]
  },
  {
   "cell_type": "code",
   "execution_count": 84,
   "metadata": {},
   "outputs": [
    {
     "data": {
      "text/html": [
       "<div>\n",
       "<style scoped>\n",
       "    .dataframe tbody tr th:only-of-type {\n",
       "        vertical-align: middle;\n",
       "    }\n",
       "\n",
       "    .dataframe tbody tr th {\n",
       "        vertical-align: top;\n",
       "    }\n",
       "\n",
       "    .dataframe thead th {\n",
       "        text-align: right;\n",
       "    }\n",
       "</style>\n",
       "<table border=\"1\" class=\"dataframe\">\n",
       "  <thead>\n",
       "    <tr style=\"text-align: right;\">\n",
       "      <th></th>\n",
       "      <th>Species taxonomic ID</th>\n",
       "      <th>Protein names</th>\n",
       "      <th>Species name</th>\n",
       "      <th>Species superkingdom</th>\n",
       "      <th>Species family</th>\n",
       "      <th>Virus hosts</th>\n",
       "    </tr>\n",
       "  </thead>\n",
       "  <tbody>\n",
       "    <tr>\n",
       "      <th>1777</th>\n",
       "      <td>2502433</td>\n",
       "      <td>Integrase</td>\n",
       "      <td>Mycobacterium phage MisterCuddles</td>\n",
       "      <td>Viruses</td>\n",
       "      <td>Siphoviridae</td>\n",
       "      <td>NaN</td>\n",
       "    </tr>\n",
       "    <tr>\n",
       "      <th>784</th>\n",
       "      <td>1971433</td>\n",
       "      <td>Portal protein</td>\n",
       "      <td>Streptococcus phage P7631</td>\n",
       "      <td>Viruses</td>\n",
       "      <td>Siphoviridae</td>\n",
       "      <td>NaN</td>\n",
       "    </tr>\n",
       "  </tbody>\n",
       "</table>\n",
       "</div>"
      ],
      "text/plain": [
       "      Species taxonomic ID   Protein names                       Species name  \\\n",
       "1777               2502433       Integrase  Mycobacterium phage MisterCuddles   \n",
       "784                1971433  Portal protein          Streptococcus phage P7631   \n",
       "\n",
       "     Species superkingdom Species family Virus hosts  \n",
       "1777              Viruses   Siphoviridae         NaN  \n",
       "784               Viruses   Siphoviridae         NaN  "
      ]
     },
     "execution_count": 84,
     "metadata": {},
     "output_type": "execute_result"
    }
   ],
   "source": [
    "dfna.sample(2)"
   ]
  },
  {
   "cell_type": "markdown",
   "metadata": {},
   "source": [
    "## Further Processing"
   ]
  },
  {
   "cell_type": "code",
   "execution_count": 85,
   "metadata": {},
   "outputs": [],
   "source": [
    "# Add column to discriminate viruses which contain human hosts from those which do not\n",
    "df['Infects human'] = np.where(df['Virus hosts'].str.contains(r'960[56]'), 'human-true','human-false')"
   ]
  },
  {
   "cell_type": "code",
   "execution_count": 86,
   "metadata": {},
   "outputs": [
    {
     "data": {
      "text/html": [
       "<div>\n",
       "<style scoped>\n",
       "    .dataframe tbody tr th:only-of-type {\n",
       "        vertical-align: middle;\n",
       "    }\n",
       "\n",
       "    .dataframe tbody tr th {\n",
       "        vertical-align: top;\n",
       "    }\n",
       "\n",
       "    .dataframe thead th {\n",
       "        text-align: right;\n",
       "    }\n",
       "</style>\n",
       "<table border=\"1\" class=\"dataframe\">\n",
       "  <thead>\n",
       "    <tr style=\"text-align: right;\">\n",
       "      <th></th>\n",
       "      <th>Species taxonomic ID</th>\n",
       "      <th>Virus hosts</th>\n",
       "      <th>Protein names</th>\n",
       "      <th>Species name</th>\n",
       "      <th>Species superkingdom</th>\n",
       "      <th>Species family</th>\n",
       "      <th>Infects human</th>\n",
       "    </tr>\n",
       "  </thead>\n",
       "  <tbody>\n",
       "    <tr>\n",
       "      <th>1824</th>\n",
       "      <td>1340819</td>\n",
       "      <td>Mycolicibacterium smegmatis MC2 155 [TaxID: 24...</td>\n",
       "      <td>Portal protein</td>\n",
       "      <td>Mycobacterium phage Catdawg</td>\n",
       "      <td>Viruses</td>\n",
       "      <td>Siphoviridae</td>\n",
       "      <td>human-false</td>\n",
       "    </tr>\n",
       "    <tr>\n",
       "      <th>3192</th>\n",
       "      <td>2049886</td>\n",
       "      <td>Gordonia terrae [TaxID: 2055]</td>\n",
       "      <td>Integrase; Portal protein</td>\n",
       "      <td>Gordonia virus Vendetta</td>\n",
       "      <td>Viruses</td>\n",
       "      <td>Siphoviridae</td>\n",
       "      <td>human-false</td>\n",
       "    </tr>\n",
       "  </tbody>\n",
       "</table>\n",
       "</div>"
      ],
      "text/plain": [
       "      Species taxonomic ID                                        Virus hosts  \\\n",
       "1824               1340819  Mycolicibacterium smegmatis MC2 155 [TaxID: 24...   \n",
       "3192               2049886                      Gordonia terrae [TaxID: 2055]   \n",
       "\n",
       "                  Protein names                 Species name  \\\n",
       "1824             Portal protein  Mycobacterium phage Catdawg   \n",
       "3192  Integrase; Portal protein      Gordonia virus Vendetta   \n",
       "\n",
       "     Species superkingdom Species family Infects human  \n",
       "1824              Viruses   Siphoviridae   human-false  \n",
       "3192              Viruses   Siphoviridae   human-false  "
      ]
     },
     "execution_count": 86,
     "metadata": {},
     "output_type": "execute_result"
    }
   ],
   "source": [
    "df.sample(2)"
   ]
  },
  {
   "cell_type": "code",
   "execution_count": 87,
   "metadata": {},
   "outputs": [
    {
     "data": {
      "application/vnd.jupyter.widget-view+json": {
       "model_id": "f60170b8c37f467aa8c0e120af31bf1b",
       "version_major": 2,
       "version_minor": 0
      },
      "text/plain": [
       "Processing:   0%|          | 0/4766 [00:00<?, ?it/s]"
      ]
     },
     "metadata": {},
     "output_type": "display_data"
    },
    {
     "data": {
      "application/vnd.jupyter.widget-view+json": {
       "model_id": "04dcf0bda3a04376912043f606243ee4",
       "version_major": 2,
       "version_minor": 0
      },
      "text/plain": [
       "Processing:   0%|          | 0/4766 [00:00<?, ?it/s]"
      ]
     },
     "metadata": {},
     "output_type": "display_data"
    }
   ],
   "source": [
    "df['Virus hosts'] = df['Virus hosts'].str.split('; ')\n",
    "df['Virus hosts'] = df.progress_apply(lambda x: list(filter(None, x['Virus hosts'])), axis=1)\n",
    "df['Virus hosts'] = df['Virus hosts'].progress_apply('; '.join)"
   ]
  },
  {
   "cell_type": "code",
   "execution_count": 88,
   "metadata": {},
   "outputs": [
    {
     "data": {
      "text/html": [
       "<div>\n",
       "<style scoped>\n",
       "    .dataframe tbody tr th:only-of-type {\n",
       "        vertical-align: middle;\n",
       "    }\n",
       "\n",
       "    .dataframe tbody tr th {\n",
       "        vertical-align: top;\n",
       "    }\n",
       "\n",
       "    .dataframe thead th {\n",
       "        text-align: right;\n",
       "    }\n",
       "</style>\n",
       "<table border=\"1\" class=\"dataframe\">\n",
       "  <thead>\n",
       "    <tr style=\"text-align: right;\">\n",
       "      <th></th>\n",
       "      <th>Species taxonomic ID</th>\n",
       "      <th>Virus hosts</th>\n",
       "      <th>Protein names</th>\n",
       "      <th>Species name</th>\n",
       "      <th>Species superkingdom</th>\n",
       "      <th>Species family</th>\n",
       "      <th>Infects human</th>\n",
       "    </tr>\n",
       "  </thead>\n",
       "  <tbody>\n",
       "    <tr>\n",
       "      <th>2083</th>\n",
       "      <td>1541887</td>\n",
       "      <td>Salmonella [TaxID: 590]; Salmonella enterica [...</td>\n",
       "      <td>Portal protein</td>\n",
       "      <td>Salmonella virus Chi</td>\n",
       "      <td>Viruses</td>\n",
       "      <td>Siphoviridae</td>\n",
       "      <td>human-false</td>\n",
       "    </tr>\n",
       "    <tr>\n",
       "      <th>2886</th>\n",
       "      <td>1982154</td>\n",
       "      <td>Arthrobacter sp. ATCC 21022 [TaxID: 1771959]</td>\n",
       "      <td>Portal protein</td>\n",
       "      <td>Arthrobacter virus Gordon</td>\n",
       "      <td>Viruses</td>\n",
       "      <td>Siphoviridae</td>\n",
       "      <td>human-false</td>\n",
       "    </tr>\n",
       "    <tr>\n",
       "      <th>4418</th>\n",
       "      <td>2733653</td>\n",
       "      <td>Pectobacterium carotovorum subsp. carotovorum ...</td>\n",
       "      <td>Portal protein (Head-to-tail connector); Inter...</td>\n",
       "      <td>Pectobacterium virus PP81</td>\n",
       "      <td>Viruses</td>\n",
       "      <td>Autographiviridae</td>\n",
       "      <td>human-false</td>\n",
       "    </tr>\n",
       "    <tr>\n",
       "      <th>3846</th>\n",
       "      <td>2560502</td>\n",
       "      <td>Gordonia terrae [TaxID: 2055]</td>\n",
       "      <td>Integrase</td>\n",
       "      <td>Gordonia virus Hedwig</td>\n",
       "      <td>Viruses</td>\n",
       "      <td>Siphoviridae</td>\n",
       "      <td>human-false</td>\n",
       "    </tr>\n",
       "  </tbody>\n",
       "</table>\n",
       "</div>"
      ],
      "text/plain": [
       "      Species taxonomic ID                                        Virus hosts  \\\n",
       "2083               1541887  Salmonella [TaxID: 590]; Salmonella enterica [...   \n",
       "2886               1982154       Arthrobacter sp. ATCC 21022 [TaxID: 1771959]   \n",
       "4418               2733653  Pectobacterium carotovorum subsp. carotovorum ...   \n",
       "3846               2560502                      Gordonia terrae [TaxID: 2055]   \n",
       "\n",
       "                                          Protein names  \\\n",
       "2083                                     Portal protein   \n",
       "2886                                     Portal protein   \n",
       "4418  Portal protein (Head-to-tail connector); Inter...   \n",
       "3846                                          Integrase   \n",
       "\n",
       "                   Species name Species superkingdom     Species family  \\\n",
       "2083       Salmonella virus Chi              Viruses       Siphoviridae   \n",
       "2886  Arthrobacter virus Gordon              Viruses       Siphoviridae   \n",
       "4418  Pectobacterium virus PP81              Viruses  Autographiviridae   \n",
       "3846      Gordonia virus Hedwig              Viruses       Siphoviridae   \n",
       "\n",
       "     Infects human  \n",
       "2083   human-false  \n",
       "2886   human-false  \n",
       "4418   human-false  \n",
       "3846   human-false  "
      ]
     },
     "execution_count": 88,
     "metadata": {},
     "output_type": "execute_result"
    }
   ],
   "source": [
    "df.sample(4)"
   ]
  },
  {
   "cell_type": "code",
   "execution_count": 89,
   "metadata": {},
   "outputs": [
    {
     "data": {
      "text/html": [
       "<div>\n",
       "<style scoped>\n",
       "    .dataframe tbody tr th:only-of-type {\n",
       "        vertical-align: middle;\n",
       "    }\n",
       "\n",
       "    .dataframe tbody tr th {\n",
       "        vertical-align: top;\n",
       "    }\n",
       "\n",
       "    .dataframe thead th {\n",
       "        text-align: right;\n",
       "    }\n",
       "</style>\n",
       "<table border=\"1\" class=\"dataframe\">\n",
       "  <thead>\n",
       "    <tr style=\"text-align: right;\">\n",
       "      <th></th>\n",
       "      <th>Species taxonomic ID</th>\n",
       "      <th>Virus hosts</th>\n",
       "      <th>Protein names</th>\n",
       "      <th>Species name</th>\n",
       "      <th>Species superkingdom</th>\n",
       "      <th>Species family</th>\n",
       "      <th>Infects human</th>\n",
       "    </tr>\n",
       "  </thead>\n",
       "  <tbody>\n",
       "    <tr>\n",
       "      <th>491</th>\n",
       "      <td>121791</td>\n",
       "      <td>Sus scrofa (Pig) [TaxID: 9823]; Cynopterus bra...</td>\n",
       "      <td>Fusion glycoprotein F1]; Fusion glycoprotein F...</td>\n",
       "      <td>Nipah henipavirus</td>\n",
       "      <td>Viruses</td>\n",
       "      <td>Paramyxoviridae</td>\n",
       "      <td>human-true</td>\n",
       "    </tr>\n",
       "    <tr>\n",
       "      <th>1891</th>\n",
       "      <td>1415628</td>\n",
       "      <td>Homo sapiens [TaxID: 9606]</td>\n",
       "      <td>CA1 (Capsid protein) (Coat protein)</td>\n",
       "      <td>Gyrovirus Tu789</td>\n",
       "      <td>Viruses</td>\n",
       "      <td>Anelloviridae</td>\n",
       "      <td>human-true</td>\n",
       "    </tr>\n",
       "    <tr>\n",
       "      <th>2741</th>\n",
       "      <td>1961678</td>\n",
       "      <td>Homo sapiens [TaxID: 9606]</td>\n",
       "      <td>Major capsid protein L1; Minor capsid protein L2</td>\n",
       "      <td>Gammapapillomavirus 21</td>\n",
       "      <td>Viruses</td>\n",
       "      <td>Papillomaviridae</td>\n",
       "      <td>human-true</td>\n",
       "    </tr>\n",
       "    <tr>\n",
       "      <th>177</th>\n",
       "      <td>11676</td>\n",
       "      <td>Homo sapiens (Human) [TaxID: 9606]</td>\n",
       "      <td>Gag polyprotein; Exoribonuclease H (EC 2.7.7.4...</td>\n",
       "      <td>Human immunodeficiency virus 1</td>\n",
       "      <td>Viruses</td>\n",
       "      <td>Retroviridae</td>\n",
       "      <td>human-true</td>\n",
       "    </tr>\n",
       "  </tbody>\n",
       "</table>\n",
       "</div>"
      ],
      "text/plain": [
       "      Species taxonomic ID                                        Virus hosts  \\\n",
       "491                 121791  Sus scrofa (Pig) [TaxID: 9823]; Cynopterus bra...   \n",
       "1891               1415628                         Homo sapiens [TaxID: 9606]   \n",
       "2741               1961678                         Homo sapiens [TaxID: 9606]   \n",
       "177                  11676                 Homo sapiens (Human) [TaxID: 9606]   \n",
       "\n",
       "                                          Protein names  \\\n",
       "491   Fusion glycoprotein F1]; Fusion glycoprotein F...   \n",
       "1891                CA1 (Capsid protein) (Coat protein)   \n",
       "2741   Major capsid protein L1; Minor capsid protein L2   \n",
       "177   Gag polyprotein; Exoribonuclease H (EC 2.7.7.4...   \n",
       "\n",
       "                        Species name Species superkingdom    Species family  \\\n",
       "491                Nipah henipavirus              Viruses   Paramyxoviridae   \n",
       "1891                 Gyrovirus Tu789              Viruses     Anelloviridae   \n",
       "2741          Gammapapillomavirus 21              Viruses  Papillomaviridae   \n",
       "177   Human immunodeficiency virus 1              Viruses      Retroviridae   \n",
       "\n",
       "     Infects human  \n",
       "491     human-true  \n",
       "1891    human-true  \n",
       "2741    human-true  \n",
       "177     human-true  "
      ]
     },
     "execution_count": 89,
     "metadata": {},
     "output_type": "execute_result"
    }
   ],
   "source": [
    "df[df['Infects human'] == 'human-true'].sample(4)"
   ]
  },
  {
   "cell_type": "markdown",
   "metadata": {},
   "source": [
    "<a id=\"host-name-consistency\"></a>"
   ]
  },
  {
   "cell_type": "code",
   "execution_count": 90,
   "metadata": {},
   "outputs": [],
   "source": [
    "# Ungrouping operation based on host\n",
    "# 1. Splits Virus host using based on ; separator\n",
    "# 2. Horizontally stack the data based on virus hosts\n",
    "df = (df.set_index(df.columns.drop('Virus hosts', 1).tolist())['Virus hosts'].str.split(';', expand=True)\n",
    "          .stack()\n",
    "          .reset_index()\n",
    "          .rename(columns={0:'Virus hosts'})\n",
    "          .loc[:, df.columns]\n",
    "         ).copy()"
   ]
  },
  {
   "cell_type": "code",
   "execution_count": 91,
   "metadata": {},
   "outputs": [
    {
     "data": {
      "text/plain": [
       "(7270, 7)"
      ]
     },
     "execution_count": 91,
     "metadata": {},
     "output_type": "execute_result"
    }
   ],
   "source": [
    "df.shape"
   ]
  },
  {
   "cell_type": "code",
   "execution_count": 92,
   "metadata": {},
   "outputs": [
    {
     "data": {
      "text/html": [
       "<div>\n",
       "<style scoped>\n",
       "    .dataframe tbody tr th:only-of-type {\n",
       "        vertical-align: middle;\n",
       "    }\n",
       "\n",
       "    .dataframe tbody tr th {\n",
       "        vertical-align: top;\n",
       "    }\n",
       "\n",
       "    .dataframe thead th {\n",
       "        text-align: right;\n",
       "    }\n",
       "</style>\n",
       "<table border=\"1\" class=\"dataframe\">\n",
       "  <thead>\n",
       "    <tr style=\"text-align: right;\">\n",
       "      <th></th>\n",
       "      <th>Species taxonomic ID</th>\n",
       "      <th>Virus hosts</th>\n",
       "      <th>Protein names</th>\n",
       "      <th>Species name</th>\n",
       "      <th>Species superkingdom</th>\n",
       "      <th>Species family</th>\n",
       "      <th>Infects human</th>\n",
       "    </tr>\n",
       "  </thead>\n",
       "  <tbody>\n",
       "    <tr>\n",
       "      <th>2197</th>\n",
       "      <td>722417</td>\n",
       "      <td>Campylobacter sp. [TaxID: 205]</td>\n",
       "      <td>Possible phage tail sheath protein</td>\n",
       "      <td>Campylobacter virus CP220</td>\n",
       "      <td>Viruses</td>\n",
       "      <td>Myoviridae</td>\n",
       "      <td>human-false</td>\n",
       "    </tr>\n",
       "    <tr>\n",
       "      <th>4237</th>\n",
       "      <td>1906673</td>\n",
       "      <td>Rhinolophus ferrumequinum [TaxID: 59479]</td>\n",
       "      <td>Spike glycoprotein; Spike glycoprotein (S glyc...</td>\n",
       "      <td>Alphacoronavirus sp.</td>\n",
       "      <td>Viruses</td>\n",
       "      <td>Coronaviridae</td>\n",
       "      <td>human-false</td>\n",
       "    </tr>\n",
       "    <tr>\n",
       "      <th>6670</th>\n",
       "      <td>2714896</td>\n",
       "      <td>Camelus [TaxID: 9836]</td>\n",
       "      <td>Major capsid protein L1; Minor capsid protein L2</td>\n",
       "      <td>Camelus dromedarius papillomavirus 3</td>\n",
       "      <td>Viruses</td>\n",
       "      <td>Papillomaviridae</td>\n",
       "      <td>human-false</td>\n",
       "    </tr>\n",
       "    <tr>\n",
       "      <th>3321</th>\n",
       "      <td>1437125</td>\n",
       "      <td>Rattus norvegicus [TaxID: 10116]</td>\n",
       "      <td>Glycoprotein G2 (GP2)]; Glycoprotein G1 (GP1);...</td>\n",
       "      <td>Cardamones virus</td>\n",
       "      <td>Viruses</td>\n",
       "      <td>Arenaviridae</td>\n",
       "      <td>human-true</td>\n",
       "    </tr>\n",
       "  </tbody>\n",
       "</table>\n",
       "</div>"
      ],
      "text/plain": [
       "      Species taxonomic ID                               Virus hosts  \\\n",
       "2197                722417            Campylobacter sp. [TaxID: 205]   \n",
       "4237               1906673  Rhinolophus ferrumequinum [TaxID: 59479]   \n",
       "6670               2714896                     Camelus [TaxID: 9836]   \n",
       "3321               1437125          Rattus norvegicus [TaxID: 10116]   \n",
       "\n",
       "                                          Protein names  \\\n",
       "2197                 Possible phage tail sheath protein   \n",
       "4237  Spike glycoprotein; Spike glycoprotein (S glyc...   \n",
       "6670   Major capsid protein L1; Minor capsid protein L2   \n",
       "3321  Glycoprotein G2 (GP2)]; Glycoprotein G1 (GP1);...   \n",
       "\n",
       "                              Species name Species superkingdom  \\\n",
       "2197             Campylobacter virus CP220              Viruses   \n",
       "4237                  Alphacoronavirus sp.              Viruses   \n",
       "6670  Camelus dromedarius papillomavirus 3              Viruses   \n",
       "3321                      Cardamones virus              Viruses   \n",
       "\n",
       "        Species family Infects human  \n",
       "2197        Myoviridae   human-false  \n",
       "4237     Coronaviridae   human-false  \n",
       "6670  Papillomaviridae   human-false  \n",
       "3321      Arenaviridae    human-true  "
      ]
     },
     "execution_count": 92,
     "metadata": {},
     "output_type": "execute_result"
    }
   ],
   "source": [
    "df.sample(4)"
   ]
  },
  {
   "cell_type": "code",
   "execution_count": 93,
   "metadata": {},
   "outputs": [
    {
     "data": {
      "text/html": [
       "<div>\n",
       "<style scoped>\n",
       "    .dataframe tbody tr th:only-of-type {\n",
       "        vertical-align: middle;\n",
       "    }\n",
       "\n",
       "    .dataframe tbody tr th {\n",
       "        vertical-align: top;\n",
       "    }\n",
       "\n",
       "    .dataframe thead th {\n",
       "        text-align: right;\n",
       "    }\n",
       "</style>\n",
       "<table border=\"1\" class=\"dataframe\">\n",
       "  <thead>\n",
       "    <tr style=\"text-align: right;\">\n",
       "      <th></th>\n",
       "      <th>Species taxonomic ID</th>\n",
       "      <th>Virus hosts</th>\n",
       "      <th>Protein names</th>\n",
       "      <th>Species name</th>\n",
       "      <th>Species superkingdom</th>\n",
       "      <th>Species family</th>\n",
       "      <th>Infects human</th>\n",
       "      <th>Virus hosts ID</th>\n",
       "    </tr>\n",
       "  </thead>\n",
       "  <tbody>\n",
       "    <tr>\n",
       "      <th>0</th>\n",
       "      <td>10243</td>\n",
       "      <td>Loxodonta africana (African elephant) [TaxID: ...</td>\n",
       "      <td>IMV membrane protein; Protein L5; CPXV098 prot...</td>\n",
       "      <td>Cowpox virus</td>\n",
       "      <td>Viruses</td>\n",
       "      <td>Poxviridae</td>\n",
       "      <td>human-true</td>\n",
       "      <td>9785]</td>\n",
       "    </tr>\n",
       "    <tr>\n",
       "      <th>1</th>\n",
       "      <td>10243</td>\n",
       "      <td>Microtus agrestis (Short-tailed field vole) [...</td>\n",
       "      <td>IMV membrane protein; Protein L5; CPXV098 prot...</td>\n",
       "      <td>Cowpox virus</td>\n",
       "      <td>Viruses</td>\n",
       "      <td>Poxviridae</td>\n",
       "      <td>human-true</td>\n",
       "      <td>29092]</td>\n",
       "    </tr>\n",
       "    <tr>\n",
       "      <th>2</th>\n",
       "      <td>10243</td>\n",
       "      <td>Myodes glareolus (Bank vole) (Clethrionomys g...</td>\n",
       "      <td>IMV membrane protein; Protein L5; CPXV098 prot...</td>\n",
       "      <td>Cowpox virus</td>\n",
       "      <td>Viruses</td>\n",
       "      <td>Poxviridae</td>\n",
       "      <td>human-true</td>\n",
       "      <td>447135]</td>\n",
       "    </tr>\n",
       "    <tr>\n",
       "      <th>3</th>\n",
       "      <td>10243</td>\n",
       "      <td>Felis catus (Cat) (Felis silvestris catus) [T...</td>\n",
       "      <td>IMV membrane protein; Protein L5; CPXV098 prot...</td>\n",
       "      <td>Cowpox virus</td>\n",
       "      <td>Viruses</td>\n",
       "      <td>Poxviridae</td>\n",
       "      <td>human-true</td>\n",
       "      <td>9685]</td>\n",
       "    </tr>\n",
       "    <tr>\n",
       "      <th>4</th>\n",
       "      <td>10243</td>\n",
       "      <td>Bos taurus (Bovine) [TaxID: 9913]</td>\n",
       "      <td>IMV membrane protein; Protein L5; CPXV098 prot...</td>\n",
       "      <td>Cowpox virus</td>\n",
       "      <td>Viruses</td>\n",
       "      <td>Poxviridae</td>\n",
       "      <td>human-true</td>\n",
       "      <td>9913]</td>\n",
       "    </tr>\n",
       "  </tbody>\n",
       "</table>\n",
       "</div>"
      ],
      "text/plain": [
       "   Species taxonomic ID                                        Virus hosts  \\\n",
       "0                 10243  Loxodonta africana (African elephant) [TaxID: ...   \n",
       "1                 10243   Microtus agrestis (Short-tailed field vole) [...   \n",
       "2                 10243   Myodes glareolus (Bank vole) (Clethrionomys g...   \n",
       "3                 10243   Felis catus (Cat) (Felis silvestris catus) [T...   \n",
       "4                 10243                  Bos taurus (Bovine) [TaxID: 9913]   \n",
       "\n",
       "                                       Protein names  Species name  \\\n",
       "0  IMV membrane protein; Protein L5; CPXV098 prot...  Cowpox virus   \n",
       "1  IMV membrane protein; Protein L5; CPXV098 prot...  Cowpox virus   \n",
       "2  IMV membrane protein; Protein L5; CPXV098 prot...  Cowpox virus   \n",
       "3  IMV membrane protein; Protein L5; CPXV098 prot...  Cowpox virus   \n",
       "4  IMV membrane protein; Protein L5; CPXV098 prot...  Cowpox virus   \n",
       "\n",
       "  Species superkingdom Species family Infects human Virus hosts ID  \n",
       "0              Viruses     Poxviridae    human-true          9785]  \n",
       "1              Viruses     Poxviridae    human-true         29092]  \n",
       "2              Viruses     Poxviridae    human-true        447135]  \n",
       "3              Viruses     Poxviridae    human-true          9685]  \n",
       "4              Viruses     Poxviridae    human-true          9913]  "
      ]
     },
     "execution_count": 93,
     "metadata": {},
     "output_type": "execute_result"
    }
   ],
   "source": [
    "df['Virus hosts ID'] = None\n",
    "idx_organism = df.columns.get_loc('Virus hosts')\n",
    "idx_host_id = df.columns.get_loc('Virus hosts ID')\n",
    "\n",
    "pattern = r'(\\d+)\\]'\n",
    "for row in range(len(df)):\n",
    "    host_id = re.search(pattern, df.iat[row, idx_organism]).group()\n",
    "    df.iat[row, idx_host_id] = host_id\n",
    "df.head()"
   ]
  },
  {
   "cell_type": "code",
   "execution_count": 94,
   "metadata": {},
   "outputs": [],
   "source": [
    "df['Virus hosts ID'] = df['Virus hosts ID'].str.strip('\\]')"
   ]
  },
  {
   "cell_type": "code",
   "execution_count": 95,
   "metadata": {},
   "outputs": [
    {
     "data": {
      "application/vnd.jupyter.widget-view+json": {
       "model_id": "ca0af7a70018428c85301352761d25ef",
       "version_major": 2,
       "version_minor": 0
      },
      "text/plain": [
       "Processing:   0%|          | 0/7270 [00:00<?, ?it/s]"
      ]
     },
     "metadata": {},
     "output_type": "display_data"
    },
    {
     "data": {
      "application/vnd.jupyter.widget-view+json": {
       "model_id": "7bdd74c6bb96403283c2ab797fe058eb",
       "version_major": 2,
       "version_minor": 0
      },
      "text/plain": [
       "Processing:   0%|          | 0/7270 [00:00<?, ?it/s]"
      ]
     },
     "metadata": {},
     "output_type": "display_data"
    },
    {
     "data": {
      "application/vnd.jupyter.widget-view+json": {
       "model_id": "5522ae304e8d4f9898fca225dc3ecd82",
       "version_major": 2,
       "version_minor": 0
      },
      "text/plain": [
       "Processing:   0%|          | 0/7270 [00:00<?, ?it/s]"
      ]
     },
     "metadata": {},
     "output_type": "display_data"
    },
    {
     "data": {
      "application/vnd.jupyter.widget-view+json": {
       "model_id": "0ffcee0d40b24a29b1c8dfa2a165423d",
       "version_major": 2,
       "version_minor": 0
      },
      "text/plain": [
       "Processing:   0%|          | 0/7270 [00:00<?, ?it/s]"
      ]
     },
     "metadata": {},
     "output_type": "display_data"
    },
    {
     "data": {
      "application/vnd.jupyter.widget-view+json": {
       "model_id": "80f32cc923eb4ea3bdc9553519850989",
       "version_major": 2,
       "version_minor": 0
      },
      "text/plain": [
       "Processing:   0%|          | 0/7270 [00:00<?, ?it/s]"
      ]
     },
     "metadata": {},
     "output_type": "display_data"
    }
   ],
   "source": [
    "df['Virus hosts ID'] = df['Virus hosts ID'].progress_apply(int)\n",
    "\n",
    "df['Virus hosts ID'] = df['Virus hosts ID'].progress_apply(getRankID, rank='species')\n",
    "df['Virus host name'] = df['Virus hosts ID'].progress_apply(getRankName, rank='species')\n",
    "df['Host superkingdom'] = df['Virus hosts ID'].progress_apply(getRankName, rank='superkingdom')\n",
    "df['Host kingdom'] = df['Virus hosts ID'].progress_apply(getRankName, rank='kingdom')"
   ]
  },
  {
   "cell_type": "code",
   "execution_count": 96,
   "metadata": {},
   "outputs": [
    {
     "data": {
      "text/html": [
       "<div>\n",
       "<style scoped>\n",
       "    .dataframe tbody tr th:only-of-type {\n",
       "        vertical-align: middle;\n",
       "    }\n",
       "\n",
       "    .dataframe tbody tr th {\n",
       "        vertical-align: top;\n",
       "    }\n",
       "\n",
       "    .dataframe thead th {\n",
       "        text-align: right;\n",
       "    }\n",
       "</style>\n",
       "<table border=\"1\" class=\"dataframe\">\n",
       "  <thead>\n",
       "    <tr style=\"text-align: right;\">\n",
       "      <th></th>\n",
       "      <th>Species taxonomic ID</th>\n",
       "      <th>Virus hosts</th>\n",
       "      <th>Protein names</th>\n",
       "      <th>Species name</th>\n",
       "      <th>Species superkingdom</th>\n",
       "      <th>Species family</th>\n",
       "      <th>Infects human</th>\n",
       "      <th>Virus hosts ID</th>\n",
       "      <th>Virus host name</th>\n",
       "      <th>Host superkingdom</th>\n",
       "      <th>Host kingdom</th>\n",
       "    </tr>\n",
       "  </thead>\n",
       "  <tbody>\n",
       "  </tbody>\n",
       "</table>\n",
       "</div>"
      ],
      "text/plain": [
       "Empty DataFrame\n",
       "Columns: [Species taxonomic ID, Virus hosts, Protein names, Species name, Species superkingdom, Species family, Infects human, Virus hosts ID, Virus host name, Host superkingdom, Host kingdom]\n",
       "Index: []"
      ]
     },
     "execution_count": 96,
     "metadata": {},
     "output_type": "execute_result"
    }
   ],
   "source": [
    "df[df['Virus hosts ID'].isna()]"
   ]
  },
  {
   "cell_type": "code",
   "execution_count": 97,
   "metadata": {},
   "outputs": [
    {
     "data": {
      "text/plain": [
       "274"
      ]
     },
     "execution_count": 97,
     "metadata": {},
     "output_type": "execute_result"
    }
   ],
   "source": [
    "df['Virus hosts ID'][1866]"
   ]
  },
  {
   "cell_type": "code",
   "execution_count": 98,
   "metadata": {},
   "outputs": [
    {
     "data": {
      "application/vnd.jupyter.widget-view+json": {
       "model_id": "93bc5d1ba50a4000ae7b3feb6aded9ee",
       "version_major": 2,
       "version_minor": 0
      },
      "text/plain": [
       "Processing:   0%|          | 0/7270 [00:00<?, ?it/s]"
      ]
     },
     "metadata": {},
     "output_type": "display_data"
    }
   ],
   "source": [
    "df['Virus hosts ID'] = df['Virus hosts ID'].progress_apply(int)"
   ]
  },
  {
   "cell_type": "code",
   "execution_count": 99,
   "metadata": {},
   "outputs": [],
   "source": [
    "df['Virus hosts'] = (df.drop('Virus hosts', axis=1)\n",
    "                     .apply(lambda x: nameMerger(x['Virus host name'], x['Virus hosts ID']), axis=1))"
   ]
  },
  {
   "cell_type": "code",
   "execution_count": 100,
   "metadata": {
    "tags": []
   },
   "outputs": [
    {
     "data": {
      "text/html": [
       "<div>\n",
       "<style scoped>\n",
       "    .dataframe tbody tr th:only-of-type {\n",
       "        vertical-align: middle;\n",
       "    }\n",
       "\n",
       "    .dataframe tbody tr th {\n",
       "        vertical-align: top;\n",
       "    }\n",
       "\n",
       "    .dataframe thead th {\n",
       "        text-align: right;\n",
       "    }\n",
       "</style>\n",
       "<table border=\"1\" class=\"dataframe\">\n",
       "  <thead>\n",
       "    <tr style=\"text-align: right;\">\n",
       "      <th></th>\n",
       "      <th>Species taxonomic ID</th>\n",
       "      <th>Virus hosts</th>\n",
       "      <th>Protein names</th>\n",
       "      <th>Species name</th>\n",
       "      <th>Species superkingdom</th>\n",
       "      <th>Species family</th>\n",
       "      <th>Infects human</th>\n",
       "      <th>Virus hosts ID</th>\n",
       "      <th>Virus host name</th>\n",
       "      <th>Host superkingdom</th>\n",
       "      <th>Host kingdom</th>\n",
       "    </tr>\n",
       "  </thead>\n",
       "  <tbody>\n",
       "    <tr>\n",
       "      <th>3170</th>\n",
       "      <td>1329650</td>\n",
       "      <td>Eptesicus serotinus [TaxID: 59452]</td>\n",
       "      <td>Capsid protein</td>\n",
       "      <td>Bat circovirus</td>\n",
       "      <td>Viruses</td>\n",
       "      <td>Circoviridae</td>\n",
       "      <td>human-false</td>\n",
       "      <td>59452</td>\n",
       "      <td>Eptesicus serotinus</td>\n",
       "      <td>Eukaryota</td>\n",
       "      <td>Metazoa</td>\n",
       "    </tr>\n",
       "    <tr>\n",
       "      <th>1556</th>\n",
       "      <td>232380</td>\n",
       "      <td>Solanum lycopersicum [TaxID: 4081]</td>\n",
       "      <td>Capsid protein (Coat protein)</td>\n",
       "      <td>Tomato yellow leaf curl Axarquia virus</td>\n",
       "      <td>Viruses</td>\n",
       "      <td>Geminiviridae</td>\n",
       "      <td>human-false</td>\n",
       "      <td>4081</td>\n",
       "      <td>Solanum lycopersicum</td>\n",
       "      <td>Eukaryota</td>\n",
       "      <td>Viridiplantae</td>\n",
       "    </tr>\n",
       "    <tr>\n",
       "      <th>1955</th>\n",
       "      <td>505220</td>\n",
       "      <td>Sus scrofa [TaxID: 9823]</td>\n",
       "      <td>Hemagglutinin-neuraminidase (EC 3.2.1.18)</td>\n",
       "      <td>Swine parainfluenza virus 3</td>\n",
       "      <td>Viruses</td>\n",
       "      <td>Paramyxoviridae</td>\n",
       "      <td>human-false</td>\n",
       "      <td>9823</td>\n",
       "      <td>Sus scrofa</td>\n",
       "      <td>Eukaryota</td>\n",
       "      <td>Metazoa</td>\n",
       "    </tr>\n",
       "    <tr>\n",
       "      <th>6226</th>\n",
       "      <td>2560499</td>\n",
       "      <td>Gordonia terrae [TaxID: 2055]</td>\n",
       "      <td>Portal protein</td>\n",
       "      <td>Gordonia virus Ghobes</td>\n",
       "      <td>Viruses</td>\n",
       "      <td>Siphoviridae</td>\n",
       "      <td>human-false</td>\n",
       "      <td>2055</td>\n",
       "      <td>Gordonia terrae</td>\n",
       "      <td>Bacteria</td>\n",
       "      <td>Gordonia terrae</td>\n",
       "    </tr>\n",
       "  </tbody>\n",
       "</table>\n",
       "</div>"
      ],
      "text/plain": [
       "      Species taxonomic ID                         Virus hosts  \\\n",
       "3170               1329650  Eptesicus serotinus [TaxID: 59452]   \n",
       "1556                232380  Solanum lycopersicum [TaxID: 4081]   \n",
       "1955                505220            Sus scrofa [TaxID: 9823]   \n",
       "6226               2560499       Gordonia terrae [TaxID: 2055]   \n",
       "\n",
       "                                  Protein names  \\\n",
       "3170                             Capsid protein   \n",
       "1556              Capsid protein (Coat protein)   \n",
       "1955  Hemagglutinin-neuraminidase (EC 3.2.1.18)   \n",
       "6226                             Portal protein   \n",
       "\n",
       "                                Species name Species superkingdom  \\\n",
       "3170                          Bat circovirus              Viruses   \n",
       "1556  Tomato yellow leaf curl Axarquia virus              Viruses   \n",
       "1955             Swine parainfluenza virus 3              Viruses   \n",
       "6226                   Gordonia virus Ghobes              Viruses   \n",
       "\n",
       "       Species family Infects human  Virus hosts ID       Virus host name  \\\n",
       "3170     Circoviridae   human-false           59452   Eptesicus serotinus   \n",
       "1556    Geminiviridae   human-false            4081  Solanum lycopersicum   \n",
       "1955  Paramyxoviridae   human-false            9823            Sus scrofa   \n",
       "6226     Siphoviridae   human-false            2055       Gordonia terrae   \n",
       "\n",
       "     Host superkingdom     Host kingdom  \n",
       "3170         Eukaryota          Metazoa  \n",
       "1556         Eukaryota    Viridiplantae  \n",
       "1955         Eukaryota          Metazoa  \n",
       "6226          Bacteria  Gordonia terrae  "
      ]
     },
     "execution_count": 100,
     "metadata": {},
     "output_type": "execute_result"
    }
   ],
   "source": [
    "df.sample(4)"
   ]
  },
  {
   "cell_type": "code",
   "execution_count": 101,
   "metadata": {},
   "outputs": [
    {
     "data": {
      "text/plain": [
       "(7270, 11)"
      ]
     },
     "execution_count": 101,
     "metadata": {},
     "output_type": "execute_result"
    }
   ],
   "source": [
    "df.shape"
   ]
  },
  {
   "cell_type": "code",
   "execution_count": 102,
   "metadata": {},
   "outputs": [],
   "source": [
    "# Ungroup based on protein names\n",
    "df = (df.set_index(df.columns.drop('Protein names',1).tolist())['Protein names'].str.split(';', expand=True)\n",
    "          .stack()\n",
    "          .reset_index()\n",
    "          .rename(columns={0:'Protein names'})\n",
    "          .loc[:, df.columns]\n",
    "         ).copy()"
   ]
  },
  {
   "cell_type": "code",
   "execution_count": 103,
   "metadata": {},
   "outputs": [
    {
     "data": {
      "text/plain": [
       "(0, 11)"
      ]
     },
     "execution_count": 103,
     "metadata": {},
     "output_type": "execute_result"
    }
   ],
   "source": [
    "df[df['Host superkingdom'].isnull()].shape"
   ]
  },
  {
   "cell_type": "code",
   "execution_count": 104,
   "metadata": {},
   "outputs": [
    {
     "data": {
      "text/plain": [
       "array(['Eukaryota', 'Bacteria', 'Viruses', 'root', 'Archaea'],\n",
       "      dtype=object)"
      ]
     },
     "execution_count": 104,
     "metadata": {},
     "output_type": "execute_result"
    }
   ],
   "source": [
    "df['Host superkingdom'].unique()"
   ]
  },
  {
   "cell_type": "code",
   "execution_count": 105,
   "metadata": {},
   "outputs": [
    {
     "data": {
      "text/plain": [
       "(18376, 11)"
      ]
     },
     "execution_count": 105,
     "metadata": {},
     "output_type": "execute_result"
    }
   ],
   "source": [
    "df[df['Host superkingdom'] == 'Eukaryota'].shape"
   ]
  },
  {
   "cell_type": "code",
   "execution_count": 106,
   "metadata": {},
   "outputs": [
    {
     "data": {
      "text/plain": [
       "(4, 11)"
      ]
     },
     "execution_count": 106,
     "metadata": {},
     "output_type": "execute_result"
    }
   ],
   "source": [
    "df[df['Host superkingdom'] == 'Viruses'].shape"
   ]
  },
  {
   "cell_type": "code",
   "execution_count": 107,
   "metadata": {},
   "outputs": [
    {
     "data": {
      "text/plain": [
       "(4099, 11)"
      ]
     },
     "execution_count": 107,
     "metadata": {},
     "output_type": "execute_result"
    }
   ],
   "source": [
    "df[df['Host superkingdom'] == 'Bacteria'].shape"
   ]
  },
  {
   "cell_type": "code",
   "execution_count": 108,
   "metadata": {},
   "outputs": [
    {
     "data": {
      "text/plain": [
       "(38, 11)"
      ]
     },
     "execution_count": 108,
     "metadata": {},
     "output_type": "execute_result"
    }
   ],
   "source": [
    "df[df['Host superkingdom'] == 'root'].shape"
   ]
  },
  {
   "cell_type": "code",
   "execution_count": 109,
   "metadata": {},
   "outputs": [
    {
     "data": {
      "text/plain": [
       "(14, 11)"
      ]
     },
     "execution_count": 109,
     "metadata": {},
     "output_type": "execute_result"
    }
   ],
   "source": [
    "df[df['Host superkingdom'] == 'Archaea'].shape"
   ]
  },
  {
   "cell_type": "code",
   "execution_count": 110,
   "metadata": {},
   "outputs": [
    {
     "name": "stdout",
     "output_type": "stream",
     "text": [
      "(17312, 11)\n"
     ]
    },
    {
     "data": {
      "text/html": [
       "<div>\n",
       "<style scoped>\n",
       "    .dataframe tbody tr th:only-of-type {\n",
       "        vertical-align: middle;\n",
       "    }\n",
       "\n",
       "    .dataframe tbody tr th {\n",
       "        vertical-align: top;\n",
       "    }\n",
       "\n",
       "    .dataframe thead th {\n",
       "        text-align: right;\n",
       "    }\n",
       "</style>\n",
       "<table border=\"1\" class=\"dataframe\">\n",
       "  <thead>\n",
       "    <tr style=\"text-align: right;\">\n",
       "      <th></th>\n",
       "      <th>Species taxonomic ID</th>\n",
       "      <th>Virus hosts</th>\n",
       "      <th>Protein names</th>\n",
       "      <th>Species name</th>\n",
       "      <th>Species superkingdom</th>\n",
       "      <th>Species family</th>\n",
       "      <th>Infects human</th>\n",
       "      <th>Virus hosts ID</th>\n",
       "      <th>Virus host name</th>\n",
       "      <th>Host superkingdom</th>\n",
       "      <th>Host kingdom</th>\n",
       "    </tr>\n",
       "  </thead>\n",
       "  <tbody>\n",
       "    <tr>\n",
       "      <th>193</th>\n",
       "      <td>10243</td>\n",
       "      <td>Mus musculus [TaxID: 10090]</td>\n",
       "      <td>CPXV098 protein (Myristylprotein) (Myristylpr...</td>\n",
       "      <td>Cowpox virus</td>\n",
       "      <td>Viruses</td>\n",
       "      <td>Poxviridae</td>\n",
       "      <td>human-true</td>\n",
       "      <td>10090</td>\n",
       "      <td>Mus musculus</td>\n",
       "      <td>Eukaryota</td>\n",
       "      <td>Metazoa</td>\n",
       "    </tr>\n",
       "    <tr>\n",
       "      <th>10761</th>\n",
       "      <td>394239</td>\n",
       "      <td>Phascolarctos cinereus [TaxID: 38626]</td>\n",
       "      <td>R-peptide (p2E)]</td>\n",
       "      <td>Koala retrovirus</td>\n",
       "      <td>Viruses</td>\n",
       "      <td>Retroviridae</td>\n",
       "      <td>human-false</td>\n",
       "      <td>38626</td>\n",
       "      <td>Phascolarctos cinereus</td>\n",
       "      <td>Eukaryota</td>\n",
       "      <td>Metazoa</td>\n",
       "    </tr>\n",
       "    <tr>\n",
       "      <th>5308</th>\n",
       "      <td>12110</td>\n",
       "      <td>Ovis aries [TaxID: 9940]</td>\n",
       "      <td>Genome polyprotein [Cleaved into: Leader prot...</td>\n",
       "      <td>Foot-and-mouth disease virus</td>\n",
       "      <td>Viruses</td>\n",
       "      <td>Picornaviridae</td>\n",
       "      <td>human-false</td>\n",
       "      <td>9940</td>\n",
       "      <td>Ovis aries</td>\n",
       "      <td>Eukaryota</td>\n",
       "      <td>Metazoa</td>\n",
       "    </tr>\n",
       "  </tbody>\n",
       "</table>\n",
       "</div>"
      ],
      "text/plain": [
       "       Species taxonomic ID                            Virus hosts  \\\n",
       "193                   10243            Mus musculus [TaxID: 10090]   \n",
       "10761                394239  Phascolarctos cinereus [TaxID: 38626]   \n",
       "5308                  12110               Ovis aries [TaxID: 9940]   \n",
       "\n",
       "                                           Protein names  \\\n",
       "193     CPXV098 protein (Myristylprotein) (Myristylpr...   \n",
       "10761                                   R-peptide (p2E)]   \n",
       "5308    Genome polyprotein [Cleaved into: Leader prot...   \n",
       "\n",
       "                       Species name Species superkingdom  Species family  \\\n",
       "193                    Cowpox virus              Viruses      Poxviridae   \n",
       "10761              Koala retrovirus              Viruses    Retroviridae   \n",
       "5308   Foot-and-mouth disease virus              Viruses  Picornaviridae   \n",
       "\n",
       "      Infects human  Virus hosts ID         Virus host name Host superkingdom  \\\n",
       "193      human-true           10090            Mus musculus         Eukaryota   \n",
       "10761   human-false           38626  Phascolarctos cinereus         Eukaryota   \n",
       "5308    human-false            9940              Ovis aries         Eukaryota   \n",
       "\n",
       "      Host kingdom  \n",
       "193        Metazoa  \n",
       "10761      Metazoa  \n",
       "5308       Metazoa  "
      ]
     },
     "execution_count": 110,
     "metadata": {},
     "output_type": "execute_result"
    }
   ],
   "source": [
    "print(df[df['Host kingdom'] == 'Metazoa'].shape)\n",
    "df[df['Host kingdom'] == 'Metazoa'].sample(3)"
   ]
  },
  {
   "cell_type": "code",
   "execution_count": 111,
   "metadata": {},
   "outputs": [
    {
     "data": {
      "text/plain": [
       "(8457, 11)"
      ]
     },
     "execution_count": 111,
     "metadata": {},
     "output_type": "execute_result"
    }
   ],
   "source": [
    "df[df['Infects human'] == 'human-true'].shape"
   ]
  },
  {
   "cell_type": "code",
   "execution_count": 112,
   "metadata": {},
   "outputs": [
    {
     "data": {
      "text/plain": [
       "(14074, 11)"
      ]
     },
     "execution_count": 112,
     "metadata": {},
     "output_type": "execute_result"
    }
   ],
   "source": [
    "df[df['Infects human'] == 'human-false'].shape"
   ]
  },
  {
   "cell_type": "code",
   "execution_count": 113,
   "metadata": {},
   "outputs": [
    {
     "data": {
      "text/html": [
       "<div>\n",
       "<style scoped>\n",
       "    .dataframe tbody tr th:only-of-type {\n",
       "        vertical-align: middle;\n",
       "    }\n",
       "\n",
       "    .dataframe tbody tr th {\n",
       "        vertical-align: top;\n",
       "    }\n",
       "\n",
       "    .dataframe thead th {\n",
       "        text-align: right;\n",
       "    }\n",
       "</style>\n",
       "<table border=\"1\" class=\"dataframe\">\n",
       "  <thead>\n",
       "    <tr style=\"text-align: right;\">\n",
       "      <th></th>\n",
       "      <th>Species taxonomic ID</th>\n",
       "      <th>Virus hosts</th>\n",
       "      <th>Protein names</th>\n",
       "      <th>Species name</th>\n",
       "      <th>Species superkingdom</th>\n",
       "      <th>Species family</th>\n",
       "      <th>Infects human</th>\n",
       "      <th>Virus hosts ID</th>\n",
       "      <th>Virus host name</th>\n",
       "      <th>Host superkingdom</th>\n",
       "      <th>Host kingdom</th>\n",
       "    </tr>\n",
       "  </thead>\n",
       "  <tbody>\n",
       "    <tr>\n",
       "      <th>10502</th>\n",
       "      <td>340907</td>\n",
       "      <td>Macaca leonina [TaxID: 90387]</td>\n",
       "      <td>Envelope glycoprotein B (gB)</td>\n",
       "      <td>Papiine alphaherpesvirus 2</td>\n",
       "      <td>Viruses</td>\n",
       "      <td>Herpesviridae</td>\n",
       "      <td>human-true</td>\n",
       "      <td>90387</td>\n",
       "      <td>Macaca leonina</td>\n",
       "      <td>Eukaryota</td>\n",
       "      <td>Metazoa</td>\n",
       "    </tr>\n",
       "    <tr>\n",
       "      <th>21267</th>\n",
       "      <td>2591233</td>\n",
       "      <td>Rhinolophus [TaxID: 49442]</td>\n",
       "      <td>Spike protein S2</td>\n",
       "      <td>Coronavirus BtRl-BetaCoV/SC2018</td>\n",
       "      <td>Viruses</td>\n",
       "      <td>Coronaviridae</td>\n",
       "      <td>human-false</td>\n",
       "      <td>49442</td>\n",
       "      <td>Rhinolophus</td>\n",
       "      <td>Eukaryota</td>\n",
       "      <td>Metazoa</td>\n",
       "    </tr>\n",
       "  </tbody>\n",
       "</table>\n",
       "</div>"
      ],
      "text/plain": [
       "       Species taxonomic ID                    Virus hosts  \\\n",
       "10502                340907  Macaca leonina [TaxID: 90387]   \n",
       "21267               2591233     Rhinolophus [TaxID: 49442]   \n",
       "\n",
       "                       Protein names                     Species name  \\\n",
       "10502   Envelope glycoprotein B (gB)       Papiine alphaherpesvirus 2   \n",
       "21267               Spike protein S2  Coronavirus BtRl-BetaCoV/SC2018   \n",
       "\n",
       "      Species superkingdom Species family Infects human  Virus hosts ID  \\\n",
       "10502              Viruses  Herpesviridae    human-true           90387   \n",
       "21267              Viruses  Coronaviridae   human-false           49442   \n",
       "\n",
       "      Virus host name Host superkingdom Host kingdom  \n",
       "10502  Macaca leonina         Eukaryota      Metazoa  \n",
       "21267     Rhinolophus         Eukaryota      Metazoa  "
      ]
     },
     "execution_count": 113,
     "metadata": {},
     "output_type": "execute_result"
    }
   ],
   "source": [
    "df.sample(2)"
   ]
  },
  {
   "cell_type": "code",
   "execution_count": 114,
   "metadata": {},
   "outputs": [
    {
     "data": {
      "text/html": [
       "<div>\n",
       "<style scoped>\n",
       "    .dataframe tbody tr th:only-of-type {\n",
       "        vertical-align: middle;\n",
       "    }\n",
       "\n",
       "    .dataframe tbody tr th {\n",
       "        vertical-align: top;\n",
       "    }\n",
       "\n",
       "    .dataframe thead th {\n",
       "        text-align: right;\n",
       "    }\n",
       "</style>\n",
       "<table border=\"1\" class=\"dataframe\">\n",
       "  <thead>\n",
       "    <tr style=\"text-align: right;\">\n",
       "      <th></th>\n",
       "      <th>Species taxonomic ID</th>\n",
       "      <th>Virus hosts</th>\n",
       "      <th>Protein names</th>\n",
       "      <th>Species name</th>\n",
       "      <th>Species superkingdom</th>\n",
       "      <th>Species family</th>\n",
       "      <th>Infects human</th>\n",
       "      <th>Virus hosts ID</th>\n",
       "      <th>Virus host name</th>\n",
       "      <th>Host superkingdom</th>\n",
       "      <th>Host kingdom</th>\n",
       "    </tr>\n",
       "  </thead>\n",
       "  <tbody>\n",
       "    <tr>\n",
       "      <th>7170</th>\n",
       "      <td>44024</td>\n",
       "      <td>Culex annulirostris [TaxID: 162997]</td>\n",
       "      <td>Small envelope protein M (Matrix protein)</td>\n",
       "      <td>Kokobera virus</td>\n",
       "      <td>Viruses</td>\n",
       "      <td>Flaviviridae</td>\n",
       "      <td>human-true</td>\n",
       "      <td>162997</td>\n",
       "      <td>Culex annulirostris</td>\n",
       "      <td>Eukaryota</td>\n",
       "      <td>Metazoa</td>\n",
       "    </tr>\n",
       "    <tr>\n",
       "      <th>2115</th>\n",
       "      <td>11020</td>\n",
       "      <td>Homo sapiens [TaxID: 9606]</td>\n",
       "      <td>Spike glycoprotein E2 (E2 envelope glycoprotein)</td>\n",
       "      <td>Barmah Forest virus</td>\n",
       "      <td>Viruses</td>\n",
       "      <td>Togaviridae</td>\n",
       "      <td>human-true</td>\n",
       "      <td>9606</td>\n",
       "      <td>Homo sapiens</td>\n",
       "      <td>Eukaryota</td>\n",
       "      <td>Metazoa</td>\n",
       "    </tr>\n",
       "  </tbody>\n",
       "</table>\n",
       "</div>"
      ],
      "text/plain": [
       "      Species taxonomic ID                          Virus hosts  \\\n",
       "7170                 44024  Culex annulirostris [TaxID: 162997]   \n",
       "2115                 11020           Homo sapiens [TaxID: 9606]   \n",
       "\n",
       "                                          Protein names         Species name  \\\n",
       "7170          Small envelope protein M (Matrix protein)       Kokobera virus   \n",
       "2115   Spike glycoprotein E2 (E2 envelope glycoprotein)  Barmah Forest virus   \n",
       "\n",
       "     Species superkingdom Species family Infects human  Virus hosts ID  \\\n",
       "7170              Viruses   Flaviviridae    human-true          162997   \n",
       "2115              Viruses    Togaviridae    human-true            9606   \n",
       "\n",
       "          Virus host name Host superkingdom Host kingdom  \n",
       "7170  Culex annulirostris         Eukaryota      Metazoa  \n",
       "2115         Homo sapiens         Eukaryota      Metazoa  "
      ]
     },
     "execution_count": 114,
     "metadata": {},
     "output_type": "execute_result"
    }
   ],
   "source": [
    "df.sample(2)"
   ]
  },
  {
   "cell_type": "markdown",
   "metadata": {},
   "source": [
    "<a id=\"issue\"></a>"
   ]
  },
  {
   "cell_type": "code",
   "execution_count": 115,
   "metadata": {},
   "outputs": [
    {
     "name": "stdout",
     "output_type": "stream",
     "text": [
      "Species taxonomic ID 4766\n",
      "Virus hosts 1765\n",
      "Protein names 2068\n",
      "Species name 4766\n",
      "Species superkingdom 1\n",
      "Species family 80\n",
      "Infects human 2\n",
      "Virus hosts ID 1765\n",
      "Virus host name 1756\n",
      "Host superkingdom 5\n",
      "Host kingdom 344\n",
      "Dataframe total 22531\n"
     ]
    }
   ],
   "source": [
    "###### Absolutely no idea why Virus host name != Virus hosts\n",
    "for column in df.columns:\n",
    "    print(column, df[column].nunique())\n",
    "print('Dataframe total',len(df))"
   ]
  },
  {
   "cell_type": "code",
   "execution_count": 116,
   "metadata": {},
   "outputs": [
    {
     "data": {
      "text/html": [
       "<div>\n",
       "<style scoped>\n",
       "    .dataframe tbody tr th:only-of-type {\n",
       "        vertical-align: middle;\n",
       "    }\n",
       "\n",
       "    .dataframe tbody tr th {\n",
       "        vertical-align: top;\n",
       "    }\n",
       "\n",
       "    .dataframe thead th {\n",
       "        text-align: right;\n",
       "    }\n",
       "</style>\n",
       "<table border=\"1\" class=\"dataframe\">\n",
       "  <thead>\n",
       "    <tr style=\"text-align: right;\">\n",
       "      <th></th>\n",
       "      <th>Species taxonomic ID</th>\n",
       "      <th>Virus hosts</th>\n",
       "      <th>Protein names</th>\n",
       "      <th>Species name</th>\n",
       "      <th>Species superkingdom</th>\n",
       "      <th>Species family</th>\n",
       "      <th>Infects human</th>\n",
       "      <th>Virus hosts ID</th>\n",
       "      <th>Virus host name</th>\n",
       "      <th>Host superkingdom</th>\n",
       "      <th>Host kingdom</th>\n",
       "    </tr>\n",
       "  </thead>\n",
       "  <tbody>\n",
       "    <tr>\n",
       "      <th>391</th>\n",
       "      <td>10243</td>\n",
       "      <td>Mus musculus [TaxID: 10090]</td>\n",
       "      <td>Carbonic anhydrase homolog (Cell surface-bind...</td>\n",
       "      <td>Cowpox virus</td>\n",
       "      <td>Viruses</td>\n",
       "      <td>Poxviridae</td>\n",
       "      <td>human-true</td>\n",
       "      <td>10090</td>\n",
       "      <td>Mus musculus</td>\n",
       "      <td>Eukaryota</td>\n",
       "      <td>Metazoa</td>\n",
       "    </tr>\n",
       "    <tr>\n",
       "      <th>13358</th>\n",
       "      <td>1300978</td>\n",
       "      <td>Rhinolophus pusillus [TaxID: 159858]</td>\n",
       "      <td>Attachment glycoprotein</td>\n",
       "      <td>Bat paramyxovirus</td>\n",
       "      <td>Viruses</td>\n",
       "      <td>Paramyxoviridae</td>\n",
       "      <td>human-false</td>\n",
       "      <td>159858</td>\n",
       "      <td>Rhinolophus pusillus</td>\n",
       "      <td>Eukaryota</td>\n",
       "      <td>Metazoa</td>\n",
       "    </tr>\n",
       "  </tbody>\n",
       "</table>\n",
       "</div>"
      ],
      "text/plain": [
       "       Species taxonomic ID                           Virus hosts  \\\n",
       "391                   10243           Mus musculus [TaxID: 10090]   \n",
       "13358               1300978  Rhinolophus pusillus [TaxID: 159858]   \n",
       "\n",
       "                                           Protein names       Species name  \\\n",
       "391     Carbonic anhydrase homolog (Cell surface-bind...       Cowpox virus   \n",
       "13358                            Attachment glycoprotein  Bat paramyxovirus   \n",
       "\n",
       "      Species superkingdom   Species family Infects human  Virus hosts ID  \\\n",
       "391                Viruses       Poxviridae    human-true           10090   \n",
       "13358              Viruses  Paramyxoviridae   human-false          159858   \n",
       "\n",
       "            Virus host name Host superkingdom Host kingdom  \n",
       "391            Mus musculus         Eukaryota      Metazoa  \n",
       "13358  Rhinolophus pusillus         Eukaryota      Metazoa  "
      ]
     },
     "execution_count": 116,
     "metadata": {},
     "output_type": "execute_result"
    }
   ],
   "source": [
    "df.sample(2)"
   ]
  },
  {
   "cell_type": "markdown",
   "metadata": {},
   "source": [
    "## Restructuring the data"
   ]
  },
  {
   "cell_type": "code",
   "execution_count": 117,
   "metadata": {},
   "outputs": [
    {
     "data": {
      "text/html": [
       "<div>\n",
       "<style scoped>\n",
       "    .dataframe tbody tr th:only-of-type {\n",
       "        vertical-align: middle;\n",
       "    }\n",
       "\n",
       "    .dataframe tbody tr th {\n",
       "        vertical-align: top;\n",
       "    }\n",
       "\n",
       "    .dataframe thead th {\n",
       "        text-align: right;\n",
       "    }\n",
       "</style>\n",
       "<table border=\"1\" class=\"dataframe\">\n",
       "  <thead>\n",
       "    <tr style=\"text-align: right;\">\n",
       "      <th></th>\n",
       "      <th>Entry</th>\n",
       "      <th>Species taxonomic ID</th>\n",
       "    </tr>\n",
       "  </thead>\n",
       "  <tbody>\n",
       "    <tr>\n",
       "      <th>131564</th>\n",
       "      <td>A0A4D6TZ07</td>\n",
       "      <td>11320.0</td>\n",
       "    </tr>\n",
       "    <tr>\n",
       "      <th>161504</th>\n",
       "      <td>A0A075EUR5</td>\n",
       "      <td>11320.0</td>\n",
       "    </tr>\n",
       "  </tbody>\n",
       "</table>\n",
       "</div>"
      ],
      "text/plain": [
       "             Entry  Species taxonomic ID\n",
       "131564  A0A4D6TZ07               11320.0\n",
       "161504  A0A075EUR5               11320.0"
      ]
     },
     "execution_count": 117,
     "metadata": {},
     "output_type": "execute_result"
    }
   ],
   "source": [
    "# Earlier saved data\n",
    "dff.sample(2)"
   ]
  },
  {
   "cell_type": "code",
   "execution_count": 118,
   "metadata": {},
   "outputs": [
    {
     "data": {
      "text/plain": [
       "(358333, 2)"
      ]
     },
     "execution_count": 118,
     "metadata": {},
     "output_type": "execute_result"
    }
   ],
   "source": [
    "dff.shape"
   ]
  },
  {
   "cell_type": "code",
   "execution_count": 119,
   "metadata": {},
   "outputs": [],
   "source": [
    "## Load sequences\n",
    "# Using custom IO instead of Bio.SeqIO because it was much easier to customise\n",
    "# Not as efficient but still light on resources"
   ]
  },
  {
   "cell_type": "markdown",
   "metadata": {},
   "source": [
    "<a id='fasta'></a>"
   ]
  },
  {
   "cell_type": "code",
   "execution_count": 120,
   "metadata": {},
   "outputs": [],
   "source": [
    "fastaFileName = '../data/uniprot-keyword Virus+entry+into+host+cell+[KW-1160] +fragment no.fasta'\n",
    "\n",
    "entry_seq = read_fasta(fastaFileName) # read_fasta in zoonosis_helper_functions.py"
   ]
  },
  {
   "cell_type": "code",
   "execution_count": 121,
   "metadata": {
    "scrolled": true,
    "tags": []
   },
   "outputs": [],
   "source": [
    "dff.sort_values(by='Entry', inplace=True)\n",
    "\n",
    "seq_object_list = [seq_obj for entry, seq_obj in entry_seq]\n",
    "\n",
    "dff['Sequence'] = seq_object_list"
   ]
  },
  {
   "cell_type": "code",
   "execution_count": 122,
   "metadata": {},
   "outputs": [
    {
     "data": {
      "text/html": [
       "<div>\n",
       "<style scoped>\n",
       "    .dataframe tbody tr th:only-of-type {\n",
       "        vertical-align: middle;\n",
       "    }\n",
       "\n",
       "    .dataframe tbody tr th {\n",
       "        vertical-align: top;\n",
       "    }\n",
       "\n",
       "    .dataframe thead th {\n",
       "        text-align: right;\n",
       "    }\n",
       "</style>\n",
       "<table border=\"1\" class=\"dataframe\">\n",
       "  <thead>\n",
       "    <tr style=\"text-align: right;\">\n",
       "      <th></th>\n",
       "      <th>Entry</th>\n",
       "      <th>Species taxonomic ID</th>\n",
       "      <th>Sequence</th>\n",
       "    </tr>\n",
       "  </thead>\n",
       "  <tbody>\n",
       "    <tr>\n",
       "      <th>50368</th>\n",
       "      <td>A0A009FEK4</td>\n",
       "      <td>470.0</td>\n",
       "      <td>&lt;zoonosis_helper_functions.FASTASeq object at ...</td>\n",
       "    </tr>\n",
       "    <tr>\n",
       "      <th>156673</th>\n",
       "      <td>A0A009G3H3</td>\n",
       "      <td>1310609.0</td>\n",
       "      <td>&lt;zoonosis_helper_functions.FASTASeq object at ...</td>\n",
       "    </tr>\n",
       "    <tr>\n",
       "      <th>146717</th>\n",
       "      <td>A0A009GC36</td>\n",
       "      <td>470.0</td>\n",
       "      <td>&lt;zoonosis_helper_functions.FASTASeq object at ...</td>\n",
       "    </tr>\n",
       "    <tr>\n",
       "      <th>146730</th>\n",
       "      <td>A0A009GCG0</td>\n",
       "      <td>470.0</td>\n",
       "      <td>&lt;zoonosis_helper_functions.FASTASeq object at ...</td>\n",
       "    </tr>\n",
       "    <tr>\n",
       "      <th>144753</th>\n",
       "      <td>A0A009GXT7</td>\n",
       "      <td>1310609.0</td>\n",
       "      <td>&lt;zoonosis_helper_functions.FASTASeq object at ...</td>\n",
       "    </tr>\n",
       "  </tbody>\n",
       "</table>\n",
       "</div>"
      ],
      "text/plain": [
       "             Entry  Species taxonomic ID  \\\n",
       "50368   A0A009FEK4                 470.0   \n",
       "156673  A0A009G3H3             1310609.0   \n",
       "146717  A0A009GC36                 470.0   \n",
       "146730  A0A009GCG0                 470.0   \n",
       "144753  A0A009GXT7             1310609.0   \n",
       "\n",
       "                                                 Sequence  \n",
       "50368   <zoonosis_helper_functions.FASTASeq object at ...  \n",
       "156673  <zoonosis_helper_functions.FASTASeq object at ...  \n",
       "146717  <zoonosis_helper_functions.FASTASeq object at ...  \n",
       "146730  <zoonosis_helper_functions.FASTASeq object at ...  \n",
       "144753  <zoonosis_helper_functions.FASTASeq object at ...  "
      ]
     },
     "execution_count": 122,
     "metadata": {},
     "output_type": "execute_result"
    }
   ],
   "source": [
    "dff.head()"
   ]
  },
  {
   "cell_type": "code",
   "execution_count": 123,
   "metadata": {},
   "outputs": [],
   "source": [
    "df.drop(['Virus host name', 'Protein names', 'Species superkingdom'], axis=1, inplace=True)"
   ]
  },
  {
   "cell_type": "code",
   "execution_count": 124,
   "metadata": {},
   "outputs": [],
   "source": [
    "df = df.merge(dff, on='Species taxonomic ID', how='left')"
   ]
  },
  {
   "cell_type": "code",
   "execution_count": 125,
   "metadata": {},
   "outputs": [],
   "source": [
    "del dff, df2"
   ]
  },
  {
   "cell_type": "code",
   "execution_count": 126,
   "metadata": {},
   "outputs": [
    {
     "data": {
      "text/plain": [
       "(48728179, 10)"
      ]
     },
     "execution_count": 126,
     "metadata": {},
     "output_type": "execute_result"
    }
   ],
   "source": [
    "df.shape"
   ]
  },
  {
   "cell_type": "code",
   "execution_count": 127,
   "metadata": {},
   "outputs": [],
   "source": [
    "df.drop_duplicates(inplace=True)"
   ]
  },
  {
   "cell_type": "code",
   "execution_count": 128,
   "metadata": {},
   "outputs": [
    {
     "data": {
      "text/plain": [
       "(2277584, 10)"
      ]
     },
     "execution_count": 128,
     "metadata": {},
     "output_type": "execute_result"
    }
   ],
   "source": [
    "df.shape"
   ]
  },
  {
   "cell_type": "code",
   "execution_count": 129,
   "metadata": {},
   "outputs": [],
   "source": [
    "df['Virus hosts ID'] = df['Virus hosts ID'].apply(str)"
   ]
  },
  {
   "cell_type": "code",
   "execution_count": 130,
   "metadata": {},
   "outputs": [
    {
     "data": {
      "application/vnd.jupyter.widget-view+json": {
       "model_id": "035d674f478940b69539c745620ab4e4",
       "version_major": 2,
       "version_minor": 0
      },
      "text/plain": [
       "Pandas Apply:   0%|          | 0/2221212 [00:00<?, ?it/s]"
      ]
     },
     "metadata": {},
     "output_type": "display_data"
    }
   ],
   "source": [
    "# Group by Entry and aggregate using set function to avoid duplication\n",
    "df = (df.groupby('Entry', as_index=False)\n",
    "       .agg({'Virus hosts':set, #'Protein':set, \n",
    "             'Infects human':set, 'Species name':set,\n",
    "             'Host superkingdom':set,\n",
    "             'Host kingdom':set,\n",
    "             'Virus hosts ID':set,\n",
    "             'Species family':set,\n",
    "             'Species taxonomic ID':'first',\n",
    "             'Sequence': 'first'})) \n",
    "\n",
    "df.iloc[:, 1:-2] = df.iloc[:, 1:-2].swifter.applymap('; '.join)"
   ]
  },
  {
   "cell_type": "code",
   "execution_count": 131,
   "metadata": {
    "scrolled": true
   },
   "outputs": [
    {
     "data": {
      "text/plain": [
       "(317316, 10)"
      ]
     },
     "execution_count": 131,
     "metadata": {},
     "output_type": "execute_result"
    }
   ],
   "source": [
    "df.shape"
   ]
  },
  {
   "cell_type": "code",
   "execution_count": 132,
   "metadata": {
    "scrolled": true,
    "tags": []
   },
   "outputs": [
    {
     "data": {
      "application/vnd.jupyter.widget-view+json": {
       "model_id": "3f7d282781e7440ab8a8f8509b1529e4",
       "version_major": 2,
       "version_minor": 0
      },
      "text/plain": [
       "Pandas Apply:   0%|          | 0/317316 [00:00<?, ?it/s]"
      ]
     },
     "metadata": {},
     "output_type": "display_data"
    }
   ],
   "source": [
    "# Get additional sequence info from the dataset\n",
    "df['Sequence'] = df.progress_apply(lambda x: getSequenceFeatures(\n",
    "    seqObj=x['Sequence'], entry=x['Entry'],\n",
    "    organism=x['Species name'], status=x['Infects human']), axis=1)"
   ]
  },
  {
   "cell_type": "markdown",
   "metadata": {},
   "source": [
    "<a id=\"protein-names-from-sequence\"></a>"
   ]
  },
  {
   "cell_type": "code",
   "execution_count": 133,
   "metadata": {},
   "outputs": [],
   "source": [
    "df['Protein'] = df['Sequence'].apply(lambda x: x.protein_name)"
   ]
  },
  {
   "cell_type": "code",
   "execution_count": 134,
   "metadata": {},
   "outputs": [
    {
     "data": {
      "text/html": [
       "<div>\n",
       "<style scoped>\n",
       "    .dataframe tbody tr th:only-of-type {\n",
       "        vertical-align: middle;\n",
       "    }\n",
       "\n",
       "    .dataframe tbody tr th {\n",
       "        vertical-align: top;\n",
       "    }\n",
       "\n",
       "    .dataframe thead th {\n",
       "        text-align: right;\n",
       "    }\n",
       "</style>\n",
       "<table border=\"1\" class=\"dataframe\">\n",
       "  <thead>\n",
       "    <tr style=\"text-align: right;\">\n",
       "      <th></th>\n",
       "      <th>Entry</th>\n",
       "      <th>Virus hosts</th>\n",
       "      <th>Infects human</th>\n",
       "      <th>Species name</th>\n",
       "      <th>Host superkingdom</th>\n",
       "      <th>Host kingdom</th>\n",
       "      <th>Virus hosts ID</th>\n",
       "      <th>Species family</th>\n",
       "      <th>Species taxonomic ID</th>\n",
       "      <th>Sequence</th>\n",
       "      <th>Protein</th>\n",
       "    </tr>\n",
       "  </thead>\n",
       "  <tbody>\n",
       "    <tr>\n",
       "      <th>49997</th>\n",
       "      <td>A0A140EVM3</td>\n",
       "      <td>Homo sapiens [TaxID: 9606]</td>\n",
       "      <td>human-true</td>\n",
       "      <td>Influenza B virus</td>\n",
       "      <td>Eukaryota</td>\n",
       "      <td>Metazoa</td>\n",
       "      <td>9606</td>\n",
       "      <td>Orthomyxoviridae</td>\n",
       "      <td>11520</td>\n",
       "      <td>&lt;zoonosis_helper_functions.FASTASeq object at ...</td>\n",
       "      <td>Hemagglutinin</td>\n",
       "    </tr>\n",
       "    <tr>\n",
       "      <th>20466</th>\n",
       "      <td>A0A0C5AGA5</td>\n",
       "      <td>Cetacea [TaxID: 9721]; Sturnira lilium [TaxID:...</td>\n",
       "      <td>human-true</td>\n",
       "      <td>Influenza A virus</td>\n",
       "      <td>Eukaryota</td>\n",
       "      <td>Metazoa</td>\n",
       "      <td>9796; 9823; 9721; 9606; 9691; 9666; 9685; 9709...</td>\n",
       "      <td>Orthomyxoviridae</td>\n",
       "      <td>11320</td>\n",
       "      <td>&lt;zoonosis_helper_functions.FASTASeq object at ...</td>\n",
       "      <td>Nucleoprotein</td>\n",
       "    </tr>\n",
       "    <tr>\n",
       "      <th>41301</th>\n",
       "      <td>A0A0S3MR50</td>\n",
       "      <td>Sus scrofa [TaxID: 9823]</td>\n",
       "      <td>human-false</td>\n",
       "      <td>Porcine epidemic diarrhea virus</td>\n",
       "      <td>Eukaryota</td>\n",
       "      <td>Metazoa</td>\n",
       "      <td>9823</td>\n",
       "      <td>Coronaviridae</td>\n",
       "      <td>28295</td>\n",
       "      <td>&lt;zoonosis_helper_functions.FASTASeq object at ...</td>\n",
       "      <td>Spike glycoprotein</td>\n",
       "    </tr>\n",
       "  </tbody>\n",
       "</table>\n",
       "</div>"
      ],
      "text/plain": [
       "            Entry                                        Virus hosts  \\\n",
       "49997  A0A140EVM3                         Homo sapiens [TaxID: 9606]   \n",
       "20466  A0A0C5AGA5  Cetacea [TaxID: 9721]; Sturnira lilium [TaxID:...   \n",
       "41301  A0A0S3MR50                           Sus scrofa [TaxID: 9823]   \n",
       "\n",
       "      Infects human                     Species name Host superkingdom  \\\n",
       "49997    human-true                Influenza B virus         Eukaryota   \n",
       "20466    human-true                Influenza A virus         Eukaryota   \n",
       "41301   human-false  Porcine epidemic diarrhea virus         Eukaryota   \n",
       "\n",
       "      Host kingdom                                     Virus hosts ID  \\\n",
       "49997      Metazoa                                               9606   \n",
       "20466      Metazoa  9796; 9823; 9721; 9606; 9691; 9666; 9685; 9709...   \n",
       "41301      Metazoa                                               9823   \n",
       "\n",
       "         Species family  Species taxonomic ID  \\\n",
       "49997  Orthomyxoviridae                 11520   \n",
       "20466  Orthomyxoviridae                 11320   \n",
       "41301     Coronaviridae                 28295   \n",
       "\n",
       "                                                Sequence             Protein  \n",
       "49997  <zoonosis_helper_functions.FASTASeq object at ...       Hemagglutinin  \n",
       "20466  <zoonosis_helper_functions.FASTASeq object at ...       Nucleoprotein  \n",
       "41301  <zoonosis_helper_functions.FASTASeq object at ...  Spike glycoprotein  "
      ]
     },
     "execution_count": 134,
     "metadata": {},
     "output_type": "execute_result"
    }
   ],
   "source": [
    "df.sample(3)"
   ]
  },
  {
   "cell_type": "code",
   "execution_count": 135,
   "metadata": {},
   "outputs": [
    {
     "data": {
      "text/plain": [
       "(278789, 11)"
      ]
     },
     "execution_count": 135,
     "metadata": {},
     "output_type": "execute_result"
    }
   ],
   "source": [
    "df[df['Infects human'] == 'human-true'].shape"
   ]
  },
  {
   "cell_type": "code",
   "execution_count": 136,
   "metadata": {},
   "outputs": [
    {
     "data": {
      "text/plain": [
       "(38527, 11)"
      ]
     },
     "execution_count": 136,
     "metadata": {},
     "output_type": "execute_result"
    }
   ],
   "source": [
    "df[df['Infects human'] == 'human-false'].shape"
   ]
  },
  {
   "cell_type": "code",
   "execution_count": 137,
   "metadata": {},
   "outputs": [
    {
     "data": {
      "text/html": [
       "<div>\n",
       "<style scoped>\n",
       "    .dataframe tbody tr th:only-of-type {\n",
       "        vertical-align: middle;\n",
       "    }\n",
       "\n",
       "    .dataframe tbody tr th {\n",
       "        vertical-align: top;\n",
       "    }\n",
       "\n",
       "    .dataframe thead th {\n",
       "        text-align: right;\n",
       "    }\n",
       "</style>\n",
       "<table border=\"1\" class=\"dataframe\">\n",
       "  <thead>\n",
       "    <tr style=\"text-align: right;\">\n",
       "      <th></th>\n",
       "      <th>Species</th>\n",
       "      <th>Molecule type</th>\n",
       "      <th>Species taxonomic ID</th>\n",
       "      <th>Host name</th>\n",
       "    </tr>\n",
       "  </thead>\n",
       "  <tbody>\n",
       "    <tr>\n",
       "      <th>0</th>\n",
       "      <td>Epsilonarterivirus zamalb</td>\n",
       "      <td>ssRNA(+)</td>\n",
       "      <td>2501966</td>\n",
       "      <td>Chlorocebus [TaxID: 392815]</td>\n",
       "    </tr>\n",
       "    <tr>\n",
       "      <th>1</th>\n",
       "      <td>Rodent arterivirus</td>\n",
       "      <td>ssRNA(+)</td>\n",
       "      <td>1806636</td>\n",
       "      <td>Eothenomys inez [TaxID: 870526]</td>\n",
       "    </tr>\n",
       "    <tr>\n",
       "      <th>2</th>\n",
       "      <td>Wencheng Sm shrew coronavirus</td>\n",
       "      <td>ssRNA(+)</td>\n",
       "      <td>1508228</td>\n",
       "      <td>Suncus murinus [TaxID: 9378]</td>\n",
       "    </tr>\n",
       "    <tr>\n",
       "      <th>3</th>\n",
       "      <td>Bat coronavirus</td>\n",
       "      <td>ssRNA(+)</td>\n",
       "      <td>1508220</td>\n",
       "      <td>Eidolon helvum [TaxID: 77214]</td>\n",
       "    </tr>\n",
       "    <tr>\n",
       "      <th>4</th>\n",
       "      <td>NL63-related bat coronavirus strain BtKYNL63-9b</td>\n",
       "      <td>ssRNA(+)</td>\n",
       "      <td>2501929</td>\n",
       "      <td>Triaenops afer [TaxID: 549403]</td>\n",
       "    </tr>\n",
       "  </tbody>\n",
       "</table>\n",
       "</div>"
      ],
      "text/plain": [
       "                                           Species Molecule type  \\\n",
       "0                        Epsilonarterivirus zamalb      ssRNA(+)   \n",
       "1                               Rodent arterivirus      ssRNA(+)   \n",
       "2                    Wencheng Sm shrew coronavirus      ssRNA(+)   \n",
       "3                                  Bat coronavirus      ssRNA(+)   \n",
       "4  NL63-related bat coronavirus strain BtKYNL63-9b      ssRNA(+)   \n",
       "\n",
       "   Species taxonomic ID                        Host name  \n",
       "0               2501966      Chlorocebus [TaxID: 392815]  \n",
       "1               1806636  Eothenomys inez [TaxID: 870526]  \n",
       "2               1508228     Suncus murinus [TaxID: 9378]  \n",
       "3               1508220    Eidolon helvum [TaxID: 77214]  \n",
       "4               2501929   Triaenops afer [TaxID: 549403]  "
      ]
     },
     "execution_count": 137,
     "metadata": {},
     "output_type": "execute_result"
    }
   ],
   "source": [
    "# Sequences loaded earlier from NCBI Virus ###Add Molecule type\n",
    "dfff.rename({'Species ID': 'Species taxonomic ID', 'Molecule_type': 'Molecule type'}, axis=1, inplace=True)\n",
    "dfff.head()"
   ]
  },
  {
   "cell_type": "code",
   "execution_count": 138,
   "metadata": {},
   "outputs": [],
   "source": [
    "df['Species taxonomic ID'] = df['Species taxonomic ID'].apply(int)"
   ]
  },
  {
   "cell_type": "code",
   "execution_count": 139,
   "metadata": {},
   "outputs": [],
   "source": [
    "df = df.merge(dfff[['Species taxonomic ID', 'Molecule type']], how='left', on='Species taxonomic ID')"
   ]
  },
  {
   "cell_type": "code",
   "execution_count": 140,
   "metadata": {},
   "outputs": [
    {
     "data": {
      "text/plain": [
       "(8551317, 12)"
      ]
     },
     "execution_count": 140,
     "metadata": {},
     "output_type": "execute_result"
    }
   ],
   "source": [
    "df.shape"
   ]
  },
  {
   "cell_type": "code",
   "execution_count": 141,
   "metadata": {},
   "outputs": [],
   "source": [
    "df.drop_duplicates(inplace=True)"
   ]
  },
  {
   "cell_type": "code",
   "execution_count": 142,
   "metadata": {},
   "outputs": [
    {
     "data": {
      "text/plain": [
       "(317316, 12)"
      ]
     },
     "execution_count": 142,
     "metadata": {},
     "output_type": "execute_result"
    }
   ],
   "source": [
    "df.shape"
   ]
  },
  {
   "cell_type": "code",
   "execution_count": 143,
   "metadata": {},
   "outputs": [],
   "source": [
    "del dfff"
   ]
  },
  {
   "cell_type": "markdown",
   "metadata": {},
   "source": [
    "## Reorganise dataframe"
   ]
  },
  {
   "cell_type": "code",
   "execution_count": 144,
   "metadata": {},
   "outputs": [],
   "source": [
    "df = df[['Entry', 'Protein', 'Species name', \n",
    "         'Species taxonomic ID', 'Species family', 'Virus hosts',\n",
    "         'Virus hosts ID', 'Host kingdom', \n",
    "         'Host superkingdom', 'Molecule type', 'Infects human', 'Sequence']]"
   ]
  },
  {
   "cell_type": "code",
   "execution_count": 145,
   "metadata": {},
   "outputs": [
    {
     "data": {
      "text/html": [
       "<div>\n",
       "<style scoped>\n",
       "    .dataframe tbody tr th:only-of-type {\n",
       "        vertical-align: middle;\n",
       "    }\n",
       "\n",
       "    .dataframe tbody tr th {\n",
       "        vertical-align: top;\n",
       "    }\n",
       "\n",
       "    .dataframe thead th {\n",
       "        text-align: right;\n",
       "    }\n",
       "</style>\n",
       "<table border=\"1\" class=\"dataframe\">\n",
       "  <thead>\n",
       "    <tr style=\"text-align: right;\">\n",
       "      <th></th>\n",
       "      <th>Entry</th>\n",
       "      <th>Protein</th>\n",
       "      <th>Species name</th>\n",
       "      <th>Species taxonomic ID</th>\n",
       "      <th>Species family</th>\n",
       "      <th>Virus hosts</th>\n",
       "      <th>Virus hosts ID</th>\n",
       "      <th>Host kingdom</th>\n",
       "      <th>Host superkingdom</th>\n",
       "      <th>Molecule type</th>\n",
       "      <th>Infects human</th>\n",
       "      <th>Sequence</th>\n",
       "    </tr>\n",
       "  </thead>\n",
       "  <tbody>\n",
       "    <tr>\n",
       "      <th>526183</th>\n",
       "      <td>A0A0A7R6V6</td>\n",
       "      <td>Large envelope protein</td>\n",
       "      <td>Hepatitis B virus</td>\n",
       "      <td>10407</td>\n",
       "      <td>Hepadnaviridae</td>\n",
       "      <td>Gorilla gorilla [TaxID: 9593]; Hylobatidae [Ta...</td>\n",
       "      <td>9600; 9598; 9577; 9606; 9593</td>\n",
       "      <td>Metazoa</td>\n",
       "      <td>Eukaryota</td>\n",
       "      <td>dsDNA-RT</td>\n",
       "      <td>human-true</td>\n",
       "      <td>&lt;zoonosis_helper_functions.FASTASeq object at ...</td>\n",
       "    </tr>\n",
       "    <tr>\n",
       "      <th>2256996</th>\n",
       "      <td>A0A1L6YZF4</td>\n",
       "      <td>Nucleoprotein</td>\n",
       "      <td>Influenza B virus</td>\n",
       "      <td>11520</td>\n",
       "      <td>Orthomyxoviridae</td>\n",
       "      <td>Homo sapiens [TaxID: 9606]</td>\n",
       "      <td>9606</td>\n",
       "      <td>Metazoa</td>\n",
       "      <td>Eukaryota</td>\n",
       "      <td>ssRNA(-)</td>\n",
       "      <td>human-true</td>\n",
       "      <td>&lt;zoonosis_helper_functions.FASTASeq object at ...</td>\n",
       "    </tr>\n",
       "    <tr>\n",
       "      <th>3270072</th>\n",
       "      <td>A0A2I7A3J3</td>\n",
       "      <td>Hemagglutinin</td>\n",
       "      <td>Influenza A virus</td>\n",
       "      <td>11320</td>\n",
       "      <td>Orthomyxoviridae</td>\n",
       "      <td>Cetacea [TaxID: 9721]; Sturnira lilium [TaxID:...</td>\n",
       "      <td>9796; 9823; 9721; 9606; 9691; 9666; 9685; 9709...</td>\n",
       "      <td>Metazoa</td>\n",
       "      <td>Eukaryota</td>\n",
       "      <td>ssRNA(-)</td>\n",
       "      <td>human-true</td>\n",
       "      <td>&lt;zoonosis_helper_functions.FASTASeq object at ...</td>\n",
       "    </tr>\n",
       "  </tbody>\n",
       "</table>\n",
       "</div>"
      ],
      "text/plain": [
       "              Entry                 Protein       Species name  \\\n",
       "526183   A0A0A7R6V6  Large envelope protein  Hepatitis B virus   \n",
       "2256996  A0A1L6YZF4           Nucleoprotein  Influenza B virus   \n",
       "3270072  A0A2I7A3J3           Hemagglutinin  Influenza A virus   \n",
       "\n",
       "         Species taxonomic ID    Species family  \\\n",
       "526183                  10407    Hepadnaviridae   \n",
       "2256996                 11520  Orthomyxoviridae   \n",
       "3270072                 11320  Orthomyxoviridae   \n",
       "\n",
       "                                               Virus hosts  \\\n",
       "526183   Gorilla gorilla [TaxID: 9593]; Hylobatidae [Ta...   \n",
       "2256996                         Homo sapiens [TaxID: 9606]   \n",
       "3270072  Cetacea [TaxID: 9721]; Sturnira lilium [TaxID:...   \n",
       "\n",
       "                                            Virus hosts ID Host kingdom  \\\n",
       "526183                        9600; 9598; 9577; 9606; 9593      Metazoa   \n",
       "2256996                                               9606      Metazoa   \n",
       "3270072  9796; 9823; 9721; 9606; 9691; 9666; 9685; 9709...      Metazoa   \n",
       "\n",
       "        Host superkingdom Molecule type Infects human  \\\n",
       "526183          Eukaryota      dsDNA-RT    human-true   \n",
       "2256996         Eukaryota      ssRNA(-)    human-true   \n",
       "3270072         Eukaryota      ssRNA(-)    human-true   \n",
       "\n",
       "                                                  Sequence  \n",
       "526183   <zoonosis_helper_functions.FASTASeq object at ...  \n",
       "2256996  <zoonosis_helper_functions.FASTASeq object at ...  \n",
       "3270072  <zoonosis_helper_functions.FASTASeq object at ...  "
      ]
     },
     "execution_count": 145,
     "metadata": {},
     "output_type": "execute_result"
    }
   ],
   "source": [
    "df.sample(3)"
   ]
  },
  {
   "cell_type": "markdown",
   "metadata": {},
   "source": [
    "## Split Dataframe to multiple datasets"
   ]
  },
  {
   "cell_type": "code",
   "execution_count": 146,
   "metadata": {},
   "outputs": [
    {
     "data": {
      "text/plain": [
       "array(['Eukaryota', 'Bacteria', 'root', 'Archaea', 'Viruses',\n",
       "       'root; Eukaryota'], dtype=object)"
      ]
     },
     "execution_count": 146,
     "metadata": {},
     "output_type": "execute_result"
    }
   ],
   "source": [
    "df['Host superkingdom'].unique()"
   ]
  },
  {
   "cell_type": "code",
   "execution_count": 147,
   "metadata": {
    "scrolled": true,
    "tags": []
   },
   "outputs": [
    {
     "data": {
      "text/plain": [
       "array(['Metazoa', 'Viridiplantae', 'Lactococcus lactis',\n",
       "       'Escherichia coli', 'Serratia marcescens',\n",
       "       'Mycolicibacterium smegmatis', 'Bacillus thuringiensis',\n",
       "       'Trichormus variabilis', 'Listeria monocytogenes',\n",
       "       'Pseudomonas syringae', 'Metazoa; Viridiplantae',\n",
       "       'Cronobacter sakazakii', 'Staphylococcus epidermidis',\n",
       "       'Enterococcus faecium', 'root', 'Caulobacter vibrioides',\n",
       "       'Vibrio alginolyticus', 'Staphylococcus aureus', 'Bacillus cereus',\n",
       "       'Ralstonia solanacearum', 'Klebsiella pneumoniae',\n",
       "       'Staphylococcus aureus; Staphylococcus xylosus',\n",
       "       'Acinetobacter baumannii', 'Dickeya sp.',\n",
       "       'Lactobacillus delbrueckii', 'Salmonella', 'Bacillus pumilus',\n",
       "       'Citrobacter; Citrobacter freundii', 'Mycobacterium',\n",
       "       'Rhizobium leguminosarum', 'Mesorhizobium loti',\n",
       "       'Shigella flexneri', 'Yersinia enterocolitica',\n",
       "       'Idiomarinaceae bacterium N2-2', 'Sulfitobacter sp. CB2047',\n",
       "       'Lelliottia sp. GL2', 'Clostridioides difficile', 'Clostridium',\n",
       "       'Synechococcus sp. CB0101', 'Synechococcus sp. CB0208',\n",
       "       'Enterococcus faecalis', 'Lactococcus sp.; Lactococcus',\n",
       "       'Shigella sonnei', 'Ruegeria pomeroyi', 'Pectobacterium',\n",
       "       'Streptomyces lividans', 'Priestia megaterium',\n",
       "       'Salmonella enterica', 'Citrobacter freundii', 'Erwinia amylovora',\n",
       "       'Streptococcus pneumoniae',\n",
       "       'Pseudomonas putida; Pseudomonas fluorescens',\n",
       "       'Burkholderia pseudomallei', 'Pseudomonas aeruginosa',\n",
       "       'Enterobacter cloacae', 'Proteus mirabilis', 'Vibrio cholerae',\n",
       "       'Arthrobacter sp.', 'Limosilactobacillus fermentum',\n",
       "       'Clostridium tetani', 'Paenibacillus larvae',\n",
       "       'Edwardsiella ictaluri', 'Prochlorococcus marinus',\n",
       "       'Staphylococcus sp.', 'Acinetobacter sp.',\n",
       "       'Staphylococcus haemolyticus', 'Synechococcus',\n",
       "       'Synechococcus; Synechococcus sp. WH 7803',\n",
       "       'Synechococcus sp. WH 7803', 'Gordonia sputi',\n",
       "       'Sinorhizobium meliloti', 'Delftia sp. 670', 'Geobacillus',\n",
       "       'Pectobacterium atrosepticum', 'Pseudoalteromonas sp. Bq0',\n",
       "       'Brucella sp.; Brucella abortus', 'Erysipelothrix rhusiopathiae',\n",
       "       'Pseudomonas sp. 1-1-1b', 'Prochlorococcus; Prochlorococcus sp.',\n",
       "       'Streptococcus mutans', 'Gordonia malaquae',\n",
       "       'Gordonia rubripertincta', 'Escherichia', 'Klebsiella',\n",
       "       'Brevibacillus laterosporus',\n",
       "       'Bacillus cereus; Bacillus thuringiensis; Bacillus anthracis',\n",
       "       'Klebsiella aerogenes', 'Achromobacter xylosoxidans',\n",
       "       'Cronobacter', 'Mannheimia haemolytica', 'Citrobacter sp.',\n",
       "       'Arthrobacter sp. ATCC 21022', 'Caulobacter sp.',\n",
       "       'Bacillus cereus; Bacillus thuringiensis', 'Dickeya solani',\n",
       "       'Alkalihalobacillus alcalophilus', 'Lacticaseibacillus paracasei',\n",
       "       'Pectobacterium carotovorum', 'Citrobacter sp. TM1552',\n",
       "       'Cellulophaga baltica', 'Staphylococcus', 'Paracoccus sp.',\n",
       "       'Bacillus halmapalus', 'Ralstonia', 'Xanthomonas arboricola',\n",
       "       'Bacillus paralicheniformis', 'Synechococcus sp.',\n",
       "       'Pseudomonas putida', 'Brucella inopinata',\n",
       "       'Bacillus sp. (in: Bacteria)', 'Bacillus subtilis',\n",
       "       'Gordonia terrae', 'Bacillariophyta', 'Tsukamurella paurometabola',\n",
       "       'Klebsiella oxytoca', 'Gordonia terrae; Gordonia',\n",
       "       'Gordonia neofelifaecis', 'Pseudomonas', 'Gordonia alkanivorans',\n",
       "       'Lactococcus garvieae', 'Propionibacterium freudenreichii',\n",
       "       'Erwinia', 'Morganella sp. (in: Bacteria)', 'Enterobacter sp. CT7',\n",
       "       'Campylobacter jejuni', 'Lacticaseibacillus casei', 'Citrobacter',\n",
       "       'Alphaproteobacteria', 'Bacillus', 'Pseudomonas sp.',\n",
       "       'Levilactobacillus brevis', 'Bacillus cereus; Bacillus anthracis',\n",
       "       'Rhodococcus erythropolis', 'Streptomyces azureus', 'Shigella sp.',\n",
       "       'Vibrio splendidus', 'Pectobacterium wasabiae',\n",
       "       'Serratia rubidaea', 'Aeribacillus pallidus',\n",
       "       'Thermus thermophilus', 'Aquamicrobium sp. H14',\n",
       "       'Pseudoalteromonas sp.', 'Salmonella enterica; Salmonella',\n",
       "       'Burkholderia cenocepacia', 'Aeromonas hydrophila',\n",
       "       'Lactiplantibacillus plantarum', 'Providencia sp.',\n",
       "       'Marinomonas mediterranea', 'Aeromonas sp.',\n",
       "       'Pseudomonas fluorescens group', 'Pasteurella multocida',\n",
       "       'Serratia sp. ATCC 39006', 'Acidovorax citrulli',\n",
       "       'Erwinia tracheiphila', 'Dickeya fangzhongdai',\n",
       "       'Corynebacterium vitaeruminis', 'Alteromonas sp.',\n",
       "       'Acinetobacter pittii', 'Marinomonas sp.',\n",
       "       'Streptomyces viridochromogenes', 'Bacillus velezensis',\n",
       "       'Streptomyces griseus', 'Aeromonas salmonicida',\n",
       "       'Agrobacterium tumefaciens', 'Xanthomonas sp.',\n",
       "       'Leclercia adecarboxylata', 'Shigella flexneri; Escherichia coli',\n",
       "       'Shigella dysenteriae; Escherichia coli',\n",
       "       'Lactiplantibacillus pentosus; Lactiplantibacillus plantarum',\n",
       "       'Bordetella bronchiseptica',\n",
       "       'Shigella dysenteriae; Shigella boydii; Shigella flexneri; Shigella sonnei',\n",
       "       'Yersinia', 'Clostridium perfringens', 'Streptomyces scabiei',\n",
       "       'Pectobacterium sp.', 'Salmonella sp.',\n",
       "       'Corynebacterium glutamicum', 'Raoultella ornithinolytica',\n",
       "       'Microbacterium foliorum', 'Vibrio harveyi',\n",
       "       'Vibrio parahaemolyticus', 'Salinibacter ruber',\n",
       "       'Vibrio cyclitrophicus', 'Escherichia; Escherichia coli',\n",
       "       'Lactococcus lactis; Lactococcus cremoris',\n",
       "       'Faecalibacterium prausnitzii', 'Citrobacter rodentium',\n",
       "       'Shigella flexneri; Shigella sonnei; Escherichia coli',\n",
       "       'Mycolicibacterium phlei', 'Pseudomonas agarici',\n",
       "       'Microbacterium paraoxydans', 'Burkholderia', 'Escherichia sp.',\n",
       "       'Pseudomonas fluorescens', 'Enterobacter asburiae', 'Enterococcus',\n",
       "       'Leptospira biflexa', 'Synechococcus sp. WH 8102',\n",
       "       'Synechococcus sp. WH 8109', 'Sphingomonas paucimobilis',\n",
       "       'Curvibacter sp.', 'Enterobacteriaceae', 'Vibrio coralliilyticus',\n",
       "       'Escherichia coli; Enterobacteriaceae', 'Bacteroides intestinalis',\n",
       "       'Corynebacterium xerosis', 'Halobacterium salinarum',\n",
       "       'Arthrobacter globiformis', 'Lentibacter; Lentibacter sp.',\n",
       "       'Alkalihalobacillus bogoriensis', 'Lacticaseibacillus rhamnosus',\n",
       "       'Yersinia pseudotuberculosis', 'Klebsiella sp.',\n",
       "       'Cronobacter turicensis', 'Pantoea agglomerans',\n",
       "       'Streptomyces griseofuscus', 'Providencia stuartii', 'Vibrio sp.',\n",
       "       'Natrialba magadii', 'Stenotrophomonas maltophilia',\n",
       "       'Escherichia sp.; Escherichia', 'Staphylococcus pseudintermedius',\n",
       "       'Vibrio', 'Shigella boydii', 'Achromobacter animicus',\n",
       "       'Citrobacter rodentium; Shigella sonnei; Escherichia coli',\n",
       "       'Flavobacterium sp. LMO9', 'Flavobacterium sp. LMO6',\n",
       "       'Salmonella sp.; Escherichia coli', 'Heunggongvirae',\n",
       "       'Butyrivibrio fibrisolvens', 'Providencia rettgeri',\n",
       "       'Staphylococcus aureus; Staphylococcus', 'Yersinia pestis',\n",
       "       'Halorubrum saccharovorum', 'Streptococcus suis',\n",
       "       'Streptococcus dysgalactiae', 'Burkholderia thailandensis',\n",
       "       'Lactococcus', 'Xanthomonas oryzae',\n",
       "       'Leptolyngbya foveolarum; Phormidium tenue', 'Aeromonas media',\n",
       "       'Bacillus sp. 6k512', 'Thalassotalea loyana',\n",
       "       'Lactobacillus johnsonii', 'Azospirillum brasilense',\n",
       "       'Halomonas aquamarina', 'Ralstonia; Ralstonia solanacearum',\n",
       "       'Streptococcus gordonii', 'Klebsiella sp. 390',\n",
       "       'Acanthamoeba polyphaga', 'Morganella morganii',\n",
       "       'Kluyvera cryocrescens', 'Glaesserella parasuis',\n",
       "       'Lactobacillus jensenii', 'Xanthomonas campestris',\n",
       "       'Streptococcus thermophilus', 'Streptococcus oralis',\n",
       "       'Burkholderia pseudomallei; Burkholderia pyrrocinia',\n",
       "       'Delftia acidovorans', 'Aggregatibacter actinomycetemcomitans',\n",
       "       'Leuconostoc mesenteroides', 'Rhodococcus hoagii',\n",
       "       'Campylobacter sp.', 'Campylobacter', 'Acinetobacter johnsonii',\n",
       "       'Brochothrix thermosphacta', 'Synechococcus sp. WH 6501',\n",
       "       'Synechococcus sp. WH 8017', 'Erwinia tasmaniensis',\n",
       "       'Geobacillus sp. E263', 'Burkholderia ambifaria', 'Acinetobacter',\n",
       "       'Candidatus Liberibacter asiaticus; Liberibacter',\n",
       "       'Lactobacillus sp.', 'Salmonella enterica; Escherichia coli',\n",
       "       'Riemerella anatipestifer', 'Synechococcus; Synechococcus sp.',\n",
       "       'Streptococcus salivarius', 'Escherichia; Enterobacterales',\n",
       "       'Candidatus Liberibacter asiaticus', 'Psychrobacter sp. MV2',\n",
       "       'Rhodococcus rhodochrous', 'Nocardia brasiliensis',\n",
       "       'Erwinia pyrifoliae', 'Pseudomonas tolaasii',\n",
       "       'Rhodobacter capsulatus', 'Enterobacter cancerogenus',\n",
       "       'Staphylococcus capitis', 'Salinivibrio costicola',\n",
       "       'Thermoanaerobacterium saccharolyticum', 'Celeribacter marinus',\n",
       "       'Marinomonas sp.; Marinomonas', 'Vibrio; Vibrio parahaemolyticus',\n",
       "       'Xanthomonas citri', 'Helicobacter pylori',\n",
       "       'Staphylococcus pasteuri', 'Bacillus cereus group',\n",
       "       'Agrobacterium fabacearum', 'Streptococcus agalactiae',\n",
       "       'Streptomyces cattleya; Streptomyces avermitilis',\n",
       "       'Acidithiobacillus caldus', 'Serratia sp.',\n",
       "       'Lactobacillus helveticus', 'Rhizobium etli',\n",
       "       'Candidatus Pelagibacter ubique', 'Lactococcus cremoris',\n",
       "       'Synechococcus sp. WH 8018', 'Prochlorococcus',\n",
       "       'Synechococcus sp. WH 8012', 'Psychrobacter sp. OW20',\n",
       "       'Bacillus mycoides', 'Nitratiruptor sp. SB155-2',\n",
       "       'Bacillus pumilus; Bacillus subtilis',\n",
       "       'Methanothermobacter thermautotrophicus', 'Pseudomonas savastanoi',\n",
       "       'Selenomonas ruminantium', 'Spiroplasma melliferum',\n",
       "       'Fungi; Metazoa; Viridiplantae', 'Streptococcus pyogenes',\n",
       "       'Chlamydia psittaci', 'Saccharolobus solfataricus',\n",
       "       'Haemophilus influenzae',\n",
       "       'Pseudomonas aeruginosa; Acinetobacter calcoaceticus; Pseudomonas fluorescens; Vibrio cholerae; Escherichia coli; Pseudomonas putida; Proteus mirabilis; Salmonella enterica',\n",
       "       'Mycoplasma', 'Phormidium', 'Geobacillus sp. 6k51',\n",
       "       'Mycolicibacterium smegmatis; Mycobacterium',\n",
       "       'Mycolicibacterium smegmatis; Mycobacterium tuberculosis; Mycobacterium',\n",
       "       'Corynebacteriales; Mycobacterium', 'Kitasatospora aureofaciens',\n",
       "       'Lactobacillus gasseri', 'Xanthomonas', 'Clostridium botulinum',\n",
       "       'Bacillus anthracis', 'Burkholderia cepacia',\n",
       "       'Acidianus convivator', 'Evansella clarkii', 'Flavobacterium sp.',\n",
       "       'Burkholderia; Burkholderia cenocepacia', 'Streptococcus mitis',\n",
       "       'Mycolicibacterium smegmatis; Mycolicibacterium vaccae',\n",
       "       'Saccharomonospora sp.', 'Synechococcus sp. WH 7805',\n",
       "       'Acinetobacter genomosp. 16BJ', 'Bdellovibrio bacteriovorus',\n",
       "       'Vibrio natriegens', 'Roseobacter', 'Methanothermobacter wolfeii',\n",
       "       '[Brevibacterium] flavum', 'Pseudoalteromonas espejiana',\n",
       "       'Streptomyces coelicolor',\n",
       "       'Mycolicibacterium smegmatis; Mycobacterium tuberculosis',\n",
       "       'Haloarcula hispanica', 'Haloarcula californiae',\n",
       "       'Haloarcula sinaiiensis', 'Paenibacillus glucanolyticus',\n",
       "       'Halorubrum sp.', 'Citrobacter rodentium; Escherichia coli',\n",
       "       'Geobacillus kaustophilus; Thermus thermophilus',\n",
       "       'Klebsiella pneumoniae; Klebsiella',\n",
       "       'Staphylococcus saprophyticus',\n",
       "       'Shigella sonnei; Escherichia coli', 'Erwinia sp.',\n",
       "       'Leptolyngbya foveolarum; Leptolyngbya boryana',\n",
       "       'Xylella fastidiosa', 'Oenococcus oeni', 'Enterococcus sp.',\n",
       "       'Pseudomonas plecoglossicida', 'root; Metazoa',\n",
       "       'Geobacillus kaustophilus'], dtype=object)"
      ]
     },
     "execution_count": 147,
     "metadata": {},
     "output_type": "execute_result"
    }
   ],
   "source": [
    "df['Host kingdom'].unique()"
   ]
  },
  {
   "cell_type": "code",
   "execution_count": 148,
   "metadata": {},
   "outputs": [
    {
     "data": {
      "text/plain": [
       "(284537, 12)"
      ]
     },
     "execution_count": 148,
     "metadata": {},
     "output_type": "execute_result"
    }
   ],
   "source": [
    "df[(df['Host kingdom'].str.contains('Viridiplantae')) | df['Virus hosts'].str.contains('[Hh]omo [Ss]apiens')].shape"
   ]
  },
  {
   "cell_type": "code",
   "execution_count": 149,
   "metadata": {},
   "outputs": [],
   "source": [
    "df['Molecule type'] = np.where(df['Molecule type'].isna(), '', df['Molecule type'])"
   ]
  },
  {
   "cell_type": "code",
   "execution_count": 150,
   "metadata": {},
   "outputs": [
    {
     "data": {
      "text/html": [
       "<div>\n",
       "<style scoped>\n",
       "    .dataframe tbody tr th:only-of-type {\n",
       "        vertical-align: middle;\n",
       "    }\n",
       "\n",
       "    .dataframe tbody tr th {\n",
       "        vertical-align: top;\n",
       "    }\n",
       "\n",
       "    .dataframe thead th {\n",
       "        text-align: right;\n",
       "    }\n",
       "</style>\n",
       "<table border=\"1\" class=\"dataframe\">\n",
       "  <thead>\n",
       "    <tr style=\"text-align: right;\">\n",
       "      <th></th>\n",
       "      <th>Entry</th>\n",
       "      <th>Protein</th>\n",
       "      <th>Species name</th>\n",
       "      <th>Species taxonomic ID</th>\n",
       "      <th>Species family</th>\n",
       "      <th>Virus hosts</th>\n",
       "      <th>Virus hosts ID</th>\n",
       "      <th>Host kingdom</th>\n",
       "      <th>Host superkingdom</th>\n",
       "      <th>Molecule type</th>\n",
       "      <th>Infects human</th>\n",
       "      <th>Sequence</th>\n",
       "    </tr>\n",
       "  </thead>\n",
       "  <tbody>\n",
       "  </tbody>\n",
       "</table>\n",
       "</div>"
      ],
      "text/plain": [
       "Empty DataFrame\n",
       "Columns: [Entry, Protein, Species name, Species taxonomic ID, Species family, Virus hosts, Virus hosts ID, Host kingdom, Host superkingdom, Molecule type, Infects human, Sequence]\n",
       "Index: []"
      ]
     },
     "execution_count": 150,
     "metadata": {},
     "output_type": "execute_result"
    }
   ],
   "source": [
    "df[df['Molecule type'].isna()]"
   ]
  },
  {
   "cell_type": "code",
   "execution_count": 151,
   "metadata": {},
   "outputs": [
    {
     "data": {
      "text/plain": [
       "(31528, 12)"
      ]
     },
     "execution_count": 151,
     "metadata": {},
     "output_type": "execute_result"
    }
   ],
   "source": [
    "df[df['Host kingdom'].str.contains('Metazoa')][df[df['Host kingdom'].str.contains('Metazoa')]['Molecule type'].str.contains('DNA')].shape"
   ]
  },
  {
   "cell_type": "code",
   "execution_count": 152,
   "metadata": {},
   "outputs": [
    {
     "data": {
      "text/plain": [
       "(273101, 12)"
      ]
     },
     "execution_count": 152,
     "metadata": {},
     "output_type": "execute_result"
    }
   ],
   "source": [
    "df[df['Host kingdom'].str.contains('Metazoa')][df[df['Host kingdom'].str.contains('Metazoa')]['Molecule type'].str.contains('RNA')].shape"
   ]
  },
  {
   "cell_type": "code",
   "execution_count": 153,
   "metadata": {},
   "outputs": [
    {
     "data": {
      "text/plain": [
       "(317316, 12)"
      ]
     },
     "execution_count": 153,
     "metadata": {},
     "output_type": "execute_result"
    }
   ],
   "source": [
    "df.shape"
   ]
  },
  {
   "cell_type": "code",
   "execution_count": 154,
   "metadata": {},
   "outputs": [
    {
     "data": {
      "text/plain": [
       "(9987, 12)"
      ]
     },
     "execution_count": 154,
     "metadata": {},
     "output_type": "execute_result"
    }
   ],
   "source": [
    "df[~df['Host kingdom'].str.contains('Metazoa')].shape"
   ]
  },
  {
   "cell_type": "code",
   "execution_count": 155,
   "metadata": {},
   "outputs": [
    {
     "data": {
      "text/plain": [
       "(283199, 12)"
      ]
     },
     "execution_count": 155,
     "metadata": {},
     "output_type": "execute_result"
    }
   ],
   "source": [
    "df[(df['Host superkingdom'].isin(['Bacteria', 'Viruses', 'Archaea'])) | (df['Virus hosts'].str.contains('[Hh]omo [Ss]apiens'))].shape"
   ]
  },
  {
   "cell_type": "code",
   "execution_count": 156,
   "metadata": {},
   "outputs": [],
   "source": [
    "unfiltered = df\n",
    "metazoa = df[df['Host kingdom'].str.contains('Metazoa')]\n",
    "plant_human = df[(df['Host kingdom'].str.contains('Viridiplantae')) | df['Virus hosts'].str.contains('[Hh]omo [Ss]apiens')]\n",
    "NonEukaryote_Human = df[(df['Host superkingdom'].isin(['Bacteria', 'Viruses', 'Archaea'])) | (df['Virus hosts'].str.contains('[Hh]omo [Ss]apiens'))]\n",
    "DNA_MetazoaZoonosis = metazoa[metazoa['Molecule type'].str.contains('DNA')]\n",
    "RNA_MetazoaZoonosis = metazoa[metazoa['Molecule type'].str.contains('RNA')]"
   ]
  },
  {
   "cell_type": "code",
   "execution_count": 157,
   "metadata": {},
   "outputs": [],
   "source": [
    "def check_dist(df):\n",
    "    true_count = df[df['Infects human'].str.contains('true')].shape[0]\n",
    "    false_count = df[df['Infects human'].str.contains('false')].shape[0]\n",
    "    imb = (false_count/true_count)\n",
    "    print('The minoity class is %.2f of the majority\\nhuman-true == %d and human false == %d\\n' % (imb, true_count, false_count))"
   ]
  },
  {
   "cell_type": "code",
   "execution_count": 158,
   "metadata": {},
   "outputs": [
    {
     "name": "stdout",
     "output_type": "stream",
     "text": [
      "The minoity class is 0.10 of the majority\n",
      "human-true == 278755 and human false == 28574\n",
      "\n",
      "The minoity class is 0.14 of the majority\n",
      "human-true == 278789 and human false == 38527\n",
      "\n",
      "The minoity class is 0.02 of the majority\n",
      "human-true == 278789 and human false == 5748\n",
      "\n",
      "The minoity class is 0.02 of the majority\n",
      "human-true == 278755 and human false == 4444\n",
      "\n",
      "The minoity class is 0.29 of the majority\n",
      "human-true == 24518 and human false == 7010\n",
      "\n",
      "The minoity class is 0.07 of the majority\n",
      "human-true == 254072 and human false == 19029\n",
      "\n"
     ]
    }
   ],
   "source": [
    "dataframes = [metazoa, unfiltered, plant_human, NonEukaryote_Human, DNA_MetazoaZoonosis, RNA_MetazoaZoonosis]\n",
    "for dt in dataframes:\n",
    "    check_dist(dt)"
   ]
  },
  {
   "cell_type": "markdown",
   "metadata": {},
   "source": [
    "## Random Undersampling of datasets"
   ]
  },
  {
   "cell_type": "code",
   "execution_count": 159,
   "metadata": {},
   "outputs": [],
   "source": [
    "seed = 960505"
   ]
  },
  {
   "cell_type": "code",
   "execution_count": 160,
   "metadata": {},
   "outputs": [
    {
     "name": "stdout",
     "output_type": "stream",
     "text": [
      "The minoity class is 0.60 of the majority\n",
      "human-true == 47623 and human false == 28574\n",
      "\n",
      "The minoity class is 0.60 of the majority\n",
      "human-true == 64211 and human false == 38527\n",
      "\n",
      "The minoity class is 0.60 of the majority\n",
      "human-true == 9580 and human false == 5748\n",
      "\n",
      "The minoity class is 0.60 of the majority\n",
      "human-true == 7406 and human false == 4444\n",
      "\n",
      "The minoity class is 0.60 of the majority\n",
      "human-true == 11683 and human false == 7010\n",
      "\n",
      "The minoity class is 0.60 of the majority\n",
      "human-true == 31715 and human false == 19029\n",
      "\n"
     ]
    }
   ],
   "source": [
    "# Undersample majority class such that minority class (human-false) is 60% of the majority class (human-true317316)\n",
    "rus = RandomUnderSampler(sampling_strategy=0.6, random_state=seed)\n",
    "sampled_dataframes = []\n",
    "for dt in dataframes:\n",
    "    clas = dt['Infects human']\n",
    "#     print('Dataframe before sampling: ', dt.shape[0])\n",
    "    dt, _ = rus.fit_resample(dt, clas)\n",
    "    sampled_dataframes.append(dt)\n",
    "    check_dist(dt)\n",
    "#     print('Dataframe after sampling: ', dt.shape[0])"
   ]
  },
  {
   "cell_type": "markdown",
   "metadata": {},
   "source": [
    "## Write file sequences to fasta for feature extraction"
   ]
  },
  {
   "cell_type": "code",
   "execution_count": 161,
   "metadata": {},
   "outputs": [],
   "source": [
    "metazoaFile = 'MetazoaZoonosis'\n",
    "plant_humanFile = 'Plant-HumanZoonosis'\n",
    "unfilteredFile = 'Zoonosis'\n",
    "NonEukaryote_HumanFile = 'NonEukaryote-Human'\n",
    "DNA_metazoaFile = 'DNA-MetazoaZoonosis'\n",
    "RNA_metazoaFile = 'RNA-MetazoaZoonosis'\n",
    "\n",
    "# dirs = ['MetazoaZoonosisData', 'ZoonosisData',\n",
    "#         'Plant-HumanZoonosisData', 'NonEukaryote-HumanData',\n",
    "#         'DNA-MetazoaZoonosisData', 'RNA-MetazoaZoonosisData']\n",
    "\n",
    "files = [metazoaFile, unfilteredFile, plant_humanFile,\n",
    "         NonEukaryote_HumanFile, DNA_metazoaFile, RNA_metazoaFile]\n",
    "\n",
    "dirs = [os.path.join('../data/', fol) for fol in files] # Do not include in script\n",
    "\n",
    "toSave = list(zip(sampled_dataframes, files, dirs))"
   ]
  },
  {
   "cell_type": "markdown",
   "metadata": {},
   "source": [
    "<a id=\"splits\"></a>"
   ]
  },
  {
   "cell_type": "code",
   "execution_count": 162,
   "metadata": {
    "scrolled": true
   },
   "outputs": [
    {
     "name": "stdout",
     "output_type": "stream",
     "text": [
      "Done with ../data/MetazoaZoonosis\n",
      "Done with ../data/Zoonosis\n",
      "Done with ../data/Plant-HumanZoonosis\n",
      "Done with ../data/NonEukaryote-Human\n",
      "Done with ../data/DNA-MetazoaZoonosis\n",
      "Done with ../data/RNA-MetazoaZoonosis\n"
     ]
    }
   ],
   "source": [
    "for dff, file, folder in toSave:\n",
    "    # Create subdirectories\n",
    "    os.makedirs(os.path.join(folder, 'train/human-true'), exist_ok=True)\n",
    "    os.makedirs(os.path.join(folder, 'test/human-true'), exist_ok=True)\n",
    "    os.makedirs(os.path.join(folder, 'train/human-false'), exist_ok=True)\n",
    "    os.makedirs(os.path.join(folder, 'test/human-false'), exist_ok=True)\n",
    "\n",
    "    # save dataframes as csv\n",
    "    dff.drop('Sequence', axis=1).to_csv(f'{folder}/{file}Data.csv.gz', index=False, compression='gzip')\n",
    "    \n",
    "    # Split data to train and test data\n",
    "    train, test = train_test_split(dff, test_size=0.2, random_state=2022) # Will further split 15% of train as validation during training\n",
    "    # Save test and train sequences\n",
    "    save_sequences(train, f'{folder}/train/Sequences') # Will move to subdirectories after feature extraction\n",
    "    save_sequences(test, f'{folder}/test/Sequences')\n",
    "    \n",
    "    print('Done with', folder)"
   ]
  },
  {
   "cell_type": "code",
   "execution_count": null,
   "metadata": {},
   "outputs": [],
   "source": []
  }
 ],
 "metadata": {
  "kernelspec": {
   "display_name": "Python 3",
   "language": "python",
   "name": "python3"
  },
  "language_info": {
   "codemirror_mode": {
    "name": "ipython",
    "version": 3
   },
   "file_extension": ".py",
   "mimetype": "text/x-python",
   "name": "python",
   "nbconvert_exporter": "python",
   "pygments_lexer": "ipython3",
   "version": "3.6.9"
  },
  "metadata": {
   "interpreter": {
    "hash": "d1fca8d20300d410c8f6acb40a2d9646a273de74113c44fe1a7d9f677162ff7e"
   }
  }
 },
 "nbformat": 4,
 "nbformat_minor": 4
}
