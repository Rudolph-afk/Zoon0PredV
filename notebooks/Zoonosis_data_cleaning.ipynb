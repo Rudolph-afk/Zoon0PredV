{
 "cells": [
  {
   "cell_type": "markdown",
   "metadata": {},
   "source": [
    "# Description"
   ]
  },
  {
   "cell_type": "markdown",
   "metadata": {},
   "source": [
    "This notebook makes use of the **pandas** library and the **ete3 toolkit**, specifically ete3's [NCBI Taxonomic database](http://etetoolkit.org/docs/latest/tutorial/tutorial_ncbitaxonomy.html). Several custom functions simplifying the use of ete3 are in the zoonosis_helper_functions.py script which is imported into the notebook."
   ]
  },
  {
   "cell_type": "markdown",
   "metadata": {
    "tags": []
   },
   "source": [
    "\n",
    "The primary data is obtained from the Uniprot database. It contains data on proteins which facilitate viral [entry into host cells](https://www.uniprot.org/uniprot/?query=keyword:%22Virus%20entry%20into%20host%20cell%20[KW-1160]%22). The data is in 2 parts, the first being the [tabular data](#tabular-data) and the second being the [fasta sequences](#fasta) of the virus surface proteins. The 2 are linked by their uniprot entry identifiers. A very small portion of the data has been reviewed and is not sufficient for application in deep learning so both the reviewed and unreviewed data is kept, however, the unreviewed data lacks information on host data.\n",
    "\n",
    "To alleviate the host data information, external sources were used, namely:\n",
    "\n",
    "- [NCBI Virus database](https://www.ncbi.nlm.nih.gov/labs/virus/vssi/#/virus?VirusLineage_ss=Viruses,%20taxid:10239&SeqType_s=Protein&Proviral_s=exclude&HostLineage_ss=Mammalia%20(mammals),%20taxid:40674)\n",
    "- [Virus-Host database](https://www.genome.jp/virushostdb/)\n",
    "- [Enhanced Infectious Disease Database (EID2)](https://eid2.liverpool.ac.uk/OrganismInteractions)\n",
    "\n",
    "1. [The ete3 is first used to obtain taxomomic identifiers at the species level and if an identifier is already present to still use the ete3 taxonomic identifiers for consistency.](#ete3-taxo)\n",
    "\n",
    "1. [Data is further filtered to keep only viruses (organism).](#filter)\n",
    "\n",
    "1. [The dataset contains some repetitive information i.e. same virus, same hosts but different protein or different protein entry. Therefore, the next step was to fill in the host data using information from the reviewed data. The premise was if it's the same virus then it ought to have the same hosts.](#Updating-host-names-from-other-host-data-in-the-dataset)\n",
    "\n",
    "1. [Thereafter information form external sources is appended to the primary data. Missing data after final processing is dropped.](#Updating-host-names-from-external-sources)\n",
    "\n",
    "1. [An additional column (Infects human) is then later added. If at least one of the virus hosts is homo sapiens then an assignment of **1** is given otherwise **0** is assigned to the row.](#Further-Processing)\n",
    "\n",
    "1. [Since the data was obtained from multiple sources further processing was done to make the information format consistent.](#host-name-consistency)\n",
    "\n",
    "1. [The sequence data is loaded and linked to the tabular data.](#fasta)\n",
    "\n",
    "1. [Protein names are also updated from sequence data for consistency in the data.](#protein-names-from-sequence)\n",
    "\n",
    "1. [After processing, the data is then split into training and testing data. Validation split is done upon loading the training data with **keras**.](#splits)\n",
    "\n",
    "1. [random undersampling](#Random-Undersampling-of-datasets)\n",
    "\n",
    "1. [Write file sequences to fasta for feature extraction](#Write-file-sequences-to-fasta-for-feature-extraction)\n",
    "\n",
    "\n",
    "### [Absolutely no idea why Virus host name != Virus hosts](#issue)"
   ]
  },
  {
   "cell_type": "markdown",
   "metadata": {},
   "source": [
    "## Packages"
   ]
  },
  {
   "cell_type": "code",
   "execution_count": 2,
   "metadata": {},
   "outputs": [],
   "source": [
    "# Import all necesssary modules\n",
    "## Always import pandas before swifter ##\n",
    "import pandas as pd\n",
    "import swifter # enables pandas multiprocessing using modin and ray as a backend. Also adds progress bar functionality\n",
    "import numpy as np\n",
    "import matplotlib.pyplot as plt\n",
    "%matplotlib inline\n",
    "# import seaborn as sns\n",
    "from sklearn.model_selection import train_test_split\n",
    "from imblearn.under_sampling import RandomUnderSampler\n",
    "import re\n",
    "import os\n",
    "from ete3 import NCBITaxa\n",
    "from pprint import pprint\n",
    "from tqdm.notebook import tqdm_notebook, tqdm\n",
    "# import warnings\n",
    "# warnings.filterwarnings(\"ignore\", category=UserWarning)\n",
    "from zoonosis_helper_functions import *"
   ]
  },
  {
   "cell_type": "markdown",
   "metadata": {},
   "source": [
    "Please check the zoonosis_helper_functions.py in the current directory"
   ]
  },
  {
   "cell_type": "code",
   "execution_count": null,
   "metadata": {},
   "outputs": [],
   "source": [
    "# Configure Progress bar and Modin Pandas Engine\n",
    "\n",
    "tqdm.pandas(desc='Processing')\n",
    "os.environ[\"MODIN_ENGINE\"] = \"ray\""
   ]
  },
  {
   "cell_type": "markdown",
   "metadata": {},
   "source": [
    "## Data exploration"
   ]
  },
  {
   "cell_type": "markdown",
   "metadata": {},
   "source": [
    "<a id='tabular-data'></a>"
   ]
  },
  {
   "cell_type": "code",
   "execution_count": null,
   "metadata": {},
   "outputs": [],
   "source": [
    "# Load dataset downloaded from Uniprot\n",
    "df = pd.read_table('../data/uniprot-keyword Virus+entry+into+host+cell+[KW-1160] +fragment no.tab.gz')"
   ]
  },
  {
   "cell_type": "code",
   "execution_count": null,
   "metadata": {},
   "outputs": [],
   "source": [
    "df.shape"
   ]
  },
  {
   "cell_type": "code",
   "execution_count": null,
   "metadata": {},
   "outputs": [],
   "source": [
    "df.sample(3)"
   ]
  },
  {
   "cell_type": "code",
   "execution_count": null,
   "metadata": {},
   "outputs": [],
   "source": [
    "# Check for number of rows with missing host names\n",
    "print(df[df['Virus hosts'].isnull()].shape)\n",
    "df[df['Virus hosts'].isnull()].sample(3)"
   ]
  },
  {
   "cell_type": "code",
   "execution_count": null,
   "metadata": {},
   "outputs": [],
   "source": [
    "# Total number of different organisms in dataset (inclusive of reviewed and non-reviewed)\n",
    "df['Organism'].nunique()"
   ]
  },
  {
   "cell_type": "code",
   "execution_count": null,
   "metadata": {},
   "outputs": [],
   "source": [
    "# Total number of different organisms with reviewed data\n",
    "df[df['Status'] == 'reviewed']['Organism'].nunique()"
   ]
  },
  {
   "cell_type": "code",
   "execution_count": null,
   "metadata": {},
   "outputs": [],
   "source": [
    "df[df['Status'] == 'unreviewed']['Organism'].nunique()"
   ]
  },
  {
   "cell_type": "code",
   "execution_count": null,
   "metadata": {},
   "outputs": [],
   "source": [
    "# Check for number of rows with reviewed hosts\n",
    "df[df['Status'] == 'reviewed']['Virus hosts'].nunique()"
   ]
  },
  {
   "cell_type": "code",
   "execution_count": null,
   "metadata": {},
   "outputs": [],
   "source": [
    "df[df['Status'] == 'unreviewed']['Virus hosts'].nunique()"
   ]
  },
  {
   "cell_type": "code",
   "execution_count": null,
   "metadata": {},
   "outputs": [],
   "source": [
    "# Total number of rows with host information (inclusive of reviewed and non-reviewed)\n",
    "df['Virus hosts'].nunique()"
   ]
  },
  {
   "cell_type": "code",
   "execution_count": null,
   "metadata": {},
   "outputs": [],
   "source": [
    "# Checking if there is no missing organism taxonomy data. Organism == Tax IDs\n",
    "df['Taxonomic lineage IDs'].nunique()"
   ]
  },
  {
   "cell_type": "markdown",
   "metadata": {},
   "source": [
    "## Initial processing"
   ]
  },
  {
   "cell_type": "code",
   "execution_count": null,
   "metadata": {},
   "outputs": [],
   "source": [
    "## Replace N/A columns with an empty string... prevents errors with column wide string operations\n",
    "\n",
    "df['Virus hosts'] = np.where(df['Virus hosts'].isnull(), '',df['Virus hosts'])"
   ]
  },
  {
   "cell_type": "code",
   "execution_count": null,
   "metadata": {},
   "outputs": [],
   "source": [
    "df.sample(5)"
   ]
  },
  {
   "cell_type": "code",
   "execution_count": null,
   "metadata": {},
   "outputs": [],
   "source": [
    "def join_names(df, col_name: str):\n",
    "    df[col_name] = df[col_name].str.split('; ').apply(set).apply('; '.join) # 'set' function removes duplicate entries\n",
    "    return df"
   ]
  },
  {
   "cell_type": "code",
   "execution_count": null,
   "metadata": {},
   "outputs": [],
   "source": [
    "# df['Virus hosts'] = df['Virus hosts'].str.split('; ')\n",
    "# df['Virus hosts'] = df['Virus hosts'].swifter.progress_bar(enable=True, desc='Removing duplicate host names').apply(set)\n",
    "# df['Virus hosts'] = df['Virus hosts'].swifter.progress_bar(enable=True, desc='Joining host names list').apply('; '.join)\n",
    "\n",
    "# df['Protein names'] = df['Protein names'].str.split('; ')\n",
    "# df['Protein names'] = df['Protein names'].swifter.progress_bar(enable=True, desc='Removing duplicate protein names').apply(set)\n",
    "# df['Protein names'] = df['Protein names'].swifter.progress_bar(enable=True, desc='Joining protein names list').apply('; '.join)\n",
    "\n",
    "# df['Organism'] = df['Organism'].str.split('; ')\n",
    "# df['Organism'] = df['Organism'].swifter.progress_bar(enable=True, desc='Removing duplicate organism names').apply(set)\n",
    "# df['Organism'] = df['Organism'].swifter.progress_bar(enable=True, desc='Joining organism names list').apply('; '.join)"
   ]
  },
  {
   "cell_type": "code",
   "execution_count": null,
   "metadata": {},
   "outputs": [],
   "source": [
    "# Remove duplicate entries if present\n",
    "df = join_names(df, 'Virus hosts')\n",
    "df = join_names(df, 'Protein names')\n",
    "df = join_names(df, 'Organism')\n",
    "\n",
    "df.sample(3)"
   ]
  },
  {
   "cell_type": "markdown",
   "metadata": {},
   "source": [
    "<a id=\"ete3-taxo\" ></a>"
   ]
  },
  {
   "cell_type": "code",
   "execution_count": null,
   "metadata": {
    "tags": []
   },
   "outputs": [],
   "source": [
    "# Species ID from organism ID\n",
    "df['Species taxonomic ID'] = (df['Taxonomic lineage IDs']\n",
    "                              .swifter.progress_bar(enable=True, desc='Getting Viruses taxonomic IDs')\n",
    "                              .apply(getRankID, rank='species')) # getRankID function in zoonosis_helper_functions.py"
   ]
  },
  {
   "cell_type": "code",
   "execution_count": null,
   "metadata": {},
   "outputs": [],
   "source": [
    "# Copy for later use\n",
    "dff = df[['Entry', 'Species taxonomic ID']].copy()"
   ]
  },
  {
   "cell_type": "code",
   "execution_count": null,
   "metadata": {},
   "outputs": [],
   "source": [
    "df.sample(3)"
   ]
  },
  {
   "cell_type": "code",
   "execution_count": null,
   "metadata": {
    "scrolled": true,
    "tags": []
   },
   "outputs": [],
   "source": [
    "# Check if all tax IDs could be found in NCBI taxonomy database\n",
    "df[df['Species taxonomic ID'].isnull()].sample(3)"
   ]
  },
  {
   "cell_type": "code",
   "execution_count": null,
   "metadata": {},
   "outputs": [],
   "source": [
    "# Get the species name of the earlier unidentified taxonomic IDs\n",
    "idx_species_name = df.columns.get_loc('Taxonomic lineage (SPECIES)')\n",
    "idx_organism_id = df.columns.get_loc('Species taxonomic ID')\n",
    "\n",
    "for row in tqdm_notebook(range(len(df)), desc='Getting species ID from organism name'):\n",
    "    if np.isnan(df.iat[row, idx_organism_id]):\n",
    "        df.iat[row, idx_organism_id] = getIDfromName(df.iat[row, idx_species_name]) # getIDfromName function in zoonosis_helper_functions.py"
   ]
  },
  {
   "cell_type": "code",
   "execution_count": null,
   "metadata": {},
   "outputs": [],
   "source": [
    "df[df['Species taxonomic ID'].isnull()]"
   ]
  },
  {
   "cell_type": "code",
   "execution_count": null,
   "metadata": {},
   "outputs": [],
   "source": [
    "df['Species taxonomic ID'] = df['Species taxonomic ID'].apply(int) # convert taxid from floats to int"
   ]
  },
  {
   "cell_type": "code",
   "execution_count": null,
   "metadata": {},
   "outputs": [],
   "source": [
    "df.shape"
   ]
  },
  {
   "cell_type": "code",
   "execution_count": null,
   "metadata": {},
   "outputs": [],
   "source": [
    "df = (df.drop(['Status','Taxonomic lineage IDs'], axis=1)\n",
    "      .groupby('Species taxonomic ID', as_index=False)\n",
    "      .agg({'Virus hosts':set, 'Organism':set,\n",
    "            'Protein names':set, 'Taxonomic lineage (SPECIES)':'first'}))"
   ]
  },
  {
   "cell_type": "code",
   "execution_count": null,
   "metadata": {},
   "outputs": [],
   "source": [
    "df['Virus hosts'] = df['Virus hosts'].str.join('; ')\n",
    "df['Organism'] = df['Organism'].str.join('; ')\n",
    "df['Protein names'] = df['Protein names'].str.join('; ')"
   ]
  },
  {
   "cell_type": "code",
   "execution_count": null,
   "metadata": {},
   "outputs": [],
   "source": [
    "df.sample(5)"
   ]
  },
  {
   "cell_type": "code",
   "execution_count": null,
   "metadata": {},
   "outputs": [],
   "source": [
    "df.shape"
   ]
  },
  {
   "cell_type": "code",
   "execution_count": null,
   "metadata": {},
   "outputs": [],
   "source": [
    "# Get species name from NCBI taxo database using Taxonomic ID\n",
    "df['Species name'] = (df.drop('Taxonomic lineage (SPECIES)', axis=1)\n",
    "                      .swifter.progress_bar(enable=True, desc='Getting Species name')\n",
    "                      .apply(lambda x: getRankName(x['Species taxonomic ID'], \n",
    "                                                   rank='species'), axis=1))"
   ]
  },
  {
   "cell_type": "code",
   "execution_count": null,
   "metadata": {},
   "outputs": [],
   "source": [
    "# Get superkingdom name from NCBI taxo database using Taxonomic ID\n",
    "df['Species superkingdom'] = df['Species taxonomic ID'].progress_apply(getRankName, rank='superkingdom')"
   ]
  },
  {
   "cell_type": "code",
   "execution_count": null,
   "metadata": {},
   "outputs": [],
   "source": [
    "# Get family from NCBI taxo database using Taxonomic ID\n",
    "df['Species family'] = df['Species taxonomic ID'].progress_apply(getRankName, rank='family')"
   ]
  },
  {
   "cell_type": "code",
   "execution_count": null,
   "metadata": {},
   "outputs": [],
   "source": [
    "df['Species superkingdom'].unique()"
   ]
  },
  {
   "cell_type": "markdown",
   "metadata": {},
   "source": [
    "<a id=\"filter\"></a>"
   ]
  },
  {
   "cell_type": "code",
   "execution_count": null,
   "metadata": {},
   "outputs": [],
   "source": [
    "# Filter to include only viruses\n",
    "df = df[df['Species superkingdom'] == 'Viruses']"
   ]
  },
  {
   "cell_type": "code",
   "execution_count": null,
   "metadata": {},
   "outputs": [],
   "source": [
    "df.sample(5)"
   ]
  },
  {
   "cell_type": "code",
   "execution_count": null,
   "metadata": {},
   "outputs": [],
   "source": [
    "df.drop(['Taxonomic lineage (SPECIES)'], axis=1, inplace=True)"
   ]
  },
  {
   "cell_type": "code",
   "execution_count": null,
   "metadata": {},
   "outputs": [],
   "source": [
    "# Convert empty strings to nan for easy downstream processing\n",
    "df['Virus hosts'] = np.where(df['Virus hosts']=='', np.nan, df['Virus hosts'])"
   ]
  },
  {
   "cell_type": "code",
   "execution_count": null,
   "metadata": {},
   "outputs": [],
   "source": [
    "df[df['Virus hosts'].isnull()].sample(3)"
   ]
  },
  {
   "cell_type": "code",
   "execution_count": null,
   "metadata": {},
   "outputs": [],
   "source": [
    "df.drop('Organism', axis=1, inplace=True) # Organism == Species name"
   ]
  },
  {
   "cell_type": "markdown",
   "metadata": {},
   "source": [
    "## Updating host names from other host data in the dataset\n",
    "\n",
    "Premise: Same virus has same host irrespective of whether the info has been reviewed or not"
   ]
  },
  {
   "cell_type": "code",
   "execution_count": null,
   "metadata": {},
   "outputs": [],
   "source": [
    "# List of viruses which do not have assigned hosts in the data\n",
    "noHostViruses = (df[df['Virus hosts'].isnull()]['Species name']\n",
    "                 .unique()\n",
    "                 .tolist())"
   ]
  },
  {
   "cell_type": "code",
   "execution_count": null,
   "metadata": {},
   "outputs": [],
   "source": [
    "# Create independent dataframe of viruses with no assigned host and simltaneously identify the same viruses from the data \n",
    "# whcih already have assigned hosts and assign host names based on those. \n",
    "df_na_hosts = df[(~df['Virus hosts'].isnull()) & (df['Species name'].isin(noHostViruses))][['Species name', 'Virus hosts']]\n",
    "df_na_hosts = df_na_hosts.groupby('Species name')['Virus hosts'].apply(list) # Reduces dimention\n",
    "df_na_hosts = df_na_hosts.reset_index(name='Viral hosts nw')"
   ]
  },
  {
   "cell_type": "code",
   "execution_count": null,
   "metadata": {},
   "outputs": [],
   "source": [
    "# Previous operation reurns a list for multiple host\n",
    "# Converts the lists into regular string entries separated by a ;\n",
    "df_na_hosts['Viral hosts nw'] = (df_na_hosts['Viral hosts nw']\n",
    "                                 .swifter.progress_bar(desc='Joining host names list', enable=True)\n",
    "                                 .apply('; '.join))"
   ]
  },
  {
   "cell_type": "code",
   "execution_count": null,
   "metadata": {},
   "outputs": [],
   "source": [
    "# Updates the viruses hosts info in the main dataset\n",
    "df_naa = (df[df['Virus hosts'].isnull()]\n",
    "          .merge(df_na_hosts, on='Species name', how='left')\n",
    "          .drop('Virus hosts', axis=1)\n",
    "          .rename({'Viral hosts nw':'Virus hosts'}, axis=1))"
   ]
  },
  {
   "cell_type": "code",
   "execution_count": null,
   "metadata": {},
   "outputs": [],
   "source": [
    "# Creates independant dataset with viruses which have hosts\n",
    "df_notna = df[~df['Virus hosts'].isnull()]"
   ]
  },
  {
   "cell_type": "code",
   "execution_count": null,
   "metadata": {},
   "outputs": [],
   "source": [
    "# merges the updated virus hosts dataset with the dataset with viruses which have hosts\n",
    "df = df_naa.append(df_notna)"
   ]
  },
  {
   "cell_type": "code",
   "execution_count": null,
   "metadata": {},
   "outputs": [],
   "source": [
    "df.shape # Reduced dimention because of grouping, will later ungroup"
   ]
  },
  {
   "cell_type": "code",
   "execution_count": null,
   "metadata": {},
   "outputs": [],
   "source": [
    "df.sample(5)"
   ]
  },
  {
   "cell_type": "code",
   "execution_count": null,
   "metadata": {},
   "outputs": [],
   "source": [
    "print(df[df['Virus hosts'].isnull()].shape)\n",
    "df[df['Virus hosts'].isnull()].sample(3)"
   ]
  },
  {
   "cell_type": "code",
   "execution_count": null,
   "metadata": {},
   "outputs": [],
   "source": [
    "df['Virus hosts'] = np.where(df['Virus hosts'].isnull(), '', df['Virus hosts'])"
   ]
  },
  {
   "cell_type": "code",
   "execution_count": null,
   "metadata": {},
   "outputs": [],
   "source": [
    "df.sample(3)"
   ]
  },
  {
   "cell_type": "code",
   "execution_count": null,
   "metadata": {},
   "outputs": [],
   "source": [
    "df = mergeRows(df, 'Species taxonomic ID','Virus hosts') # mergeRows in zoonosis_helper_functions.py"
   ]
  },
  {
   "cell_type": "code",
   "execution_count": null,
   "metadata": {},
   "outputs": [],
   "source": [
    "df[(df['Species name'].str.contains('Influenza A virus')) & (df['Virus hosts'] != '')]"
   ]
  },
  {
   "cell_type": "code",
   "execution_count": null,
   "metadata": {},
   "outputs": [],
   "source": [
    "df.sample(3)"
   ]
  },
  {
   "cell_type": "code",
   "execution_count": null,
   "metadata": {},
   "outputs": [],
   "source": [
    "# Separate dataset for easy tracking of updates\n",
    "dfna = df[df['Virus hosts'] == '']\n",
    "df = df[~(df['Virus hosts'] == '')]"
   ]
  },
  {
   "cell_type": "code",
   "execution_count": null,
   "metadata": {},
   "outputs": [],
   "source": [
    "dfna.shape"
   ]
  },
  {
   "cell_type": "code",
   "execution_count": null,
   "metadata": {},
   "outputs": [],
   "source": [
    "df.shape"
   ]
  },
  {
   "cell_type": "markdown",
   "metadata": {},
   "source": [
    "## Updating host names from external sources"
   ]
  },
  {
   "cell_type": "code",
   "execution_count": null,
   "metadata": {},
   "outputs": [],
   "source": [
    "# Data from NCBI Virus\n",
    "df2 = pd.read_csv('../data/sequences.csv')\n",
    "df2.shape"
   ]
  },
  {
   "cell_type": "code",
   "execution_count": null,
   "metadata": {},
   "outputs": [],
   "source": [
    "df2.sample(2)"
   ]
  },
  {
   "cell_type": "code",
   "execution_count": null,
   "metadata": {},
   "outputs": [],
   "source": [
    "df2.drop_duplicates(inplace=True)\n",
    "df2.shape"
   ]
  },
  {
   "cell_type": "code",
   "execution_count": null,
   "metadata": {
    "scrolled": true,
    "tags": []
   },
   "outputs": [],
   "source": [
    "# Get taxonomic IDs from species names\n",
    "df2['Species ID'], df2['Host ID'] = df2['Species'].progress_apply(getIDfromName), df2['Host'].progress_apply(getIDfromName)"
   ]
  },
  {
   "cell_type": "code",
   "execution_count": null,
   "metadata": {},
   "outputs": [],
   "source": [
    "df2.dropna(inplace=True)\n",
    "df2['Species ID'], df2['Host ID'] = df2['Species ID'].astype(int), df2['Host ID'].astype(int)\n",
    "df2.shape"
   ]
  },
  {
   "cell_type": "code",
   "execution_count": null,
   "metadata": {},
   "outputs": [],
   "source": [
    "df2['Host name'] = df2.progress_apply(lambda x: nameMerger(x['Host'], x['Host ID']), axis=1)\n",
    "# Remove Host and Host ID columns as they have been merged and are no longer needed\n",
    "df2.drop(['Host', 'Host ID'], axis=1, inplace=True)"
   ]
  },
  {
   "cell_type": "code",
   "execution_count": null,
   "metadata": {},
   "outputs": [],
   "source": [
    "df2['Species ID'] = df2['Species ID'].progress_apply(getRankID, rank='species')"
   ]
  },
  {
   "cell_type": "code",
   "execution_count": null,
   "metadata": {},
   "outputs": [],
   "source": [
    "## Create a copy for later use\n",
    "dfff = df2.copy()"
   ]
  },
  {
   "cell_type": "code",
   "execution_count": null,
   "metadata": {},
   "outputs": [],
   "source": [
    "# Add host names\n",
    "df_na_hosts = AggregateHosts(df2,'Species ID', 'Host name')\n",
    "dfna = dfna.merge(df_na_hosts, left_on='Species taxonomic ID', right_on='Species ID', how='left')\n",
    "dfna = dfna.drop(['Virus hosts', 'Species ID'], axis=1).rename({'Host name':'Virus hosts'}, axis=1)\n",
    "dfna = UpdateHosts(dfna, df_na_hosts, 'Species taxonomic ID', 'Species ID')\n",
    "df, dfna = UpdateMain(df, dfna)\n",
    "df = mergeRows(df, 'Species taxonomic ID', 'Virus hosts')"
   ]
  },
  {
   "cell_type": "code",
   "execution_count": null,
   "metadata": {},
   "outputs": [],
   "source": [
    "dfna.shape"
   ]
  },
  {
   "cell_type": "code",
   "execution_count": null,
   "metadata": {},
   "outputs": [],
   "source": [
    "df.shape"
   ]
  },
  {
   "cell_type": "code",
   "execution_count": null,
   "metadata": {
    "tags": []
   },
   "outputs": [],
   "source": [
    "# Data from virus host database\n",
    "df2 = pd.read_table('../data/virushostdb.tsv')\n",
    "df2.head(3)"
   ]
  },
  {
   "cell_type": "code",
   "execution_count": null,
   "metadata": {},
   "outputs": [],
   "source": [
    "df2 = df2[['virus tax id', 'virus name', 'host tax id', 'host name']].copy()\n",
    "df2.drop_duplicates(inplace=True)\n",
    "print(df2.shape)\n",
    "df2.head()"
   ]
  },
  {
   "cell_type": "code",
   "execution_count": null,
   "metadata": {},
   "outputs": [],
   "source": [
    "df2[df2['host tax id'].isnull()]"
   ]
  },
  {
   "cell_type": "code",
   "execution_count": null,
   "metadata": {},
   "outputs": [],
   "source": [
    "df2.dropna(inplace=True)"
   ]
  },
  {
   "cell_type": "code",
   "execution_count": null,
   "metadata": {},
   "outputs": [],
   "source": [
    "df2['host tax id'] = df2['host tax id'].astype(int)\n",
    "df2.head()"
   ]
  },
  {
   "cell_type": "code",
   "execution_count": null,
   "metadata": {},
   "outputs": [],
   "source": [
    "df2['Species ID'] = df2['virus tax id'].progress_apply(getRankID, rank='species')"
   ]
  },
  {
   "cell_type": "code",
   "execution_count": null,
   "metadata": {},
   "outputs": [],
   "source": [
    "df2['Host name'] = df2.progress_apply(lambda x: nameMerger(x['host name'], x['host tax id']), axis=1)\n",
    "# Remove Host and Host ID columns as they have been merged and are no longer needed\n",
    "df2.drop(['host name', 'host tax id'], axis=1, inplace=True)\n",
    "df2.head()"
   ]
  },
  {
   "cell_type": "code",
   "execution_count": null,
   "metadata": {},
   "outputs": [],
   "source": [
    "df_na_hosts = AggregateHosts(df2,'Species ID', 'Host name')\n",
    "dfna = dfna.merge(df_na_hosts, left_on='Species taxonomic ID', right_on='Species ID', how='left')\n",
    "dfna = dfna.drop(['Virus hosts', 'Species ID'], axis=1).rename({'Host name':'Virus hosts'}, axis=1)\n",
    "dfna = UpdateHosts(dfna, df_na_hosts, 'Species taxonomic ID', 'Species ID')\n",
    "df, dfna = UpdateMain(df, dfna)\n",
    "df = mergeRows(df, 'Species taxonomic ID', 'Virus hosts')"
   ]
  },
  {
   "cell_type": "code",
   "execution_count": null,
   "metadata": {},
   "outputs": [],
   "source": [
    "df.shape"
   ]
  },
  {
   "cell_type": "code",
   "execution_count": null,
   "metadata": {},
   "outputs": [],
   "source": [
    "dfna.shape"
   ]
  },
  {
   "cell_type": "code",
   "execution_count": null,
   "metadata": {},
   "outputs": [],
   "source": [
    "# Data from EID2 (Liverpool University)\n",
    "df2 = pd.read_csv('../data/virus_host_4rm_untitled.csv')\n",
    "df2.sample(2)"
   ]
  },
  {
   "cell_type": "code",
   "execution_count": null,
   "metadata": {},
   "outputs": [],
   "source": [
    "df2 = df2[['Host_name', 'Host_TaxId', 'Virus_name', 'Virus_TaxId']].copy()\n",
    "df2['Species ID'] = df2['Virus_TaxId'].progress_apply(getRankID, rank='species')\n",
    "df2['Host name'] = df2.progress_apply(lambda x: nameMerger(x['Host_name'], x['Host_TaxId']), axis=1)\n",
    "df2.drop(['Host_name', 'Host_TaxId'], axis=1, inplace=True)\n",
    "df2.dropna(inplace=True)\n",
    "df2.sample(2)"
   ]
  },
  {
   "cell_type": "code",
   "execution_count": null,
   "metadata": {},
   "outputs": [],
   "source": [
    "df_na_hosts = AggregateHosts(df2,'Species ID', 'Host name')\n",
    "dfna = dfna.merge(df_na_hosts, left_on='Species taxonomic ID', right_on='Species ID', how='left')\n",
    "dfna = dfna.drop(['Virus hosts', 'Species ID'], axis=1).rename({'Host name':'Virus hosts'}, axis=1)\n",
    "dfna = UpdateHosts(dfna, df_na_hosts, 'Species taxonomic ID', 'Species ID')\n",
    "df, dfna = UpdateMain(df, dfna)\n",
    "df = mergeRows(df, 'Species taxonomic ID', 'Virus hosts')"
   ]
  },
  {
   "cell_type": "code",
   "execution_count": null,
   "metadata": {},
   "outputs": [],
   "source": [
    "df.shape"
   ]
  },
  {
   "cell_type": "code",
   "execution_count": null,
   "metadata": {},
   "outputs": [],
   "source": [
    "dfna.shape"
   ]
  },
  {
   "cell_type": "code",
   "execution_count": null,
   "metadata": {},
   "outputs": [],
   "source": [
    "dfna.sample(2)"
   ]
  },
  {
   "cell_type": "markdown",
   "metadata": {},
   "source": [
    "## Further Processing"
   ]
  },
  {
   "cell_type": "code",
   "execution_count": null,
   "metadata": {},
   "outputs": [],
   "source": [
    "# Add column to discriminate viruses which contain human hosts from those which do not\n",
    "df['Infects human'] = np.where(df['Virus hosts'].str.contains(r'960[56]'), 'human-true','human-false')"
   ]
  },
  {
   "cell_type": "code",
   "execution_count": null,
   "metadata": {},
   "outputs": [],
   "source": [
    "df.sample(2)"
   ]
  },
  {
   "cell_type": "code",
   "execution_count": null,
   "metadata": {},
   "outputs": [],
   "source": [
    "df['Virus hosts'] = df['Virus hosts'].str.split('; ')\n",
    "df['Virus hosts'] = df.progress_apply(lambda x: list(filter(None, x['Virus hosts'])), axis=1)\n",
    "df['Virus hosts'] = df['Virus hosts'].progress_apply('; '.join)"
   ]
  },
  {
   "cell_type": "code",
   "execution_count": null,
   "metadata": {},
   "outputs": [],
   "source": [
    "df.sample(4)"
   ]
  },
  {
   "cell_type": "code",
   "execution_count": null,
   "metadata": {},
   "outputs": [],
   "source": [
    "df[df['Infects human'] == 'human-true'].sample(4)"
   ]
  },
  {
   "cell_type": "markdown",
   "metadata": {},
   "source": [
    "<a id=\"host-name-consistency\"></a>"
   ]
  },
  {
   "cell_type": "code",
   "execution_count": null,
   "metadata": {},
   "outputs": [],
   "source": [
    "# Ungrouping operation based on host\n",
    "# 1. Splits Virus host using based on ; separator\n",
    "# 2. Horizontally stack the data based on virus hosts\n",
    "df = (df.set_index(df.columns.drop('Virus hosts', 1).tolist())['Virus hosts'].str.split(';', expand=True)\n",
    "          .stack()\n",
    "          .reset_index()\n",
    "          .rename(columns={0:'Virus hosts'})\n",
    "          .loc[:, df.columns]\n",
    "         ).copy()"
   ]
  },
  {
   "cell_type": "code",
   "execution_count": null,
   "metadata": {},
   "outputs": [],
   "source": [
    "df.shape"
   ]
  },
  {
   "cell_type": "code",
   "execution_count": null,
   "metadata": {},
   "outputs": [],
   "source": [
    "df.sample(4)"
   ]
  },
  {
   "cell_type": "code",
   "execution_count": null,
   "metadata": {},
   "outputs": [],
   "source": [
    "df['Virus hosts ID'] = None\n",
    "idx_organism = df.columns.get_loc('Virus hosts')\n",
    "idx_host_id = df.columns.get_loc('Virus hosts ID')\n",
    "\n",
    "pattern = r'(\\d+)\\]'\n",
    "for row in range(len(df)):\n",
    "    host_id = re.search(pattern, df.iat[row, idx_organism]).group()\n",
    "    df.iat[row, idx_host_id] = host_id\n",
    "df.head()"
   ]
  },
  {
   "cell_type": "code",
   "execution_count": null,
   "metadata": {},
   "outputs": [],
   "source": [
    "df['Virus hosts ID'] = df['Virus hosts ID'].str.strip('\\]')"
   ]
  },
  {
   "cell_type": "code",
   "execution_count": null,
   "metadata": {},
   "outputs": [],
   "source": [
    "df['Virus hosts ID'] = df['Virus hosts ID'].progress_apply(int)\n",
    "\n",
    "df['Virus hosts ID'] = df['Virus hosts ID'].progress_apply(getRankID, rank='species')\n",
    "df['Virus host name'] = df['Virus hosts ID'].progress_apply(getRankName, rank='species')\n",
    "df['Host superkingdom'] = df['Virus hosts ID'].progress_apply(getRankName, rank='superkingdom')\n",
    "df['Host kingdom'] = df['Virus hosts ID'].progress_apply(getRankName, rank='kingdom')"
   ]
  },
  {
   "cell_type": "code",
   "execution_count": null,
   "metadata": {},
   "outputs": [],
   "source": [
    "df[df['Virus hosts ID'].isna()]"
   ]
  },
  {
   "cell_type": "code",
   "execution_count": null,
   "metadata": {},
   "outputs": [],
   "source": [
    "df['Virus hosts ID'][1866]"
   ]
  },
  {
   "cell_type": "code",
   "execution_count": null,
   "metadata": {},
   "outputs": [],
   "source": [
    "df['Virus hosts ID'] = df['Virus hosts ID'].progress_apply(int)"
   ]
  },
  {
   "cell_type": "code",
   "execution_count": null,
   "metadata": {},
   "outputs": [],
   "source": [
    "df['Virus hosts'] = (df.drop('Virus hosts', axis=1)\n",
    "                     .apply(lambda x: nameMerger(x['Virus host name'], x['Virus hosts ID']), axis=1))"
   ]
  },
  {
   "cell_type": "code",
   "execution_count": null,
   "metadata": {
    "tags": []
   },
   "outputs": [],
   "source": [
    "df.sample(4)"
   ]
  },
  {
   "cell_type": "code",
   "execution_count": null,
   "metadata": {},
   "outputs": [],
   "source": [
    "df.shape"
   ]
  },
  {
   "cell_type": "code",
   "execution_count": null,
   "metadata": {},
   "outputs": [],
   "source": [
    "# Ungroup based on protein names\n",
    "df = (df.set_index(df.columns.drop('Protein names',1).tolist())['Protein names'].str.split(';', expand=True)\n",
    "          .stack()\n",
    "          .reset_index()\n",
    "          .rename(columns={0:'Protein names'})\n",
    "          .loc[:, df.columns]\n",
    "         ).copy()"
   ]
  },
  {
   "cell_type": "code",
   "execution_count": null,
   "metadata": {},
   "outputs": [],
   "source": [
    "df[df['Host superkingdom'].isnull()].shape"
   ]
  },
  {
   "cell_type": "code",
   "execution_count": null,
   "metadata": {},
   "outputs": [],
   "source": [
    "df['Host superkingdom'].unique()"
   ]
  },
  {
   "cell_type": "code",
   "execution_count": null,
   "metadata": {},
   "outputs": [],
   "source": [
    "df[df['Host superkingdom'] == 'Eukaryota'].shape"
   ]
  },
  {
   "cell_type": "code",
   "execution_count": null,
   "metadata": {},
   "outputs": [],
   "source": [
    "df[df['Host superkingdom'] == 'Viruses'].shape"
   ]
  },
  {
   "cell_type": "code",
   "execution_count": null,
   "metadata": {},
   "outputs": [],
   "source": [
    "df[df['Host superkingdom'] == 'Bacteria'].shape"
   ]
  },
  {
   "cell_type": "code",
   "execution_count": null,
   "metadata": {},
   "outputs": [],
   "source": [
    "df[df['Host superkingdom'] == 'root'].shape"
   ]
  },
  {
   "cell_type": "code",
   "execution_count": null,
   "metadata": {},
   "outputs": [],
   "source": [
    "df[df['Host superkingdom'] == 'Archaea'].shape"
   ]
  },
  {
   "cell_type": "code",
   "execution_count": null,
   "metadata": {},
   "outputs": [],
   "source": [
    "print(df[df['Host kingdom'] == 'Metazoa'].shape)\n",
    "df[df['Host kingdom'] == 'Metazoa'].sample(3)"
   ]
  },
  {
   "cell_type": "code",
   "execution_count": null,
   "metadata": {},
   "outputs": [],
   "source": [
    "df[df['Infects human'] == 'human-true'].shape"
   ]
  },
  {
   "cell_type": "code",
   "execution_count": null,
   "metadata": {},
   "outputs": [],
   "source": [
    "df[df['Infects human'] == 'human-false'].shape"
   ]
  },
  {
   "cell_type": "code",
   "execution_count": null,
   "metadata": {},
   "outputs": [],
   "source": [
    "df.sample(2)"
   ]
  },
  {
   "cell_type": "code",
   "execution_count": null,
   "metadata": {},
   "outputs": [],
   "source": [
    "df.sample(2)"
   ]
  },
  {
   "cell_type": "markdown",
   "metadata": {},
   "source": [
    "<a id=\"issue\"></a>"
   ]
  },
  {
   "cell_type": "code",
   "execution_count": null,
   "metadata": {},
   "outputs": [],
   "source": [
    "###### Absolutely no idea why Virus host name != Virus hosts\n",
    "for column in df.columns:\n",
    "    print(column, df[column].nunique())\n",
    "print('Dataframe total',len(df))"
   ]
  },
  {
   "cell_type": "code",
   "execution_count": null,
   "metadata": {},
   "outputs": [],
   "source": [
    "df.sample(2)"
   ]
  },
  {
   "cell_type": "markdown",
   "metadata": {},
   "source": [
    "## Restructuring the data"
   ]
  },
  {
   "cell_type": "code",
   "execution_count": null,
   "metadata": {},
   "outputs": [],
   "source": [
    "# Earlier saved data\n",
    "dff.sample(2)"
   ]
  },
  {
   "cell_type": "code",
   "execution_count": null,
   "metadata": {},
   "outputs": [],
   "source": [
    "dff.shape"
   ]
  },
  {
   "cell_type": "code",
   "execution_count": null,
   "metadata": {},
   "outputs": [],
   "source": [
    "## Load sequences\n",
    "# Using custom IO instead of Bio.SeqIO because it was much easier to customise\n",
    "# Not as efficient but still light on resources"
   ]
  },
  {
   "cell_type": "markdown",
   "metadata": {},
   "source": [
    "<a id='fasta'></a>"
   ]
  },
  {
   "cell_type": "code",
   "execution_count": null,
   "metadata": {},
   "outputs": [],
   "source": [
    "fastaFileName = '../data/uniprot-keyword Virus+entry+into+host+cell+[KW-1160] +fragment no.fasta'\n",
    "\n",
    "entry_seq = read_fasta(fastaFileName) # read_fasta in zoonosis_helper_functions.py"
   ]
  },
  {
   "cell_type": "code",
   "execution_count": null,
   "metadata": {
    "scrolled": true,
    "tags": []
   },
   "outputs": [],
   "source": [
    "dff.sort_values(by='Entry', inplace=True)\n",
    "\n",
    "seq_object_list = [seq_obj for entry, seq_obj in entry_seq]\n",
    "\n",
    "dff['Sequence'] = seq_object_list"
   ]
  },
  {
   "cell_type": "code",
   "execution_count": null,
   "metadata": {},
   "outputs": [],
   "source": [
    "dff.head()"
   ]
  },
  {
   "cell_type": "code",
   "execution_count": null,
   "metadata": {},
   "outputs": [],
   "source": [
    "df.drop(['Virus host name', 'Protein names', 'Species superkingdom'], axis=1, inplace=True)"
   ]
  },
  {
   "cell_type": "code",
   "execution_count": null,
   "metadata": {},
   "outputs": [],
   "source": [
    "df = df.merge(dff, on='Species taxonomic ID', how='left')"
   ]
  },
  {
   "cell_type": "code",
   "execution_count": null,
   "metadata": {},
   "outputs": [],
   "source": [
    "del dff, df2"
   ]
  },
  {
   "cell_type": "code",
   "execution_count": null,
   "metadata": {},
   "outputs": [],
   "source": [
    "df.shape"
   ]
  },
  {
   "cell_type": "code",
   "execution_count": null,
   "metadata": {},
   "outputs": [],
   "source": [
    "df.drop_duplicates(inplace=True)"
   ]
  },
  {
   "cell_type": "code",
   "execution_count": null,
   "metadata": {},
   "outputs": [],
   "source": [
    "df.shape"
   ]
  },
  {
   "cell_type": "code",
   "execution_count": null,
   "metadata": {},
   "outputs": [],
   "source": [
    "df['Virus hosts ID'] = df['Virus hosts ID'].apply(str)"
   ]
  },
  {
   "cell_type": "markdown",
   "metadata": {},
   "source": [
    "###### Group by Entry and aggregate using set function to avoid duplication\n",
    "df = (df.groupby('Entry', as_index=False)\n",
    "       .agg({'Virus hosts':set, #'Protein':'first', \n",
    "             'Infects human':'first', 'Species name':'first',\n",
    "             'Host superkingdom':set,\n",
    "             'Host kingdom':set,\n",
    "             'Virus hosts ID':set,\n",
    "             'Species family':'first',\n",
    "             'Species taxonomic ID':'first',\n",
    "             'Sequence': 'first'}))\n",
    "\n",
    "df['Virus hosts'] = (df['Virus hosts']\n",
    "                     .swifter.progress_bar(enable=True,\n",
    "                                           desc='Joining host names list')\n",
    "                     .apply('; '.join))\n",
    "df['Virus hosts ID'] = (df['Virus hosts ID']\n",
    "                        .swifter.progress_bar(enable=True,\n",
    "                                              desc='Joining host IDs')\n",
    "                        .apply('; '.join))\n",
    "df['Host kingdom'] = (df['Host kingdom']\n",
    "                      .swifter.progress_bar(enable=True,\n",
    "                                            desc='Joining host kingdom names')\n",
    "                      .apply('; '.join))\n",
    "df['Host superkingdom'] = (df['Host superkingdom']\n",
    "                           .swifter.progress_bar(enable=True,\n",
    "                                                 desc='Joining host superkingdom names')\n",
    "                           .apply('; '.join))enable"
   ]
  },
  {
   "cell_type": "code",
   "execution_count": null,
   "metadata": {},
   "outputs": [],
   "source": [
    "# Group by Entry and aggregate using set function to avoid duplication\n",
    "df = (df.groupby('Entry', as_index=False)\n",
    "       .agg({'Virus hosts':set, #'Protein':set, \n",
    "             'Infects human':set, 'Species name':set,\n",
    "             'Host superkingdom':set,\n",
    "             'Host kingdom':set,\n",
    "             'Virus hosts ID':set,\n",
    "             'Species family':set,\n",
    "             'Species taxonomic ID':set,\n",
    "             'Sequence': set}))\n",
    "\n",
    "df[:, 1:] = df[:, 1:].swifter.applymap('; '.join)"
   ]
  },
  {
   "cell_type": "code",
   "execution_count": null,
   "metadata": {},
   "outputs": [],
   "source": [
    "df.shape"
   ]
  },
  {
   "cell_type": "code",
   "execution_count": null,
   "metadata": {
    "scrolled": true,
    "tags": []
   },
   "outputs": [],
   "source": [
    "# Get additional sequence info from the dataset\n",
    "df['Sequence'] = df.progress_apply(lambda x: getSequenceFeatures(\n",
    "    seqObj=x['Sequence'], entry=x['Entry'],\n",
    "    organism=x['Species name'], status=x['Infects human']), axis=1)"
   ]
  },
  {
   "cell_type": "markdown",
   "metadata": {},
   "source": [
    "<a id=\"protein-names-from-sequence\"></a>"
   ]
  },
  {
   "cell_type": "code",
   "execution_count": null,
   "metadata": {},
   "outputs": [],
   "source": [
    "df['Protein'] = df['Sequence'].apply(lambda x: x.protein_name)"
   ]
  },
  {
   "cell_type": "code",
   "execution_count": null,
   "metadata": {},
   "outputs": [],
   "source": [
    "df.sample(3)"
   ]
  },
  {
   "cell_type": "code",
   "execution_count": null,
   "metadata": {},
   "outputs": [],
   "source": [
    "df[df['Infects human'] == 'human-true'].shape"
   ]
  },
  {
   "cell_type": "code",
   "execution_count": null,
   "metadata": {},
   "outputs": [],
   "source": [
    "df[df['Infects human'] == 'human-false'].shape"
   ]
  },
  {
   "cell_type": "code",
   "execution_count": null,
   "metadata": {},
   "outputs": [],
   "source": [
    "# Sequences loaded earlier from NCBI Virus ###Add Molecule type\n",
    "dfff.rename({'Species ID': 'Species taxonomic ID', 'Molecule_type': 'Molecule type'}, axis=1, inplace=True)\n",
    "dfff.head()"
   ]
  },
  {
   "cell_type": "code",
   "execution_count": null,
   "metadata": {},
   "outputs": [],
   "source": [
    "df['Species taxonomic ID'] = df['Species taxonomic ID'].apply(int)"
   ]
  },
  {
   "cell_type": "code",
   "execution_count": null,
   "metadata": {},
   "outputs": [],
   "source": [
    "df = df.merge(dfff[['Species taxonomic ID', 'Molecule type']], how='left', on='Species taxonomic ID')"
   ]
  },
  {
   "cell_type": "code",
   "execution_count": null,
   "metadata": {},
   "outputs": [],
   "source": [
    "df.shape"
   ]
  },
  {
   "cell_type": "code",
   "execution_count": null,
   "metadata": {},
   "outputs": [],
   "source": [
    "df.drop_duplicates(inplace=True)"
   ]
  },
  {
   "cell_type": "code",
   "execution_count": null,
   "metadata": {},
   "outputs": [],
   "source": [
    "df.shape"
   ]
  },
  {
   "cell_type": "code",
   "execution_count": null,
   "metadata": {},
   "outputs": [],
   "source": [
    "del dfff"
   ]
  },
  {
   "cell_type": "markdown",
   "metadata": {},
   "source": [
    "## Reorganise dataframe"
   ]
  },
  {
   "cell_type": "code",
   "execution_count": null,
   "metadata": {},
   "outputs": [],
   "source": [
    "df = df[['Entry', 'Protein', 'Species name', \n",
    "         'Species taxonomic ID', 'Species family', 'Virus hosts',\n",
    "         'Virus hosts ID', 'Host kingdom', \n",
    "         'Host superkingdom', 'Molecule type', 'Infects human', 'Sequence']]"
   ]
  },
  {
   "cell_type": "code",
   "execution_count": null,
   "metadata": {},
   "outputs": [],
   "source": [
    "df.sample(3)"
   ]
  },
  {
   "cell_type": "markdown",
   "metadata": {},
   "source": [
    "## Split Dataframe to multiple datasets"
   ]
  },
  {
   "cell_type": "code",
   "execution_count": null,
   "metadata": {},
   "outputs": [],
   "source": [
    "df['Host superkingdom'].unique()"
   ]
  },
  {
   "cell_type": "code",
   "execution_count": null,
   "metadata": {
    "scrolled": true,
    "tags": []
   },
   "outputs": [],
   "source": [
    "df['Host kingdom'].unique()"
   ]
  },
  {
   "cell_type": "code",
   "execution_count": null,
   "metadata": {},
   "outputs": [],
   "source": [
    "df[(df['Host kingdom'].str.contains('Viridiplantae')) | df['Virus hosts'].str.contains('[Hh]omo [Ss]apiens')].shape"
   ]
  },
  {
   "cell_type": "code",
   "execution_count": null,
   "metadata": {},
   "outputs": [],
   "source": [
    "df['Molecule type'] = np.where(df['Molecule type'].isna(), '', df['Molecule type'])"
   ]
  },
  {
   "cell_type": "code",
   "execution_count": null,
   "metadata": {},
   "outputs": [],
   "source": [
    "df[df['Molecule type'].isna()]"
   ]
  },
  {
   "cell_type": "code",
   "execution_count": null,
   "metadata": {},
   "outputs": [],
   "source": [
    "df[df['Host kingdom'].str.contains('Metazoa')][df[df['Host kingdom'].str.contains('Metazoa')]['Molecule type'].str.contains('DNA')].shape"
   ]
  },
  {
   "cell_type": "code",
   "execution_count": null,
   "metadata": {},
   "outputs": [],
   "source": [
    "df[df['Host kingdom'].str.contains('Metazoa')][df[df['Host kingdom'].str.contains('Metazoa')]['Molecule type'].str.contains('RNA')].shape"
   ]
  },
  {
   "cell_type": "code",
   "execution_count": null,
   "metadata": {},
   "outputs": [],
   "source": [
    "df.shape"
   ]
  },
  {
   "cell_type": "code",
   "execution_count": null,
   "metadata": {},
   "outputs": [],
   "source": [
    "df[~df['Host kingdom'].str.contains('Metazoa')].shape"
   ]
  },
  {
   "cell_type": "code",
   "execution_count": null,
   "metadata": {},
   "outputs": [],
   "source": [
    "df[(df['Host superkingdom'].isin(['Bacteria', 'Viruses', 'Archaea'])) | (df['Virus hosts'].str.contains('[Hh]omo [Ss]apiens'))].shape"
   ]
  },
  {
   "cell_type": "code",
   "execution_count": null,
   "metadata": {},
   "outputs": [],
   "source": [
    "unfiltered = df\n",
    "metazoa = df[df['Host kingdom'].str.contains('Metazoa')]\n",
    "plant_human = df[(df['Host kingdom'].str.contains('Viridiplantae')) | df['Virus hosts'].str.contains('[Hh]omo [Ss]apiens')]\n",
    "NonEukaryote_Human = df[(df['Host superkingdom'].isin(['Bacteria', 'Viruses', 'Archaea'])) | (df['Virus hosts'].str.contains('[Hh]omo [Ss]apiens'))]\n",
    "DNA_MetazoaZoonosis = metazoa[metazoa['Molecule type'].str.contains('DNA')]\n",
    "RNA_MetazoaZoonosis = metazoa[metazoa['Molecule type'].str.contains('RNA')]"
   ]
  },
  {
   "cell_type": "code",
   "execution_count": null,
   "metadata": {},
   "outputs": [],
   "source": [
    "def check_dist(df):\n",
    "    true_count = df[df['Infects human'].str.contains('true')].shape[0]\n",
    "    false_count = df[df['Infects human'].str.contains('false')].shape[0]\n",
    "    imb = (false_count/true_count)\n",
    "    print('The minoity class is %.2f of the majority\\nhuman-true == %d and human false == %d\\n' % (imb, true_count, false_count))"
   ]
  },
  {
   "cell_type": "code",
   "execution_count": null,
   "metadata": {},
   "outputs": [],
   "source": [
    "dataframes = [metazoa, unfiltered, plant_human, NonEukaryote_Human, DNA_MetazoaZoonosis, RNA_MetazoaZoonosis]\n",
    "for dt in dataframes:\n",
    "    check_dist(dt)"
   ]
  },
  {
   "cell_type": "markdown",
   "metadata": {},
   "source": [
    "## Random Undersampling of datasets"
   ]
  },
  {
   "cell_type": "code",
   "execution_count": null,
   "metadata": {},
   "outputs": [],
   "source": [
    "seed = 960505"
   ]
  },
  {
   "cell_type": "code",
   "execution_count": null,
   "metadata": {},
   "outputs": [],
   "source": [
    "# Undersample majority class such that minority class (human-false) is 60% of the majority class (human-true317316)\n",
    "rus = RandomUnderSampler(sampling_strategy=0.6, random_state=seed)\n",
    "sampled_dataframes = []\n",
    "for dt in dataframes:\n",
    "    clas = dt['Infects human']\n",
    "#     print('Dataframe before sampling: ', dt.shape[0])\n",
    "    dt, _ = rus.fit_resample(dt, clas)\n",
    "    sampled_dataframes.append(dt)\n",
    "    check_dist(dt)\n",
    "#     print('Dataframe after sampling: ', dt.shape[0])"
   ]
  },
  {
   "cell_type": "markdown",
   "metadata": {},
   "source": [
    "## Write file sequences to fasta for feature extraction"
   ]
  },
  {
   "cell_type": "code",
   "execution_count": null,
   "metadata": {},
   "outputs": [],
   "source": [
    "metazoaFile = 'MetazoaZoonosis'\n",
    "plant_humanFile = 'Plant-HumanZoonosis'\n",
    "unfilteredFile = 'Zoonosis'\n",
    "NonEukaryote_HumanFile = 'NonEukaryote-Human'\n",
    "DNA_metazoaFile = 'DNA-MetazoaZoonosis'\n",
    "RNA_metazoaFile = 'RNA-MetazoaZoonosis'"
   ]
  },
  {
   "cell_type": "code",
   "execution_count": null,
   "metadata": {},
   "outputs": [],
   "source": [
    "dirs = ['MetazoaZoonosisData', 'ZoonosisData',\n",
    "        'Plant-HumanZoonosisData', 'NonEukaryote-HumanData',\n",
    "        'DNA-MetazoaZoonosisData', 'RNA-MetazoaZoonosisData']\n",
    "dirs = [os.path.join('../data/', fol) for fol in dirs] # Do not include in script\n",
    "files = [metazoaFile, unfilteredFile, plant_humanFile,\n",
    "         NonEukaryote_HumanFile, DNA_metazoaFile, RNA_metazoaFile]\n",
    "toSave = list(zip(sampled_dataframes, files, dirs))"
   ]
  },
  {
   "cell_type": "markdown",
   "metadata": {},
   "source": [
    "<a id=\"splits\"></a>"
   ]
  },
  {
   "cell_type": "code",
   "execution_count": null,
   "metadata": {},
   "outputs": [],
   "source": [
    "for dff, file, folder in toSave:\n",
    "#    save dataframes as csv\n",
    "    dff.drop('Sequence', axis=1).to_csv(f'{folder}/{file}Data.csv.gz', index=False, compression='gzip')\n",
    "    \n",
    "#    Create subdirectories\n",
    "    os.makedirs(os.path.join(folder, 'train/human-true'), exist_ok=True)\n",
    "    os.makedirs(os.path.join(folder, 'test/human-true'), exist_ok=True)\n",
    "    os.makedirs(os.path.join(folder, 'train/human-false'), exist_ok=True)\n",
    "    os.makedirs(os.path.join(folder, 'test/human-false'), exist_ok=True)\n",
    "#    Split data to train and test data\n",
    "    train, test = train_test_split(dff, test_size=0.2, random_state=) # Will further split 15% of train as validation during training\n",
    "#    Save test and train sequences\n",
    "    save_sequences(train, f'{folder}/train/Sequences') # Will move to subdirectories after feature extraction\n",
    "    save_sequences(test, f'{folder}/test/Sequences')\n",
    "    \n",
    "    print('Done with', folder)"
   ]
  },
  {
   "cell_type": "code",
   "execution_count": null,
   "metadata": {},
   "outputs": [],
   "source": []
  }
 ],
 "metadata": {
  "kernelspec": {
   "display_name": "Python 3",
   "language": "python",
   "name": "python3"
  },
  "language_info": {
   "codemirror_mode": {
    "name": "ipython",
    "version": 3
   },
   "file_extension": ".py",
   "mimetype": "text/x-python",
   "name": "python",
   "nbconvert_exporter": "python",
   "pygments_lexer": "ipython3",
   "version": "3.6.9"
  },
  "metadata": {
   "interpreter": {
    "hash": "d1fca8d20300d410c8f6acb40a2d9646a273de74113c44fe1a7d9f677162ff7e"
   }
  }
 },
 "nbformat": 4,
 "nbformat_minor": 4
}
