{
 "cells": [
  {
   "cell_type": "markdown",
   "metadata": {},
   "source": [
    "# Description"
   ]
  },
  {
   "cell_type": "markdown",
   "metadata": {},
   "source": []
  },
  {
   "cell_type": "markdown",
   "metadata": {},
   "source": [
    "## Packages"
   ]
  },
  {
   "cell_type": "code",
   "execution_count": 1,
   "metadata": {},
   "outputs": [],
   "source": [
    "import os\n",
    "import sys\n",
    "import numpy as np\n",
    "import tensorflow as tf\n",
    "from tensorflow import keras\n",
    "from tensorflow.keras import backend\n",
    "from tensorflow.keras.preprocessing.image import ImageDataGenerator\n",
    "from tensorflow.keras.callbacks import CSVLogger, ModelCheckpoint, ReduceLROnPlateau\n",
    "from tensorflow.python.keras.utils import metrics_utils\n",
    "from tensorflow.python.keras.utils.generic_utils import to_list\n",
    "from tensorflow.keras.models import save_model\n",
    "from tensorflow.keras.utils import plot_model\n",
    "# from tensorflow.keras.metrics import Recall, Precision, BinaryAccuracy, FalsePositives, \\\n",
    "#                                     TruePositives, TrueNegatives, FalseNegatives, AUC, Metric\n",
    "sys.path.insert(1, \"/users/rserage/Zoon0PredV/bin/\")\n",
    "from metrics_helper import MatthewsCorrelationCoefficient\n",
    "from model_definition import Zoon0Pred_model\n",
    "tf.get_logger().setLevel('ERROR')"
   ]
  },
  {
   "cell_type": "markdown",
   "metadata": {},
   "source": [
    "## Set random seed\n",
    "\n",
    "Still having some issues... seeding is not applied somehow"
   ]
  },
  {
   "cell_type": "code",
   "execution_count": 2,
   "metadata": {},
   "outputs": [],
   "source": [
    "# seed(20192020)\n",
    "# set_seed(20192020)"
   ]
  },
  {
   "cell_type": "markdown",
   "metadata": {},
   "source": [
    "## Activate GPU devices"
   ]
  },
  {
   "cell_type": "code",
   "execution_count": 3,
   "metadata": {},
   "outputs": [
    {
     "name": "stdout",
     "output_type": "stream",
     "text": [
      "Tensorflow (2.6.0) recognises 1 GPU(s)\n",
      "Enabling GPU memory growth\n"
     ]
    }
   ],
   "source": [
    "# Set GPU usage and memory growth\n",
    "physical_devices = tf.config.experimental.list_physical_devices('GPU')\n",
    "print(f\"Tensorflow ({tf.__version__}) recognises {len(physical_devices)} GPU(s)\\nEnabling GPU memory growth\")\n",
    "for device in physical_devices:\n",
    "    tf.config.experimental.set_memory_growth(device, enable=True) "
   ]
  },
  {
   "cell_type": "markdown",
   "metadata": {},
   "source": [
    "### Activate distribute strategy to distribute GPU computations across available GPUs"
   ]
  },
  {
   "cell_type": "code",
   "execution_count": 4,
   "metadata": {},
   "outputs": [],
   "source": [
    "mirrored_strategy = tf.distribute.MirroredStrategy()"
   ]
  },
  {
   "cell_type": "markdown",
   "metadata": {},
   "source": [
    "## Chaos game representation\n",
    "\n",
    "This is an example of the CGR images which the model will be training on.\n",
    "\n",
    "<!-- ![CGR represention of virus protein sequences](./plots.png) -->\n",
    "<img src=./plots.png width=600 height=500>"
   ]
  },
  {
   "cell_type": "markdown",
   "metadata": {},
   "source": [
    "## Data loading"
   ]
  },
  {
   "cell_type": "markdown",
   "metadata": {},
   "source": [
    "### Using keras image data generator"
   ]
  },
  {
   "cell_type": "code",
   "execution_count": 16,
   "metadata": {},
   "outputs": [
    {
     "name": "stdout",
     "output_type": "stream",
     "text": [
      "Found 243794 images belonging to 2 classes.\n",
      "Found 60947 images belonging to 2 classes.\n",
      "Found 114206 images belonging to 2 classes.\n"
     ]
    }
   ],
   "source": [
    "# directories = [os.path.join('../../pipeline-output/ZoonosisData', dtry) for dtry in ['train', 'test']]\n",
    "directories = [os.path.join('/scratch2/users/rserage/ZoonosisFull/', dtry) for dtry in ['train', 'test']]\n",
    "\n",
    "BATCH_SIZE = 1024\n",
    "\n",
    "TARGET_SIZE = (128,128)\n",
    "\n",
    "test_data_generator = ImageDataGenerator(rescale=1./255) # Specifically for test data\n",
    "\n",
    "train_val_data_generator = ImageDataGenerator(rescale=1./255, validation_split=0.2) # For training and validation split\n",
    "\n",
    "train_data_iterator = train_val_data_generator.flow_from_directory(directories[0], \n",
    "                                              target_size=TARGET_SIZE,\n",
    "                                              color_mode='grayscale', \n",
    "                                              class_mode='binary',\n",
    "                                              classes=['human-false', 'human-true'],\n",
    "                                              batch_size=BATCH_SIZE,\n",
    "                                              # seed=19980603,\n",
    "                                              subset='training') # Specifies subset, ignored in test\n",
    "\n",
    "validation_data_iterator = train_val_data_generator.flow_from_directory(directories[0], \n",
    "                                              target_size=TARGET_SIZE,\n",
    "                                              color_mode='grayscale', \n",
    "                                              class_mode='binary',\n",
    "                                              classes=['human-false', 'human-true'],\n",
    "                                              batch_size=BATCH_SIZE,\n",
    "                                              # seed=19980603,\n",
    "                                              subset='validation')\n",
    "\n",
    "test_data_iterator = test_data_generator.flow_from_directory(directories[1], \n",
    "                                              target_size=TARGET_SIZE,\n",
    "                                              color_mode='grayscale', \n",
    "                                              class_mode='binary', shuffle=False,\n",
    "                                              classes=['human-false', 'human-true'],\n",
    "                                              batch_size=BATCH_SIZE,\n",
    "                                              # seed=19980603\n",
    "                                                            )"
   ]
  },
  {
   "cell_type": "code",
   "execution_count": 17,
   "metadata": {},
   "outputs": [],
   "source": [
    "TRAIN_STEPS = train_data_iterator.n//BATCH_SIZE\n",
    "VALIDATION_STEPS = validation_data_iterator.n//BATCH_SIZE"
   ]
  },
  {
   "cell_type": "code",
   "execution_count": 18,
   "metadata": {},
   "outputs": [
    {
     "data": {
      "text/plain": [
       "238"
      ]
     },
     "execution_count": 18,
     "metadata": {},
     "output_type": "execute_result"
    }
   ],
   "source": [
    "TRAIN_STEPS"
   ]
  },
  {
   "cell_type": "code",
   "execution_count": 19,
   "metadata": {
    "tags": []
   },
   "outputs": [
    {
     "data": {
      "text/plain": [
       "59"
      ]
     },
     "execution_count": 19,
     "metadata": {},
     "output_type": "execute_result"
    }
   ],
   "source": [
    "VALIDATION_STEPS"
   ]
  },
  {
   "cell_type": "code",
   "execution_count": 20,
   "metadata": {},
   "outputs": [],
   "source": [
    "keras.backend.clear_session()"
   ]
  },
  {
   "cell_type": "markdown",
   "metadata": {},
   "source": [
    "## Model building, compilation and training"
   ]
  },
  {
   "cell_type": "markdown",
   "metadata": {
    "tags": []
   },
   "source": [
    "#### Callback functions for model training"
   ]
  },
  {
   "cell_type": "code",
   "execution_count": 14,
   "metadata": {},
   "outputs": [],
   "source": [
    "logs = CSVLogger('logs.csv')\n",
    "\n",
    "model_checkpoint_callback = ModelCheckpoint(\n",
    "    filepath='check.ckpt',\n",
    "    save_weights_only=True,\n",
    "    monitor='MCC',\n",
    "    mode='max',\n",
    "    save_best_only=True\n",
    ")\n",
    "\n",
    "reduce_lr = ReduceLROnPlateau(\n",
    "    monitor='val_AUC',\n",
    "    factor=0.2, patience=3,\n",
    "    min_lr=0.001\n",
    ")"
   ]
  },
  {
   "cell_type": "markdown",
   "metadata": {
    "tags": []
   },
   "source": [
    "### Model training"
   ]
  },
  {
   "cell_type": "code",
   "execution_count": 21,
   "metadata": {
    "scrolled": true,
    "tags": []
   },
   "outputs": [
    {
     "name": "stdout",
     "output_type": "stream",
     "text": [
      "Epoch 1/15\n",
      "238/238 [==============================] - 568s 2s/step - loss: 11.9465 - binary_accuracy: 0.8544 - FP: 27507.0000 - TP: 205292.0000 - TN: 2129.0000 - FN: 7842.0000 - MCC: 0.0578 - AUC: 0.5362 - val_loss: 0.4191 - val_binary_accuracy: 0.8779 - val_FP: 7378.0000 - val_TP: 53038.0000 - val_TN: 0.0000e+00 - val_FN: 0.0000e+00 - val_MCC: 0.0000e+00 - val_AUC: 0.4982\n",
      "Epoch 2/15\n",
      "238/238 [==============================] - 554s 2s/step - loss: 0.3759 - binary_accuracy: 0.8810 - FP: 28064.0000 - TP: 212309.0000 - TN: 1574.0000 - FN: 823.0000 - MCC: 0.1631 - AUC: 0.6534 - val_loss: 0.9297 - val_binary_accuracy: 0.1223 - val_FP: 0.0000e+00 - val_TP: 0.0000e+00 - val_TN: 7386.0000 - val_FN: 53030.0000 - val_MCC: 0.0000e+00 - val_AUC: 0.4875\n",
      "Epoch 3/15\n",
      "238/238 [==============================] - 551s 2s/step - loss: 0.2612 - binary_accuracy: 0.8971 - FP: 17713.0000 - TP: 205852.0000 - TN: 11937.0000 - FN: 7268.0000 - MCC: 0.4470 - AUC: 0.8741 - val_loss: 0.6579 - val_binary_accuracy: 0.1569 - val_FP: 276.0000 - val_TP: 2389.0000 - val_TN: 7093.0000 - val_FN: 50658.0000 - val_MCC: 0.0121 - val_AUC: 0.5807\n",
      "Epoch 4/15\n",
      "238/238 [==============================] - 578s 2s/step - loss: 0.1702 - binary_accuracy: 0.9336 - FP: 8501.0000 - TP: 205528.0000 - TN: 21110.0000 - FN: 7631.0000 - MCC: 0.6859 - AUC: 0.9505 - val_loss: 0.6243 - val_binary_accuracy: 0.2980 - val_FP: 308.0000 - val_TP: 10929.0000 - val_TN: 7075.0000 - val_FN: 42104.0000 - val_MCC: 0.1383 - val_AUC: 0.8515\n",
      "Epoch 5/15\n",
      "238/238 [==============================] - 575s 2s/step - loss: 0.1306 - binary_accuracy: 0.9500 - FP: 5770.0000 - TP: 206749.0000 - TN: 23885.0000 - FN: 6366.0000 - MCC: 0.7690 - AUC: 0.9696 - val_loss: 0.3620 - val_binary_accuracy: 0.7184 - val_FP: 403.0000 - val_TP: 36417.0000 - val_TN: 6984.0000 - val_FN: 16612.0000 - val_MCC: 0.4245 - val_AUC: 0.9218\n",
      "Epoch 6/15\n",
      "238/238 [==============================] - 565s 2s/step - loss: 0.1127 - binary_accuracy: 0.9568 - FP: 4807.0000 - TP: 207446.0000 - TN: 24835.0000 - FN: 5682.0000 - MCC: 0.8011 - AUC: 0.9776 - val_loss: 0.1433 - val_binary_accuracy: 0.9263 - val_FP: 635.0000 - val_TP: 49217.0000 - val_TN: 6747.0000 - val_FN: 3817.0000 - val_MCC: 0.7260 - val_AUC: 0.9773\n",
      "Epoch 7/15\n",
      "238/238 [==============================] - 573s 2s/step - loss: 0.1075 - binary_accuracy: 0.9594 - FP: 4499.0000 - TP: 207779.0000 - TN: 25132.0000 - FN: 5360.0000 - MCC: 0.8130 - AUC: 0.9795 - val_loss: 0.1135 - val_binary_accuracy: 0.9426 - val_FP: 604.0000 - val_TP: 50164.0000 - val_TN: 6786.0000 - val_FN: 2862.0000 - val_MCC: 0.7731 - val_AUC: 0.9844\n",
      "Epoch 8/15\n",
      "238/238 [==============================] - 560s 2s/step - loss: 0.1033 - binary_accuracy: 0.9608 - FP: 4324.0000 - TP: 207928.0000 - TN: 25321.0000 - FN: 5197.0000 - MCC: 0.8195 - AUC: 0.9813 - val_loss: 0.1129 - val_binary_accuracy: 0.9439 - val_FP: 595.0000 - val_TP: 50248.0000 - val_TN: 6779.0000 - val_FN: 2794.0000 - val_MCC: 0.7769 - val_AUC: 0.9840\n",
      "Epoch 9/15\n",
      "238/238 [==============================] - 564s 2s/step - loss: 0.0991 - binary_accuracy: 0.9627 - FP: 4074.0000 - TP: 208142.0000 - TN: 25570.0000 - FN: 4984.0000 - MCC: 0.8284 - AUC: 0.9827 - val_loss: 0.0943 - val_binary_accuracy: 0.9551 - val_FP: 829.0000 - val_TP: 51145.0000 - val_TN: 6559.0000 - val_FN: 1883.0000 - val_MCC: 0.8053 - val_AUC: 0.9858\n",
      "Epoch 10/15\n",
      "238/238 [==============================] - 586s 2s/step - loss: 0.0977 - binary_accuracy: 0.9633 - FP: 4029.0000 - TP: 208227.0000 - TN: 25623.0000 - FN: 4891.0000 - MCC: 0.8309 - AUC: 0.9832 - val_loss: 0.0946 - val_binary_accuracy: 0.9553 - val_FP: 809.0000 - val_TP: 51145.0000 - val_TN: 6571.0000 - val_FN: 1891.0000 - val_MCC: 0.8065 - val_AUC: 0.9858\n",
      "Epoch 11/15\n",
      "238/238 [==============================] - 557s 2s/step - loss: 0.0960 - binary_accuracy: 0.9637 - FP: 3966.0000 - TP: 208274.0000 - TN: 25682.0000 - FN: 4848.0000 - MCC: 0.8329 - AUC: 0.9836 - val_loss: 0.0955 - val_binary_accuracy: 0.9554 - val_FP: 707.0000 - val_TP: 51051.0000 - val_TN: 6669.0000 - val_FN: 1989.0000 - val_MCC: 0.8098 - val_AUC: 0.9864\n",
      "Epoch 12/15\n",
      "238/238 [==============================] - 552s 2s/step - loss: 0.0948 - binary_accuracy: 0.9645 - FP: 3884.0000 - TP: 208369.0000 - TN: 25774.0000 - FN: 4743.0000 - MCC: 0.8365 - AUC: 0.9840 - val_loss: 0.0950 - val_binary_accuracy: 0.9541 - val_FP: 736.0000 - val_TP: 51001.0000 - val_TN: 6644.0000 - val_FN: 2035.0000 - val_MCC: 0.8047 - val_AUC: 0.9862\n",
      "Epoch 13/15\n",
      "238/238 [==============================] - 568s 2s/step - loss: 0.0932 - binary_accuracy: 0.9654 - FP: 3788.0000 - TP: 208505.0000 - TN: 25872.0000 - FN: 4605.0000 - MCC: 0.8408 - AUC: 0.9845 - val_loss: 0.0949 - val_binary_accuracy: 0.9544 - val_FP: 781.0000 - val_TP: 51070.0000 - val_TN: 6593.0000 - val_FN: 1972.0000 - val_MCC: 0.8042 - val_AUC: 0.9858\n",
      "Epoch 14/15\n",
      "238/238 [==============================] - 581s 2s/step - loss: 0.0916 - binary_accuracy: 0.9660 - FP: 3745.0000 - TP: 208612.0000 - TN: 25904.0000 - FN: 4509.0000 - MCC: 0.8433 - AUC: 0.9849 - val_loss: 0.0971 - val_binary_accuracy: 0.9544 - val_FP: 653.0000 - val_TP: 50940.0000 - val_TN: 6723.0000 - val_FN: 2100.0000 - val_MCC: 0.8083 - val_AUC: 0.9864\n",
      "Epoch 15/15\n",
      "238/238 [==============================] - ETA: 0s - loss: 0.0900 - binary_accuracy: 0.9665 - FP: 3618.0000 - TP: 208606.0000 - TN: 26033.0000 - FN: 4513.0000 - MCC: 0.8459 - AUC: 0.9854"
     ]
    },
    {
     "ename": "UnknownError",
     "evalue": "2 root error(s) found.\n  (0) Unknown:  UnidentifiedImageError: cannot identify image file <_io.BytesIO object at 0x7fe78c6a31a8>\nTraceback (most recent call last):\n\n  File \"/usr/local/lib/python3.6/dist-packages/tensorflow/python/ops/script_ops.py\", line 249, in __call__\n    ret = func(*args)\n\n  File \"/usr/local/lib/python3.6/dist-packages/tensorflow/python/autograph/impl/api.py\", line 645, in wrapper\n    return func(*args, **kwargs)\n\n  File \"/usr/local/lib/python3.6/dist-packages/tensorflow/python/data/ops/dataset_ops.py\", line 892, in generator_py_func\n    values = next(generator_state.get_iterator(iterator_id))\n\n  File \"/usr/local/lib/python3.6/dist-packages/keras/engine/data_adapter.py\", line 822, in wrapped_generator\n    for data in generator_fn():\n\n  File \"/usr/local/lib/python3.6/dist-packages/keras/engine/data_adapter.py\", line 948, in generator_fn\n    yield x[i]\n\n  File \"/usr/local/lib/python3.6/dist-packages/keras_preprocessing/image/iterator.py\", line 65, in __getitem__\n    return self._get_batches_of_transformed_samples(index_array)\n\n  File \"/usr/local/lib/python3.6/dist-packages/keras_preprocessing/image/iterator.py\", line 230, in _get_batches_of_transformed_samples\n    interpolation=self.interpolation)\n\n  File \"/usr/local/lib/python3.6/dist-packages/keras_preprocessing/image/utils.py\", line 114, in load_img\n    img = pil_image.open(io.BytesIO(f.read()))\n\n  File \"/usr/local/lib/python3.6/dist-packages/PIL/Image.py\", line 3031, in open\n    \"cannot identify image file %r\" % (filename if filename else fp)\n\nPIL.UnidentifiedImageError: cannot identify image file <_io.BytesIO object at 0x7fe78c6a31a8>\n\n\n\t [[{{node PyFunc}}]]\n\t [[MultiDeviceIteratorGetNextFromShard]]\n\t [[RemoteCall]]\n\t [[IteratorGetNextAsOptional]]\n\t [[ReadVariableOp_4/_90]]\n  (1) Unknown:  UnidentifiedImageError: cannot identify image file <_io.BytesIO object at 0x7fe78c6a31a8>\nTraceback (most recent call last):\n\n  File \"/usr/local/lib/python3.6/dist-packages/tensorflow/python/ops/script_ops.py\", line 249, in __call__\n    ret = func(*args)\n\n  File \"/usr/local/lib/python3.6/dist-packages/tensorflow/python/autograph/impl/api.py\", line 645, in wrapper\n    return func(*args, **kwargs)\n\n  File \"/usr/local/lib/python3.6/dist-packages/tensorflow/python/data/ops/dataset_ops.py\", line 892, in generator_py_func\n    values = next(generator_state.get_iterator(iterator_id))\n\n  File \"/usr/local/lib/python3.6/dist-packages/keras/engine/data_adapter.py\", line 822, in wrapped_generator\n    for data in generator_fn():\n\n  File \"/usr/local/lib/python3.6/dist-packages/keras/engine/data_adapter.py\", line 948, in generator_fn\n    yield x[i]\n\n  File \"/usr/local/lib/python3.6/dist-packages/keras_preprocessing/image/iterator.py\", line 65, in __getitem__\n    return self._get_batches_of_transformed_samples(index_array)\n\n  File \"/usr/local/lib/python3.6/dist-packages/keras_preprocessing/image/iterator.py\", line 230, in _get_batches_of_transformed_samples\n    interpolation=self.interpolation)\n\n  File \"/usr/local/lib/python3.6/dist-packages/keras_preprocessing/image/utils.py\", line 114, in load_img\n    img = pil_image.open(io.BytesIO(f.read()))\n\n  File \"/usr/local/lib/python3.6/dist-packages/PIL/Image.py\", line 3031, in open\n    \"cannot identify image file %r\" % (filename if filename else fp)\n\nPIL.UnidentifiedImageError: cannot identify image file <_io.BytesIO object at 0x7fe78c6a31a8>\n\n\n\t [[{{node PyFunc}}]]\n\t [[MultiDeviceIteratorGetNextFromShard]]\n\t [[RemoteCall]]\n\t [[IteratorGetNextAsOptional]]\n0 successful operations.\n0 derived errors ignored. [Op:__inference_test_function_9960]\n\nFunction call stack:\ntest_function -> test_function\n",
     "output_type": "error",
     "traceback": [
      "\u001b[0;31m---------------------------------------------------------------------------\u001b[0m",
      "\u001b[0;31mUnknownError\u001b[0m                              Traceback (most recent call last)",
      "\u001b[0;32m<ipython-input-21-39d17e9d0ec8>\u001b[0m in \u001b[0;36m<module>\u001b[0;34m\u001b[0m\n\u001b[1;32m     14\u001b[0m         \u001b[0mlogs\u001b[0m\u001b[0;34m,\u001b[0m\u001b[0;34m\u001b[0m\u001b[0;34m\u001b[0m\u001b[0m\n\u001b[1;32m     15\u001b[0m         \u001b[0mmodel_checkpoint_callback\u001b[0m\u001b[0;34m,\u001b[0m\u001b[0;34m\u001b[0m\u001b[0;34m\u001b[0m\u001b[0m\n\u001b[0;32m---> 16\u001b[0;31m         \u001b[0mreduce_lr\u001b[0m\u001b[0;34m\u001b[0m\u001b[0;34m\u001b[0m\u001b[0m\n\u001b[0m\u001b[1;32m     17\u001b[0m         ])\n",
      "\u001b[0;32m/usr/local/lib/python3.6/dist-packages/keras/engine/training.py\u001b[0m in \u001b[0;36mfit\u001b[0;34m(self, x, y, batch_size, epochs, verbose, callbacks, validation_split, validation_data, shuffle, class_weight, sample_weight, initial_epoch, steps_per_epoch, validation_steps, validation_batch_size, validation_freq, max_queue_size, workers, use_multiprocessing)\u001b[0m\n\u001b[1;32m   1224\u001b[0m               \u001b[0muse_multiprocessing\u001b[0m\u001b[0;34m=\u001b[0m\u001b[0muse_multiprocessing\u001b[0m\u001b[0;34m,\u001b[0m\u001b[0;34m\u001b[0m\u001b[0;34m\u001b[0m\u001b[0m\n\u001b[1;32m   1225\u001b[0m               \u001b[0mreturn_dict\u001b[0m\u001b[0;34m=\u001b[0m\u001b[0;32mTrue\u001b[0m\u001b[0;34m,\u001b[0m\u001b[0;34m\u001b[0m\u001b[0;34m\u001b[0m\u001b[0m\n\u001b[0;32m-> 1226\u001b[0;31m               _use_cached_eval_dataset=True)\n\u001b[0m\u001b[1;32m   1227\u001b[0m           \u001b[0mval_logs\u001b[0m \u001b[0;34m=\u001b[0m \u001b[0;34m{\u001b[0m\u001b[0;34m'val_'\u001b[0m \u001b[0;34m+\u001b[0m \u001b[0mname\u001b[0m\u001b[0;34m:\u001b[0m \u001b[0mval\u001b[0m \u001b[0;32mfor\u001b[0m \u001b[0mname\u001b[0m\u001b[0;34m,\u001b[0m \u001b[0mval\u001b[0m \u001b[0;32min\u001b[0m \u001b[0mval_logs\u001b[0m\u001b[0;34m.\u001b[0m\u001b[0mitems\u001b[0m\u001b[0;34m(\u001b[0m\u001b[0;34m)\u001b[0m\u001b[0;34m}\u001b[0m\u001b[0;34m\u001b[0m\u001b[0;34m\u001b[0m\u001b[0m\n\u001b[1;32m   1228\u001b[0m           \u001b[0mepoch_logs\u001b[0m\u001b[0;34m.\u001b[0m\u001b[0mupdate\u001b[0m\u001b[0;34m(\u001b[0m\u001b[0mval_logs\u001b[0m\u001b[0;34m)\u001b[0m\u001b[0;34m\u001b[0m\u001b[0;34m\u001b[0m\u001b[0m\n",
      "\u001b[0;32m/usr/local/lib/python3.6/dist-packages/keras/engine/training.py\u001b[0m in \u001b[0;36mevaluate\u001b[0;34m(self, x, y, batch_size, verbose, sample_weight, steps, callbacks, max_queue_size, workers, use_multiprocessing, return_dict, **kwargs)\u001b[0m\n\u001b[1;32m   1499\u001b[0m             \u001b[0;32mwith\u001b[0m \u001b[0mtf\u001b[0m\u001b[0;34m.\u001b[0m\u001b[0mprofiler\u001b[0m\u001b[0;34m.\u001b[0m\u001b[0mexperimental\u001b[0m\u001b[0;34m.\u001b[0m\u001b[0mTrace\u001b[0m\u001b[0;34m(\u001b[0m\u001b[0;34m'test'\u001b[0m\u001b[0;34m,\u001b[0m \u001b[0mstep_num\u001b[0m\u001b[0;34m=\u001b[0m\u001b[0mstep\u001b[0m\u001b[0;34m,\u001b[0m \u001b[0m_r\u001b[0m\u001b[0;34m=\u001b[0m\u001b[0;36m1\u001b[0m\u001b[0;34m)\u001b[0m\u001b[0;34m:\u001b[0m\u001b[0;34m\u001b[0m\u001b[0;34m\u001b[0m\u001b[0m\n\u001b[1;32m   1500\u001b[0m               \u001b[0mcallbacks\u001b[0m\u001b[0;34m.\u001b[0m\u001b[0mon_test_batch_begin\u001b[0m\u001b[0;34m(\u001b[0m\u001b[0mstep\u001b[0m\u001b[0;34m)\u001b[0m\u001b[0;34m\u001b[0m\u001b[0;34m\u001b[0m\u001b[0m\n\u001b[0;32m-> 1501\u001b[0;31m               \u001b[0mtmp_logs\u001b[0m \u001b[0;34m=\u001b[0m \u001b[0mself\u001b[0m\u001b[0;34m.\u001b[0m\u001b[0mtest_function\u001b[0m\u001b[0;34m(\u001b[0m\u001b[0miterator\u001b[0m\u001b[0;34m)\u001b[0m\u001b[0;34m\u001b[0m\u001b[0;34m\u001b[0m\u001b[0m\n\u001b[0m\u001b[1;32m   1502\u001b[0m               \u001b[0;32mif\u001b[0m \u001b[0mdata_handler\u001b[0m\u001b[0;34m.\u001b[0m\u001b[0mshould_sync\u001b[0m\u001b[0;34m:\u001b[0m\u001b[0;34m\u001b[0m\u001b[0;34m\u001b[0m\u001b[0m\n\u001b[1;32m   1503\u001b[0m                 \u001b[0mcontext\u001b[0m\u001b[0;34m.\u001b[0m\u001b[0masync_wait\u001b[0m\u001b[0;34m(\u001b[0m\u001b[0;34m)\u001b[0m\u001b[0;34m\u001b[0m\u001b[0;34m\u001b[0m\u001b[0m\n",
      "\u001b[0;32m/usr/local/lib/python3.6/dist-packages/tensorflow/python/eager/def_function.py\u001b[0m in \u001b[0;36m__call__\u001b[0;34m(self, *args, **kwds)\u001b[0m\n\u001b[1;32m    883\u001b[0m \u001b[0;34m\u001b[0m\u001b[0m\n\u001b[1;32m    884\u001b[0m       \u001b[0;32mwith\u001b[0m \u001b[0mOptionalXlaContext\u001b[0m\u001b[0;34m(\u001b[0m\u001b[0mself\u001b[0m\u001b[0;34m.\u001b[0m\u001b[0m_jit_compile\u001b[0m\u001b[0;34m)\u001b[0m\u001b[0;34m:\u001b[0m\u001b[0;34m\u001b[0m\u001b[0;34m\u001b[0m\u001b[0m\n\u001b[0;32m--> 885\u001b[0;31m         \u001b[0mresult\u001b[0m \u001b[0;34m=\u001b[0m \u001b[0mself\u001b[0m\u001b[0;34m.\u001b[0m\u001b[0m_call\u001b[0m\u001b[0;34m(\u001b[0m\u001b[0;34m*\u001b[0m\u001b[0margs\u001b[0m\u001b[0;34m,\u001b[0m \u001b[0;34m**\u001b[0m\u001b[0mkwds\u001b[0m\u001b[0;34m)\u001b[0m\u001b[0;34m\u001b[0m\u001b[0;34m\u001b[0m\u001b[0m\n\u001b[0m\u001b[1;32m    886\u001b[0m \u001b[0;34m\u001b[0m\u001b[0m\n\u001b[1;32m    887\u001b[0m       \u001b[0mnew_tracing_count\u001b[0m \u001b[0;34m=\u001b[0m \u001b[0mself\u001b[0m\u001b[0;34m.\u001b[0m\u001b[0mexperimental_get_tracing_count\u001b[0m\u001b[0;34m(\u001b[0m\u001b[0;34m)\u001b[0m\u001b[0;34m\u001b[0m\u001b[0;34m\u001b[0m\u001b[0m\n",
      "\u001b[0;32m/usr/local/lib/python3.6/dist-packages/tensorflow/python/eager/def_function.py\u001b[0m in \u001b[0;36m_call\u001b[0;34m(self, *args, **kwds)\u001b[0m\n\u001b[1;32m    922\u001b[0m       \u001b[0;31m# In this case we have not created variables on the first call. So we can\u001b[0m\u001b[0;34m\u001b[0m\u001b[0;34m\u001b[0m\u001b[0;34m\u001b[0m\u001b[0m\n\u001b[1;32m    923\u001b[0m       \u001b[0;31m# run the first trace but we should fail if variables are created.\u001b[0m\u001b[0;34m\u001b[0m\u001b[0;34m\u001b[0m\u001b[0;34m\u001b[0m\u001b[0m\n\u001b[0;32m--> 924\u001b[0;31m       \u001b[0mresults\u001b[0m \u001b[0;34m=\u001b[0m \u001b[0mself\u001b[0m\u001b[0;34m.\u001b[0m\u001b[0m_stateful_fn\u001b[0m\u001b[0;34m(\u001b[0m\u001b[0;34m*\u001b[0m\u001b[0margs\u001b[0m\u001b[0;34m,\u001b[0m \u001b[0;34m**\u001b[0m\u001b[0mkwds\u001b[0m\u001b[0;34m)\u001b[0m\u001b[0;34m\u001b[0m\u001b[0;34m\u001b[0m\u001b[0m\n\u001b[0m\u001b[1;32m    925\u001b[0m       \u001b[0;32mif\u001b[0m \u001b[0mself\u001b[0m\u001b[0;34m.\u001b[0m\u001b[0m_created_variables\u001b[0m \u001b[0;32mand\u001b[0m \u001b[0;32mnot\u001b[0m \u001b[0mALLOW_DYNAMIC_VARIABLE_CREATION\u001b[0m\u001b[0;34m:\u001b[0m\u001b[0;34m\u001b[0m\u001b[0;34m\u001b[0m\u001b[0m\n\u001b[1;32m    926\u001b[0m         raise ValueError(\"Creating variables on a non-first call to a function\"\n",
      "\u001b[0;32m/usr/local/lib/python3.6/dist-packages/tensorflow/python/eager/function.py\u001b[0m in \u001b[0;36m__call__\u001b[0;34m(self, *args, **kwargs)\u001b[0m\n\u001b[1;32m   3038\u001b[0m        filtered_flat_args) = self._maybe_define_function(args, kwargs)\n\u001b[1;32m   3039\u001b[0m     return graph_function._call_flat(\n\u001b[0;32m-> 3040\u001b[0;31m         filtered_flat_args, captured_inputs=graph_function.captured_inputs)  # pylint: disable=protected-access\n\u001b[0m\u001b[1;32m   3041\u001b[0m \u001b[0;34m\u001b[0m\u001b[0m\n\u001b[1;32m   3042\u001b[0m   \u001b[0;34m@\u001b[0m\u001b[0mproperty\u001b[0m\u001b[0;34m\u001b[0m\u001b[0;34m\u001b[0m\u001b[0m\n",
      "\u001b[0;32m/usr/local/lib/python3.6/dist-packages/tensorflow/python/eager/function.py\u001b[0m in \u001b[0;36m_call_flat\u001b[0;34m(self, args, captured_inputs, cancellation_manager)\u001b[0m\n\u001b[1;32m   1962\u001b[0m       \u001b[0;31m# No tape is watching; skip to running the function.\u001b[0m\u001b[0;34m\u001b[0m\u001b[0;34m\u001b[0m\u001b[0;34m\u001b[0m\u001b[0m\n\u001b[1;32m   1963\u001b[0m       return self._build_call_outputs(self._inference_function.call(\n\u001b[0;32m-> 1964\u001b[0;31m           ctx, args, cancellation_manager=cancellation_manager))\n\u001b[0m\u001b[1;32m   1965\u001b[0m     forward_backward = self._select_forward_and_backward_functions(\n\u001b[1;32m   1966\u001b[0m         \u001b[0margs\u001b[0m\u001b[0;34m,\u001b[0m\u001b[0;34m\u001b[0m\u001b[0;34m\u001b[0m\u001b[0m\n",
      "\u001b[0;32m/usr/local/lib/python3.6/dist-packages/tensorflow/python/eager/function.py\u001b[0m in \u001b[0;36mcall\u001b[0;34m(self, ctx, args, cancellation_manager)\u001b[0m\n\u001b[1;32m    594\u001b[0m               \u001b[0minputs\u001b[0m\u001b[0;34m=\u001b[0m\u001b[0margs\u001b[0m\u001b[0;34m,\u001b[0m\u001b[0;34m\u001b[0m\u001b[0;34m\u001b[0m\u001b[0m\n\u001b[1;32m    595\u001b[0m               \u001b[0mattrs\u001b[0m\u001b[0;34m=\u001b[0m\u001b[0mattrs\u001b[0m\u001b[0;34m,\u001b[0m\u001b[0;34m\u001b[0m\u001b[0;34m\u001b[0m\u001b[0m\n\u001b[0;32m--> 596\u001b[0;31m               ctx=ctx)\n\u001b[0m\u001b[1;32m    597\u001b[0m         \u001b[0;32melse\u001b[0m\u001b[0;34m:\u001b[0m\u001b[0;34m\u001b[0m\u001b[0;34m\u001b[0m\u001b[0m\n\u001b[1;32m    598\u001b[0m           outputs = execute.execute_with_cancellation(\n",
      "\u001b[0;32m/usr/local/lib/python3.6/dist-packages/tensorflow/python/eager/execute.py\u001b[0m in \u001b[0;36mquick_execute\u001b[0;34m(op_name, num_outputs, inputs, attrs, ctx, name)\u001b[0m\n\u001b[1;32m     58\u001b[0m     \u001b[0mctx\u001b[0m\u001b[0;34m.\u001b[0m\u001b[0mensure_initialized\u001b[0m\u001b[0;34m(\u001b[0m\u001b[0;34m)\u001b[0m\u001b[0;34m\u001b[0m\u001b[0;34m\u001b[0m\u001b[0m\n\u001b[1;32m     59\u001b[0m     tensors = pywrap_tfe.TFE_Py_Execute(ctx._handle, device_name, op_name,\n\u001b[0;32m---> 60\u001b[0;31m                                         inputs, attrs, num_outputs)\n\u001b[0m\u001b[1;32m     61\u001b[0m   \u001b[0;32mexcept\u001b[0m \u001b[0mcore\u001b[0m\u001b[0;34m.\u001b[0m\u001b[0m_NotOkStatusException\u001b[0m \u001b[0;32mas\u001b[0m \u001b[0me\u001b[0m\u001b[0;34m:\u001b[0m\u001b[0;34m\u001b[0m\u001b[0;34m\u001b[0m\u001b[0m\n\u001b[1;32m     62\u001b[0m     \u001b[0;32mif\u001b[0m \u001b[0mname\u001b[0m \u001b[0;32mis\u001b[0m \u001b[0;32mnot\u001b[0m \u001b[0;32mNone\u001b[0m\u001b[0;34m:\u001b[0m\u001b[0;34m\u001b[0m\u001b[0;34m\u001b[0m\u001b[0m\n",
      "\u001b[0;31mUnknownError\u001b[0m: 2 root error(s) found.\n  (0) Unknown:  UnidentifiedImageError: cannot identify image file <_io.BytesIO object at 0x7fe78c6a31a8>\nTraceback (most recent call last):\n\n  File \"/usr/local/lib/python3.6/dist-packages/tensorflow/python/ops/script_ops.py\", line 249, in __call__\n    ret = func(*args)\n\n  File \"/usr/local/lib/python3.6/dist-packages/tensorflow/python/autograph/impl/api.py\", line 645, in wrapper\n    return func(*args, **kwargs)\n\n  File \"/usr/local/lib/python3.6/dist-packages/tensorflow/python/data/ops/dataset_ops.py\", line 892, in generator_py_func\n    values = next(generator_state.get_iterator(iterator_id))\n\n  File \"/usr/local/lib/python3.6/dist-packages/keras/engine/data_adapter.py\", line 822, in wrapped_generator\n    for data in generator_fn():\n\n  File \"/usr/local/lib/python3.6/dist-packages/keras/engine/data_adapter.py\", line 948, in generator_fn\n    yield x[i]\n\n  File \"/usr/local/lib/python3.6/dist-packages/keras_preprocessing/image/iterator.py\", line 65, in __getitem__\n    return self._get_batches_of_transformed_samples(index_array)\n\n  File \"/usr/local/lib/python3.6/dist-packages/keras_preprocessing/image/iterator.py\", line 230, in _get_batches_of_transformed_samples\n    interpolation=self.interpolation)\n\n  File \"/usr/local/lib/python3.6/dist-packages/keras_preprocessing/image/utils.py\", line 114, in load_img\n    img = pil_image.open(io.BytesIO(f.read()))\n\n  File \"/usr/local/lib/python3.6/dist-packages/PIL/Image.py\", line 3031, in open\n    \"cannot identify image file %r\" % (filename if filename else fp)\n\nPIL.UnidentifiedImageError: cannot identify image file <_io.BytesIO object at 0x7fe78c6a31a8>\n\n\n\t [[{{node PyFunc}}]]\n\t [[MultiDeviceIteratorGetNextFromShard]]\n\t [[RemoteCall]]\n\t [[IteratorGetNextAsOptional]]\n\t [[ReadVariableOp_4/_90]]\n  (1) Unknown:  UnidentifiedImageError: cannot identify image file <_io.BytesIO object at 0x7fe78c6a31a8>\nTraceback (most recent call last):\n\n  File \"/usr/local/lib/python3.6/dist-packages/tensorflow/python/ops/script_ops.py\", line 249, in __call__\n    ret = func(*args)\n\n  File \"/usr/local/lib/python3.6/dist-packages/tensorflow/python/autograph/impl/api.py\", line 645, in wrapper\n    return func(*args, **kwargs)\n\n  File \"/usr/local/lib/python3.6/dist-packages/tensorflow/python/data/ops/dataset_ops.py\", line 892, in generator_py_func\n    values = next(generator_state.get_iterator(iterator_id))\n\n  File \"/usr/local/lib/python3.6/dist-packages/keras/engine/data_adapter.py\", line 822, in wrapped_generator\n    for data in generator_fn():\n\n  File \"/usr/local/lib/python3.6/dist-packages/keras/engine/data_adapter.py\", line 948, in generator_fn\n    yield x[i]\n\n  File \"/usr/local/lib/python3.6/dist-packages/keras_preprocessing/image/iterator.py\", line 65, in __getitem__\n    return self._get_batches_of_transformed_samples(index_array)\n\n  File \"/usr/local/lib/python3.6/dist-packages/keras_preprocessing/image/iterator.py\", line 230, in _get_batches_of_transformed_samples\n    interpolation=self.interpolation)\n\n  File \"/usr/local/lib/python3.6/dist-packages/keras_preprocessing/image/utils.py\", line 114, in load_img\n    img = pil_image.open(io.BytesIO(f.read()))\n\n  File \"/usr/local/lib/python3.6/dist-packages/PIL/Image.py\", line 3031, in open\n    \"cannot identify image file %r\" % (filename if filename else fp)\n\nPIL.UnidentifiedImageError: cannot identify image file <_io.BytesIO object at 0x7fe78c6a31a8>\n\n\n\t [[{{node PyFunc}}]]\n\t [[MultiDeviceIteratorGetNextFromShard]]\n\t [[RemoteCall]]\n\t [[IteratorGetNextAsOptional]]\n0 successful operations.\n0 derived errors ignored. [Op:__inference_test_function_9960]\n\nFunction call stack:\ntest_function -> test_function\n"
     ]
    }
   ],
   "source": [
    "model = Zoon0Pred_model(mirrored_strategy)\n",
    "\n",
    "history = model.fit(\n",
    "    train_data_iterator, \n",
    "    steps_per_epoch=TRAIN_STEPS,\n",
    "    validation_data=validation_data_iterator, \n",
    "    validation_steps=VALIDATION_STEPS,\n",
    "    epochs=15,\n",
    "    verbose=1,\n",
    "    # use_multiprocessing=True,\n",
    "    shuffle=True,\n",
    "#     class_weight={0:4.11808002, 1:0.56909742},\n",
    "    callbacks=[\n",
    "        logs,\n",
    "        model_checkpoint_callback,\n",
    "        # reduce_lr\n",
    "        ])"
   ]
  },
  {
   "cell_type": "markdown",
   "metadata": {},
   "source": [
    "## Save best model\n",
    "\n",
    "Useful in the script but not necessary in this the notebook context"
   ]
  },
  {
   "cell_type": "code",
   "execution_count": 22,
   "metadata": {},
   "outputs": [],
   "source": [
    "model.load_weights('check.ckpt')\n",
    "save_model(model, 'model')"
   ]
  },
  {
   "cell_type": "code",
   "execution_count": 24,
   "metadata": {
    "scrolled": true,
    "tags": []
   },
   "outputs": [
    {
     "data": {
      "image/png": "[encoded data removed]",
      "text/plain": [
       "<IPython.core.display.Image object>"
      ]
     },
     "execution_count": 24,
     "metadata": {},
     "output_type": "execute_result"
    }
   ],
   "source": [
    "plot_model(model, \"Zoonopred.png\", show_layer_names=False)"
   ]
  },
  {
   "cell_type": "markdown",
   "metadata": {},
   "source": [
    "## Model evaluation"
   ]
  },
  {
   "cell_type": "code",
   "execution_count": 14,
   "metadata": {},
   "outputs": [
    {
     "ename": "NameError",
     "evalue": "name 'np' is not defined",
     "output_type": "error",
     "traceback": [
      "\u001b[0;31m---------------------------------------------------------------------------\u001b[0m",
      "\u001b[0;31mNameError\u001b[0m                                 Traceback (most recent call last)",
      "\u001b[0;32m<ipython-input-14-694c72b46bc8>\u001b[0m in \u001b[0;36m<module>\u001b[0;34m\u001b[0m\n\u001b[0;32m----> 1\u001b[0;31m \u001b[0mmodel\u001b[0m\u001b[0;34m.\u001b[0m\u001b[0mevaluate\u001b[0m\u001b[0;34m(\u001b[0m\u001b[0mtest_data_iterator\u001b[0m\u001b[0;34m,\u001b[0m \u001b[0mreturn_dict\u001b[0m\u001b[0;34m=\u001b[0m\u001b[0;32mTrue\u001b[0m\u001b[0;34m,\u001b[0m \u001b[0msteps\u001b[0m\u001b[0;34m=\u001b[0m\u001b[0;36m321\u001b[0m\u001b[0;34m)\u001b[0m\u001b[0;34m\u001b[0m\u001b[0;34m\u001b[0m\u001b[0m\n\u001b[0m",
      "\u001b[0;32m/usr/local/lib/python3.6/dist-packages/keras/engine/training.py\u001b[0m in \u001b[0;36mevaluate\u001b[0;34m(self, x, y, batch_size, verbose, sample_weight, steps, callbacks, max_queue_size, workers, use_multiprocessing, return_dict, **kwargs)\u001b[0m\n\u001b[1;32m   1494\u001b[0m       \u001b[0mcallbacks\u001b[0m\u001b[0;34m.\u001b[0m\u001b[0mon_test_begin\u001b[0m\u001b[0;34m(\u001b[0m\u001b[0;34m)\u001b[0m\u001b[0;34m\u001b[0m\u001b[0;34m\u001b[0m\u001b[0m\n\u001b[1;32m   1495\u001b[0m       \u001b[0;32mfor\u001b[0m \u001b[0m_\u001b[0m\u001b[0;34m,\u001b[0m \u001b[0miterator\u001b[0m \u001b[0;32min\u001b[0m \u001b[0mdata_handler\u001b[0m\u001b[0;34m.\u001b[0m\u001b[0menumerate_epochs\u001b[0m\u001b[0;34m(\u001b[0m\u001b[0;34m)\u001b[0m\u001b[0;34m:\u001b[0m  \u001b[0;31m# Single epoch.\u001b[0m\u001b[0;34m\u001b[0m\u001b[0;34m\u001b[0m\u001b[0m\n\u001b[0;32m-> 1496\u001b[0;31m         \u001b[0mself\u001b[0m\u001b[0;34m.\u001b[0m\u001b[0mreset_metrics\u001b[0m\u001b[0;34m(\u001b[0m\u001b[0;34m)\u001b[0m\u001b[0;34m\u001b[0m\u001b[0;34m\u001b[0m\u001b[0m\n\u001b[0m\u001b[1;32m   1497\u001b[0m         \u001b[0;32mwith\u001b[0m \u001b[0mdata_handler\u001b[0m\u001b[0;34m.\u001b[0m\u001b[0mcatch_stop_iteration\u001b[0m\u001b[0;34m(\u001b[0m\u001b[0;34m)\u001b[0m\u001b[0;34m:\u001b[0m\u001b[0;34m\u001b[0m\u001b[0;34m\u001b[0m\u001b[0m\n\u001b[1;32m   1498\u001b[0m           \u001b[0;32mfor\u001b[0m \u001b[0mstep\u001b[0m \u001b[0;32min\u001b[0m \u001b[0mdata_handler\u001b[0m\u001b[0;34m.\u001b[0m\u001b[0msteps\u001b[0m\u001b[0;34m(\u001b[0m\u001b[0;34m)\u001b[0m\u001b[0;34m:\u001b[0m\u001b[0;34m\u001b[0m\u001b[0;34m\u001b[0m\u001b[0m\n",
      "\u001b[0;32m/usr/local/lib/python3.6/dist-packages/keras/engine/training.py\u001b[0m in \u001b[0;36mreset_metrics\u001b[0;34m(self)\u001b[0m\n\u001b[1;32m   1796\u001b[0m     \"\"\"\n\u001b[1;32m   1797\u001b[0m     \u001b[0;32mfor\u001b[0m \u001b[0mm\u001b[0m \u001b[0;32min\u001b[0m \u001b[0mself\u001b[0m\u001b[0;34m.\u001b[0m\u001b[0mmetrics\u001b[0m\u001b[0;34m:\u001b[0m\u001b[0;34m\u001b[0m\u001b[0;34m\u001b[0m\u001b[0m\n\u001b[0;32m-> 1798\u001b[0;31m       \u001b[0mm\u001b[0m\u001b[0;34m.\u001b[0m\u001b[0mreset_state\u001b[0m\u001b[0;34m(\u001b[0m\u001b[0;34m)\u001b[0m\u001b[0;34m\u001b[0m\u001b[0;34m\u001b[0m\u001b[0m\n\u001b[0m\u001b[1;32m   1799\u001b[0m \u001b[0;34m\u001b[0m\u001b[0m\n\u001b[1;32m   1800\u001b[0m   def train_on_batch(self,\n",
      "\u001b[0;32m<ipython-input-9-c8bdef588ee8>\u001b[0m in \u001b[0;36mreset_state\u001b[0;34m(self)\u001b[0m\n\u001b[1;32m     80\u001b[0m                                            \u001b[0mself\u001b[0m\u001b[0;34m.\u001b[0m\u001b[0mfalse_positives\u001b[0m\u001b[0;34m,\u001b[0m\u001b[0;34m\u001b[0m\u001b[0;34m\u001b[0m\u001b[0m\n\u001b[1;32m     81\u001b[0m                                            \u001b[0mself\u001b[0m\u001b[0;34m.\u001b[0m\u001b[0mtrue_negatives\u001b[0m\u001b[0;34m,\u001b[0m\u001b[0;34m\u001b[0m\u001b[0;34m\u001b[0m\u001b[0m\n\u001b[0;32m---> 82\u001b[0;31m                                            self.false_negatives)])\n\u001b[0m\u001b[1;32m     83\u001b[0m \u001b[0;34m\u001b[0m\u001b[0m\n\u001b[1;32m     84\u001b[0m     \u001b[0;32mdef\u001b[0m \u001b[0mget_config\u001b[0m\u001b[0;34m(\u001b[0m\u001b[0mself\u001b[0m\u001b[0;34m)\u001b[0m\u001b[0;34m:\u001b[0m\u001b[0;34m\u001b[0m\u001b[0;34m\u001b[0m\u001b[0m\n",
      "\u001b[0;32m<ipython-input-9-c8bdef588ee8>\u001b[0m in \u001b[0;36m<listcomp>\u001b[0;34m(.0)\u001b[0m\n\u001b[1;32m     77\u001b[0m         \u001b[0mnum_thresholds\u001b[0m \u001b[0;34m=\u001b[0m \u001b[0mlen\u001b[0m\u001b[0;34m(\u001b[0m\u001b[0mto_list\u001b[0m\u001b[0;34m(\u001b[0m\u001b[0mself\u001b[0m\u001b[0;34m.\u001b[0m\u001b[0mthresholds\u001b[0m\u001b[0;34m)\u001b[0m\u001b[0;34m)\u001b[0m\u001b[0;34m\u001b[0m\u001b[0;34m\u001b[0m\u001b[0m\n\u001b[1;32m     78\u001b[0m         backend.batch_set_value([(v, np.zeros((num_thresholds,)))\n\u001b[0;32m---> 79\u001b[0;31m                                  for v in (self.true_positives,\n\u001b[0m\u001b[1;32m     80\u001b[0m                                            \u001b[0mself\u001b[0m\u001b[0;34m.\u001b[0m\u001b[0mfalse_positives\u001b[0m\u001b[0;34m,\u001b[0m\u001b[0;34m\u001b[0m\u001b[0;34m\u001b[0m\u001b[0m\n\u001b[1;32m     81\u001b[0m                                            \u001b[0mself\u001b[0m\u001b[0;34m.\u001b[0m\u001b[0mtrue_negatives\u001b[0m\u001b[0;34m,\u001b[0m\u001b[0;34m\u001b[0m\u001b[0;34m\u001b[0m\u001b[0m\n",
      "\u001b[0;31mNameError\u001b[0m: name 'np' is not defined"
     ]
    }
   ],
   "source": [
    "model.evaluate(test_data_iterator, return_dict=True, steps=321)"
   ]
  },
  {
   "cell_type": "code",
   "execution_count": 25,
   "metadata": {},
   "outputs": [
    {
     "ename": "NameError",
     "evalue": "name 'history' is not defined",
     "output_type": "error",
     "traceback": [
      "\u001b[0;31m---------------------------------------------------------------------------\u001b[0m",
      "\u001b[0;31mNameError\u001b[0m                                 Traceback (most recent call last)",
      "\u001b[0;32m<ipython-input-25-9b49a96a85ac>\u001b[0m in \u001b[0;36m<module>\u001b[0;34m\u001b[0m\n\u001b[0;32m----> 1\u001b[0;31m \u001b[0mhistory\u001b[0m\u001b[0;34m.\u001b[0m\u001b[0mparams\u001b[0m\u001b[0;34m\u001b[0m\u001b[0;34m\u001b[0m\u001b[0m\n\u001b[0m",
      "\u001b[0;31mNameError\u001b[0m: name 'history' is not defined"
     ]
    }
   ],
   "source": [
    "history.params"
   ]
  },
  {
   "cell_type": "code",
   "execution_count": 23,
   "metadata": {},
   "outputs": [
    {
     "data": {
      "text/plain": [
       "dict_keys(['loss', 'binary_accuracy', 'Recall', 'Precision', 'FP', 'TP', 'TN', 'FN', 'MCC', 'AUC', 'val_loss', 'val_binary_accuracy', 'val_Recall', 'val_Precision', 'val_FP', 'val_TP', 'val_TN', 'val_FN', 'val_MCC', 'val_AUC', 'lr'])"
      ]
     },
     "execution_count": 23,
     "metadata": {},
     "output_type": "execute_result"
    }
   ],
   "source": [
    "history.history.keys()"
   ]
  },
  {
   "cell_type": "code",
   "execution_count": null,
   "metadata": {},
   "outputs": [],
   "source": []
  },
  {
   "cell_type": "markdown",
   "metadata": {
    "tags": []
   },
   "source": [
    "### Model training with cross validation"
   ]
  },
  {
   "cell_type": "code",
   "execution_count": null,
   "metadata": {},
   "outputs": [],
   "source": [
    "# from imblearn.over_sampling import RandomOverSampler\n",
    "# from imblearn.under_sampling import RandomUnderSampler\n",
    "# from sklearn.model_selection import cross_val_score\n",
    "# from sklearn.model_selection import RepeatedStratifiedKFold\n",
    "# from sklearn.utils import class_weight\n",
    "# import numpy as np"
   ]
  },
  {
   "cell_type": "code",
   "execution_count": 9,
   "metadata": {},
   "outputs": [],
   "source": [
    "# os.getcwd()"
   ]
  },
  {
   "cell_type": "code",
   "execution_count": 10,
   "metadata": {},
   "outputs": [],
   "source": [
    "# # os.chdir('/home/campbell/Documents/Rudolph/data/')\n",
    "# dataset_directory = '/home/campbell/Documents/Rudolph/data/MetazoaZoonosisData/train'\n",
    "# data_subdirectories = ['human-false', 'human-true']"
   ]
  },
  {
   "cell_type": "code",
   "execution_count": 11,
   "metadata": {
    "tags": []
   },
   "outputs": [],
   "source": [
    "# X, y = createImageData(data_dir=dataset_directory, subdir=data_subdirectories)\n",
    "\n",
    "# print(X.shape)\n",
    "# print(y.shape)"
   ]
  },
  {
   "cell_type": "code",
   "execution_count": 12,
   "metadata": {},
   "outputs": [],
   "source": [
    "# seed = 960505\n",
    "# def balanced_flow_from_directory(flow_from_directory):\n",
    "#     rus = RandomUnderSampler(sampling_strategy=0.5, random_state=seed)\n",
    "# #     X_sample, y_sample = rus.fit_resample(X, y)\n",
    "#     for x, y in flow_from_directory.get(2):\n",
    "#          yield rus.fit_resample(x, y)\n",
    "\n",
    "# train_data = balanced_flow_from_directory(train_data_iterator)"
   ]
  },
  {
   "cell_type": "code",
   "execution_count": 16,
   "metadata": {},
   "outputs": [],
   "source": [
    "# model_checkpoint = 'check.ckpt'\n",
    "# # logs = 'logs.csv'\n",
    "# model_checkpoint_callback = ModelCheckpoint(\n",
    "#     filepath=model_checkpoint,\n",
    "#     save_weights_only=True,\n",
    "#     monitor='val_accuracy',\n",
    "#     mode='max',\n",
    "#     save_best_only=True)\n",
    "\n",
    "# seed = 960505\n",
    "\n",
    "# # Evaluating a model with random oversampling and undersampling\n",
    "# ## Resample data\n",
    "# # Sampling strategy resamples dataset to a 2:1 ratio of the majority class\n",
    "# # rus = RandomUnderSampler(sampling_strategy=0.5, random_state=seed)\n",
    "# # X_sample, y_sample = rus.fit_resample(X, y)\n",
    "\n",
    "# # print(X_sample.shape)\n",
    "# # print(y_sample.shape)\n",
    "\n",
    "# ## Define cross validator\n",
    "# cv = RepeatedStratifiedKFold(n_splits=5, random_state=seed)\n",
    "\n",
    "# ## Define model\n",
    "# model = ConvNetModel()\n",
    "\n",
    "# # parameters passed to fit method\n",
    "# fit_params = {'shuffle':True, 'epochs':100,\n",
    "#               'verbose':0, 'class_weight':class_weights,\n",
    "#               'callbacks':[CSVLogger('logs.csv'), model_checkpoint_callback]}\n",
    "\n",
    "# # Train model with 5-fold cross validation\n",
    "# scores = cross_val_score(model,\n",
    "#                          train_data_iterator,\n",
    "#                          scoring='f1',\n",
    "#                          cv=cv, #n_jobs=1,\n",
    "#                          fit_params=fit_params)\n",
    "\n",
    "# score = np.mean(scores)\n",
    "# print('F1 Score: %.3f' % score)"
   ]
  },
  {
   "cell_type": "code",
   "execution_count": null,
   "metadata": {},
   "outputs": [],
   "source": [
    "# import cv2\n",
    "\n",
    "# def img_proc(image):\n",
    "#     img_mtx = cv2.subtract(255, cv2.imread(image, cv2.IMREAD_GRAYSCALE))\n",
    "#     save_as = os.path.join(path, image)\n",
    "#     cv2.imwrite(save_as, img_mtx)\n",
    "\n",
    "# from concurrent.futures import ThreadPoolExecutor\n",
    "\n",
    "# images_list = []\n",
    "\n",
    "# for directory in dirs:\n",
    "#     dir_items = os.listdir(directory)\n",
    "#     dir_items_full_name = [os.path.join(directory, item) for item in dir_items]\n",
    "#     images_list.append(dir_items_full_name)\n",
    "\n",
    "# with ThreadPoolExecutor() as executor:\n",
    "#     list(tqdm(executor.map(img_proc, images_list), total=len(images_list)))"
   ]
  }
 ],
 "metadata": {
  "kernelspec": {
   "display_name": "Zoon0PredV",
   "language": "python",
   "name": "tensorflow"
  },
  "language_info": {
   "codemirror_mode": {
    "name": "ipython",
    "version": 3
   },
   "file_extension": ".py",
   "mimetype": "text/x-python",
   "name": "python",
   "nbconvert_exporter": "python",
   "pygments_lexer": "ipython3",
   "version": "3.6.9"
  },
  "metadata": {
   "interpreter": {
    "hash": "d1fca8d20300d410c8f6acb40a2d9646a273de74113c44fe1a7d9f677162ff7e"
   }
  }
 },
 "nbformat": 4,
 "nbformat_minor": 4
}
