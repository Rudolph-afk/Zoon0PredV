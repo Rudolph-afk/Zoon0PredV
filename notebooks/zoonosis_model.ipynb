{
 "cells": [
  {
   "cell_type": "markdown",
   "metadata": {},
   "source": [
    "# Description"
   ]
  },
  {
   "cell_type": "markdown",
   "metadata": {},
   "source": []
  },
  {
   "cell_type": "markdown",
   "metadata": {},
   "source": [
    "## Packages"
   ]
  },
  {
   "cell_type": "code",
   "execution_count": 1,
   "metadata": {},
   "outputs": [],
   "source": [
    "import os\n",
    "import tensorflow as tf\n",
    "from tensorflow import keras\n",
    "from tensorflow.keras import backend\n",
    "from tensorflow.keras.preprocessing.image import ImageDataGenerator\n",
    "from tensorflow.keras.callbacks import CSVLogger, ModelCheckpoint, ReduceLROnPlateau\n",
    "from tensorflow.python.keras.utils import metrics_utils\n",
    "from tensorflow.python.keras.utils.generic_utils import to_list\n",
    "from tensorflow.keras.models import save_model\n",
    "from tensorflow.keras.utils import plot_model\n",
    "from tensorflow.keras.metrics import Recall, Precision, BinaryAccuracy, FalsePositives, \\\n",
    "                                    TruePositives, TrueNegatives, FalseNegatives, AUC, Metric\n",
    "\n",
    "tf.get_logger().setLevel('ERROR')"
   ]
  },
  {
   "cell_type": "markdown",
   "metadata": {},
   "source": [
    "## Set random seed\n",
    "\n",
    "Still having some issues... seeding is not applied somehow"
   ]
  },
  {
   "cell_type": "code",
   "execution_count": 2,
   "metadata": {},
   "outputs": [],
   "source": [
    "# seed(20192020)\n",
    "# set_seed(20192020)"
   ]
  },
  {
   "cell_type": "markdown",
   "metadata": {},
   "source": [
    "## Activate GPU devices"
   ]
  },
  {
   "cell_type": "code",
   "execution_count": 3,
   "metadata": {},
   "outputs": [
    {
     "name": "stdout",
     "output_type": "stream",
     "text": [
      "Tensorflow (2.6.0) recognises 1 GPU(s)\n",
      "Enabling GPU memory growth\n"
     ]
    }
   ],
   "source": [
    "# Set GPU usage and memory growth\n",
    "physical_devices = tf.config.experimental.list_physical_devices('GPU')\n",
    "print(f\"Tensorflow ({tf.__version__}) recognises {len(physical_devices)} GPU(s)\\nEnabling GPU memory growth\")\n",
    "for device in physical_devices:\n",
    "    tf.config.experimental.set_memory_growth(device, enable=True) "
   ]
  },
  {
   "cell_type": "markdown",
   "metadata": {},
   "source": [
    "### Activate distribute strategy to distribute GPU computations across available GPUs"
   ]
  },
  {
   "cell_type": "code",
   "execution_count": 4,
   "metadata": {},
   "outputs": [],
   "source": [
    "mirrored_strategy = tf.distribute.MirroredStrategy()"
   ]
  },
  {
   "cell_type": "markdown",
   "metadata": {},
   "source": [
    "## Chaos game representation\n",
    "\n",
    "This is an example of the CGR images which the model will be training on.\n",
    "\n",
    "<!-- ![CGR represention of virus protein sequences](./plots.png) -->\n",
    "<img src=./plots.png width=600 height=500>"
   ]
  },
  {
   "cell_type": "markdown",
   "metadata": {},
   "source": [
    "## Data loading"
   ]
  },
  {
   "cell_type": "markdown",
   "metadata": {},
   "source": [
    "### Using keras image data generator"
   ]
  },
  {
   "cell_type": "code",
   "execution_count": 5,
   "metadata": {},
   "outputs": [
    {
     "name": "stdout",
     "output_type": "stream",
     "text": [
      "Found 65753 images belonging to 2 classes.\n",
      "Found 16437 images belonging to 2 classes.\n",
      "Found 20548 images belonging to 2 classes.\n"
     ]
    }
   ],
   "source": [
    "# directories = [os.path.join('../../pipeline-output/ZoonosisData', dtry) for dtry in ['train', 'test']]\n",
    "directories = [os.path.join('/scratch3/users/rserage/ZoonosisData', dtry) for dtry in ['train', 'test']]\n",
    "\n",
    "BATCH_SIZE = 64\n",
    "\n",
    "TARGET_SIZE = (128,128)\n",
    "\n",
    "test_data_generator = ImageDataGenerator(rescale=1./255) # Specifically for test data\n",
    "\n",
    "train_val_data_generator = ImageDataGenerator(rescale=1./255, validation_split=0.2) # For training and validation split\n",
    "\n",
    "train_data_iterator = train_val_data_generator.flow_from_directory(directories[0], \n",
    "                                              target_size=TARGET_SIZE,\n",
    "                                              color_mode='grayscale', \n",
    "                                              class_mode='binary',\n",
    "                                              classes=['human-false', 'human-true'],\n",
    "                                              batch_size=BATCH_SIZE,\n",
    "                                              # seed=19980603,\n",
    "                                              subset='training') # Specifies subset, ignored in test\n",
    "\n",
    "validation_data_iterator = train_val_data_generator.flow_from_directory(directories[0], \n",
    "                                              target_size=TARGET_SIZE,\n",
    "                                              color_mode='grayscale', \n",
    "                                              class_mode='binary',\n",
    "                                              classes=['human-false', 'human-true'],\n",
    "                                              batch_size=BATCH_SIZE,\n",
    "                                              # seed=19980603,\n",
    "                                              subset='validation')\n",
    "\n",
    "test_data_iterator = test_data_generator.flow_from_directory(directories[1], \n",
    "                                              target_size=TARGET_SIZE,\n",
    "                                              color_mode='grayscale', \n",
    "                                              class_mode='binary', shuffle=False,\n",
    "                                              classes=['human-false', 'human-true'],\n",
    "                                              batch_size=BATCH_SIZE,\n",
    "                                              # seed=19980603\n",
    "                                                            )"
   ]
  },
  {
   "cell_type": "code",
   "execution_count": 6,
   "metadata": {},
   "outputs": [
    {
     "data": {
      "text/plain": [
       "1027.390625"
      ]
     },
     "execution_count": 6,
     "metadata": {},
     "output_type": "execute_result"
    }
   ],
   "source": [
    "65753/64"
   ]
  },
  {
   "cell_type": "code",
   "execution_count": 7,
   "metadata": {},
   "outputs": [
    {
     "data": {
      "text/plain": [
       "256.828125"
      ]
     },
     "execution_count": 7,
     "metadata": {},
     "output_type": "execute_result"
    }
   ],
   "source": [
    "16437/64"
   ]
  },
  {
   "cell_type": "code",
   "execution_count": 8,
   "metadata": {},
   "outputs": [
    {
     "data": {
      "text/plain": [
       "321.0625"
      ]
     },
     "execution_count": 8,
     "metadata": {},
     "output_type": "execute_result"
    }
   ],
   "source": [
    "20548/64"
   ]
  },
  {
   "cell_type": "markdown",
   "metadata": {},
   "source": [
    "## Model building, compilation and training\n",
    "#### Loads model if it exists"
   ]
  },
  {
   "cell_type": "markdown",
   "metadata": {},
   "source": [
    "#### Custom metrics (MCC)"
   ]
  },
  {
   "cell_type": "code",
   "execution_count": 9,
   "metadata": {},
   "outputs": [],
   "source": [
    "class MatthewsCorrelationCoefficient(Metric):\n",
    "    \"\"\"\n",
    "    MCC = (TP * TN) - (FP * FN) /\n",
    "          ((TP + FP) * (TP + FN) * (TN + FP ) * (TN + FN))^(1/2)\n",
    "    Args:\n",
    "        num_classes : Number of unique classes in the dataset.\n",
    "        name: (Optional) String name of the metric instance.\n",
    "        dtype: (Optional) Data type of the metric result.\n",
    "    Usage:\n",
    "    \"\"\"\n",
    "    def __init__(self,thresholds=None, top_k=None, class_id=None, name=None, dtype=None):\n",
    "        super(MatthewsCorrelationCoefficient, self).__init__(name=name, dtype=dtype)\n",
    "        self.init_thresholds = thresholds\n",
    "        self.top_k = top_k\n",
    "        self.class_id = class_id\n",
    "\n",
    "        default_threshold = 0.7 if top_k is None else metrics_utils.NEG_INF\n",
    "        self.thresholds = metrics_utils.parse_init_thresholds(\n",
    "            thresholds, default_threshold=default_threshold)\n",
    "        self._thresholds_distributed_evenly = (\n",
    "            metrics_utils.is_evenly_distributed_thresholds(self.thresholds))\n",
    "        self.true_positives = self.add_weight(\n",
    "            'true_positives',\n",
    "            shape=(len(self.thresholds),),\n",
    "            initializer=tf.compat.v1.zeros_initializer)\n",
    "        self.false_positives = self.add_weight(\n",
    "            'false_positives',\n",
    "            shape=(len(self.thresholds),),\n",
    "            initializer=tf.compat.v1.zeros_initializer)\n",
    "        self.true_negatives = self.add_weight(\n",
    "            'true_negatives',\n",
    "            shape=(len(self.thresholds),),\n",
    "            initializer=tf.compat.v1.zeros_initializer)\n",
    "        self.false_negatives = self.add_weight(\n",
    "            'false_negatives',\n",
    "            shape=(len(self.thresholds),),\n",
    "            initializer=tf.compat.v1.zeros_initializer)\n",
    "\n",
    "    def update_state(self, y_true, y_pred, sample_weight=None):\n",
    "        return metrics_utils.update_confusion_matrix_variables(\n",
    "            {\n",
    "                metrics_utils.ConfusionMatrix.TRUE_POSITIVES: self.true_positives,\n",
    "                metrics_utils.ConfusionMatrix.FALSE_POSITIVES: self.false_positives,\n",
    "                metrics_utils.ConfusionMatrix.TRUE_NEGATIVES: self.true_negatives,\n",
    "                metrics_utils.ConfusionMatrix.FALSE_NEGATIVES: self.false_negatives,\n",
    "            },\n",
    "            y_true,\n",
    "            y_pred,\n",
    "            thresholds=self.thresholds,\n",
    "            thresholds_distributed_evenly=self._thresholds_distributed_evenly,\n",
    "            top_k=self.top_k,\n",
    "            class_id=self.class_id,\n",
    "            sample_weight=sample_weight)\n",
    "\n",
    "    def result(self):\n",
    "        \"\"\"\n",
    "        MCC = (TP * TN) - (FP * FN) /\n",
    "            ((TP + FP) * (TP + FN) * (TN + FP ) * (TN + FN))^(1/2)\n",
    "        \"\"\"\n",
    "        A = tf.math.subtract(\n",
    "            tf.math.multiply(self.true_positives, self.true_negatives),\n",
    "            tf.math.multiply(self.false_positives, self.false_negatives)) # (TP * TN) - (FP * FN)\n",
    "\n",
    "        B = tf.math.multiply(tf.math.add(self.true_positives, self.false_positives),\n",
    "                            tf.math.add(self.true_positives, self.false_negatives)) # (TP + FP) * (TP + FN)\n",
    "        C = tf.math.multiply(tf.math.add(self.true_negatives, self.false_positives),\n",
    "                            tf.math.add(self.true_negatives, self.false_negatives)) # (TN + FP ) * (TN + FN)\n",
    "\n",
    "        D = tf.math.sqrt(tf.math.multiply(B, C))\n",
    "\n",
    "\n",
    "        result = tf.math.divide_no_nan(A, D)\n",
    "\n",
    "        return result[0] if len(self.thresholds) == 1 else result\n",
    "\n",
    "    def reset_state(self):\n",
    "        num_thresholds = len(to_list(self.thresholds))\n",
    "        backend.batch_set_value([(v, np.zeros((num_thresholds,)))\n",
    "                                 for v in (self.true_positives,\n",
    "                                           self.false_positives,\n",
    "                                           self.true_negatives,\n",
    "                                           self.false_negatives)])\n",
    "\n",
    "    def get_config(self):\n",
    "        config = {\n",
    "            'thresholds': self.init_thresholds,\n",
    "            'top_k': self.top_k,\n",
    "            'class_id': self.class_id\n",
    "        }\n",
    "        base_config = super(MatthewsCorrelationCoefficient, self).get_config()\n",
    "        return dict(list(base_config.items()) + list(config.items()))"
   ]
  },
  {
   "cell_type": "markdown",
   "metadata": {
    "tags": []
   },
   "source": [
    "#### Callback functions"
   ]
  },
  {
   "cell_type": "code",
   "execution_count": 10,
   "metadata": {},
   "outputs": [],
   "source": [
    "logs = CSVLogger('logs.csv')\n",
    "\n",
    "model_checkpoint_callback = ModelCheckpoint(\n",
    "    filepath='check.ckpt',\n",
    "    save_weights_only=True,\n",
    "    monitor='MCC',\n",
    "    mode='max',\n",
    "    save_best_only=True\n",
    ")\n",
    "\n",
    "reduce_lr = ReduceLROnPlateau(\n",
    "    monitor='val_AUC',\n",
    "    factor=0.2, patience=3,\n",
    "    min_lr=0.001\n",
    ")"
   ]
  },
  {
   "cell_type": "markdown",
   "metadata": {
    "tags": []
   },
   "source": [
    "### Model training\n",
    "\n",
    "The model trains while saving the best model to a checkpoint with every epoch. Training logs are also generated as a csv file."
   ]
  },
  {
   "cell_type": "code",
   "execution_count": null,
   "metadata": {
    "scrolled": true,
    "tags": []
   },
   "outputs": [
    {
     "name": "stdout",
     "output_type": "stream",
     "text": [
      "Epoch 1/15\n",
      " 172/1028 [====>.........................] - ETA: 30:00 - loss: 1.7941 - binary_accuracy: 0.3875 - Recall: 0.0550 - Precision: 0.6512 - FP: 203.0000 - TP: 379.0000 - TN: 3871.0000 - FN: 6516.0000 - MCC: 0.0111 - AUC: 0.5263"
     ]
    }
   ],
   "source": [
    "thresh = 0.8\n",
    "\n",
    "with mirrored_strategy.scope():\n",
    "    \n",
    "    model = keras.models.Sequential([\n",
    "        # keras.layers.BatchNormalization(input_shape=(300, 300, 1)),\n",
    "        # keras.layers.Conv2D(128, kernel_size=(3,3),\n",
    "        #                     activation='relu', padding='same',\n",
    "        #                     bias_regularizer=tf.keras.regularizers.l2()),\n",
    "        # keras.layers.MaxPool2D(pool_size=(2,2), padding='same'),\n",
    "        # keras.layers.BatchNormalization(),\n",
    "        keras.layers.Conv2D(48, input_shape=(128,128,1), kernel_size=(3,3), activation='relu', padding='same',\n",
    "                            bias_regularizer=tf.keras.regularizers.l2()),\n",
    "        keras.layers.MaxPool2D(pool_size=(2,2), padding='same'),\n",
    "        keras.layers.BatchNormalization(),\n",
    "        keras.layers.Conv2D(96, kernel_size=(3,3), activation='relu', padding='same',\n",
    "                            bias_regularizer=tf.keras.regularizers.l2()),\n",
    "        keras.layers.MaxPool2D(pool_size=(2,2), padding='same'),\n",
    "        # keras.layers.BatchNormalization(),\n",
    "        # keras.layers.Conv2D(1024, kernel_size=(3,3), activation='relu', padding='same',\n",
    "        #                     bias_regularizer=tf.keras.regularizers.l2()),\n",
    "        # keras.layers.MaxPool2D(pool_size=(2,2), padding='same'),\n",
    "        # keras.layers.BatchNormalization(),\n",
    "        # keras.layers.Dropout(0.4),\n",
    "        keras.layers.Flatten(),\n",
    "        # keras.layers.Dense(units=512, activation='relu',\n",
    "        #                    bias_regularizer=tf.keras.regularizers.l2()),\n",
    "        # keras.layers.Dropout(0.4),\n",
    "        # keras.layers.Dense(units=1024, activation='relu',\n",
    "        #                    bias_regularizer=tf.keras.regularizers.l2()),\n",
    "        # keras.layers.Dropout(0.4),\n",
    "        keras.layers.Dense(1, activation='sigmoid',\n",
    "                           bias_regularizer=tf.keras.regularizers.l2())\n",
    "    ])\n",
    "    recall = Recall(name = \"Recall\", thresholds=thresh)\n",
    "    precision = Precision(name = \"Precision\", thresholds=thresh)\n",
    "    accuracy = BinaryAccuracy(threshold=thresh)\n",
    "    false_positives = FalsePositives(name=\"FP\",thresholds=thresh)\n",
    "    true_positives = TruePositives(name=\"TP\", thresholds=thresh)\n",
    "    true_negatives = TrueNegatives(name=\"TN\", thresholds=thresh)\n",
    "    false_negatives = FalseNegatives(name=\"FN\", thresholds=thresh)\n",
    "    methewsCC = MatthewsCorrelationCoefficient(name=\"MCC\", thresholds=thresh)\n",
    "    auc_roc = AUC(name='AUC')\n",
    "\n",
    "\n",
    "\n",
    "model.compile(\n",
    "    loss='binary_crossentropy',\n",
    "    optimizer=keras.optimizers.Adam(learning_rate=0.01),\n",
    "    metrics=[\n",
    "        accuracy,\n",
    "        recall,\n",
    "        precision,\n",
    "        false_positives,\n",
    "        true_positives,\n",
    "        true_negatives,\n",
    "        false_negatives,\n",
    "        methewsCC,\n",
    "        auc_roc\n",
    "    ])\n",
    "\n",
    "history = model.fit(\n",
    "    train_data_iterator, \n",
    "    steps_per_epoch=1028,\n",
    "    validation_data=validation_data_iterator, \n",
    "    validation_steps=257,\n",
    "    epochs=15,\n",
    "    verbose=1,\n",
    "    # use_multiprocessing=True,\n",
    "    # shuffle=True,\n",
    "#     class_weight={0:4.11808002, 1:0.56909742},\n",
    "    callbacks=[\n",
    "        logs,\n",
    "        model_checkpoint_callback,\n",
    "        reduce_lr\n",
    "        ])"
   ]
  },
  {
   "cell_type": "markdown",
   "metadata": {},
   "source": [
    "## Save best model\n",
    "\n",
    "Useful in the script but not necessary in this the notebook context"
   ]
  },
  {
   "cell_type": "code",
   "execution_count": null,
   "metadata": {},
   "outputs": [],
   "source": [
    "model.load_weights('check.ckpt')\n",
    "save_model(model, 'model')"
   ]
  },
  {
   "cell_type": "code",
   "execution_count": 13,
   "metadata": {
    "scrolled": true,
    "tags": []
   },
   "outputs": [
    {
     "data": {
      "image/png": "[encoded data removed]",
      "text/plain": [
       "<IPython.core.display.Image object>"
      ]
     },
     "execution_count": 13,
     "metadata": {},
     "output_type": "execute_result"
    }
   ],
   "source": [
    "plot_model(model, \"Zoonopred.png\")"
   ]
  },
  {
   "cell_type": "markdown",
   "metadata": {},
   "source": [
    "## Model evaluation"
   ]
  },
  {
   "cell_type": "code",
   "execution_count": 14,
   "metadata": {},
   "outputs": [
    {
     "ename": "NameError",
     "evalue": "name 'np' is not defined",
     "output_type": "error",
     "traceback": [
      "\u001b[0;31m---------------------------------------------------------------------------\u001b[0m",
      "\u001b[0;31mNameError\u001b[0m                                 Traceback (most recent call last)",
      "\u001b[0;32m<ipython-input-14-694c72b46bc8>\u001b[0m in \u001b[0;36m<module>\u001b[0;34m\u001b[0m\n\u001b[0;32m----> 1\u001b[0;31m \u001b[0mmodel\u001b[0m\u001b[0;34m.\u001b[0m\u001b[0mevaluate\u001b[0m\u001b[0;34m(\u001b[0m\u001b[0mtest_data_iterator\u001b[0m\u001b[0;34m,\u001b[0m \u001b[0mreturn_dict\u001b[0m\u001b[0;34m=\u001b[0m\u001b[0;32mTrue\u001b[0m\u001b[0;34m,\u001b[0m \u001b[0msteps\u001b[0m\u001b[0;34m=\u001b[0m\u001b[0;36m321\u001b[0m\u001b[0;34m)\u001b[0m\u001b[0;34m\u001b[0m\u001b[0;34m\u001b[0m\u001b[0m\n\u001b[0m",
      "\u001b[0;32m/usr/local/lib/python3.6/dist-packages/keras/engine/training.py\u001b[0m in \u001b[0;36mevaluate\u001b[0;34m(self, x, y, batch_size, verbose, sample_weight, steps, callbacks, max_queue_size, workers, use_multiprocessing, return_dict, **kwargs)\u001b[0m\n\u001b[1;32m   1494\u001b[0m       \u001b[0mcallbacks\u001b[0m\u001b[0;34m.\u001b[0m\u001b[0mon_test_begin\u001b[0m\u001b[0;34m(\u001b[0m\u001b[0;34m)\u001b[0m\u001b[0;34m\u001b[0m\u001b[0;34m\u001b[0m\u001b[0m\n\u001b[1;32m   1495\u001b[0m       \u001b[0;32mfor\u001b[0m \u001b[0m_\u001b[0m\u001b[0;34m,\u001b[0m \u001b[0miterator\u001b[0m \u001b[0;32min\u001b[0m \u001b[0mdata_handler\u001b[0m\u001b[0;34m.\u001b[0m\u001b[0menumerate_epochs\u001b[0m\u001b[0;34m(\u001b[0m\u001b[0;34m)\u001b[0m\u001b[0;34m:\u001b[0m  \u001b[0;31m# Single epoch.\u001b[0m\u001b[0;34m\u001b[0m\u001b[0;34m\u001b[0m\u001b[0m\n\u001b[0;32m-> 1496\u001b[0;31m         \u001b[0mself\u001b[0m\u001b[0;34m.\u001b[0m\u001b[0mreset_metrics\u001b[0m\u001b[0;34m(\u001b[0m\u001b[0;34m)\u001b[0m\u001b[0;34m\u001b[0m\u001b[0;34m\u001b[0m\u001b[0m\n\u001b[0m\u001b[1;32m   1497\u001b[0m         \u001b[0;32mwith\u001b[0m \u001b[0mdata_handler\u001b[0m\u001b[0;34m.\u001b[0m\u001b[0mcatch_stop_iteration\u001b[0m\u001b[0;34m(\u001b[0m\u001b[0;34m)\u001b[0m\u001b[0;34m:\u001b[0m\u001b[0;34m\u001b[0m\u001b[0;34m\u001b[0m\u001b[0m\n\u001b[1;32m   1498\u001b[0m           \u001b[0;32mfor\u001b[0m \u001b[0mstep\u001b[0m \u001b[0;32min\u001b[0m \u001b[0mdata_handler\u001b[0m\u001b[0;34m.\u001b[0m\u001b[0msteps\u001b[0m\u001b[0;34m(\u001b[0m\u001b[0;34m)\u001b[0m\u001b[0;34m:\u001b[0m\u001b[0;34m\u001b[0m\u001b[0;34m\u001b[0m\u001b[0m\n",
      "\u001b[0;32m/usr/local/lib/python3.6/dist-packages/keras/engine/training.py\u001b[0m in \u001b[0;36mreset_metrics\u001b[0;34m(self)\u001b[0m\n\u001b[1;32m   1796\u001b[0m     \"\"\"\n\u001b[1;32m   1797\u001b[0m     \u001b[0;32mfor\u001b[0m \u001b[0mm\u001b[0m \u001b[0;32min\u001b[0m \u001b[0mself\u001b[0m\u001b[0;34m.\u001b[0m\u001b[0mmetrics\u001b[0m\u001b[0;34m:\u001b[0m\u001b[0;34m\u001b[0m\u001b[0;34m\u001b[0m\u001b[0m\n\u001b[0;32m-> 1798\u001b[0;31m       \u001b[0mm\u001b[0m\u001b[0;34m.\u001b[0m\u001b[0mreset_state\u001b[0m\u001b[0;34m(\u001b[0m\u001b[0;34m)\u001b[0m\u001b[0;34m\u001b[0m\u001b[0;34m\u001b[0m\u001b[0m\n\u001b[0m\u001b[1;32m   1799\u001b[0m \u001b[0;34m\u001b[0m\u001b[0m\n\u001b[1;32m   1800\u001b[0m   def train_on_batch(self,\n",
      "\u001b[0;32m<ipython-input-9-c8bdef588ee8>\u001b[0m in \u001b[0;36mreset_state\u001b[0;34m(self)\u001b[0m\n\u001b[1;32m     80\u001b[0m                                            \u001b[0mself\u001b[0m\u001b[0;34m.\u001b[0m\u001b[0mfalse_positives\u001b[0m\u001b[0;34m,\u001b[0m\u001b[0;34m\u001b[0m\u001b[0;34m\u001b[0m\u001b[0m\n\u001b[1;32m     81\u001b[0m                                            \u001b[0mself\u001b[0m\u001b[0;34m.\u001b[0m\u001b[0mtrue_negatives\u001b[0m\u001b[0;34m,\u001b[0m\u001b[0;34m\u001b[0m\u001b[0;34m\u001b[0m\u001b[0m\n\u001b[0;32m---> 82\u001b[0;31m                                            self.false_negatives)])\n\u001b[0m\u001b[1;32m     83\u001b[0m \u001b[0;34m\u001b[0m\u001b[0m\n\u001b[1;32m     84\u001b[0m     \u001b[0;32mdef\u001b[0m \u001b[0mget_config\u001b[0m\u001b[0;34m(\u001b[0m\u001b[0mself\u001b[0m\u001b[0;34m)\u001b[0m\u001b[0;34m:\u001b[0m\u001b[0;34m\u001b[0m\u001b[0;34m\u001b[0m\u001b[0m\n",
      "\u001b[0;32m<ipython-input-9-c8bdef588ee8>\u001b[0m in \u001b[0;36m<listcomp>\u001b[0;34m(.0)\u001b[0m\n\u001b[1;32m     77\u001b[0m         \u001b[0mnum_thresholds\u001b[0m \u001b[0;34m=\u001b[0m \u001b[0mlen\u001b[0m\u001b[0;34m(\u001b[0m\u001b[0mto_list\u001b[0m\u001b[0;34m(\u001b[0m\u001b[0mself\u001b[0m\u001b[0;34m.\u001b[0m\u001b[0mthresholds\u001b[0m\u001b[0;34m)\u001b[0m\u001b[0;34m)\u001b[0m\u001b[0;34m\u001b[0m\u001b[0;34m\u001b[0m\u001b[0m\n\u001b[1;32m     78\u001b[0m         backend.batch_set_value([(v, np.zeros((num_thresholds,)))\n\u001b[0;32m---> 79\u001b[0;31m                                  for v in (self.true_positives,\n\u001b[0m\u001b[1;32m     80\u001b[0m                                            \u001b[0mself\u001b[0m\u001b[0;34m.\u001b[0m\u001b[0mfalse_positives\u001b[0m\u001b[0;34m,\u001b[0m\u001b[0;34m\u001b[0m\u001b[0;34m\u001b[0m\u001b[0m\n\u001b[1;32m     81\u001b[0m                                            \u001b[0mself\u001b[0m\u001b[0;34m.\u001b[0m\u001b[0mtrue_negatives\u001b[0m\u001b[0;34m,\u001b[0m\u001b[0;34m\u001b[0m\u001b[0;34m\u001b[0m\u001b[0m\n",
      "\u001b[0;31mNameError\u001b[0m: name 'np' is not defined"
     ]
    }
   ],
   "source": [
    "model.evaluate(test_data_iterator, return_dict=True, steps=321)"
   ]
  },
  {
   "cell_type": "code",
   "execution_count": 15,
   "metadata": {},
   "outputs": [
    {
     "ename": "NameError",
     "evalue": "name 'history' is not defined",
     "output_type": "error",
     "traceback": [
      "\u001b[0;31m---------------------------------------------------------------------------\u001b[0m",
      "\u001b[0;31mNameError\u001b[0m                                 Traceback (most recent call last)",
      "\u001b[0;32m<ipython-input-15-9b49a96a85ac>\u001b[0m in \u001b[0;36m<module>\u001b[0;34m\u001b[0m\n\u001b[0;32m----> 1\u001b[0;31m \u001b[0mhistory\u001b[0m\u001b[0;34m.\u001b[0m\u001b[0mparams\u001b[0m\u001b[0;34m\u001b[0m\u001b[0;34m\u001b[0m\u001b[0m\n\u001b[0m",
      "\u001b[0;31mNameError\u001b[0m: name 'history' is not defined"
     ]
    }
   ],
   "source": [
    "history.params"
   ]
  },
  {
   "cell_type": "code",
   "execution_count": 23,
   "metadata": {},
   "outputs": [
    {
     "data": {
      "text/plain": [
       "dict_keys(['loss', 'binary_accuracy', 'Recall', 'Precision', 'FP', 'TP', 'TN', 'FN', 'MCC', 'AUC', 'val_loss', 'val_binary_accuracy', 'val_Recall', 'val_Precision', 'val_FP', 'val_TP', 'val_TN', 'val_FN', 'val_MCC', 'val_AUC', 'lr'])"
      ]
     },
     "execution_count": 23,
     "metadata": {},
     "output_type": "execute_result"
    }
   ],
   "source": [
    "history.history.keys()"
   ]
  },
  {
   "cell_type": "code",
   "execution_count": null,
   "metadata": {},
   "outputs": [],
   "source": []
  },
  {
   "cell_type": "markdown",
   "metadata": {
    "tags": []
   },
   "source": [
    "### Model training with cross validation"
   ]
  },
  {
   "cell_type": "code",
   "execution_count": null,
   "metadata": {},
   "outputs": [],
   "source": [
    "# from imblearn.over_sampling import RandomOverSampler\n",
    "# from imblearn.under_sampling import RandomUnderSampler\n",
    "# from sklearn.model_selection import cross_val_score\n",
    "# from sklearn.model_selection import RepeatedStratifiedKFold\n",
    "# from sklearn.utils import class_weight\n",
    "# import numpy as np"
   ]
  },
  {
   "cell_type": "code",
   "execution_count": 9,
   "metadata": {},
   "outputs": [],
   "source": [
    "# os.getcwd()"
   ]
  },
  {
   "cell_type": "code",
   "execution_count": 10,
   "metadata": {},
   "outputs": [],
   "source": [
    "# # os.chdir('/home/campbell/Documents/Rudolph/data/')\n",
    "# dataset_directory = '/home/campbell/Documents/Rudolph/data/MetazoaZoonosisData/train'\n",
    "# data_subdirectories = ['human-false', 'human-true']"
   ]
  },
  {
   "cell_type": "code",
   "execution_count": 11,
   "metadata": {
    "tags": []
   },
   "outputs": [],
   "source": [
    "# X, y = createImageData(data_dir=dataset_directory, subdir=data_subdirectories)\n",
    "\n",
    "# print(X.shape)\n",
    "# print(y.shape)"
   ]
  },
  {
   "cell_type": "code",
   "execution_count": 12,
   "metadata": {},
   "outputs": [],
   "source": [
    "# seed = 960505\n",
    "# def balanced_flow_from_directory(flow_from_directory):\n",
    "#     rus = RandomUnderSampler(sampling_strategy=0.5, random_state=seed)\n",
    "# #     X_sample, y_sample = rus.fit_resample(X, y)\n",
    "#     for x, y in flow_from_directory.get(2):\n",
    "#          yield rus.fit_resample(x, y)\n",
    "\n",
    "# train_data = balanced_flow_from_directory(train_data_iterator)"
   ]
  },
  {
   "cell_type": "code",
   "execution_count": 16,
   "metadata": {},
   "outputs": [],
   "source": [
    "# model_checkpoint = 'check.ckpt'\n",
    "# # logs = 'logs.csv'\n",
    "# model_checkpoint_callback = ModelCheckpoint(\n",
    "#     filepath=model_checkpoint,\n",
    "#     save_weights_only=True,\n",
    "#     monitor='val_accuracy',\n",
    "#     mode='max',\n",
    "#     save_best_only=True)\n",
    "\n",
    "# seed = 960505\n",
    "\n",
    "# # Evaluating a model with random oversampling and undersampling\n",
    "# ## Resample data\n",
    "# # Sampling strategy resamples dataset to a 2:1 ratio of the majority class\n",
    "# # rus = RandomUnderSampler(sampling_strategy=0.5, random_state=seed)\n",
    "# # X_sample, y_sample = rus.fit_resample(X, y)\n",
    "\n",
    "# # print(X_sample.shape)\n",
    "# # print(y_sample.shape)\n",
    "\n",
    "# ## Define cross validator\n",
    "# cv = RepeatedStratifiedKFold(n_splits=5, random_state=seed)\n",
    "\n",
    "# ## Define model\n",
    "# model = ConvNetModel()\n",
    "\n",
    "# # parameters passed to fit method\n",
    "# fit_params = {'shuffle':True, 'epochs':100,\n",
    "#               'verbose':0, 'class_weight':class_weights,\n",
    "#               'callbacks':[CSVLogger('logs.csv'), model_checkpoint_callback]}\n",
    "\n",
    "# # Train model with 5-fold cross validation\n",
    "# scores = cross_val_score(model,\n",
    "#                          train_data_iterator,\n",
    "#                          scoring='f1',\n",
    "#                          cv=cv, #n_jobs=1,\n",
    "#                          fit_params=fit_params)\n",
    "\n",
    "# score = np.mean(scores)\n",
    "# print('F1 Score: %.3f' % score)"
   ]
  },
  {
   "cell_type": "code",
   "execution_count": null,
   "metadata": {},
   "outputs": [],
   "source": [
    "# import cv2\n",
    "\n",
    "# def img_proc(image):\n",
    "#     img_mtx = cv2.subtract(255, cv2.imread(image, cv2.IMREAD_GRAYSCALE))\n",
    "#     save_as = os.path.join(path, image)\n",
    "#     cv2.imwrite(save_as, img_mtx)\n",
    "\n",
    "# from concurrent.futures import ThreadPoolExecutor\n",
    "\n",
    "# images_list = []\n",
    "\n",
    "# for directory in dirs:\n",
    "#     dir_items = os.listdir(directory)\n",
    "#     dir_items_full_name = [os.path.join(directory, item) for item in dir_items]\n",
    "#     images_list.append(dir_items_full_name)\n",
    "\n",
    "# with ThreadPoolExecutor() as executor:\n",
    "#     list(tqdm(executor.map(img_proc, images_list), total=len(images_list)))"
   ]
  }
 ],
 "metadata": {
  "kernelspec": {
   "display_name": "Zoon0PredV",
   "language": "python",
   "name": "tensorflow"
  },
  "language_info": {
   "codemirror_mode": {
    "name": "ipython",
    "version": 3
   },
   "file_extension": ".py",
   "mimetype": "text/x-python",
   "name": "python",
   "nbconvert_exporter": "python",
   "pygments_lexer": "ipython3",
   "version": "3.6.9"
  },
  "metadata": {
   "interpreter": {
    "hash": "d1fca8d20300d410c8f6acb40a2d9646a273de74113c44fe1a7d9f677162ff7e"
   }
  }
 },
 "nbformat": 4,
 "nbformat_minor": 4
}
